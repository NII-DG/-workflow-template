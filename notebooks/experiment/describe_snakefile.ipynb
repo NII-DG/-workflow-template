{
 "cells": [
  {
   "cell_type": "markdown",
   "metadata": {},
   "source": [
    "# Snakefileに実験手順を記述する\n",
    "実験パッケージの再現性を確保するために、実験内の処理の依存関係などの実験の実行方法をSnakefile（タスクランナー）に記述する支援をします。\n",
    "\n",
    "Jupyter Notebookの操作方法については、[こちら](https://support.rdm.nii.ac.jp/usermanual/60/#jp_operation)をご参照ください。<br>\n",
    "共通メニューについては、[こちら](https://support.rdm.nii.ac.jp/usermanual/60/#jp_menu)をご参照ください。<br>\n",
    "いずれも新規タブで開きます。"
   ]
  },
  {
   "cell_type": "markdown",
   "metadata": {},
   "source": [
    "## 共通メニュー"
   ]
  },
  {
   "cell_type": "code",
   "execution_count": null,
   "metadata": {
    "disable_pins": true
   },
   "outputs": [],
   "source": [
    "import sys\n",
    "sys.path.append(\"../..\")\n",
    "from nb_libs.utils.form import menu\n",
    "menu.dg_menu(type='experiment')"
   ]
  },
  {
   "cell_type": "markdown",
   "metadata": {},
   "source": [
    "## 1. Snakefileに実験手順を記述\n",
    "Snakefileに実験の実行方法を記述します。"
   ]
  },
  {
   "cell_type": "markdown",
   "metadata": {},
   "source": [
    "### 1-1. 記述準備\n",
    "記述の準備としてSnakefile編集画面とSnakefileの記述マニュアルへ遷移するボタンを表示します。<br>\n",
    "表示されたボタンをクリックしてください。下記の画面が新規タブで開きます。<br>\n",
    "- 実験パッケージのSnakefileファイル編集画面\n",
    "- Snakefileの記述マニュアル"
   ]
  },
  {
   "cell_type": "code",
   "execution_count": null,
   "metadata": {},
   "outputs": [],
   "source": [
    "import sys\n",
    "sys.path.append('../..')\n",
    "from IPython.display import display, Javascript\n",
    "from nb_libs.experiment.describe_snakefile import create_ref_snakefile, create_ref_how_to_make_snakefile\n",
    "\n",
    "create_ref_snakefile()\n",
    "create_ref_how_to_make_snakefile()\n",
    "display(Javascript('IPython.notebook.save_checkpoint();'))"
   ]
  },
  {
   "cell_type": "markdown",
   "metadata": {},
   "source": [
    "### 1-2. 実験手順を記述\n",
    "Snakefileの記述マニュアルを参照し、Snakefile編集画面で実験の手順を記述します。\n",
    "\n",
    "**記述が完了したら必ずSnakefileファイルを保存してください。**\n",
    "1. 編集画面の「File」をクリックした後、「Save」をクリックして保存します。\n",
    "2. ファイル名の右にチェックマークと「数秒前」が表示され、ファイルが更新されたことを確認してからタブを閉じます。"
   ]
  },
  {
   "cell_type": "markdown",
   "metadata": {},
   "source": [
    "## 2. GIN-forkに実行結果を同期\n",
    "保存したSnakefileをGIN-forkに同期します。\n",
    "\n",
    "`リポジトリ側の変更と競合しました。競合を解決してください。`と表示された場合は、[GIN-forkへの同期の失敗を解消する](../common/conflict_helper.ipynb)を参照して、競合を解消してください。"
   ]
  },
  {
   "cell_type": "code",
   "execution_count": null,
   "metadata": {},
   "outputs": [],
   "source": [
    "import sys\n",
    "sys.path.append('../..')\n",
    "from IPython.display import display, Javascript\n",
    "from nb_libs.experiment.describe_snakefile import sync_snakefile_description\n",
    "\n",
    "is_ok = sync_snakefile_description()\n",
    "display(Javascript('IPython.notebook.save_checkpoint();'))"
   ]
  },
  {
   "cell_type": "markdown",
   "metadata": {},
   "source": [
    "## 3. 実験フロートップページへ\n",
    "実験フロートップページへ遷移するボタンを表示します。"
   ]
  },
  {
   "cell_type": "code",
   "execution_count": null,
   "metadata": {},
   "outputs": [],
   "source": [
    "import sys\n",
    "from IPython.display import display, Javascript\n",
    "sys.path.append('../..')\n",
    "from nb_libs.utils.path import display as link\n",
    "\n",
    "link.exp_top_link()\n",
    "display(Javascript('IPython.notebook.save_checkpoint();'))"
   ]
  }
 ],
 "metadata": {
  "language_info": {
   "name": "python"
  },
  "orig_nbformat": 4
 },
 "nbformat": 4,
 "nbformat_minor": 2
}
