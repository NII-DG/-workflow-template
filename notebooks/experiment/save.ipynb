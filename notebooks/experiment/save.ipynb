{
 "cells": [
  {
   "cell_type": "markdown",
   "metadata": {},
   "source": [
    "# 実験の途中保存\n",
    "現在の実験パッケージの内容をGIN-forkに途中保存します。\n",
    "\n",
    "※ 同期できるのは、実験実行環境に紐づいた実験名の実験パッケージの内容のみです。他の実験パッケージの変更内容は同期されません。\n",
    "\n",
    "Jupyter Notebookの操作方法については、[こちら](https://support.rdm.nii.ac.jp/usermanual/60/#jp_operation)をご参照ください。<br>\n",
    "共通メニューについては、[こちら](https://support.rdm.nii.ac.jp/usermanual/60/#jp_menu)をご参照ください。<br>\n",
    "いずれも新規タブで開きます。"
   ]
  },
  {
   "cell_type": "markdown",
   "metadata": {},
   "source": [
    "## 共通メニュー"
   ]
  },
  {
   "cell_type": "code",
   "execution_count": null,
   "metadata": {},
   "outputs": [],
   "source": []
  },
  {
   "cell_type": "markdown",
   "metadata": {},
   "source": [
    "## 1. 作業ログメッセージの入力\n",
    "実験の作業のログとしてメッセージを登録します。<br>\n",
    "作業ログメッセージを100文字以内で入力してください。入力後、`入力完了`ボタンを押下します。<br>\n",
    "入力した作業ログメッセージはGIN-forkで確認できます。<br>\n",
    "※ 入力値に誤りがある場合、次に進む前にもう一度実行することで訂正ができます。"
   ]
  },
  {
   "cell_type": "code",
   "execution_count": null,
   "metadata": {},
   "outputs": [],
   "source": []
  },
  {
   "cell_type": "markdown",
   "metadata": {
    "heading_collapsed": true
   },
   "source": [
    "## 2. 保存準備\n",
    "実行結果の保存の準備を行います。"
   ]
  },
  {
   "cell_type": "markdown",
   "metadata": {},
   "source": [
    "### 2-1. 実行結果の保存の準備\n",
    "タスクNotebookを保存し、同期の準備を行います。"
   ]
  },
  {
   "cell_type": "code",
   "execution_count": null,
   "metadata": {},
   "outputs": [],
   "source": []
  },
  {
   "cell_type": "markdown",
   "metadata": {},
   "source": [
    "## 3. GIN-forkに実行結果を同期\n",
    "現在の実験パッケージの内容をGIN-forkへと同期します。\n",
    "\n",
    "`リポジトリ側の変更と競合しました。競合を解決してください。`と表示された場合は、[GIN-forkへの同期の失敗を解消する](../common/conflict_helper.ipynb)を参照して、競合を解消してください。\n"
   ]
  },
  {
   "cell_type": "code",
   "execution_count": null,
   "metadata": {},
   "outputs": [],
   "source": []
  },
  {
   "cell_type": "markdown",
   "metadata": {},
   "source": [
    "## 4. 実験フロートップページへ\n",
    "実験フロートップページへ遷移するボタンを表示します。"
   ]
  },
  {
   "cell_type": "code",
   "execution_count": null,
   "metadata": {},
   "outputs": [],
   "source": []
  }
 ],
 "metadata": {
  "language_info": {
   "name": "python"
  },
  "orig_nbformat": 4
 },
 "nbformat": 4,
 "nbformat_minor": 2
}
