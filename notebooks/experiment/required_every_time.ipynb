{
 "cells": [
  {
   "cell_type": "markdown",
   "metadata": {},
   "source": [
    "# 初期セットアップを行う\n",
    "実験フローを利用のするためのセットアップ行います。<br>\n",
    "上から順番に全てのセルを実行してください。\n",
    "\n",
    "Jupyter Notebookの操作方法については、[こちら](https://support.rdm.nii.ac.jp/usermanual/60/#jp_operation)をご参照ください。<br>\n",
    "共通メニューについては、[こちら](https://support.rdm.nii.ac.jp/usermanual/60/#jp_menu)をご参照ください。<br>\n",
    "いずれも新規タブで開きます。"
   ]
  },
  {
   "cell_type": "markdown",
   "metadata": {},
   "source": [
    "## 共通メニュー"
   ]
  },
  {
   "cell_type": "code",
   "execution_count": null,
   "metadata": {},
   "outputs": [],
   "source": []
  },
  {
   "cell_type": "markdown",
   "metadata": {},
   "source": [
    "## 1. 事前準備\n",
    "初期セットアップの事前準備を行います。<br>\n",
    "入力後、`入力完了`ボタンを押下してください。<br>\n",
    "- GIN-forkのユーザー情報：アカウント名、パスワード\n",
    "- 実験パッケージ名\n",
    "- パラメータ実験名（データセット構造(datasetStructure)をfor_parameter選択時に表示）\n",
    "- オプション：テストコードフォルダ作成選択\n",
    "- オプション：Ciツールの利用選択\n",
    "\n",
    "※ 入力値に誤りがある場合、次に進む前に再度セルを度実行することで訂正ができます。"
   ]
  },
  {
   "cell_type": "code",
   "execution_count": null,
   "metadata": {},
   "outputs": [],
   "source": []
  },
  {
   "cell_type": "markdown",
   "metadata": {
    "heading_collapsed": true
   },
   "source": [
    "## 2. 初期セットアップ\n",
    "事前準備で入力した情報で初期セットアップを実行します。全てのセルを実行してください。"
   ]
  },
  {
   "cell_type": "markdown",
   "metadata": {},
   "source": [
    "### 2-1. 実験パッケージを作成\n",
    "入力した情報から実験パッケージを作成します。"
   ]
  },
  {
   "cell_type": "code",
   "execution_count": null,
   "metadata": {},
   "outputs": [],
   "source": []
  },
  {
   "cell_type": "markdown",
   "metadata": {},
   "source": [
    "### 2-2. 不要なGIN-forkアクセストークンの削除\n",
    "初期セットアップ用のトークンを削除します。"
   ]
  },
  {
   "cell_type": "code",
   "execution_count": null,
   "metadata": {},
   "outputs": [],
   "source": []
  },
  {
   "cell_type": "markdown",
   "metadata": {},
   "source": [
    "### 2-3. データ同期設定\n",
    "GIN-forkへのデータ同期のための設定を行います。"
   ]
  },
  {
   "cell_type": "code",
   "execution_count": null,
   "metadata": {},
   "outputs": [],
   "source": [
    "# dataladデータセット設定"
   ]
  },
  {
   "cell_type": "code",
   "execution_count": null,
   "metadata": {},
   "outputs": [],
   "source": [
    "# SSHキー作成"
   ]
  },
  {
   "cell_type": "code",
   "execution_count": null,
   "metadata": {},
   "outputs": [],
   "source": [
    "# GIN-forkへの公開鍵の登録"
   ]
  },
  {
   "cell_type": "code",
   "execution_count": null,
   "metadata": {},
   "outputs": [],
   "source": [
    "# SSHホスト（GIN-fork）を信頼することを設定する"
   ]
  },
  {
   "cell_type": "code",
   "execution_count": null,
   "metadata": {},
   "outputs": [],
   "source": [
    "# GIN-forkへの同期調整"
   ]
  },
  {
   "cell_type": "code",
   "execution_count": null,
   "metadata": {},
   "outputs": [],
   "source": [
    "# ローカルリポジトリへのSSH接続情報の登録"
   ]
  },
  {
   "cell_type": "markdown",
   "metadata": {},
   "source": [
    "### 2-4. 実行環境情報を登録\n",
    "GIN-forkのリポジトリの実行環境タブに実験実行環境の情報を登録します。"
   ]
  },
  {
   "cell_type": "code",
   "execution_count": null,
   "metadata": {},
   "outputs": [],
   "source": []
  },
  {
   "cell_type": "markdown",
   "metadata": {},
   "source": [
    "### 2-5. 実験フロー図を更新\n",
    "実験フロー図の「初期セットアップを行う」を実施済みに更新します。"
   ]
  },
  {
   "cell_type": "code",
   "execution_count": null,
   "metadata": {},
   "outputs": [],
   "source": []
  },
  {
   "cell_type": "markdown",
   "metadata": {},
   "source": [
    "### 2-6. 実行結果の保存準備\n",
    "タスクNotebookを保存し、GIN-forkへの同期の準備を行います。"
   ]
  },
  {
   "cell_type": "code",
   "execution_count": null,
   "metadata": {},
   "outputs": [],
   "source": []
  },
  {
   "cell_type": "markdown",
   "metadata": {},
   "source": [
    "## 3. GIN-forkに実行結果を同期\n",
    "初期セットアップの実行結果をGIN-forkに同期します。"
   ]
  },
  {
   "cell_type": "code",
   "execution_count": null,
   "metadata": {},
   "outputs": [],
   "source": []
  },
  {
   "cell_type": "markdown",
   "metadata": {},
   "source": [
    "## 4. 実験フロートップページへ\n",
    "実験フロートップページへ遷移するボタンを表示します。"
   ]
  },
  {
   "cell_type": "code",
   "execution_count": null,
   "metadata": {},
   "outputs": [],
   "source": []
  }
 ],
 "metadata": {
  "language_info": {
   "name": "python"
  },
  "orig_nbformat": 4
 },
 "nbformat": 4,
 "nbformat_minor": 2
}