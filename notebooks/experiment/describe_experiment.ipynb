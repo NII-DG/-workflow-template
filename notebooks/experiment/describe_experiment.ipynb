{
 "cells": [
  {
   "cell_type": "markdown",
   "metadata": {},
   "source": [
    "# 実験の説明を記述する\n",
    "実験データなどの整理を支援します。<br>\n",
    "実験の概要やデータの説明を実験パッケージのREADME.mdにて整理をします。\n",
    "\n",
    "Jupyter Notebookの操作方法については、[こちら](https://support.rdm.nii.ac.jp/usermanual/60/#jp_operation)をご参照ください。<br>\n",
    "共通メニューについては、[こちら](https://support.rdm.nii.ac.jp/usermanual/60/#jp_menu)をご参照ください。<br>\n",
    "いずれも新規タブで開きます。"
   ]
  },
  {
   "cell_type": "markdown",
   "metadata": {},
   "source": [
    "## 共通メニュー"
   ]
  },
  {
   "cell_type": "code",
   "execution_count": null,
   "metadata": {
    "disable_pins": true
   },
   "outputs": [],
   "source": [
    "import sys\n",
    "sys.path.append(\"../..\")\n",
    "from nb_libs.utils.form import menu\n",
    "menu.dg_menu(type='experiment')"
   ]
  },
  {
   "cell_type": "markdown",
   "metadata": {},
   "source": [
    "## 1. 実験の説明を記述\n",
    "実験パッケージのREADME.mdに実験の説明を記述します。"
   ]
  },
  {
   "cell_type": "markdown",
   "metadata": {},
   "source": [
    "### 1-1. 記述準備\n",
    "記述の準備としてREADME.mdへのリンクを表示します。<br>\n",
    "表示されたリンクをクリックしてください。<br>\n",
    "実験パッケージのREADME.mdファイル編集画面が新規タブで開きます。"
   ]
  },
  {
   "cell_type": "code",
   "execution_count": null,
   "metadata": {},
   "outputs": [],
   "source": [
    "import sys\n",
    "from IPython.display import display, Javascript\n",
    "sys.path.append(\"../..\")\n",
    "from nb_libs.experiment.describe_experiment import create_ref_readme\n",
    "\n",
    "create_ref_readme()\n",
    "display(Javascript('IPython.notebook.save_checkpoint();'))"
   ]
  },
  {
   "cell_type": "markdown",
   "metadata": {},
   "source": [
    "### 1-2. 実験の説明を記述\n",
    "README.mdファイルの編集画面で、「## 実験概要」の章に実験の説明を記述してください。<br>\n",
    "記述する項目は下記の4点です。<br>\n",
    "- 実験の概要\n",
    "- sourceの説明\n",
    "- input_dataの説明\n",
    "- 各パラメータの説明\n",
    "\n",
    "**記述が完了したら必ずREADME.mdファイルを保存してください。**\n",
    "1. 編集画面の「File」をクリックした後、「Save」をクリックして保存します。\n",
    "2. ファイル名の右にチェックマークと「数秒前」が表示され、ファイルが更新されたことを確認してからタブを閉じます。"
   ]
  },
  {
   "cell_type": "markdown",
   "metadata": {},
   "source": [
    "## 2. GIN-forkに実行結果を同期\n",
    "保存したREADME.mdをGIN-forkに同期します。\n",
    "\n",
    "`リポジトリ側の変更と競合しました。競合を解決してください。`と表示された場合は、[GIN-forkへの同期の失敗を解消する](../common/conflict_helper.ipynb)を参照して、競合を解消してください。"
   ]
  },
  {
   "cell_type": "code",
   "execution_count": null,
   "metadata": {},
   "outputs": [],
   "source": [
    "import sys\n",
    "from IPython.display import display, Javascript\n",
    "sys.path.append(\"../..\")\n",
    "from nb_libs.experiment.describe_experiment import sync_experiment_description\n",
    "\n",
    "is_ok = sync_experiment_description()\n",
    "display(Javascript('IPython.notebook.save_checkpoint();'))"
   ]
  },
  {
   "cell_type": "markdown",
   "metadata": {},
   "source": [
    "## 3. 実験フロートップページへ\n",
    "実験フロートップページへ遷移するボタンを表示します。"
   ]
  },
  {
   "cell_type": "code",
   "execution_count": null,
   "metadata": {},
   "outputs": [],
   "source": [
    "import sys\n",
    "from IPython.display import display, Javascript\n",
    "sys.path.append('../..')\n",
    "from nb_libs.utils.path import display as link\n",
    "\n",
    "link.exp_top_link()\n",
    "display(Javascript('IPython.notebook.save_checkpoint();'))"
   ]
  }
 ],
 "metadata": {
  "language_info": {
   "name": "python"
  },
  "orig_nbformat": 4
 },
 "nbformat": 4,
 "nbformat_minor": 2
}
