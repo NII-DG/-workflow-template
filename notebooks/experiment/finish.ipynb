{
 "cells": [
  {
   "cell_type": "markdown",
   "metadata": {},
   "source": [
    "# 実験を終了する\n",
    "実験を終了させる場合に実行します。<br>\n",
    "現在の実験パッケージをGIN-forkに保存して実行環境である当環境を削除します。  <br>\n",
    "**<p style=\"color:red;\">※ 実行環境の停止・削除後は、当実行環境にあるNotebookを操作することが出来なくなりますのでご注意ください。</p>**\n",
    "\n",
    "Jupyter Notebookの操作方法については、[こちら](https://support.rdm.nii.ac.jp/usermanual/60/#jp_operation)をご参照ください。<br>\n",
    "共通メニューについては、[こちら](https://support.rdm.nii.ac.jp/usermanual/60/#jp_menu)をご参照ください。<br>\n",
    "いずれも新規タブで開きます。\n"
   ]
  },
  {
   "cell_type": "markdown",
   "metadata": {},
   "source": [
    "## 共通メニュー"
   ]
  },
  {
   "cell_type": "code",
   "execution_count": null,
   "metadata": {
    "disable_pins": true
   },
   "outputs": [],
   "source": [
    "import sys\n",
    "sys.path.append(\"../..\")\n",
    "from nb_libs.utils.form import menu\n",
    "menu.dg_menu('experiment')"
   ]
  },
  {
   "cell_type": "markdown",
   "metadata": {},
   "source": [
    "## 1. 実験パッケージをGIN-forkに同期\n",
    "実験パッケージをGIN-forkに同期します。\n",
    "\n",
    "`リポジトリ側の変更と競合しました。競合を解決してください。`と表示された場合は、[GIN-forkへの同期の失敗を解消する](../common/conflict_helper.ipynb)を参照して、競合を解消してください。"
   ]
  },
  {
   "cell_type": "code",
   "execution_count": null,
   "metadata": {},
   "outputs": [],
   "source": [
    "import sys\n",
    "sys.path.append(\"../..\")\n",
    "from nb_libs.utils.gin import sync\n",
    "from nb_libs.experiment import finish as fin\n",
    "git_path, gitannex_path, gitannex_files, commit_message = fin.syncs_config()\n",
    "is_ok = sync.syncs_with_repo(git_path=git_path, gitannex_path=gitannex_path, gitannex_files=gitannex_files, message=commit_message, get_paths=[])"
   ]
  },
  {
   "cell_type": "markdown",
   "metadata": {},
   "source": [
    "## 2. 実験実行環境の削除\n",
    "実験実行環境の削除処理を行います。\n",
    "\n",
    "**<p style=\"color:red;\">※ 実行環境の停止・削除後は、当実行環境にあるNotebookを操作することが出来なくなりますのでご注意ください。</p>**"
   ]
  },
  {
   "cell_type": "markdown",
   "metadata": {},
   "source": [
    "### 2-1. 当実行環境の確認\n",
    "実験実行環境のサーバー名を確認します。<br>\n",
    "また、GIN-forkの実行環境タブから当実験実行環境の「移動」ボタンを削除します。"
   ]
  },
  {
   "cell_type": "code",
   "execution_count": null,
   "metadata": {},
   "outputs": [],
   "source": [
    "from IPython.display import display, Javascript\n",
    "import sys\n",
    "sys.path.append(\"../..\")\n",
    "from nb_libs.utils.gin import container\n",
    "container.delete_container()\n",
    "display(Javascript('IPython.notebook.save_checkpoint();'))"
   ]
  },
  {
   "cell_type": "markdown",
   "metadata": {},
   "source": [
    "### 2-2. 実行環境の削除\n",
    "[コントロールパネル](https://jupyter.cs.rcos.nii.ac.jp/hub/home)へ遷移します。<br>\n",
    "遷移後、「2-1. 当実行環境の確認」で確認したサーバーの`stop`ボタンを押下して実行環境を停止します。その後、`delete`ボタンを押下して実行環境を削除してください。<br>\n",
    "\n",
    "※ 必ず`delete`ボタンを押下して削除まで実行してください。<br>\n",
    "※ `delete`ボタンは、以下の図のように`stop`ボタンをクリックした後に表示されます。<br>\n",
    "![コンテナ削除キャプチャ](../images/コンテナ削除キャプチャ.png)"
   ]
  }
 ],
 "metadata": {
  "language_info": {
   "name": "python"
  },
  "orig_nbformat": 4
 },
 "nbformat": 4,
 "nbformat_minor": 2
}
