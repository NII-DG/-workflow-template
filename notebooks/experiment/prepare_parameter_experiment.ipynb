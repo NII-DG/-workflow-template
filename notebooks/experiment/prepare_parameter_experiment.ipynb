{
 "cells": [
  {
   "cell_type": "markdown",
   "metadata": {},
   "source": [
    "# パラメータ実験用のディレクトリを追加する\n",
    "データセットの構造として、パラメータ実験用のデータ構成( `for_parameters` )を指定した研究者を対象に、実験パッケージ内にパラメータ実験用のディレクトリを追加します。<br>\n",
    "**データセットの構造で `with_code` を指定した場合、このタスクは不要です。**\n",
    "\n",
    "![task_paramexp_name](../images/task_paramexp_name.png)\n",
    "\n",
    "Jupyter Notebookの操作方法については、[こちら](https://support.rdm.nii.ac.jp/usermanual/60/#jp_operation)をご参照ください。<br>\n",
    "共通メニューについては、[こちら](https://support.rdm.nii.ac.jp/usermanual/60/#jp_menu)をご参照ください。<br>\n",
    "いずれも新規タブで開きます。\n",
    "\n",
    "**`複数のパラメータ実験用のディレクトリを追加したい場合`は、『3. GIN-forkに実行結果を同期』セクションの実行完了後に、本タスクを初めから実行してください。**\n"
   ]
  },
  {
   "cell_type": "markdown",
   "metadata": {},
   "source": [
    "## 共通メニュー"
   ]
  },
  {
   "cell_type": "code",
   "execution_count": null,
   "metadata": {},
   "outputs": [],
   "source": [
    "import sys\n",
    "sys.path.append(\"../..\")\n",
    "from nb_libs.utils.form import menu\n",
    "menu.dg_menu('experiment')"
   ]
  },
  {
   "cell_type": "markdown",
   "metadata": {},
   "source": [
    "## 1. 追加パラメータ実験名の入力\n",
    "追加するパラメータ実験名を入力します。<br>\n",
    "入力可能文字：50文字以内、半角英数字、-（ハイフン）、_（アンダーバー）、.（ドット）<br>\n",
    "実験パッケージ名や既存のパラメータ実験名と同じものは使用できません。<br>\n",
    "また、「parameter」というパラメータ実験名も使用することができません。パラメータ名など分かりやすい名前を推奨します。<br>\n",
    "入力後、`入力完了`ボタンを押下してください。\n",
    "\n",
    "※ 入力に誤りがある場合は、次に進む前に再度このセルを実行して下さい。"
   ]
  },
  {
   "cell_type": "code",
   "execution_count": null,
   "metadata": {
    "disable_pins": true
   },
   "outputs": [],
   "source": [
    "import sys\n",
    "sys.path.append(\"../..\")\n",
    "from nb_libs.experiment import prepare_parameter_experiment as param\n",
    "param.display_forms()"
   ]
  },
  {
   "cell_type": "markdown",
   "metadata": {
    "heading_collapsed": true
   },
   "source": [
    "## 2. 新規パラメータ実験フォルダの用意\n",
    "入力した内容でパラメータ実験フォルダを作成します。"
   ]
  },
  {
   "cell_type": "markdown",
   "metadata": {},
   "source": [
    "### 2-1. フォルダの作成\n",
    "パラメータ実験フォルダを作成します。"
   ]
  },
  {
   "cell_type": "code",
   "execution_count": null,
   "metadata": {},
   "outputs": [],
   "source": [
    "import sys\n",
    "sys.path.append(\"../..\")\n",
    "from nb_libs.experiment import prepare_parameter_experiment as param\n",
    "param.create_param_folder()"
   ]
  },
  {
   "cell_type": "markdown",
   "metadata": {},
   "source": [
    "### 2-2. 実行結果の保存の準備\n",
    "タスクNotebookを保存し、同期の準備を行います。"
   ]
  },
  {
   "cell_type": "code",
   "execution_count": null,
   "metadata": {},
   "outputs": [],
   "source": [
    "from IPython.display import display, Javascript\n",
    "import sys\n",
    "sys.path.append(\"../..\")\n",
    "from nb_libs.experiment import prepare_parameter_experiment as param\n",
    "display(Javascript('IPython.notebook.save_checkpoint();'))\n",
    "git_path, gitannex_path, gitannex_files, commit_message, get_paths = param.syncs_config()"
   ]
  },
  {
   "cell_type": "markdown",
   "metadata": {},
   "source": [
    "## 3. GIN-forkに実行結果を同期\n",
    "実行結果を保存し、GIN-forkに同期します。\n",
    "\n",
    "`リポジトリ側の変更と競合しました。競合を解決してください。`と表示された場合は、[GIN-forkへの同期の失敗を解消する](../common/conflict_helper.ipynb)を参照して、競合を解消してください。"
   ]
  },
  {
   "cell_type": "code",
   "execution_count": null,
   "metadata": {},
   "outputs": [],
   "source": [
    "import sys\n",
    "sys.path.append(\"../..\")\n",
    "from nb_libs.utils.gin import sync\n",
    "is_ok = sync.syncs_with_repo(git_path=git_path, gitannex_path=gitannex_path, gitannex_files=gitannex_files, message=commit_message, get_paths=get_paths)"
   ]
  },
  {
   "cell_type": "markdown",
   "metadata": {},
   "source": [
    "## 4. 実験フロートップページへ\n",
    "実験フロートップページへ遷移するボタンを表示します。"
   ]
  },
  {
   "cell_type": "code",
   "execution_count": null,
   "metadata": {},
   "outputs": [],
   "source": [
    "import sys\n",
    "sys.path.append(\"../..\")\n",
    "from nb_libs.utils import path\n",
    "from IPython.display import display, Javascript\n",
    "path.display.exp_top_link()\n",
    "display(Javascript('IPython.notebook.save_checkpoint();'))"
   ]
  }
 ],
 "metadata": {
  "language_info": {
   "name": "python"
  },
  "orig_nbformat": 4
 },
 "nbformat": 4,
 "nbformat_minor": 2
}
