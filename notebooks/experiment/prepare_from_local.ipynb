{
 "cells": [
  {
   "cell_type": "markdown",
   "metadata": {},
   "source": [
    "# ローカル環境からデータを用意する\n",
    "ローカル環境のデータを当実験パッケージに用意する手順を整理しています。\n",
    "\n",
    "Jupyter Notebookの操作方法については、[こちら](https://support.rdm.nii.ac.jp/usermanual/60/#jp_operation)をご参照ください。<br>\n",
    "共通メニューについては、[こちら](https://support.rdm.nii.ac.jp/usermanual/60/#jp_menu)をご参照ください。<br>\n",
    "いずれも新規タブで開きます。"
   ]
  },
  {
   "cell_type": "markdown",
   "metadata": {},
   "source": [
    "## 共通メニュー"
   ]
  },
  {
   "cell_type": "code",
   "execution_count": null,
   "metadata": {
    "disable_pins": true
   },
   "outputs": [],
   "source": [
    "import sys\n",
    "sys.path.append(\"../..\")\n",
    "from nb_libs.utils.form import menu\n",
    "menu.dg_menu(type='experiment')"
   ]
  },
  {
   "cell_type": "markdown",
   "metadata": {},
   "source": [
    "## 1. ローカル環境から取得\n",
    "以下の図を参考にローカル環境からデータを取得します。\n",
    "\n",
    "![howto_upload_file](../images/howto_upload_file.png)"
   ]
  },
  {
   "cell_type": "markdown",
   "metadata": {},
   "source": [
    "## 2. 作業ログメッセージの入力\n",
    "作業のログとしてメッセージを登録します。<br>\n",
    "作業ログメッセージを100文字以内で入力してください。入力後、`入力完了`ボタンを押下します。<br>\n",
    "入力した作業ログメッセージはGIN-forkで確認できます。<br>\n",
    "※ 入力値に誤りがある場合、次に進む前にもう一度実行することで訂正ができます。"
   ]
  },
  {
   "cell_type": "code",
   "execution_count": null,
   "metadata": {
    "disable_pins": true
   },
   "outputs": [],
   "source": [
    "import sys\n",
    "sys.path.append('../..')\n",
    "from nb_libs.experiment import prepare_from_local\n",
    "sync_repo_args = prepare_from_local.input_message()"
   ]
  },
  {
   "cell_type": "markdown",
   "metadata": {
    "heading_collapsed": true
   },
   "source": [
    "## 3. 保存準備\n",
    "実行結果の保存の準備を行います。"
   ]
  },
  {
   "cell_type": "markdown",
   "metadata": {},
   "source": [
    "### 3-1. 実行結果の保存の準備\n",
    "タスクNotebookを保存し、同期の準備を行います。"
   ]
  },
  {
   "cell_type": "code",
   "execution_count": null,
   "metadata": {},
   "outputs": [],
   "source": [
    "import sys\n",
    "sys.path.append('../..')\n",
    "from nb_libs.experiment import prepare_from_local\n",
    "sync_repo_args = prepare_from_local.prepare_sync()"
   ]
  },
  {
   "cell_type": "markdown",
   "metadata": {},
   "source": [
    "## 4. GIN-forkに実行結果を同期\n",
    "タスクの実行結果をGIN-forkに同期します。\n",
    "\n",
    "`リポジトリ側の変更と競合しました。競合を解決してください。`と表示された場合は、[GIN-forkへの同期の失敗を解消する](../common/conflict_helper.ipynb)を参照して、競合を解消してください。"
   ]
  },
  {
   "cell_type": "code",
   "execution_count": null,
   "metadata": {},
   "outputs": [],
   "source": [
    "import sys\n",
    "sys.path.append('../..')\n",
    "from nb_libs.utils.gin import sync\n",
    "from nb_libs.utils import message\n",
    "if not 'sync_repo_args' in locals():\n",
    "    message.display.display_err(message.message.get('from_repo_s3', 'did_not_finish'))\n",
    "else:\n",
    "    sync.syncs_with_repo(**sync_repo_args)"
   ]
  },
  {
   "cell_type": "markdown",
   "metadata": {},
   "source": [
    "## 5. 実験フロートップページへ\n",
    "実験フロートップページへ遷移するボタンを表示します。\n"
   ]
  },
  {
   "cell_type": "code",
   "execution_count": null,
   "metadata": {},
   "outputs": [],
   "source": [
    "import sys\n",
    "sys.path.append(\"../..\")\n",
    "from nb_libs.utils import path\n",
    "from IPython.display import display, Javascript\n",
    "path.display.exp_top_link()\n",
    "display(Javascript('IPython.notebook.save_checkpoint();'))"
   ]
  }
 ],
 "metadata": {
  "language_info": {
   "name": "python"
  },
  "orig_nbformat": 4
 },
 "nbformat": 4,
 "nbformat_minor": 2
}
