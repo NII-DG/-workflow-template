{
 "cells": [
  {
   "cell_type": "markdown",
   "metadata": {},
   "source": [
    "# 実験のデータやソースコードを用意する\n",
    "実験のデータやソースコードの用意として、以下の取得方法で支援します。\n",
    "\n",
    "- A：GIN-forkの公開リポジトリより取得\n",
    "- B：Amazon S3より取得\n",
    "- C：ローカル環境より取得\n",
    "\n",
    "「実験フロートップページ」に戻る場合は[こちら](./experiment.ipynb)。新規タブで開きます。\n",
    "\n",
    "Jupyter Notebookの操作方法については、[こちら](https://support.rdm.nii.ac.jp/usermanual/60/#jp_operation)をご参照ください。<br>\n",
    "共通メニューについては、[こちら](https://support.rdm.nii.ac.jp/usermanual/60/#jp_menu)をご参照ください。<br>\n",
    "いずれも新規タブで開きます。"
   ]
  },
  {
   "cell_type": "markdown",
   "metadata": {},
   "source": [
    "## 共通メニュー"
   ]
  },
  {
   "cell_type": "code",
   "execution_count": null,
   "metadata": {},
   "outputs": [],
   "source": [
    "import sys\n",
    "sys.path.append(\"../..\")\n",
    "from nb_libs.utils.form import menu\n",
    "menu.dg_menu(type='experiment')"
   ]
  },
  {
   "cell_type": "markdown",
   "metadata": {},
   "source": [
    "## A：GIN-forkの公開リポジトリより取得\n",
    "GIN-forkに公開されているあなたのリポジトリや他の研究者のリポジトリにあるファイルを、この実験のデータとして用意します。<br>\n",
    "**指定したリポジトリのinput_dataフォルダ、sourceフォルダ、output_dataフォルダにあるデータを、当実験パッケージのinput_dataフォルダまたはsourceフォルダに対してのみ用意することができます。**<br>\n",
    "セル実行後に表示されるボタンを押下して実行画面に遷移してください。"
   ]
  },
  {
   "cell_type": "code",
   "execution_count": null,
   "metadata": {},
   "outputs": [],
   "source": [
    "import sys\n",
    "from IPython.display import display, Javascript\n",
    "sys.path.append(\"../..\")\n",
    "from nb_libs.experiment.prepare_input_and_source import create_ref_prepare_from_repository\n",
    "\n",
    "create_ref_prepare_from_repository()\n",
    "display(Javascript('IPython.notebook.save_checkpoint();'))"
   ]
  },
  {
   "cell_type": "markdown",
   "metadata": {},
   "source": [
    "## B：Amazon S3より取得\n",
    "[S3](https://aws.amazon.com/jp/s3/)のストレージにあるファイルを、この実験のデータとして用意します。<br>\n",
    "**取得したデータは当実験パッケージのinput_dataまたはsourceフォルダに対してのみ用意することができます。**<br>\n",
    "セル実行後に表示されるボタンを押下して実行画面に遷移してください。"
   ]
  },
  {
   "cell_type": "markdown",
   "metadata": {},
   "source": [
    "### B-1：単一データを用意する場合\n",
    "S3にあるデータのオブジェクトを単一で取得します。"
   ]
  },
  {
   "cell_type": "code",
   "execution_count": null,
   "metadata": {},
   "outputs": [],
   "source": [
    "import sys\n",
    "from IPython.display import display, Javascript\n",
    "sys.path.append(\"../..\")\n",
    "from nb_libs.experiment.prepare_input_and_source import create_ref_prepare_unit_from_s3\n",
    "\n",
    "create_ref_prepare_unit_from_s3()\n",
    "display(Javascript('IPython.notebook.save_checkpoint();'))"
   ]
  },
  {
   "cell_type": "markdown",
   "metadata": {},
   "source": [
    "### B-2：複数のデータを取得する場合\n",
    "S3のバケットまたはバケット内のフォルダ単位で複数のデータを取得します。"
   ]
  },
  {
   "cell_type": "code",
   "execution_count": null,
   "metadata": {},
   "outputs": [],
   "source": [
    "import sys\n",
    "from IPython.display import display, Javascript\n",
    "sys.path.append(\"../..\")\n",
    "from nb_libs.experiment.prepare_input_and_source import create_ref_prepare_multi_from_s3\n",
    "\n",
    "create_ref_prepare_multi_from_s3()\n",
    "display(Javascript('IPython.notebook.save_checkpoint();'))"
   ]
  },
  {
   "cell_type": "markdown",
   "metadata": {},
   "source": [
    "## C：ローカル環境より取得\n",
    "ローカル環境にあるデータを、この実験のデータとして用意します。<br>\n",
    "セル実行後に表示されるボタンを押下して実行画面に遷移してください。"
   ]
  },
  {
   "cell_type": "code",
   "execution_count": null,
   "metadata": {},
   "outputs": [],
   "source": [
    "import sys\n",
    "from IPython.display import display, Javascript\n",
    "sys.path.append(\"../..\")\n",
    "from nb_libs.experiment.prepare_input_and_source import create_ref_prepare_from_local\n",
    "\n",
    "create_ref_prepare_from_local()\n",
    "display(Javascript('IPython.notebook.save_checkpoint();'))"
   ]
  }
 ],
 "metadata": {
  "language_info": {
   "name": "python"
  },
  "orig_nbformat": 4
 },
 "nbformat": 4,
 "nbformat_minor": 2
}
