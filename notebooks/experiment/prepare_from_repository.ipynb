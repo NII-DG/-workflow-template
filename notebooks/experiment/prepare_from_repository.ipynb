{
 "cells": [
  {
   "cell_type": "markdown",
   "metadata": {},
   "source": [
    "# GIN-forkに公開されているリポジトリからデータを用意する\n",
    "GIN-forkで公開されている自分のリポジトリや他の研究者のリポジトリのデータをこの実験の入力データもしくはソースコードとして用意します。<br>\n",
    "このタスクを実行するには、`用意したいデータを持っているGIN-forkリポジトリのURL`が必要です。<br>\n",
    "**<p style=\"color:red;\">※ 自分のリポジトリ、他の研究者のリポジトリ共に公開されているリポジトリのみ利用することができます。</p>**<br>\n",
    "指定したリポジトリにある実験のデータ（入力データ、ソースコード、出力データ）を、今回の実験で使えるように実験パッケージの`input_data`もしくは`source`配下にダウンロードします。<br>\n",
    "\n",
    "Jupyter Notebookの操作方法については、[こちら](https://support.rdm.nii.ac.jp/usermanual/60/#jp_operation)をご参照ください。<br>\n",
    "共通メニューについては、[こちら](https://support.rdm.nii.ac.jp/usermanual/60/#jp_menu)をご参照ください。<br>\n",
    "いずれも新規タブで開きます。"
   ]
  },
  {
   "cell_type": "markdown",
   "metadata": {},
   "source": [
    "## 共通メニュー"
   ]
  },
  {
   "cell_type": "code",
   "execution_count": null,
   "metadata": {
    "disable_pins": true
   },
   "outputs": [],
   "source": [
    "import sys\n",
    "sys.path.append(\"../..\")\n",
    "from nb_libs.utils.form import menu\n",
    "menu.dg_menu(type='experiment')"
   ]
  },
  {
   "cell_type": "markdown",
   "metadata": {},
   "source": [
    "## 1. 取込対象のリポジトリ指定\n",
    "データを取得するための事前準備を行います。<br>\n",
    "今回の実験で用いたいデータを持つ公開研究リポジトリのHTTPSのURLを入力します。<br>\n",
    "入力後、`入力完了`ボタンを押下してください。\n",
    "\n",
    "※ 入力に誤りがある場合は、次の処理に進む前に、再度このセルを実行してください。"
   ]
  },
  {
   "cell_type": "code",
   "execution_count": null,
   "metadata": {
    "disable_pins": true
   },
   "outputs": [],
   "source": [
    "# 取得データ情報の整理\n",
    "import sys\n",
    "sys.path.append('../..')\n",
    "from nb_libs.experiment import prepare_from_repository\n",
    "prepare_from_repository.input_repository()"
   ]
  },
  {
   "cell_type": "markdown",
   "metadata": {},
   "source": [
    "## 2. 実験名を選択\n",
    "リポジトリの実験群から必要なデータを持つ実験名を選択します。<br>\n",
    "選択後、`選択完了`ボタンを押下してください。<br>\n",
    "パラメータ実験の場合は、パラメータ実験名も選択してください。<br>\n",
    "同一リポジトリの複数の実験からファイルを用意したい場合は、各実験毎に手順2.～6.を繰り返し実行してください。"
   ]
  },
  {
   "cell_type": "code",
   "execution_count": null,
   "metadata": {
    "disable_pins": true
   },
   "outputs": [],
   "source": [
    "# 取得データ情報の整理\n",
    "import sys\n",
    "sys.path.append('../..')\n",
    "from nb_libs.experiment import prepare_from_repository\n",
    "prepare_from_repository.choose_get_pkg()"
   ]
  },
  {
   "cell_type": "markdown",
   "metadata": {},
   "source": [
    "## 3. 必要なデータを選択\n",
    "選択した実験にあるデータが表示されます。<br>\n",
    "表示されたデータからこの実験に必要なデータをクリックして選択してください。<br>\n",
    "「複数のデータを選択する場合」や「選択を解除する場合」は、CtrlキーもしくはCommandキーを押しながらクリックしてください。<br>\n",
    "選択後、`選択完了`ボタンを押下してください。"
   ]
  },
  {
   "cell_type": "code",
   "execution_count": null,
   "metadata": {
    "disable_pins": true
   },
   "outputs": [],
   "source": [
    "# 取得データ情報の整理\n",
    "import sys\n",
    "sys.path.append('../..')\n",
    "from nb_libs.experiment import prepare_from_repository\n",
    "prepare_from_repository.choose_get_data()"
   ]
  },
  {
   "cell_type": "markdown",
   "metadata": {},
   "source": [
    "## 4. 格納先を指定\n",
    "データの格納先を指定します。<br>\n",
    "格納先のファイルパスには、実験パッケージ直下の既存フォルダである`input_data/`, `source/`を含めて入力してください。<br>\n",
    "`input_data/`, `source/`以下に新たにフォルダを作成したい場合はここで指定することで作成可能です。(以下に記載される入力例を参照)<br>\n",
    "\n",
    "以下の点に注意して入力してください。\n",
    "\n",
    "<p style=\"color:red;\">格納先のファイルパスは、<code>input_data/</code>, <code>source/</code>で始まる必要があります。<br>格納先のファイルパスの拡張子は、元のデータの拡張子と一致させる必要があります。</p>\n",
    "\n",
    "入力後、`入力完了`ボタンを押下してください。<br>\n",
    "※ 入力に誤りがある場合は、次の処理に進む前に、再度このセルを実行してください。<br>\n",
    "\n",
    "#### 入力例\n",
    "- 格納先のファイルパス\n",
    "  - パターン１(input_data/の場合)：`input_data`/added_folder/sample_input.txt\n",
    "  - パターン２(source/の場合)：`source`/added_folder/sample_src.txt\n",
    "\n",
    "上記の入力例において、`added_folder/`は新規追加フォルダを表します。"
   ]
  },
  {
   "cell_type": "code",
   "execution_count": null,
   "metadata": {
    "disable_pins": true
   },
   "outputs": [],
   "source": [
    "import sys\n",
    "sys.path.append('../..')\n",
    "from nb_libs.experiment import prepare_from_repository\n",
    "prepare_from_repository.input_path()"
   ]
  },
  {
   "cell_type": "markdown",
   "metadata": {
    "heading_collapsed": true
   },
   "source": [
    "## 5. データの取り込み\n",
    "上記で入力したデータを取得します。"
   ]
  },
  {
   "cell_type": "markdown",
   "metadata": {},
   "source": [
    "### 5-1. リポジトリへの追加準備\n",
    "リポジトリに取得データの情報を登録する準備を行います。"
   ]
  },
  {
   "cell_type": "code",
   "execution_count": null,
   "metadata": {},
   "outputs": [],
   "source": [
    "# 取得データ情報の整理\n",
    "import sys\n",
    "sys.path.append('../..')\n",
    "from nb_libs.experiment import prepare_from_repository\n",
    "prepare_from_repository.prepare_addurls_data()"
   ]
  },
  {
   "cell_type": "code",
   "execution_count": null,
   "metadata": {},
   "outputs": [],
   "source": [
    "# リポジトリへの取得データ情報の登録\n",
    "import sys\n",
    "sys.path.append('../..')\n",
    "from nb_libs.experiment import prepare_from_repository\n",
    "prepare_from_repository.add_url()"
   ]
  },
  {
   "cell_type": "markdown",
   "metadata": {},
   "source": [
    "### 5-2. データ取得履歴を記録\n",
    "データを取得した履歴の記録を行います。"
   ]
  },
  {
   "cell_type": "code",
   "execution_count": null,
   "metadata": {},
   "outputs": [],
   "source": [
    "import sys\n",
    "sys.path.append('../..')\n",
    "from nb_libs.experiment import prepare_from_repository\n",
    "prepare_from_repository.save_annex()"
   ]
  },
  {
   "cell_type": "markdown",
   "metadata": {},
   "source": [
    "### 5-3. 取得データの実データをダウンロード\n",
    "リポジトリから実データを取得し、格納します。"
   ]
  },
  {
   "cell_type": "code",
   "execution_count": null,
   "metadata": {},
   "outputs": [],
   "source": [
    "import sys\n",
    "sys.path.append('../..')\n",
    "from nb_libs.experiment import prepare_from_repository\n",
    "prepare_from_repository.get_data()"
   ]
  },
  {
   "cell_type": "markdown",
   "metadata": {},
   "source": [
    "### 5-4. 不要なデータを削除\n",
    "一時的に使用したデータを削除します。"
   ]
  },
  {
   "cell_type": "code",
   "execution_count": null,
   "metadata": {},
   "outputs": [],
   "source": [
    "import sys\n",
    "sys.path.append('../..')\n",
    "from nb_libs.experiment import prepare_from_repository\n",
    "prepare_from_repository.remove_unused()"
   ]
  },
  {
   "cell_type": "markdown",
   "metadata": {},
   "source": [
    "### 5-5. 実行結果の保存の準備\n",
    "タスクNotebookを保存し、同期の準備を行います。"
   ]
  },
  {
   "cell_type": "code",
   "execution_count": null,
   "metadata": {},
   "outputs": [],
   "source": [
    "import sys\n",
    "sys.path.append('../..')\n",
    "from nb_libs.experiment import prepare_from_repository\n",
    "sync_repo_args = prepare_from_repository.prepare_sync()"
   ]
  },
  {
   "cell_type": "markdown",
   "metadata": {},
   "source": [
    "## 6. GIN-forkに実行結果を同期\n",
    "タスクの実行結果をGIN-forkに同期します。\n",
    "\n",
    "`リポジトリ側の変更と競合しました。競合を解決してください。`と表示された場合は、[GIN-forkへの同期の失敗を解消する](../common/conflict_helper.ipynb)を参照して、競合を解消してください。"
   ]
  },
  {
   "cell_type": "code",
   "execution_count": null,
   "metadata": {},
   "outputs": [],
   "source": [
    "import sys\n",
    "sys.path.append('../..')\n",
    "from nb_libs.utils.gin import sync\n",
    "from nb_libs.utils import message\n",
    "from nb_libs.utils.except_class import DidNotFinishError\n",
    "if not 'sync_repo_args' in locals():\n",
    "    message.display.display_err(message.message.get('from_repo_s3', 'did_not_finish'))\n",
    "    raise DidNotFinishError()\n",
    "else:\n",
    "    sync.syncs_with_repo(**sync_repo_args)"
   ]
  },
  {
   "cell_type": "markdown",
   "metadata": {},
   "source": [
    "## 7. 実験フロートップページへ\n",
    "実験フロートップページへ遷移するボタンを表示します。"
   ]
  },
  {
   "cell_type": "code",
   "execution_count": null,
   "metadata": {},
   "outputs": [],
   "source": [
    "import sys\n",
    "sys.path.append('../..')\n",
    "from nb_libs.utils.path import display\n",
    "display.exp_top_link()"
   ]
  }
 ],
 "metadata": {
  "language_info": {
   "name": "python"
  },
  "orig_nbformat": 4
 },
 "nbformat": 4,
 "nbformat_minor": 2
}
