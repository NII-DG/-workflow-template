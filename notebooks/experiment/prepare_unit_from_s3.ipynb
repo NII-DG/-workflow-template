{
 "cells": [
  {
   "cell_type": "markdown",
   "metadata": {},
   "source": [
    "# Amazon S3から単一データを用意する"
   ]
  },
  {
   "cell_type": "markdown",
   "metadata": {},
   "source": [
    "## 1. データ取得に必要な情報の入力"
   ]
  },
  {
   "cell_type": "code",
   "execution_count": null,
   "metadata": {},
   "outputs": [],
   "source": [
    "import os\n",
    "\n",
    "os.chdir(os.environ['HOME'] + '/WORKFLOWS')\n",
    "import nb_libs.experiment.prepare_unit_from_s3\n",
    "nb_libs.experiment.prepare_unit_from_s3.aaa()\n"
   ]
  },
  {
   "cell_type": "markdown",
   "metadata": {},
   "source": [
    "## 2. データの取り込み"
   ]
  },
  {
   "cell_type": "markdown",
   "metadata": {},
   "source": [
    "### リポジトリへの追加準備"
   ]
  },
  {
   "cell_type": "markdown",
   "metadata": {},
   "source": [
    "取得データ情報の整理"
   ]
  },
  {
   "cell_type": "code",
   "execution_count": null,
   "metadata": {},
   "outputs": [],
   "source": [
    "import os\n",
    "\n",
    "os.chdir(os.environ['HOME'] + '/WORKFLOWS')\n",
    "import nb_libs.experiment.prepare_unit_from_s3\n",
    "nb_libs.experiment.prepare_unit_from_s3.bbb()"
   ]
  },
  {
   "cell_type": "markdown",
   "metadata": {},
   "source": [
    "リポジトリへの取得データ情報の登録"
   ]
  },
  {
   "cell_type": "code",
   "execution_count": null,
   "metadata": {},
   "outputs": [],
   "source": [
    "import os\n",
    "\n",
    "os.chdir(os.environ['HOME'] + '/WORKFLOWS')\n",
    "import nb_libs.experiment.prepare_unit_from_s3\n",
    "nb_libs.experiment.prepare_unit_from_s3.ccc()"
   ]
  },
  {
   "cell_type": "markdown",
   "metadata": {},
   "source": [
    "### データ取得履歴を記録する"
   ]
  },
  {
   "cell_type": "markdown",
   "metadata": {},
   "source": [
    "### 取得データの実データをダウンロードする"
   ]
  },
  {
   "cell_type": "markdown",
   "metadata": {},
   "source": [
    "### 実行結果の保存の準備"
   ]
  },
  {
   "cell_type": "markdown",
   "metadata": {},
   "source": [
    "## 3. GIN-forkに実行結果を同期"
   ]
  },
  {
   "cell_type": "markdown",
   "metadata": {},
   "source": [
    "## 4. 実験フロートップページへ"
   ]
  }
 ],
 "metadata": {
  "language_info": {
   "name": "python"
  },
  "orig_nbformat": 4
 },
 "nbformat": 4,
 "nbformat_minor": 2
}
