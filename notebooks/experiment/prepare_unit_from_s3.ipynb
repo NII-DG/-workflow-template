{
 "cells": [
  {
   "cell_type": "markdown",
   "metadata": {},
   "source": [
    "# Amazon S3から単一データを用意する"
   ]
  },
  {
   "cell_type": "markdown",
   "metadata": {
    "heading_collapsed": true
   },
   "source": [
    "## 1. データ取得に必要な情報の入力"
   ]
  },
  {
   "cell_type": "code",
   "execution_count": null,
   "metadata": {},
   "outputs": [],
   "source": [
    "import os\n",
    "os.chdir(os.environ['HOME'] + '/WORKFLOWS')\n",
    "import nb_libs.experiment.prepare_unit_from_s3\n",
    "nb_libs.experiment.prepare_unit_from_s3.input_url_path()"
   ]
  },
  {
   "cell_type": "markdown",
   "metadata": {},
   "source": [
    "## 2. データの取り込み"
   ]
  },
  {
   "cell_type": "markdown",
   "metadata": {},
   "source": [
    "### リポジトリへの追加準備"
   ]
  },
  {
   "cell_type": "markdown",
   "metadata": {},
   "source": [
    "取得データ情報の整理"
   ]
  },
  {
   "cell_type": "code",
   "execution_count": null,
   "metadata": {},
   "outputs": [],
   "source": [
    "import os\n",
    "os.chdir(os.environ['HOME'] + '/WORKFLOWS')\n",
    "import nb_libs.experiment.prepare_unit_from_s3\n",
    "nb_libs.experiment.prepare_unit_from_s3.create_csv()"
   ]
  },
  {
   "cell_type": "markdown",
   "metadata": {},
   "source": [
    "リポジトリへの取得データ情報の登録"
   ]
  },
  {
   "cell_type": "code",
   "execution_count": null,
   "metadata": {},
   "outputs": [],
   "source": [
    "import os\n",
    "os.chdir(os.environ['HOME'] + '/WORKFLOWS')\n",
    "import nb_libs.experiment.prepare_unit_from_s3\n",
    "nb_libs.experiment.prepare_unit_from_s3.add_url()"
   ]
  },
  {
   "cell_type": "markdown",
   "metadata": {},
   "source": [
    "### データ取得履歴を記録する"
   ]
  },
  {
   "cell_type": "code",
   "execution_count": null,
   "metadata": {},
   "outputs": [],
   "source": [
    "import os\n",
    "os.chdir(os.environ['HOME'] + '/WORKFLOWS')\n",
    "import nb_libs.experiment.prepare_unit_from_s3\n",
    "nb_libs.experiment.prepare_unit_from_s3.save_annex()"
   ]
  },
  {
   "cell_type": "markdown",
   "metadata": {},
   "source": [
    "### 取得データの実データをダウンロードする"
   ]
  },
  {
   "cell_type": "code",
   "execution_count": null,
   "metadata": {},
   "outputs": [],
   "source": [
    "import os\n",
    "os.chdir(os.environ['HOME'] + '/WORKFLOWS')\n",
    "import nb_libs.experiment.prepare_unit_from_s3\n",
    "dic = nb_libs.experiment.prepare_unit_from_s3.get_data()"
   ]
  },
  {
   "cell_type": "markdown",
   "metadata": {},
   "source": [
    "### 実行結果の保存の準備"
   ]
  },
  {
   "cell_type": "code",
   "execution_count": null,
   "metadata": {},
   "outputs": [],
   "source": [
    "import os\n",
    "from IPython.display import display, Javascript\n",
    "display(Javascript('IPython.notebook.save_checkpoint();'))\n",
    "\n",
    "os.chdir(os.environ['HOME'] + '/WORKFLOWS')\n",
    "import nb_libs.experiment.prepare_unit_from_s3\n",
    "nb_libs.experiment.prepare_unit_from_s3.remove_tmp()"
   ]
  },
  {
   "cell_type": "markdown",
   "metadata": {},
   "source": [
    "## 3. GIN-forkに実行結果を同期"
   ]
  },
  {
   "cell_type": "code",
   "execution_count": null,
   "metadata": {},
   "outputs": [],
   "source": [
    "from nb_libs.utils.gin import sync\n",
    "if 'dic' in locals() or len(dic) == 0:\n",
    "    raise Exception\n",
    "is_ok = sync.syncs_with_repo(**dic)"
   ]
  },
  {
   "cell_type": "markdown",
   "metadata": {},
   "source": [
    "## 4. 実験フロートップページへ"
   ]
  },
  {
   "cell_type": "code",
   "execution_count": null,
   "metadata": {},
   "outputs": [],
   "source": [
    "# ここでボタンを表示する関数を呼ぶ"
   ]
  }
 ],
 "metadata": {
  "language_info": {
   "name": "python"
  },
  "orig_nbformat": 4
 },
 "nbformat": 4,
 "nbformat_minor": 2
}
