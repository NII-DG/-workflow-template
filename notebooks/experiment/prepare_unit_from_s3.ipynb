{
 "cells": [
  {
   "cell_type": "markdown",
   "metadata": {},
   "source": [
    "# Amazon S3から単一データを用意する\n",
    "[S3](https://aws.amazon.com/jp/s3/)のストレージにある単一のオブジェクトデータを、この実験の入力データや実験ソースコードとして用意します。<br>\n",
    "\n",
    "このタスクで用意できるS3ストレージのデータには、以下の制限があります。<br>\n",
    "- **実験のデータとして利用したいデータを格納したS3のバケット名にドット(.)を含めないでください。**<br>\n",
    "- **パブリックにアクセスできるS3ストレージのデータを対象にしています。そのため、非公開のデータは実験パッケージに用意できません。**\n",
    "\n",
    "Jupyter Notebookの操作方法については、[こちら](https://support.rdm.nii.ac.jp/usermanual/60/#jp_operation)をご参照ください。<br>\n",
    "共通メニューについては、[こちら](https://support.rdm.nii.ac.jp/usermanual/60/#jp_menu)をご参照ください。<br>\n",
    "いずれも新規タブで開きます。\n"
   ]
  },
  {
   "cell_type": "markdown",
   "metadata": {},
   "source": [
    "## 共通メニュー"
   ]
  },
  {
   "cell_type": "code",
   "execution_count": null,
   "metadata": {},
   "outputs": [],
   "source": [
    "import sys\n",
    "sys.path.append(\"../..\")\n",
    "from nb_libs.utils.form import menu\n",
    "menu.dg_menu(type='experiment')"
   ]
  },
  {
   "cell_type": "markdown",
   "metadata": {},
   "source": [
    "## 1. データ取得に必要な情報の入力\n",
    "S3よりデータを取得するための事前準備を行います。<br>\n",
    "`S3オブジェクトURL`と`データの格納先`を入力してください。<br>\n",
    "格納先のファイルパスには、実験パッケージ直下の既存フォルダである`input_data/`, `source/`を含めて入力してください。<br>\n",
    "`input_data/`, `source/`配下に新たにフォルダを作成したい場合はここで指定することで作成可能です。(以下に記載される入力例を参照)\n",
    "\n",
    "以下の点に注意して入力してください。\n",
    "\n",
    "<p style=\"color:red;\">格納先のファイルパスは、<code>input_data/</code>, <code>source/</code>で始まる必要があります。<br>格納先のファイルパスの拡張子は、元のデータの拡張子と一致させる必要があります。</p>\n",
    "\n",
    "入力後、`入力完了`ボタンを押下してください。<br>\n",
    "※ 入力に誤りがある場合は、次に進む前に再度このセルを実行して下さい。\n",
    "\n",
    "#### 入力例<br>\n",
    "- S3オブジェクトURL：https://[bucket-title].s3.ap-northeast-1.amazonaws.com/sample.txt\n",
    "- 格納先のファイルパス\n",
    "  - パターン１(input_data/の場合)：`input_data`/added_folder/sample_input.txt\n",
    "  - パターン２(source/の場合)：`source`/added_folder/sample_src.txt\n",
    "\n",
    "上記の入力例において、`added_folder/`は新規追加フォルダを表します。"
   ]
  },
  {
   "cell_type": "code",
   "execution_count": null,
   "metadata": {},
   "outputs": [],
   "source": [
    "import sys\n",
    "sys.path.append('../..')\n",
    "from nb_libs.experiment import prepare_unit_from_s3\n",
    "prepare_unit_from_s3.input_url_path()"
   ]
  },
  {
   "cell_type": "markdown",
   "metadata": {
    "heading_collapsed": true
   },
   "source": [
    "## 2. データの取り込み"
   ]
  },
  {
   "cell_type": "markdown",
   "metadata": {},
   "source": [
    "### 2-1. リポジトリへの追加準備\n",
    "リポジトリに取得データの情報を登録する準備を行います。"
   ]
  },
  {
   "cell_type": "code",
   "execution_count": null,
   "metadata": {},
   "outputs": [],
   "source": [
    "# 取得データ情報の整理\n",
    "import sys\n",
    "sys.path.append('../..')\n",
    "from nb_libs.experiment import prepare_unit_from_s3\n",
    "prepare_unit_from_s3.prepare_addurls_data()"
   ]
  },
  {
   "cell_type": "code",
   "execution_count": null,
   "metadata": {},
   "outputs": [],
   "source": [
    "# リポジトリへの取得データ情報の登録\n",
    "import sys\n",
    "sys.path.append('../..')\n",
    "from nb_libs.experiment import prepare_unit_from_s3\n",
    "prepare_unit_from_s3.add_url()"
   ]
  },
  {
   "cell_type": "markdown",
   "metadata": {},
   "source": [
    "### 2-2. データ取得履歴を記録する\n",
    "データの取得履歴を記録します。"
   ]
  },
  {
   "cell_type": "code",
   "execution_count": null,
   "metadata": {},
   "outputs": [],
   "source": [
    "import sys\n",
    "sys.path.append('../..')\n",
    "from nb_libs.experiment import prepare_unit_from_s3\n",
    "prepare_unit_from_s3.save_annex()"
   ]
  },
  {
   "cell_type": "markdown",
   "metadata": {},
   "source": [
    "### 2-3. 取得データの実データをダウンロードする\n",
    "取得データの実データダウンロードします。"
   ]
  },
  {
   "cell_type": "code",
   "execution_count": null,
   "metadata": {},
   "outputs": [],
   "source": [
    "import sys\n",
    "sys.path.append('../..')\n",
    "from nb_libs.experiment import prepare_unit_from_s3\n",
    "prepare_unit_from_s3.get_data()"
   ]
  },
  {
   "cell_type": "markdown",
   "metadata": {},
   "source": [
    "### 2-4. 実行結果の保存の準備\n",
    "タスクNotebookを保存し、同期の準備を行います。"
   ]
  },
  {
   "cell_type": "code",
   "execution_count": null,
   "metadata": {},
   "outputs": [],
   "source": [
    "import sys\n",
    "sys.path.append('../..')\n",
    "from nb_libs.experiment import prepare_unit_from_s3\n",
    "sync_repo_args = prepare_unit_from_s3.prepare_sync()"
   ]
  },
  {
   "cell_type": "markdown",
   "metadata": {},
   "source": [
    "## 3. GIN-forkに実行結果を同期\n",
    "タスクの実行結果をGIN-forkに同期します。\n",
    "\n",
    "`リポジトリ側の変更と競合しました。競合を解決してください。`と表示された場合は、[GIN-forkへの同期の失敗を解消する](../common/conflict_helper.ipynb)を参照して、競合を解消してください。"
   ]
  },
  {
   "cell_type": "code",
   "execution_count": null,
   "metadata": {},
   "outputs": [],
   "source": [
    "import sys\n",
    "sys.path.append('../..')\n",
    "from nb_libs.utils.gin import sync\n",
    "from nb_libs.utils import message\n",
    "from nb_libs.utils.except_class import DidNotFinishError\n",
    "if not 'sync_repo_args' in locals():\n",
    "    message.display.display_err(message.message.get('from_repo_s3', 'did_not_finish'))\n",
    "    raise DidNotFinishError()\n",
    "else:\n",
    "    sync.syncs_with_repo(**sync_repo_args)"
   ]
  },
  {
   "cell_type": "markdown",
   "metadata": {},
   "source": [
    "## 4. 実験フロートップページへ\n",
    "実験フロートップページへ遷移するボタンを表示します。"
   ]
  },
  {
   "cell_type": "code",
   "execution_count": null,
   "metadata": {},
   "outputs": [],
   "source": [
    "import sys\n",
    "sys.path.append('../..')\n",
    "from nb_libs.utils.path import display\n",
    "display.exp_top_link()"
   ]
  }
 ],
 "metadata": {
  "language_info": {
   "name": "python"
  },
  "orig_nbformat": 4
 },
 "nbformat": 4,
 "nbformat_minor": 2
}
