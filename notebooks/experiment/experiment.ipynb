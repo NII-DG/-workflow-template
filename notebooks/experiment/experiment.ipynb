{
 "cells": [
  {
   "cell_type": "markdown",
   "metadata": {},
   "source": [
    "# 実験フロートップページ\n",
    "実験プロセスで生じる研究者のタスクをリサーチフローにて半機械的に実行支援します。<br>\n",
    "実験プロセスを実験準備、実験、実験データなどの整備、実験を再現するためのSnakefileを記述、実験終了というフェーズに細分化し、それぞれのフェーズの特徴に沿ったタスクの実行支援を行います。<br>\n",
    "個々のタスクの実行支援は、Jupyter Notebook形式で実行可能な手順書として記述されています。<br>\n",
    "各タスクに書かれているコードはご自身に合わせて編集することが可能です。<br>\n",
    "ただし、編集内容によってはコードが正常に動作しなくなる可能性がありますのでご留意ください。\n",
    "\n",
    "Jupyter Notebookの操作方法については、[こちら](https://support.rdm.nii.ac.jp/usermanual/60/#jp_operation)をご参照ください。新規タブで開きます。"
   ]
  },
  {
   "cell_type": "markdown",
   "metadata": {},
   "source": [
    "## <u>リサーチフロー機能の使い方</u>\n",
    "\n",
    "**「0.実験フロー実行準備」の初期セットアップを最初に実行してください。**<br>\n",
    "その後、実験準備、実験、実験データなどの整備、実験を再現するためのSnakefileを記述、実験終了の各フェーズの順に必要なタスクの支援機能を実行してください。<br>\n",
    "初期セットアップを完了した後は、お好みのタイミングでリサーチフローの中断が可能です。<br>\n",
    "初期セットアップまで完了した状態で実験を再開する場合は、GIN-forkの研究リポジトリの実行環境タブに遷移し、実験実行環境エリアにある「移動」ボタンを押下することで「実験フロートップページ」へ遷移することができます。<br>\n",
    "「フェーズの概要」を確認後、「実験フローを表示」のセルを実行してフロー図を表示してください。"
   ]
  },
  {
   "cell_type": "markdown",
   "metadata": {},
   "source": [
    "## <u>フェーズの概要</u>\n",
    "\n",
    "### 0. 実験フロー実行準備\n",
    "\n",
    "この実験でリサーチフローを初めて利用する場合は、「初期セットアップを行う」のタスクを必ず実行してください。<br>\n",
    "「初期セットアップを行う」のタスクへは、フロー図の表示後、「初期セットアップを行う」のノードのリンクをクリックすると移動できます。\n",
    "\n",
    "### 1. 実験準備\n",
    "\n",
    "実験を行う前の準備を支援します。\n",
    "\n",
    "### 2. 実験\n",
    "\n",
    "当実験実行環境で行う実験を支援します。"
   ]
  },
  {
   "cell_type": "markdown",
   "metadata": {},
   "source": [
    "### 3. 実験データなどの整理\n",
    "\n",
    "他の研究者が閲覧することを考慮し、実験データなどの整理や説明を支援します。<br>\n",
    "実験の入出力データやソースコードの記述の見直し、ファイルの整理を行ってください。\n",
    "\n",
    "### 4. 実験を再現するためのSnakefileを記述\n",
    "\n",
    "実験パッケージの再現性を確保するために、実験内の処理の依存関係などの実験の実行方法をSnakefile（タスクランナー）に記述することを支援します。"
   ]
  },
  {
   "cell_type": "markdown",
   "metadata": {},
   "source": [
    "### 5. 実験終了\n",
    "\n",
    "実験終了に関わるタスクを支援します。<br>\n",
    "当実行環境でデータが維持されるのは最後に利用した日から30日間です。<br>\n",
    "実験データの整理後は必ず「実験を終了」を実行してGIN-forkに実験データを同期してください。<br>\n",
    "作成できる実行環境は10個までです。不要な実行環境は削除することを推奨します。"
   ]
  },
  {
   "cell_type": "markdown",
   "metadata": {},
   "source": [
    "## 共通メニュー"
   ]
  },
  {
   "cell_type": "code",
   "execution_count": null,
   "metadata": {},
   "outputs": [],
   "source": [
    "import sys\n",
    "sys.path.append(\"../..\")\n",
    "from nb_libs.utils.form import menu\n",
    "menu.dg_menu('experiment')"
   ]
  },
  {
   "cell_type": "markdown",
   "metadata": {},
   "source": [
    "## 実験フロー図を表示\n",
    "実験フロー図を表示します。<br>\n",
    "フロー図が非表示の場合や既に実行したタスクを確認したい場合はセルを再実行してください。\n",
    "\n",
    "フロー図の左側にあるノードはリサーチフローのフェーズとその流れを表しており、右側にあるノードは個々の支援するタスクを表しています。<br>\n",
    "各タスクを実行するには、実行したいタスクのノードのリンクをクリックしてください。"
   ]
  },
  {
   "cell_type": "code",
   "execution_count": null,
   "metadata": {},
   "outputs": [],
   "source": [
    "import sys\n",
    "sys.path.append(\"../..\")\n",
    "from nb_libs.utils.flow import module as flow\n",
    "from IPython.display import display, Javascript\n",
    "flow.display_flow('experiment')\n",
    "display(Javascript('IPython.notebook.save_checkpoint();'))"
   ]
  }
 ],
 "metadata": {
  "language_info": {
   "name": "python"
  },
  "orig_nbformat": 4
 },
 "nbformat": 4,
 "nbformat_minor": 2
}
