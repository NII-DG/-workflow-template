{
 "cells": [
  {
   "cell_type": "markdown",
   "metadata": {},
   "source": [
    "# 研究を終了する\n",
    "研究結果の公開などを終え、この研究を終了させる場合に実行します。<br>\n",
    "リサーチフローやモニタリングの実行環境である当環境を削除します。<br>\n",
    "**<p style=\"color:red;\">※ 実行環境の停止・削除後は、当実行環境にあるNotebookを操作することが出来なくなりますのでご注意ください。</p>**\n",
    "\n",
    "Jupyter Notebookの操作方法については、[こちら](https://support.rdm.nii.ac.jp/usermanual/60/#jp_operation)をご参照ください。<br>\n",
    "共通メニューについては、[こちら](https://support.rdm.nii.ac.jp/usermanual/60/#jp_menu)をご参照ください。<br>\n",
    "いずれも新規タブで開きます。"
   ]
  },
  {
   "cell_type": "markdown",
   "metadata": {},
   "source": [
    "## 共通メニュー"
   ]
  },
  {
   "cell_type": "code",
   "execution_count": null,
   "metadata": {},
   "outputs": [],
   "source": []
  },
  {
   "cell_type": "markdown",
   "metadata": {},
   "source": [
    "## 1. 研究実行環境の削除\n",
    "研究実行環境の削除処理を行います。\n",
    "\n",
    "**<p style=\"color:red;\">※ 実行環境の停止・削除後は、当実行環境にあるNotebookを操作することが出来なくなりますのでご注意ください。</p>**"
   ]
  },
  {
   "cell_type": "markdown",
   "metadata": {},
   "source": [
    "### 1-1. 当実行環境の確認\n",
    "研究実行環境のサーバー名を確認します。<br>\n",
    "また、GIN-forkの実行環境タブの当研究実行環境から「移動」ボタンを削除します。"
   ]
  },
  {
   "cell_type": "code",
   "execution_count": null,
   "metadata": {},
   "outputs": [],
   "source": []
  },
  {
   "cell_type": "markdown",
   "metadata": {},
   "source": [
    "### 1-2. 実行環境の削除\n",
    "[コントロールパネル](https://jupyter.cs.rcos.nii.ac.jp/hub/home)へ遷移します。<br>\n",
    "遷移後、「1-1. 当実行環境の確認」で確認したサーバーの`stop`ボタンを押下して実行環境を停止します。その後、`delete`ボタンを押下して実行環境を削除してください。<br>\n",
    "\n",
    "※ 必ず`delete`ボタンを押下して削除まで実行してください。<br>\n",
    "※ `delete`ボタンは、以下の図のように`stop`ボタンをクリックした後に表示されます。<br>\n",
    "![コンテナ削除キャプチャ](../images/コンテナ削除キャプチャ.png)"
   ]
  }
 ],
 "metadata": {
  "language_info": {
   "name": "python"
  },
  "orig_nbformat": 4
 },
 "nbformat": 4,
 "nbformat_minor": 2
}