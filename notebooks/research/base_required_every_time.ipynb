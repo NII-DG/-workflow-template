{
 "cells": [
  {
   "cell_type": "markdown",
   "metadata": {},
   "source": [
    "# 初期セットアップを行う\n",
    "研究フローを利用するためのセットアップを行います。<br>\n",
    "上から順番に全てのセルを実行してください。\n",
    "\n",
    "Jupyter Notebookの操作方法については、[こちら](https://support.rdm.nii.ac.jp/usermanual/60/#jp_operation)をご参照ください。<br>\n",
    "共通メニューについては、[こちら](https://support.rdm.nii.ac.jp/usermanual/60/#jp_menu)をご参照ください。<br>\n",
    "いずれも新規タブで開きます。"
   ]
  },
  {
   "cell_type": "markdown",
   "metadata": {},
   "source": [
    "## 共通メニュー"
   ]
  },
  {
   "cell_type": "code",
   "execution_count": null,
   "metadata": {
    "disable_pins": true
   },
   "outputs": [],
   "source": [
    "import sys\n",
    "sys.path.append(\"../..\")\n",
    "from nb_libs.utils.form import menu\n",
    "menu.dg_menu('research')"
   ]
  },
  {
   "cell_type": "markdown",
   "metadata": {},
   "source": [
    "## 1. 事前準備\n",
    "初期セットアップの事前準備を行います。<br>\n",
    "GIN-forkと同期するために必要なユーザー情報を入力します。<br>\n",
    "GIN-forkに登録したユーザー名、パスワードを入力してください。<br>\n",
    "入力後、`入力完了`ボタンを押下してください。"
   ]
  },
  {
   "cell_type": "code",
   "execution_count": null,
   "metadata": {
    "disable_pins": true
   },
   "outputs": [],
   "source": [
    "import sys\n",
    "sys.path.append(\"../..\")\n",
    "from nb_libs.utils.form import prepare\n",
    "prepare.initial_gin_user_auth()"
   ]
  },
  {
   "cell_type": "markdown",
   "metadata": {
    "heading_collapsed": true
   },
   "source": [
    "## 2. 初期セットアップ\n",
    "事前準備で入力した情報で初期セットアップを実行します。全てのセルを実行してください。"
   ]
  },
  {
   "cell_type": "markdown",
   "metadata": {},
   "source": [
    "### 2-1. 不要なGIN-forkアクセストークンの削除\n",
    "初期セットアップ用のトークンを削除します。"
   ]
  },
  {
   "cell_type": "code",
   "execution_count": null,
   "metadata": {},
   "outputs": [],
   "source": [
    "import sys\n",
    "sys.path.append(\"../..\")\n",
    "from nb_libs.research import base_required_every_time as req\n",
    "req.del_build_token()"
   ]
  },
  {
   "cell_type": "markdown",
   "metadata": {},
   "source": [
    "### 2-2. データ同期設定\n",
    "GIN-forkへのデータ同期のための設定を行います。"
   ]
  },
  {
   "cell_type": "code",
   "execution_count": null,
   "metadata": {},
   "outputs": [],
   "source": [
    "# dataladデータセット設定\n",
    "import sys\n",
    "sys.path.append(\"../..\")\n",
    "from nb_libs.research import base_required_every_time as req\n",
    "req.datalad_create()"
   ]
  },
  {
   "cell_type": "code",
   "execution_count": null,
   "metadata": {},
   "outputs": [],
   "source": [
    "# SSHキー作成\n",
    "import sys\n",
    "sys.path.append(\"../..\")\n",
    "from nb_libs.research import base_required_every_time as req\n",
    "req.ssh_create_key()"
   ]
  },
  {
   "cell_type": "code",
   "execution_count": null,
   "metadata": {},
   "outputs": [],
   "source": [
    "# GIN-forkへの公開鍵の登録\n",
    "import sys\n",
    "sys.path.append(\"../..\")\n",
    "from nb_libs.research import base_required_every_time as req\n",
    "req.upload_ssh_key()"
   ]
  },
  {
   "cell_type": "code",
   "execution_count": null,
   "metadata": {},
   "outputs": [],
   "source": [
    "# SSHホスト（GIN-fork）を信頼することを設定する\n",
    "import sys\n",
    "sys.path.append(\"../..\")\n",
    "from nb_libs.research import base_required_every_time as req\n",
    "req.ssh_trust_gin()"
   ]
  },
  {
   "cell_type": "code",
   "execution_count": null,
   "metadata": {},
   "outputs": [],
   "source": [
    "# GIN-forkへの同期調整\n",
    "import sys\n",
    "sys.path.append(\"../..\")\n",
    "from nb_libs.research import base_required_every_time as req\n",
    "req.prepare_sync()"
   ]
  },
  {
   "cell_type": "code",
   "execution_count": null,
   "metadata": {},
   "outputs": [],
   "source": [
    "# ローカルリポジトリへのSSH接続情報の登録\n",
    "import sys\n",
    "sys.path.append(\"../..\")\n",
    "from nb_libs.research import base_required_every_time as req\n",
    "req.setup_sibling()"
   ]
  },
  {
   "cell_type": "markdown",
   "metadata": {},
   "source": [
    "### 2-3. 実行環境情報を登録\n",
    "GIN-forkのリポジトリの実行環境タブに研究実行環境の情報を登録します。"
   ]
  },
  {
   "cell_type": "code",
   "execution_count": null,
   "metadata": {},
   "outputs": [],
   "source": [
    "import sys\n",
    "sys.path.append(\"../..\")\n",
    "from nb_libs.research import base_required_every_time as req\n",
    "req.add_container()"
   ]
  },
  {
   "cell_type": "markdown",
   "metadata": {},
   "source": [
    "### 2-4. 研究フロー図を更新\n",
    "研究フロー図の「初期セットアップを行う」を実施済みに更新します。"
   ]
  },
  {
   "cell_type": "code",
   "execution_count": null,
   "metadata": {},
   "outputs": [],
   "source": [
    "import sys\n",
    "sys.path.append(\"../..\")\n",
    "from nb_libs.research import base_required_every_time as req\n",
    "req.finished_setup()"
   ]
  },
  {
   "cell_type": "markdown",
   "metadata": {},
   "source": [
    "### 2-5. 実行結果の保存準備\n",
    "タスクNotebookを保存し、GIN-forkへの同期の準備を行います。"
   ]
  },
  {
   "cell_type": "code",
   "execution_count": null,
   "metadata": {},
   "outputs": [],
   "source": [
    "from IPython.display import display, Javascript\n",
    "import sys\n",
    "sys.path.append(\"../..\")\n",
    "from nb_libs.research import base_required_every_time as req\n",
    "display(Javascript('IPython.notebook.save_checkpoint();'))\n",
    "git_path, commit_message = req.syncs_config()"
   ]
  },
  {
   "cell_type": "markdown",
   "metadata": {},
   "source": [
    "## 3. GIN-forkに実行結果を同期\n",
    "初期セットアップの実行結果をGIN-forkに同期します。"
   ]
  },
  {
   "cell_type": "code",
   "execution_count": null,
   "metadata": {},
   "outputs": [],
   "source": [
    "import sys\n",
    "sys.path.append(\"../..\")\n",
    "from nb_libs.utils.gin import sync\n",
    "is_ok = sync.syncs_with_repo(git_path=git_path, gitannex_path=[], gitannex_files=[], message=commit_message, get_paths=[])"
   ]
  },
  {
   "cell_type": "markdown",
   "metadata": {},
   "source": [
    "## 4. 研究フロートップページへ\n",
    "研究フロートップページへ遷移するボタンを表示します。"
   ]
  },
  {
   "cell_type": "code",
   "execution_count": null,
   "metadata": {},
   "outputs": [],
   "source": [
    "import sys\n",
    "sys.path.append(\"../..\")\n",
    "from nb_libs.utils import path\n",
    "from IPython.display import display, Javascript\n",
    "path.display.res_top_link()\n",
    "display(Javascript('IPython.notebook.save_checkpoint();'))"
   ]
  }
 ],
 "metadata": {
  "kernelspec": {
   "display_name": "env",
   "language": "python",
   "name": "python3"
  },
  "language_info": {
   "name": "python",
   "version": "3.10.9"
  },
  "orig_nbformat": 4
 },
 "nbformat": 4,
 "nbformat_minor": 2
}
