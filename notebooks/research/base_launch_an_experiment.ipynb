{
 "cells": [
  {
   "cell_type": "markdown",
   "metadata": {},
   "source": [
    "# 実験実行環境を作成する\n",
    "「新規実験」のための実行環境を作成します。\n",
    "\n",
    "Jupyter Notebookの操作方法については、[こちら](https://support.rdm.nii.ac.jp/usermanual/60/#jp_operation)をご参照ください。<br>\n",
    "共通メニューについては、[こちら](https://support.rdm.nii.ac.jp/usermanual/60/#jp_menu)をご参照ください。<br>\n",
    "いずれも新規タブで開きます。"
   ]
  },
  {
   "cell_type": "markdown",
   "metadata": {},
   "source": [
    "## 共通メニュー"
   ]
  },
  {
   "cell_type": "code",
   "execution_count": null,
   "metadata": {},
   "outputs": [],
   "source": [
    "import sys\n",
    "sys.path.append(\"../..\")\n",
    "from nb_libs.utils.form import menu\n",
    "menu.dg_menu('research')"
   ]
  },
  {
   "cell_type": "markdown",
   "metadata": {},
   "source": [
    "## 1. 実験実行環境の作成\n",
    "実験実行環境を作成するための準備として下記のセルを実行してください。<br>\n",
    "実行後、`実験実行環境を作成`ボタンを押下すると実行環境の作成が開始されます。この処理には時間がかかります。<br>\n",
    "作成時にエラーになってしまった場合は、[ユーザーマニュアル](https://support.rdm.nii.ac.jp/usermanual/)からデータガバナンス機能Q&A集をご覧ください。<br>\n",
    "\n",
    "作成が完了すると「実験フロートップページ」に遷移します。\n",
    "\n",
    "実験実行環境について以下の点にご留意ください。<br>\n",
    "- 実行環境が維持されるのは最後に利用した日から**30日間**です。実行環境が消えてしまった場合は、研究リポジトリの実行環境タブの`実行環境作成`ボタンを押下し、新しく作成し直してください。\n",
    "- 作成できる実行環境は10個までとなります。\n"
   ]
  },
  {
   "cell_type": "code",
   "execution_count": null,
   "metadata": {},
   "outputs": [],
   "source": [
    "import sys\n",
    "sys.path.append(\"../..\")\n",
    "from nb_libs.research import base_launch_an_experiment as launch\n",
    "launch.launch_ex_env()"
   ]
  }
 ],
 "metadata": {
  "language_info": {
   "name": "python"
  },
  "orig_nbformat": 4
 },
 "nbformat": 4,
 "nbformat_minor": 2
}
