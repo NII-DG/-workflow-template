{
 "cells": [
  {
   "cell_type": "markdown",
   "metadata": {},
   "source": [
    "# メタデータを検証する\n",
    "研究データに付与されているメタデータを検証し、その結果をレポートします。<br>\n",
    "検証を行うことで、適切なメタデータが研究データに付与されているかを確認することができます。\n",
    "\n",
    "検証結果はGIN-forkに同期することができます。同期しない場合は、検証結果は破棄されます。\n",
    "\n",
    "検証結果のフォルダ構成や確認方法については[こちら](https://support.rdm.nii.ac.jp/usermanual/60/#metadata_verification)をご参照ください。新規タブで開きます。"
   ]
  },
  {
   "cell_type": "markdown",
   "metadata": {},
   "source": [
    "以下の点にご留意ください。\n",
    "- 実験実行環境の初期セットアップを完了していない場合、エラーが発生し検証を行えません。メタデータの検証を行う前に、「研究フロートップページ」に戻り、『実験実行環境を作成』から実験実行環境を作成し、作成した環境で「初期セットアップ」を実行してください。\n",
    "- ユーザー情報の個人URLにORCIDを入力していない場合、「メタデータに不備が見つかりました」と表示されます。\n",
    "\n",
    "Jupyter Notebookの操作方法については、[こちら](https://support.rdm.nii.ac.jp/usermanual/60/#jp_operation)をご参照ください。<br>\n",
    "共通メニューについては、[こちら](https://support.rdm.nii.ac.jp/usermanual/60/#jp_menu)をご参照ください。<br>\n",
    "いずれも新規タブで開きます。"
   ]
  },
  {
   "cell_type": "markdown",
   "metadata": {},
   "source": [
    "## 共通メニュー"
   ]
  },
  {
   "cell_type": "code",
   "execution_count": null,
   "metadata": {},
   "outputs": [],
   "source": [
    "import sys\n",
    "sys.path.append(\"../..\")\n",
    "from nb_libs.utils.form import menu\n",
    "menu.dg_menu('research')"
   ]
  },
  {
   "cell_type": "markdown",
   "metadata": {
    "heading_collapsed": true
   },
   "source": [
    "## 1. メタデータを検証\n",
    "メタデータの検証を行います。"
   ]
  },
  {
   "cell_type": "markdown",
   "metadata": {},
   "source": [
    "### 1-1. メタデータ準備\n",
    "メタデータを検証するための準備として、研究リポジトリのメタデータの取得と整形を行います。"
   ]
  },
  {
   "cell_type": "code",
   "execution_count": null,
   "metadata": {},
   "outputs": [],
   "source": [
    "# GIN-forkからリポジトリメタデータの取得\n",
    "import sys\n",
    "sys.path.append(\"../..\")\n",
    "from nb_libs.research import base_validate_metadata as vm\n",
    "\n",
    "gin_metadata = vm.prepare_matadata()"
   ]
  },
  {
   "cell_type": "code",
   "execution_count": null,
   "metadata": {},
   "outputs": [],
   "source": [
    "# リポジトリメタデータのパッケージ\n",
    "import sys\n",
    "sys.path.append(\"../..\")\n",
    "from nb_libs.research import base_validate_metadata as vm\n",
    "\n",
    "if 'gin_metadata' not in locals().keys():\n",
    "    ## 前のセルが実行されていない場合\n",
    "    vm.not_exec_pre_cell()\n",
    "else:\n",
    "    ro_crate = vm.pkg_metadata(gin_metadata)"
   ]
  },
  {
   "cell_type": "markdown",
   "metadata": {},
   "source": [
    "### 1-2. 検証サービスへ検証依頼\n",
    "メタデータの検証と検証結果の生成を行う検証サービスに、メタデータの検証を依頼します。"
   ]
  },
  {
   "cell_type": "code",
   "execution_count": null,
   "metadata": {},
   "outputs": [],
   "source": [
    "import sys\n",
    "sys.path.append(\"../..\")\n",
    "from nb_libs.research import base_validate_metadata as vm\n",
    "\n",
    "if 'ro_crate' not in locals().keys():\n",
    "    ## 前のセルが実行されていない場合\n",
    "    vm.not_exec_pre_cell()\n",
    "else:\n",
    "    verify_req_ok = vm.verify_metadata(ro_crate)"
   ]
  },
  {
   "cell_type": "markdown",
   "metadata": {},
   "source": [
    "## 2. 検証結果の確認\n",
    "検証サービスから検証結果を取得し、結果を出力します。"
   ]
  },
  {
   "cell_type": "code",
   "execution_count": null,
   "metadata": {},
   "outputs": [],
   "source": [
    "import sys\n",
    "sys.path.append(\"../..\")\n",
    "from IPython.display import display, Javascript\n",
    "from nb_libs.research import base_validate_metadata as vm\n",
    "\n",
    "if 'verify_req_ok' in locals().keys() and verify_req_ok:\n",
    "    show_ok = vm.show_verification_result()\n",
    "    display(Javascript('IPython.notebook.save_checkpoint();'))\n",
    "else:\n",
    "    ## 前のセルが実行されていない場合\n",
    "    vm.not_exec_pre_cell()"
   ]
  },
  {
   "cell_type": "markdown",
   "metadata": {},
   "source": [
    "## 3. GIN-forkに実行結果を同期\n",
    "GIN-forkに実行結果を同期します。<br>\n",
    "検証結果を記録して同期するか記録せずに破棄するかは、「3-1. 検証結果の記録の選択」で選択できます。"
   ]
  },
  {
   "cell_type": "markdown",
   "metadata": {},
   "source": [
    "### 3-1. 検証結果の記録の選択\n",
    "検証結果をGIN-forkの研究リポジトリに記録をするか破棄するかを選択します。<br>\n",
    "検証結果を残さずに確認のみを行いたい場合は、「記録せずに破棄する」を選択してください。"
   ]
  },
  {
   "cell_type": "code",
   "execution_count": null,
   "metadata": {},
   "outputs": [],
   "source": [
    "import sys\n",
    "sys.path.append(\"../..\")\n",
    "from nb_libs.research import base_validate_metadata as vm\n",
    "\n",
    "if 'show_ok' in locals().keys() and show_ok:\n",
    "    vm.select_done_save()\n",
    "else:\n",
    "    ## 前のセルが実行されていない場合\n",
    "    vm.not_exec_pre_cell()"
   ]
  },
  {
   "cell_type": "markdown",
   "metadata": {},
   "source": [
    "### 3-2. 研究リポジトリに同期\n",
    "研究リポジトリに実行結果を同期します。<br>\n",
    "「3-1. 検証結果の記録の選択」で「記録せずに破棄する」を選択した場合は、検証結果は同期されずこのファイルの実行結果のみが同期されます。<br>\n",
    "検証結果を記録した場合は、研究リポジトリの直下の**validation_results**フォルダに格納されます。\n",
    "\n",
    "以下を実行して、`リポジトリ側の変更と競合しました。競合を解決してください。`と表示された場合は、[GIN-forkへの同期の失敗を解消する](../common/conflict_helper.ipynb)を参照して、競合を解消してください。\n"
   ]
  },
  {
   "cell_type": "code",
   "execution_count": null,
   "metadata": {},
   "outputs": [],
   "source": [
    "import sys\n",
    "sys.path.append(\"../..\")\n",
    "from nb_libs.research import base_validate_metadata as vm\n",
    "from nb_libs.utils.gin import sync\n",
    "\n",
    "mode = vm.sync()\n",
    "if mode != None:\n",
    "    #done sync\n",
    "    git_path, commit_msg = vm.prepare_sync_arg(mode)\n",
    "    is_ok = sync.syncs_with_repo(git_path=git_path, gitannex_path=[], gitannex_files=[], message=commit_msg, get_paths=[])\n",
    "    vm.clean_up(is_ok)\n",
    "    \n"
   ]
  },
  {
   "cell_type": "markdown",
   "metadata": {},
   "source": [
    "## 4. 研究フロートップページへ\n",
    "研究フロートップページへ遷移するボタンを表示します。"
   ]
  },
  {
   "cell_type": "code",
   "execution_count": null,
   "metadata": {},
   "outputs": [],
   "source": [
    "import sys\n",
    "from IPython.display import display, Javascript\n",
    "sys.path.append('../..')\n",
    "from nb_libs.utils.path import display as link\n",
    "\n",
    "link.res_top_link()\n",
    "display(Javascript('IPython.notebook.save_checkpoint();'))"
   ]
  }
 ],
 "metadata": {
  "kernelspec": {
   "display_name": "env",
   "language": "python",
   "name": "python3"
  },
  "language_info": {
   "name": "python",
   "version": "3.10.9"
  },
  "orig_nbformat": 4
 },
 "nbformat": 4,
 "nbformat_minor": 2
}
