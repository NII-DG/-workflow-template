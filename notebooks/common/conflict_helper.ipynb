{
 "cells": [
  {
   "cell_type": "markdown",
   "metadata": {},
   "source": [
    "# GIN-forkへの同期の失敗を解消する\n",
    "GIN-forkへの同期に失敗した場合は以下の各セクションを順次実行してください。<br>\n",
    "（注）各セクションの実行メッセージをよく確認した上で、お進みください。\n",
    "\n",
    "同期が失敗した場合、実行セルの出力結果に`リポジトリ側の変更と競合しました。競合を解決してください。`と表示されます。<br>\n",
    "表示されていない場合は、以下の処理を実行しないでください。"
   ]
  },
  {
   "cell_type": "markdown",
   "metadata": {},
   "source": [
    "## 共通メニュー"
   ]
  },
  {
   "cell_type": "code",
   "execution_count": null,
   "metadata": {
    "disable_pins": true
   },
   "outputs": [],
   "source": [
    "import sys\n",
    "sys.path.append(\"../..\")\n",
    "from nb_libs.utils.form import menu\n",
    "menu.dg_menu('conflict')"
   ]
  },
  {
   "cell_type": "markdown",
   "metadata": {},
   "source": [
    "## 1. 競合状態の解析\n",
    "競合ファイルを特定し、競合状態を解析します。"
   ]
  },
  {
   "cell_type": "code",
   "execution_count": null,
   "metadata": {},
   "outputs": [],
   "source": [
    "import sys\n",
    "sys.path.append(\"../..\")\n",
    "from nb_libs.common import conflict_helper as ch\n",
    "\n",
    "ch.analyze_conflict_status()"
   ]
  },
  {
   "cell_type": "markdown",
   "metadata": {
    "heading_collapsed": true
   },
   "source": [
    "## 2. 競合解消準備\n",
    "競合解消の準備を行います。"
   ]
  },
  {
   "cell_type": "markdown",
   "metadata": {},
   "source": [
    "### 2-1. annex競合バリアントファイルの入手\n",
    "競合が発生しているAnnexコンテンツのバリアントファイルを入手します。"
   ]
  },
  {
   "cell_type": "code",
   "execution_count": null,
   "metadata": {},
   "outputs": [],
   "source": [
    "import sys\n",
    "sys.path.append(\"../..\")\n",
    "from nb_libs.common import conflict_helper as ch\n",
    "\n",
    "ch.get_annex_variatns()"
   ]
  },
  {
   "cell_type": "markdown",
   "metadata": {},
   "source": [
    "### 2-2. 競合解消準備をリポジトリ履歴に記録\n",
    "競合解消準備をリポジトリ履歴に記録します。"
   ]
  },
  {
   "cell_type": "code",
   "execution_count": null,
   "metadata": {},
   "outputs": [],
   "source": [
    "import sys\n",
    "sys.path.append(\"../..\")\n",
    "from nb_libs.common import conflict_helper as ch\n",
    "\n",
    "ch.record_preparing_event_for_resolving_conflict()"
   ]
  },
  {
   "cell_type": "markdown",
   "metadata": {},
   "source": [
    "## 3. 競合解消の手続き\n",
    "競合しているファイルを修正し、競合を解消する手続きを行います。"
   ]
  },
  {
   "cell_type": "markdown",
   "metadata": {},
   "source": [
    "### 3-1. gitコンテンツの競合解消\n",
    "以下の手順に従って競合ファイルを修正してください。<br>\n",
    "\n",
    "1. 下のセルを実行する。\n",
    "   * 操作が必要な場合は以下のフォームが表示されます。次の『2. ファイルパスをクリックして編集画面を開く。』の手順にお進みください。\n",
    "\n",
    "   ![編集前](../images/Display_of_conflicting_file_paths.png)\n",
    "\n",
    "2. ファイルパスをクリックして編集画面を開く。\n",
    "3. ファイルを編集して競合を解消する。\n",
    "\n",
    "* 編集前\n",
    "\n",
    "   ![編集前](../images/Before_conflict_resolution.png)\n",
    "\n",
    "* 編集後\n",
    "\n",
    "   ![編集前](../images/After_conflict_resolution.png)\n",
    "\n",
    "6. メニューバーの`File` > `Save`と順にクリックし、保存する。\n",
    "7. `修正完了`ボタンを押下する。（ボタンがクリックされると緑に点灯します）\n",
    "8. 全ての`修正完了`ボタンが緑になるまで、上記の2.~7.を繰り返す。"
   ]
  },
  {
   "cell_type": "code",
   "execution_count": null,
   "metadata": {
    "disable_pins": true
   },
   "outputs": [],
   "source": [
    "# gitコンテンツの競合ファイルのパスの確認と修正の確定を行う\n",
    "import sys\n",
    "sys.path.append(\"../..\")\n",
    "from nb_libs.common import conflict_helper as ch\n",
    "\n",
    "ch.resolving_git_content()"
   ]
  },
  {
   "cell_type": "markdown",
   "metadata": {},
   "source": [
    "### 3-2. Annexコンテンツの競合解消アクションを選択\n",
    "競合が発生したファイルに対して、自身のバージョン(ローカルバリアント)とGIN-forkのバージョン(リモートバリアント)のデータが複製されています。<br>\n",
    "ここでは、競合が発生したファイルの各バリアントの内容を確認した上で、いずれかのアクションを選択してください。<br>\n",
    "\n",
    "選択できるアクションについて\n",
    "1. `ローカルのファイルを残す` : ローカルバリアントを元のファイル名で保存します。\n",
    "2. `リモートのファイルを残す` : リモートバリアントを元のファイル名で保存します。\n",
    "3. `両方を残す` : ローカルバリアントおよびリモートバリアントのいずれも保存する。(ファイル名は次の『3-3. ≪両方を残す≫が選択されたファイルに名前をつける』で変更することできます)\n",
    "\n",
    "競合が発生した各ファイルについて以下の情報と選択フォームが表示されます。\n",
    "* 競合発生ファイルパス\n",
    "* ローカルバリアントファイルへのリンク\n",
    "* リモートバリアントファイルへのリンク\n",
    "* アクションの選択欄\n",
    "\n",
    "(例)<br>\n",
    "    ![アクション選択フォーム](../images/select_action.png)"
   ]
  },
  {
   "cell_type": "code",
   "execution_count": null,
   "metadata": {
    "disable_pins": true
   },
   "outputs": [],
   "source": [
    "# annexコンテンツの競合ファイルのパスの確認と解消アクションを選択する。\n",
    "import sys\n",
    "sys.path.append(\"../..\")\n",
    "from nb_libs.common import conflict_helper as ch\n",
    "\n",
    "ch.select_action_for_resolving_annex()"
   ]
  },
  {
   "cell_type": "markdown",
   "metadata": {},
   "source": [
    "### 3-3. ≪両方を残す≫を選択したファイル名の入力\n",
    "`両方を残す`が選択されたファイルに対して保存するファイル名を入力してください。<br>\n",
    "（注 1）元のファイルと同名の場合は、同名コンテンツのgit履歴を引継ぎますが、別名の場合は、新規コンテンツとしてgit履歴に記録されます。<br>\n",
    "（注 2）入力フォームにはファイル名のみ(拡張子含む)入力してください。<br>\n",
    "（注 3）拡張子は、元のデータの拡張子と一致させる必要があります。<br>\n",
    "（注 4）既に存在するファイル名は指定できません。<br>\n",
    "（注 5）重複してファイル名を指定できません。<br>\n",
    "（注 6）現在の各バリアント名はそのままファイル名として指定できません。<br>\n",
    "（注 7）ここではディレクトリの変更はできません<br>\n",
    "\n",
    "対象の各ファイルについて以下の情報と入力フォームが表示されます。\n",
    "* 競合が発生したファイルのパス\n",
    "* ローカルバリアントファイルへのリンク\n",
    "* リモートバリアントファイルへのリンク\n",
    "* ローカルバリアントのファイル名の入力フォーム\n",
    "* リモートバリアントのファイル名の入力フォーム\n",
    "\n",
    "(例)<br>\n",
    "![リネームフォーム](../images/rename_form.PNG)"
   ]
  },
  {
   "cell_type": "code",
   "execution_count": null,
   "metadata": {
    "disable_pins": true
   },
   "outputs": [],
   "source": [
    "# ≪両方を残す≫を選択したファイル名の入力フォームの表示と入力値の検証\n",
    "import sys\n",
    "sys.path.append(\"../..\")\n",
    "from nb_libs.common import conflict_helper as ch\n",
    "\n",
    "ch.rename_variants()"
   ]
  },
  {
   "cell_type": "markdown",
   "metadata": {
    "heading_collapsed": true
   },
   "source": [
    "## 4. 競合解消の実施\n",
    "競合解消の処理を行います。本セクションを実行すると『3. 競合解消の手続き』の操作内容が確定されます。"
   ]
  },
  {
   "cell_type": "markdown",
   "metadata": {},
   "source": [
    "### 4-1. データの調整\n",
    "データの調整を行います。"
   ]
  },
  {
   "cell_type": "code",
   "execution_count": null,
   "metadata": {},
   "outputs": [],
   "source": [
    "# タスクNotebookの自動解消\n",
    "import sys\n",
    "sys.path.append(\"../..\")\n",
    "from nb_libs.common import conflict_helper as ch\n",
    "\n",
    "exec_ok_auto = ch.auto_resolve_task_notebooks()"
   ]
  },
  {
   "cell_type": "code",
   "execution_count": null,
   "metadata": {},
   "outputs": [],
   "source": [
    "# Annexコンテンツのバリアントファイルのデータ調整\n",
    "import sys\n",
    "sys.path.append(\"../..\")\n",
    "from nb_libs.common import conflict_helper as ch\n",
    "\n",
    "if 'exec_ok_auto' in locals().keys() and exec_ok_auto:\n",
    "    path_after_rename_list, delete_file_path_list = ch.adjust_annex_data()\n",
    "else:\n",
    "    ## 前のセルが実行されていない場合\n",
    "    ch.not_exec_pre_cell_raise()"
   ]
  },
  {
   "cell_type": "markdown",
   "metadata": {},
   "source": [
    "### 4-2. 同期の準備\n",
    "競合解消内容の同期の準備を行います。"
   ]
  },
  {
   "cell_type": "code",
   "execution_count": null,
   "metadata": {},
   "outputs": [],
   "source": [
    "import sys\n",
    "from IPython.display import display, Javascript\n",
    "sys.path.append(\"../..\")\n",
    "from nb_libs.common import conflict_helper as ch\n",
    "\n",
    "if 'path_after_rename_list' in locals().keys():\n",
    "    display(Javascript('IPython.notebook.save_checkpoint();'))\n",
    "    git_sync_paths, annex_sync_list, commit_msg = ch.prepare_sync(path_after_rename_list, delete_file_path_list)\n",
    "else:\n",
    "    ## 前のセルが実行されていない場合\n",
    "    ch.not_exec_pre_cell_raise()"
   ]
  },
  {
   "cell_type": "markdown",
   "metadata": {},
   "source": [
    "## 5. 実行結果をGIN-forkに同期\n",
    "実行結果を保存し、GIN-forkに同期します。\n"
   ]
  },
  {
   "cell_type": "code",
   "execution_count": null,
   "metadata": {},
   "outputs": [],
   "source": [
    "import sys\n",
    "sys.path.append(\"../..\")\n",
    "from nb_libs.common import conflict_helper as ch\n",
    "from nb_libs.utils.gin import sync\n",
    "\n",
    "if 'commit_msg' in locals().keys():\n",
    "    sync.syncs_with_repo(git_path=git_sync_paths, gitannex_path=annex_sync_list, gitannex_files=annex_sync_list, message=commit_msg,get_paths=[])\n",
    "else:\n",
    "    ## 前のセルが実行されていない場合\n",
    "    ch.not_exec_pre_cell_raise()"
   ]
  },
  {
   "cell_type": "markdown",
   "metadata": {},
   "source": [
    "## 6. 研究・実験フロートップページへ\n",
    "研究フロートップページまたは実験フロートップページへ遷移するボタンを表示します。"
   ]
  },
  {
   "cell_type": "code",
   "execution_count": null,
   "metadata": {},
   "outputs": [],
   "source": [
    "import sys\n",
    "from IPython.display import display, Javascript\n",
    "sys.path.append(\"../..\")\n",
    "from nb_libs.common import conflict_helper as ch\n",
    "\n",
    "ch.trans_top()\n",
    "display(Javascript('IPython.notebook.save_checkpoint();'))"
   ]
  }
 ],
 "metadata": {
  "kernelspec": {
   "display_name": "env",
   "language": "python",
   "name": "python3"
  },
  "language_info": {
   "name": "python",
   "version": "3.10.9"
  },
  "orig_nbformat": 4
 },
 "nbformat": 4,
 "nbformat_minor": 2
}
