{
 "cells": [
  {
   "cell_type": "markdown",
   "metadata": {},
   "source": [
    "# 実験を終了する\n",
    "\n",
    "実験記録をデータガバナンス機能に保存して、実験を終了します。"
   ]
  },
  {
   "cell_type": "markdown",
   "metadata": {
    "heading_collapsed": true
   },
   "source": [
    "## 1.実行環境構成を記録する"
   ]
  },
  {
   "cell_type": "code",
   "execution_count": null,
   "metadata": {
    "hidden": true
   },
   "outputs": [],
   "source": [
    "%%sh\n",
    "conda env export -n base > ~/environment.yml\n",
    "pip freeze > ~/requirements.txt"
   ]
  },
  {
   "cell_type": "markdown",
   "metadata": {},
   "source": [
    "## 2. 高性能実験環境から実験記録を取得する\n",
    "\n",
    "高性能実験環境を利用している場合には、以下のセルを実行してください。"
   ]
  },
  {
   "cell_type": "code",
   "execution_count": null,
   "metadata": {},
   "outputs": [],
   "source": [
    "import os\n",
    "tmp = os.environ[\"BINDER_REF_URL\"]\n",
    "tmp = tmp.split(\"/\")\n",
    "tmp = tmp[len(tmp) - 1]\n",
    "repo_name = tmp[:tmp.find(\".\")]\n",
    "\n",
    "!rm ~/input_data/*\n",
    "!rm ~/output_data/*\n",
    "!rm ~/source/*\n",
    "\n",
    "!scp mdx:~/$repo_name/input_data/* ~/input_data/\n",
    "!scp mdx:~/$repo_name/output_data/* ~/output_data/\n",
    "!scp mdx:~/$repo_name/source/* ~/source/"
   ]
  },
  {
   "cell_type": "markdown",
   "metadata": {},
   "source": [
    "## 3. 実験記録をデータガバナンス機能に同期する\n",
    "\n",
    "実験記録をデータガバナンス機能に同期します。  \n",
    "以下のセルを実行してください。"
   ]
  },
  {
   "cell_type": "code",
   "execution_count": null,
   "metadata": {},
   "outputs": [],
   "source": [
    "from IPython.display import display, Javascript\n",
    "display(Javascript('IPython.notebook.save_checkpoint();'))"
   ]
  },
  {
   "cell_type": "code",
   "execution_count": null,
   "metadata": {
    "hidden": true
   },
   "outputs": [],
   "source": [
    "import os\n",
    "import glob\n",
    "\n",
    "# Git管理のパスのリストを作成する\n",
    "%cd ~/\n",
    "files = os.listdir()\n",
    "# ディレクトリ一覧からinput_dataとoutput_dataのディレクトリを排除する\n",
    "dirs = [f for f in files if os.path.isdir(f)]\n",
    "dirs.remove('input_data')\n",
    "dirs.remove('output_data')\n",
    "# HOME直下のファイルを取得\n",
    "files = [f for f in files if os.path.isfile(f)]\n",
    "files.extend(dirs)\n",
    "save_path = files"
   ]
  },
  {
   "cell_type": "code",
   "execution_count": null,
   "metadata": {},
   "outputs": [],
   "source": [
    "import papermill as pm\n",
    "\n",
    "%cd ~/\n",
    "annexed_save_path = ['input_data', 'output_data']\n",
    "# Git-annex管理ファイルを保存\n",
    "pm.execute_notebook(\n",
    "    'EX-WORKFLOW/util/base_datalad_save_push.ipynb',\n",
    "    '/home/jovyan/.local/push_log.ipynb',\n",
    "    parameters = dict(SAVE_MESSAGE = '実験終了', PATH = annexed_save_path, IS_RECURSIVE = False)\n",
    ")\n",
    "# Git管理ファイルを保存\n",
    "pm.execute_notebook(\n",
    "    'EX-WORKFLOW/util/base_datalad_save_push.ipynb',\n",
    "    '/home/jovyan/.local/push_log.ipynb',\n",
    "    parameters = dict(SAVE_MESSAGE = '実験終了', TO_GIT = True, PATH = save_path, IS_RECURSIVE = False)\n",
    ")"
   ]
  }
 ],
 "metadata": {
  "kernelspec": {
   "display_name": "Python 3 (ipykernel)",
   "language": "python",
   "name": "python3"
  },
  "language_info": {
   "codemirror_mode": {
    "name": "ipython",
    "version": 3
   },
   "file_extension": ".py",
   "mimetype": "text/x-python",
   "name": "python",
   "nbconvert_exporter": "python",
   "pygments_lexer": "ipython3",
   "version": "3.7.10"
  }
 },
 "nbformat": 4,
 "nbformat_minor": 4
}
