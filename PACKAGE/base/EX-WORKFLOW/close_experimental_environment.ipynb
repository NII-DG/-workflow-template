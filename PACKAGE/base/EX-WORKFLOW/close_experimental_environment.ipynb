{
 "cells": [
  {
   "cell_type": "markdown",
   "metadata": {},
   "source": [
    "# 実験実行環境を停止・削除する\n",
    "\n",
    "この実験環境を使った実験が終了し、実験環境が不要になった場合に実行してください。    \n",
    "コード付帯機能で構築可能な実験実行環境は最大10つであるため、不要な実行環境は削除することを推奨します。"
   ]
  },
  {
   "cell_type": "markdown",
   "metadata": {},
   "source": [
    "## 1. この実行環境を確認する\n",
    "\n",
    "以下のセルを実行して実行環境のサーバー名を確認して下さい。  "
   ]
  },
  {
   "cell_type": "code",
   "execution_count": null,
   "metadata": {
    "vscode": {
     "languageId": "plaintext"
    }
   },
   "outputs": [],
   "source": [
    "import os\n",
    "\n",
    "print(os.environ[\"JUPYTERHUB_SERVICE_PREFIX\"].split('/')[3])"
   ]
  },
  {
   "cell_type": "markdown",
   "metadata": {},
   "source": [
    "## 2. コード付帯機能のコントロールパネルへ遷移し、実行環境を停止・削除する\n",
    "\n",
    "[コントロールパネル](https://jupyter.cs.rcos.nii.ac.jp/hub/home)へ遷移して、`4.1`で確認したサーバーを`stop`、`delete`ボタンをクリックして停止・削除してください。  \n",
    "※`delete`ボタンは、以下の図のように`stop`ボタンをクリックした後に表示されます。  \n",
    "![コンテナ削除キャプチャ](https://raw.githubusercontent.com/NII-DG/workflow-template/develop/sections/PACKAGE/base/EX-WORKFLOW/images/%E3%82%B3%E3%83%B3%E3%83%86%E3%83%8A%E5%89%8A%E9%99%A4%E3%82%AD%E3%83%A3%E3%83%97%E3%83%81%E3%83%A3.png)"
   ]
  }
 ],
 "metadata": {
  "language_info": {
   "name": "python"
  },
  "orig_nbformat": 4
 },
 "nbformat": 4,
 "nbformat_minor": 2
}
