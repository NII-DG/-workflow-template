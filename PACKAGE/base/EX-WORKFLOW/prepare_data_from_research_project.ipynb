{
 "cells": [
  {
   "cell_type": "markdown",
   "metadata": {},
   "source": [
    "# 研究プロジェクトの実験データを利用する\n",
    "\n",
    "研究プロジェクトの実験データをこの実験の実験データ（入力データ、実験ソースコード）として準備します。  \n",
    "現在の実験のinput_dataもしくはsourceフォルダに既存実験のデータを格納する方法としては、フォルダを指定する方法とファイルを指定する方法があります。  "
   ]
  },
  {
   "cell_type": "markdown",
   "metadata": {},
   "source": [
    "## 開発メモ\n",
    "\n",
    "- 利用方法としては以下の2つ\n",
    "    - 指定された実験のフォルダ（input, output, source）配下の全ファイルのシンボリックリンクを一括で作成する｛フォルダレベル｝\n",
    "    - 指定されたファイルのみのシンボリックリンクを作成する｛ファイルレベル｝\n",
    "- 実装の注意点、検証内容\n",
    "    - ln -sコマンドは絶対パスで指定する。相対パスだとトップとresearch_project_data配下のパッケージのどちらか一方のみしか効かない\n",
    "    - シンボリックの対象がシンボリックでも問題ない\n"
   ]
  },
  {
   "cell_type": "markdown",
   "metadata": {},
   "source": [
    "## フォルダを指定して、既存実験の実験データを用意する\n",
    "\n",
    "既存実験のinput_data、source、output_dataフォルダを指定して、現在の実験のinput_dataもしくはsourceフォルダに格納します。"
   ]
  },
  {
   "cell_type": "markdown",
   "metadata": {},
   "source": [
    "### 開発メモ\n",
    "  \n",
    "研究プロジェクトフォルダ配下の実験一覧を取得  \n",
    "表示された実験一覧からユーザは実験のフォルダとコピー先を選択  \n",
    "選択された内容で実験データを用意する  "
   ]
  },
  {
   "cell_type": "markdown",
   "metadata": {},
   "source": [
    "### テスト：入力データを用意する"
   ]
  },
  {
   "cell_type": "code",
   "execution_count": null,
   "metadata": {
    "vscode": {
     "languageId": "plaintext"
    }
   },
   "outputs": [],
   "source": [
    "# 成功(両方で成功)　絶対パスで指定\n",
    "%cd ~/\n",
    "!ln -s /home/mizuguchi2/research_project_data/0413-container1/0413container-ex02/input_data/ex02 /home/mizuguchi2/research_project_data/0413-container1/package/input_data/ex02_4"
   ]
  },
  {
   "cell_type": "code",
   "execution_count": null,
   "metadata": {
    "vscode": {
     "languageId": "plaintext"
    }
   },
   "outputs": [],
   "source": [
    "# 成功(両方で成功)　絶対パスで指定\n",
    "import os\n",
    "%cd ~/\n",
    "home = os.getcwd()\n",
    "src = home + \"/research_project_data/0413-container1/0413container-ex02/input_data/ex02\"\n",
    "desc = home + \"/research_project_data/0413-container1/package/input_data/ex02_7\"\n",
    "!ln -s $src $desc"
   ]
  },
  {
   "cell_type": "markdown",
   "metadata": {},
   "source": [
    "## ファイルを指定して、既存実験の実験データを用意する\n",
    "\n",
    "既存実験データからファイルを指定して、現在の実験のinput_dataもしくはsourceフォルダに格納します。"
   ]
  }
 ],
 "metadata": {
  "language_info": {
   "name": "python"
  },
  "orig_nbformat": 4
 },
 "nbformat": 4,
 "nbformat_minor": 2
}
