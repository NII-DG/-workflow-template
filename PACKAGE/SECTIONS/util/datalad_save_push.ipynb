{
 "cells": [
  {
   "cell_type": "markdown",
   "metadata": {},
   "source": [
    "# ワークフロー実行結果を書き戻す\n",
    "\n",
    "このノートブックでは、変更内容をginリポジトリに書き戻します。  \n",
    "※各セクションのセルでpapermillによって自動実行されるノートブックなので手作業での実施は非推奨です。"
   ]
  },
  {
   "cell_type": "code",
   "execution_count": null,
   "metadata": {},
   "outputs": [],
   "source": [
    "SIBLING_NAME = 'gin'\n",
    "SAVE_MESSAGE = '[GIN] modify on binder'\n",
    "PATH = '/home/jovyan'\n",
    "RESULT_RENDERER = 'default'"
   ]
  },
  {
   "cell_type": "code",
   "execution_count": null,
   "metadata": {},
   "outputs": [],
   "source": [
    "from datalad import api\n",
    "\n",
    "api.save(message=SAVE_MESSAGE, path=PATH)"
   ]
  },
  {
   "cell_type": "code",
   "execution_count": null,
   "metadata": {},
   "outputs": [],
   "source": [
    "from datalad import api\n",
    "\n",
    "api.push(to=SIBLING_NAME, result_renderer=RESULT_RENDERER, path=PATH)\n",
    "api.unlock(PATH)"
   ]
  }
 ],
 "metadata": {
  "celltoolbar": "Tags",
  "kernelspec": {
   "display_name": "Python 3",
   "language": "python",
   "name": "python3"
  },
  "language_info": {
   "codemirror_mode": {
    "name": "ipython",
    "version": 3
   },
   "file_extension": ".py",
   "mimetype": "text/x-python",
   "name": "python",
   "nbconvert_exporter": "python",
   "pygments_lexer": "ipython3",
   "version": "3.8.12"
  }
 },
 "nbformat": 4,
 "nbformat_minor": 4
}
