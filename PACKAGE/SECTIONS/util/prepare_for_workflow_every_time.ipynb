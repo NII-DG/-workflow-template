{
 "cells": [
  {
   "cell_type": "markdown",
   "id": "4719bc46",
   "metadata": {},
   "source": [
    "# 必要な準備を行う\n",
    "\n",
    "ワークフロー実行のために必要な処理を行います。  \n",
    "上から順番に実行してください。"
   ]
  },
  {
   "cell_type": "markdown",
   "id": "0c1b8c2d",
   "metadata": {},
   "source": [
    "## ◆◆◆開発メモ◆◆◆\n",
    "- ゆくゆくはSSOに対応し、コンテナ立ち上げ毎のユーザー名、パスワード、メールアドレスの入力を避けたい"
   ]
  },
  {
   "cell_type": "markdown",
   "id": "3d968f7c",
   "metadata": {},
   "source": [
    "## 1.ユーザー情報を情報を入力する\n",
    "\n",
    "以下のセルを実行してデータガバナンス機能のユーザー名、パスワードを入力してください。"
   ]
  },
  {
   "cell_type": "code",
   "execution_count": null,
   "id": "178dfe28",
   "metadata": {},
   "outputs": [],
   "source": [
    "from IPython.display import clear_output\n",
    "import getpass\n",
    "name = input(\"ユーザー名：\")\n",
    "password = getpass.getpass(\"パスワード：\")\n",
    "clear_output()"
   ]
  },
  {
   "cell_type": "markdown",
   "id": "e6bf534d",
   "metadata": {
    "heading_collapsed": true
   },
   "source": [
    "## 2.準備を行う"
   ]
  },
  {
   "cell_type": "markdown",
   "id": "f7b22b8a",
   "metadata": {
    "hidden": true
   },
   "source": [
    "### - 2.1 .netrcにユーザー情報を追加する"
   ]
  },
  {
   "cell_type": "code",
   "execution_count": null,
   "id": "d00ece15",
   "metadata": {
    "hidden": true
   },
   "outputs": [],
   "source": [
    "!echo -e \"machine dg02.dg.rcos.nii.ac.jp\\nlogin $name\\npassword $password\" > ~/.netrc"
   ]
  },
  {
   "cell_type": "markdown",
   "id": "a1159efe",
   "metadata": {
    "hidden": true
   },
   "source": [
    "### - 2.2 実験リポジトリのREADMEに実験環境へのリンクを追加する"
   ]
  },
  {
   "cell_type": "code",
   "execution_count": null,
   "id": "f21df707",
   "metadata": {
    "hidden": true
   },
   "outputs": [],
   "source": [
    "%cd ~/\n",
    "with open('README.md', 'w') as f:\n",
    "    f.write(\"実験環境へ遷移する場合は以下のリンクをクリックしてください<br>https://jupyter.cs.rcos.nii.ac.jp\" + os.environ[\"JUPYTERHUB_SERVICE_PREFIX\"] + \"notebooks/experiment.ipynb\")"
   ]
  }
 ],
 "metadata": {
  "kernelspec": {
   "display_name": "Python 3 (ipykernel)",
   "language": "python",
   "name": "python3"
  },
  "language_info": {
   "codemirror_mode": {
    "name": "ipython",
    "version": 3
   },
   "file_extension": ".py",
   "mimetype": "text/x-python",
   "name": "python",
   "nbconvert_exporter": "python",
   "pygments_lexer": "ipython3",
   "version": "3.7.10"
  }
 },
 "nbformat": 4,
 "nbformat_minor": 5
}
