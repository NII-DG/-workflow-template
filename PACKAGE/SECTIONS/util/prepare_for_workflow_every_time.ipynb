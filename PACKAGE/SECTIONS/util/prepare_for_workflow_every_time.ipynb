{
 "cells": [
  {
   "cell_type": "markdown",
   "id": "4719bc46",
   "metadata": {},
   "source": [
    "# 必要な準備を行う\n",
    "\n",
    "ワークフロー実行のために必要なGINのユーザー情報を保持します。  \n",
    "上から順番に実行してください。"
   ]
  },
  {
   "cell_type": "markdown",
   "id": "0c1b8c2d",
   "metadata": {},
   "source": [
    "## ◆◆◆開発メモ◆◆◆\n",
    "ゆくゆくはSSOに対応し、コンテナ立ち上げ毎のユーザー名、パスワード、メールアドレスの入力を避けたい"
   ]
  },
  {
   "cell_type": "markdown",
   "id": "3d968f7c",
   "metadata": {},
   "source": [
    "## 1.ユーザー情報を情報を入力する\n",
    "\n",
    "以下のセルを実行してデータガバナンス機能のユーザー名、パスワード、メールアドレスを入力してください。"
   ]
  },
  {
   "cell_type": "code",
   "execution_count": null,
   "id": "178dfe28",
   "metadata": {},
   "outputs": [],
   "source": [
    "from IPython.display import clear_output\n",
    "import getpass\n",
    "name = input(\"ユーザー名：\")\n",
    "password = getpass.getpass(\"パスワード：\")\n",
    "email = input(\"メールアドレス：\")\n",
    "clear_output()"
   ]
  },
  {
   "cell_type": "markdown",
   "id": "e6bf534d",
   "metadata": {
    "heading_collapsed": true
   },
   "source": [
    "## 2.ユーザー情報を登録する"
   ]
  },
  {
   "cell_type": "markdown",
   "id": "f7b22b8a",
   "metadata": {
    "hidden": true
   },
   "source": [
    "### .netrcにユーザー情報を追加する"
   ]
  },
  {
   "cell_type": "code",
   "execution_count": null,
   "id": "d00ece15",
   "metadata": {
    "hidden": true
   },
   "outputs": [],
   "source": [
    "!echo -e \"machine dg02.dg.rcos.nii.ac.jp\\nlogin $name\\npassword $password\" > ~/.netrc"
   ]
  },
  {
   "cell_type": "markdown",
   "id": "f9fac9e3",
   "metadata": {},
   "source": [
    "## 3. 高性能実験環境利用のために必要な設定をする\n",
    "\n",
    "高性能実験環境を利用している場合には、以降のセルを実行してください。"
   ]
  },
  {
   "cell_type": "markdown",
   "id": "95dd9d4a",
   "metadata": {},
   "source": [
    "### 3.1. アカウント情報の入力\n",
    "\n",
    "以下のセルを実行し、表示されるフォームにアカウント情報を入力してください。"
   ]
  },
  {
   "cell_type": "code",
   "execution_count": null,
   "id": "c044a604",
   "metadata": {},
   "outputs": [],
   "source": [
    "from IPython.display import clear_output\n",
    "import getpass\n",
    "name_mdx = input(\"高性能実験環境におけるSSHユーザ名：\")\n",
    "clear_output()"
   ]
  },
  {
   "cell_type": "markdown",
   "id": "f74f6fc6",
   "metadata": {},
   "source": [
    "### 3.2. SSH秘密鍵の設置\n",
    "\n",
    "左上のバナーを押下し、ファイル一覧画面に遷移してください。  \n",
    "遷移後、id_rsaファイルをドラッグアンドドロップによりアップロードしてください。  \n",
    "アップロード後、以下のセルを実行してください。"
   ]
  },
  {
   "cell_type": "code",
   "execution_count": null,
   "id": "96f80980",
   "metadata": {},
   "outputs": [],
   "source": [
    "!mkdir -p /home/jovyan/.ssh/\n",
    "!mv ~/id_rsa ~/.ssh/\n",
    "!chmod 600 ~/.ssh/id_rsa\n",
    "\n",
    "with open(\"/home/jovyan/.ssh/config\", \"a\") as f:\n",
    "     f.write(\"Host mdx\\n\")\n",
    "     f.write(\"  Hostname 163.220.176.51\\n\")\n",
    "     f.write(\"  User \" + name_mdx + \"\\n\")\n",
    "     f.write(\"  Port 22\\n\")\n",
    "     f.write(\"  IdentityFile ~/.ssh/id_rsa\\n\")\n",
    "     f.write(\"  StrictHostKeyChecking no\\n\")"
   ]
  },
  {
   "cell_type": "markdown",
   "id": "d4fa1a16",
   "metadata": {},
   "source": [
    "### 3.3. 実験活動のためのディレクトリ初期化"
   ]
  },
  {
   "cell_type": "code",
   "execution_count": null,
   "id": "811388c8",
   "metadata": {},
   "outputs": [],
   "source": [
    "import os\n",
    "tmp = os.environ[\"BINDER_REF_URL\"]\n",
    "tmp = tmp.split(\"/\")\n",
    "tmp = tmp[len(tmp) - 1]\n",
    "repo_name = tmp[:tmp.find(\".\")]\n",
    "\n",
    "cmd = \"mkdir ./\" + repo_name + \"/\"\n",
    "!ssh mdx $cmd\n",
    "\n",
    "!scp -r ~/input_data/ mdx:~/$repo_name/input_data\n",
    "!scp -r ~/output_data/ mdx:~/$repo_name/output_data\n",
    "!scp -r ~/source/ mdx:~/$repo_name/source"
   ]
  }
 ],
 "metadata": {
  "kernelspec": {
   "display_name": "Python 3 (ipykernel)",
   "language": "python",
   "name": "python3"
  },
  "language_info": {
   "codemirror_mode": {
    "name": "ipython",
    "version": 3
   },
   "file_extension": ".py",
   "mimetype": "text/x-python",
   "name": "python",
   "nbconvert_exporter": "python",
   "pygments_lexer": "ipython3",
   "version": "3.7.10"
  }
 },
 "nbformat": 4,
 "nbformat_minor": 5
}
