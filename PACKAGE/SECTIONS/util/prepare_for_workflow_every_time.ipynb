{
 "cells": [
  {
   "cell_type": "markdown",
   "id": "4719bc46",
   "metadata": {},
   "source": [
    "# 必要な準備を行う\n",
    "\n",
    "ワークフロー実行のために必要なGINのユーザー情報を保持します。  \n",
    "上から順番に実行してください。"
   ]
  },
  {
   "cell_type": "markdown",
   "id": "e4be0eed",
   "metadata": {},
   "source": [
    "## ◆◆◆開発メモ◆◆◆\n",
    "ゆくゆくはSSOに対応し、コンテナ立ち上げ毎のユーザー名、パスワード、メールアドレスの入力を避けたい"
   ]
  },
  {
   "cell_type": "markdown",
   "id": "3d968f7c",
   "metadata": {},
   "source": [
    "## 1.ユーザー情報を情報を入力する\n",
    "\n",
    "以下のセルを実行してデータガバナンス機能のユーザー名、パスワード、メールアドレスを入力してください。"
   ]
  },
  {
   "cell_type": "code",
   "execution_count": null,
   "id": "178dfe28",
   "metadata": {},
   "outputs": [],
   "source": [
    "from IPython.display import clear_output\n",
    "import getpass\n",
    "name = input(\"ユーザー名：\")\n",
    "password = getpass.getpass(\"パスワード：\")\n",
    "email = input(\"メールアドレス：\")\n",
    "clear_output()"
   ]
  },
  {
   "cell_type": "markdown",
   "id": "32fd0ac3",
   "metadata": {
    "heading_collapsed": true
   },
   "source": [
    "## 2.ユーザー情報を登録する"
   ]
  },
  {
   "cell_type": "markdown",
   "id": "7f4e6834",
   "metadata": {
    "hidden": true
   },
   "source": [
    "### .netrcにユーザー情報を追加する"
   ]
  },
  {
   "cell_type": "code",
   "execution_count": null,
   "id": "13de3d0a",
   "metadata": {
    "hidden": true
   },
   "outputs": [],
   "source": [
    "!echo -e \"machine dg02.dg.rcos.nii.ac.jp\\nlogin $name\\npassword $password\" > ~/.netrc"
   ]
  }
 ],
 "metadata": {
  "kernelspec": {
   "display_name": "Python 3 (ipykernel)",
   "language": "python",
   "name": "python3"
  },
  "language_info": {
   "codemirror_mode": {
    "name": "ipython",
    "version": 3
   },
   "file_extension": ".py",
   "mimetype": "text/x-python",
   "name": "python",
   "nbconvert_exporter": "python",
   "pygments_lexer": "ipython3",
   "version": "3.7.10"
  }
 },
 "nbformat": 4,
 "nbformat_minor": 5
}
