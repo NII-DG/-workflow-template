{
 "cells": [
  {
   "cell_type": "markdown",
   "metadata": {},
   "source": [
    "# 実験支援ノートブック\n",
    "\n",
    "これは、実験中のワークフローを支援するためのノートブックです。  \n",
    "リンクに遷移して必要なワークフローを実行してください。  \n",
    "※実験は、sourceフォルダ内の [main.ipynb](./source/main.ipynb) に記述してください。"
   ]
  },
  {
   "cell_type": "markdown",
   "metadata": {},
   "source": [
    "##  0. 準備\n",
    "\n",
    "実験開始前に、以下のセルを実行し、表示されたURLに遷移して、【ユーザ名】と【パスワード】を書き換えてください。"
   ]
  },
  {
   "cell_type": "code",
   "execution_count": null,
   "metadata": {},
   "outputs": [],
   "source": [
    "%%sh\n",
    "echo \"\n",
    "machine dg02.dg.rcos.nii.ac.jp\n",
    "login 【ユーザ名】\n",
    "password 【パスワード】\n",
    "\" > ~/.netrc"
   ]
  },
  {
   "cell_type": "code",
   "execution_count": null,
   "metadata": {},
   "outputs": [],
   "source": [
    "import os\n",
    "print(\"https://jupyter.cs.rcos.nii.ac.jp\" + os.environ[\"JUPYTERHUB_SERVICE_PREFIX\"] + \"edit/.netrc\")"
   ]
  },
  {
   "cell_type": "markdown",
   "metadata": {},
   "source": [
    "## 1. 実験中ワークフロー"
   ]
  },
  {
   "cell_type": "markdown",
   "metadata": {},
   "source": [
    "||||\n",
    "|:---:|:---:|:---:|\n",
    "|[実験メタデータを入力する](./SECTIONS/enter_metadata.ipynb)|[実験を途中保存する](./SECTIONS/save.ipynb)|[実験を終了する](./SECTIONS/finish.ipynb)"
   ]
  }
 ],
 "metadata": {
  "kernelspec": {
   "display_name": "Python 3",
   "language": "python",
   "name": "python3"
  },
  "language_info": {
   "codemirror_mode": {
    "name": "ipython",
    "version": 3
   },
   "file_extension": ".py",
   "mimetype": "text/x-python",
   "name": "python",
   "nbconvert_exporter": "python",
   "pygments_lexer": "ipython3",
   "version": "3.8.12"
  }
 },
 "nbformat": 4,
 "nbformat_minor": 4
}
