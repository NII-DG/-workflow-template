{
 "cells": [
  {
   "cell_type": "markdown",
   "id": "a99494bd",
   "metadata": {},
   "source": [
    "# 実験支援ワークフロー（高性能実験環境）\n",
    "\n",
    "高性能実験環境における実験中のワークフローを支援します。"
   ]
  },
  {
   "cell_type": "markdown",
   "id": "db705702",
   "metadata": {},
   "source": [
    "## アカウント情報の入力\n",
    "\n",
    "以下のセルを実行し、表示されるフォームにアカウント情報を入力してください。"
   ]
  },
  {
   "cell_type": "code",
   "execution_count": null,
   "id": "50625ac1",
   "metadata": {},
   "outputs": [],
   "source": [
    "from IPython.display import clear_output\n",
    "import getpass\n",
    "name_mdx = input(\"ユーザー名（高性能実験環境）：\")\n",
    "name_dg = input(\"ユーザー名（データガバナンス機能）：\")\n",
    "password = getpass.getpass(\"パスワード：\")\n",
    "email = input(\"メールアドレス：\")\n",
    "clear_output()"
   ]
  },
  {
   "cell_type": "markdown",
   "id": "9c1e9f81",
   "metadata": {},
   "source": [
    "## SSH秘密鍵をアップロード\n",
    "\n",
    "左上のバナーを押下し、ファイル一覧画面に遷移してください。  \n",
    "遷移後、id_rsaファイルをドラッグアンドドロップによりアップロードしてください。"
   ]
  },
  {
   "cell_type": "markdown",
   "id": "fa362a5f",
   "metadata": {},
   "source": [
    "## SSH接続設定\n",
    "\n",
    "以下のセルを実行し、高性能実験環境へのSSH接続設定を行ってください。"
   ]
  },
  {
   "cell_type": "code",
   "execution_count": null,
   "id": "541dce5a",
   "metadata": {},
   "outputs": [],
   "source": [
    "!mkdir -p /home/jovyan/.ssh/\n",
    "\n",
    "with open(\"/home/jovyan/.ssh/config\", \"a\") as f:\n",
    "     f.write(\"Host mdx\\n\")\n",
    "     f.write(\"  Hostname 163.220.176.50\\n\")\n",
    "     f.write(\"  User \" + name_mdx + \"\\n\")\n",
    "     f.write(\"  Port 22\\n\")\n",
    "     f.write(\"  IdentityFile ~/id_rsa\\n\")"
   ]
  },
  {
   "cell_type": "markdown",
   "id": "c6134e47",
   "metadata": {},
   "source": [
    "## 高性能実験環境における初期設定\n",
    "\n",
    "以下のセルを順番に実行し、高性能実験環境における初期設定を行ってください。"
   ]
  },
  {
   "cell_type": "code",
   "execution_count": null,
   "id": "0aba9dae",
   "metadata": {},
   "outputs": [],
   "source": [
    "import os\n",
    "cmd = \"git clone \" + os.environ[\"BINDER_REF_URL\"]\n",
    "!ssh mdx $cmd"
   ]
  },
  {
   "cell_type": "code",
   "execution_count": null,
   "id": "25d6b7e9",
   "metadata": {
    "scrolled": true
   },
   "outputs": [],
   "source": [
    "cmd = \"git config --global user.email \" + email\n",
    "!ssh mdx $cmd\n",
    "cmd = \"git config --global user.name \" + name_dg\n",
    "!ssh mdx $cmd"
   ]
  },
  {
   "cell_type": "code",
   "execution_count": null,
   "id": "6cfa89c7",
   "metadata": {},
   "outputs": [],
   "source": [
    "!echo -e \"machine dg02.dg.rcos.nii.ac.jp\\nlogin $name_dg\\npassword $password\" > ~/.netrc\n",
    "!scp ~/.netrc mdx:~/.netrc\n",
    "!rm ~/.netrc"
   ]
  },
  {
   "cell_type": "markdown",
   "id": "5061e997",
   "metadata": {},
   "source": [
    "## 実験\n",
    "\n",
    "左上のバナーを押下し、ファイル一覧画面に遷移してください。  \n",
    "ファイル一覧画面にて、「New」「Terminal」を押下すると、コンソール画面に遷移します。  \n",
    "以下のセルを実行して出力されたコマンドを実行すると、高性能実験環境にアクセスできます。"
   ]
  },
  {
   "cell_type": "code",
   "execution_count": null,
   "id": "5cb3bfd5",
   "metadata": {},
   "outputs": [],
   "source": [
    "print(\"$ ssh mdx\")\n",
    "\n",
    "import os\n",
    "tmp = os.environ[\"BINDER_REF_URL\"]\n",
    "tmp = tmp.split(\"/\")\n",
    "tmp = tmp[len(tmp) - 1]\n",
    "repo_name = tmp[:tmp.find(\".\")]\n",
    "\n",
    "print(\"$ cd ~/\" + repo_name + \"/\")"
   ]
  },
  {
   "cell_type": "markdown",
   "id": "6b6b394d",
   "metadata": {},
   "source": [
    "## 実験結果の記録\n",
    "\n",
    "以下のセルを実行して出力されたコマンドを、高性能実験環境にssh接続している状態で実行することで実験結果が記録されます。"
   ]
  },
  {
   "cell_type": "code",
   "execution_count": null,
   "id": "515df27a",
   "metadata": {},
   "outputs": [],
   "source": [
    "import os\n",
    "tmp = os.environ[\"BINDER_REF_URL\"]\n",
    "tmp = tmp.split(\"/\")\n",
    "tmp = tmp[len(tmp) - 1]\n",
    "repo_name = tmp[:tmp.find(\".\")]\n",
    "\n",
    "print(\"$ cd ~/\" + repo_name + \"/\")\n",
    "print(\"$ git add .\")\n",
    "print(\"$ git commit -m '実験終了'\")\n",
    "print(\"$ git push origin master\")"
   ]
  }
 ],
 "metadata": {
  "kernelspec": {
   "display_name": "Python 3 (ipykernel)",
   "language": "python",
   "name": "python3"
  },
  "language_info": {
   "codemirror_mode": {
    "name": "ipython",
    "version": 3
   },
   "file_extension": ".py",
   "mimetype": "text/x-python",
   "name": "python",
   "nbconvert_exporter": "python",
   "pygments_lexer": "ipython3",
   "version": "3.7.10"
  }
 },
 "nbformat": 4,
 "nbformat_minor": 5
}
