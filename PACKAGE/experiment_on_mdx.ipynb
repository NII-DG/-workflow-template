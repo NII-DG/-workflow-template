{
 "cells": [
  {
   "cell_type": "markdown",
   "id": "a99494bd",
   "metadata": {},
   "source": [
    "# 実験中（高性能実験環境）"
   ]
  },
  {
   "cell_type": "markdown",
   "id": "9c1e9f81",
   "metadata": {},
   "source": [
    "## SSH秘密鍵をアップロード\n",
    "\n",
    "左上のバナーを押下し、ファイル一覧画面に遷移してください。  \n",
    "遷移後、id_rsaファイルをドラッグアンドドロップによりアップロードしてください。"
   ]
  },
  {
   "cell_type": "markdown",
   "id": "774feeab",
   "metadata": {},
   "source": [
    "## 実験環境へ接続するためのパッケージをインストール"
   ]
  },
  {
   "cell_type": "code",
   "execution_count": null,
   "id": "a8a94008",
   "metadata": {},
   "outputs": [],
   "source": [
    "!pip install sshkernel\n",
    "!python -m sshkernel install --user"
   ]
  },
  {
   "cell_type": "markdown",
   "id": "1fe41a4e",
   "metadata": {},
   "source": [
    "## カーネルの変更\n",
    "\n",
    "カーネル（プログラムの実行環境）を変更します。  \n",
    "上部メニューから「Kernel」を押下し、「Change kernel」の「SSH」を選択してください。"
   ]
  },
  {
   "cell_type": "markdown",
   "id": "80df5e6a",
   "metadata": {},
   "source": [
    "## 高性能実験環境（mdx）へ接続\n",
    "\n",
    "以下のセルを実行し、「Successfully logged in.」のメッセージが表示されることを確認してください。"
   ]
  },
  {
   "cell_type": "code",
   "execution_count": null,
   "id": "7e5f1380",
   "metadata": {},
   "outputs": [],
   "source": [
    "%login mdx"
   ]
  },
  {
   "cell_type": "markdown",
   "id": "3f8e1cc3",
   "metadata": {},
   "source": [
    "## 実験環境に必要なライブラリ等をインストール"
   ]
  },
  {
   "cell_type": "code",
   "execution_count": null,
   "id": "20538358",
   "metadata": {},
   "outputs": [],
   "source": [
    "sudo apt update\n",
    "sudo apt install -y datalad"
   ]
  },
  {
   "cell_type": "code",
   "execution_count": null,
   "id": "6c03ef28",
   "metadata": {},
   "outputs": [],
   "source": [
    "datalad clone http://xxxx.git\n",
    "cd ~/xxxx"
   ]
  },
  {
   "cell_type": "markdown",
   "id": "c9d70835",
   "metadata": {},
   "source": [
    "## 実験操作"
   ]
  },
  {
   "cell_type": "code",
   "execution_count": null,
   "id": "a07b448c",
   "metadata": {},
   "outputs": [],
   "source": [
    "echo hello > sample_ssh-kernel.txt"
   ]
  },
  {
   "cell_type": "code",
   "execution_count": null,
   "id": "9961c337",
   "metadata": {},
   "outputs": [],
   "source": [
    "%python x = 3"
   ]
  },
  {
   "cell_type": "code",
   "execution_count": null,
   "id": "c2a00ac3",
   "metadata": {},
   "outputs": [],
   "source": [
    "%python x + 2"
   ]
  },
  {
   "cell_type": "markdown",
   "id": "e6f62d99",
   "metadata": {},
   "source": [
    "# 実験完了"
   ]
  },
  {
   "cell_type": "code",
   "execution_count": null,
   "id": "d863df12",
   "metadata": {},
   "outputs": [],
   "source": [
    "datalad save -m '実験完了'"
   ]
  },
  {
   "cell_type": "code",
   "execution_count": null,
   "id": "98322e57",
   "metadata": {},
   "outputs": [],
   "source": [
    "datalad push"
   ]
  }
 ],
 "metadata": {
  "kernelspec": {
   "display_name": "Python 3 (ipykernel)",
   "language": "python",
   "name": "python3"
  },
  "language_info": {
   "codemirror_mode": {
    "name": "ipython",
    "version": 3
   },
   "file_extension": ".py",
   "mimetype": "text/x-python",
   "name": "python",
   "nbconvert_exporter": "python",
   "pygments_lexer": "ipython3",
   "version": "3.7.10"
  }
 },
 "nbformat": 4,
 "nbformat_minor": 5
}
