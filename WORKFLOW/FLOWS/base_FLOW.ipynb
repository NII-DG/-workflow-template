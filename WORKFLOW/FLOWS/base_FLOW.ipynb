{
 "cells": [
  {
   "cell_type": "markdown",
   "metadata": {},
   "source": [
    "# FLOW\n",
    "\n",
    "このノートブックは、研究の準備、実施、公開までの研究者のワークフロー実施を支援します。  \n",
    "「0.データガバナンス機能と連携する」を最初に実行したあと、初期フェーズから中期フェーズ、後期フェーズの順に進んでください。  \n",
    "各フェーズでは、リンクからセクションノートブックに遷移し、手順に沿ってセルを実行することでワークフローを行えます。"
   ]
  },
  {
   "cell_type": "markdown",
   "metadata": {},
   "source": [
    "## 0. ワークフローを実行するための準備をする\n",
    "\n",
    "ワークフロー実行結果をデータガバナンス機能に書き戻すために必要な処理を行います。  \n",
    "次のフェーズに進む前に必ず実行する必要があります。"
   ]
  },
  {
   "cell_type": "markdown",
   "metadata": {},
   "source": [
    "|||\n",
    "|:---:|:---:|\n",
    "|[binder環境立ち上げ毎に実行](../SECTIONS/base/util/prepare_for_workflow_every_time.ipynb)|[初回立ち上げ時に実行](../SECTIONS/base/util/prepare_for_workflow.ipynb)|"
   ]
  },
  {
   "cell_type": "markdown",
   "metadata": {},
   "source": [
    "## 1. 研究準備フェーズ\n",
    "\n",
    "研究準備フェーズでは実験前の準備をサポートします。"
   ]
  },
  {
   "cell_type": "markdown",
   "metadata": {},
   "source": [
    "||||||\n",
    "|:---:|:---:|:---:|:---:|:---:|\n",
    "|[GakuNin RDMと連携する](../SECTIONS/base/01_preparation_phase/work_with_GakuNinRDM.ipynb)|[データクリーニングツールを準備する](../SECTIONS/base/01_preparation_phase/setup_data_cleaning_tools.ipynb)|[データ分析ツールを準備する](../SECTIONS/base/01_preparation_phase/setup_data_analysis_tools.ipynb)|"
   ]
  },
  {
   "cell_type": "markdown",
   "metadata": {},
   "source": [
    "## 2. 実験期フェーズ\n",
    "\n",
    "実験期フェーズでは実験の試行錯誤や再現性の確保をサポートします。"
   ]
  },
  {
   "cell_type": "markdown",
   "metadata": {},
   "source": [
    "||||||\n",
    "|:---:|:---:|:---:|:---:|:---:|\n",
    "|[実験を実行する](../SECTIONS/base/02_experimental_phase/launch_an_experiment.ipynb)|[実験パイプラインをチェックする](../SECTIONS/base/02_experimental_phase/check_pipeline.ipynb)|[実験パイプラインを実行する](../SECTIONS/base/02_experimental_phase/run_pipeline.ipynb)|[研究リポジトリをモニタリングする](../SECTIONS/base/02_experimental_phase/monitor_repository.ipynb)|"
   ]
  },
  {
   "cell_type": "markdown",
   "metadata": {},
   "source": [
    "## 3. 実験終了後フェーズ\n",
    "\n",
    "実験終了後フェーズでは研究成果の公開をサポートします。"
   ]
  },
  {
   "cell_type": "markdown",
   "metadata": {},
   "source": [
    "|||\n",
    "|:---:|:---:|\n",
    "|[研究成果を公開する](../SECTIONS/base/03_after_research_phase/publish.ipynb)|"
   ]
  }
 ],
 "metadata": {
  "kernelspec": {
   "display_name": "Python 3",
   "language": "python",
   "name": "python3"
  },
  "language_info": {
   "codemirror_mode": {
    "name": "ipython",
    "version": 3
   },
   "file_extension": ".py",
   "mimetype": "text/x-python",
   "name": "python",
   "nbconvert_exporter": "python",
   "pygments_lexer": "ipython3",
   "version": "3.8.12"
  }
 },
 "nbformat": 4,
 "nbformat_minor": 4
}
