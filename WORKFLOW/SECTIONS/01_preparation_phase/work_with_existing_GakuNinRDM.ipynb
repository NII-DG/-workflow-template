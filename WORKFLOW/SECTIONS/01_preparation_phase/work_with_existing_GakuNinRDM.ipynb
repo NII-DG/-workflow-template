{
 "cells": [
  {
   "cell_type": "markdown",
   "metadata": {},
   "source": [
    "# GakuNin RDMの既存のプロジェクトと連携する\n",
    "\n",
    "これはDMP情報に基づき、GakuNin RDMと連携するためのノートブックです。  \n",
    "※このノートブックを実行するためには、FLOWの「0. データガバナンス機能と連携する」の実行後である必要があります。"
   ]
  },
  {
   "cell_type": "markdown",
   "metadata": {},
   "source": [
    "## 1. 連携する既存プロジェクト情報を取得する"
   ]
  },
  {
   "cell_type": "markdown",
   "metadata": {},
   "source": [
    "    - DMPのプロジェクト名とGakuNin RDMのプロジェクト名が同じ場合\n",
    "        1.DMP情報からプロジェクト名を取得する\n",
    "    - GakuNin RDMのプロジェクト名を指定して連携する場合\n",
    "        1.変数にプロジェクト名を入力する"
   ]
  },
  {
   "cell_type": "markdown",
   "metadata": {},
   "source": [
    "## 2. GakuNin RDMからデータガバナンス機能に接続する"
   ]
  },
  {
   "cell_type": "markdown",
   "metadata": {},
   "source": [
    "APIでプロジェクトを検索する  \n",
    "管理基盤のアドオンでプロジェクトとデータガバナンス機能をgin接続する  "
   ]
  },
  {
   "cell_type": "markdown",
   "metadata": {},
   "source": [
    "## 3. データガバナンス機能からGakuNin RDMに接続する"
   ]
  },
  {
   "cell_type": "markdown",
   "metadata": {},
   "source": [
    "リポジトリのREADME.mdにGakuNin RDMへのリンクを貼付する"
   ]
  },
  {
   "cell_type": "markdown",
   "metadata": {},
   "source": [
    "## 4. 変更内容を書き戻す\n",
    "\n",
    "params.yamlの情報を用いてこのノートブックの実行結果をginリポジトリに反映します。"
   ]
  },
  {
   "cell_type": "code",
   "execution_count": null,
   "metadata": {},
   "outputs": [],
   "source": [
    "import papermill as pm\n",
    "\n",
    "pm.execute_notebook(\n",
    "    '../util/datalad_save_push.ipynb',\n",
    "    '-',\n",
    "    parameters = dict(SAVE_MESSAGE = 'GakuNin RDMと連携', PATH = '/home/jovyan/README.md')\n",
    ")"
   ]
  }
 ],
 "metadata": {
  "kernelspec": {
   "display_name": "Python 3",
   "language": "python",
   "name": "python3"
  },
  "language_info": {
   "codemirror_mode": {
    "name": "ipython",
    "version": 3
   },
   "file_extension": ".py",
   "mimetype": "text/x-python",
   "name": "python",
   "nbconvert_exporter": "python",
   "pygments_lexer": "ipython3",
   "version": "3.7.8"
  }
 },
 "nbformat": 4,
 "nbformat_minor": 4
}
