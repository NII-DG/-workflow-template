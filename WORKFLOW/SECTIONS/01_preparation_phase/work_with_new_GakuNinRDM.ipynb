{
 "cells": [
  {
   "cell_type": "markdown",
   "metadata": {},
   "source": [
    "# 新規プロジェクトを作成して連携する\n",
    "\n",
    "これはDMP情報に基づき、GakuNin RDMと連携するためのノートブックです。  \n",
    "※このノートブックを実行するためには、FLOWの「0. データガバナンス機能と連携する」の実行後である必要があります。"
   ]
  },
  {
   "cell_type": "markdown",
   "metadata": {},
   "source": [
    "## 1. DMP情報からプロジェクト名を取得する"
   ]
  },
  {
   "cell_type": "markdown",
   "metadata": {},
   "source": [
    "## 2. GakuNin RDMのAPIでプロジェクトを作成する"
   ]
  },
  {
   "cell_type": "markdown",
   "metadata": {},
   "source": [
    "## 3. 作成時に反映できない情報があればプロジェクトの情報を更新する"
   ]
  },
  {
   "cell_type": "markdown",
   "metadata": {},
   "source": [
    "## 4. GakuNin RDMからデータガバナンス機能に接続する"
   ]
  },
  {
   "cell_type": "markdown",
   "metadata": {},
   "source": [
    "## 5. データガバナンス機能からGakuNin RDMに接続する"
   ]
  },
  {
   "cell_type": "markdown",
   "metadata": {},
   "source": [
    "リポジトリのREADME.mdにGakuNin RDMのリンクを貼付する"
   ]
  },
  {
   "cell_type": "markdown",
   "metadata": {},
   "source": [
    "## 6. 変更内容を書き戻す\n",
    "\n",
    "params.yamlの情報を用いてこのノートブックの実行結果をginリポジトリに反映します。"
   ]
  },
  {
   "cell_type": "code",
   "execution_count": null,
   "metadata": {},
   "outputs": [],
   "source": [
    "%%sh\n",
    "papermill -f ../../params.yaml -p SAVE_MESSAGE = 'GakuNin RDMと連携' -p PATH = '/home/jovyan/README.md' ../util/datalad_save_push.ipynb - "
   ]
  }
 ],
 "metadata": {
  "kernelspec": {
   "display_name": "Python 3",
   "language": "python",
   "name": "python3"
  },
  "language_info": {
   "codemirror_mode": {
    "name": "ipython",
    "version": 3
   },
   "file_extension": ".py",
   "mimetype": "text/x-python",
   "name": "python",
   "nbconvert_exporter": "python",
   "pygments_lexer": "ipython3",
   "version": "3.7.8"
  }
 },
 "nbformat": 4,
 "nbformat_minor": 4
}
