{
 "cells": [
  {
   "cell_type": "markdown",
   "metadata": {},
   "source": [
    "# 研究リポジトリを初期化する\n",
    "\n",
    "これはDMP情報に基づき、研究リポジトリを初期化するためのノートブックです。"
   ]
  },
  {
   "cell_type": "markdown",
   "metadata": {},
   "source": [
    "## 1. dmp.jsonからプロジェクト名を取得する"
   ]
  },
  {
   "cell_type": "markdown",
   "metadata": {},
   "source": [
    "## 2. 取得したプロジェクト名で研究リポジトリを初期化する"
   ]
  },
  {
   "cell_type": "markdown",
   "metadata": {},
   "source": [
    "## 3. 変更内容を書き戻す"
   ]
  },
  {
   "cell_type": "markdown",
   "metadata": {},
   "source": [
    "# [dummy] 本リポジトリのDMP情報\n",
    "\n",
    "※以下は、ワークフロー機能で利用する本リポジトリのDMP情報の一覧です。入力いただいたdmp.jsonの内容に基づいてシステムが定義しているため、**手動で変更・実行する必要はありません**。"
   ]
  },
  {
   "cell_type": "code",
   "execution_count": null,
   "metadata": {},
   "outputs": [],
   "source": [
    "######################\n",
    "### parameterized by system ###\n",
    "######################\n",
    "\n",
    "PROJECT_NAME = \"The project\"\n",
    "LEADER = \"John Doe\"\n",
    "RESEARCHES = .... "
   ]
  }
 ],
 "metadata": {
  "kernelspec": {
   "display_name": "Python 3",
   "language": "python",
   "name": "python3"
  },
  "language_info": {
   "codemirror_mode": {
    "name": "ipython",
    "version": 3
   },
   "file_extension": ".py",
   "mimetype": "text/x-python",
   "name": "python",
   "nbconvert_exporter": "python",
   "pygments_lexer": "ipython3",
   "version": "3.7.8"
  }
 },
 "nbformat": 4,
 "nbformat_minor": 4
}
