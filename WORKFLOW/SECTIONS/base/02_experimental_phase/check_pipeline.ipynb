{
 "cells": [
  {
   "cell_type": "markdown",
   "metadata": {},
   "source": [
    "# 実験パイプラインのチェック\n",
    "\n",
    "これは実験パイプライン構成をチェックするためのノートブックです。  "
   ]
  },
  {
   "cell_type": "markdown",
   "metadata": {},
   "source": [
    "## 1. パイプライン定義ファイルのチェック\n",
    "\n",
    "- このステップでは、パイプライン定義ファイルとパッケージ群の情報に相違がないか確認します。\n",
    "- 以下のセルを実行し、エラーが起きないことを確認してください。\n",
    "- エラーが起きた場合は、[pipeline.json](../../../../experiments/pipeline.json)を修正＆エラーが起きなくなるまで再実行を繰り返してください。"
   ]
  },
  {
   "cell_type": "code",
   "execution_count": null,
   "metadata": {},
   "outputs": [],
   "source": [
    "import os\n",
    "import json\n",
    "import glob\n",
    "\n",
    "# 作業ディレクトリに移動\n",
    "%cd ~/experiments/\n",
    "\n",
    "# 実験パイプライン定義ファイルの読み込み\n",
    "pipeline = json.load(open(\"pipeline.json\"))\n",
    "print(\"実験パイプライン：\" + str(pipeline))\n",
    "\n",
    "# 実験パッケージ群の読み込み\n",
    "files = glob.glob(\"./*/\")\n",
    "\n",
    "experiments = []\n",
    "for file in files:\n",
    "    experiments += [os.path.basename(file[:-1])]\n",
    "print(\"実験パッケージ　：\" + str(experiments))\n",
    "\n",
    "# 元のディレクトリに移動\n",
    "%cd -\n",
    "\n",
    "# 過不足の確認\n",
    "if set(pipeline) != set(experiments):\n",
    "    raise(\"実験パイプラインと実験パッケージ間で相違がある\")"
   ]
  },
  {
   "cell_type": "markdown",
   "metadata": {},
   "source": [
    "## 2. 変更内容を書き戻す"
   ]
  },
  {
   "cell_type": "code",
   "execution_count": null,
   "metadata": {},
   "outputs": [],
   "source": [
    "import papermill as pm\n",
    "\n",
    "pm.execute_notebook(\n",
    "    '../util/datalad_save_push.ipynb',\n",
    "    '-',\n",
    "    parameters = dict(SAVE_MESSAGE = 'パイプライン構築', PATH = [未定])\n",
    ")"
   ]
  }
 ],
 "metadata": {
  "kernelspec": {
   "display_name": "Python 3 (ipykernel)",
   "language": "python",
   "name": "python3"
  },
  "language_info": {
   "codemirror_mode": {
    "name": "ipython",
    "version": 3
   },
   "file_extension": ".py",
   "mimetype": "text/x-python",
   "name": "python",
   "nbconvert_exporter": "python",
   "pygments_lexer": "ipython3",
   "version": "3.7.12"
  }
 },
 "nbformat": 4,
 "nbformat_minor": 4
}
