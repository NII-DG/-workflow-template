{
 "cells": [
  {
   "cell_type": "markdown",
   "metadata": {},
   "source": [
    "# ワークフロー実行のための準備\n",
    "\n",
    "このノートブックでは、ワークフロー実行のための準備を行います。 \n",
    "上から順番にセルを実行してください。"
   ]
  },
  {
   "cell_type": "markdown",
   "metadata": {},
   "source": [
    "## 1. SSH鍵を準備する"
   ]
  },
  {
   "cell_type": "markdown",
   "metadata": {},
   "source": [
    "1. SSH鍵を生成し、秘密鍵を.ssh/id_rsaに配置します。"
   ]
  },
  {
   "cell_type": "code",
   "execution_count": null,
   "metadata": {},
   "outputs": [],
   "source": [
    "%%sh\n",
    "cd ~/\n",
    "mkdir .ssh\n",
    "ssh-keygen -f .ssh/id_rsa -t rsa -N \"\""
   ]
  },
  {
   "cell_type": "markdown",
   "metadata": {},
   "source": [
    "2. 以下のセルで出力された公開鍵を[こちら](http://dg02.dg.rcos.nii.ac.jp/user/settings/ssh)からGINリポジトリに登録してください。"
   ]
  },
  {
   "cell_type": "code",
   "execution_count": null,
   "metadata": {},
   "outputs": [],
   "source": [
    "%%sh\n",
    "cd ~/\n",
    "cat .ssh/id_rsa.pub"
   ]
  },
  {
   "cell_type": "markdown",
   "metadata": {},
   "source": [
    "## 2. SSH接続で書き戻しを行うためにssh鍵に権限を与える（ssh鍵は.sshディレクトリの中にid_rsaとして保存する）"
   ]
  },
  {
   "cell_type": "code",
   "execution_count": null,
   "metadata": {},
   "outputs": [],
   "source": [
    "%%sh\n",
    "cd ~/\n",
    "chmod 600 .ssh/id_rsa"
   ]
  },
  {
   "cell_type": "markdown",
   "metadata": {},
   "source": [
    "## 3. SSH鍵の利用確認をオフにする"
   ]
  },
  {
   "cell_type": "code",
   "execution_count": null,
   "metadata": {},
   "outputs": [],
   "source": [
    "%%sh\n",
    "echo \"host *\\n\\tStrictHostKeyChecking no\\n\\tUserKnownHostsFile /dev/null\" >> ~/.ssh/config"
   ]
  },
  {
   "cell_type": "markdown",
   "metadata": {},
   "source": [
    "## 4. .gitconfigにユーザー名とメールアドレスを登録する"
   ]
  },
  {
   "cell_type": "markdown",
   "metadata": {},
   "source": [
    "    1. 以下のセルでgitアカウントのユーザー名とメールアドレスを入力してください。"
   ]
  },
  {
   "cell_type": "code",
   "execution_count": null,
   "metadata": {},
   "outputs": [],
   "source": [
    "name = input()"
   ]
  },
  {
   "cell_type": "code",
   "execution_count": null,
   "metadata": {},
   "outputs": [],
   "source": [
    "email = input()"
   ]
  },
  {
   "cell_type": "markdown",
   "metadata": {},
   "source": [
    "    2. 入力されたユーザー名とメールアドレスを.gitconfigに登録します。"
   ]
  },
  {
   "cell_type": "code",
   "execution_count": null,
   "metadata": {},
   "outputs": [],
   "source": [
    "import os\n",
    "\n",
    "os.system(\"cd /home/jovyan\")\n",
    "os.system(\"git config --global user.name \" + name)\n",
    "os.system(\"git config --global user.email \" + email)"
   ]
  },
  {
   "cell_type": "markdown",
   "metadata": {},
   "source": [
    "## 5. Dataladを使用するため、このリポジトリをデータセットとする"
   ]
  },
  {
   "cell_type": "code",
   "execution_count": null,
   "metadata": {},
   "outputs": [],
   "source": [
    "%%sh\n",
    "cd ~/\n",
    "datalad create --force"
   ]
  },
  {
   "cell_type": "markdown",
   "metadata": {},
   "source": [
    "## 6. ワークフロー実行結果をGINリポジトリに反映させるため、GINリポジトリをリモートリポジトリに設定する"
   ]
  },
  {
   "cell_type": "code",
   "execution_count": null,
   "metadata": {},
   "outputs": [],
   "source": [
    "%%sh\n",
    "mkdir ./tmp\n",
    "git remote show origin > ./tmp/remote.txt"
   ]
  },
  {
   "cell_type": "code",
   "execution_count": null,
   "metadata": {},
   "outputs": [],
   "source": [
    "import json\n",
    "json_open = open('/home/jovyan/WORKFLOW/param_files/param_for_dataladsiblings.json', 'r')\n",
    "json_load = json.load(json_open)\n",
    "http = json_load['http']\n",
    "ssh = json_load['ssh']"
   ]
  },
  {
   "cell_type": "code",
   "execution_count": null,
   "metadata": {},
   "outputs": [],
   "source": [
    "with open('./tmp/remote.txt', 'r') as f:\n",
    "    lines = [s.strip() for s in f.readlines()]\n",
    "    ssh_push_url = lines[2].replace(http, ssh) "
   ]
  },
  {
   "cell_type": "code",
   "execution_count": null,
   "metadata": {},
   "outputs": [],
   "source": [
    "import os\n",
    "\n",
    "os.system(\"rm -r ./tmp\")"
   ]
  },
  {
   "cell_type": "code",
   "execution_count": null,
   "metadata": {},
   "outputs": [],
   "source": [
    "from datalad import api\n",
    "\n",
    "try:\n",
    "    api.siblings(action='add', name='gin', url=ssh_push_url)\n",
    "except:\n",
    "    pass"
   ]
  },
  {
   "cell_type": "markdown",
   "metadata": {},
   "source": [
    "## 7. Git管理対象外ファイルを.gitignoreで設定する"
   ]
  },
  {
   "cell_type": "code",
   "execution_count": null,
   "metadata": {},
   "outputs": [],
   "source": [
    "%%sh\n",
    "echo \"/.cache/\" >> ~/.gitignore\n",
    "echo \"/.conda/\" >> ~/.gitignore\n",
    "echo \"/.config/\" >> ~/.gitignore\n",
    "echo \"/.ipython/\" >> ~/.gitignore\n",
    "echo \"/.local/\" >> ~/.gitignore\n",
    "echo \".ipynb_checkpoints/\" >> ~/.gitignore"
   ]
  },
  {
   "cell_type": "markdown",
   "metadata": {},
   "source": [
    "## 8. 実験用フォルダを作成し、その中にpipeline.jsonを用意する"
   ]
  },
  {
   "cell_type": "code",
   "execution_count": null,
   "metadata": {},
   "outputs": [],
   "source": [
    "%%sh\n",
    "mkdir ~/experiments\n",
    "echo \"[]\" >> ~/experiments/pipeline.json"
   ]
  },
  {
   "cell_type": "markdown",
   "metadata": {},
   "source": [
    "## 9. 必要なファイルをPACKAGEテンプレートに複製する"
   ]
  },
  {
   "cell_type": "code",
   "execution_count": null,
   "metadata": {},
   "outputs": [],
   "source": [
    "%%sh\n",
    "cd ~/\n",
    "mkdir WORKFLOW/PACKAGE/.ssh\n",
    "cp .ssh/id_rsa WORKFLOW/PACKAGE/.ssh/id_rsa\n",
    "cp .ssh/config WORKFLOW/PACKAGE/.ssh/config\n",
    "cp .gitconfig WORKFLOW/PACKAGE/.gitconfig\n",
    "cp .gitconfig WORKFLOW/PACKAGE/.gitconfig\n",
    "cp environment.yml WORKFLOW/PACKAGE/environment.yml"
   ]
  },
  {
   "cell_type": "markdown",
   "metadata": {},
   "source": [
    "## 10. 変更内容を書き戻す"
   ]
  },
  {
   "cell_type": "code",
   "execution_count": null,
   "metadata": {},
   "outputs": [],
   "source": [
    "import papermill as pm\n",
    "\n",
    "pm.execute_notebook(\n",
    "    '../util/datalad_save_push.ipynb',\n",
    "    '-',\n",
    "    parameters = dict(SAVE_MESSAGE = 'ワークフロー実行準備')\n",
    ")"
   ]
  }
 ],
 "metadata": {
  "kernelspec": {
   "display_name": "Python 3",
   "language": "python",
   "name": "python3"
  },
  "language_info": {
   "codemirror_mode": {
    "name": "ipython",
    "version": 3
   },
   "file_extension": ".py",
   "mimetype": "text/x-python",
   "name": "python",
   "nbconvert_exporter": "python",
   "pygments_lexer": "ipython3",
   "version": "3.8.12"
  }
 },
 "nbformat": 4,
 "nbformat_minor": 4
}
