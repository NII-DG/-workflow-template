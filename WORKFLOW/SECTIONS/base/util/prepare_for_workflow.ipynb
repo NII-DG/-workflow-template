{
 "cells": [
  {
   "cell_type": "markdown",
   "metadata": {},
   "source": [
    "# ワークフロー実行のための準備\n",
    "\n",
    "このノートブックでは、ワークフロー実行のための準備を行います。 \n",
    "上から順番にセルを実行してください。"
   ]
  },
  {
   "cell_type": "markdown",
   "metadata": {},
   "source": [
    "## 1. SSH鍵を準備する"
   ]
  },
  {
   "cell_type": "markdown",
   "metadata": {},
   "source": [
    "1. SSH鍵を生成し、秘密鍵を.ssh/id_rsaに配置します。"
   ]
  },
  {
   "cell_type": "code",
   "execution_count": null,
   "metadata": {},
   "outputs": [],
   "source": [
    "%%sh\n",
    "cd ~/\n",
    "mkdir .ssh\n",
    "ssh-keygen -f .ssh/id_rsa -t rsa -N \"\""
   ]
  },
  {
   "cell_type": "markdown",
   "metadata": {},
   "source": [
    "2. 以下のセルで出力された公開鍵を[こちら](http://dg02.dg.rcos.nii.ac.jp/user/settings/ssh)からGINリポジトリに登録してください。"
   ]
  },
  {
   "cell_type": "code",
   "execution_count": null,
   "metadata": {},
   "outputs": [],
   "source": [
    "%%sh\n",
    "cat .ssh/id_rsa.pub"
   ]
  },
  {
   "cell_type": "markdown",
   "metadata": {},
   "source": [
    "## 2. SSH接続で書き戻しを行うためにssh鍵に権限を与える（ssh鍵は.sshディレクトリの中にid_rsaとして保存する）"
   ]
  },
  {
   "cell_type": "code",
   "execution_count": null,
   "metadata": {},
   "outputs": [],
   "source": [
    "%%sh\n",
    "chmod 600 ~/.ssh/id_rsa"
   ]
  },
  {
   "cell_type": "markdown",
   "metadata": {},
   "source": [
    "## 3. SSH鍵の利用確認をオフにする"
   ]
  },
  {
   "cell_type": "code",
   "execution_count": null,
   "metadata": {},
   "outputs": [],
   "source": [
    "%%sh\n",
    "echo \"host *\\n\\tStrictHostKeyChecking no\\n\\tUserKnownHostsFile /dev/null\" >> ~/.ssh/config"
   ]
  },
  {
   "cell_type": "markdown",
   "metadata": {},
   "source": [
    "## 4. Dataladとpapermillをインストールする"
   ]
  },
  {
   "cell_type": "code",
   "execution_count": null,
   "metadata": {},
   "outputs": [],
   "source": [
    "pip install datalad"
   ]
  },
  {
   "cell_type": "code",
   "execution_count": 6,
   "metadata": {},
   "outputs": [
    {
     "name": "stdout",
     "output_type": "stream",
     "text": [
      "Requirement already satisfied: papermill in /srv/conda/envs/notebook/lib/python3.7/site-packages (2.3.3)\n",
      "Requirement already satisfied: tqdm>=4.32.2 in /srv/conda/envs/notebook/lib/python3.7/site-packages (from papermill) (4.62.3)\n",
      "Requirement already satisfied: pyyaml in /srv/conda/envs/notebook/lib/python3.7/site-packages (from papermill) (6.0)\n",
      "Requirement already satisfied: click in /srv/conda/envs/notebook/lib/python3.7/site-packages (from papermill) (8.0.3)\n",
      "Requirement already satisfied: requests in /srv/conda/envs/notebook/lib/python3.7/site-packages (from papermill) (2.24.0)\n",
      "Requirement already satisfied: tenacity in /srv/conda/envs/notebook/lib/python3.7/site-packages (from papermill) (8.0.1)\n",
      "Requirement already satisfied: ansiwrap in /srv/conda/envs/notebook/lib/python3.7/site-packages (from papermill) (0.8.4)\n",
      "Requirement already satisfied: entrypoints in /srv/conda/envs/notebook/lib/python3.7/site-packages (from papermill) (0.3)\n",
      "Requirement already satisfied: black in /srv/conda/envs/notebook/lib/python3.7/site-packages (from papermill) (21.12b0)\n",
      "Requirement already satisfied: nbclient>=0.2.0 in /srv/conda/envs/notebook/lib/python3.7/site-packages (from papermill) (0.5.9)\n",
      "Requirement already satisfied: nbformat>=5.1.2 in /srv/conda/envs/notebook/lib/python3.7/site-packages (from papermill) (5.1.3)\n",
      "Requirement already satisfied: importlib-metadata; python_version < \"3.8\" in /srv/conda/envs/notebook/lib/python3.7/site-packages (from click->papermill) (1.7.0)\n",
      "Requirement already satisfied: idna<3,>=2.5 in /srv/conda/envs/notebook/lib/python3.7/site-packages (from requests->papermill) (2.10)\n",
      "Requirement already satisfied: certifi>=2017.4.17 in /srv/conda/envs/notebook/lib/python3.7/site-packages (from requests->papermill) (2020.6.20)\n",
      "Requirement already satisfied: chardet<4,>=3.0.2 in /srv/conda/envs/notebook/lib/python3.7/site-packages (from requests->papermill) (3.0.4)\n",
      "Requirement already satisfied: urllib3!=1.25.0,!=1.25.1,<1.26,>=1.21.1 in /srv/conda/envs/notebook/lib/python3.7/site-packages (from requests->papermill) (1.25.10)\n",
      "Requirement already satisfied: textwrap3>=0.9.2 in /srv/conda/envs/notebook/lib/python3.7/site-packages (from ansiwrap->papermill) (0.9.2)\n",
      "Requirement already satisfied: typed-ast>=1.4.2; python_version < \"3.8\" and implementation_name == \"cpython\" in /srv/conda/envs/notebook/lib/python3.7/site-packages (from black->papermill) (1.5.1)\n",
      "Requirement already satisfied: platformdirs>=2 in /srv/conda/envs/notebook/lib/python3.7/site-packages (from black->papermill) (2.4.1)\n",
      "Requirement already satisfied: typing-extensions>=3.10.0.0 in /srv/conda/envs/notebook/lib/python3.7/site-packages (from black->papermill) (4.0.1)\n",
      "Requirement already satisfied: pathspec<1,>=0.9.0 in /srv/conda/envs/notebook/lib/python3.7/site-packages (from black->papermill) (0.9.0)\n",
      "Requirement already satisfied: tomli<2.0.0,>=0.2.6 in /srv/conda/envs/notebook/lib/python3.7/site-packages (from black->papermill) (1.2.3)\n",
      "Requirement already satisfied: mypy-extensions>=0.4.3 in /srv/conda/envs/notebook/lib/python3.7/site-packages (from black->papermill) (0.4.3)\n",
      "Requirement already satisfied: jupyter-client>=6.1.5 in /srv/conda/envs/notebook/lib/python3.7/site-packages (from nbclient>=0.2.0->papermill) (6.1.6)\n",
      "Requirement already satisfied: nest-asyncio in /srv/conda/envs/notebook/lib/python3.7/site-packages (from nbclient>=0.2.0->papermill) (1.5.4)\n",
      "Requirement already satisfied: traitlets>=4.2 in /srv/conda/envs/notebook/lib/python3.7/site-packages (from nbclient>=0.2.0->papermill) (4.3.3)\n",
      "Requirement already satisfied: jsonschema!=2.5.0,>=2.4 in /srv/conda/envs/notebook/lib/python3.7/site-packages (from nbformat>=5.1.2->papermill) (3.2.0)\n",
      "Requirement already satisfied: ipython-genutils in /srv/conda/envs/notebook/lib/python3.7/site-packages (from nbformat>=5.1.2->papermill) (0.2.0)\n",
      "Requirement already satisfied: jupyter-core in /srv/conda/envs/notebook/lib/python3.7/site-packages (from nbformat>=5.1.2->papermill) (4.6.3)\n",
      "Requirement already satisfied: zipp>=0.5 in /srv/conda/envs/notebook/lib/python3.7/site-packages (from importlib-metadata; python_version < \"3.8\"->click->papermill) (3.1.0)\n",
      "Requirement already satisfied: python-dateutil>=2.1 in /srv/conda/envs/notebook/lib/python3.7/site-packages (from jupyter-client>=6.1.5->nbclient>=0.2.0->papermill) (2.8.1)\n",
      "Requirement already satisfied: pyzmq>=13 in /srv/conda/envs/notebook/lib/python3.7/site-packages (from jupyter-client>=6.1.5->nbclient>=0.2.0->papermill) (19.0.1)\n",
      "Requirement already satisfied: tornado>=4.1 in /srv/conda/envs/notebook/lib/python3.7/site-packages (from jupyter-client>=6.1.5->nbclient>=0.2.0->papermill) (6.0.4)\n",
      "Requirement already satisfied: six in /srv/conda/envs/notebook/lib/python3.7/site-packages (from traitlets>=4.2->nbclient>=0.2.0->papermill) (1.15.0)\n",
      "Requirement already satisfied: decorator in /srv/conda/envs/notebook/lib/python3.7/site-packages (from traitlets>=4.2->nbclient>=0.2.0->papermill) (4.4.2)\n",
      "Requirement already satisfied: pyrsistent>=0.14.0 in /srv/conda/envs/notebook/lib/python3.7/site-packages (from jsonschema!=2.5.0,>=2.4->nbformat>=5.1.2->papermill) (0.16.0)\n",
      "Requirement already satisfied: attrs>=17.4.0 in /srv/conda/envs/notebook/lib/python3.7/site-packages (from jsonschema!=2.5.0,>=2.4->nbformat>=5.1.2->papermill) (19.3.0)\n",
      "Requirement already satisfied: setuptools in /srv/conda/envs/notebook/lib/python3.7/site-packages (from jsonschema!=2.5.0,>=2.4->nbformat>=5.1.2->papermill) (49.2.0.post20200712)\n",
      "Note: you may need to restart the kernel to use updated packages.\n"
     ]
    }
   ],
   "source": [
    "pip install papermill"
   ]
  },
  {
   "cell_type": "markdown",
   "metadata": {},
   "source": [
    "## 5. environment.yamlを作成する"
   ]
  },
  {
   "cell_type": "markdown",
   "metadata": {},
   "source": [
    "1. pyyamlをインストールする"
   ]
  },
  {
   "cell_type": "code",
   "execution_count": null,
   "metadata": {},
   "outputs": [],
   "source": [
    "pip install pyyaml"
   ]
  },
  {
   "cell_type": "markdown",
   "metadata": {},
   "source": [
    "2. environment.yamlを作成する"
   ]
  },
  {
   "cell_type": "code",
   "execution_count": 8,
   "metadata": {},
   "outputs": [],
   "source": [
    "%%sh\n",
    "echo \"name: Binder environment\\nchannels:\\n  - conda-forge\\n  - defaults\\ndependencies:\\n  - pip\\n    - datalad\\n    - papermill\\n\" >> ~/environment.yaml"
   ]
  },
  {
   "cell_type": "markdown",
   "metadata": {},
   "source": [
    "## 6. Dataladを使用するため、このリポジトリをデータセットとする"
   ]
  },
  {
   "cell_type": "code",
   "execution_count": null,
   "metadata": {},
   "outputs": [],
   "source": [
    "%%sh\n",
    "cd ~/\n",
    "datalad create --force"
   ]
  },
  {
   "cell_type": "markdown",
   "metadata": {},
   "source": [
    "## 7. ワークフロー実行結果をGINリポジトリに反映させるため、GINリポジトリをリモートリポジトリに設定する"
   ]
  },
  {
   "cell_type": "code",
   "execution_count": null,
   "metadata": {},
   "outputs": [],
   "source": [
    "%%sh\n",
    "mkdir ./tmp\n",
    "git remote show origin > ./tmp/remote.txt"
   ]
  },
  {
   "cell_type": "code",
   "execution_count": null,
   "metadata": {},
   "outputs": [],
   "source": [
    "import json\n",
    "json_open = open('/home/jovyan/param_files/param_for_dataladsiblings.json', 'r')\n",
    "json_load = json.load(json_open)\n",
    "http = json_load['http']\n",
    "ssh = json_load['ssh']"
   ]
  },
  {
   "cell_type": "code",
   "execution_count": null,
   "metadata": {},
   "outputs": [],
   "source": [
    "with open('./tmp/remote.txt', 'r') as f:\n",
    "    lines = [s.strip() for s in f.readlines()]\n",
    "    ssh_push_url = lines[2].replace(http, ssh) "
   ]
  },
  {
   "cell_type": "code",
   "execution_count": null,
   "metadata": {},
   "outputs": [],
   "source": [
    "import os\n",
    "\n",
    "os.system(\"rm -r ./tmp\")"
   ]
  },
  {
   "cell_type": "code",
   "execution_count": null,
   "metadata": {},
   "outputs": [],
   "source": [
    "from datalad import api\n",
    "\n",
    "try:\n",
    "    api.siblings(action='add', name='gin', url=ssh_push_url)\n",
    "except:\n",
    "    pass"
   ]
  },
  {
   "cell_type": "markdown",
   "metadata": {},
   "source": [
    "## 8. .gitconfigにユーザー名とメールアドレスを登録する"
   ]
  },
  {
   "cell_type": "markdown",
   "metadata": {},
   "source": [
    "    1. 以下のセルでgitアカウントのユーザー名とメールアドレスを入力してください。"
   ]
  },
  {
   "cell_type": "code",
   "execution_count": null,
   "metadata": {},
   "outputs": [],
   "source": [
    "name = input()"
   ]
  },
  {
   "cell_type": "code",
   "execution_count": null,
   "metadata": {},
   "outputs": [],
   "source": [
    "email = input()"
   ]
  },
  {
   "cell_type": "markdown",
   "metadata": {},
   "source": [
    "    2. 入力されたユーザー名とメールアドレスを.gitconfigに登録します。"
   ]
  },
  {
   "cell_type": "code",
   "execution_count": null,
   "metadata": {},
   "outputs": [],
   "source": [
    "import os\n",
    "\n",
    "os.system(\"cd /home/jovyan\")\n",
    "os.system(\"git config --global user.name \" + name)\n",
    "os.system(\"git config --global user.email \" + email)"
   ]
  },
  {
   "cell_type": "markdown",
   "metadata": {},
   "source": [
    "## 9. .local配下をgit管理しないように.gitignoreで設定する"
   ]
  },
  {
   "cell_type": "code",
   "execution_count": null,
   "metadata": {},
   "outputs": [],
   "source": [
    "%%sh\n",
    "echo \".local/*\" >> ~/.gitignore"
   ]
  },
  {
   "cell_type": "markdown",
   "metadata": {},
   "source": [
    "## 10. 実験用フォルダを作成し、その中にpipeline.jsonを用意する"
   ]
  },
  {
   "cell_type": "code",
   "execution_count": 1,
   "metadata": {},
   "outputs": [
    {
     "name": "stderr",
     "output_type": "stream",
     "text": [
      "mkdir: cannot create directory ‘/home/jovyan/experiments’: File exists\n"
     ]
    }
   ],
   "source": [
    "%%sh\n",
    "mkdir ~/experiments\n",
    "echo \"[]\" >> ~/experiments/pipeline.json"
   ]
  },
  {
   "cell_type": "code",
   "execution_count": 5,
   "metadata": {},
   "outputs": [],
   "source": [
    "%%sh\n",
    "echo \"[]\" >> ~/experiments/pipeline.json"
   ]
  },
  {
   "cell_type": "markdown",
   "metadata": {},
   "source": [
    "## 11. 必要なファイルをPACKAGEテンプレートに複製する"
   ]
  },
  {
   "cell_type": "code",
   "execution_count": null,
   "metadata": {},
   "outputs": [],
   "source": [
    "%%sh\n",
    "cd ~/\n",
    "mkdir WORKFLOW/PACKAGE/.ssh\n",
    "cp .ssh/id_rsa WORKFLOW/PACKAGE/.ssh/id_rsa\n",
    "cp .ssh/config WORKFLOW/PACKAGE/.ssh/config\n",
    "cp .gitconfig WORKFLOW/PACKAGE/.gitconfig\n",
    "cp .gitconfig WORKFLOW/PACKAGE/.gitconfig"
   ]
  },
  {
   "cell_type": "markdown",
   "metadata": {},
   "source": [
    "## 12. 変更内容を書き戻す"
   ]
  },
  {
   "cell_type": "code",
   "execution_count": null,
   "metadata": {},
   "outputs": [],
   "source": [
    "import papermill as pm\n",
    "\n",
    "pm.execute_notebook(\n",
    "    '../util/datalad_save_push.ipynb',\n",
    "    '-',\n",
    "    parameters = dict(SAVE_MESSAGE = 'ワークフロー実行準備')\n",
    ")"
   ]
  }
 ],
 "metadata": {
  "kernelspec": {
   "display_name": "Python 3",
   "language": "python",
   "name": "python3"
  },
  "language_info": {
   "codemirror_mode": {
    "name": "ipython",
    "version": 3
   },
   "file_extension": ".py",
   "mimetype": "text/x-python",
   "name": "python",
   "nbconvert_exporter": "python",
   "pygments_lexer": "ipython3",
   "version": "3.7.8"
  }
 },
 "nbformat": 4,
 "nbformat_minor": 4
}
