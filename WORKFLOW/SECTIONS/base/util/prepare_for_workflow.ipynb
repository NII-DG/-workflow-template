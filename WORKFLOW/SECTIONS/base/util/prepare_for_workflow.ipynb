{
 "cells": [
  {
   "cell_type": "markdown",
   "metadata": {},
   "source": [
    "# ワークフロー実行のための準備\n",
    "\n",
    "このノートブックでは、ワークフロー実行のための準備を行います。 \n",
    "上から順番にセルを実行してください。"
   ]
  },
  {
   "cell_type": "markdown",
   "metadata": {},
   "source": [
    "## 1. .gitconfigにユーザー名とメールアドレスを登録する"
   ]
  },
  {
   "cell_type": "markdown",
   "metadata": {},
   "source": [
    "    1. 以下のセルでgitアカウントのユーザー名とメールアドレスを入力してください。"
   ]
  },
  {
   "cell_type": "code",
   "execution_count": null,
   "metadata": {},
   "outputs": [],
   "source": [
    "name = input()"
   ]
  },
  {
   "cell_type": "code",
   "execution_count": null,
   "metadata": {},
   "outputs": [],
   "source": [
    "email = input()"
   ]
  },
  {
   "cell_type": "markdown",
   "metadata": {},
   "source": [
    "    2. 入力されたユーザー名とメールアドレスを.gitconfigに登録します。"
   ]
  },
  {
   "cell_type": "code",
   "execution_count": null,
   "metadata": {},
   "outputs": [],
   "source": [
    "import os\n",
    "\n",
    "os.system(\"cd /home/jovyan\")\n",
    "os.system(\"git config --global user.name \" + name)\n",
    "os.system(\"git config --global user.email \" + email)"
   ]
  },
  {
   "cell_type": "markdown",
   "metadata": {},
   "source": [
    "## 2. Dataladを使用するため、このリポジトリをデータセットとする"
   ]
  },
  {
   "cell_type": "code",
   "execution_count": null,
   "metadata": {},
   "outputs": [],
   "source": [
    "%%sh\n",
    "cd ~/\n",
    "datalad create --force"
   ]
  },
  {
   "cell_type": "markdown",
   "metadata": {},
   "source": [
    "## 3. Git管理対象外ファイルを.gitignoreで設定する"
   ]
  },
  {
   "cell_type": "code",
   "execution_count": null,
   "metadata": {},
   "outputs": [],
   "source": [
    "%%sh\n",
    "\n",
    "echo \"\n",
    "/.cache/\n",
    "/.conda/\n",
    "/.config/\n",
    "/.ipython/\n",
    "/.local/\n",
    "/.tmp/\n",
    "/.WORKFLOW/\n",
    "/.bashrc\n",
    "/.bash_logout\n",
    "/.profile\n",
    "/.netrc\n",
    ".ipynb_checkpoints/\n",
    "\" > ~/.gitignore"
   ]
  },
  {
   "cell_type": "markdown",
   "metadata": {},
   "source": [
    "## 4. 実験用フォルダを作成し、その中にpipeline.jsonを用意する"
   ]
  },
  {
   "cell_type": "code",
   "execution_count": null,
   "metadata": {},
   "outputs": [],
   "source": [
    "%%sh\n",
    "mkdir ~/experiments\n",
    "echo \"[]\" > ~/experiments/pipeline.json"
   ]
  },
  {
   "cell_type": "markdown",
   "metadata": {},
   "source": [
    "## 5. 必要なファイルをPACKAGEテンプレートに複製する"
   ]
  },
  {
   "cell_type": "code",
   "execution_count": null,
   "metadata": {},
   "outputs": [],
   "source": [
    "%%sh\n",
    "cd ~/\n",
    "cp .gitconfig WORKFLOW/PACKAGE/.gitconfig\n",
    "cp environment.yml WORKFLOW/PACKAGE/environment.yml"
   ]
  },
  {
   "cell_type": "markdown",
   "metadata": {},
   "source": [
    "## 6. 変更内容を書き戻す"
   ]
  },
  {
   "cell_type": "code",
   "execution_count": null,
   "metadata": {},
   "outputs": [],
   "source": [
    "%%sh\n",
    "\n",
    "cd ~/\n",
    "\n",
    "echo \"\n",
    "machine dg02.dg.rcos.nii.ac.jp\n",
    "login 【ユーザ名】\n",
    "password 【パスワード】\n",
    "\" > ~/.netrc\n",
    "\n",
    "datalad save --to-git -m \"save\"\n",
    "datalad push"
   ]
  }
 ],
 "metadata": {
  "kernelspec": {
   "display_name": "Python 3",
   "language": "python",
   "name": "python3"
  },
  "language_info": {
   "codemirror_mode": {
    "name": "ipython",
    "version": 3
   },
   "file_extension": ".py",
   "mimetype": "text/x-python",
   "name": "python",
   "nbconvert_exporter": "python",
   "pygments_lexer": "ipython3",
   "version": "3.8.12"
  }
 },
 "nbformat": 4,
 "nbformat_minor": 4
}
