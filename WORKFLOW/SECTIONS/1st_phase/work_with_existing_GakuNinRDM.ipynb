{
 "cells": [
  {
   "cell_type": "markdown",
   "metadata": {},
   "source": [
    "# GakuNin RDM 既存プロジェクトとの連携\n",
    "\n",
    "これはDMP情報に基づき、GakuNin RDMと連携するためのノートブックです。"
   ]
  },
  {
   "cell_type": "markdown",
   "metadata": {},
   "source": [
    "## 連携する既存プロジェクト情報の変数を用意する\n",
    "papermillでワークフロー生成機能がdmp.jsonから取得した情報（プロジェクトIDなど）にオーバーライドされる"
   ]
  },
  {
   "cell_type": "markdown",
   "metadata": {},
   "source": [
    "## GakuNin RDMからデータガバナンス機能に接続する\n",
    "APIでプロジェクトを検索する\n",
    "管理基盤のアドオンでプロジェクトとデータガバナンス機能をgin接続する  "
   ]
  },
  {
   "cell_type": "markdown",
   "metadata": {},
   "source": [
    "## データガバナンス機能からGakuNin RDMに接続する\n",
    "リポジトリのREADME.mdにGakuNin RDMへのリンクを貼付する"
   ]
  },
  {
   "cell_type": "markdown",
   "metadata": {},
   "source": [
    "## 変更を書き戻す\n",
    "utilのdatalad save&pushをpapermillで実行する"
   ]
  }
 ],
 "metadata": {
  "kernelspec": {
   "display_name": "Python 3",
   "language": "python",
   "name": "python3"
  },
  "language_info": {
   "codemirror_mode": {
    "name": "ipython",
    "version": 3
   },
   "file_extension": ".py",
   "mimetype": "text/x-python",
   "name": "python",
   "nbconvert_exporter": "python",
   "pygments_lexer": "ipython3",
   "version": "3.7.8"
  }
 },
 "nbformat": 4,
 "nbformat_minor": 4
}
