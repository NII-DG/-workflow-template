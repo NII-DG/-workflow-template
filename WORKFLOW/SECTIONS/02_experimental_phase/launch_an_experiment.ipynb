{
 "cells": [
  {
   "cell_type": "markdown",
   "metadata": {},
   "source": [
    "# 実験を実行する\n",
    "\n",
    "これは、実験パッケージを用意して実験を行うためのノートブックです。  \n",
    "※このノートブックを実行するためには、FLOWの「0. データガバナンス機能と連携する」-「書き戻しの準備をする」と「1. 研究準備フェーズ」-「研究用のフォルダ構成を初期化する」の実行後である必要があります。"
   ]
  },
  {
   "cell_type": "markdown",
   "metadata": {},
   "source": [
    "## ◆◆◆開発メモ◆◆◆\n",
    "\n",
    "- パッケージを研究用フォルダに複製するためにフォルダ名が必要なので、init_research_repo.ipynbの中で研究用フォルダ名をparams.yamlに追加するセルを追加する\n",
    "- パッケージコンテナに遷移するリンクが未完成"
   ]
  },
  {
   "cell_type": "markdown",
   "metadata": {},
   "source": [
    "## 1. 実験のパッケージを生成する"
   ]
  },
  {
   "cell_type": "markdown",
   "metadata": {},
   "source": [
    "### 1. 実験タイトルを入力する\n",
    "\n",
    "下のセルを実行して、フォームにこれから行う実験のタイトルを入力してください。"
   ]
  },
  {
   "cell_type": "code",
   "execution_count": null,
   "metadata": {},
   "outputs": [],
   "source": [
    "experiment_title = input()"
   ]
  },
  {
   "cell_type": "markdown",
   "metadata": {},
   "source": [
    "### 2. パッケージを研究用フォルダに複製する"
   ]
  },
  {
   "cell_type": "code",
   "execution_count": null,
   "metadata": {},
   "outputs": [],
   "source": [
    "experiment_path = \"/home/jovyan\" + project_title + experiment_title"
   ]
  },
  {
   "cell_type": "code",
   "execution_count": null,
   "metadata": {},
   "outputs": [],
   "source": [
    "%%sh\n",
    "cp -r /home/jovyan/PACKAGE/* experiment_path"
   ]
  },
  {
   "cell_type": "markdown",
   "metadata": {},
   "source": [
    "### 3. 複製したパッケージを書き戻す"
   ]
  },
  {
   "cell_type": "code",
   "execution_count": null,
   "metadata": {},
   "outputs": [],
   "source": [
    "%%sh\n",
    "papermill ../util/datalad_save_push.ipynb ./init_research_repo_output.ipynb -f ../../params.yaml -p SAVE_MESSAGE = '実験を作成'"
   ]
  },
  {
   "cell_type": "markdown",
   "metadata": {},
   "source": [
    "## 2. 作成したパッケージのコンテナを立ち上げて実験に移る\n",
    "\n",
    "以下のボタンをクリックすると実験を開始できます。"
   ]
  },
  {
   "cell_type": "markdown",
   "metadata": {},
   "source": [
    "[![Binder](https://binder.cs.rcos.nii.ac.jp/badge_logo.svg)](https://binder.cs.rcos.nii.ac.jp/v2/gh/[ユーザー名]/['/home/jovyan/[project-title]/[wxperiment-title]']/main)"
   ]
  }
 ],
 "metadata": {
  "kernelspec": {
   "display_name": "Python 3",
   "language": "python",
   "name": "python3"
  },
  "language_info": {
   "codemirror_mode": {
    "name": "ipython",
    "version": 3
   },
   "file_extension": ".py",
   "mimetype": "text/x-python",
   "name": "python",
   "nbconvert_exporter": "python",
   "pygments_lexer": "ipython3",
   "version": "3.7.8"
  }
 },
 "nbformat": 4,
 "nbformat_minor": 4
}
