{
 "cells": [
  {
   "cell_type": "markdown",
   "metadata": {},
   "source": [
    "# 実験支援\n",
    "\n",
    "実験中のワークフローを支援するためのノートブックです。"
   ]
  },
  {
   "cell_type": "markdown",
   "metadata": {},
   "source": [
    "||||\n",
    "|:---:|:---:|:---:|\n",
    "|[実験メタデータを入力する](https://jupyter.cs.rcos.nii.ac.jp/user/ivis_rino_mizuguchi@rdm.nii.ac.jp/ivis-mizuguchi-workflow-template-vd3d3odt/notebooks/sections/sections_for_experiment/input_metadata.ipynb)|[コミットのみ行う](https://jupyter.cs.rcos.nii.ac.jp/user/ivis_rino_mizuguchi@rdm.nii.ac.jp/ivis-mizuguchi-workflow-template-vd3d3odt/notebooks/sections/sections_for_experiment/only_datalad_save.ipynb)|[実験を終了する](https://jupyter.cs.rcos.nii.ac.jp/user/ivis_rino_mizuguchi@rdm.nii.ac.jp/ivis-mizuguchi-workflow-template-vd3d3odt/notebooks/sections/sections_for_experiment/end_this_experiment.ipynb)|"
   ]
  }
 ],
 "metadata": {
  "kernelspec": {
   "display_name": "Python 3",
   "language": "python",
   "name": "python3"
  },
  "language_info": {
   "codemirror_mode": {
    "name": "ipython",
    "version": 3
   },
   "file_extension": ".py",
   "mimetype": "text/x-python",
   "name": "python",
   "nbconvert_exporter": "python",
   "pygments_lexer": "ipython3",
   "version": "3.7.8"
  }
 },
 "nbformat": 4,
 "nbformat_minor": 4
}
