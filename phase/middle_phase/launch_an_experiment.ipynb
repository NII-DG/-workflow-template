{
 "cells": [
  {
   "cell_type": "markdown",
   "metadata": {},
   "source": [
    "# 実験を実行する"
   ]
  },
  {
   "cell_type": "markdown",
   "metadata": {},
   "source": [
    "## 1. 実験記録テンプレートを取得する"
   ]
  },
  {
   "cell_type": "markdown",
   "metadata": {},
   "source": [
    "## 2. 実験記録テンプレートを複製して書き戻す"
   ]
  },
  {
   "cell_type": "markdown",
   "metadata": {},
   "source": [
    "## 3. 実験用Notebookに遷移する\n",
    "\n",
    "※binderコンテナを立ち上げるボタンを配置する  \n",
    "memo: 実験用Notebookの中には以下のセクションが存在する\n",
    "- 実験メタデータを入力するセクション（実験名、データ名、実験者、実行日など）\n",
    "- 案：実験途中にセーブのみするセクション（datalad save）\n",
    "- 実験終了セクション  \n",
    "    - 実行環境構成を記録するセクション  \n",
    "    - パイプライン作成支援セクション  \n",
    "    - 実験記録の更新（datalad save）  \n",
    "    - 実験記録の書き戻し（datalad push）  \n",
    "    - 実験単体と構築したパイプラインの再現性のモニタリング  "
   ]
  }
 ],
 "metadata": {
  "kernelspec": {
   "display_name": "Python 3",
   "language": "python",
   "name": "python3"
  },
  "language_info": {
   "codemirror_mode": {
    "name": "ipython",
    "version": 3
   },
   "file_extension": ".py",
   "mimetype": "text/x-python",
   "name": "python",
   "nbconvert_exporter": "python",
   "pygments_lexer": "ipython3",
   "version": "3.7.8"
  }
 },
 "nbformat": 4,
 "nbformat_minor": 4
}
