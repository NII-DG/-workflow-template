{
 "cells": [
  {
   "attachments": {},
   "cell_type": "markdown",
   "metadata": {},
   "source": [
    "# GINへの同期の失敗を解消する。\n",
    "\n",
    "GINへの同期で失敗した場合は以下の各セッションをに順次実行してください。<br>\n",
    "同期が失敗した場合、実行セルの出力結果に`リポジトリ側の変更と競合しました。競合を解決してください。`と表示されます。<br>\n",
    "それ以外の時は、以下の処理は実行しないでください。"
   ]
  },
  {
   "attachments": {},
   "cell_type": "markdown",
   "metadata": {},
   "source": [
    "## 0. コンフリクトが発生しているファイルを特定する。"
   ]
  },
  {
   "cell_type": "code",
   "execution_count": null,
   "metadata": {},
   "outputs": [],
   "source": [
    "import os\n",
    "from utils import display_util\n",
    "from utils.common import common\n",
    "from utils.git import git_module\n",
    "from IPython.display import clear_output\n",
    "\n",
    "conflict_filepaths = git_module.get_conflict_filepaths()\n",
    "annex_path_list = git_module.get_annex_content_file_paht_list()\n",
    "\n",
    "# get 'git-annex' conflict path\n",
    "annex_conflict_filepaths = common.get_AND_elements(conflict_filepaths, annex_path_list)\n",
    "# get 'git' conflict path\n",
    "git_conflict_filepaths = list(set(conflict_filepaths) - set(annex_conflict_filepaths))\n",
    "clear_output()"
   ]
  },
  {
   "cell_type": "code",
   "execution_count": null,
   "metadata": {},
   "outputs": [],
   "source": [
    "print(git_conflict_filepaths)\n",
    "print(annex_conflict_filepaths)"
   ]
  },
  {
   "cell_type": "code",
   "execution_count": null,
   "metadata": {},
   "outputs": [],
   "source": [
    "# get conflict variants\n",
    "from utils.common import common\n",
    "stdout, stderr, rt = common.exec_subprocess('git annex resolvemerge', False)\n",
    "result = stdout.decode('utf-8')\n",
    "print(result)"
   ]
  },
  {
   "attachments": {},
   "cell_type": "markdown",
   "metadata": {},
   "source": [
    "## 1. 競合ファイルを修正する。\n",
    "\n",
    "以下のタスクを実行すると、競合が起きているファイルパスが順次、表示されます。<br>\n",
    "以下の手順に従って競合ファイルを修正してください。<br>\n",
    "\n",
    "1. 下のセルを実行する。\n",
    "2. 競合ファイルのパスを確認する。\n",
    "   \n",
    "※ 競合が発生したファイルパスと`修正完了`ボタンが表示されます。<br>\n",
    "※ この時点では、`修正完了`ボタンをクリックしないください。\n",
    "\n",
    "![競合ファイルパス](./images/Display_of_conflicting_file_paths.png)\n",
    "\n",
    "3. ダッシュボートの`File` > `Open...`と順にクリックする。\n",
    "4. 競合が発生しているファイルにチェックを入れ、`edit`ボタンをクリックする。\n",
    "5. ファイルを編集して競合を解消する。\n",
    "\n",
    "* 編集前\n",
    "\n",
    "![編集前](./images/Before_conflict_resolution.png)\n",
    "\n",
    "* 編集後\n",
    "\n",
    "![編集前](./images/After_conflict_resolution.png)\n",
    "\n",
    "1. ダッシュボートの`File` > `Save`と順にクリックし、保存する。\n",
    "2. `修正完了`ボタンをクリックする。\n",
    "   1. 複数競合が発生している場合は、次のファイルパスが表示されます。手順[2. 競合ファイルのパスを確認する]に戻ってください。\n",
    "   2. 新たにファイルパスの表示がない場合は、[3. GINへ修正内容をプッシュする](#3-ginへ修正内容をプッシュする)にお進みください。\n"
   ]
  },
  {
   "cell_type": "code",
   "execution_count": null,
   "metadata": {},
   "outputs": [],
   "source": [
    "# ユーザにgit管理ファイルを手動で編集してもらう。\n",
    "from ipywidgets import Button\n",
    "from utils import display_util\n",
    "from IPython.display import display\n",
    "\n",
    "def on_click_callback(clicked_button: Button) -> None:\n",
    "    clicked_button.button_style = 'success'\n",
    "    print(\"次にお進みください。\")\n",
    "\n",
    "display_util.display_msg(msg='競合が発生しているファイルは以下です。', fore=None, back=None, tag='p')\n",
    "for i, git_conflict_filepath in enumerate(git_conflict_filepaths):\n",
    "    display_util.display_msg(msg='{} : {}'.format(int(i) + 1, git_conflict_filepath), fore=None, back=None, tag='p')\n",
    "    button = Button(description='修正完了', button_style='')\n",
    "    button.on_click(on_click_callback)\n",
    "    display(button)\n"
   ]
  },
  {
   "cell_type": "code",
   "execution_count": null,
   "metadata": {},
   "outputs": [],
   "source": [
    "# add git content\n",
    "from utils.common import common\n",
    "import os\n",
    "os.chdir(os.environ['HOME'])\n",
    "for git_conflict_filepath in git_conflict_filepaths:\n",
    "    stdout, stderr, rt = common.exec_subprocess('git add {}'.format(git_conflict_filepath), False)\n",
    "    result = stdout.decode('utf-8')"
   ]
  },
  {
   "attachments": {},
   "cell_type": "markdown",
   "metadata": {},
   "source": [
    "## 3. 競合ファイル(git-annex)を修正する。"
   ]
  },
  {
   "cell_type": "code",
   "execution_count": null,
   "metadata": {},
   "outputs": [],
   "source": [
    "from datalad import api\n",
    "\n",
    "result_s = api.status(annex=True,path=['experiments/'])\n",
    "print(\"result_s\")\n",
    "print(result_s)"
   ]
  },
  {
   "attachments": {},
   "cell_type": "markdown",
   "metadata": {},
   "source": [
    "## 4. GINへ修正内容をプッシュする。"
   ]
  },
  {
   "cell_type": "code",
   "execution_count": null,
   "metadata": {},
   "outputs": [],
   "source": [
    "from utils.common import common\n",
    "import os\n",
    "os.chdir(os.environ['HOME'])\n",
    "commit_msg = 'conflict resolution'\n",
    "stdout, stderr, rt = common.exec_subprocess('git commit -m \"{}\"'.format(commit_msg), False)\n",
    "result = stdout.decode('utf-8')"
   ]
  },
  {
   "cell_type": "code",
   "execution_count": null,
   "metadata": {},
   "outputs": [],
   "source": [
    "import os\n",
    "os.chdir('/home/jovyan/WORKFLOWS/FLOW/')\n",
    "from util.scripts import utils\n",
    "from IPython.display import clear_output\n",
    "import traceback\n",
    "# Push to GIN\n",
    "try:\n",
    "    utils.push()\n",
    "    clear_output()\n",
    "except:\n",
    "    datalad_error = traceback.format_exc()\n",
    "    display_util.display_err(msg='[ERROR] : '.format(datalad_error))\n",
    "    display_util.display_err(msg='GIN-forkへのコミットのプッシュが失敗しました。')\n",
    "else:\n",
    "    display_util.display_info(msg='GIN-forkへのコミットのプッシュが成功しました。\\nこれで競合解消タスクは完了です。')\n",
    "    display_util.display_warm(msg='先ほどGIN-forkへの同期が失敗したNotebookに戻り、再度、セルを実行してください。')\n",
    "    "
   ]
  }
 ],
 "metadata": {
  "kernelspec": {
   "display_name": "env-dg-pkg-310",
   "language": "python",
   "name": "python3"
  },
  "language_info": {
   "name": "python",
   "version": "3.10.9"
  },
  "orig_nbformat": 4
 },
 "nbformat": 4,
 "nbformat_minor": 2
}
