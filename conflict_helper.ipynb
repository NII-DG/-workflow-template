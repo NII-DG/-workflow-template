{
 "cells": [
  {
   "attachments": {},
   "cell_type": "markdown",
   "metadata": {},
   "source": [
    "# GINへの同期の失敗を解消する。\n",
    "\n",
    "GINへの同期で失敗した場合は以下の各セッションをに順次実行してください。<br>\n",
    "同期が失敗した場合、実行セルの出力結果に`リポジトリ側の変更と競合しました。競合を解決してください。`と表示されます。<br>\n",
    "それ以外の時は、以下の処理は実行しないでください。"
   ]
  },
  {
   "attachments": {},
   "cell_type": "markdown",
   "metadata": {},
   "source": [
    "## 0. コンフリクトが発生しているファイルを特定する。"
   ]
  },
  {
   "cell_type": "code",
   "execution_count": null,
   "metadata": {},
   "outputs": [],
   "source": [
    "import os\n",
    "from utils import display_util\n",
    "from utils.common import common\n",
    "from utils.git import git_module\n",
    "from IPython.display import clear_output\n",
    "\n",
    "conflict_filepaths = git_module.get_conflict_filepaths()\n",
    "annex_path_list = git_module.get_annex_content_file_paht_list()\n",
    "\n",
    "# get 'git-annex' conflict path\n",
    "annex_conflict_filepaths = common.get_AND_elements(conflict_filepaths, annex_path_list)\n",
    "# get 'git' conflict path\n",
    "git_conflict_filepaths = list(set(conflict_filepaths) - set(annex_conflict_filepaths))\n",
    "clear_output()"
   ]
  },
  {
   "cell_type": "code",
   "execution_count": null,
   "metadata": {},
   "outputs": [],
   "source": [
    "print(git_conflict_filepaths)\n",
    "print(annex_conflict_filepaths)"
   ]
  },
  {
   "cell_type": "code",
   "execution_count": null,
   "metadata": {},
   "outputs": [],
   "source": [
    "# get conflict variants\n",
    "from utils.common import common\n",
    "stdout, stderr, rt = common.exec_subprocess('git annex resolvemerge', False)\n",
    "result = stdout.decode('utf-8')\n",
    "\n",
    "from utils import display_util\n",
    "\n",
    "if len(git_conflict_filepaths) > 0:\n",
    "    display_util.display_info(msg='『1. 競合ファイル(git)を修正する。』を必ず実行してください。')\n",
    "if len(annex_conflict_filepaths) > 0:\n",
    "    display_util.display_info(msg='『2. 競合ファイル(git-annex)を修正する。』を必ず実行してください。')\n"
   ]
  },
  {
   "attachments": {},
   "cell_type": "markdown",
   "metadata": {},
   "source": [
    "## 1. 競合ファイル(git)を修正する。\n",
    "\n",
    "以下のタスクを実行すると、競合が起きているファイルパスが順次、表示されます。<br>\n",
    "以下の手順に従って競合ファイルを修正してください。<br>\n",
    "\n",
    "1. 下のセルを実行する。\n",
    "2. 競合ファイルのパスを確認する。\n",
    "   \n",
    "※ 競合が発生したファイルパスと`修正完了`ボタンが表示されます。<br>\n",
    "※ この時点では、`修正完了`ボタンをクリックしないください。\n",
    "\n",
    "![競合ファイルパス](./images/Display_of_conflicting_file_paths.png)\n",
    "\n",
    "3. ダッシュボートの`File` > `Open...`と順にクリックする。\n",
    "4. 競合が発生しているファイルにチェックを入れ、`edit`ボタンをクリックする。\n",
    "5. ファイルを編集して競合を解消する。\n",
    "\n",
    "* 編集前\n",
    "\n",
    "![編集前](./images/Before_conflict_resolution.png)\n",
    "\n",
    "* 編集後\n",
    "\n",
    "![編集前](./images/After_conflict_resolution.png)\n",
    "\n",
    "1. ダッシュボートの`File` > `Save`と順にクリックし、保存する。\n",
    "2. `修正完了`ボタンをクリックする。\n",
    "   1. 複数競合が発生している場合は、手順[2. 競合ファイルのパスを確認する]に戻り、次の競合ファイルの操作を行ってください。\n",
    "   2. 全ての競合解消操作が完了した場合、`次にお進みください。`とメッセージ表示されます。次にお進みください。\n"
   ]
  },
  {
   "cell_type": "code",
   "execution_count": null,
   "metadata": {},
   "outputs": [],
   "source": [
    "# ユーザにgit管理ファイルを手動で編集してもらう。\n",
    "from ipywidgets import Button\n",
    "from utils import display_util\n",
    "from IPython.display import display\n",
    "\n",
    "def on_click_callback(clicked_button: Button) -> None:\n",
    "    clicked_button.button_style = 'success'\n",
    "    display_util.display_info(msg=\"次にお進みください。\")\n",
    "\n",
    "display_util.display_msg(msg='競合が発生しているファイルは以下です。', fore=None, back=None, tag='p')\n",
    "for i, git_conflict_filepath in enumerate(git_conflict_filepaths):\n",
    "    display_util.display_msg(msg='{} : {}'.format(int(i) + 1, git_conflict_filepath), fore=None, back=None, tag='p')\n",
    "    button = Button(description='修正完了', button_style='')\n",
    "    button.on_click(on_click_callback)\n",
    "    display(button)\n"
   ]
  },
  {
   "cell_type": "code",
   "execution_count": null,
   "metadata": {},
   "outputs": [],
   "source": [
    "# add git content\n",
    "from utils.common import common\n",
    "import os\n",
    "os.chdir(os.environ['HOME'])\n",
    "for git_conflict_filepath in git_conflict_filepaths:\n",
    "    stdout, stderr, rt = common.exec_subprocess('git add {}'.format(git_conflict_filepath), False)\n",
    "    result = stdout.decode('utf-8')"
   ]
  },
  {
   "attachments": {},
   "cell_type": "markdown",
   "metadata": {},
   "source": [
    "## 2. 競合ファイル(git-annex)を修正する。"
   ]
  },
  {
   "cell_type": "code",
   "execution_count": null,
   "metadata": {},
   "outputs": [],
   "source": [
    "from datalad import api\n",
    "import os\n",
    "from utils.git import git_module\n",
    "\n",
    "os.chdir(os.environ['HOME'])\n",
    "remote_annex_variant_paths =  git_module.get_remote_annex_variant_path(annex_conflict_filepaths)\n",
    "\n",
    "# get information of datalad\n",
    "multi_status_info = api.status(path=['experiments/'])\n",
    "\n",
    "# create git-annex varitants dict\n",
    "variants_dict = dict[str, dict]()\n",
    "for conflict_annex_path in annex_conflict_filepaths:\n",
    "    variants_dict[conflict_annex_path] = dict[str, str]()\n",
    "\n",
    "for unit_status_info in multi_status_info:\n",
    "    if unit_status_info['state'] == 'added':\n",
    "        for conflict_annex_path in annex_conflict_filepaths:\n",
    "            # adjust file path that is conflicted for extract variant paht\n",
    "            dirpath = os.path.dirname(conflict_annex_path)\n",
    "            filename_no_extension = os.path.splitext(os.path.basename(conflict_annex_path))[0]\n",
    "            target_path = '{}/{}.variant-'.format(dirpath, filename_no_extension)\n",
    "\n",
    "            path = unit_status_info['path']\n",
    "            refds = '{}/'.format(unit_status_info['refds'])\n",
    "            path = path.replace(refds, '', 1)\n",
    "            if path.startswith(target_path):\n",
    "                variant_list = variants_dict[conflict_annex_path]\n",
    "                if path in remote_annex_variant_paths:\n",
    "                    variant_list['remote'] =  path\n",
    "                else:\n",
    "                    variant_list['HEAD'] =  path\n",
    "                variants_dict[conflict_annex_path] = variant_list\n",
    "print(variants_dict)"
   ]
  },
  {
   "cell_type": "code",
   "execution_count": null,
   "metadata": {},
   "outputs": [],
   "source": [
    "# recode conflict num\n",
    "key_num = len(variants_dict.keys())"
   ]
  },
  {
   "cell_type": "code",
   "execution_count": null,
   "metadata": {},
   "outputs": [],
   "source": [
    "import panel as pn\n",
    "from ipywidgets import Button\n",
    "from utils import display_util, conflict_helper_util\n",
    "pn.extension()\n",
    "\n",
    "display_util.display_msg(msg='各ファイルに対するアクションを選択し、確定してください。', fore=None, back=None, tag='p')\n",
    "column = pn.Column()\n",
    "form_list = list()\n",
    "options = conflict_helper_util.get_annex_conflict_options()\n",
    "\n",
    "for i, conflict_filepath in enumerate(variants_dict):\n",
    "    title = pn.widgets.StaticText(name=str(int(i) + 1), value=conflict_filepath, width=700)\n",
    "    form_list.append(title)\n",
    "    head = pn.widgets.StaticText(name='HEAD', value=variants_dict[conflict_filepath]['HEAD'], width=700)\n",
    "    form_list.append(head)\n",
    "    remote = pn.widgets.StaticText(name='Remote', value=variants_dict[conflict_filepath]['remote'], width=700)\n",
    "    form_list.append(remote)\n",
    "    form = pn.widgets.Select(options=options, width=200)\n",
    "    form_list.append(form)\n",
    "\n",
    "# Display GUI.\n",
    "for form in form_list:\n",
    "    column.append(form)\n",
    "display(column)\n",
    "\n",
    "def on_click_callback(clicked_button: Button) -> None:\n",
    "    clicked_button.button_style = 'success'\n",
    "    display_util.display_msg(msg='選択された内容は以下になります。お間違いが無ければ次にお進みください。', fore=None, back=None, tag='p')\n",
    "    display_util.display_msg(msg='もし、変更したい場合は、再度、セルを実行してください。', fore=None, back=None, tag='p')\n",
    "    total = len(form_list)\n",
    "    block_num = int(total/4)\n",
    "    for i in range(block_num):\n",
    "        start_index =i*4\n",
    "        end_index = start_index+4\n",
    "        block = form_list[start_index:end_index]\n",
    "        v = variants_dict[block[0].value]\n",
    "        v['action'] = block[3].value\n",
    "        variants_dict[block[0].value] = v\n",
    "        display_util.display_msg(msg='{}. {} : {}'.format(i+1, block[0].value, block[3].value), fore=None, back=None, tag='p')\n",
    "\n",
    "button = Button(description='確定', button_style='')\n",
    "button.on_click(on_click_callback)\n",
    "display(button)"
   ]
  },
  {
   "cell_type": "code",
   "execution_count": null,
   "metadata": {},
   "outputs": [],
   "source": [
    "for v in form_list:\n",
    "    print(v)"
   ]
  },
  {
   "cell_type": "code",
   "execution_count": null,
   "metadata": {},
   "outputs": [],
   "source": [
    "import json\n",
    "\n",
    "j = json.dumps(variants_dict, indent=4)\n",
    "print(j)"
   ]
  },
  {
   "cell_type": "code",
   "execution_count": null,
   "metadata": {},
   "outputs": [],
   "source": [
    "from utils import conflict_helper_util, display_util\n",
    "import os\n",
    "import panel as pn\n",
    "pn.extension()\n",
    "## 両方残す場合、ファイル名の変更を促す\n",
    "column = pn.Column()\n",
    "rename_form_list = list()\n",
    "if conflict_helper_util.is_more_than_both_remain(variants_dict):\n",
    "    display_util.display_msg(msg='<<{}>>を選択されたファイルに対して新しいファイル名を入力してください。'.format(conflict_helper_util.get_value_BOTH_REMAIN()), fore=None, back=None, tag='p')\n",
    "    display_util.display_msg(msg='ファイル名のみ入力することに注意してください。'.format(conflict_helper_util.get_value_BOTH_REMAIN()), fore=None, back=None, tag='p')\n",
    "\n",
    "    for i, conflict_filepath in enumerate(variants_dict):\n",
    "        if conflict_helper_util.is_both_remain(variants_dict[conflict_filepath]):\n",
    "            # ファイル名変更フォームの生成\n",
    "            title = pn.widgets.StaticText(name=str(int(i) + 1), value=conflict_filepath, width=700)\n",
    "            rename_form_list.append(title)\n",
    "            head = pn.widgets.StaticText(name='HEAD', value=variants_dict[conflict_filepath]['HEAD'], width=700)\n",
    "            rename_form_list.append(head)\n",
    "            rename_input_for_head = pn.widgets.TextInput(placeholder=os.path.basename(variants_dict[conflict_filepath]['HEAD']), width=700)\n",
    "            rename_form_list.append(rename_input_for_head)\n",
    "            remote = pn.widgets.StaticText(name='Remote', value=variants_dict[conflict_filepath]['remote'], width=700)\n",
    "            rename_form_list.append(remote)\n",
    "            rename_input_for_remote = pn.widgets.TextInput(placeholder=os.path.basename(variants_dict[conflict_filepath]['remote']), width=700)\n",
    "            rename_form_list.append(rename_input_for_remote)\n",
    "\n",
    "    # Display GUI.\n",
    "    for form in rename_form_list:\n",
    "        column.append(form)\n",
    "    display(column)\n",
    "\n",
    "    # settin button action\n",
    "    def on_click_callback(clicked_button: Button) -> None:\n",
    "        clicked_button.button_style = 'success'\n",
    "        total = len(rename_form_list)\n",
    "        block_num = int(total/5)\n",
    "        \n",
    "        for i in range(block_num):\n",
    "            start_index =i*5\n",
    "            end_index = start_index+5\n",
    "            block = rename_form_list[start_index:end_index]\n",
    "            print(\"=====================================================\")\n",
    "            for v in block:\n",
    "                print(v)\n",
    "            v = variants_dict[block[0].value]\n",
    "            rename_dict = dict()\n",
    "            rename_dict[block[1].value] = block[2].value\n",
    "            rename_dict[block[3].value] = block[4].value\n",
    "            v['rename'] = rename_dict\n",
    "            variants_dict[block[0].value] = v\n",
    "        # TODO : verify file name\n",
    "\n",
    "        display_util.display_msg(msg='ファイル名が確定されました。もし、変更したい場合は、再度、セルを実行してください。', fore=None, back=None, tag='p')\n",
    "\n",
    "    button = Button(description='確定', button_style='')\n",
    "    button.on_click(on_click_callback)\n",
    "    display(button)"
   ]
  },
  {
   "cell_type": "code",
   "execution_count": null,
   "metadata": {},
   "outputs": [],
   "source": [
    "for v in rename_form_list:\n",
    "    print(v)"
   ]
  },
  {
   "cell_type": "code",
   "execution_count": null,
   "metadata": {},
   "outputs": [],
   "source": [
    "import json\n",
    "\n",
    "j = json.dumps(variants_dict, indent=4)\n",
    "print(j)"
   ]
  },
  {
   "cell_type": "code",
   "execution_count": null,
   "metadata": {},
   "outputs": [],
   "source": [
    "# adjust conflicted git-annex content\n",
    "from utils import conflict_helper_util, display_util\n",
    "\n",
    "git_annex_target_path = list[str]()\n",
    "\n",
    "for i, k in enumerate(variants_dict):\n",
    "    print(f'{k}への操作')\n",
    "    unit_info = variants_dict[k]\n",
    "    action = unit_info['action']\n",
    "    print(f'action : {action}')\n",
    "    if action == conflict_helper_util.get_value_BOTH_REMAIN():\n",
    "        # remain both annex variants\n",
    "        rename_info = unit_info['rename']\n",
    "        for i, k in enumerate(rename_info):\n",
    "            future_name= rename_info[k]\n",
    "            new_path = conflict_helper_util.rename_file(k, future_name)\n",
    "            git_annex_target_path.append(new_path)\n",
    "    elif action == conflict_helper_util.get_value_REMOTE_REMAIN():\n",
    "        # remain remote contents\n",
    "\n",
    "        # delete HEAD variants\n",
    "        head_file_path = unit_info['HEAD']\n",
    "        conflict_helper_util.delete_file(head_file_path)\n",
    "\n",
    "        # rename Remote variants by base file name\n",
    "        remote_file_path = unit_info['remote']\n",
    "        new_path = conflict_helper_util.rename_file(remote_file_path, os.path.basename(k))\n",
    "        git_annex_target_path.append(new_path)\n",
    "\n",
    "    elif action == conflict_helper_util.get_value_HEAD_REMAIN():\n",
    "        # remain HEAD content\n",
    "        # rename HEAD variants by base file name\n",
    "        head_file_path = unit_info['HEAD']\n",
    "        new_path = conflict_helper_util.rename_file(head_file_path, os.path.basename(k))\n",
    "        git_annex_target_path.append(new_path)\n",
    "        # delete Remote variants\n",
    "        remote_file_path = unit_info['remote']\n",
    "        conflict_helper_util.delete_file(remote_file_path)\n",
    "    else:\n",
    "        raise Exception('不正な操作が行われました。')"
   ]
  },
  {
   "cell_type": "code",
   "execution_count": null,
   "metadata": {},
   "outputs": [],
   "source": []
  },
  {
   "attachments": {},
   "cell_type": "markdown",
   "metadata": {},
   "source": [
    "## 3. GINへ修正内容をプッシュする。"
   ]
  },
  {
   "cell_type": "code",
   "execution_count": null,
   "metadata": {},
   "outputs": [],
   "source": [
    "from utils.common import common\n",
    "import os\n",
    "os.chdir(os.environ['HOME'])\n",
    "commit_msg = 'conflict resolution'\n",
    "stdout, stderr, rt = common.exec_subprocess('git commit -m \"{}\"'.format(commit_msg), False)\n",
    "result = stdout.decode('utf-8')"
   ]
  },
  {
   "cell_type": "code",
   "execution_count": null,
   "metadata": {},
   "outputs": [],
   "source": [
    "import os\n",
    "os.chdir('/home/jovyan/WORKFLOWS/FLOW/')\n",
    "from util.scripts import utils\n",
    "from IPython.display import clear_output\n",
    "import traceback\n",
    "# Push to GIN\n",
    "try:\n",
    "    utils.push()\n",
    "    clear_output()\n",
    "except:\n",
    "    datalad_error = traceback.format_exc()\n",
    "    display_util.display_err(msg='[ERROR] : '.format(datalad_error))\n",
    "    display_util.display_err(msg='GIN-forkへのコミットのプッシュが失敗しました。')\n",
    "else:\n",
    "    display_util.display_info(msg='GIN-forkへのコミットのプッシュが成功しました。\\nこれで競合解消タスクは完了です。')\n",
    "    display_util.display_warm(msg='先ほどGIN-forkへの同期が失敗したNotebookに戻り、再度、セルを実行してください。')\n",
    "    "
   ]
  }
 ],
 "metadata": {
  "kernelspec": {
   "display_name": "env-dg-pkg-310",
   "language": "python",
   "name": "python3"
  },
  "language_info": {
   "codemirror_mode": {
    "name": "ipython",
    "version": 3
   },
   "file_extension": ".py",
   "mimetype": "text/x-python",
   "name": "python",
   "nbconvert_exporter": "python",
   "pygments_lexer": "ipython3",
   "version": "3.10.9"
  },
  "orig_nbformat": 4
 },
 "nbformat": 4,
 "nbformat_minor": 2
}
