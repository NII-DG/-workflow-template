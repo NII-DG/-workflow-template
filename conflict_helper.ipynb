{
 "cells": [
  {
   "attachments": {},
   "cell_type": "markdown",
   "metadata": {},
   "source": [
    "# RFからGINへの同期の失敗を解消する。\n",
    "\n",
    "GINへの同期で失敗した場合は以下の各セッションをに順次実行してください。"
   ]
  },
  {
   "attachments": {},
   "cell_type": "markdown",
   "metadata": {},
   "source": [
    "コンフリクトが発生しているファイルを特定する。"
   ]
  },
  {
   "cell_type": "code",
   "execution_count": null,
   "metadata": {},
   "outputs": [],
   "source": [
    "from utils import git_module, common, display_util\n",
    "\n",
    "conflict_filepaths = git_module.get_conflict_filepaths()\n",
    "annex_path_list = git_module.get_annex_content_file_paht_list()\n",
    "\n",
    "# get 'git-annex' conflict path\n",
    "annex_conflict_filepaths = common.get_AND_elements(conflict_filepaths, annex_path_list)\n",
    "# get 'git' conflict path\n",
    "git_conflict_filepaths = list(set(conflict_filepaths) - set(annex_conflict_filepaths))\n",
    "\n",
    "display_util.display_warm('git-annex conflict : {}'.format(annex_conflict_filepaths))\n",
    "display_util.display_warm('git conflict : {}'.format(git_conflict_filepaths))"
   ]
  },
  {
   "cell_type": "code",
   "execution_count": null,
   "metadata": {},
   "outputs": [],
   "source": []
  }
 ],
 "metadata": {
  "kernelspec": {
   "display_name": "env-dg-pkg-310",
   "language": "python",
   "name": "python3"
  },
  "language_info": {
   "name": "python",
   "version": "3.10.9"
  },
  "orig_nbformat": 4
 },
 "nbformat": 4,
 "nbformat_minor": 2
}
