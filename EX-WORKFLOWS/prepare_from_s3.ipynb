{
 "cells": [
  {
   "cell_type": "markdown",
   "metadata": {},
   "source": [
    "# S3から入力データや実験ソースコードを用意する\n",
    "ここでは、S3のストレージにあるデータを、この実験の入力データや実験ソースコードとして用意します。  \n",
    "\n",
    "～ データガバナンス機能のデータ管理方法について ～  \n",
    "\n",
    "データガバナンス機能では、大容量データの管理にあたって、ファイルの実データとリンク情報とを分けて管理する技術「git-annex」を採用しています。  \n",
    "それによって、軽容量なリンク情報をGIN-forkのリポジトリに保存するだけで、そのリポジトリのJupyter環境から実データにアクセス・ダウンロードすることができます。\n",
    "  \n",
    "以下は操作の概要図です。   \n",
    "\n",
    "![S3ユースケース](https://raw.githubusercontent.com/NII-DG/workflow-template/main/EX-WORKFLOWS/images/S3ユースケース.png)"
   ]
  },
  {
   "cell_type": "markdown",
   "metadata": {},
   "source": [
    "## 1. S3ストレージから入力データや実験ソースコードを用意する\n",
    "必要な処理を以下から選択し、実行してください。\n",
    "- [A：S3にある単一データを用意する場合](#as3にある単一データを用意する場合)\n",
    "- [B：複数のデータを取得する場合](#b複数のデータを取得する場合)"
   ]
  },
  {
   "cell_type": "markdown",
   "metadata": {},
   "source": [
    "### A：S3にある単一データを用意する場合\n",
    "\n",
    "#### A-1. リンクの作成場所とデータの実体の所在地を入力する\n",
    "以下のセルを実行して、実験実行環境上でデータを置きたい場所のパスと、S3にあるデータのオブジェクトURLを入力してください。  \n",
    "※入力に誤りがある場合は、再度このセルを実行して下さい。"
   ]
  },
  {
   "cell_type": "code",
   "execution_count": null,
   "metadata": {},
   "outputs": [],
   "source": [
    "from ipywidgets import Text, Button, Layout\n",
    "from IPython.display import clear_output\n",
    "import datetime\n",
    "\n",
    "style = {'description_width': 'initial'}\n",
    "\n",
    "def on_click_callback(clicked_button: Button) -> None:\n",
    "    global input_path\n",
    "    global input_url\n",
    "    input_path = text_path.value\n",
    "    input_url = text_url.value\n",
    "    clear_output()\n",
    "    print(\"入力完了しました。\")\n",
    "    print(\"パス：\" + input_path + \"\\nURL：\" + input_url)\n",
    "\n",
    "# テキストボックス\n",
    "text_path = Text(\n",
    "    description='リンクを作成したい場所のパス：',\n",
    "    placeholder='/home/jovyan/experiments/experiment-sample/input_data/sample1',\n",
    "    layout=Layout(width='600px'),\n",
    "    style=style\n",
    ")\n",
    "text_url = Text(\n",
    "    description='S3にあるファイルのURL：',\n",
    "    placeholder='https://s3ds.sample.jp/sample/sample1',\n",
    "    layout=Layout(width='600px'),\n",
    "    style=style\n",
    ")\n",
    "button = Button(description='入力完了')\n",
    "button.on_click(on_click_callback)\n",
    "text_url.on_submit(on_click_callback)\n",
    "display(text_path, text_url, button)"
   ]
  },
  {
   "cell_type": "markdown",
   "metadata": {},
   "source": [
    "#### A-2. リンクを作成する\n",
    "上のセルで入力いただいた内容から、git-annex管理用のリンクを作成します。"
   ]
  },
  {
   "cell_type": "code",
   "execution_count": null,
   "metadata": {},
   "outputs": [],
   "source": [
    "from colorama import Fore\n",
    "try:\n",
    "    result = !git annex addurl --fast --file=$input_path $input_url\n",
    "    # 処理に失敗しても例外が発生しないため、以下の処理で失敗時に例外を発生させる\n",
    "    for line in result:\n",
    "        if 'failed' in line:\n",
    "            raise Exception\n",
    "except Exception:\n",
    "    print(Fore.RED + 'リンク情報の作成に失敗しました。入力値を確認してください。\\n')\n",
    "else:\n",
    "    print(Fore.BLACK + 'リンク情報の作成に成功しました。\\n')\n",
    "finally:\n",
    "    for line in result:\n",
    "        print(line)"
   ]
  },
  {
   "cell_type": "markdown",
   "metadata": {},
   "source": [
    "#### A-3. リンク情報をGIN-forkのリポジトリに保存する"
   ]
  },
  {
   "cell_type": "code",
   "execution_count": null,
   "metadata": {},
   "outputs": [],
   "source": [
    "from IPython.display import display, Javascript\n",
    "display(Javascript('IPython.notebook.save_checkpoint();'))"
   ]
  },
  {
   "cell_type": "markdown",
   "metadata": {},
   "source": [
    "以下を実行して、`リポジトリ側の変更と競合しました。競合を解決してください。`と表示された場合は、[こちらのFAQ](http://dg02.dg.rcos.nii.ac.jp/G-Node/Info/wiki/%E3%83%AF%E3%83%BC%E3%82%AF%E3%83%95%E3%83%AD%E3%83%BC#1-1%E5%90%8C%E6%9C%9F%E5%87%A6%E7%90%86%E3%82%92%E5%AE%9F%E8%A1%8C%E3%81%99%E3%82%8B%E3%81%A8%E3%80%81%E3%83%AA%E3%83%9D%E3%82%B8%E3%83%88%E3%83%AA%E5%81%B4%E3%81%AE%E5%A4%89%E6%9B%B4%E3%81%A8%E7%AB%B6%E5%90%88%E3%81%97%E3%81%BE%E3%81%97%E3%81%9F%E3%80%82%E7%AB%B6%E5%90%88%E3%82%92%E8%A7%A3%E6%B1%BA%E3%81%97%E3%81%A6%E3%81%8F%E3%81%A0%E3%81%95%E3%81%84%E3%80%82%E3%81%A8%E8%A1%A8%E7%A4%BA%E3%81%95%E3%82%8C%E3%82%8B)を参考に競合を解決してください。"
   ]
  },
  {
   "cell_type": "code",
   "execution_count": null,
   "metadata": {},
   "outputs": [],
   "source": [
    "import papermill as pm\n",
    "from colorama import Fore\n",
    "from IPython.display import clear_output\n",
    "\n",
    "%cd ~/\n",
    "# リンク情報を保存する\n",
    "%store -r EXPERIMENT_TITLE\n",
    "try:\n",
    "    pm.execute_notebook(\n",
    "        'WORKFLOWS/EX-WORKFLOWS/util/base_datalad_save_push.ipynb',\n",
    "        '/home/jovyan/.local/push_log.ipynb',\n",
    "        parameters = dict(SAVE_MESSAGE = EXPERIMENT_TITLE + '_実験データの準備', PATH = input_path, IS_RECURSIVE = False, UNLOCK = False, REMOVE_PUSH_PATH = True)\n",
    "    )\n",
    "finally:\n",
    "    clear_output()\n",
    "    %store -r DATALAD_MESSAGE\n",
    "    %store -r DATALAD_ERROR\n",
    "    print('\\n' + DATALAD_MESSAGE + '\\n')\n",
    "    print(Fore.RED + DATALAD_ERROR)"
   ]
  },
  {
   "cell_type": "code",
   "execution_count": null,
   "metadata": {},
   "outputs": [],
   "source": [
    "import papermill as pm\n",
    "from colorama import Fore\n",
    "from IPython.display import clear_output\n",
    "\n",
    "%cd ~/\n",
    "# このノートブックを保存する\n",
    "save_path=['/home/jovyan/WORKFLOWS/EX-WORKFLOWS/prepare_from_s3.ipynb']\n",
    "try:\n",
    "    pm.execute_notebook(\n",
    "        'WORKFLOWS/EX-WORKFLOWS/util/base_datalad_save_push.ipynb',\n",
    "        '/home/jovyan/.local/push_log.ipynb',\n",
    "        parameters = dict(SAVE_MESSAGE = EXPERIMENT_TITLE + '_実験データの準備', TO_GIT = True, PATH = save_path, IS_RECURSIVE = False)\n",
    "    )\n",
    "finally:\n",
    "    clear_output()\n",
    "    %store -r DATALAD_MESSAGE\n",
    "    %store -r DATALAD_ERROR\n",
    "    print('\\n' + DATALAD_MESSAGE + '\\n')\n",
    "    print(Fore.RED + DATALAD_ERROR)"
   ]
  },
  {
   "cell_type": "markdown",
   "metadata": {},
   "source": [
    "#### A-4. リンク情報を元に実データを取得する"
   ]
  },
  {
   "cell_type": "code",
   "execution_count": null,
   "metadata": {},
   "outputs": [],
   "source": [
    "%cd ~/\n",
    "try:\n",
    "    result = !datalad get $input_path\n",
    "    for line in result:\n",
    "        if 'get(error)' in line or 'get(impossible)' in line:\n",
    "            raise Exception\n",
    "except Exception:\n",
    "    print('データ取得に失敗しました。アクセス権限などを確認してください。')\n",
    "else:\n",
    "    print('データ取得に成功しました。次の処理にお進みください。')"
   ]
  },
  {
   "cell_type": "markdown",
   "metadata": {},
   "source": [
    "#### A-5. 実験ワークフロー機能トップページに遷移する\n",
    "\n",
    "続けてワークフロー機能を実行する場合は、[こちら](../experiment.ipynb)からトップページに遷移できます。 "
   ]
  },
  {
   "cell_type": "markdown",
   "metadata": {},
   "source": [
    "### B：複数のデータを取得する場合\n",
    "\n",
    "S3のバケットまたはバケット内のフォルダ単位でデータを取得します。  \n",
    "\n",
    "#### B-1. AWSと接続するための情報を入力する"
   ]
  },
  {
   "cell_type": "code",
   "execution_count": null,
   "metadata": {},
   "outputs": [],
   "source": [
    "import getpass\n",
    "from IPython.display import clear_output\n",
    "import os\n",
    "\n",
    "aws_access_key_id = getpass.getpass('AWS_ACCESS_KEY_ID：')\n",
    "aws_secret_access_key = getpass.getpass('AWS_SECRET_ACCESS_KEY：')\n",
    "aws_default_region = input('AWS_DEFAULT_REGION：')\n",
    "\n",
    "os.environ['AWS_ACCESS_KEY_ID'] = aws_access_key_id\n",
    "os.environ['AWS_SECRET_ACCESS_KEY'] = aws_secret_access_key\n",
    "os.environ['AWS_DEFAULT_REGION'] = aws_default_region\n",
    "clear_output()\n",
    "print('入力を受け付けました。')"
   ]
  },
  {
   "cell_type": "markdown",
   "metadata": {},
   "source": [
    "#### B-2. バケット名を入力する\n",
    "フォルダ単位でデータを取得したい場合は、バケット名を入力した後に表示されるテキストボックスにフォルダパスを入力してください。"
   ]
  },
  {
   "cell_type": "code",
   "execution_count": null,
   "metadata": {},
   "outputs": [],
   "source": [
    "bucket_name = input('S3バケット名：')\n",
    "print('以下はバケットの任意のフォルダのデータを取得したい場合のみ入力してください。')\n",
    "prefix = input('任意のフォルダパス：')\n",
    "clear_output()\n",
    "print('入力を受け付けました。')"
   ]
  },
  {
   "cell_type": "markdown",
   "metadata": {},
   "source": [
    "#### B-3. ファイルの格納先を選択する\n",
    "S3にあるファイルを、この実験の入力データとして取得するか、実験ソースコードとして取得するかを選択してください。"
   ]
  },
  {
   "cell_type": "code",
   "execution_count": null,
   "metadata": {},
   "outputs": [],
   "source": [
    "import json\n",
    "from ipywidgets import Dropdown, Button, Layout\n",
    "from IPython.display import clear_output\n",
    "\n",
    "style = {'description_width': 'initial'}\n",
    "choice1 = 'この実験の入力データとして扱う'\n",
    "choice2 = 'この実験の実験ソースコードとして扱う'\n",
    "\n",
    "# 実験を新規作成するか、実験パッケージをモニタリングするかを選択する\n",
    "def on_click_callback(clicked_button: Button) -> None:\n",
    "    global selected_choice\n",
    "    if dropdown.value==choice1:\n",
    "        selected_choice = 1\n",
    "    elif dropdown.value==choice2:\n",
    "        selected_choice = 2\n",
    "    clear_output()\n",
    "    print(\"入力を受けつけました：\", dropdown.value)\n",
    "\n",
    "dropdown = Dropdown(\n",
    "    options=[choice1, choice2],\n",
    "    description='リンク情報の保存先を選択してください：',\n",
    "    disabled=False,\n",
    "    layout=Layout(width='600px'),\n",
    "    style=style\n",
    ")\n",
    "\n",
    "button = Button(description='入力完了')\n",
    "button.on_click(on_click_callback)\n",
    "display(dropdown, button)"
   ]
  },
  {
   "cell_type": "markdown",
   "metadata": {},
   "source": [
    "#### B-4. リンク情報を取得する\n",
    "入力された内容でリンク情報を取得します。"
   ]
  },
  {
   "cell_type": "code",
   "execution_count": null,
   "metadata": {},
   "outputs": [],
   "source": [
    "import boto3\n",
    "\n",
    "#フォルダ内のファイル一覧を取得する\n",
    "paths=[]\n",
    "s3 = boto3.resource('s3') \n",
    "bucket = s3.Bucket(bucket_name)\n",
    "if len(prefix)==0:\n",
    "    response = bucket.meta.client.list_objects_v2(Bucket=bucket.name)\n",
    "else:\n",
    "    response = bucket.meta.client.list_objects_v2(Bucket=bucket.name, Prefix=prefix)\n",
    "for content in response['Contents']:\n",
    "    paths.append(content['Key'])"
   ]
  },
  {
   "cell_type": "code",
   "execution_count": null,
   "metadata": {},
   "outputs": [],
   "source": [
    "import os\n",
    "import glob\n",
    "import csv\n",
    "\n",
    "# データの用意先の実験パッケージパスを取得する\n",
    "%store -r EXPERIMENT_TITLE\n",
    "os.chdir('/home/jovyan')\n",
    "package_path = glob.glob('**/'+EXPERIMENT_TITLE, recursive=True)[0]\n",
    "\n",
    "# datalad addurlsのために、S3オブジェクトURLと情報リンク作成場所のリンクを用意する\n",
    "objects=[]\n",
    "for path in paths:\n",
    "    url = \"https://%s.s3.%s.amazonaws.com/%s\" % (\n",
    "        bucket_name,\n",
    "        aws_default_region,\n",
    "        path\n",
    "    )\n",
    "    if selected_choice==1:\n",
    "        objects.append([package_path + '/input_data/S3/' + path, url])\n",
    "    elif selected_choice==2:\n",
    "        objects.append([package_path + '/source/S3/' + path, url])\n",
    "\n",
    "%cd ~/\n",
    "!mkdir -p .tmp\n",
    "with open('.tmp/S3.csv', 'w+') as f:\n",
    "    writer = csv.writer(f)\n",
    "    writer.writerow(['who','link'])\n",
    "    for obj in objects:\n",
    "        writer.writerow([obj[0],obj[1]])"
   ]
  },
  {
   "cell_type": "code",
   "execution_count": null,
   "metadata": {},
   "outputs": [],
   "source": [
    "# リンクを作成する\n",
    "result = ''\n",
    "try:\n",
    "    result = !datalad addurls --nosave --fast .tmp/S3.csv '{link}' '{who}'\n",
    "    for line in result:\n",
    "        if 'addurl(error)' in line  or 'addurl(impossible)' in line:\n",
    "            raise Exception\n",
    "except Exception:\n",
    "    print('リンク情報の作成に失敗しました。')\n",
    "else:\n",
    "    print('リンク情報の作成に成功しました。次の処理にお進みください。')\n",
    "finally:\n",
    "    print(result)"
   ]
  },
  {
   "cell_type": "markdown",
   "metadata": {},
   "source": [
    "#### B-5. リンク情報をGIN-forkのリポジトリに保存する"
   ]
  },
  {
   "cell_type": "code",
   "execution_count": null,
   "metadata": {},
   "outputs": [],
   "source": [
    "from IPython.display import display, Javascript\n",
    "display(Javascript('IPython.notebook.save_checkpoint();'))"
   ]
  },
  {
   "cell_type": "code",
   "execution_count": null,
   "metadata": {},
   "outputs": [],
   "source": [
    "%cd ~/\n",
    "import papermill as pm\n",
    "from colorama import Fore\n",
    "from IPython.display import clear_output\n",
    "\n",
    "%cd ~/\n",
    "# リンク情報を保存する\n",
    "save_path = []\n",
    "for obj in objects:\n",
    "    save_path.append(obj[0])\n",
    "try:\n",
    "    pm.execute_notebook(\n",
    "        'WORKFLOWS/EX-WORKFLOWS/util/base_datalad_save_push.ipynb',\n",
    "        '/home/jovyan/.local/push_log.ipynb',\n",
    "        parameters = dict(SAVE_MESSAGE = EXPERIMENT_TITLE + '_実験データの準備', PATH = save_path, IS_RECURSIVE = False, UNLOCK = False, REMOVE_PUSH_PATH = True)\n",
    "    )\n",
    "finally:\n",
    "    clear_output()\n",
    "    %store -r DATALAD_MESSAGE\n",
    "    %store -r DATALAD_ERROR\n",
    "    print('\\n' + DATALAD_MESSAGE + '\\n')\n",
    "    print(Fore.RED + DATALAD_ERROR)"
   ]
  },
  {
   "cell_type": "code",
   "execution_count": null,
   "metadata": {},
   "outputs": [],
   "source": [
    "import papermill as pm\n",
    "from colorama import Fore\n",
    "from IPython.display import clear_output\n",
    "\n",
    "%cd ~/\n",
    "# このノートブックを保存する\n",
    "save_path=['/home/jovyan/WORKFLOWS/EX-WORKFLOWS/prepare_from_s3.ipynb']\n",
    "try:\n",
    "    pm.execute_notebook(\n",
    "        'WORKFLOWS/EX-WORKFLOWS/util/base_datalad_save_push.ipynb',\n",
    "        '/home/jovyan/.local/push_log.ipynb',\n",
    "        parameters = dict(SAVE_MESSAGE = EXPERIMENT_TITLE + '_実験データの準備', TO_GIT = True, PATH = save_path, IS_RECURSIVE = False)\n",
    "    )\n",
    "finally:\n",
    "    clear_output()\n",
    "    %store -r DATALAD_MESSAGE\n",
    "    %store -r DATALAD_ERROR\n",
    "    print('\\n' + DATALAD_MESSAGE + '\\n')\n",
    "    print(Fore.RED + DATALAD_ERROR)"
   ]
  },
  {
   "cell_type": "markdown",
   "metadata": {},
   "source": [
    "#### B-6. リンク情報を元に実データを取得する"
   ]
  },
  {
   "cell_type": "code",
   "execution_count": null,
   "metadata": {},
   "outputs": [],
   "source": [
    "# データの実体を取得する\n",
    "if selected_choice==1:\n",
    "    path = package_path + '/input_data/S3'\n",
    "elif selected_choice==2:\n",
    "    path = package_path + '/source/S3'\n",
    "try:\n",
    "    result = !datalad get $path\n",
    "    for line in result:\n",
    "        if 'get(error)' in line or 'get(impossible)' in line:\n",
    "            raise Exception\n",
    "except Exception:\n",
    "    print('データ取得に失敗しました。アクセス権限などを確認してください。')\n",
    "else:\n",
    "    print('データ取得に成功しました。次の処理にお進みください。')\n",
    "finally:\n",
    "    print(result)"
   ]
  },
  {
   "cell_type": "markdown",
   "metadata": {},
   "source": [
    "#### B-7. 実験ワークフロー機能トップページに遷移する\n",
    "\n",
    "続けてワークフロー機能を実行する場合は、[こちら](../experiment.ipynb)からトップページに遷移できます。"
   ]
  }
 ],
 "metadata": {
  "kernelspec": {
   "display_name": "Python 3.9.5 64-bit",
   "language": "python",
   "name": "python3"
  },
  "language_info": {
   "name": "python",
   "version": "3.9.5"
  },
  "orig_nbformat": 4,
  "vscode": {
   "interpreter": {
    "hash": "6a196852dad78838558c3d25678ed4fa7922e766dc7a8a519a679191ca8fa666"
   }
  }
 },
 "nbformat": 4,
 "nbformat_minor": 2
}
