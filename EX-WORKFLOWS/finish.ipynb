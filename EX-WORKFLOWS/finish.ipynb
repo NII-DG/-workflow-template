{
 "cells": [
  {
   "cell_type": "markdown",
   "metadata": {},
   "source": [
    "# 実験を終了する\n",
    "\n",
    "現在の実験パッケージをGIN-forkに保存して、この実験実行環境を停止・削除します。\n",
    "\n",
    "実験フロートップページに戻る場合は[こちら](../experiment.ipynb)。新規タブで開きます。  "
   ]
  },
  {
   "cell_type": "markdown",
   "metadata": {},
   "source": [
    "## 0. 研究リポジトリ名・実験パッケージ名を確認する  \n",
    "以下のセルを実行すると、この実験実行環境で操作する実験パッケージの名前と、実験パッケージの存在する研究リポジトリ名を確認できます。  \n"
   ]
  },
  {
   "cell_type": "code",
   "execution_count": null,
   "metadata": {},
   "outputs": [],
   "source": [
    "import os\n",
    "os.chdir('/home/jovyan/WORKFLOWS/FLOW/')\n",
    "from util.scripts import utils\n",
    "\n",
    "%store -r\n",
    "if 'EXPERIMENT_TITLE' not in locals().keys() : EXPERIMENT_TITLE = '-'\n",
    "utils.show_name('blue', EXPERIMENT_TITLE)"
   ]
  },
  {
   "attachments": {},
   "cell_type": "markdown",
   "metadata": {},
   "source": [
    "## 1. 実行環境構成を記録する\n",
    "\n",
    "実行環境構成情報を`environment.yml`と`requirements.txt`に書き出します。\n",
    "\n",
    "以下のセルを実行して、condaの環境名を選択すると、その環境の構成情報が自動で作成されます。\n",
    "\n",
    "操作者により、condaの環境を作成してない場合は`base`を選択してください。\n",
    "\n",
    "もし、誤った環境名を選択した場合は、セルを再実行してください。"
   ]
  },
  {
   "cell_type": "code",
   "execution_count": null,
   "metadata": {},
   "outputs": [],
   "source": [
    "%store -r EXPERIMENT_TITLE\n",
    "\n",
    "from ipywidgets import Dropdown, Button, Layout\n",
    "from IPython.display import clear_output\n",
    "\n",
    "env_info = !conda env list\n",
    "env_list = []\n",
    "for env in env_info:\n",
    "    if '/opt/conda' in env:\n",
    "        env = env.split(' ')\n",
    "        env = env[0]\n",
    "        env_list.append(env)\n",
    "\n",
    "def on_click_callback(clicked_button: Button) -> None:\n",
    "    global env_name\n",
    "    env_name=dropdown.value\n",
    "    clear_output()\n",
    "    print(\"実行環境構成情報ファイルを作成しました。：\", env_name)\n",
    "    !conda env export -n $activate_env > ~/experiments/$EXPERIMENT_TITLE/environment.yml\n",
    "    !pip freeze > ~/experiments/$EXPERIMENT_TITLE/requirements.txt\n",
    "\n",
    "dropdown = Dropdown(\n",
    "    options=env_list,\n",
    "    description='仮想環境名:',\n",
    "    disabled=False,\n",
    "    style= {'description_width': 'initial'}\n",
    ")\n",
    "\n",
    "button = Button(description='入力完了')\n",
    "button.on_click(on_click_callback)\n",
    "print(\"仮想環境名の選択後、入力完了ボタンを押下してください。\")\n",
    "display(dropdown, button)"
   ]
  },
  {
   "cell_type": "markdown",
   "metadata": {},
   "source": [
    "## 2. 実験パッケージをGIN-forkに同期する\n",
    "\n",
    "実験パッケージをGIN-forkに同期します。  \n",
    "以下のセルを実行してください。"
   ]
  },
  {
   "cell_type": "code",
   "execution_count": null,
   "metadata": {},
   "outputs": [],
   "source": [
    "from IPython.display import display, Javascript\n",
    "display(Javascript('IPython.notebook.save_checkpoint();'))"
   ]
  },
  {
   "cell_type": "code",
   "execution_count": null,
   "metadata": {},
   "outputs": [],
   "source": [
    "import os\n",
    "import glob\n",
    "\n",
    "%store -r EXPERIMENT_TITLE\n",
    "experiment_path = '/home/jovyan/experiments/' + EXPERIMENT_TITLE\n",
    "os.chdir(experiment_path)\n",
    "\n",
    "#**************************************************#\n",
    "#* Generate a list of folder paths to be managed by Git-annex. #\n",
    "#**************************************************#\n",
    "dirlist=[]\n",
    "filelist=[]\n",
    "annexed_save_path=[]\n",
    "\n",
    "# Recursively search under the experimental package to obtain a list of absolute directory paths.\n",
    "for root, dirs, files in os.walk(top=experiment_path):\n",
    "    for dir in dirs:\n",
    "        dirPath = os.path.join(root, dir)\n",
    "        dirlist.append( dirPath )   \n",
    "\n",
    "\n",
    "# Add directory paths containing the string \"output_data\" that are not included under input_data to annexed_save_path.\n",
    "output_data_path = [ s for s in dirlist if 'output_data' in s ]\n",
    "for output_data in output_data_path:  \n",
    "    if  \"input_data\" not in output_data:\n",
    "        annexed_save_path.append( output_data )\n",
    "\n",
    "# Add the input_data directory to annexed_save_path.\n",
    "annexed_save_path.append( experiment_path + '/input_data'  )\n",
    "\n",
    "# Generate a list of file paths to which metadata is to be assigned.\n",
    "gitannex_files = []\n",
    "for path in annexed_save_path:\n",
    "    gitannex_files += [p for p in glob.glob(path+'/**', recursive=True)\n",
    "             if os.path.isfile(p)]\n",
    "\n",
    "#********************************************************#\n",
    "#* Generate a list of directory paths and file paths to be managed by Git. #\n",
    "#********************************************************#\n",
    "# Obtain a list of directories and files directly under the experimental package.\n",
    "files = os.listdir()\n",
    "\n",
    "# Delete Git-annex managed directories (input_data and output_data) from the retrieved list.\n",
    "dirs = [f for f in files if os.path.isdir(f)]\n",
    "\n",
    "for dirname in dirs:\n",
    "    if dirname == 'input_data' :\n",
    "        dirs.remove('input_data')\n",
    "\n",
    "    if dirname == 'output_data' :\n",
    "        dirs.remove('output_data')\n",
    "    \n",
    "# Obtain files directly under the experimental package.\n",
    "files = [f for f in files if os.path.isfile(f)]\n",
    "\n",
    "# Generate a list of folder paths and file paths to be managed by Git.\n",
    "files.extend(dirs)\n",
    "save_path = []\n",
    "for file in files:\n",
    "    save_path.append(experiment_path + '/' + file)\n",
    "save_path.append('/home/jovyan/pipeline.json')"
   ]
  },
  {
   "cell_type": "markdown",
   "metadata": {},
   "source": [
    "以下を実行して、`リポジトリ側の変更と競合しました。競合を解決してください。`と表示された場合は、[こちらのFAQ](https://dg.nii.ac.jp/G-Node/Info/wiki/%E3%83%AA%E3%82%B5%E3%83%BC%E3%83%81%E3%83%95%E3%83%AD%E3%83%BC%E6%A9%9F%E8%83%BD#1-1%E5%90%8C%E6%9C%9F%E5%87%A6%E7%90%86%E3%82%92%E5%AE%9F%E8%A1%8C%E3%81%99%E3%82%8B%E3%81%A8%E3%80%81%E3%83%AA%E3%83%9D%E3%82%B8%E3%83%88%E3%83%AA%E5%81%B4%E3%81%AE%E5%A4%89%E6%9B%B4%E3%81%A8%E7%AB%B6%E5%90%88%E3%81%97%E3%81%BE%E3%81%97%E3%81%9F%E3%80%82%E7%AB%B6%E5%90%88%E3%82%92%E8%A7%A3%E6%B1%BA%E3%81%97%E3%81%A6%E3%81%8F%E3%81%A0%E3%81%95%E3%81%84%E3%80%82%E3%81%A8%E8%A1%A8%E7%A4%BA%E3%81%95%E3%82%8C%E3%82%8B)を参考に競合を解決してください。"
   ]
  },
  {
   "cell_type": "code",
   "execution_count": null,
   "metadata": {},
   "outputs": [],
   "source": [
    "import os\n",
    "os.chdir('/home/jovyan/WORKFLOWS/FLOW/')\n",
    "from util.scripts import utils\n",
    "os.chdir(os.environ['HOME'])\n",
    "\n",
    "utils.syncs_with_repo(git_path=save_path, gitannex_path=annexed_save_path, gitannex_files=gitannex_files, message=EXPERIMENT_TITLE + '_実験終了')"
   ]
  },
  {
   "cell_type": "markdown",
   "metadata": {},
   "source": [
    "## 3. この実験実行環境を停止・削除する"
   ]
  },
  {
   "cell_type": "markdown",
   "metadata": {},
   "source": [
    "### 3-1. この実行環境を確認する\n",
    "\n",
    "以下のセルを実行して実行環境のサーバー名を確認して下さい。  "
   ]
  },
  {
   "cell_type": "code",
   "execution_count": null,
   "metadata": {},
   "outputs": [],
   "source": [
    "import os\n",
    "from IPython.display import display, HTML \n",
    "server_name_text = \"<h2>\" + os.environ[\"JUPYTERHUB_SERVICE_PREFIX\"].split('/')[3] + \"</h2>\" \n",
    "display(HTML(server_name_text))"
   ]
  },
  {
   "cell_type": "markdown",
   "metadata": {},
   "source": [
    "### 3-2. コントロールパネルへ遷移し、実行環境を停止・削除する\n",
    "\n",
    "以下のセルを実行し、表示されたリンクをクリックしてコントロールパネルへ遷移して、`3-1`で確認したサーバーを`stop`、`delete`ボタンをクリックして停止・削除してください。  \n",
    "※ `delete`ボタンは、以下の図のように`stop`ボタンをクリックした後に表示されます。  \n",
    "![コンテナ削除キャプチャ](./images/コンテナ削除キャプチャ.png)"
   ]
  },
  {
   "cell_type": "code",
   "execution_count": null,
   "metadata": {},
   "outputs": [],
   "source": [
    "import os\n",
    "import re\n",
    "from IPython.display import display, Javascript, clear_output\n",
    "\n",
    "pattern = \"https?://[\\w/:%#\\$&\\?\\(\\)~\\.=\\+\\-]+\"\n",
    "\n",
    "print('当画面のURLをブラウザからコピーし、フォームに入力してください。\\n入力完了後、Enterキーを押下してください。')\n",
    "url = input()\n",
    "\n",
    "if re.match(pattern, url):\n",
    "    print(url.find(\"/user/\"))\n",
    "    url = url[:url.find(\"/user/\")]  + '/hub/home'\n",
    "    clear_output()\n",
    "    print('コントロールパネルへのURLはこちらです。')\n",
    "    print( url )    \n",
    "else:  \n",
    "    clear_output()\n",
    "    print(\"入力されたURL形式が不正なため、もう一度実行してください。\" )\n",
    "    print( url )\n",
    "\n",
    "display(Javascript('IPython.notebook.save_checkpoint();'))"
   ]
  }
 ],
 "metadata": {
  "kernelspec": {
   "display_name": "Python 3.9.5 64-bit",
   "language": "python",
   "name": "python3"
  },
  "language_info": {
   "codemirror_mode": {
    "name": "ipython",
    "version": 3
   },
   "file_extension": ".py",
   "mimetype": "text/x-python",
   "name": "python",
   "nbconvert_exporter": "python",
   "pygments_lexer": "ipython3",
   "version": "3.9.5"
  },
  "vscode": {
   "interpreter": {
    "hash": "6a196852dad78838558c3d25678ed4fa7922e766dc7a8a519a679191ca8fa666"
   }
  }
 },
 "nbformat": 4,
 "nbformat_minor": 4
}
