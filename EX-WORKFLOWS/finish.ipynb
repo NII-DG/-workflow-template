{
 "cells": [
  {
   "cell_type": "markdown",
   "metadata": {},
   "source": [
    "# 実験を終了する\n",
    "\n",
    "現在の実験パッケージをGIN-forkに保存して、この実験実行環境を停止・削除します。\n",
    "\n",
    "実験ワークフロー機能トップページに戻る場合は[こちら](../experiment.ipynb)。新規タブで開きます。  "
   ]
  },
  {
   "cell_type": "markdown",
   "metadata": {},
   "source": [
    "## 0. 研究リポジトリ名・実験パッケージ名を確認する  \n",
    "以下のセルを実行すると、この実験実行環境で操作する実験パッケージの名前と、実験パッケージの存在する研究リポジトリ名を確認できます。  \n",
    "研究リポジトリ名が表示されない場合は実験ワークフロー機能トップページのセクション「研究リポジトリ名・実験パッケージ名の確認」のセルを実行してください。  "
   ]
  },
  {
   "cell_type": "code",
   "execution_count": null,
   "metadata": {},
   "outputs": [],
   "source": [
    "import os\n",
    "os.chdir('/home/jovyan/WORKFLOWS/FLOW/')\n",
    "from util.scripts import utils\n",
    "\n",
    "%store -r\n",
    "if 'EXPERIMENT_TITLE' not in locals().keys() : EXPERIMENT_TITLE = '-'\n",
    "utils.show_name('blue', EXPERIMENT_TITLE)"
   ]
  },
  {
   "cell_type": "markdown",
   "metadata": {},
   "source": [
    "## 1. 実行環境構成を記録する"
   ]
  },
  {
   "cell_type": "code",
   "execution_count": null,
   "metadata": {},
   "outputs": [],
   "source": [
    "# 実験名を取得する\n",
    "%store -r EXPERIMENT_TITLE\n",
    "\n",
    "# activate状態のconda環境を特定する\n",
    "env_list = !conda env list\n",
    "for env in env_list:\n",
    "    if '*' in env:\n",
    "        env = env.split(' ')\n",
    "        activate_env = env[0]\n",
    "\n",
    "!conda env export -n $activate_env > ~/experiments/$EXPERIMENT_TITLE/environment.yml\n",
    "!pip freeze > ~/experiments/$EXPERIMENT_TITLE/requirements.txt"
   ]
  },
  {
   "cell_type": "markdown",
   "metadata": {},
   "source": [
    "## 2. 実験パッケージをGIN-forkに同期する\n",
    "\n",
    "実験パッケージをGIN-forkに同期します。  \n",
    "以下のセルを実行してください。"
   ]
  },
  {
   "cell_type": "code",
   "execution_count": null,
   "metadata": {},
   "outputs": [],
   "source": [
    "from IPython.display import display, Javascript\n",
    "display(Javascript('IPython.notebook.save_checkpoint();'))"
   ]
  },
  {
   "cell_type": "code",
   "execution_count": null,
   "metadata": {},
   "outputs": [],
   "source": [
    "import os\n",
    "\n",
    "# このコンテナで扱う実験パッケージのパスを作成する\n",
    "%store -r EXPERIMENT_TITLE\n",
    "experiment_path = '/home/jovyan/experiments/' + EXPERIMENT_TITLE\n",
    "\n",
    "# 実験パッケージの直下へと移動する\n",
    "os.chdir(experiment_path)\n",
    "\n",
    "#**************************************************#\n",
    "#* Git-annex管理するディレクトリへのパスを生成する #\n",
    "#**************************************************#\n",
    "dirlist=[]\n",
    "filelist=[]\n",
    "annexed_save_path=[]\n",
    "\n",
    "# 実験パッケージ配下を再帰的に検索し、ディレクトリとファイルの一覧を取得する。\n",
    "for root, dirs, files in os.walk(top=experiment_path):\n",
    "    # ディレクトリ情報から絶対パスを作成する\n",
    "    for dir in dirs:\n",
    "        dirPath = os.path.join(root, dir)\n",
    "        dirlist.append( dirPath )   \n",
    "\n",
    "# output_dataという文字列を含むディレクトリを検索する。\n",
    "output_data_path = [ s for s in dirlist if 'output_data' in s ]\n",
    "\n",
    "for output_data in output_data_path:  \n",
    "    # input_data配下に含まれる、output_dataディレクトリは対象外\n",
    "    if  \"input_data\" not in output_data:\n",
    "        # 該当の文字列を含んだパスをGit-annex管理するパスの配列に追記する\n",
    "        annexed_save_path.append( output_data )\n",
    "\n",
    "# input_dataディレクトリをGit-Annex管理するパスの配列に追記する。\n",
    "# input_dataは実験パッケージの直下にあることを想定。\n",
    "# input_dataには、他リポジトリの情報が含まれる可能性があり、そのリポジトリの内容はGINに書き戻したくないため。\n",
    "annexed_save_path.append( experiment_path + '/input_data'  )\n",
    "\n",
    "#********************************************************#\n",
    "#* Gitで管理するディレクトリとファイルへのパスを生成する #\n",
    "#********************************************************#\n",
    "#  実験パッケージ直下のディレクトリとファイルの一覧を取得する\n",
    "files = os.listdir()\n",
    "\n",
    "# 取得した一覧からGit-annex管理するディレクトリ(input_dataとoutput_data)を削除する\n",
    "dirs = [f for f in files if os.path.isdir(f)]\n",
    "\n",
    "for dirname in dirs:\n",
    "    if dirname == 'input_data' :\n",
    "        dirs.remove('input_data')\n",
    "\n",
    "    if dirname == 'output_data' :\n",
    "        dirs.remove('output_data')\n",
    "    \n",
    "# 実験パッケージ直下のファイルを取得\n",
    "files = [f for f in files if os.path.isfile(f)]\n",
    "\n",
    "# Git管理するパスの配列を作成する\n",
    "files.extend(dirs)\n",
    "save_path = []\n",
    "for file in files:\n",
    "    save_path.append(experiment_path + '/' + file)\n",
    "save_path.append('/home/jovyan/pipeline.json')"
   ]
  },
  {
   "cell_type": "markdown",
   "metadata": {},
   "source": [
    "以下を実行して、`リポジトリ側の変更と競合しました。競合を解決してください。`と表示された場合は、[こちらのFAQ](http://dg02.dg.rcos.nii.ac.jp/G-Node/Info/wiki/%E3%83%AF%E3%83%BC%E3%82%AF%E3%83%95%E3%83%AD%E3%83%BC%E6%A9%9F%E8%83%BD#1-1%E5%90%8C%E6%9C%9F%E5%87%A6%E7%90%86%E3%82%92%E5%AE%9F%E8%A1%8C%E3%81%99%E3%82%8B%E3%81%A8%E3%80%81%E3%83%AA%E3%83%9D%E3%82%B8%E3%83%88%E3%83%AA%E5%81%B4%E3%81%AE%E5%A4%89%E6%9B%B4%E3%81%A8%E7%AB%B6%E5%90%88%E3%81%97%E3%81%BE%E3%81%97%E3%81%9F%E3%80%82%E7%AB%B6%E5%90%88%E3%82%92%E8%A7%A3%E6%B1%BA%E3%81%97%E3%81%A6%E3%81%8F%E3%81%A0%E3%81%95%E3%81%84%E3%80%82%E3%81%A8%E8%A1%A8%E7%A4%BA%E3%81%95%E3%82%8C%E3%82%8B)を参考に競合を解決してください。"
   ]
  },
  {
   "cell_type": "code",
   "execution_count": null,
   "metadata": {},
   "outputs": [],
   "source": [
    "import os\n",
    "os.chdir('/home/jovyan/WORKFLOWS/FLOW/')\n",
    "from util.scripts import utils\n",
    "os.chdir(os.environ['HOME'])\n",
    "\n",
    "utils.syncs_with_repo(git_path=save_path, gitannex_path=annexed_save_path, message=EXPERIMENT_TITLE + '_実験終了')"
   ]
  },
  {
   "cell_type": "markdown",
   "metadata": {},
   "source": [
    "## 3. この実験実行環境を停止・削除する"
   ]
  },
  {
   "cell_type": "markdown",
   "metadata": {},
   "source": [
    "### 3-1. この実行環境を確認する\n",
    "\n",
    "以下のセルを実行して実行環境のサーバー名を確認して下さい。  "
   ]
  },
  {
   "cell_type": "code",
   "execution_count": null,
   "metadata": {},
   "outputs": [],
   "source": [
    "import os\n",
    "from IPython.display import display, HTML \n",
    "server_name_text = \"<h2>\" + os.environ[\"JUPYTERHUB_SERVICE_PREFIX\"].split('/')[3] + \"</h2>\" \n",
    "display(HTML(server_name_text))"
   ]
  },
  {
   "cell_type": "markdown",
   "metadata": {},
   "source": [
    "### 3-2. コントロールパネルへ遷移し、実行環境を停止・削除する\n",
    "\n",
    "以下のセルを実行し、表示されたリンクをクリックしてコントロールパネルへ遷移して、`3-1`で確認したサーバーを`stop`、`delete`ボタンをクリックして停止・削除してください。  \n",
    "※`delete`ボタンは、以下の図のように`stop`ボタンをクリックした後に表示されます。  \n",
    "![コンテナ削除キャプチャ](./../../../files/WORKFLOWS/EX-WORKFLOWS/images/コンテナ削除キャプチャ.png)"
   ]
  },
  {
   "cell_type": "code",
   "execution_count": null,
   "metadata": {},
   "outputs": [],
   "source": [
    "import os\n",
    "import re\n",
    "from IPython.display import display, Javascript, clear_output\n",
    "\n",
    "# http形式の正規表現パターン\n",
    "pattern = \"https?://[\\w/:%#\\$&\\?\\(\\)~\\.=\\+\\-]+\"\n",
    "\n",
    "print('当画面のURLをブラウザからコピーし、以下のフォームに入力してください。\\n入力完了後、Enterキーを押下してください。')\n",
    "url = input()\n",
    "\n",
    "if re.match(pattern, url):\n",
    "    print(url.find(\"/user/\"))\n",
    "    url = url[:url.find(\"/user/\")]  + '/hub/home'\n",
    "    clear_output()\n",
    "    print('コントロールパネルへのURLはこちらです。')\n",
    "    print( url )    \n",
    "else:  \n",
    "    clear_output()\n",
    "    print(\"入力されたURL形式が不正なため、もう一度実行してください。\" )\n",
    "    print( url )\n",
    "\n",
    "display(Javascript('IPython.notebook.save_checkpoint();'))"
   ]
  }
 ],
 "metadata": {
  "kernelspec": {
   "display_name": "Python 3.9.5 64-bit",
   "language": "python",
   "name": "python3"
  },
  "language_info": {
   "codemirror_mode": {
    "name": "ipython",
    "version": 3
   },
   "file_extension": ".py",
   "mimetype": "text/x-python",
   "name": "python",
   "nbconvert_exporter": "python",
   "pygments_lexer": "ipython3",
   "version": "3.9.5"
  },
  "vscode": {
   "interpreter": {
    "hash": "6a196852dad78838558c3d25678ed4fa7922e766dc7a8a519a679191ca8fa666"
   }
  }
 },
 "nbformat": 4,
 "nbformat_minor": 4
}
