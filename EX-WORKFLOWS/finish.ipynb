{
 "cells": [
  {
   "attachments": {},
   "cell_type": "markdown",
   "metadata": {},
   "source": [
    "# 実験を終了する\n",
    "\n",
    "現在の実験パッケージをGIN-forkに保存して、当実験実行環境を停止・削除します。\n",
    "\n",
    "「実験フロートップページ」に戻る場合は[こちら](../experiment.ipynb)。新規タブで開きます。\n",
    "\n",
    "Jupyter Notebookの操作方法については、[こちら](https://support.rdm.nii.ac.jp/usermanual/60/#jp_operation)をご覧ください。新規タブで開きます。"
   ]
  },
  {
   "attachments": {},
   "cell_type": "markdown",
   "metadata": {},
   "source": [
    "## 0. 研究リポジトリ名・実験パッケージ名を確認する  \n",
    "以下のセルを実行すると、当実験実行環境で操作する実験パッケージの名前と、実験パッケージの存在する研究リポジトリ名を確認できます。  \n"
   ]
  },
  {
   "cell_type": "code",
   "execution_count": null,
   "metadata": {},
   "outputs": [],
   "source": [
    "import os\n",
    "os.chdir('/home/jovyan/WORKFLOWS/FLOW/')\n",
    "from util.scripts import utils\n",
    "\n",
    "%store -r\n",
    "if 'EXPERIMENT_TITLE' not in locals().keys() : EXPERIMENT_TITLE = '-'\n",
    "utils.show_name('blue', EXPERIMENT_TITLE)"
   ]
  },
  {
   "attachments": {},
   "cell_type": "markdown",
   "metadata": {},
   "source": [
    "## 1. 実行環境削除の準備をする\n",
    "\n",
    "### 1-1. 実行環境構成を記録する\n",
    "\n",
    "Pythonの実行環境の構成をenvironment.ymlおよびrequirements.txtに記録します。"
   ]
  },
  {
   "cell_type": "code",
   "execution_count": null,
   "metadata": {},
   "outputs": [],
   "source": [
    "%store -r EXPERIMENT_TITLE\n",
    "# Export environment configuration information(conda base env)\n",
    "!conda env export -n base > ~/experiments/$EXPERIMENT_TITLE/environment.yml\n",
    "!pip freeze > ~/experiments/$EXPERIMENT_TITLE/requirements.txt"
   ]
  },
  {
   "attachments": {},
   "cell_type": "markdown",
   "metadata": {},
   "source": [
    "### 1-2. READMEから実行環境へのリンクを削除する"
   ]
  },
  {
   "cell_type": "code",
   "execution_count": null,
   "metadata": {},
   "outputs": [],
   "source": [
    "import subprocess\n",
    "import urllib\n",
    "from IPython.display import clear_output\n",
    "import os\n",
    "os.chdir(os.environ['HOME'] + '/WORKFLOWS')\n",
    "from utils import display_util\n",
    "\n",
    "# READMEに遷移リンクがあれば削除してから、新しく実行環境のリンクを追記する\n",
    "%store -r EXPERIMENT_TITLE\n",
    "experiment_path = '/home/jovyan/experiments/' + EXPERIMENT_TITLE\n",
    "path = experiment_path + '/README.md'\n",
    "s = ''\n",
    "http_url = subprocess.getoutput('git config --get remote.origin.url')\n",
    "with open(path, 'r') as f:\n",
    "    s = f.read()\n",
    "    s = s[:s.find('## 実験実行環境にアクセスしたい場合')]\n",
    "\n",
    "with open(path, 'w') as f:\n",
    "    f.write(s)\n",
    "\n",
    "with open(path, 'a', newline='\\n') as f:\n",
    "    f.write(\"\\n## 実験実行環境にアクセスしたい場合\")\n",
    "    f.write(\"\\n実行環境は削除されています。再度実験を実施する場合は以下のリンクをクリックして実験実行環境を再構築してください。別の環境へ移るため、新しいタブまたはウィンドウで開くことを推奨します。<br>\")\n",
    "    f.write(\"\\n再構築が完了すると、「実験実行環境を再構築した場合のセットアップを行う」の実行画面が出力されますので、ガイドに従って実行してください。<br>\")\n",
    "    f.write(\"\\nhttps://binder.cs.rcos.nii.ac.jp/v2/git/\" + urllib.parse.quote(http_url, safe='') + \"/HEAD?filepath=WORKFLOWS/EX-WORKFLOWS/util/required_rebuild_container.ipynb\")\n",
    "\n",
    "clear_output()\n",
    "display_util.display_info('READMEから実行環境へのリンクを削除しました。')"
   ]
  },
  {
   "attachments": {},
   "cell_type": "markdown",
   "metadata": {},
   "source": [
    "## 2. 実験パッケージをGIN-forkに同期する\n",
    "\n",
    "実験パッケージをGIN-forkに同期します。  \n",
    "以下のセルを実行してください。"
   ]
  },
  {
   "cell_type": "code",
   "execution_count": null,
   "metadata": {},
   "outputs": [],
   "source": [
    "from IPython.display import display, Javascript\n",
    "display(Javascript('IPython.notebook.save_checkpoint();'))"
   ]
  },
  {
   "cell_type": "code",
   "execution_count": null,
   "metadata": {},
   "outputs": [],
   "source": [
    "import os\n",
    "import glob\n",
    "\n",
    "%store -r EXPERIMENT_TITLE\n",
    "experiment_path = '/home/jovyan/experiments/' + EXPERIMENT_TITLE\n",
    "os.chdir(experiment_path)\n",
    "\n",
    "#**************************************************#\n",
    "#* Generate a list of folder paths to be managed by Git-annex. #\n",
    "#**************************************************#\n",
    "dirlist=[]\n",
    "filelist=[]\n",
    "annexed_save_path=[]\n",
    "\n",
    "# Recursively search under the experimental package to obtain a list of absolute directory paths.\n",
    "for root, dirs, files in os.walk(top=experiment_path):\n",
    "    for dir in dirs:\n",
    "        dirPath = os.path.join(root, dir)\n",
    "        dirlist.append( dirPath )\n",
    "\n",
    "\n",
    "# Add directory paths containing the string \"output_data\" that are not included under input_data to annexed_save_path.\n",
    "output_data_path = [ s for s in dirlist if 'output_data' in s ]\n",
    "for output_data in output_data_path:\n",
    "    if  \"input_data\" not in output_data:\n",
    "        annexed_save_path.append( output_data )\n",
    "\n",
    "# Add the input_data directory to annexed_save_path.\n",
    "annexed_save_path.append( experiment_path + '/input_data'  )\n",
    "\n",
    "# Generate a list of file paths to which metadata is to be assigned.\n",
    "gitannex_files = []\n",
    "for path in annexed_save_path:\n",
    "    gitannex_files += [p for p in glob.glob(path+'/**', recursive=True)\n",
    "             if os.path.isfile(p)]\n",
    "\n",
    "#********************************************************#\n",
    "#* Generate a list of directory paths and file paths to be managed by Git. #\n",
    "#********************************************************#\n",
    "# Obtain a list of directories and files directly under the experimental package.\n",
    "files = os.listdir()\n",
    "\n",
    "# Delete Git-annex managed directories (input_data and output_data) from the retrieved list.\n",
    "dirs = [f for f in files if os.path.isdir(f)]\n",
    "\n",
    "for dirname in dirs:\n",
    "    if dirname == 'input_data' :\n",
    "        dirs.remove('input_data')\n",
    "\n",
    "    if dirname == 'output_data' :\n",
    "        dirs.remove('output_data')\n",
    "\n",
    "for dirname in dirs:\n",
    "    if dirname != 'ci' and dirname != 'source':\n",
    "        full_param_dir = '{}/{}/params'.format(experiment_path,dirname)\n",
    "        if os.path.isdir(full_param_dir):\n",
    "            dirs.remove(dirname)\n",
    "            ex_param_path = '{}/{}'.format(experiment_path, dirname)\n",
    "            ex_param_path_childs = os.listdir(ex_param_path)\n",
    "            for ex_param_path_child in ex_param_path_childs:\n",
    "                if ex_param_path_child != 'output_data':\n",
    "                    dirs.append('{}/{}'.format(dirname,ex_param_path_child))\n",
    "\n",
    "# Obtain files directly under the experimental package.\n",
    "files = [f for f in files if os.path.isfile(f)]\n",
    "\n",
    "# Generate a list of folder paths and file paths to be managed by Git.\n",
    "files.extend(dirs)\n",
    "save_path = []\n",
    "for file in files:\n",
    "    save_path.append(experiment_path + '/' + file)"
   ]
  },
  {
   "attachments": {},
   "cell_type": "markdown",
   "metadata": {},
   "source": [
    "以下を実行して、`リポジトリ側の変更と競合しました。競合を解決してください。`と表示された場合は、[GIN-forkへの同期の失敗を解消する](../conflict_helper.ipynb)を参照して、競合を解消してください。"
   ]
  },
  {
   "cell_type": "code",
   "execution_count": null,
   "metadata": {},
   "outputs": [],
   "source": [
    "import os\n",
    "os.chdir('/home/jovyan/WORKFLOWS/FLOW/')\n",
    "from util.scripts import utils\n",
    "os.chdir(os.environ['HOME'])\n",
    "\n",
    "# save this notebook\n",
    "save_path.append('WORKFLOWS/EX-WORKFLOWS/finish.ipynb')\n",
    "is_ok = utils.syncs_with_repo(git_path=save_path, gitannex_path=annexed_save_path, gitannex_files=gitannex_files, message=EXPERIMENT_TITLE + '_実験終了',get_paths=[])"
   ]
  },
  {
   "attachments": {},
   "cell_type": "markdown",
   "metadata": {},
   "source": [
    "## 3. 実験実行環境を停止・削除する"
   ]
  },
  {
   "attachments": {},
   "cell_type": "markdown",
   "metadata": {},
   "source": [
    "### 3-1. 実験実行環境を確認する\n",
    "\n",
    "以下のセルを実行して実行環境のサーバー名を確認して下さい。  "
   ]
  },
  {
   "cell_type": "code",
   "execution_count": null,
   "metadata": {},
   "outputs": [],
   "source": [
    "import os\n",
    "os.chdir(os.environ['HOME'] + '/WORKFLOWS')\n",
    "from utils import display_util\n",
    "display_util.display_html_msg(msg=os.environ[\"JUPYTERHUB_SERVICE_PREFIX\"].split('/')[3], tag='h2')"
   ]
  },
  {
   "attachments": {},
   "cell_type": "markdown",
   "metadata": {},
   "source": [
    "### 3-2. コントロールパネルへ遷移し、実験実行環境を停止・削除する\n",
    "\n",
    "[コントロールパネル](https://jupyter.cs.rcos.nii.ac.jp/hub/home)へ遷移して、`3-1`で確認したサーバーを`stop`、`delete`ボタンをクリックして停止・削除してください。<br>\n",
    "実行環境の停止・削除後は、当実行環境にあるノートブックを操作することが出来なくなりますのでご注意ください。<br>\n",
    "※ `delete`ボタンは、以下の図のように`stop`ボタンをクリックした後に表示されます。<br>\n",
    "![コンテナ削除キャプチャ](./images/コンテナ削除キャプチャ.png)"
   ]
  },
  {
   "attachments": {},
   "cell_type": "markdown",
   "metadata": {},
   "source": [
    "### 3-3. GIN-forkに実行環境の停止・削除を反映する\n",
    "以下を実行して、GIN-forkに実行環境の停止・削除を反映してください。"
   ]
  },
  {
   "cell_type": "code",
   "execution_count": null,
   "metadata": {},
   "outputs": [],
   "source": [
    "import json, requests\n",
    "with open(utils.fetch_param_file_path(), mode='r') as f:\n",
    "    params = json.load(f)\n",
    "\n",
    "file_path = os.environ['HOME'] + '/.repository_id'\n",
    "\n",
    "with open('/home/jovyan/.token.json', 'r') as f:\n",
    "        dic = json.load(f)\n",
    "        token = dic[\"ginfork_token\"]\n",
    "\n",
    "server_name = os.environ[\"JUPYTERHUB_SERVICE_PREFIX\"].split('/')[3]\n",
    "response = requests.delete(\n",
    "    params['siblings']['ginHttp'] + f'/api/v1/container?token={token}&server_name={server_name}'\n",
    ")\n",
    "\n",
    "if response.status_code == requests.codes.ok:\n",
    "    display_util.display_info('実行環境の削除を反映しました。')\n",
    "else:\n",
    "    display_util.display_err('反映に失敗しました。')"
   ]
  }
 ],
 "metadata": {
  "kernelspec": {
   "display_name": "Python 3.9.5 64-bit",
   "language": "python",
   "name": "python3"
  },
  "language_info": {
   "codemirror_mode": {
    "name": "ipython",
    "version": 3
   },
   "file_extension": ".py",
   "mimetype": "text/x-python",
   "name": "python",
   "nbconvert_exporter": "python",
   "pygments_lexer": "ipython3",
   "version": "3.9.5"
  },
  "vscode": {
   "interpreter": {
    "hash": "6a196852dad78838558c3d25678ed4fa7922e766dc7a8a519a679191ca8fa666"
   }
  }
 },
 "nbformat": 4,
 "nbformat_minor": 4
}
