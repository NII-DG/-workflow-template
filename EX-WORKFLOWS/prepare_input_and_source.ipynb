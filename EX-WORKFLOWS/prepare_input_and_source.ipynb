{
 "cells": [
  {
   "cell_type": "markdown",
   "metadata": {},
   "source": [
    "# 実験のデータやソースコードを用意する"
   ]
  },
  {
   "cell_type": "markdown",
   "metadata": {},
   "source": [
    "実験の入力データやソースコードを用意する方法として以下をサポートしています。  \n",
    "\n",
    "- A：GIN-forkの他のリポジトリにあるデータから用意する\n",
    "- B：S3から用意する"
   ]
  },
  {
   "cell_type": "markdown",
   "metadata": {},
   "source": [
    "## A：GIN-forkに公開されているリポジトリにあるファイルを利用する\n",
    "\n",
    "[GIN-fork](http://dg02.dg.rcos.nii.ac.jp/)に公開されているあなたのリポジトリや他の研究者のリポジトリにあるデータを、この実験の入力データとして用意します。  \n",
    "＊この場合はソースコードを用意することはできません。  \n",
    "\n",
    "実行画面に遷移するには以下のリンクをクリックしてください。  \n",
    "\n",
    "### [「GIN-forkに公開されているリポジトリから実験の入力データを用意する」の実行画面にアクセスする](prepare_from_repository.ipynb)  "
   ]
  },
  {
   "cell_type": "markdown",
   "metadata": {},
   "source": [
    "## B：S3にあるファイルを利用する\n",
    "\n",
    "[S3]((https://aws.amazon.com/jp/s3/))のストレージにあるデータを、この実験の入力データや実験ソースコードとして用意します。  \n",
    "実行画面に遷移するには以下のリンクをクリックしてください。  \n",
    "\n",
    "### [「S3から入力データや実験ソースコードを用意する」の実行画面にアクセスする](prepare_from_s3.ipynb)"
   ]
  }
 ],
 "metadata": {
  "kernelspec": {
   "display_name": "Python 3.9.5 64-bit",
   "language": "python",
   "name": "python3"
  },
  "language_info": {
   "name": "python",
   "version": "3.9.5"
  },
  "orig_nbformat": 4,
  "vscode": {
   "interpreter": {
    "hash": "6a196852dad78838558c3d25678ed4fa7922e766dc7a8a519a679191ca8fa666"
   }
  }
 },
 "nbformat": 4,
 "nbformat_minor": 2
}
