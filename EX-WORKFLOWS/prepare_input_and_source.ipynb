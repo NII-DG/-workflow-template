{
 "cells": [
  {
   "attachments": {},
   "cell_type": "markdown",
   "metadata": {},
   "source": [
    "# 実験のデータやソースコードを用意する"
   ]
  },
  {
   "attachments": {},
   "cell_type": "markdown",
   "metadata": {},
   "source": [
    "実験のデータを用意する方法として以下の3パターンをサポートしています。  \n",
    "\n",
    "- A：GIN-forkに公開されているリポジトリからデータを用意する\n",
    "- B：S3からデータを用意する\n",
    "- C：ローカルからデータを用意する"
   ]
  },
  {
   "attachments": {},
   "cell_type": "markdown",
   "metadata": {},
   "source": [
    "\n",
    "実験フロートップページに戻る場合は[こちら](../experiment.ipynb)。新規タブで開きます。  "
   ]
  },
  {
   "attachments": {},
   "cell_type": "markdown",
   "metadata": {},
   "source": [
    "## A：GIN-forkに公開されているリポジトリからデータを用意する\n",
    "\n",
    "GIN-forkに公開されているあなたのリポジトリや他の研究者のリポジトリにあるファイルを、この実験のデータとして用意します。  \n",
    "**用意するデータの対象は、入力データもしくは実験ソースコードのみです。**  \n",
    "以下のセルを実行し表示されるリンクをクリックして実行画面に遷移してください。"
   ]
  },
  {
   "cell_type": "code",
   "execution_count": null,
   "metadata": {},
   "outputs": [],
   "source": [
    "from IPython.display import display, HTML, Javascript\n",
    "display(HTML(\"<a href='./prepare_from_repository.ipynb'>「GIN-forkに公開されているリポジトリからデータを用意する」の実行画面に遷移する</a>\"))\n",
    "display(Javascript('IPython.notebook.save_checkpoint();'))"
   ]
  },
  {
   "attachments": {},
   "cell_type": "markdown",
   "metadata": {},
   "source": [
    "## B：S3からデータを用意する\n",
    "\n",
    "[S3](https://aws.amazon.com/jp/s3/)のストレージにあるファイルを、この実験のデータとして用意します。  \n",
    "**用意するデータの対象は、入力データもしくは実験ソースコードのみです。**  \n",
    "以下のセルを実行し表示されるリンクをクリックして実行画面に遷移してください。  "
   ]
  },
  {
   "cell_type": "code",
   "execution_count": null,
   "metadata": {},
   "outputs": [],
   "source": [
    "from IPython.display import display, HTML, Javascript\n",
    "display(HTML(\"<a href='./prepare_from_s3.ipynb'>「S3からデータを用意する」の実行画面に遷移する</a>\"))\n",
    "display(Javascript('IPython.notebook.save_checkpoint();'))"
   ]
  },
  {
   "attachments": {},
   "cell_type": "markdown",
   "metadata": {},
   "source": [
    "## C：ローカルからデータを用意する\n",
    "\n",
    "ローカル環境にあるデータを、この実験のデータとして用意します。  \n",
    "以下のセルを実行し表示されるリンクをクリックして実行画面に遷移してください。  "
   ]
  },
  {
   "cell_type": "code",
   "execution_count": null,
   "metadata": {},
   "outputs": [],
   "source": [
    "from IPython.display import display, HTML, Javascript\n",
    "display(HTML(\"<a href='./prepare_from_local.ipynb'>「ローカルからデータを用意する」の実行画面に遷移する</a>\"))\n",
    "display(Javascript('IPython.notebook.save_checkpoint();'))"
   ]
  }
 ],
 "metadata": {
  "kernelspec": {
   "display_name": "Python 3.9.5 64-bit",
   "language": "python",
   "name": "python3"
  },
  "language_info": {
   "name": "python",
   "version": "3.9.5"
  },
  "orig_nbformat": 4,
  "vscode": {
   "interpreter": {
    "hash": "6a196852dad78838558c3d25678ed4fa7922e766dc7a8a519a679191ca8fa666"
   }
  }
 },
 "nbformat": 4,
 "nbformat_minor": 2
}
