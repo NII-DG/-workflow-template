{
 "cells": [
  {
   "cell_type": "markdown",
   "metadata": {},
   "source": [
    "# 実験のデータやソースコードを用意する"
   ]
  },
  {
   "cell_type": "markdown",
   "metadata": {},
   "source": [
    "実験の入力データやソースコードを用意する方法として以下をサポートしています。  \n",
    "\n",
    "- A：データガバナンス機能の他のリポジトリにあるデータから用意する\n",
    "- B：S3またはS3準拠ストレージから用意する"
   ]
  },
  {
   "cell_type": "markdown",
   "metadata": {},
   "source": [
    "## A：他のリポジトリから用意する\n",
    "\n",
    "他のデータガバナンス機能リポジトリにあるデータやソースコードを、この実験の入力データや実験ソースコードとして用意します。  \n",
    "実行画面に遷移するには以下のリンクをクリックしてください。  \n",
    "\n",
    "### [「A：他のリポジトリから用意する」の実行画面にアクセスする](prepare_from_repository.ipynb)  "
   ]
  },
  {
   "cell_type": "markdown",
   "metadata": {},
   "source": [
    "## B：S3またはS3準拠ストレージから用意する\n",
    "\n",
    "S3またはS3準拠のストレージにあるデータを、この実験の入力データや実験ソースコードとして用意します。  \n",
    "実行画面に遷移するには以下のリンクをクリックしてください。  \n",
    "\n",
    "### [「B：S3またはS3準拠ストレージから用意する」の実行画面にアクセスする](prepare_from_s3.ipynb)"
   ]
  }
 ],
 "metadata": {
  "language_info": {
   "name": "python"
  },
  "orig_nbformat": 4
 },
 "nbformat": 4,
 "nbformat_minor": 2
}
