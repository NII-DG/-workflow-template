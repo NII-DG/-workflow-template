{
 "cells": [
  {
   "cell_type": "markdown",
   "metadata": {},
   "source": [
    "# パラメータ実験用のディレクトリを追加する\n",
    "\n",
    "このタスクでは、データセットの構造として、パラメータ実験用のデータ構成(for_parameters)を指定した研究者向けに、  \n",
    "実験パッケージ内に、パラメータ実験用のディレクトリを追加します。\n",
    "\n",
    "![パラメータ実験用パッケージイメージ](./images/パラメータ実験用パッケージイメージ.png)\n",
    "\n",
    "実験フロートップページに戻る場合は[こちら](../experiment.ipynb)。新規タブで開きます。  "
   ]
  },
  {
   "cell_type": "markdown",
   "metadata": {},
   "source": [
    "## 0. 研究リポジトリ名・実験パッケージ名を確認する  \n",
    "以下のセルを実行すると、この実験実行環境で操作する実験パッケージの名前と、実験パッケージの存在する研究リポジトリ名を確認できます。  "
   ]
  },
  {
   "cell_type": "code",
   "execution_count": null,
   "metadata": {},
   "outputs": [],
   "source": [
    "import os\n",
    "os.chdir('/home/jovyan/WORKFLOWS/FLOW/')\n",
    "from util.scripts import utils\n",
    "\n",
    "%store -r\n",
    "if 'EXPERIMENT_TITLE' not in locals().keys() : EXPERIMENT_TITLE = '-'\n",
    "utils.show_name('blue', EXPERIMENT_TITLE)"
   ]
  },
  {
   "cell_type": "markdown",
   "metadata": {},
   "source": [
    "##  1. タスクの実行対象確認\n",
    "\n",
    "パラメータ実験用のデータ構成を利用していない方にとっては不要なタスクとなります。  \n",
    "下記のセルを実行し、本タスクの実行対象かご確認ください。"
   ]
  },
  {
   "cell_type": "code",
   "execution_count": null,
   "metadata": {},
   "outputs": [],
   "source": [
    "import os\n",
    "import json\n",
    "from IPython.display import display, HTML, Javascript\n",
    "\n",
    "path_flow_root = '/home/jovyan/WORKFLOWS/FLOW/'\n",
    "os.chdir(path_flow_root)\n",
    "from util.scripts import utils\n",
    "\n",
    "# DS構成のスキーム名をdmp.jsonから取得する\n",
    "assigned_values = utils.fetch_gin_monitoring_assigned_values()\n",
    "scheme_name = assigned_values['datasetStructure']\n",
    "\n",
    "if scheme_name == 'for_parameters':\n",
    "    print('本タスクの対象です。パラメータ実験用のディレクトリを追加したい場合は以下の処理に進んでください。')\n",
    "if scheme_name != 'for_parameters':\n",
    "    print(\"本タスクの対象外です。以下のリンクから実験フロートップページに戻ってください。\")\n",
    "    display(HTML(\"<a href='../experiment.ipynb'>実験フロートップページに遷移する</a>\"))\n",
    "\n",
    "display(Javascript('IPython.notebook.save_checkpoint();'))"
   ]
  },
  {
   "cell_type": "markdown",
   "metadata": {},
   "source": [
    "## 2. パラメータ実験用のディレクトリを追加する"
   ]
  },
  {
   "cell_type": "markdown",
   "metadata": {},
   "source": [
    "### 2-1. パラメータ実験用のディレクトリを用意する"
   ]
  },
  {
   "cell_type": "code",
   "execution_count": null,
   "metadata": {},
   "outputs": [],
   "source": [
    "import os\n",
    "\n",
    "# このコンテナで扱う実験パッケージのパスを作成する\n",
    "%store -r EXPERIMENT_TITLE\n",
    "experiment_path = '/home/jovyan/experiments/' + EXPERIMENT_TITLE\n",
    "\n",
    "# /home/jovyan 配下に移動する\n",
    "os.chdir(os.environ['HOME'])\n",
    "\n",
    "# ディレクトリを追加する\n",
    "!cp -r ~/WORKFLOWS/PACKAGE/scheme/$scheme_name/parameter $experiment_path\n"
   ]
  },
  {
   "cell_type": "markdown",
   "metadata": {},
   "source": [
    "### 2-2. パラメータ実験名を決定する\n",
    "\n",
    "パラメータ実験名を入力して、実験データ格納用のディレクトリを作成します。\n",
    "\n",
    "パラメータ実験名としては、実験パッケージ内で同名のパラメータ実験名を使用することはできません。  \n",
    "また、「parameter」というパラメータ実験名も使用することができません。パラメータ名など分かりやすい名前をご記入ください。  \n",
    "※ 入力値に誤りがある場合、次に進む前に、もう一度実行することで訂正ができます。  \n"
   ]
  },
  {
   "cell_type": "code",
   "execution_count": null,
   "metadata": {},
   "outputs": [],
   "source": [
    "import os\n",
    "import re\n",
    "import shutil\n",
    "from IPython.display import clear_output\n",
    "\n",
    "# データセットの構成がパラメータ実験用ではない場合、何もしない。\n",
    "if scheme_name != 'for_parameters':\n",
    "    print( '本処理は不要です。')\n",
    "else:\n",
    "    # GINサーバのものに合わせたバリデーションルールを設定\n",
    "    validation = re.compile(r'[a-z|A-Z|0-9|\\-|_|.]+')\n",
    "\n",
    "    print('作成したいパラメータ実験名を半角英数字で入力してください。')\n",
    "    while True:\n",
    "        print(\"入力完了後、Enterキーを押下してください。\")\n",
    "        paramexp_title = input(\"パラメータ実験名：\")\n",
    "        if validation.fullmatch(paramexp_title):\n",
    "            break\n",
    "        else:\n",
    "            clear_output()\n",
    "            print('パラメータ実験名は英数字、および\"-\", \"_\", \".\"のみで入力してください。')\n",
    "\n",
    "clear_output()\n",
    "print(\"作成したパラメータ実験名：\", paramexp_title)\n",
    "print('このパラメータ実験名で処理を進めます。')"
   ]
  },
  {
   "cell_type": "markdown",
   "metadata": {},
   "source": [
    "### 2-3. 入力したパラメータ実験名でディレクトリを用意する"
   ]
  },
  {
   "cell_type": "code",
   "execution_count": null,
   "metadata": {},
   "outputs": [],
   "source": [
    "from IPython.display import clear_output\n",
    "\n",
    "# 該当実験パッケージを特定させるため、環境変数EXPERIMENT_TITLEに実験パッケージ名を設定\n",
    "PARAMEXP_TITLE = paramexp_title\n",
    "%store PARAMEXP_TITLE\n",
    "clear_output()\n",
    "\n",
    "# 実験パッケージの直下に移動\n",
    "os.chdir(experiment_path)\n",
    "\n",
    "# parameterディレクトリをユーザが指定したパラメータ実験名に変更\n",
    "shutil.move('parameter', paramexp_title)\n",
    "print('入力したパラメータ実験名「' + paramexp_title + '」でディレクトリを用意しました。')"
   ]
  },
  {
   "cell_type": "markdown",
   "metadata": {},
   "source": [
    "## 3. 本タスクの実行結果をGIN-forkに同期する\n",
    "\n",
    "ここまでの内容を保存し、GIN-forkに同期します。  \n",
    "以下のセルを実行してください。"
   ]
  },
  {
   "cell_type": "code",
   "execution_count": null,
   "metadata": {},
   "outputs": [],
   "source": [
    "from IPython.display import display, Javascript\n",
    "display(Javascript('IPython.notebook.save_checkpoint();'))"
   ]
  },
  {
   "cell_type": "code",
   "execution_count": null,
   "metadata": {},
   "outputs": [],
   "source": [
    "import os\n",
    "import glob\n",
    "  \n",
    "os.chdir(experiment_path)\n",
    "\n",
    "#**************************************************#\n",
    "#* Generate a list of folder paths to be managed by Git-annex. #\n",
    "#**************************************************#\n",
    "dirlist=[]\n",
    "filelist=[]\n",
    "annexed_save_path=[]\n",
    "\n",
    "# Recursively search under the experimental package to obtain a list of absolute directory paths.\n",
    "for root, dirs, files in os.walk(top=experiment_path):\n",
    "    for dir in dirs:\n",
    "        dirPath = os.path.join(root, dir)\n",
    "        dirlist.append( dirPath )   \n",
    "\n",
    "# Add directory paths containing the string \"output_data\" that are not included under input_data to annexed_save_path.\n",
    "output_data_path = [ s for s in dirlist if 'output_data' in s ]\n",
    "for output_data in output_data_path:  \n",
    "    if  \"input_data\" not in output_data:\n",
    "        annexed_save_path.append( output_data )\n",
    "\n",
    "# Add the input_data directory to annexed_save_path.\n",
    "annexed_save_path.append( experiment_path + '/input_data'  )\n",
    "\n",
    "# Generate a list of file paths to which metadata is to be assigned.\n",
    "gitannex_files = []\n",
    "for path in annexed_save_path:\n",
    "    gitannex_files += [p for p in glob.glob(path+'/**', recursive=True)\n",
    "             if os.path.isfile(p)]\n",
    "\n",
    "#********************************************************#\n",
    "#* Generate a list of directory paths and file paths to be managed by Git. #\n",
    "#********************************************************#\n",
    "# Obtain a list of directories and files directly under the experimental package.\n",
    "files = os.listdir()\n",
    "\n",
    "# Delete Git-annex managed directories (input_data and output_data) from the retrieved list.\n",
    "dirs = [f for f in files if os.path.isdir(f)]\n",
    "\n",
    "for dirname in dirs:\n",
    "    if dirname == 'input_data' :\n",
    "        dirs.remove('input_data')\n",
    "\n",
    "    if dirname == 'output_data' :\n",
    "        dirs.remove('output_data')\n",
    "\n",
    "for dirname in dirs:\n",
    "    if dirname != 'ci' and dirname != 'source':\n",
    "        full_param_dir = '{}/{}/params'.format(experiment_path,dirname)\n",
    "        if os.path.isdir(full_param_dir):\n",
    "            dirs.remove(dirname)\n",
    "            ex_param_path = '{}/{}'.format(experiment_path, dirname)\n",
    "            ex_param_path_childs = os.listdir(ex_param_path)\n",
    "            for ex_param_path_child in ex_param_path_childs:\n",
    "                if ex_param_path_child != 'output_data':\n",
    "                    dirs.append('{}/{}'.format(dirname,ex_param_path_child))\n",
    "    \n",
    "# Obtain files directly under the experimental package.\n",
    "files = [f for f in files if os.path.isfile(f)]\n",
    "\n",
    "# Generate a list of folder paths and file paths to be managed by Git.\n",
    "files.extend(dirs)\n",
    "save_path = []\n",
    "for file in files:\n",
    "    save_path.append(experiment_path + '/' + file)\n",
    "save_path.append('/home/jovyan/pipeline.json')"
   ]
  },
  {
   "attachments": {},
   "cell_type": "markdown",
   "metadata": {},
   "source": [
    "以下を実行して、`リポジトリ側の変更と競合しました。競合を解決してください。`と表示された場合は、[GINへの同期の失敗を解消する。](../conflict_helper.ipynb)を参照して、競合を解消してください。\n"
   ]
  },
  {
   "cell_type": "code",
   "execution_count": null,
   "metadata": {},
   "outputs": [],
   "source": [
    "import os\n",
    "os.chdir('/home/jovyan/WORKFLOWS/FLOW/')\n",
    "from util.scripts import utils\n",
    "os.chdir(os.environ['HOME'])\n",
    "\n",
    "# save this notebook\n",
    "save_path.append('WORKFLOWS/EX-WORKFLOWS/prepare_parameter_experiment.ipynb')\n",
    "is_ok = utils.syncs_with_repo(git_path=save_path, gitannex_path=annexed_save_path, gitannex_files=gitannex_files, message=EXPERIMENT_TITLE + '_パラメータ実験用意')"
   ]
  },
  {
   "cell_type": "markdown",
   "metadata": {},
   "source": [
    "## 4. 実験フロートップページに遷移する\n",
    "\n",
    "以下のセルを実行し、表示されるリンクをクリックして実験フロートップページに戻ってください。  "
   ]
  },
  {
   "cell_type": "code",
   "execution_count": null,
   "metadata": {},
   "outputs": [],
   "source": [
    "from IPython.display import display, HTML, Javascript\n",
    "display(HTML(\"<a href='../experiment.ipynb'>実験フロートップページに遷移する</a>\"))\n",
    "display(Javascript('IPython.notebook.save_checkpoint();'))"
   ]
  }
 ],
 "metadata": {
  "kernelspec": {
   "display_name": "Python 3.9.5 64-bit",
   "language": "python",
   "name": "python3"
  },
  "language_info": {
   "codemirror_mode": {
    "name": "ipython",
    "version": 3
   },
   "file_extension": ".py",
   "mimetype": "text/x-python",
   "name": "python",
   "nbconvert_exporter": "python",
   "pygments_lexer": "ipython3",
   "version": "3.10.9"
  },
  "vscode": {
   "interpreter": {
    "hash": "6a196852dad78838558c3d25678ed4fa7922e766dc7a8a519a679191ca8fa666"
   }
  }
 },
 "nbformat": 4,
 "nbformat_minor": 2
}
