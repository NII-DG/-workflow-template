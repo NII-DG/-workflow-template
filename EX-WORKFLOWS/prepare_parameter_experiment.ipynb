{
 "cells": [
  {
   "cell_type": "markdown",
   "metadata": {},
   "source": [
    "# パラメータ実験用のディレクトリを追加する\n",
    "\n",
    "このタスクでは、データセットの構造として、パラメータ実験用のデータ構成(RCOS_for_parameters)を指定した研究者向けに、  \n",
    "実験パッケージ内に、パラメータ実験用のディレクトリを追加します。\n",
    "\n",
    "<img src=\"./../../../files/WORKFROWS/EX-WORKFROWS/images/パラメータ実験用パッケージイメージ.png\">"
   ]
  },
  {
   "cell_type": "markdown",
   "metadata": {},
   "source": [
    "##  1. タスクの実行対象確認\n",
    "\n",
    "パラメータ実験用のデータ構成を利用していない方にとっては不要なタスクとなります。  \n",
    "下記のセルを実行し、本タスクの実行対象かご確認ください。"
   ]
  },
  {
   "cell_type": "code",
   "execution_count": null,
   "metadata": {},
   "outputs": [],
   "source": [
    "import os\n",
    "import json\n",
    "\n",
    "path_flow_root = '/home/jovyan/WORKFLOWS/FLOW/'\n",
    "os.chdir(path_flow_root)\n",
    "from util.scripts import utils\n",
    "\n",
    "# DS構成のスキーム名をパラメタファイルから取得する\n",
    "monitoring_params = {}\n",
    "with open(utils.fetch_monitoring_param_file_path(), mode='r') as f:\n",
    "    monitoring_params = json.load(f)\n",
    "    \n",
    "scheme_name = monitoring_params['datasetStructure']\n",
    "\n",
    "if scheme_name != 'RCOS_for_parameters':\n",
    "    print( '本処理は不要ですので、実験ワークフロー機能トップページに遷移してください。')"
   ]
  },
  {
   "cell_type": "markdown",
   "metadata": {},
   "source": [
    "上記の処理で、「本処理は不要ですので、実験ワークフロー機能トップページに遷移してください。」と表示された方は、  \n",
    "[こちら](../experiment.ipynb)からトップページに遷移できます。"
   ]
  },
  {
   "cell_type": "markdown",
   "metadata": {},
   "source": [
    "## 2. パラメータ実験用のディレクトリを追加する"
   ]
  },
  {
   "cell_type": "markdown",
   "metadata": {},
   "source": [
    "### 2-1. パラメータ実験用のディレクトリを用意する"
   ]
  },
  {
   "cell_type": "code",
   "execution_count": null,
   "metadata": {},
   "outputs": [],
   "source": [
    "import os\n",
    "\n",
    "# このコンテナで扱う実験パッケージのパスを作成する\n",
    "%store -r EXPERIMENT_TITLE\n",
    "experiment_path = '/home/jovyan/experiments/' + EXPERIMENT_TITLE\n",
    "\n",
    "# /home/jovyan 配下に移動する\n",
    "os.chdir(os.environ['HOME'])\n",
    "\n",
    "# ディレクトリを追加する\n",
    "!cp -r ~/WORKFLOWS/PACKAGE/scheme/$scheme_name/parameter $experiment_path\n"
   ]
  },
  {
   "cell_type": "markdown",
   "metadata": {},
   "source": [
    "### 2-2. パラメータ実験名を決定する\n",
    "\n",
    "パラメータ実験名を入力して、実験データ格納用のディレクトリを作成します。\n",
    "\n",
    "パラメータ実験名としては、実験パッケージ内で同名のパラメータ実験名を使用することはできません。  \n",
    "また、「parameter」というパラメータ実験名も使用することができません。パラメータ名など分かりやすい名前をご記入ください。  \n",
    "※入力値に誤りがある場合、もう一度実行することで訂正ができます。  \n"
   ]
  },
  {
   "cell_type": "code",
   "execution_count": null,
   "metadata": {},
   "outputs": [],
   "source": [
    "import os\n",
    "import re\n",
    "import shutil\n",
    "from IPython.display import clear_output\n",
    "\n",
    "# データセットの構成がパラメータ実験用ではない場合、何もしない。\n",
    "if scheme_name != 'RCOS_for_parameters':\n",
    "    print( '本処理は不要です。')\n",
    "else:\n",
    "    # GINサーバのものに合わせたバリデーションルールを設定\n",
    "    validation = re.compile(r'[a-z|A-Z|0-9|\\-|_|.]+')\n",
    "\n",
    "    print('作成したいパラメータ実験名を半角英数字で入力してください。')\n",
    "    while True:\n",
    "        paramexp_title = input(\"パラメータ実験名：\")\n",
    "        if validation.fullmatch(paramexp_title):\n",
    "            break\n",
    "        else:\n",
    "            clear_output()\n",
    "            print('パラメータ実験名は英数字、および\"-\", \"_\", \".\"のみで入力してください。')\n",
    "\n",
    "    clear_output()\n",
    "\n",
    "    # 該当実験パッケージを特定させるため、環境変数EXPERIMENT_TITLEに実験パッケージ名を設定\n",
    "    PARAMEXP_TITLE = paramexp_title\n",
    "    %store PARAMEXP_TITLE\n",
    "    clear_output()\n",
    "\n",
    "    print(\"作成したパラメータ実験名：\", paramexp_title)\n",
    "    print('このパラメータ実験名で処理を進めます。')\n",
    "\n",
    "    # 実験パッケージの直下に移動\n",
    "    os.chdir(experiment_path)\n",
    "\n",
    "    # parameterディレクトリをユーザが指定したパラメータ実験名に変更\n",
    "    shutil.move('parameter', paramexp_title)"
   ]
  },
  {
   "cell_type": "markdown",
   "metadata": {},
   "source": [
    "## 3. 本タスクの実行結果をGIN-forkに同期する\n",
    "\n",
    "ここまでの内容を保存し、GIN-forkに同期します。  \n",
    "以下のセルを実行してください。"
   ]
  },
  {
   "cell_type": "code",
   "execution_count": null,
   "metadata": {},
   "outputs": [],
   "source": [
    "from IPython.display import display, Javascript\n",
    "display(Javascript('IPython.notebook.save_checkpoint();'))"
   ]
  },
  {
   "cell_type": "code",
   "execution_count": null,
   "metadata": {},
   "outputs": [],
   "source": [
    "import os\n",
    "\n",
    "# 実験パッケージの直下へと移動する    \n",
    "os.chdir(experiment_path)\n",
    "\n",
    "#**************************************************#\n",
    "#* Git-annex管理するディレクトリへのパスを生成する #\n",
    "#**************************************************#\n",
    "dirlist=[]\n",
    "filelist=[]\n",
    "annexed_save_path=[]\n",
    "\n",
    "# 実験パッケージ配下を再帰的に検索し、ディレクトリとファイルの一覧を取得する。\n",
    "for root, dirs, files in os.walk(top=experiment_path):\n",
    "    # ディレクトリ情報から絶対パスを作成する\n",
    "    for dir in dirs:\n",
    "        dirPath = os.path.join(root, dir)\n",
    "        dirlist.append( dirPath )   \n",
    "\n",
    "# output_dataという文字列を含むディレクトリを検索する。\n",
    "output_data_path = [ s for s in dirlist if 'output_data' in s ]\n",
    "\n",
    "for output_data in output_data_path:  \n",
    "    # input_data配下に含まれる、output_dataディレクトリは対象外\n",
    "    if  \"input_data\" not in output_data:\n",
    "        # 該当の文字列を含んだパスをGit-annex管理するパスの配列に追記する\n",
    "        annexed_save_path.append( output_data )\n",
    "\n",
    "# input_dataディレクトリをGit-Annex管理するパスの配列に追記する。\n",
    "# input_dataは実験パッケージの直下にあることを想定。\n",
    "# input_dataには、他リポジトリの情報が含まれる可能性があり、そのリポジトリの内容はGINに書き戻したくないため。\n",
    "annexed_save_path.append( experiment_path + '/input_data'  )\n",
    "\n",
    "#********************************************************#\n",
    "#* Gitで管理するディレクトリとファイルへのパスを生成する #\n",
    "#********************************************************#\n",
    "#  実験パッケージ直下のディレクトリとファイルの一覧を取得する\n",
    "files = os.listdir()\n",
    "\n",
    "# 取得した一覧からGit-annex管理するディレクトリ(input_dataとoutput_data)を削除する\n",
    "dirs = [f for f in files if os.path.isdir(f)]\n",
    "\n",
    "for dirname in dirs:\n",
    "    if dirname == 'input_data' :\n",
    "        dirs.remove('input_data')\n",
    "\n",
    "    if dirname == 'output_data' :\n",
    "        dirs.remove('output_data')\n",
    "    \n",
    "# 実験パッケージ直下のファイルを取得\n",
    "files = [f for f in files if os.path.isfile(f)]\n",
    "\n",
    "# Git管理するパスの配列を作成する\n",
    "files.extend(dirs)\n",
    "save_path = []\n",
    "for file in files:\n",
    "    save_path.append(experiment_path + '/' + file)\n",
    "save_path.append('/home/jovyan/pipeline.json')"
   ]
  },
  {
   "cell_type": "markdown",
   "metadata": {},
   "source": [
    "以下を実行して、`リポジトリ側の変更と競合しました。競合を解決してください。`と表示された場合は、[こちらのFAQ](http://dg02.dg.rcos.nii.ac.jp/G-Node/Info/wiki/%E3%83%AF%E3%83%BC%E3%82%AF%E3%83%95%E3%83%AD%E3%83%BC#1-1%E5%90%8C%E6%9C%9F%E5%87%A6%E7%90%86%E3%82%92%E5%AE%9F%E8%A1%8C%E3%81%99%E3%82%8B%E3%81%A8%E3%80%81%E3%83%AA%E3%83%9D%E3%82%B8%E3%83%88%E3%83%AA%E5%81%B4%E3%81%AE%E5%A4%89%E6%9B%B4%E3%81%A8%E7%AB%B6%E5%90%88%E3%81%97%E3%81%BE%E3%81%97%E3%81%9F%E3%80%82%E7%AB%B6%E5%90%88%E3%82%92%E8%A7%A3%E6%B1%BA%E3%81%97%E3%81%A6%E3%81%8F%E3%81%A0%E3%81%95%E3%81%84%E3%80%82%E3%81%A8%E8%A1%A8%E7%A4%BA%E3%81%95%E3%82%8C%E3%82%8B)を参考に競合を解決してください。"
   ]
  },
  {
   "cell_type": "code",
   "execution_count": null,
   "metadata": {},
   "outputs": [],
   "source": [
    "import os\n",
    "import papermill as pm\n",
    "from colorama import Fore\n",
    "from IPython.display import clear_output\n",
    "\n",
    "os.chdir(os.environ['HOME'])\n",
    "# Git-annex管理ファイルを保存\n",
    "try:\n",
    "    pm.execute_notebook(\n",
    "        'WORKFLOWS/EX-WORKFLOWS/util/base_datalad_save_push.ipynb',\n",
    "        '/home/jovyan/.local/push_log.ipynb',\n",
    "        parameters = dict(SAVE_MESSAGE = EXPERIMENT_TITLE + '_パラメータ実験準備 (1/2)', PATH = annexed_save_path, IS_RECURSIVE = False, UNLOCK = False, REMOVE_PUSH_PATH = True)\n",
    "    )\n",
    "finally:\n",
    "    clear_output()\n",
    "    %store -r DATALAD_MESSAGE\n",
    "    %store -r DATALAD_ERROR\n",
    "    print('\\n' + DATALAD_MESSAGE + '\\n')\n",
    "    print(Fore.RED + DATALAD_ERROR)"
   ]
  },
  {
   "cell_type": "code",
   "execution_count": null,
   "metadata": {},
   "outputs": [],
   "source": [
    "import os\n",
    "import papermill as pm\n",
    "from colorama import Fore\n",
    "from IPython.display import clear_output\n",
    "\n",
    "os.chdir(os.environ['HOME'])\n",
    "# Git管理ファイルを保存\n",
    "try:\n",
    "    pm.execute_notebook(\n",
    "        'WORKFLOWS/EX-WORKFLOWS/util/base_datalad_save_push.ipynb',\n",
    "        '/home/jovyan/.local/push_log.ipynb',\n",
    "        parameters = dict(SAVE_MESSAGE = EXPERIMENT_TITLE + '_パラメータ実験準備 (2/2)', TO_GIT = True, PATH = save_path, IS_RECURSIVE = False)\n",
    "    )\n",
    "finally:\n",
    "    clear_output()\n",
    "    %store -r DATALAD_MESSAGE\n",
    "    %store -r DATALAD_ERROR\n",
    "    print('\\n' + DATALAD_MESSAGE + '\\n')\n",
    "    print(Fore.RED + DATALAD_ERROR)"
   ]
  },
  {
   "cell_type": "markdown",
   "metadata": {},
   "source": [
    "## 4. 実験ワークフロー機能トップページに遷移する\n",
    "\n",
    "続けてワークフロー機能を実行する場合は、[こちら](../experiment.ipynb)からトップページに遷移できます。  "
   ]
  }
 ],
 "metadata": {
  "kernelspec": {
   "display_name": "Python 3.9.5 64-bit",
   "language": "python",
   "name": "python3"
  },
  "language_info": {
   "codemirror_mode": {
    "name": "ipython",
    "version": 3
   },
   "file_extension": ".py",
   "mimetype": "text/x-python",
   "name": "python",
   "nbconvert_exporter": "python",
   "pygments_lexer": "ipython3",
   "version": "3.9.5"
  },
  "vscode": {
   "interpreter": {
    "hash": "6a196852dad78838558c3d25678ed4fa7922e766dc7a8a519a679191ca8fa666"
   }
  }
 },
 "nbformat": 4,
 "nbformat_minor": 2
}
