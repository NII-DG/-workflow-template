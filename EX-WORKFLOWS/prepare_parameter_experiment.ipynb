{
 "cells": [
  {
   "cell_type": "markdown",
   "metadata": {},
   "source": [
    "# パラメータ実験用のディレクトリを準備する。\n",
    "\n",
    "本セクションでは、データセットの構造として、パラメータ実験用のデータ構成(RCOS_for_parameters)を指定した研究者向けに、  \n",
    "同一の実験パッケージ内に、パラメータ実験用のディレクトリの準備を行います。\n",
    "\n",
    "![パラメータ実験用実験リポジトリのイメージ](https://raw.githubusercontent.com/NII-DG/workflow-template/develop/fb44fb71/images/%E3%83%91%E3%83%A9%E3%83%A1%E3%83%BC%E3%82%BF%E5%AE%9F%E9%A8%93%E7%94%A8%E5%AE%9F%E9%A8%93%E3%83%AA%E3%83%9D%E3%82%B8%E3%83%88%E3%83%AA%E3%81%AE%E3%82%A4%E3%83%A1%E3%83%BC%E3%82%B8.png)\n",
    "\n"
   ]
  },
  {
   "cell_type": "markdown",
   "metadata": {},
   "source": [
    "### - 0. セクションの実行対象確認\n",
    "\n",
    "パラメータ実験用のデータ構成を利用していない方にとっては不要なセクションとなります。  \n",
    "下記のセルを実行し、本セクションの実行対象かご確認ください。"
   ]
  },
  {
   "cell_type": "code",
   "execution_count": null,
   "metadata": {},
   "outputs": [],
   "source": [
    "import os\n",
    "\n",
    "os.chdir(path_flow_root)\n",
    "from util.scripts import utils\n",
    "\n",
    "# DS構成のスキーム名をパラメタファイルから取得する\n",
    "monitoring_params = {}\n",
    "with open(utils.fetch_monitoring_param_file_path(), mode='r') as f:\n",
    "    monitoring_params = json.load(f)\n",
    "    \n",
    "scheme_name = monitoring_params['datasetStructure']\n",
    "\n",
    "if scheme_name != 'RCOS_for_parameters':\n",
    "    print( '本処理は不要ですので、実験中ワークフロー機能トップページに遷移してください。')"
   ]
  },
  {
   "cell_type": "markdown",
   "metadata": {},
   "source": [
    "上記の処理で、「本処理は不要ですので、実験中ワークフロー機能トップページに遷移してください。」と表示された方は、  \n",
    "[こちら](../experiment.ipynb)からトップページに遷移できます。"
   ]
  },
  {
   "cell_type": "markdown",
   "metadata": {},
   "source": [
    "### - 1.1 パラメータ実験用の実験パッケージを用意する"
   ]
  },
  {
   "cell_type": "code",
   "execution_count": null,
   "metadata": {},
   "outputs": [],
   "source": [
    "# このコンテナで扱う実験パッケージのパスを作成する\n",
    "%store -r EXPERIMENT_TITLE\n",
    "experiment_path = '/home/jovyan/experiments/' + EXPERIMENT_TITLE\n",
    "\n",
    "# /home/jovyan 配下に移動する \n",
    "%cd ~/\n",
    "\n",
    "# 実験パッケージを用意する\n",
    "!cp -r ~/WORKFLOWS/PACKAGE/scheme/$scheme_name/. $experiment_path\n",
    "!cp -r ~/WORKFLOWS/PACKAGE/base/. $experiment_path\n"
   ]
  },
  {
   "cell_type": "markdown",
   "metadata": {},
   "source": [
    "### 1.2 パラメータ実験名を決定する。\n",
    "\n",
    "パラメータ実験名を入力して、実験用データ格納用のディレクトリを作成します。\n",
    "\n",
    "パラメータ実験名としては、同じ実験パッケージ内で同盟のパラメータ実験名を使用することはできません。  \n",
    "また、「parameter」というパラメータ実験名も使用することができません。パラメータ名など分かりやすい名前をご記入ください。  \n",
    "※入力値に誤りがある場合、もう一度実行することで訂正ができます。  \n",
    "\n",
    "![パラメータ実験用実験リポジトリのイメージ](https://raw.githubusercontent.com/NII-DG/workflow-template/develop/fb44fb71/images/%E3%83%91%E3%83%A9%E3%83%A1%E3%83%BC%E3%82%BF%E5%AE%9F%E9%A8%93%E7%94%A8%E5%AE%9F%E9%A8%93%E3%83%AA%E3%83%9D%E3%82%B8%E3%83%88%E3%83%AA%E3%81%AE%E3%82%A4%E3%83%A1%E3%83%BC%E3%82%B8.png)"
   ]
  },
  {
   "cell_type": "code",
   "execution_count": null,
   "metadata": {},
   "outputs": [],
   "source": [
    "import os\n",
    "import re\n",
    "import shutil\n",
    "from IPython.display import clear_output\n",
    "\n",
    "# データセットの構成がパラメータ実験用ではない場合、何もしない。\n",
    "if scheme_name != 'RCOS_for_parameters':\n",
    "    print( '本処理は不要です。')\n",
    "else:\n",
    "    # GINサーバのものに合わせたバリデーションルールを設定\n",
    "    validation = re.compile(r'[a-z|A-Z|0-9|\\-|_|.]+')\n",
    "\n",
    "    print('作成したいパラメータ実験名を半角英数字で入力してください。')\n",
    "    while True:\n",
    "        paramexp_title = input(\"パラメータ実験名：\")\n",
    "        if validation.fullmatch(paramexp_title):\n",
    "            break\n",
    "        else:\n",
    "            clear_output()\n",
    "            print('パラメータ実験名は英数字、および\"-\", \"_\", \".\"のみで入力してください。')\n",
    "\n",
    "    clear_output()\n",
    "\n",
    "    # 実験中のワークフローに該当実験パッケージを特定させるため、環境変数EXPERIMENT_TITLEに実験パッケージ名を設定\n",
    "    PARAMEXP_TITLE = paramexp_title\n",
    "    %store PARAMEXP_TITLE\n",
    "    clear_output()\n",
    "\n",
    "    print(\"作成したパラメータ実験名：\", paramexp_title)\n",
    "    print('このパラメータ実験名で処理を進めます。')\n",
    "\n",
    "    # 実験パッケージの直下に移動\n",
    "    %cd $experiment_path\n",
    "\n",
    "    # parameterディレクトリをユーザが指定したパラメータ実験名に変更\n",
    "    shutil.move('parameter', paramexp_title)"
   ]
  },
  {
   "cell_type": "markdown",
   "metadata": {},
   "source": [
    "## 2. 実行結果をデータガバナンス機能に同期する\n",
    "\n",
    "ここまでの内容を保存し、データガバナンス機能に同期します。  \n",
    "以下のセルを実行してください。"
   ]
  },
  {
   "cell_type": "code",
   "execution_count": null,
   "metadata": {},
   "outputs": [],
   "source": [
    "from IPython.display import display, Javascript\n",
    "display(Javascript('IPython.notebook.save_checkpoint();'))"
   ]
  },
  {
   "cell_type": "markdown",
   "metadata": {},
   "source": [
    "以下を実行して、`リポジトリ側の変更と競合しました。競合を解決してください。`と表示された場合は、[こちらのFAQ](http://dg02.dg.rcos.nii.ac.jp/G-Node/Info/wiki/%E3%83%AF%E3%83%BC%E3%82%AF%E3%83%95%E3%83%AD%E3%83%BC#1-1%E5%90%8C%E6%9C%9F%E5%87%A6%E7%90%86%E3%82%92%E5%AE%9F%E8%A1%8C%E3%81%99%E3%82%8B%E3%81%A8%E3%80%81%E3%83%AA%E3%83%9D%E3%82%B8%E3%83%88%E3%83%AA%E5%81%B4%E3%81%AE%E5%A4%89%E6%9B%B4%E3%81%A8%E7%AB%B6%E5%90%88%E3%81%97%E3%81%BE%E3%81%97%E3%81%9F%E3%80%82%E7%AB%B6%E5%90%88%E3%82%92%E8%A7%A3%E6%B1%BA%E3%81%97%E3%81%A6%E3%81%8F%E3%81%A0%E3%81%95%E3%81%84%E3%80%82%E3%81%A8%E8%A1%A8%E7%A4%BA%E3%81%95%E3%82%8C%E3%82%8B)を参考に競合を解決してください。"
   ]
  },
  {
   "cell_type": "code",
   "execution_count": null,
   "metadata": {},
   "outputs": [],
   "source": [
    "import papermill as pm\n",
    "from colorama import Fore\n",
    "from IPython.display import clear_output\n",
    "\n",
    "%cd ~/\n",
    "save_path = [ experiment_path + '/input_data/' + input_repo_title, '/home/jovyan/.gitmodules']\n",
    "try:\n",
    "    pm.execute_notebook(\n",
    "        'WORKFLOWS/EX-WORKFLOWS/util/base_datalad_save_push.ipynb',\n",
    "        '/home/jovyan/.local/push_log.ipynb',\n",
    "        parameters = dict(SAVE_MESSAGE = EXPERIMENT_TITLE + '_入力データの準備', PATH = save_path, IS_RECURSIVE = False)\n",
    "    )\n",
    "finally:\n",
    "    clear_output()\n",
    "    %store -r DATALAD_MESSAGE\n",
    "    %store -r DATALAD_ERROR\n",
    "    print('\\n' + DATALAD_MESSAGE + '\\n')\n",
    "    print(Fore.RED + DATALAD_ERROR)"
   ]
  },
  {
   "cell_type": "markdown",
   "metadata": {},
   "source": [
    "## 3. 実験中ワークフロー機能トップページに遷移する\n",
    "\n",
    "続けてワークフロー機能を実行する場合は、[こちら](../experiment.ipynb)からトップページに遷移できます。  "
   ]
  }
 ],
 "metadata": {
  "kernelspec": {
   "display_name": "Python 3 (ipykernel)",
   "language": "python",
   "name": "python3"
  },
  "language_info": {
   "codemirror_mode": {
    "name": "ipython",
    "version": 3
   },
   "file_extension": ".py",
   "mimetype": "text/x-python",
   "name": "python",
   "nbconvert_exporter": "python",
   "pygments_lexer": "ipython3",
   "version": "3.9.10"
  }
 },
 "nbformat": 4,
 "nbformat_minor": 2
}
