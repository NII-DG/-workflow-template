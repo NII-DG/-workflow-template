{
 "cells": [
  {
   "cell_type": "markdown",
   "metadata": {},
   "source": [
    "# 実験を途中保存する\n",
    "\n",
    "現在の実験パッケージの内容をGIN-forkに途中保存します。  \n",
    "上から順番に全て実行してください。  \n",
    "\n",
    "※ 同期できるのは、実験実行環境に紐づいた実験名の実験パッケージの内容のみです。他の実験パッケージの変更内容は同期されません。  \n",
    "\n",
    "実験フロートップページに戻る場合は[こちら](../experiment.ipynb)。新規タブで開きます。  "
   ]
  },
  {
   "cell_type": "markdown",
   "metadata": {},
   "source": [
    "## 0. 研究リポジトリ名・実験パッケージ名を確認する  \n",
    "以下のセルを実行すると、この実験実行環境で操作する実験パッケージの名前と、実験パッケージの存在する研究リポジトリ名を確認できます。  \n",
    "**このタスクで同期されるのは、表示された名前の実験パッケージ内のデータのみです。**  \n"
   ]
  },
  {
   "cell_type": "code",
   "execution_count": null,
   "metadata": {},
   "outputs": [],
   "source": [
    "import os\n",
    "os.chdir('/home/jovyan/WORKFLOWS/FLOW/')\n",
    "from util.scripts import utils\n",
    "\n",
    "%store -r\n",
    "if 'EXPERIMENT_TITLE' not in locals().keys() : EXPERIMENT_TITLE = '-'\n",
    "utils.show_name('blue', EXPERIMENT_TITLE)"
   ]
  },
  {
   "cell_type": "markdown",
   "metadata": {},
   "source": [
    "## 1. コミットメッセージを変数に入力する\n",
    "\n",
    "以下のセルを実行して、実験作業のログとして残す短いメッセージを入力してください。  \n",
    "※ 入力値に誤りがある場合、次に進む前に、もう一度実行することで訂正ができます。"
   ]
  },
  {
   "cell_type": "code",
   "execution_count": null,
   "metadata": {},
   "outputs": [],
   "source": [
    "from IPython.display import clear_output\n",
    "print('入力完了後、Enterキーを押下してください。')\n",
    "message = input()\n",
    "clear_output()\n",
    "print('コミットメッセージ：', message)"
   ]
  },
  {
   "cell_type": "markdown",
   "metadata": {},
   "source": [
    "## 2. 実験内容をGIN-forkに途中保存する\n",
    "現在の実験パッケージの内容をGIN-forkへと同期します。  \n",
    "以下のセルを順に実行してください。\n"
   ]
  },
  {
   "cell_type": "code",
   "execution_count": null,
   "metadata": {},
   "outputs": [],
   "source": [
    "from IPython.display import display, Javascript\n",
    "display(Javascript('IPython.notebook.save_checkpoint();'))"
   ]
  },
  {
   "cell_type": "code",
   "execution_count": null,
   "metadata": {},
   "outputs": [],
   "source": [
    "import os\n",
    "import glob\n",
    "\n",
    "\n",
    "%store -r EXPERIMENT_TITLE\n",
    "experiment_path = '/home/jovyan/experiments/' + EXPERIMENT_TITLE\n",
    "os.chdir(experiment_path)\n",
    "\n",
    "#**************************************************#\n",
    "#* Generate a list of folder paths to be managed by Git-annex. #\n",
    "#**************************************************#\n",
    "dirlist=[]\n",
    "filelist=[]\n",
    "annexed_save_path=[]\n",
    "\n",
    "# Recursively search under the experimental package to obtain a list of absolute directory paths.\n",
    "for root, dirs, files in os.walk(top=experiment_path):\n",
    "    for dir in dirs:\n",
    "        dirPath = os.path.join(root, dir)\n",
    "        dirlist.append( dirPath )   \n",
    "\n",
    "\n",
    "# Add directory paths containing the string \"output_data\" that are not included under input_data to annexed_save_path.\n",
    "output_data_path = [ s for s in dirlist if 'output_data' in s ]\n",
    "for output_data in output_data_path:  \n",
    "    if  \"input_data\" not in output_data:\n",
    "        annexed_save_path.append( output_data )\n",
    "\n",
    "# Add the input_data directory to annexed_save_path.\n",
    "annexed_save_path.append( experiment_path + '/input_data'  )\n",
    "\n",
    "# Generate a list of file paths to which metadata is to be assigned.\n",
    "gitannex_files = []\n",
    "for path in annexed_save_path:\n",
    "    gitannex_files += [p for p in glob.glob(path+'/**', recursive=True)\n",
    "             if os.path.isfile(p)]\n",
    "\n",
    "#********************************************************#\n",
    "#* Generate a list of directory paths and file paths to be managed by Git. #\n",
    "#********************************************************#\n",
    "# Obtain a list of directories and files directly under the experimental package.\n",
    "files = os.listdir()\n",
    "\n",
    "# Delete Git-annex managed directories (input_data and output_data) from the retrieved list.\n",
    "dirs = [f for f in files if os.path.isdir(f)]\n",
    "\n",
    "for dirname in dirs:\n",
    "    if dirname == 'input_data' :\n",
    "        dirs.remove('input_data')\n",
    "\n",
    "    if dirname == 'output_data' :\n",
    "        dirs.remove('output_data')\n",
    "\n",
    "for dirname in dirs:\n",
    "    if dirname != 'ci' and dirname != 'source':\n",
    "        full_param_dir = '{}/{}/params'.format(experiment_path,dirname)\n",
    "        if os.path.isdir(full_param_dir):\n",
    "            dirs.remove(dirname)\n",
    "            ex_param_path = '{}/{}'.format(experiment_path, dirname)\n",
    "            ex_param_path_childs = os.listdir(ex_param_path)\n",
    "            for ex_param_path_child in ex_param_path_childs:\n",
    "                if ex_param_path_child != 'output_data':\n",
    "                    dirs.append('{}/{}'.format(dirname,ex_param_path_child))\n",
    "\n",
    "# Obtain files directly under the experimental package.\n",
    "files = [f for f in files if os.path.isfile(f)]\n",
    "\n",
    "# Generate a list of folder paths and file paths to be managed by Git.\n",
    "files.extend(dirs)\n",
    "save_path = []\n",
    "for file in files:\n",
    "    save_path.append(experiment_path + '/' + file)"
   ]
  },
  {
   "attachments": {},
   "cell_type": "markdown",
   "metadata": {},
   "source": [
    "以下を実行して、`リポジトリ側の変更と競合しました。競合を解決してください。`と表示された場合は、[GINへの同期の失敗を解消する。](../conflict_helper.ipynb)を参照して、競合を解消してください。"
   ]
  },
  {
   "cell_type": "code",
   "execution_count": null,
   "metadata": {},
   "outputs": [],
   "source": [
    "import os\n",
    "os.chdir('/home/jovyan/WORKFLOWS/FLOW/')\n",
    "from util.scripts import utils\n",
    "os.chdir(os.environ['HOME'])\n",
    "\n",
    "is_ok = utils.syncs_with_repo(git_path=save_path, gitannex_path=annexed_save_path, gitannex_files=gitannex_files, message=EXPERIMENT_TITLE + '_' + message)"
   ]
  },
  {
   "cell_type": "markdown",
   "metadata": {},
   "source": [
    "## 3. 実験フロートップページに遷移する\n",
    "\n",
    "以下のセルを実行し、表示されるリンクをクリックして実験フロートップページに戻ってください。  "
   ]
  },
  {
   "cell_type": "code",
   "execution_count": null,
   "metadata": {},
   "outputs": [],
   "source": [
    "from IPython.display import display, HTML, Javascript\n",
    "display(HTML(\"<a href='../experiment.ipynb'>実験フロートップページに遷移する</a>\"))\n",
    "display(Javascript('IPython.notebook.save_checkpoint();'))"
   ]
  }
 ],
 "metadata": {
  "kernelspec": {
   "display_name": "Python 3.9.5 64-bit",
   "language": "python",
   "name": "python3"
  },
  "language_info": {
   "codemirror_mode": {
    "name": "ipython",
    "version": 3
   },
   "file_extension": ".py",
   "mimetype": "text/x-python",
   "name": "python",
   "nbconvert_exporter": "python",
   "pygments_lexer": "ipython3",
   "version": "3.9.5"
  },
  "vscode": {
   "interpreter": {
    "hash": "6a196852dad78838558c3d25678ed4fa7922e766dc7a8a519a679191ca8fa666"
   }
  }
 },
 "nbformat": 4,
 "nbformat_minor": 4
}
