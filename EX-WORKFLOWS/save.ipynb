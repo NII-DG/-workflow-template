{
 "cells": [
  {
   "cell_type": "markdown",
   "metadata": {},
   "source": [
    "# データガバナンス機能に途中保存する\n",
    "\n",
    "実験終了前の段階で実験をデータガバナンス機能に途中保存します。  \n",
    "上から順番に実行してください。"
   ]
  },
  {
   "cell_type": "markdown",
   "metadata": {},
   "source": [
    "## 1. コミットメッセージを変数に入力する\n",
    "\n",
    "以下のセルを実行して、実験作業のログとして残す短いメッセージを入力してください。  \n",
    "※入力値に誤りがある場合、もう一度実行することで訂正ができます。"
   ]
  },
  {
   "cell_type": "code",
   "execution_count": null,
   "metadata": {},
   "outputs": [],
   "source": [
    "message = input()"
   ]
  },
  {
   "cell_type": "markdown",
   "metadata": {},
   "source": [
    "## 2. 実験をデータガバナンス機能に途中保存する\n",
    "\n",
    "※データの保存先としてAWS S3準拠のオブジェクトストレージを利用する場合は、  \n",
    "[こちら](util/operate_S3_annex.ipynb)を実行してください。"
   ]
  },
  {
   "cell_type": "code",
   "execution_count": null,
   "metadata": {},
   "outputs": [],
   "source": [
    "from IPython.display import display, Javascript\n",
    "display(Javascript('IPython.notebook.save_checkpoint();'))"
   ]
  },
  {
   "cell_type": "code",
   "execution_count": null,
   "metadata": {},
   "outputs": [],
   "source": [
    "import os\n",
    "import glob\n",
    "from util.scripts import utils\n",
    "\n",
    "# 実験パッケージパスを取得する\n",
    "%store -r EXPERIMENT_TITLE\n",
    "experiment_path = '/home/jovyan/experiments/' + EXPERIMENT_TITLE\n",
    "\n",
    "# Git管理のパスのリストを作成する\n",
    "%cd $experiment_path\n",
    "files = os.listdir()\n",
    "# ディレクトリ一覧からGit-annex管理するディレクトリ(input_dataとoutput_data)を排除する\n",
    "dirs = [f for f in files if os.path.isdir(f)]\n",
    "dirs.remove('input_data')\n",
    "dirs.remove('output_data')\n",
    "# 実験パッケージ直下のファイルを取得\n",
    "files = [f for f in files if os.path.isfile(f)]\n",
    "# Git管理するパスの配列を作成する\n",
    "files.extend(dirs)\n",
    "save_path = []\n",
    "for file in files:\n",
    "    save_path.append(experiment_path + '/' + file)\n",
    "\n",
    "# Git-annex管理するパスの配列を作成する\n",
    "annexed_save_path = [experiment_path + '/input_data', experiment_path + '/output_data']"
   ]
  },
  {
   "cell_type": "code",
   "execution_count": null,
   "metadata": {},
   "outputs": [],
   "source": [
    "import papermill as pm\n",
    "\n",
    "%cd ~/\n",
    "# Git-annex管理ファイルを保存\n",
    "pm.execute_notebook(\n",
    "    'WORKFLOWS/EX-WORKFLOWS/util/base_datalad_save_push.ipynb',\n",
    "    '/home/jovyan/.local/push_log.ipynb',\n",
    "    parameters = dict(SAVE_MESSAGE = EXPERIMENT_TITLE + '_' + message + ' (1/2)', PATH = annexed_save_path, IS_RECURSIVE = False)\n",
    ")"
   ]
  },
  {
   "cell_type": "code",
   "execution_count": null,
   "metadata": {},
   "outputs": [],
   "source": [
    "import papermill as pm\n",
    "\n",
    "%cd ~/\n",
    "# Git管理ファイルを保存\n",
    "pm.execute_notebook(\n",
    "    'WORKFLOWS/EX-WORKFLOWS/util/base_datalad_save_push.ipynb',\n",
    "    '/home/jovyan/.local/push_log.ipynb',\n",
    "    parameters = dict(SAVE_MESSAGE = EXPERIMENT_TITLE + '_' + message + ' (2/2)', TO_GIT = True, PATH = save_path, IS_RECURSIVE = False)\n",
    ")"
   ]
  },
  {
   "cell_type": "markdown",
   "metadata": {},
   "source": [
    "## 3. 実験中ワークフロー機能トップページに遷移する\n",
    "\n",
    "続けてワークフロー機能を実行する場合は、[こちら](../experiment.ipynb)からトップページに遷移できます。  "
   ]
  }
 ],
 "metadata": {
  "kernelspec": {
   "display_name": "Python 3 (ipykernel)",
   "language": "python",
   "name": "python3"
  },
  "language_info": {
   "codemirror_mode": {
    "name": "ipython",
    "version": 3
   },
   "file_extension": ".py",
   "mimetype": "text/x-python",
   "name": "python",
   "nbconvert_exporter": "python",
   "pygments_lexer": "ipython3",
   "version": "3.9.10"
  }
 },
 "nbformat": 4,
 "nbformat_minor": 4
}
