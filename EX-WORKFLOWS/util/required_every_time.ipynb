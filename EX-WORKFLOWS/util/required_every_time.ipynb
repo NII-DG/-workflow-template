{
 "cells": [
  {
   "cell_type": "markdown",
   "id": "4719bc46",
   "metadata": {},
   "source": [
    "# 必要な準備を行う\n",
    "\n",
    "実験中のワークフロー実行のために必要な準備を行います。  \n",
    "上から順番に実行してください。"
   ]
  },
  {
   "cell_type": "markdown",
   "id": "134fa434",
   "metadata": {},
   "source": [
    "## 1. 開始する実験の実験パッケージ名を入力する\n",
    "\n",
    "以下のセルを実行し、表示されるテキストボックスに作成したい実験パッケージ名を半角英数字で入力してください。  \n",
    "データガバナンス機能にすでに存在するリポジトリ名のリポジトリは作成いただけません。実験名など分かりやすい名前をご記入ください。   \n",
    "※入力値に誤りがある場合、もう一度実行することで訂正ができます。"
   ]
  },
  {
   "cell_type": "code",
   "execution_count": null,
   "id": "3660be54",
   "metadata": {},
   "outputs": [],
   "source": [
    "import os\n",
    "import re\n",
    "from IPython.display import clear_output\n",
    "\n",
    "# GINサーバのものに合わせたバリデーションルールを設定\n",
    "validation = re.compile(r'[a-z|A-Z|0-9|\\-|_|.]+')\n",
    "\n",
    "print('作成したい実験パッケージ名を半角英数字で入力してください。')\n",
    "while True:\n",
    "    experiment_title = input(\"パッケージ名：\")\n",
    "    if validation.fullmatch(experiment_title):\n",
    "        break\n",
    "    else:\n",
    "        clear_output()\n",
    "        print('パッケージ名は英数字、および\"-\", \"_\", \".\"のみで入力してください。')\n",
    "\n",
    "clear_output()\n",
    "\n",
    "# 実験中のワークフローに該当実験パッケージを特定させるため、環境変数EXPERIMENT_TITLEに実験パッケージ名を設定\n",
    "EXPERIMENT_TITLE = experiment_title\n",
    "%store EXPERIMENT_TITLE\n",
    "clear_output()\n",
    "\n",
    "print(\"作成したパッケージ名：\", experiment_title)\n",
    "print('この実験名で処理を進めます。変更したい場合は、このセルをもう一度実行することで訂正ができます。')"
   ]
  },
  {
   "cell_type": "code",
   "execution_count": null,
   "id": "250aefb2",
   "metadata": {},
   "outputs": [],
   "source": [
    "import json\n",
    "import os\n",
    "\n",
    "path_flow_root = '/home/jovyan/WORKFLOWS/FLOW/'\n",
    "os.chdir(path_flow_root)\n",
    "from util.scripts import utils\n",
    "\n",
    "params = {}\n",
    "with open(utils.fetch_param_file_path(), mode='r') as f:\n",
    "    params = json.load(f)"
   ]
  },
  {
   "cell_type": "markdown",
   "id": "bce80f4a",
   "metadata": {},
   "source": [
    "## 2. 実験記録管理のための準備を行う"
   ]
  },
  {
   "cell_type": "markdown",
   "id": "e4cde40b",
   "metadata": {},
   "source": [
    "### - 2.1 実験パッケージを用意する"
   ]
  },
  {
   "cell_type": "code",
   "execution_count": null,
   "id": "a05ca83b",
   "metadata": {},
   "outputs": [],
   "source": [
    "# このコンテナで扱う実験パッケージのパスを作成する\n",
    "%store -r EXPERIMENT_TITLE\n",
    "experiment_path = '/home/jovyan/experiments/' + EXPERIMENT_TITLE\n",
    "\n",
    "# 実験パッケージ名のフォルダが無ければ作成する\n",
    "import os\n",
    "os.chdir('/home/jovyan')\n",
    "!mkdir -p $experiment_path"
   ]
  },
  {
   "cell_type": "code",
   "execution_count": null,
   "id": "a63c0b47",
   "metadata": {},
   "outputs": [],
   "source": [
    "import os\n",
    "\n",
    "os.chdir(path_flow_root)\n",
    "from util.scripts import utils\n",
    "\n",
    "# DS構成のスキーム名をパラメタファイルから取得する\n",
    "monitoring_params = {}\n",
    "with open(utils.fetch_monitoring_param_file_path(), mode='r') as f:\n",
    "    monitoring_params = json.load(f)\n",
    "    \n",
    "scheme_name = monitoring_params['datasetStructure']\n",
    "\n",
    "# urlを生成する\n",
    "%cd ~/\n",
    "remote_http_url = !git config --get remote.origin.url\n",
    "for item in remote_http_url:\n",
    "    remote_http_url = item\n",
    "\n",
    "# 実験パッケージを用意する\n",
    "!cp -r ~/WORKFLOWS/PACKAGE/scheme/$scheme_name/. $experiment_path\n",
    "!cp -r ~/WORKFLOWS/PACKAGE/base/. $experiment_path"
   ]
  },
  {
   "cell_type": "markdown",
   "id": "543fa345",
   "metadata": {},
   "source": [
    "### 2.2 パラメータ実験名を決定する。\n",
    "\n",
    "データ構造(datasetStructure)として、パラメータ用実験パッケ―ジ(RCOS_for_parameters)を選択した場合、  \n",
    "以下のような構造でデータが格納され、パラメータ毎にoutput_dataとパラメータファイルを管理することができるようになります。  \n",
    "\n",
    "![パラメータ実験用実験リポジトリのイメージ](https://raw.githubusercontent.com/NII-DG/workflow-template/develop/fb44fb71/images/%E3%83%91%E3%83%A9%E3%83%A1%E3%83%BC%E3%82%BF%E5%AE%9F%E9%A8%93%E7%94%A8%E5%AE%9F%E9%A8%93%E3%83%AA%E3%83%9D%E3%82%B8%E3%83%88%E3%83%AA%E3%81%AE%E3%82%A4%E3%83%A1%E3%83%BC%E3%82%B8.png)\n",
    "\n",
    "パラメータ実験名としては、同じ実験パッケージ内で同盟のパラメータ実験名を使用することはできません。  \n",
    "また、「parameter」というパラメータ実験名も使用することができません。パラメータ名など分かりやすい名前をご記入ください。  \n",
    "※入力値に誤りがある場合、もう一度実行することで訂正ができます。  "
   ]
  },
  {
   "cell_type": "code",
   "execution_count": null,
   "id": "4f3df59d",
   "metadata": {},
   "outputs": [],
   "source": [
    "import os\n",
    "import re\n",
    "import shutil\n",
    "from IPython.display import clear_output\n",
    "\n",
    "# データセットの構成がパラメータ実験用ではない場合、何もしない。\n",
    "if scheme_name != 'RCOS_for_parameters':\n",
    "    print( '本処理は不要です。')\n",
    "else:\n",
    "    # GINサーバのものに合わせたバリデーションルールを設定\n",
    "    validation = re.compile(r'[a-z|A-Z|0-9|\\-|_|.]+')\n",
    "\n",
    "    print('作成したいパラメータ実験名を半角英数字で入力してください。')\n",
    "    while True:\n",
    "        paramexp_title = input(\"パラメータ実験名：\")\n",
    "        if validation.fullmatch(paramexp_title):\n",
    "            break\n",
    "        else:\n",
    "            clear_output()\n",
    "            print('パラメータ実験名は英数字、および\"-\", \"_\", \".\"のみで入力してください。')\n",
    "\n",
    "    clear_output()\n",
    "\n",
    "    # 実験中のワークフローに該当実験パッケージを特定させるため、環境変数EXPERIMENT_TITLEに実験パッケージ名を設定\n",
    "    PARAMEXP_TITLE = paramexp_title\n",
    "    %store PARAMEXP_TITLE\n",
    "    clear_output()\n",
    "\n",
    "    print(\"作成したパラメータ実験名：\", paramexp_title)\n",
    "    print('このパラメータ実験名で処理を進めます。')\n",
    "\n",
    "    # 実験パッケージの直下に移動\n",
    "    %cd $experiment_path\n",
    "\n",
    "    # parameterディレクトリをユーザが指定したパラメータ実験名に変更\n",
    "    shutil.move('parameter', paramexp_title)\n"
   ]
  },
  {
   "cell_type": "markdown",
   "id": "549b1f49",
   "metadata": {},
   "source": [
    "### - 2.3 pipeline.jsonに実験名を追記する"
   ]
  },
  {
   "cell_type": "code",
   "execution_count": null,
   "id": "5a295068",
   "metadata": {},
   "outputs": [],
   "source": [
    "import json\n",
    "\n",
    "with open('/home/jovyan/pipeline.json', 'r') as f:\n",
    "    pipeline = json.load(f)\n",
    "\n",
    "pipeline.append(experiment_title)\n",
    "\n",
    "with open('/home/jovyan/pipeline.json', 'w') as f:\n",
    "    json.dump(pipeline, f, indent = 4)\n"
   ]
  },
  {
   "cell_type": "markdown",
   "id": "e4d73fb8",
   "metadata": {},
   "source": [
    "## 3. ユーザー認証を行う\n",
    "\n",
    "この手順では、あなたのユーザ情報をシステムに認証させる手続きを行います。  \n",
    "以下のセルを実行行し、画面の表示に沿ってデータガバナンス機能に登録したユーザー名、パスワード、メールアドレスを入力してください。"
   ]
  },
  {
   "cell_type": "code",
   "execution_count": null,
   "id": "090d8623",
   "metadata": {},
   "outputs": [],
   "source": [
    "%cd ~/WORKFLOWS/EX-WORKFLOWS/util/scripts\n",
    "import json\n",
    "from scripts import utils\n",
    "\n",
    "# 以下の認証の手順で用いる、\n",
    "# GINのドメイン名等をパラメタファイルから取得する\n",
    "params = {}\n",
    "with open(utils.fetch_param_file_path(), mode='r') as f:\n",
    "    params = json.load(f)"
   ]
  },
  {
   "cell_type": "code",
   "execution_count": null,
   "id": "1f57a058",
   "metadata": {},
   "outputs": [],
   "source": [
    "import os\n",
    "import time\n",
    "import getpass\n",
    "import requests\n",
    "\n",
    "from IPython.display import clear_output\n",
    "from requests.auth import HTTPBasicAuth\n",
    "from http import HTTPStatus\n",
    "\n",
    "# 正常に認証が終わるまで繰り返し\n",
    "while True:\n",
    "    name = input(\"ユーザー名：\")\n",
    "    password = getpass.getpass(\"パスワード：\")\n",
    "    email = input(\"メールアドレス：\")\n",
    "    clear_output()\n",
    "    \n",
    "    # GIN API Basic Authentication\n",
    "    # refs: https://docs.python-requests.org/en/master/user/authentication/\n",
    "    \n",
    "    # 既存のトークンがあるか確認する\n",
    "    response = requests.get(params['siblings']['ginHttp']+'api/v1/users/' + name + '/tokens', auth=(name, password))\n",
    "    tokens = response.json()\n",
    "\n",
    "    # 既存のトークンがなければ作成する\n",
    "    if len(tokens) < 1:\n",
    "        response = requests.post(params['siblings']['ginHttp']+'api/v1/users/' + name + '/tokens', data={\"name\": \"system-generated\"} ,auth=(name, password))\n",
    "\n",
    "    if response.status_code == HTTPStatus.OK or HTTPStatus.CREATED:\n",
    "        tokens = response.json()\n",
    "        clear_output()\n",
    "        print(\"認証が正常に完了しました。次の手順へお進みください。\")\n",
    "        break\n",
    "    else:\n",
    "        clear_output()\n",
    "        print(\"ユーザ名、またはパスワードが間違っています。\\n恐れ入りますがもう一度ご入力ください。\")\n",
    "\n",
    "!git config --global user.name $name\n",
    "!git config --global user.email $email"
   ]
  },
  {
   "cell_type": "markdown",
   "id": "20dc08c8",
   "metadata": {},
   "source": [
    "## 4. データ同期のための設定をする\n",
    "\n",
    "この手順では、今の実行環境とデータガバナンス機能のリポジトリでデータの同期をとるための準備をします。  \n",
    "以下を実行することで、システムがデータ同期の準備の手続きを行います。\n",
    "\n",
    "※実データの保存先として、必要であればAWS S3準拠のオブジェクトストレージを利用することもできます。  \n",
    "もし当該ストレージを利用する場合は、このNotebookと合わせて[こちら](operate_s3_annex.ipynb)も実行してください。"
   ]
  },
  {
   "cell_type": "code",
   "execution_count": null,
   "id": "114cf975",
   "metadata": {},
   "outputs": [],
   "source": [
    "%%bash\n",
    "#!/bin/bash\n",
    "if [ ! -e ~/.ssh/id_ed25519 ]; then\n",
    "    # 鍵ペアが無ければ作成\n",
    "    ssh-keygen -t ed25519 -N \"\" -f ~/.ssh/id_ed25519\n",
    "fi\n",
    "\n",
    "if [ ! -d ~/.datalad/ ]; then\n",
    "    # Dataladのデータセットでなければデータセット化する\n",
    "    datalad create --force /home/jovyan\n",
    "fi"
   ]
  },
  {
   "cell_type": "code",
   "execution_count": null,
   "id": "b63e8f47",
   "metadata": {},
   "outputs": [],
   "source": [
    "# 公開鍵アップロード\n",
    "# refs: https://github.com/gogs/docs-api/blob/master/Users/Public%20Keys.md#create-a-public-key\n",
    "import os\n",
    "import requests\n",
    "import time\n",
    "from http import HTTPStatus\n",
    "\n",
    "import json\n",
    "from scripts import utils\n",
    "\n",
    "pubkey = !cat ~/.ssh/id_ed25519.pub\n",
    "\n",
    "# 認証時に取得したトークンを使ってPOSTリクエスト\n",
    "response = requests.post(\n",
    "                params['siblings']['ginHttp']+'api/v1/user/keys?token=' + tokens[0]['sha1'],\n",
    "                data={\n",
    "                    \"title\": \"system-generated-\"+str(time.time()),\n",
    "                    \"key\": pubkey[0]\n",
    "                })\n",
    "msg = response.json()\n",
    "\n",
    "# コンテナを消す際にコンテナとつなぐための公開鍵も削除のため、\n",
    "# パラメータとしてGINから発行された鍵IDを保存\n",
    "if response.status_code == HTTPStatus.CREATED:\n",
    "    # params.jsonへの追記（鍵ID）\n",
    "    params['ginKeyId'] = str(response.json()['id'])\n",
    "    with open(utils.fetch_param_file_path(), mode='w') as f:\n",
    "        json.dump(params, f, indent=4)\n",
    "    print('Public key is ready.')\n",
    "elif msg['message'] == 'Key content has been used as non-deploy key':\n",
    "    print('Public key is ready before time.')"
   ]
  },
  {
   "cell_type": "code",
   "execution_count": null,
   "id": "148b574a",
   "metadata": {},
   "outputs": [],
   "source": [
    "from datalad import api\n",
    "from IPython.display import clear_output\n",
    "\n",
    "# sibling url をsshに変更する\n",
    "%cd ~/\n",
    "http_url = !git config --get remote.origin.url\n",
    "for item in http_url:\n",
    "    http_url = item\n",
    "    ssh_url = item.replace(params['siblings']['ginHttp'], params['siblings']['ginSsh'])\n",
    "    \n",
    "# siblingsにGINを登録する\n",
    "sibling = !datalad siblings -s gin\n",
    "for item in sibling:\n",
    "    if 'unknown sibling name' in item:\n",
    "        api.siblings(action='add', name='gin', url=ssh_url)\n",
    "    else:\n",
    "        pass\n",
    "\n",
    "clear_output()\n",
    "print('SSH connection is ready.')"
   ]
  },
  {
   "cell_type": "markdown",
   "id": "1d804955",
   "metadata": {},
   "source": [
    "## 5. READMEに実験実行環境へのリンクを追加する\n",
    "\n",
    "当実行環境へアクセスするためのリンクを、データガバナンス機能の当研究リポジトリのREADMEに追記します。"
   ]
  },
  {
   "cell_type": "code",
   "execution_count": null,
   "id": "064f4a64",
   "metadata": {},
   "outputs": [],
   "source": [
    "import os, urllib\n",
    "from IPython.display import clear_output\n",
    "from scripts import utils\n",
    "\n",
    "print('当画面のURLをブラウザからコピーし、以下のフォームに入力してください。')\n",
    "url = input()\n",
    "print(url.find(\"/notebooks/\"))\n",
    "url = url[:url.find(\"/notebooks/\")] + \"/notebooks/WORKFLOWS/experiment.ipynb\"\n",
    "\n",
    "with open(experiment_path + '/README.md', 'a', newline='\\n') as f:\n",
    "    f.write(\"\\n## 実験実行環境にアクセスしたい場合\\n以下のリンクをクリックしてください<br>\" + url + \"  \")\n",
    "    f.write(\"\\n\\n上記リンクからアクセスできない場合は以下のリンクから実験実行環境を再度立ち上げてください  \")\n",
    "    f.write(\"\\n※「他リポジトリから実験の入力データを用意する」で入力データを用意した場合は、再度必要なファイルの実体をdatalad get　'ファイルパス'で取得する必要があります。  \")\n",
    "    f.write(\"\\nhttps://binder.cs.rcos.nii.ac.jp/v2/git/\" + urllib.parse.quote(http_url, safe='') + \"/HEAD?filepath=WORKFLOWS/experiment.ipynb\")\n",
    "\n",
    "clear_output()\n",
    "print('READMEに実行環境へのリンクを追加しました。')"
   ]
  },
  {
   "cell_type": "markdown",
   "id": "182e5262",
   "metadata": {},
   "source": [
    "## 6. 実行結果を研究リポジトリに同期する"
   ]
  },
  {
   "cell_type": "code",
   "execution_count": null,
   "id": "19b8f651",
   "metadata": {},
   "outputs": [],
   "source": [
    "from IPython.display import display, Javascript\n",
    "display(Javascript('IPython.notebook.save_checkpoint();'))"
   ]
  },
  {
   "cell_type": "code",
   "execution_count": null,
   "id": "fa3d96f6",
   "metadata": {},
   "outputs": [],
   "source": [
    "%cd ~/WORKFLOWS/EX-WORKFLOWS/util/scripts\n",
    "from scripts import utils\n",
    "\n",
    "# SSHホスト（＝GIN）を信頼する設定\n",
    "utils.config_GIN(ginHttp = params['siblings']['ginHttp'])"
   ]
  },
  {
   "cell_type": "code",
   "execution_count": null,
   "id": "741d9ca7",
   "metadata": {},
   "outputs": [],
   "source": [
    "import os\n",
    "\n",
    "# 実験パッケージの直下へと移動する        \n",
    "%cd $experiment_path\n",
    "\n",
    "#**************************************************#\n",
    "#* Git-annex管理するディレクトリへのパスを生成する #\n",
    "#**************************************************#\n",
    "dirlist=[]\n",
    "filelist=[]\n",
    "annexed_save_path=[]\n",
    "\n",
    "# 実験パッケージ配下を再帰的に検索し、ディレクトリとファイルの一覧を取得する。\n",
    "for root, dirs, files in os.walk(top=experiment_path):\n",
    "    # ディレクトリ情報から絶対パスを作成する\n",
    "    for dir in dirs:\n",
    "        dirPath = os.path.join(root, dir)\n",
    "        dirlist.append( dirPath )   \n",
    "\n",
    "# input_dataという文字列を含むディレクトリを検索する。\n",
    "input_data_path = [ s for s in dirlist if 'input_data' in s ]\n",
    "\n",
    "for input_data in input_data_path:\n",
    "    # 該当の文字列を含んだパスをGit-annex管理するパスの配列に追記する\n",
    "    annexed_save_path.append( input_data )\n",
    "\n",
    "# output_dataという文字列を含むディレクトリを検索する。\n",
    "output_data_path = [ s for s in dirlist if 'output_data' in s ]\n",
    "\n",
    "for output_data in output_data_path:\n",
    "    # 該当の文字列を含んだパスをGit-annex管理するパスの配列に追記する\n",
    "    annexed_save_path.append( output_data )\n",
    "\n",
    "#********************************************************#\n",
    "#* Gitで管理するディレクトリとファイルへのパスを生成する #\n",
    "#********************************************************#\n",
    "#  実験パッケージ直下のディレクトリとファイルの一覧を取得する\n",
    "files = os.listdir()\n",
    "\n",
    "# 取得した一覧からGit-annex管理するディレクトリ(input_dataとoutput_data)を削除する\n",
    "dirs = [f for f in files if os.path.isdir(f)]\n",
    "\n",
    "for dirname in dirs:\n",
    "    if dirname == 'input_data' :\n",
    "        dirs.remove('input_data')\n",
    "\n",
    "    if dirname == 'output_data' :\n",
    "        dirs.remove('output_data')\n",
    "    \n",
    "# 実験パッケージ直下のファイルを取得\n",
    "files = [f for f in files if os.path.isfile(f)]\n",
    "\n",
    "# Git管理するパスの配列を作成する\n",
    "files.extend(dirs)\n",
    "save_path = []\n",
    "for file in files:\n",
    "    save_path.append(experiment_path + '/' + file)\n",
    "save_path.append('/home/jovyan/pipeline.json')\n"
   ]
  },
  {
   "cell_type": "markdown",
   "id": "e68c5d91",
   "metadata": {},
   "source": [
    "以下を実行して、`リポジトリ側の変更と競合しました。競合を解決してください。`と表示された場合は、[こちらのFAQ](http://dg02.dg.rcos.nii.ac.jp/G-Node/Info/wiki/%E3%83%AF%E3%83%BC%E3%82%AF%E3%83%95%E3%83%AD%E3%83%BC#1-1%E5%90%8C%E6%9C%9F%E5%87%A6%E7%90%86%E3%82%92%E5%AE%9F%E8%A1%8C%E3%81%99%E3%82%8B%E3%81%A8%E3%80%81%E3%83%AA%E3%83%9D%E3%82%B8%E3%83%88%E3%83%AA%E5%81%B4%E3%81%AE%E5%A4%89%E6%9B%B4%E3%81%A8%E7%AB%B6%E5%90%88%E3%81%97%E3%81%BE%E3%81%97%E3%81%9F%E3%80%82%E7%AB%B6%E5%90%88%E3%82%92%E8%A7%A3%E6%B1%BA%E3%81%97%E3%81%A6%E3%81%8F%E3%81%A0%E3%81%95%E3%81%84%E3%80%82%E3%81%A8%E8%A1%A8%E7%A4%BA%E3%81%95%E3%82%8C%E3%82%8B)を参考に競合を解決してください。"
   ]
  },
  {
   "cell_type": "code",
   "execution_count": null,
   "id": "1a897dff",
   "metadata": {},
   "outputs": [],
   "source": [
    "import papermill as pm\n",
    "from colorama import Fore\n",
    "from IPython.display import clear_output\n",
    "\n",
    "%cd ~/\n",
    "# Git-annex管理ファイルを保存\n",
    "try:\n",
    "    pm.execute_notebook(\n",
    "        'WORKFLOWS/EX-WORKFLOWS/util/base_datalad_save_push.ipynb',\n",
    "        '/home/jovyan/.local/push_log.ipynb',\n",
    "        parameters = dict(SAVE_MESSAGE = EXPERIMENT_TITLE + '_ワークフロー実行準備 (1/2)', PATH = annexed_save_path, IS_RECURSIVE = False)\n",
    "    )\n",
    "finally:\n",
    "    clear_output()\n",
    "    %store -r DATALAD_MESSAGE\n",
    "    %store -r DATALAD_ERROR\n",
    "    print('\\n' + DATALAD_MESSAGE + '\\n')\n",
    "    print(Fore.RED + DATALAD_ERROR)"
   ]
  },
  {
   "cell_type": "code",
   "execution_count": null,
   "id": "9a56b876",
   "metadata": {},
   "outputs": [],
   "source": [
    "import papermill as pm\n",
    "from colorama import Fore\n",
    "from IPython.display import clear_output\n",
    "\n",
    "%cd ~/\n",
    "# Git管理ファイルを保存\n",
    "try:\n",
    "    pm.execute_notebook(\n",
    "        'WORKFLOWS/EX-WORKFLOWS/util/base_datalad_save_push.ipynb',\n",
    "        '/home/jovyan/.local/push_log.ipynb',\n",
    "        parameters = dict(SAVE_MESSAGE = EXPERIMENT_TITLE + '_ワークフロー実行準備 (2/2)', TO_GIT = True, PATH = save_path, IS_RECURSIVE = False)\n",
    "    )\n",
    "finally:\n",
    "    clear_output()\n",
    "    %store -r DATALAD_MESSAGE\n",
    "    %store -r DATALAD_ERROR\n",
    "    print('\\n' + DATALAD_MESSAGE + '\\n')\n",
    "    print(Fore.RED + DATALAD_ERROR)"
   ]
  },
  {
   "cell_type": "markdown",
   "id": "95b2ba2d",
   "metadata": {},
   "source": [
    "## 7. ワークフロー図を更新する\n",
    "\n",
    "ワークフロー図にこのワークフローが実行済みであることを反映します。"
   ]
  },
  {
   "cell_type": "code",
   "execution_count": null,
   "id": "318936ef",
   "metadata": {},
   "outputs": [],
   "source": [
    "%cd ~/\n",
    "path = 'WORKFLOWS/EX-WORKFLOWS/images/notebooks.diag'\n",
    "\n",
    "with open('.gitignore', 'r') as f:\n",
    "    text = f.read()\n",
    "    if text.find(path) == -1:\n",
    "        !echo \"/\" + $path >> ./.gitignore\n",
    "\n",
    "# notebooks.diagのgit管理を外す\n",
    "!git update-index --skip-worktree $path"
   ]
  },
  {
   "cell_type": "code",
   "execution_count": null,
   "id": "1db696f0",
   "metadata": {},
   "outputs": [],
   "source": [
    "%cd ~/\n",
    "find = '\"required_every_time\"[fontsize = 14];'\n",
    "replace = '\"required_every_time\"[numbered = 済, fontsize = 14];'\n",
    "\n",
    "with open(path, 'r') as f:\n",
    "    s = f.read()\n",
    "\n",
    "with open(path, 'w') as f:\n",
    "    s = s.replace(find, replace)\n",
    "    f.write(s)"
   ]
  },
  {
   "cell_type": "markdown",
   "id": "984670bb",
   "metadata": {},
   "source": [
    "## 8. 実験中ワークフロー機能トップページに遷移する\n",
    "\n",
    "続けてワークフロー機能を実行する場合は、[こちら](../../experiment.ipynb)からトップページに遷移できます。  "
   ]
  }
 ],
 "metadata": {
  "kernelspec": {
   "display_name": "Python 3 (ipykernel)",
   "language": "python",
   "name": "python3"
  },
  "language_info": {
   "codemirror_mode": {
    "name": "ipython",
    "version": 3
   },
   "file_extension": ".py",
   "mimetype": "text/x-python",
   "name": "python",
   "nbconvert_exporter": "python",
   "pygments_lexer": "ipython3",
   "version": "3.9.10"
  }
 },
 "nbformat": 4,
 "nbformat_minor": 5
}
