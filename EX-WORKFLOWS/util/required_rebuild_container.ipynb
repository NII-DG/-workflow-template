{
 "cells": [
  {
   "attachments": {},
   "cell_type": "markdown",
   "metadata": {},
   "source": [
    "# 実験実行環境を再作成した場合のセットアップを行う\n",
    "\n",
    "研究リポジトリの実行環境タブから実験実行環境を作成した場合に必要な初期セットアップを行います。<br>\n",
    "このタスクを実行すると、実験データの更新や実験フローの利用が可能になります。<br>\n",
    "上から順番に実行してください。\n",
    "\n",
    "Jupyter Notebookの操作方法については、[こちら](https://support.rdm.nii.ac.jp/usermanual/60/#jp_operation)をご覧ください。新規タブで開きます。"
   ]
  },
  {
   "attachments": {},
   "cell_type": "markdown",
   "metadata": {},
   "source": [
    "## 0. 研究リポジトリ名を確認する  \n",
    "以下のセルを実行すると、当実験実行環境で操作する研究リポジトリ名を確認できます。"
   ]
  },
  {
   "cell_type": "code",
   "execution_count": null,
   "metadata": {},
   "outputs": [],
   "source": [
    "import os\n",
    "os.chdir('/home/jovyan/WORKFLOWS/FLOW/')\n",
    "from util.scripts import utils\n",
    "utils.show_name('blue')"
   ]
  },
  {
   "attachments": {},
   "cell_type": "markdown",
   "metadata": {},
   "source": [
    "## 1. ユーザー認証を行う\n",
    "\n",
    "この手順では、GIN-forkと同期するための準備として、あなたのユーザー情報をシステムに認証させる手続きを行います。<br>\n",
    "以下のセルを実行し、画面の表示に沿ってGIN-forkに登録したユーザー名、パスワード、メールアドレスを入力してください。<br>\n",
    "各項目入力後、『入力を完了する』ボタンを押下してください。<br>\n",
    "\n",
    "入力値が正しくユーザ認証が通った場合、ボタンが緑に変化します。<br>\n",
    "\n",
    "『入力を完了する』ボタンを押下後、入力値が正しくない場合ボタンが黄色に変化します。<br>\n",
    "ボタンに表示される指示に従い、再入力後、ボタンを押下してください。<br> "
   ]
  },
  {
   "cell_type": "code",
   "execution_count": null,
   "metadata": {},
   "outputs": [],
   "source": [
    "import os\n",
    "path_flow_root = '/home/jovyan/WORKFLOWS/FLOW/'\n",
    "os.chdir(path_flow_root)\n",
    "from util.scripts import utils\n",
    "# ユーザ認証\n",
    "utils.initial_gin_user_auth()"
   ]
  },
  {
   "attachments": {},
   "cell_type": "markdown",
   "metadata": {},
   "source": [
    "## 2. データ同期のための設定をする\n",
    "\n",
    "この手順では、今の実行環境とGIN-forkのリポジトリでデータの同期をとるための準備をします。  \n",
    "以下のセルを実行してください。"
   ]
  },
  {
   "cell_type": "code",
   "execution_count": null,
   "metadata": {},
   "outputs": [],
   "source": [
    "%%bash\n",
    "#!/bin/bash\n",
    "if [ ! -e ~/.ssh/id_ed25519 ]; then\n",
    "    # 鍵ペアが無ければ作成\n",
    "    ssh-keygen -t ed25519 -N \"\" -f ~/.ssh/id_ed25519\n",
    "fi\n",
    "\n",
    "if [ ! -d ~/.datalad/ ]; then\n",
    "    # Dataladのデータセットでなければデータセット化する\n",
    "    datalad create --force /home/jovyan\n",
    "fi"
   ]
  },
  {
   "cell_type": "code",
   "execution_count": null,
   "metadata": {},
   "outputs": [],
   "source": [
    "# 公開鍵アップロード\n",
    "# refs: https://github.com/gogs/docs-api/blob/master/Users/Public%20Keys.md#create-a-public-key\n",
    "import os\n",
    "import requests\n",
    "import time\n",
    "from http import HTTPStatus\n",
    "import json\n",
    "os.chdir(os.environ['HOME'] + '/WORKFLOWS')\n",
    "from utils import display_util\n",
    "from utils.token import token\n",
    "\n",
    "os.chdir(path_flow_root)\n",
    "from util.scripts import utils\n",
    "\n",
    "params = {}\n",
    "with open(utils.fetch_param_file_path(), mode='r') as f:\n",
    "    params = json.load(f)\n",
    "pubkey = !cat ~/.ssh/id_ed25519.pub\n",
    "\n",
    "# 認証時に取得したトークンを使ってPOSTリクエスト\n",
    "response = requests.post(\n",
    "                params['siblings']['ginHttp']+'/api/v1/user/keys?token=' + token.get_ginfork_token(),\n",
    "                data={\n",
    "                    \"title\": \"system-generated-\"+str(time.time()),\n",
    "                    \"key\": pubkey[0]\n",
    "                })\n",
    "msg = response.json()\n",
    "\n",
    "if response.status_code == HTTPStatus.CREATED:\n",
    "    display_util.display_info('公開鍵の用意が出来ました。')\n",
    "elif msg['message'] == 'Key content has been used as non-deploy key':\n",
    "    display_util.display_warm('すでに公開鍵の用意が完了しています。')"
   ]
  },
  {
   "cell_type": "code",
   "execution_count": null,
   "metadata": {},
   "outputs": [],
   "source": [
    "import os\n",
    "import subprocess\n",
    "from datalad import api\n",
    "from IPython.display import clear_output\n",
    "os.chdir(os.environ['HOME'] + '/WORKFLOWS')\n",
    "from utils import display_util\n",
    "from utils.common import common\n",
    "\n",
    "# sibling url をsshに変更する\n",
    "os.chdir(os.environ['HOME'])\n",
    "http_url = subprocess.getoutput('git config --get remote.origin.url')\n",
    "http_url, build_token = common.convert_url_remove_user_token(http_url)\n",
    "ssh_url = http_url.replace(params['siblings']['ginHttp'], params['siblings']['ginSsh'])\n",
    "\n",
    "# siblingsにGINを登録する\n",
    "sibling = !datalad siblings -s gin\n",
    "for item in sibling:\n",
    "    if 'unknown sibling name' in item:\n",
    "        api.siblings(action='add', name='gin', url=ssh_url)\n",
    "    else:\n",
    "        pass\n",
    "\n",
    "clear_output()\n",
    "display_util.display_info('SSH接続の準備が完了しました。')"
   ]
  },
  {
   "cell_type": "code",
   "execution_count": null,
   "metadata": {},
   "outputs": [],
   "source": [
    "import os\n",
    "os.chdir(path_flow_root)\n",
    "from util.scripts import utils\n",
    "\n",
    "# SSHホスト（＝GIN）を信頼する設定\n",
    "utils.config_GIN(ginHttp = params['siblings']['ginHttp'])\n",
    "\n",
    "# S3にあるデータをGIN-forkに同期しないための設定\n",
    "!git annex untrust here\n",
    "!git annex --force trust web"
   ]
  },
  {
   "attachments": {},
   "cell_type": "markdown",
   "metadata": {},
   "source": [
    "## 3. 当実行環境で編集する実験パッケージを選択する\n",
    "\n",
    "以下のセルを実行して、当実験実行環境で編集したい実験パッケージを1つ選択してください。  \n",
    "選択を間違えた場合は、再度このセルから実行して、選択しなおしてください。"
   ]
  },
  {
   "cell_type": "code",
   "execution_count": null,
   "metadata": {},
   "outputs": [],
   "source": [
    "from ipywidgets import Dropdown, Button\n",
    "from IPython.display import clear_output\n",
    "import os\n",
    "os.chdir(os.environ['HOME'] + '/WORKFLOWS')\n",
    "from utils import display_util\n",
    "\n",
    "input_repo_experiments_path = '/home/jovyan/experiments'\n",
    "\n",
    "ex_pkg_list = list[str]()\n",
    "if os.path.isdir(input_repo_experiments_path):\n",
    "    for data_name in os.listdir(input_repo_experiments_path):\n",
    "        data_path = os.path.join(input_repo_experiments_path,data_name)\n",
    "        if os.path.isdir(data_path):\n",
    "            ex_pkg_list.append(data_name)\n",
    "\n",
    "if len(ex_pkg_list) > 0:\n",
    "    def on_click_callback(clicked_button: Button) -> None:\n",
    "        global experiment_title\n",
    "        experiment_title=dropdown.value\n",
    "        clear_output()\n",
    "        display_util.display_info(\"入力を受けつけました。\")\n",
    "        display_util.display_msg(\"実験パッケージ名: \"+ experiment_title)\n",
    "\n",
    "    dropdown = Dropdown(\n",
    "        options=ex_pkg_list,\n",
    "        description='実験パッケージ名:',\n",
    "        disabled=False,\n",
    "        style= {'description_width': 'initial'}\n",
    "    )\n",
    "\n",
    "    button = Button(description='入力完了')\n",
    "    button.on_click(on_click_callback)\n",
    "    display_util.display_info(\"実験パッケージの選択後、入力完了ボタンを押下してください。\")\n",
    "    display(dropdown, button)\n",
    "else:\n",
    "    display_util.display_warm('このリポジトリでは実験パッケージが存在しません。')"
   ]
  },
  {
   "attachments": {},
   "cell_type": "markdown",
   "metadata": {},
   "source": [
    "## 4. 実験パッケージのデータを用意する\n",
    "\n",
    "選択した実験パッケージのデータを当実験実行環境に用意します。"
   ]
  },
  {
   "cell_type": "code",
   "execution_count": null,
   "metadata": {},
   "outputs": [],
   "source": [
    "import os\n",
    "from IPython.display import clear_output\n",
    "os.chdir(os.environ['HOME'] + '/WORKFLOWS')\n",
    "from utils import display_util\n",
    "\n",
    "EXPERIMENT_TITLE = experiment_title\n",
    "%store EXPERIMENT_TITLE\n",
    "clear_output()\n",
    "os.chdir(os.environ['HOME'] + '/experiments/' + experiment_title)\n",
    "try:\n",
    "    !datalad get .\n",
    "    !datalad unlock .\n",
    "except Exception as e:\n",
    "    display_util.display_err('データの用意に失敗しました。')\n",
    "    display_util.display_log(str(e))\n",
    "else:\n",
    "    clear_output()\n",
    "    display_util.display_info('データの用意が完了しました。次にお進みください。')"
   ]
  },
  {
   "attachments": {},
   "cell_type": "markdown",
   "metadata": {},
   "source": [
    "## 5. 実行環境一覧を更新する\n",
    "GIN-forkの実行環境一覧に当実行環境を追加します。"
   ]
  },
  {
   "cell_type": "code",
   "execution_count": null,
   "metadata": {},
   "outputs": [],
   "source": [
    "import os\n",
    "os.chdir('/home/jovyan/WORKFLOWS/FLOW/')\n",
    "from util.scripts import utils\n",
    "\n",
    "%store -r EXPERIMENT_TITLE\n",
    "# 実行環境を追加\n",
    "utils.add_container(experiment_title=EXPERIMENT_TITLE)"
   ]
  },
  {
   "attachments": {},
   "cell_type": "markdown",
   "metadata": {},
   "source": [
    "## 6. 実行結果をGIN-forkに同期する"
   ]
  },
  {
   "cell_type": "code",
   "execution_count": null,
   "metadata": {},
   "outputs": [],
   "source": [
    "from IPython.display import display, Javascript\n",
    "display(Javascript('IPython.notebook.save_checkpoint();'))"
   ]
  },
  {
   "attachments": {},
   "cell_type": "markdown",
   "metadata": {},
   "source": [
    "以下を実行して、`リポジトリ側の変更と競合しました。競合を解決してください。`と表示された場合は、[GIN-forkへの同期の失敗を解消する](../../conflict_helper.ipynb)を参照して、競合を解消してください。"
   ]
  },
  {
   "cell_type": "code",
   "execution_count": null,
   "metadata": {},
   "outputs": [],
   "source": [
    "import os\n",
    "os.chdir('/home/jovyan/WORKFLOWS/FLOW/')\n",
    "from util.scripts import utils\n",
    "os.chdir(os.environ['HOME'])\n",
    "\n",
    "%store -r EXPERIMENT_TITLE\n",
    "git_path = ['/home/jovyan/WORKFLOWS/EX-WORKFLOWS/util/required_rebuild_container.ipynb']\n",
    "is_ok = utils.syncs_with_repo(git_path=git_path, gitannex_path=[], gitannex_files=[], message=EXPERIMENT_TITLE + '_実験環境再作成用セットアップ', get_paths=[])"
   ]
  },
  {
   "attachments": {},
   "cell_type": "markdown",
   "metadata": {},
   "source": [
    "## 7. フロー図を更新する\n",
    "フロー図にこのタスクが実行済みであることを反映します。"
   ]
  },
  {
   "cell_type": "code",
   "execution_count": null,
   "metadata": {},
   "outputs": [],
   "source": [
    "import os\n",
    "os.chdir(os.environ['HOME'])\n",
    "\n",
    "ex_path = 'WORKFLOWS/EX-WORKFLOWS/images/notebooks.diag'\n",
    "re_path = 'WORKFLOWS/images/notebooks.diag'\n",
    "\n",
    "with open('.gitignore', 'r') as f:\n",
    "    has_re_diag = False\n",
    "    has_ex_diag = False\n",
    "    for line in f:\n",
    "        if ex_path in line:\n",
    "            has_ex_diag = True\n",
    "        if re_path in line:\n",
    "            has_re_diag = True\n",
    "    \n",
    "    if not has_re_diag:\n",
    "        !echo $re_path >> ./.gitignore\n",
    "    if not has_ex_diag:\n",
    "        !echo $ex_path >> ./.gitignore\n",
    "\n",
    "\n",
    "# フロー図に不要マークをつける\n",
    "find = '\"required_every_time\"[fontsize = 10];'\n",
    "replace = '\"required_every_time\"[numbered = 不要, fontsize = 10];'\n",
    "\n",
    "with open(ex_path, 'r') as f:\n",
    "    s = f.read()\n",
    "\n",
    "with open(ex_path, 'w') as f:\n",
    "    s = s.replace(find, replace)\n",
    "    f.write(s)"
   ]
  },
  {
   "attachments": {},
   "cell_type": "markdown",
   "metadata": {},
   "source": [
    "## 8. 不要なGIN-forkアクセストークンを削除する"
   ]
  },
  {
   "cell_type": "code",
   "execution_count": null,
   "metadata": {},
   "outputs": [],
   "source": [
    "import os\n",
    "import requests\n",
    "os.chdir('/home/jovyan/WORKFLOWS')\n",
    "from utils.token import token\n",
    "from utils import display_util\n",
    "\n",
    "origin_urls = !git config remote.origin.url\n",
    "url = origin_urls[0]\n",
    "try:\n",
    "    # delete build token(only private)\n",
    "    token.del_build_token_by_remote_origin_url(url)\n",
    "except requests.exceptions.RequestException:\n",
    "    display_util.display_err(\"現在、GIN-forkへの通信不良が発生しています。\")"
   ]
  },
  {
   "attachments": {},
   "cell_type": "markdown",
   "metadata": {},
   "source": [
    "## 9. 実験フロートップページに遷移する\n",
    "\n",
    "以下のセルを実行し、表示されるリンクをクリックしてください。「実験フロートップページ」に遷移し、実験フローをご利用いただけます。  \n",
    "「実験フロートップページ」のフロー図の「初期セットアップを行う」は実行いただく必要はありません。"
   ]
  },
  {
   "cell_type": "code",
   "execution_count": null,
   "metadata": {},
   "outputs": [],
   "source": [
    "from IPython.display import display, HTML, Javascript\n",
    "display(HTML(\"<a href='../../experiment.ipynb'>「実験フロートップページ」に遷移する</a>\"))\n",
    "display(Javascript('IPython.notebook.save_checkpoint();'))"
   ]
  }
 ],
 "metadata": {
  "kernelspec": {
   "display_name": "env-dg-pkg-310",
   "language": "python",
   "name": "python3"
  },
  "language_info": {
   "name": "python",
   "version": "3.10.9"
  },
  "orig_nbformat": 4
 },
 "nbformat": 4,
 "nbformat_minor": 2
}
