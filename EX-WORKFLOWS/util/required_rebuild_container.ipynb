{
 "cells": [
  {
   "attachments": {},
   "cell_type": "markdown",
   "metadata": {},
   "source": [
    "# 実験実行環境を再構築した場合のセットアップを行う\n",
    "\n",
    "実験パッケージのREADME.mdから、実験実行環境の再構築した場合に必要な初期セットアップを行います。  \n",
    "上から順番に実行してください。"
   ]
  },
  {
   "attachments": {},
   "cell_type": "markdown",
   "metadata": {},
   "source": [
    "## 0. 研究リポジトリ名を確認する  \n",
    "以下のセルを実行すると、この実験実行環境で操作する研究リポジトリ名を確認できます。  \n",
    "このタスクでは、表示された名前の研究リポジトリの配下に新しく実験パッケージを作成します。  "
   ]
  },
  {
   "cell_type": "code",
   "execution_count": null,
   "metadata": {
    "vscode": {
     "languageId": "plaintext"
    }
   },
   "outputs": [],
   "source": [
    "import os\n",
    "os.chdir('/home/jovyan/WORKFLOWS/FLOW/')\n",
    "from util.scripts import utils\n",
    "utils.show_name('blue')"
   ]
  },
  {
   "attachments": {},
   "cell_type": "markdown",
   "metadata": {},
   "source": [
    "## 1. ユーザー認証を行う\n",
    "\n",
    "この手順では、あなたのユーザ情報をシステムに認証させる手続きを行います。  \n",
    "以下のセルを実行し、画面の表示に沿ってGIN-forkに登録したユーザー名、パスワード、メールアドレスを入力してください。各項目入力後、Enterキーを押下してください。  "
   ]
  },
  {
   "cell_type": "code",
   "execution_count": null,
   "metadata": {
    "vscode": {
     "languageId": "plaintext"
    }
   },
   "outputs": [],
   "source": [
    "import os\n",
    "import time\n",
    "import getpass\n",
    "import requests\n",
    "\n",
    "from IPython.display import clear_output\n",
    "from requests.auth import HTTPBasicAuth\n",
    "from http import HTTPStatus\n",
    "\n",
    "tokens = []\n",
    "access_token = {}\n",
    "\n",
    "# 正常に認証が終わるまで繰り返し\n",
    "os.chdir(path_flow_root)\n",
    "from util.scripts import utils\n",
    "tokens, access_token, name, email = utils.verify_GIN_user()\n",
    "\n",
    "os.chdir(os.environ['HOME'])\n",
    "!git config --global user.name $name\n",
    "!git config --global user.email $email\n",
    "clear_output()\n",
    "print(\"認証が正常に完了しました。次の手順へお進みください。\")"
   ]
  },
  {
   "attachments": {},
   "cell_type": "markdown",
   "metadata": {},
   "source": [
    "## 2. データ同期のための設定をする\n",
    "\n",
    "この手順では、今の実行環境とGIN-forkのリポジトリでデータの同期をとるための準備をします。  \n",
    "以下を実行することで、システムがデータ同期の準備の手続きを行います。"
   ]
  },
  {
   "cell_type": "code",
   "execution_count": null,
   "metadata": {
    "vscode": {
     "languageId": "plaintext"
    }
   },
   "outputs": [],
   "source": [
    "%%bash\n",
    "#!/bin/bash\n",
    "if [ ! -e ~/.ssh/id_ed25519 ]; then\n",
    "    # 鍵ペアが無ければ作成\n",
    "    ssh-keygen -t ed25519 -N \"\" -f ~/.ssh/id_ed25519\n",
    "fi\n",
    "\n",
    "if [ ! -d ~/.datalad/ ]; then\n",
    "    # Dataladのデータセットでなければデータセット化する\n",
    "    datalad create --force /home/jovyan\n",
    "fi"
   ]
  },
  {
   "cell_type": "code",
   "execution_count": null,
   "metadata": {
    "vscode": {
     "languageId": "plaintext"
    }
   },
   "outputs": [],
   "source": [
    "# 公開鍵アップロード\n",
    "# refs: https://github.com/gogs/docs-api/blob/master/Users/Public%20Keys.md#create-a-public-key\n",
    "import os\n",
    "import requests\n",
    "import time\n",
    "from http import HTTPStatus\n",
    "\n",
    "import json\n",
    "\n",
    "os.chdir(path_flow_root)\n",
    "from util.scripts import utils\n",
    "\n",
    "pubkey = !cat ~/.ssh/id_ed25519.pub\n",
    "\n",
    "# 認証時に取得したトークンを使ってPOSTリクエスト\n",
    "response = requests.post(\n",
    "                params['siblings']['ginHttp']+'/api/v1/user/keys?token=' + tokens[0]['sha1'],\n",
    "                data={\n",
    "                    \"title\": \"system-generated-\"+str(time.time()),\n",
    "                    \"key\": pubkey[0]\n",
    "                })\n",
    "msg = response.json()\n",
    "\n",
    "# コンテナを消す際にコンテナとつなぐための公開鍵も削除のため、\n",
    "# パラメータとしてGINから発行された鍵IDを保存\n",
    "if response.status_code == HTTPStatus.CREATED:\n",
    "    # params.jsonへの追記（鍵ID）\n",
    "    params['ginKeyId'] = str(response.json()['id'])\n",
    "    with open(utils.fetch_param_file_path(), mode='w') as f:\n",
    "        json.dump(params, f, indent=4)\n",
    "    print('公開鍵の用意が出来ました。')\n",
    "elif msg['message'] == 'Key content has been used as non-deploy key':\n",
    "    print('すでに公開鍵の用意が完了しています。')"
   ]
  },
  {
   "cell_type": "code",
   "execution_count": null,
   "metadata": {
    "vscode": {
     "languageId": "plaintext"
    }
   },
   "outputs": [],
   "source": [
    "import os\n",
    "import subprocess\n",
    "from datalad import api\n",
    "from IPython.display import clear_output\n",
    "\n",
    "# sibling url をsshに変更する\n",
    "os.chdir(os.environ['HOME'])\n",
    "http_url = subprocess.getoutput('git config --get remote.origin.url')\n",
    "ssh_url = http_url.replace(params['siblings']['ginHttp'], params['siblings']['ginSsh'])\n",
    "    \n",
    "# siblingsにGINを登録する\n",
    "sibling = !datalad siblings -s gin\n",
    "for item in sibling:\n",
    "    if 'unknown sibling name' in item:\n",
    "        api.siblings(action='add', name='gin', url=ssh_url)\n",
    "    else:\n",
    "        pass\n",
    "\n",
    "clear_output()\n",
    "print('SSH接続の準備が完了しました。')"
   ]
  },
  {
   "attachments": {},
   "cell_type": "markdown",
   "metadata": {},
   "source": [
    "## 3. 当実行環境で編集する実験パッケージを選択する\n",
    "\n",
    "以下のセルを実行して、この実験実行環境で編集したい実験パッケージを1つ選択してください。  \n",
    "選択を間違えた場合は、再度このセルから実行して、選択しなおしてください。"
   ]
  },
  {
   "cell_type": "code",
   "execution_count": null,
   "metadata": {
    "vscode": {
     "languageId": "plaintext"
    }
   },
   "outputs": [],
   "source": [
    "import json\n",
    "from ipywidgets import Dropdown, Button\n",
    "from IPython.display import clear_output\n",
    "\n",
    "with open('/home/jovyan/pipeline.json', 'r') as f:\n",
    "    pipeline = json.load(f)\n",
    "\n",
    "def on_click_callback(clicked_button: Button) -> None:\n",
    "    global package\n",
    "    package=dropdown.value\n",
    "    clear_output()\n",
    "    print(\"入力を受けつけました：\", package)\n",
    "    EXPERIMENT_TITLE = experiment_title\n",
    "    %store EXPERIMENT_TITLE\n",
    "\n",
    "dropdown = Dropdown(\n",
    "    options=pipeline,\n",
    "    description='実験パッケージ名:',\n",
    "    disabled=False,\n",
    ")\n",
    "\n",
    "button = Button(description='入力完了')\n",
    "button.on_click(on_click_callback)\n",
    "print(\"実験パッケージの選択後、入力完了ボタンを押下してください。\")\n",
    "display(dropdown, button)"
   ]
  },
  {
   "attachments": {},
   "cell_type": "markdown",
   "metadata": {},
   "source": [
    "## 4. 当実験パッケージのデータを用意する\n",
    "\n",
    "当実験パッケージのデータをこの実験実行環境に用意します。"
   ]
  },
  {
   "cell_type": "code",
   "execution_count": null,
   "metadata": {
    "vscode": {
     "languageId": "plaintext"
    }
   },
   "outputs": [],
   "source": [
    "import os\n",
    "\n",
    "os.chdir(os.environ['HOME'] + '/experiments/' + package)\n",
    "!datalad get ."
   ]
  },
  {
   "attachments": {},
   "cell_type": "markdown",
   "metadata": {},
   "source": [
    "## 5. 本タスクの実行結果をGIN-forkに同期する"
   ]
  },
  {
   "cell_type": "code",
   "execution_count": null,
   "metadata": {
    "vscode": {
     "languageId": "plaintext"
    }
   },
   "outputs": [],
   "source": [
    "from IPython.display import display, Javascript\n",
    "display(Javascript('IPython.notebook.save_checkpoint();'))"
   ]
  },
  {
   "cell_type": "code",
   "execution_count": null,
   "metadata": {
    "vscode": {
     "languageId": "plaintext"
    }
   },
   "outputs": [],
   "source": [
    "import os\n",
    "os.chdir(path_flow_root)\n",
    "from util.scripts import utils\n",
    "\n",
    "# SSHホスト（＝GIN）を信頼する設定\n",
    "utils.config_GIN(ginHttp = params['siblings']['ginHttp'])\n",
    "\n",
    "# S3にあるデータをGIN-forkに同期しないための設定\n",
    "!git annex untrust here\n",
    "!git annex --force trust web"
   ]
  },
  {
   "cell_type": "code",
   "execution_count": null,
   "metadata": {
    "vscode": {
     "languageId": "plaintext"
    }
   },
   "outputs": [],
   "source": [
    "import os\n",
    "import glob\n",
    "  \n",
    "os.chdir(experiment_path)\n",
    "\n",
    "#**************************************************#\n",
    "#* Generate a list of folder paths to be managed by Git-annex. #\n",
    "#**************************************************#\n",
    "dirlist=[]\n",
    "filelist=[]\n",
    "annexed_save_path=[]\n",
    "\n",
    "# Recursively search under the experimental package to obtain a list of absolute directory paths.\n",
    "for root, dirs, files in os.walk(top=experiment_path):\n",
    "    for dir in dirs:\n",
    "        dirPath = os.path.join(root, dir)\n",
    "        dirlist.append( dirPath )   \n",
    "\n",
    "# Add directory paths containing the string \"output_data\" that are not included under input_data to annexed_save_path.\n",
    "output_data_path = [ s for s in dirlist if 'output_data' in s ]\n",
    "for output_data in output_data_path:  \n",
    "    if  \"input_data\" not in output_data:\n",
    "        annexed_save_path.append( output_data )\n",
    "\n",
    "# Add the input_data directory to annexed_save_path.\n",
    "annexed_save_path.append( experiment_path + '/input_data'  )\n",
    "\n",
    "# Generate a list of file paths to which metadata is to be assigned.\n",
    "gitannex_files = []\n",
    "for path in annexed_save_path:\n",
    "    gitannex_files += [p for p in glob.glob(path+'/**', recursive=True)\n",
    "             if os.path.isfile(p)]\n",
    "\n",
    "#********************************************************#\n",
    "#* Generate a list of directory paths and file paths to be managed by Git. #\n",
    "#********************************************************#\n",
    "# Obtain a list of directories and files directly under the experimental package.\n",
    "files = os.listdir()\n",
    "\n",
    "# Delete Git-annex managed directories (input_data and output_data) from the retrieved list.\n",
    "dirs = [f for f in files if os.path.isdir(f)]\n",
    "\n",
    "for dirname in dirs:\n",
    "    if dirname == 'input_data' :\n",
    "        dirs.remove('input_data')\n",
    "\n",
    "    if dirname == 'output_data' :\n",
    "        dirs.remove('output_data')\n",
    "    \n",
    "# Obtain files directly under the experimental package.\n",
    "files = [f for f in files if os.path.isfile(f)]\n",
    "\n",
    "# Generate a list of folder paths and file paths to be managed by Git.\n",
    "files.extend(dirs)\n",
    "save_path = []\n",
    "for file in files:\n",
    "    save_path.append(experiment_path + '/' + file)\n",
    "save_path.append('/home/jovyan/pipeline.json')\n"
   ]
  },
  {
   "attachments": {},
   "cell_type": "markdown",
   "metadata": {},
   "source": [
    "以下を実行して、`リポジトリ側の変更と競合しました。競合を解決してください。`と表示された場合は、[こちらのFAQ](http://dg02.dg.rcos.nii.ac.jp/G-Node/Info/wiki/%E3%83%AF%E3%83%BC%E3%82%AF%E3%83%95%E3%83%AD%E3%83%BC%E6%A9%9F%E8%83%BD#1-1%E5%90%8C%E6%9C%9F%E5%87%A6%E7%90%86%E3%82%92%E5%AE%9F%E8%A1%8C%E3%81%99%E3%82%8B%E3%81%A8%E3%80%81%E3%83%AA%E3%83%9D%E3%82%B8%E3%83%88%E3%83%AA%E5%81%B4%E3%81%AE%E5%A4%89%E6%9B%B4%E3%81%A8%E7%AB%B6%E5%90%88%E3%81%97%E3%81%BE%E3%81%97%E3%81%9F%E3%80%82%E7%AB%B6%E5%90%88%E3%82%92%E8%A7%A3%E6%B1%BA%E3%81%97%E3%81%A6%E3%81%8F%E3%81%A0%E3%81%95%E3%81%84%E3%80%82%E3%81%A8%E8%A1%A8%E7%A4%BA%E3%81%95%E3%82%8C%E3%82%8B)を参考に競合を解決してください。"
   ]
  },
  {
   "cell_type": "code",
   "execution_count": null,
   "metadata": {
    "vscode": {
     "languageId": "plaintext"
    }
   },
   "outputs": [],
   "source": [
    "import os\n",
    "os.chdir('/home/jovyan/WORKFLOWS/FLOW/')\n",
    "from util.scripts import utils\n",
    "os.chdir(os.environ['HOME'])\n",
    "\n",
    "utils.syncs_with_repo(git_path=save_path, gitannex_path=annexed_save_path, gitannex_files=gitannex_files, message=EXPERIMENT_TITLE + '_ワークフロー実行準備')"
   ]
  },
  {
   "attachments": {},
   "cell_type": "markdown",
   "metadata": {},
   "source": [
    "## 6. 実験ワークフロー機能トップページに遷移する\n",
    "\n",
    "以下のセルを実行し、表示されるリンクをクリックして実験ワークフロー機能トップページに戻ってください。  "
   ]
  },
  {
   "attachments": {},
   "cell_type": "markdown",
   "metadata": {},
   "source": [
    "from IPython.display import display, HTML, Javascript\n",
    "display(HTML(\"<a href='../../experiment.ipynb'>実験ワークフロー機能トップページに遷移する</a>\"))\n",
    "display(Javascript('IPython.notebook.save_checkpoint();'))"
   ]
  }
 ],
 "metadata": {
  "language_info": {
   "name": "python"
  },
  "orig_nbformat": 4
 },
 "nbformat": 4,
 "nbformat_minor": 2
}
