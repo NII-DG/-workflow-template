{
 "cells": [
  {
   "attachments": {},
   "cell_type": "markdown",
   "metadata": {},
   "source": [
    "# 実験実行環境を再構築した場合のセットアップを行う\n",
    "\n",
    "実験パッケージのREADME.mdから、実験実行環境の再構築した場合に必要な初期セットアップを行います。  \n",
    "このタスクを実行すると、実験データの更新や実験フローの利用が可能になります。  \n",
    "上から順番に実行してください。\n",
    "\n",
    "2回目以降の実行の場合は、このセルが選択された状態で画面上部に表示される以下のボタンをクリックしてセルの解凍を行ってから、セルを実行して下さい。  \n",
    "![UnfreezeBotton](../../images/unfreeze_button.png)"
   ]
  },
  {
   "attachments": {},
   "cell_type": "markdown",
   "metadata": {},
   "source": [
    "## 0. 研究リポジトリ名を確認する  \n",
    "以下のセルを実行すると、この実験実行環境で操作する研究リポジトリ名を確認できます。"
   ]
  },
  {
   "cell_type": "code",
   "execution_count": null,
   "metadata": {
    "vscode": {
     "languageId": "plaintext"
    }
   },
   "outputs": [],
   "source": [
    "import os\n",
    "os.chdir('/home/jovyan/WORKFLOWS/FLOW/')\n",
    "from util.scripts import utils\n",
    "utils.show_name('blue')"
   ]
  },
  {
   "attachments": {},
   "cell_type": "markdown",
   "metadata": {},
   "source": [
    "## 1. ユーザー認証を行う\n",
    "\n",
    "この手順では、あなたのユーザ情報をシステムに認証させる手続きを行います。  \n",
    "以下のセルを実行し、画面の表示に沿ってGIN-forkに登録したユーザー名、パスワード、メールアドレスを入力してください。各項目入力後、Enterキーを押下してください。  "
   ]
  },
  {
   "cell_type": "code",
   "execution_count": null,
   "metadata": {
    "vscode": {
     "languageId": "plaintext"
    }
   },
   "outputs": [],
   "source": [
    "import os\n",
    "import time\n",
    "import getpass\n",
    "import requests\n",
    "\n",
    "from IPython.display import clear_output\n",
    "from requests.auth import HTTPBasicAuth\n",
    "from http import HTTPStatus\n",
    "\n",
    "tokens = []\n",
    "access_token = {}\n",
    "\n",
    "# 正常に認証が終わるまで繰り返し\n",
    "path_flow_root = '/home/jovyan/WORKFLOWS/FLOW/'\n",
    "os.chdir(path_flow_root)\n",
    "from util.scripts import utils\n",
    "tokens, access_token, name, email = utils.verify_GIN_user()\n",
    "\n",
    "os.chdir(os.environ['HOME'])\n",
    "!git config --global user.name $name\n",
    "!git config --global user.email $email\n",
    "clear_output()\n",
    "print(\"認証が正常に完了しました。次の手順へお進みください。\")"
   ]
  },
  {
   "attachments": {},
   "cell_type": "markdown",
   "metadata": {},
   "source": [
    "## 2. データ同期のための設定をする\n",
    "\n",
    "この手順では、今の実行環境とGIN-forkのリポジトリでデータの同期をとるための準備をします。  \n",
    "以下を実行することで、システムがデータ同期の準備の手続きを行います。"
   ]
  },
  {
   "cell_type": "code",
   "execution_count": null,
   "metadata": {
    "vscode": {
     "languageId": "plaintext"
    }
   },
   "outputs": [],
   "source": [
    "%%bash\n",
    "#!/bin/bash\n",
    "if [ ! -e ~/.ssh/id_ed25519 ]; then\n",
    "    # 鍵ペアが無ければ作成\n",
    "    ssh-keygen -t ed25519 -N \"\" -f ~/.ssh/id_ed25519\n",
    "fi\n",
    "\n",
    "if [ ! -d ~/.datalad/ ]; then\n",
    "    # Dataladのデータセットでなければデータセット化する\n",
    "    datalad create --force /home/jovyan\n",
    "fi"
   ]
  },
  {
   "cell_type": "code",
   "execution_count": null,
   "metadata": {
    "vscode": {
     "languageId": "plaintext"
    }
   },
   "outputs": [],
   "source": [
    "# 公開鍵アップロード\n",
    "# refs: https://github.com/gogs/docs-api/blob/master/Users/Public%20Keys.md#create-a-public-key\n",
    "import os\n",
    "import requests\n",
    "import time\n",
    "from http import HTTPStatus\n",
    "\n",
    "import json\n",
    "\n",
    "os.chdir(path_flow_root)\n",
    "from util.scripts import utils\n",
    "\n",
    "params = {}\n",
    "with open(utils.fetch_param_file_path(), mode='r') as f:\n",
    "    params = json.load(f)\n",
    "pubkey = !cat ~/.ssh/id_ed25519.pub\n",
    "\n",
    "# 認証時に取得したトークンを使ってPOSTリクエスト\n",
    "response = requests.post(\n",
    "                params['siblings']['ginHttp']+'/api/v1/user/keys?token=' + tokens[0]['sha1'],\n",
    "                data={\n",
    "                    \"title\": \"system-generated-\"+str(time.time()),\n",
    "                    \"key\": pubkey[0]\n",
    "                })\n",
    "msg = response.json()\n",
    "\n",
    "if response.status_code == HTTPStatus.CREATED:\n",
    "    print('公開鍵の用意が出来ました。')\n",
    "elif msg['message'] == 'Key content has been used as non-deploy key':\n",
    "    print('すでに公開鍵の用意が完了しています。')"
   ]
  },
  {
   "cell_type": "code",
   "execution_count": null,
   "metadata": {
    "vscode": {
     "languageId": "plaintext"
    }
   },
   "outputs": [],
   "source": [
    "import os\n",
    "import subprocess\n",
    "from datalad import api\n",
    "from IPython.display import clear_output\n",
    "\n",
    "# sibling url をsshに変更する\n",
    "os.chdir(os.environ['HOME'])\n",
    "http_url = subprocess.getoutput('git config --get remote.origin.url')\n",
    "ssh_url = http_url.replace(params['siblings']['ginHttp'], params['siblings']['ginSsh'])\n",
    "    \n",
    "# siblingsにGINを登録する\n",
    "sibling = !datalad siblings -s gin\n",
    "for item in sibling:\n",
    "    if 'unknown sibling name' in item:\n",
    "        api.siblings(action='add', name='gin', url=ssh_url)\n",
    "    else:\n",
    "        pass\n",
    "\n",
    "clear_output()\n",
    "print('SSH接続の準備が完了しました。')"
   ]
  },
  {
   "cell_type": "code",
   "execution_count": null,
   "metadata": {
    "vscode": {
     "languageId": "plaintext"
    }
   },
   "outputs": [],
   "source": [
    "import os\n",
    "os.chdir(path_flow_root)\n",
    "from util.scripts import utils\n",
    "\n",
    "# SSHホスト（＝GIN）を信頼する設定\n",
    "utils.config_GIN(ginHttp = params['siblings']['ginHttp'])\n",
    "\n",
    "# S3にあるデータをGIN-forkに同期しないための設定\n",
    "!git annex untrust here\n",
    "!git annex --force trust web"
   ]
  },
  {
   "attachments": {},
   "cell_type": "markdown",
   "metadata": {},
   "source": [
    "## 3. 当実行環境で編集する実験パッケージを選択する\n",
    "\n",
    "以下のセルを実行して、この実験実行環境で編集したい実験パッケージを1つ選択してください。  \n",
    "選択を間違えた場合は、再度このセルから実行して、選択しなおしてください。"
   ]
  },
  {
   "cell_type": "code",
   "execution_count": null,
   "metadata": {
    "vscode": {
     "languageId": "plaintext"
    }
   },
   "outputs": [],
   "source": [
    "import json\n",
    "from ipywidgets import Dropdown, Button, Layout\n",
    "from IPython.display import clear_output\n",
    "\n",
    "with open('/home/jovyan/pipeline.json', 'r') as f:\n",
    "    pipeline = json.load(f)\n",
    "\n",
    "def on_click_callback(clicked_button: Button) -> None:\n",
    "    global experiment_title\n",
    "    experiment_title=dropdown.value\n",
    "    clear_output()\n",
    "    print(\"入力を受けつけました：\", experiment_title)\n",
    "\n",
    "dropdown = Dropdown(\n",
    "    options=pipeline,\n",
    "    description='実験パッケージ名:',\n",
    "    disabled=False,\n",
    "    style= {'description_width': 'initial'}\n",
    ")\n",
    "\n",
    "button = Button(description='入力完了')\n",
    "button.on_click(on_click_callback)\n",
    "print(\"実験パッケージの選択後、入力完了ボタンを押下してください。\")\n",
    "display(dropdown, button)"
   ]
  },
  {
   "attachments": {},
   "cell_type": "markdown",
   "metadata": {},
   "source": [
    "## 4. 実験パッケージのデータを用意する\n",
    "\n",
    "当実験パッケージのデータをこの実験実行環境に用意します。"
   ]
  },
  {
   "cell_type": "code",
   "execution_count": null,
   "metadata": {
    "vscode": {
     "languageId": "plaintext"
    }
   },
   "outputs": [],
   "source": [
    "import os\n",
    "from IPython.display import clear_output\n",
    "import logging\n",
    "\n",
    "EXPERIMENT_TITLE = experiment_title\n",
    "%store EXPERIMENT_TITLE\n",
    "clear_output()\n",
    "os.chdir(os.environ['HOME'] + '/experiments/' + experiment_title)\n",
    "try:\n",
    "    !datalad get .\n",
    "    !datalad unlock .\n",
    "except Exception as e:\n",
    "    logging.error('データの用意に失敗しました。')\n",
    "    logging.error(str(e))\n",
    "else:\n",
    "    clear_output()\n",
    "    print('データの用意が完了しました。次にお進みください。')"
   ]
  },
  {
   "attachments": {},
   "cell_type": "markdown",
   "metadata": {},
   "source": [
    "## 5. 本タスクの実行結果をGIN-forkに同期する"
   ]
  },
  {
   "cell_type": "code",
   "execution_count": null,
   "metadata": {
    "vscode": {
     "languageId": "plaintext"
    }
   },
   "outputs": [],
   "source": [
    "from IPython.display import display, Javascript\n",
    "display(Javascript('IPython.notebook.save_checkpoint();'))"
   ]
  },
  {
   "attachments": {},
   "cell_type": "markdown",
   "metadata": {},
   "source": [
    "以下を実行して、`リポジトリ側の変更と競合しました。競合を解決してください。`と表示された場合は、[こちらのFAQ](https://dg.nii.ac.jp/G-Node/Info/wiki/%E3%83%AA%E3%82%B5%E3%83%BC%E3%83%81%E3%83%95%E3%83%AD%E3%83%BC%E6%A9%9F%E8%83%BD#1-1%E5%90%8C%E6%9C%9F%E5%87%A6%E7%90%86%E3%82%92%E5%AE%9F%E8%A1%8C%E3%81%99%E3%82%8B%E3%81%A8%E3%80%81%E3%83%AA%E3%83%9D%E3%82%B8%E3%83%88%E3%83%AA%E5%81%B4%E3%81%AE%E5%A4%89%E6%9B%B4%E3%81%A8%E7%AB%B6%E5%90%88%E3%81%97%E3%81%BE%E3%81%97%E3%81%9F%E3%80%82%E7%AB%B6%E5%90%88%E3%82%92%E8%A7%A3%E6%B1%BA%E3%81%97%E3%81%A6%E3%81%8F%E3%81%A0%E3%81%95%E3%81%84%E3%80%82%E3%81%A8%E8%A1%A8%E7%A4%BA%E3%81%95%E3%82%8C%E3%82%8B)を参考に競合を解決してください。"
   ]
  },
  {
   "cell_type": "code",
   "execution_count": null,
   "metadata": {
    "vscode": {
     "languageId": "plaintext"
    }
   },
   "outputs": [],
   "source": [
    "import os\n",
    "os.chdir('/home/jovyan/WORKFLOWS/FLOW/')\n",
    "from util.scripts import utils\n",
    "os.chdir(os.environ['HOME'])\n",
    "\n",
    "%store -r EXPERIMENT_TITLE\n",
    "git_path = '/home/jovyan/WORKFLOWS/EX-WORKFLOWS/util/required_rebuild_container.ipynb'\n",
    "is_ok = utils.syncs_with_repo(git_path=git_path, gitannex_path=None, gitannex_files=None, message=EXPERIMENT_TITLE + '_実験環境再構築用セットアップ')"
   ]
  },
  {
   "attachments": {},
   "cell_type": "markdown",
   "metadata": {},
   "source": [
    "## 6. フロー図を更新する\n",
    "フロー図にこのタスクが実行済みであることを反映します。"
   ]
  },
  {
   "cell_type": "code",
   "execution_count": null,
   "metadata": {
    "vscode": {
     "languageId": "plaintext"
    }
   },
   "outputs": [],
   "source": [
    "import os\n",
    "os.chdir(os.environ['HOME'])\n",
    "\n",
    "path = 'WORKFLOWS/EX-WORKFLOWS/images/notebooks.diag'\n",
    "\n",
    "with open('.gitignore', 'r') as f:\n",
    "    text = f.read()\n",
    "    if text.find(path) == -1:\n",
    "        !echo $path >> ./.gitignore\n",
    "\n",
    "# notebooks.diagのgit管理を外す\n",
    "!git update-index --skip-worktree $path\n",
    "\n",
    "# フロー図に不要マークをつける\n",
    "find = '\"required_every_time\"[fontsize = 10];'\n",
    "replace = '\"required_every_time\"[numbered = 不要, fontsize = 10];'\n",
    "\n",
    "with open(path, 'r') as f:\n",
    "    s = f.read()\n",
    "\n",
    "with open(path, 'w') as f:\n",
    "    s = s.replace(find, replace)\n",
    "    f.write(s)\n",
    "\n",
    "expath = 'WORKFLOWS/images/notebooks.diag'\n",
    "with open('.gitignore', 'r') as f:\n",
    "    text = f.read()\n",
    "    if text.find(expath) == -1:\n",
    "        !echo $expath >> ./.gitignore\n",
    "!git update-index --skip-worktree $expath"
   ]
  },
  {
   "attachments": {},
   "cell_type": "markdown",
   "metadata": {},
   "source": [
    "## 7. 実験フロートップページに遷移する\n",
    "\n",
    "以下のセルを実行し、表示されるリンクをクリックしてください。実験フロートップページに遷移し、実験フローをご利用いただけます。  \n",
    "実験フロートップページのフロー図の「初期設定を行う」は実行いただく必要はありません。"
   ]
  },
  {
   "cell_type": "code",
   "execution_count": null,
   "metadata": {
    "vscode": {
     "languageId": "plaintext"
    }
   },
   "outputs": [],
   "source": [
    "from IPython.display import display, HTML, Javascript\n",
    "display(HTML(\"<a href='../../experiment.ipynb'>実験フロートップページに遷移する</a>\"))\n",
    "display(Javascript('IPython.notebook.save_checkpoint();'))"
   ]
  }
 ],
 "metadata": {
  "language_info": {
   "name": "python"
  },
  "orig_nbformat": 4
 },
 "nbformat": 4,
 "nbformat_minor": 2
}
