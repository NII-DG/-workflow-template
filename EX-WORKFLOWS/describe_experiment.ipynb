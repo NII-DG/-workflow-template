{
 "cells": [
  {
   "attachments": {},
   "cell_type": "markdown",
   "metadata": {},
   "source": [
    "# 実験の説明を記述する\n",
    "\n",
    "実験パッケージのREADME.mdに実験の説明を記述いただき、それをGIN-forkに保存します。  \n",
    "\n",
    "実験フロートップページに戻る場合は[こちら](../experiment.ipynb)。新規タブで開きます。  "
   ]
  },
  {
   "attachments": {},
   "cell_type": "markdown",
   "metadata": {},
   "source": [
    "## 0. 研究リポジトリ名・実験パッケージ名を確認する  \n",
    "\n",
    "以下のセルを実行すると、この実験実行環境で操作する実験パッケージの名前と、実験パッケージの存在する研究リポジトリ名を確認できます。"
   ]
  },
  {
   "cell_type": "code",
   "execution_count": null,
   "metadata": {
    "vscode": {
     "languageId": "plaintext"
    }
   },
   "outputs": [],
   "source": [
    "import os\n",
    "os.chdir('/home/jovyan/WORKFLOWS/FLOW/')\n",
    "from util.scripts import utils\n",
    "\n",
    "%store -r\n",
    "if 'EXPERIMENT_TITLE' not in locals().keys() : EXPERIMENT_TITLE = '-'\n",
    "utils.show_name('blue', EXPERIMENT_TITLE)"
   ]
  },
  {
   "attachments": {},
   "cell_type": "markdown",
   "metadata": {},
   "source": [
    "## 1. 実験パッケージのREADMEに実験の説明を記述する\n",
    "\n",
    "以下のセルを実行して、表示されたリンクをクリックすると、実験パッケージのREADME.mdファイル編集画面が別のタブで開きます。    \n",
    "編集画面で、**「## 実験概要」**以下に実験の説明を記述してください。  \n",
    "記述する項目は以下の4点です。  \n",
    "- 実験の概要\n",
    "- sourceの説明\n",
    "- input_dataの説明\n",
    "- 各パラメータの説明\n",
    "\n",
    "記述が完了したら、**README.mdファイルを保存し**、次の手順に進んでください。  \n",
    "ファイルの保存手順は以下を参照してください。\n",
    "\n",
    "### ファイルの保存手順\n",
    "\n",
    "#### 1. 編集画面の「File」ボタンをクリックした後、「Save」ボタンをクリックする\n",
    "![save_readme](./images/save_readme.png)\n",
    "\n",
    "#### 2. ファイル名の右にチェックマークが付き、ファイルが更新されたことを確認してからタブを閉じる\n",
    "![verify_saved_readme](./images/verify_saved_readme.png)"
   ]
  },
  {
   "cell_type": "code",
   "execution_count": null,
   "metadata": {
    "vscode": {
     "languageId": "plaintext"
    }
   },
   "outputs": [],
   "source": [
    "from IPython.display import display, HTML, Javascript\n",
    "readme_path_rel = '../../../edit/experiments/' + EXPERIMENT_TITLE + '/README.md'\n",
    "display(HTML(\"<a href=\" + readme_path_rel +\" target='_blank'>README.md編集画面に遷移する</a>\"))\n",
    "display(Javascript('IPython.notebook.save_checkpoint();'))"
   ]
  },
  {
   "attachments": {},
   "cell_type": "markdown",
   "metadata": {},
   "source": [
    "## 2. 実験パッケージのREADMEをGIN-forkに同期する\n",
    "\n",
    "実験パッケージのREADME.mdをGIN-forkに同期します。\n",
    "以下のセルを実行してください。"
   ]
  },
  {
   "cell_type": "code",
   "execution_count": null,
   "metadata": {
    "vscode": {
     "languageId": "plaintext"
    }
   },
   "outputs": [],
   "source": [
    "import os\n",
    "os.chdir('/home/jovyan/WORKFLOWS/FLOW/')\n",
    "from util.scripts import utils\n",
    "os.chdir(os.environ['HOME'])\n",
    "\n",
    "%store -r\n",
    "EXPERIMENT_TITLE\n",
    "readme_path_abs = '/home/jovyan/experiments/' + EXPERIMENT_TITLE + '/README.md'\n",
    "git_path = ['/home/jovyan/WORKFLOWS/EX-WORKFLOWS/describe_experiment.ipynb', readme_path_abs]\n",
    "is_ok = utils.syncs_with_repo(git_path=git_path, gitannex_path=[], gitannex_files=[], message=EXPERIMENT_TITLE + '_実験の説明を記述', get_paths=[])"
   ]
  },
  {
   "attachments": {},
   "cell_type": "markdown",
   "metadata": {},
   "source": [
    "## 3. 実験フロートップページに遷移する\n",
    "\n",
    "以下のセルを実行し、表示されるリンクをクリックして実験フロートップページに戻ってください。"
   ]
  },
  {
   "cell_type": "code",
   "execution_count": null,
   "metadata": {
    "vscode": {
     "languageId": "plaintext"
    }
   },
   "outputs": [],
   "source": [
    "from IPython.display import display, HTML, Javascript\n",
    "display(HTML(\"<a href='../experiment.ipynb'>実験フロートップページに遷移する</a>\"))\n",
    "display(Javascript('IPython.notebook.save_checkpoint();'))"
   ]
  }
 ],
 "metadata": {
  "language_info": {
   "name": "python"
  },
  "orig_nbformat": 4
 },
 "nbformat": 4,
 "nbformat_minor": 2
}
