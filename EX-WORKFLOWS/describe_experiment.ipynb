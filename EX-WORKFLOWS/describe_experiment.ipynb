{
 "cells": [
  {
   "attachments": {},
   "cell_type": "markdown",
   "metadata": {},
   "source": [
    "# 実験の説明を記述する\n",
    "\n",
    "当実験についての説明を記述してください。\n",
    "README.mdに以下の項目を参考に、実験の説明を記述してください。\n",
    "- 実験の概要\n",
    "- sourceの説明\n",
    "- input_dataの説明\n",
    "- 各パラメータの説明\n",
    "- output_dataの説明？？"
   ]
  }
 ],
 "metadata": {
  "language_info": {
   "name": "python"
  },
  "orig_nbformat": 4
 },
 "nbformat": 4,
 "nbformat_minor": 2
}
