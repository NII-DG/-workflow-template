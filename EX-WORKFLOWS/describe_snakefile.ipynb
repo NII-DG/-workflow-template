{
 "cells": [
  {
   "attachments": {},
   "cell_type": "markdown",
   "metadata": {},
   "source": [
    "# Snakefileに実験手順を記述する\n",
    "\n",
    "実験パッケージの再現性を確保するために、実験内の処理の依存関係などの実験の実行方法をSnakefileに記述します。  \n",
    "\n",
    "「実験フロートップページ」に戻る場合は[こちら](../experiment.ipynb)。新規タブで開きます。\n",
    "\n",
    "Jupyter Notebookの操作方法については、[こちら](https://support.rdm.nii.ac.jp/usermanual/60/#jp_operation)をご覧ください。新規タブで開きます。"
   ]
  },
  {
   "attachments": {},
   "cell_type": "markdown",
   "metadata": {},
   "source": [
    "## 0. 研究リポジトリ名・実験パッケージ名を確認する  \n",
    "\n",
    "以下のセルを実行すると、当実験実行環境で操作する実験パッケージの名前と、実験パッケージの存在する研究リポジトリ名を確認できます。"
   ]
  },
  {
   "cell_type": "code",
   "execution_count": null,
   "metadata": {
    "vscode": {
     "languageId": "plaintext"
    }
   },
   "outputs": [],
   "source": [
    "import os\n",
    "os.chdir('/home/jovyan/WORKFLOWS/FLOW/')\n",
    "from util.scripts import utils\n",
    "\n",
    "%store -r\n",
    "if 'EXPERIMENT_TITLE' not in locals().keys() : EXPERIMENT_TITLE = '-'\n",
    "utils.show_name('blue', EXPERIMENT_TITLE)"
   ]
  },
  {
   "attachments": {},
   "cell_type": "markdown",
   "metadata": {},
   "source": [
    "## 1. 実験パッケージのSnakefileに実験手順を記述する"
   ]
  },
  {
   "attachments": {},
   "cell_type": "markdown",
   "metadata": {},
   "source": [
    "### 1-1. 実験パッケージのSnakefileとSnakefileの記述マニュアルへ遷移する\n",
    "\n",
    "以下のセルを実行して、表示されたリンクをクリックしてください。  \n",
    "下記の画面が別のタブで開きます。\n",
    "- 実験パッケージのSnakefileファイル編集画面\n",
    "- Snakefileの記述マニュアル"
   ]
  },
  {
   "cell_type": "code",
   "execution_count": null,
   "metadata": {
    "vscode": {
     "languageId": "plaintext"
    }
   },
   "outputs": [],
   "source": [
    "from IPython.display import display, HTML, Javascript\n",
    "import os\n",
    "%store -r\n",
    "snakefile_path_rel = '../../../edit/experiments/' + EXPERIMENT_TITLE + '/Snakefile'\n",
    "display(HTML(\"<a href=\" + snakefile_path_rel +\" target='_blank'>Snakefile編集画面に遷移する</a>\"))\n",
    "\n",
    "os.chdir(os.environ['HOME'] + '/WORKFLOWS/EX-WORKFLOWS')\n",
    "display(HTML(\"Snakefileの記述方法については<a href=docs/HowToSnakemake.ipynb target=_blank>こちらのマニュアル</a>を参照してください。\"))\n",
    "display(Javascript('IPython.notebook.save_checkpoint();'))"
   ]
  },
  {
   "attachments": {},
   "cell_type": "markdown",
   "metadata": {},
   "source": [
    "### 1-2. Snakefileに実験手順を記述する\n",
    "\n",
    "Snakefileの記述マニュアルを参照し、手順1-1で遷移したSnakefile編集画面で実験の手順を記述してください。  \n",
    "記述が完了したら、**Snakefileファイルを保存し**、次の手順に進んでください。  \n",
    "ファイルの保存手順は以下を参照してください。\n",
    "\n",
    "### ファイルの保存手順\n",
    "\n",
    "#### 1. 編集画面の「File」ボタンをクリックした後、「Save」ボタンをクリックする\n",
    "![save_file](./images/save_file.png)\n",
    "\n",
    "#### 2. ファイル名の右にチェックマークと「数秒前」が表示され、ファイルが更新されたことを確認してからタブを閉じる\n",
    "![verify_saved_file](./images/verify_saved_file.png)"
   ]
  },
  {
   "attachments": {},
   "cell_type": "markdown",
   "metadata": {},
   "source": [
    "## 2. 実験パッケージのSnakefileをGIN-forkに同期する\n",
    "\n",
    "実験パッケージのSnakefileをGIN-forkに同期します。  \n",
    "以下を実行して、`リポジトリ側の変更と競合しました。競合を解決してください。`と表示された場合は、[GIN-forkへの同期の失敗を解消する](../conflict_helper.ipynb)を参照して、競合を解消してください。"
   ]
  },
  {
   "cell_type": "code",
   "execution_count": null,
   "metadata": {
    "vscode": {
     "languageId": "plaintext"
    }
   },
   "outputs": [],
   "source": [
    "import os\n",
    "os.chdir('/home/jovyan/WORKFLOWS/FLOW/')\n",
    "from util.scripts import utils\n",
    "os.chdir(os.environ['HOME'])\n",
    "\n",
    "%store -r\n",
    "EXPERIMENT_TITLE\n",
    "snakefile_path_abs = '/home/jovyan/experiments/' + EXPERIMENT_TITLE + '/Snakefile'\n",
    "git_path = ['/home/jovyan/WORKFLOWS/EX-WORKFLOWS/describe_snakefile.ipynb', snakefile_path_abs]\n",
    "is_ok = utils.syncs_with_repo(git_path=git_path, gitannex_path=[], gitannex_files=[], message=EXPERIMENT_TITLE + '_Snakefileを記述', get_paths=[])"
   ]
  },
  {
   "attachments": {},
   "cell_type": "markdown",
   "metadata": {},
   "source": [
    "## 3. 実験フロートップページに遷移する\n",
    "\n",
    "以下のセルを実行し、表示されるリンクをクリックして「実験フロートップページ」に戻ってください。"
   ]
  },
  {
   "cell_type": "code",
   "execution_count": null,
   "metadata": {
    "vscode": {
     "languageId": "plaintext"
    }
   },
   "outputs": [],
   "source": [
    "from IPython.display import display, HTML, Javascript\n",
    "display(HTML(\"<a href='../experiment.ipynb'>「実験フロートップページ」に遷移する</a>\"))\n",
    "display(Javascript('IPython.notebook.save_checkpoint();'))"
   ]
  }
 ],
 "metadata": {
  "language_info": {
   "name": "python"
  },
  "orig_nbformat": 4
 },
 "nbformat": 4,
 "nbformat_minor": 2
}
