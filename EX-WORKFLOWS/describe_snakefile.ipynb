{
 "cells": [
  {
   "attachments": {},
   "cell_type": "markdown",
   "metadata": {},
   "source": [
    "# Snakefileに実験手順を記述する\n",
    "\n",
    "実験パッケージの再現性を確保するために、実験内の処理の依存関係などの実験の実行方法をSnakefileに記述する必要があります。  \n",
    "[こちらのマニュアル](https://github.com/NII-DG/dg-manual/blob/main/HowToSnakemake.md)を参照しながらSnakefileを記述してください。"
   ]
  }
 ],
 "metadata": {
  "language_info": {
   "name": "python"
  },
  "orig_nbformat": 4
 },
 "nbformat": 4,
 "nbformat_minor": 2
}
