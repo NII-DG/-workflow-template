{
 "cells": [
  {
   "cell_type": "markdown",
   "metadata": {},
   "source": [
    "# GIN-forkに公開されているリポジトリから実験データを用意する\n",
    "\n",
    "[GIN-fork](http://dg02.dg.rcos.nii.ac.jp/)に公開されているあなたのリポジトリや他の研究者のリポジトリのデータをこの実験の入力データもしくはソースコードとして用意します。  \n",
    "指定したリポジトリにある実験のデータ（入力データ、ソースコード、出力データ）を、今回の実験で使えるように実験パッケージの`input_data`もしくは`source`配下にダウンロードします。  \n",
    "上から順番にセルを実行してください。  \n",
    "以下の図は、このタスクを行う際のユースケースです。ご参照ください。\n",
    "\n",
    "<img src=\"./../../../files/WORKFLOWS/EX-WORKFLOWS/images/gin-forkユースケース.png\" width=80%>\n",
    "\n",
    "実験ワークフロー機能トップページに戻る場合は[こちら](../experiment.ipynb)。新規タブで開きます。  "
   ]
  },
  {
   "cell_type": "markdown",
   "metadata": {},
   "source": [
    "## 0. 研究リポジトリ名と実験パッケージ名の確認  \n",
    "以下のセルを実行すると、この実験実行環境で操作する実験パッケージの名前と、実験パッケージの存在する研究リポジトリ名を確認できます。  \n",
    "研究リポジトリ名が表示されない場合は実験ワークフロー機能トップページのセクション「研究リポジトリ名・実験パッケージ名の確認」のセルを実行してください。  "
   ]
  },
  {
   "cell_type": "code",
   "execution_count": null,
   "metadata": {},
   "outputs": [],
   "source": [
    "from IPython.display import display, HTML\n",
    "\n",
    "# 研究リポジトリ名と実験パッケージ名を表示する\n",
    "%store -r\n",
    "if 'RESEARCH_TITLE' not in locals().keys() : RESEARCH_TITLE = '-'\n",
    "if 'EXPERIMENT_TITLE' not in locals().keys() : EXPERIMENT_TITLE = '-'\n",
    "res_text = \"<h1 style='color: blue'>研究リポジトリ名：%s</h1>\" % (RESEARCH_TITLE)\n",
    "exp_text = \"<h1 style='color: blue'>実験パッケージ名：%s</h1>\" % (EXPERIMENT_TITLE)\n",
    "display(HTML(res_text), HTML(exp_text))"
   ]
  },
  {
   "cell_type": "markdown",
   "metadata": {},
   "source": [
    "## 1. 使いたいデータを持つリポジトリのURLを入力する\n",
    "以下のセルを実行して、今回の実験で用いたいデータのある研究リポジトリのGIT URLを入力してください。  \n",
    "GIT URLについては、以下の図を参考に、GIN-forkの研究リポジトリの画面右上でコピーしてください。  \n",
    "<img src=\"./../../../files/WORKFLOWS/EX-WORKFLOWS/images/gitURL.png\" width=60%>  \n",
    "入力したURLの履歴をこのノートブックに保存したい場合は、実行後にセルの左側に表示されるピンマークをクリックしてください。  \n",
    "※入力に誤りがある場合は、再度このセル以降を実行して下さい。"
   ]
  },
  {
   "cell_type": "code",
   "execution_count": null,
   "metadata": {},
   "outputs": [],
   "source": [
    "from ipywidgets import Text, Button, Layout\n",
    "from IPython.display import clear_output\n",
    "\n",
    "def on_click_callback(clicked_button: Button) -> None:\n",
    "    global input_repo\n",
    "    global input_repo_title\n",
    "    global input_repo_path\n",
    "    input_repo = text.value\n",
    "    input_repo_title = input_repo.split('/')[-1].replace('.git', '')\n",
    "    input_repo_path = '/home/jovyan/.tmp/' + input_repo_title\n",
    "    clear_output()\n",
    "    print(\"入力完了しました：\", input_repo)\n",
    "\n",
    "# テキストボックス\n",
    "text = Text(\n",
    "    description='URL：',\n",
    "    placeholder='http://dg02.dg.rcos.nii.ac.jp/user/repository_title.git',\n",
    "    layout=Layout(width='500px')\n",
    ")\n",
    "button = Button(description='入力完了')\n",
    "button.on_click(on_click_callback)\n",
    "text.on_submit(on_click_callback)\n",
    "display(text, button)"
   ]
  },
  {
   "cell_type": "code",
   "execution_count": null,
   "metadata": {},
   "outputs": [],
   "source": [
    "# 入力されたリポジトリについてGUIを表示するため軽量にクローンする\n",
    "import os\n",
    "import traceback\n",
    "from IPython.display import HTML, display, clear_output\n",
    "!mkdir -p .tmp\n",
    "try:\n",
    "    !git clone -b master --depth 1 --filter=blob:none $input_repo /home/jovyan/.tmp/$input_repo_title\n",
    "    os.chdir('/home/jovyan/.tmp/' + input_repo_title)\n",
    "    # git annex whereisからURLを取得するために必要\n",
    "    !git fetch origin git-annex:remotes/origin/git-annex\n",
    "    os.chdir(os.environ['HOME'])\n",
    "except Exception:\n",
    "    display(HTML(\"<p><font color='red'>入力されたリポジトリに接続できません。公開リポジトリとして存在しているか、また入力したURLに間違いがないかを確認してください。</font></p>\"))\n",
    "    print(traceback.format_exc())\n",
    "else:\n",
    "    clear_output()\n",
    "    display(HTML(\"<p>入力されたリポジトリに接続できました。次の処理にお進みください。</p>\"))"
   ]
  },
  {
   "cell_type": "markdown",
   "metadata": {},
   "source": [
    "## 2. 必要なデータを持つ実験名を選択する\n",
    "\n",
    "以下のセルを実行して、1.で入力したリポジトリの実験群から必要なデータを持つ実験名を選択してください。  \n",
    "パラメータ実験の場合は、パラメータ実験名も選択してください。  \n",
    "同じリポジトリの複数の実験からファイルを用意したい場合は、各実験毎に手順2.～6.を繰り返し実行してください。"
   ]
  },
  {
   "cell_type": "code",
   "execution_count": null,
   "metadata": {},
   "outputs": [],
   "source": [
    "import json\n",
    "import glob \n",
    "from ipywidgets import Dropdown, Button, Layout\n",
    "from IPython.display import clear_output\n",
    "\n",
    "\n",
    "# 入力リポジトリの実験群を取得\n",
    "input_repo_path = '/home/jovyan/.tmp/' + input_repo.split('/')[-1].replace('.git', '')\n",
    "with open(input_repo_path + '/pipeline.json', 'r') as f:\n",
    "    pipeline = json.load(f)\n",
    "\n",
    "# 選択画面生成\n",
    "style = {'description_width': 'initial'}\n",
    "print('取得したいデータを持つ実験パッケージ名を以下から選択し、入力完了ボタンをクリック下さい。')\n",
    "    \n",
    "def on_click_package(clicked_button: Button) -> None:\n",
    "    def on_click_parameter(clicked_button: Button) -> None:\n",
    "        global parameter\n",
    "        print(\"HERE\")\n",
    "        parameter=dropdown_parameter.value\n",
    "        clear_output()\n",
    "        print('入力を受けつけました。')\n",
    "        print('実験パッケージ名：', package)\n",
    "        print('パラメータ実験名：', parameter)\n",
    "    \n",
    "    global package\n",
    "    package=dropdown_package.value\n",
    "    clear_output()\n",
    "    print('入力を受けつけました。')\n",
    "    print('実験パッケージ名：', package)\n",
    "    \n",
    "    # for_parametersの場合は、パラメータフォルダも選択\n",
    "    with open(input_repo_path + '/dmp.json', 'r') as f:\n",
    "        global dmp\n",
    "        dmp = json.load(f)\n",
    "    if dmp['datasetStructure'] == 'for_parameters':\n",
    "        # パラメータフォルダ一覧を生成\n",
    "        output_dirs = glob.glob(input_repo_path + '/experiments/' + package + '/**/output_data/', recursive=True)\n",
    "        parameter_dirs = [dir.replace('/output_data/', '') for dir in output_dirs]\n",
    "        parameter_dirs = [dir.replace(input_repo_path + '/experiments/' + package + '/', '') for dir in parameter_dirs]\n",
    "        clear_output()\n",
    "        print('取得したい出力データを持つパラメータ実験名を選択し、入力完了ボタンをクリック下さい。')\n",
    "        \n",
    "        dropdown_parameter = Dropdown(\n",
    "            options=parameter_dirs,\n",
    "            description='パラメータ実験名:',\n",
    "            disabled=False,\n",
    "            layout=Layout(width='initial'),\n",
    "            style=style\n",
    "        )\n",
    "        button_parameter = Button(description='入力完了する')\n",
    "        button_parameter.on_click(on_click_parameter)\n",
    "        display(dropdown_parameter, button_parameter)\n",
    "    else:\n",
    "        pass\n",
    "\n",
    "dropdown_package = Dropdown(\n",
    "    options=pipeline,\n",
    "    description='実験パッケージ名:',\n",
    "    disabled=False,\n",
    "    layout=Layout(width='initial'),\n",
    "    style=style\n",
    ")\n",
    "\n",
    "button_package = Button(description='入力完了')\n",
    "button_package.on_click(on_click_package)\n",
    "display(dropdown_package, button_package)"
   ]
  },
  {
   "cell_type": "markdown",
   "metadata": {},
   "source": [
    "## 3. 必要なデータを選択する\n",
    "\n",
    "以下のセルを実行すると、手順2.で選択した実験にあるデータが表示されます。  \n",
    "表示されたデータからこの実験に必要なデータをクリックして選択してください。  \n",
    "Ctrlキーを押しながらクリックすると複数のデータを選択できます。"
   ]
  },
  {
   "cell_type": "code",
   "execution_count": null,
   "metadata": {},
   "outputs": [],
   "source": [
    "import glob\n",
    "import panel as pn\n",
    "from pathlib import Path\n",
    "\n",
    "pn.extension()\n",
    "package_path = input_repo_path + '/experiments/' + package\n",
    "\n",
    "# 選択完了ボタン押下後\n",
    "def gen_gui_list(event):\n",
    "    done_button.button_type = \"success\"\n",
    "    done_button.name = \"選択完了しました。次の処理にお進みください。\"\n",
    "    global gui_list\n",
    "    gui_list = []\n",
    "    for i in range(len(column)):\n",
    "        if len(column[i].value) > 0:\n",
    "            gui_list.append('### ' + column[i].name)\n",
    "        for index in range(len(column[i].value)):\n",
    "            gui_list.append(pn.widgets.TextInput(name=column[i].name + '/' + column[i].value[index], placeholder='Enter a file path here...', width=700))\n",
    "\n",
    "    \n",
    "done_button = pn.widgets.Button(name= \"選択を完了する\", button_type= \"primary\")\n",
    "done_button.on_click(gen_gui_list)\n",
    "\n",
    "# input_data, source, output_data毎にファイルの一覧を作成する\n",
    "def get_files(target, parameter):\n",
    "    if parameter == '':\n",
    "        cmd_glob = package_path + '/' + target + '/**'\n",
    "        cmd_replace = package_path + '/' + target + '/'\n",
    "    else:\n",
    "        cmd_glob = package_path + '/' + parameter + '/' + target + '/**'\n",
    "        cmd_replace = package_path + '/' + parameter + '/' + target + '/'\n",
    "    files = glob.glob(cmd_glob, recursive=True)\n",
    "    for i in files[:]:\n",
    "        p = Path(i)\n",
    "        if Path.is_dir(p):\n",
    "            files.remove(i)\n",
    "    return [file.replace(cmd_replace, '') for file in files]\n",
    "\n",
    "# input_data, source, output_data毎のMultiSelect画面を作成し、リストを返す\n",
    "def generate_gui(files_list):\n",
    "    global gui_list\n",
    "    gui_list = []\n",
    "    for key, value in files_list.items():\n",
    "        if key == 'input_data' or  key == 'source' or key =='output_data':\n",
    "            gui_list.append(pn.widgets.MultiSelect(name=key, options=value, size=8, sizing_mode='stretch_width'))\n",
    "        elif key == 'parameter_output_data':\n",
    "            gui_list.append(pn.widgets.MultiSelect(name=parameter + '/' + key.replace('parameter_',''), options=value, size=8, sizing_mode='stretch_width'))\n",
    "    return gui_list\n",
    "            \n",
    "# 実験パッケージのタイプごとにGUIを生成する\n",
    "if dmp['datasetStructure'] == 'with_code':\n",
    "    input_data_files = get_files(target='input_data', parameter='')\n",
    "    source_files = get_files(target='source', parameter='')\n",
    "    output_data_files = get_files(target='output_data', parameter='')\n",
    "    files_list = {\"input_data\":input_data_files, \"source\":source_files, \"output_data\":output_data_files}\n",
    "    gui = generate_gui(files_list)\n",
    "    \n",
    "elif dmp['datasetStructure'] == 'for_parameters':\n",
    "    input_data_files = get_files(target='input_data', parameter='')\n",
    "    source_files = get_files(target='source', parameter='')\n",
    "    output_data_files = get_files(target='output_data', parameter=parameter)\n",
    "    files_list = {\"input_data\":input_data_files, \"source\":source_files, \"parameter_output_data\":output_data_files}\n",
    "    gui = generate_gui(files_list)\n",
    "\n",
    "# GUIを表示する\n",
    "column = pn.Column()\n",
    "for target in gui:\n",
    "    column.append(target)\n",
    "column.append(done_button)\n",
    "column"
   ]
  },
  {
   "cell_type": "markdown",
   "metadata": {},
   "source": [
    "## 4. 選択したデータの格納先を入力する\n",
    "\n",
    "手順3で選択したデータの格納先について、実験パッケージからファイル名までのパスを入力してください。  \n",
    "例えば、`input_data/experiment_1_output/sample.txt`などです。  \n",
    "<p style=\"color:red;\">格納先のファイルパスは、`input_data/`, `source/`で始まる必要があります。</p> "
   ]
  },
  {
   "cell_type": "code",
   "execution_count": null,
   "metadata": {},
   "outputs": [],
   "source": [
    "import panel as pn\n",
    "from IPython.display import HTML, display\n",
    "\n",
    "# 選択完了ボタン押下後\n",
    "def verify_input_text(event):\n",
    "    for i in range(len(column)):\n",
    "        panel_type = str(type(column[i]))\n",
    "        if 'TextInput' in panel_type:\n",
    "            if column[i].value.startswith('input_data/') or column[i].name.startswith('source/'):\n",
    "                done_button.button_type = \"success\"\n",
    "                done_button.name = \"入力を完了しました。次の処理にお進みください。\"\n",
    "            else:\n",
    "                done_button.button_type = \"danger\"\n",
    "                done_button.name = \"`input_data/`か`source/`で始まる必要があります。修正後、再度クリックしてください。\"\n",
    "                break\n",
    "            \n",
    "done_button = pn.widgets.Button(name= \"入力を完了する\", button_type= \"primary\")\n",
    "done_button.on_click(verify_input_text)\n",
    "column = pn.Column()\n",
    "for target in gui_list:\n",
    "    column.append(target)\n",
    "column.append(done_button)\n",
    "column"
   ]
  },
  {
   "cell_type": "markdown",
   "metadata": {},
   "source": [
    "## 5. 選択したデータのリンクを指定した格納先に用意する"
   ]
  },
  {
   "cell_type": "code",
   "execution_count": null,
   "metadata": {},
   "outputs": [],
   "source": [
    "import os\n",
    "import csv\n",
    "import traceback\n",
    "from datalad import api\n",
    "from IPython.display import HTML, display, clear_output\n",
    "\n",
    "# datalad addurlsで使うファイルのダウンロードリンクと格納先のcsvファイルを生成する\n",
    "dest = {}\n",
    "%store -r EXPERIMENT_TITLE\n",
    "for i in range(len(column)):\n",
    "    panel_type = str(type(column[i]))\n",
    "    if 'TextInput' in panel_type:\n",
    "        cmd = package_path + '/' + column[i].name\n",
    "        annex_key = !git annex info $cmd | grep key\n",
    "        if 'URL' in annex_key[0].split('-')[0]:\n",
    "            # S3などインターネット上に実体がある場合\n",
    "            os.chdir('/home/jovyan/.tmp/' + input_repo_title)\n",
    "            annex_key = annex_key[0].replace('key: ', '')\n",
    "            key = !git annex info $cmd | grep 'key: '\n",
    "            key = key[0].replace(\"key: \", \"\")\n",
    "            key = key.replace(\"'\", \"\")\n",
    "            results = !git annex whereis --key $key\n",
    "            url = ''\n",
    "            for r in results:\n",
    "                if r.startswith('  web: '):\n",
    "                    url = r.replace('  web: ', '')\n",
    "            dest_path = 'experiments/' + EXPERIMENT_TITLE + '/' + column[i].value\n",
    "            dest[url] = dest_path\n",
    "        else:\n",
    "            # 実体がGIN-forkにある場合\n",
    "            url = input_repo.replace('.git', '') + '/raw/master/experiments/' + package + '/' + column[i].name\n",
    "            dest_path = 'experiments/' + EXPERIMENT_TITLE + '/' + column[i].value\n",
    "            dest[url] = dest_path\n",
    "with open('/home/jovyan/.tmp/datalad-addurls.csv', 'w+') as f:\n",
    "    writer = csv.writer(f)\n",
    "    writer.writerow(['who','link'])\n",
    "    for key, value in dest.items():\n",
    "        writer.writerow([value, key])\n",
    "\n",
    "# addurlsを実行してgit annexリンクを作成する\n",
    "os.chdir(os.environ['HOME'])\n",
    "result = ''\n",
    "try:\n",
    "    result = !datalad addurls --nosave --fast .tmp/datalad-addurls.csv '{link}' '{who}'\n",
    "    for line in result:\n",
    "        if 'addurls(error)' in line  or 'addurls(impossible)' in line:\n",
    "            raise Exception\n",
    "except Exception:\n",
    "    display(HTML(\"<p><font color='red'>リンクの作成に失敗しました。用意したいデータにアクセス可能か確認してください。</font></p>\"))\n",
    "    print(traceback.format_exc())\n",
    "else:\n",
    "    clear_output()\n",
    "    display(HTML(\"<p>リンクの作成に成功しました。次の処理にお進みください。</p>\"))\n"
   ]
  },
  {
   "cell_type": "markdown",
   "metadata": {},
   "source": [
    "## 6. データの来歴の記録と、実データのダウンロードを行う"
   ]
  },
  {
   "cell_type": "code",
   "execution_count": null,
   "metadata": {},
   "outputs": [],
   "source": [
    "import os\n",
    "import traceback\n",
    "from datalad import api\n",
    "from IPython.display import HTML, display, clear_output\n",
    "\n",
    "try:\n",
    "    # このタスクで用意したファイルパス\n",
    "    datalad_get_path = []\n",
    "    for value in dest.values():\n",
    "        datalad_get_path.append(value)\n",
    "\n",
    "    # sourceの来歴を残すため一旦annex管理でコミットする\n",
    "    os.chdir('/home/jovyan/WORKFLOWS/FLOW/')\n",
    "    from util.scripts import utils\n",
    "    os.chdir(os.environ['HOME'])\n",
    "    utils.syncs_with_repo(git_path=None, gitannex_path=datalad_get_path, message=input_repo_title + 'リポジトリの' + package + '実験から実験のデータを用意')\n",
    "\n",
    "    # 実データを取得する\n",
    "    api.get(path=datalad_get_path)\n",
    "\n",
    "    # sourceがあれば、git管理にする\n",
    "    source_path = []\n",
    "    for path in datalad_get_path:\n",
    "        if path.startswith('experiments/' + EXPERIMENT_TITLE + '/source'):\n",
    "            source_path.append(path)\n",
    "    if len(source_path) > 0:\n",
    "        for path in source_path:\n",
    "            !git annex unannex $path\n",
    "except Exception:\n",
    "    display(HTML(\"<p><font color='red'>処理に失敗しました。用意したいデータにアクセス可能か確認してください。</font></p>\"))\n",
    "    print(traceback.format_exc())\n",
    "else:\n",
    "    clear_output()\n",
    "    display(HTML(\"<p>来歴の記録とデータのダウンロードに成功しました。次の処理にお進みください。</p>\"))\n"
   ]
  },
  {
   "cell_type": "markdown",
   "metadata": {},
   "source": [
    "## 7. 本タスクの実行結果をGIN-forkに同期する\n",
    "\n",
    "ここまでの内容を保存し、GIN-forkに同期します。  \n",
    "以下のセルを実行してください。"
   ]
  },
  {
   "cell_type": "code",
   "execution_count": null,
   "metadata": {},
   "outputs": [],
   "source": [
    "from IPython.display import display, Javascript\n",
    "display(Javascript('IPython.notebook.save_checkpoint();'))"
   ]
  },
  {
   "cell_type": "markdown",
   "metadata": {},
   "source": [
    "以下を実行して、`リポジトリ側の変更と競合しました。競合を解決してください。`と表示された場合は、[こちらのFAQ](http://dg02.dg.rcos.nii.ac.jp/G-Node/Info/wiki/%E3%83%AF%E3%83%BC%E3%82%AF%E3%83%95%E3%83%AD%E3%83%BC#1-1%E5%90%8C%E6%9C%9F%E5%87%A6%E7%90%86%E3%82%92%E5%AE%9F%E8%A1%8C%E3%81%99%E3%82%8B%E3%81%A8%E3%80%81%E3%83%AA%E3%83%9D%E3%82%B8%E3%83%88%E3%83%AA%E5%81%B4%E3%81%AE%E5%A4%89%E6%9B%B4%E3%81%A8%E7%AB%B6%E5%90%88%E3%81%97%E3%81%BE%E3%81%97%E3%81%9F%E3%80%82%E7%AB%B6%E5%90%88%E3%82%92%E8%A7%A3%E6%B1%BA%E3%81%97%E3%81%A6%E3%81%8F%E3%81%A0%E3%81%95%E3%81%84%E3%80%82%E3%81%A8%E8%A1%A8%E7%A4%BA%E3%81%95%E3%82%8C%E3%82%8B)を参考に競合を解決してください。"
   ]
  },
  {
   "cell_type": "code",
   "execution_count": null,
   "metadata": {},
   "outputs": [],
   "source": [
    "import os\n",
    "os.chdir('/home/jovyan/WORKFLOWS/FLOW/')\n",
    "from util.scripts import utils\n",
    "os.chdir(os.environ['HOME'])\n",
    "\n",
    "git_path = source_path\n",
    "git_path.append('WORKFLOWS/EX-WORKFLOWS/prepare_from_repository.ipynb')\n",
    "\n",
    "utils.syncs_with_repo(git_path=git_path, gitannex_path=None, message=EXPERIMENT_TITLE + '_実験データの用意')"
   ]
  },
  {
   "cell_type": "markdown",
   "metadata": {},
   "source": [
    "## 8. 不要なデータを削除する\n",
    "\n"
   ]
  },
  {
   "cell_type": "code",
   "execution_count": null,
   "metadata": {},
   "outputs": [],
   "source": [
    "# 一時的なクローンを削除する\n",
    "import os\n",
    "os.chdir(os.environ['HOME'])\n",
    "!rm -rf .tmp/$input_repo_title\n",
    "print(\"処理が完了しました。\")"
   ]
  },
  {
   "cell_type": "markdown",
   "metadata": {},
   "source": [
    "## 9. 実験ワークフロー機能トップページに遷移する\n",
    "\n",
    "以下のセルを実行し、表示されるリンクをクリックして実験ワークフロー機能トップページに戻ってください。  "
   ]
  },
  {
   "cell_type": "code",
   "execution_count": null,
   "metadata": {},
   "outputs": [],
   "source": [
    "from IPython.display import display, HTML, Javascript\n",
    "display(HTML(\"<a href='../experiment.ipynb'>実験ワークフロー機能トップページに遷移する</a>\"))\n",
    "display(Javascript('IPython.notebook.save_checkpoint();'))"
   ]
  }
 ],
 "metadata": {
  "kernelspec": {
   "display_name": "Python 64-bit ('.')",
   "language": "python",
   "name": "python3"
  },
  "language_info": {
   "codemirror_mode": {
    "name": "ipython",
    "version": 3
   },
   "file_extension": ".py",
   "mimetype": "text/x-python",
   "name": "python",
   "nbconvert_exporter": "python",
   "pygments_lexer": "ipython3",
   "version": ""
  },
  "vscode": {
   "interpreter": {
    "hash": "8a5edab282632443219e051e4ade2d1d5bbc671c781051bf1437897cbdfea0f1"
   }
  }
 },
 "nbformat": 4,
 "nbformat_minor": 2
}
