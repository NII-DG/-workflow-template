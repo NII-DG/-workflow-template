{
 "cells": [
  {
   "cell_type": "markdown",
   "metadata": {},
   "source": [
    "# GIN-forkに公開されているリポジトリから実験の入力データを用意する\n",
    "\n",
    "[GIN-fork](http://dg02.dg.rcos.nii.ac.jp/)に公開されているあなたのリポジトリや他の研究者のリポジトリのデータをこの実験の入力データとして用意します。  \n",
    "\n",
    "指定したリポジトリ内のファイルの実データを一括でダウンロードすることも、実験に必要なファイルの実データのみをインストールすることも可能です。  \n",
    "ただし、多くのデータおよび大容量のデータをダウンロードする場合は、時間がかかる可能性があります。一括でダウンロードするよりも、必要なファイルのみをダウンロードすることでダウンロード時間の減少が見込めます。\n",
    "\n",
    "上から順番にセルを実行してください。\n",
    "\n",
    "※もし入力データとして利用したいファイルの実データが「git-annex」によってAWS S3準拠のオブジェクトストレージに保存されている場合、[こちら](util/operate_s3_annex.ipynb)を実行することで当該データを取得できます。\n",
    "\n",
    "以下の図は、このタスクを行う際のユースケースです。ご参照ください。\n",
    "\n",
    "<img src=\"./../../../files/WORKFLOWS/EX-WORKFLOWS/images/gin-forkユースケース.png\" width=80%>"
   ]
  },
  {
   "cell_type": "code",
   "execution_count": null,
   "metadata": {},
   "outputs": [],
   "source": [
    "!pip install panel"
   ]
  },
  {
   "cell_type": "markdown",
   "metadata": {},
   "source": [
    "## 1. データのあるリポジトリのURLおよび実験名を入力する\n",
    "\n",
    "以下のセルを実行して、GIN-fork上の入力データにしたいデータのある研究リポジトリのGIT URLおよび実験名を入力してください。  \n",
    "GIT URLについては、以下の図を参考に、GIN-forkの研究リポジトリの画面右上でコピーしてください。\n",
    "\n",
    "<img src=\"./../../../files/WORKFLOWS/EX-WORKFLOWS/images/gitURL.png\" width=60%>\n",
    "\n",
    "入力したURLの履歴をこのノートブックに保存したい場合は、実行後にセルの左側に表示されるピンマークをクリックしてください。  \n",
    "※入力に誤りがある場合は、再度このセルを実行して下さい。"
   ]
  },
  {
   "cell_type": "code",
   "execution_count": null,
   "metadata": {},
   "outputs": [],
   "source": [
    "from ipywidgets import Text, Button, Layout\n",
    "from IPython.display import clear_output\n",
    "\n",
    "def on_click_callback(clicked_button: Button) -> None:\n",
    "    global input_repo\n",
    "    global input_repo_title\n",
    "    global input_repo_path\n",
    "    input_repo = text.value\n",
    "    input_repo_title = input_repo.split('/')[-1].replace('.git', '')\n",
    "    input_repo_path = '/home/jovyan/.tmp/' + input_repo_title\n",
    "    clear_output()\n",
    "    print(\"入力完了しました：\", input_repo)\n",
    "\n",
    "# テキストボックス\n",
    "text = Text(\n",
    "    description='URL：',\n",
    "    placeholder='http://dg02.dg.rcos.nii.ac.jp/user/repository_title.git',\n",
    "    layout=Layout(width='500px')\n",
    ")\n",
    "button = Button(description='入力完了')\n",
    "button.on_click(on_click_callback)\n",
    "text.on_submit(on_click_callback)\n",
    "display(text, button)"
   ]
  },
  {
   "cell_type": "markdown",
   "metadata": {},
   "source": [
    "## 2. 必要なデータを持つ実験名を選択する\n",
    "\n",
    "1.で入力したリポジトリの実験群から、必要なデータを持つ実験名を選択してください。  \n",
    "パラメータ実験の場合は、パラメータ実験名も選択してください。  \n",
    "複数の実験からファイルを用意したい場合は、各実験毎に手順2.～?を繰り返し実行してください。"
   ]
  },
  {
   "cell_type": "code",
   "execution_count": null,
   "metadata": {},
   "outputs": [],
   "source": [
    "# 以下で入力リポジトリの選択GUIを表示するために軽量にクローンする\n",
    "!mkdir -p .tmp\n",
    "!git clone --depth 1 --filter=blob:none $input_repo /home/jovyan/.tmp/$input_repo_title"
   ]
  },
  {
   "cell_type": "code",
   "execution_count": null,
   "metadata": {},
   "outputs": [],
   "source": [
    "import json\n",
    "import glob \n",
    "from ipywidgets import Dropdown, Button, Layout\n",
    "from IPython.display import clear_output\n",
    "\n",
    "\n",
    "# 入力リポジトリの実験群を取得\n",
    "input_repo_path = '/home/jovyan/.tmp/' + input_repo.split('/')[-1].replace('.git', '')\n",
    "with open(input_repo_path + '/pipeline.json', 'r') as f:\n",
    "    pipeline = json.load(f)\n",
    "\n",
    "# 選択操作\n",
    "style = {'description_width': 'initial'}\n",
    "print('取得したいデータを持つ実験パッケージ名を以下から選択し、入力完了ボタンをクリック下さい。')\n",
    "    \n",
    "def on_click_package(clicked_button: Button) -> None:\n",
    "    def on_click_parameter(clicked_button: Button) -> None:\n",
    "        global parameter\n",
    "        print(\"HERE\")\n",
    "        parameter=dropdown_parameter.value\n",
    "        clear_output()\n",
    "        print('入力を受けつけました。')\n",
    "        print('実験パッケージ名：', package)\n",
    "        print('パラメータ実験名：', parameter)\n",
    "    \n",
    "    global package\n",
    "    package=dropdown_package.value\n",
    "    clear_output()\n",
    "    print('入力を受けつけました。')\n",
    "    print('実験パッケージ名：', package)\n",
    "    \n",
    "    # RCOS_for_parametersの場合は、パラメータフォルダも選択\n",
    "    with open(input_repo_path + '/dmp.json', 'r') as f:\n",
    "        global dmp\n",
    "        dmp = json.load(f)\n",
    "    if dmp['datasetStructure'] == 'RCOS_for_parameters':\n",
    "        # パラメータフォルダ一覧を生成\n",
    "        output_dirs = glob.glob(input_repo_path + '/experiments/' + package + '/**/output_data/', recursive=True)\n",
    "        parameter_dirs = [dir.replace('/output_data/', '') for dir in output_dirs]\n",
    "        parameter_dirs = [dir.replace(input_repo_path + '/experiments/' + package + '/', '') for dir in parameter_dirs]\n",
    "        clear_output()\n",
    "        print('取得したい出力データを持つパラメータ実験名を選択し、入力完了ボタンをクリック下さい。')\n",
    "        \n",
    "        dropdown_parameter = Dropdown(\n",
    "            options=parameter_dirs,\n",
    "            description='パラメータ実験名:',\n",
    "            disabled=False,\n",
    "            layout=Layout(width='initial'),\n",
    "            style=style\n",
    "        )\n",
    "        button_parameter = Button(description='入力完了する')\n",
    "        button_parameter.on_click(on_click_parameter)\n",
    "        display(dropdown_parameter, button_parameter)\n",
    "    else:\n",
    "        pass\n",
    "\n",
    "dropdown_package = Dropdown(\n",
    "    options=pipeline,\n",
    "    description='実験パッケージ名:',\n",
    "    disabled=False,\n",
    "    layout=Layout(width='initial'),\n",
    "    style=style\n",
    ")\n",
    "\n",
    "button_package = Button(description='入力完了')\n",
    "button_package.on_click(on_click_package)\n",
    "display(dropdown_package, button_package)"
   ]
  },
  {
   "cell_type": "markdown",
   "metadata": {},
   "source": [
    "## 3. 必要なファイルを選択する\n",
    "\n",
    "以下のセルを実行すると、手順2.で選択した実験にあるファイルが表示されます。  \n",
    "表示されたファイルからこの実験に必要なファイルをクリックで選択してください。  \n",
    "Ctrlキーを押しながらクリックすると複数のファイルを選択できます。"
   ]
  },
  {
   "cell_type": "code",
   "execution_count": null,
   "metadata": {},
   "outputs": [],
   "source": [
    "import glob\n",
    "import panel as pn\n",
    "from pathlib import Path\n",
    "\n",
    "pn.extension()\n",
    "package_path = input_repo_path + '/experiments/' + package\n",
    "\n",
    "def get_files(target, parameter):\n",
    "    if parameter == '':\n",
    "        cmd_glob = package_path + '/' + target + '/**'\n",
    "        cmd_replace = package_path + '/' + target + '/'\n",
    "    else:\n",
    "        cmd_glob = package_path + '/' + parameter + '/' + target + '/**'\n",
    "        cmd_replace = package_path + '/' + parameter + '/' + target + '/'\n",
    "    files = glob.glob(cmd_glob, recursive=True)\n",
    "    # フォルダを除く\n",
    "    for i in files:\n",
    "        p = Path(i)\n",
    "        if Path.is_dir(p):\n",
    "            files.remove(i)\n",
    "    return [file.replace(cmd_replace, '') for file in files]\n",
    "\n",
    "def generate_gui(files_list):\n",
    "    global gui_list\n",
    "    gui_list = []\n",
    "    for key, value in files_list.items():\n",
    "        if key == 'input_data' or  key == 'source' or key =='output_data':\n",
    "            gui_list.append(pn.widgets.MultiSelect(name=key, options=value, size=8))\n",
    "        elif key == 'parameter_output_data':\n",
    "            gui_list.append(pn.widgets.MultiSelect(name=parameter + '/' + key.replace('parameter_',''), options=value, size=8))\n",
    "    return gui_list\n",
    "            \n",
    "# 実験パッケージのタイプごとにGUIを表示する\n",
    "if dmp['datasetStructure'] == 'RCOS_with_code':\n",
    "    input_data_files = get_files(target='input_data', parameter='')\n",
    "    source_files = get_files(target='source', parameter='')\n",
    "    output_data_files = get_files(target='output_data', parameter='')\n",
    "    files_list = {\"input_data\":input_data_files, \"source\":source_files, \"output_data\":output_data_files}\n",
    "    gui = generate_gui(files_list)\n",
    "    \n",
    "elif dmp['datasetStructure'] == 'RCOS_only_data':\n",
    "    input_data_files = get_files(target='input_data', parameter='')\n",
    "    output_data_files = get_files(target='output_data', parameter='')\n",
    "    files_list ={\"input_data\":input_data_files, \"output_data\":output_data_files}\n",
    "    gui = generate_gui(files_list)\n",
    "    \n",
    "elif dmp['datasetStructure'] == 'RCOS_for_parameters':\n",
    "    input_data_files = get_files(target='input_data', parameter='')\n",
    "    source_files = get_files(target='source', parameter='')\n",
    "    output_data_files = get_files(target='output_data', parameter=parameter)\n",
    "    files_list = {\"input_data\":input_data_files, \"source\":source_files, \"parameter_output_data\":output_data_files}\n",
    "    gui = generate_gui(files_list)\n",
    "    \n",
    "column = pn.Column()\n",
    "for target in gui:\n",
    "    column.append(target)\n",
    "column"
   ]
  },
  {
   "cell_type": "markdown",
   "metadata": {},
   "source": [
    "## 4. 選択したファイルの格納先を入力する\n",
    "\n",
    "手順3で選択したファイルの格納先について、実験パッケージからファイル名までのパスを入力してください。\n",
    "例えば、`input_data/experiment_1_output/sample.txt`などです。\n",
    "<p style=\"color:red;\">格納先のファイルパスは、`input_data/`, `source/`, `output_data/`で始まる必要があります。</p> "
   ]
  },
  {
   "cell_type": "code",
   "execution_count": null,
   "metadata": {},
   "outputs": [],
   "source": [
    "gui_list = []\n",
    "for i in range(len(column)):\n",
    "    if len(column[i].value) > 0:\n",
    "        gui_list.append('### ' + column[i].name)\n",
    "    for index in range(len(column[i].value)):\n",
    "        gui_list.append(pn.widgets.TextInput(name=column[i].name + '/' + column[i].value[index], placeholder='Enter a file path here...'))\n",
    "\n",
    "column = pn.Column()\n",
    "for target in gui_list:\n",
    "    column.append(target)\n",
    "column"
   ]
  },
  {
   "cell_type": "markdown",
   "metadata": {},
   "source": [
    "## 5. 選択されたファイルを指定された格納先に用意する"
   ]
  },
  {
   "cell_type": "code",
   "execution_count": null,
   "metadata": {},
   "outputs": [],
   "source": [
    "import os\n",
    "import csv\n",
    "from datalad import api\n",
    "\n",
    "dest = {}\n",
    "%store -r EXPERIMENT_TITLE\n",
    "# datalad addurlsで使うファイルのダウンロードリンクと格納先のcsvファイルを生成する\n",
    "for i in range(len(column)):\n",
    "    panel_type = str(type(column[i]))\n",
    "    if 'TextInput' in panel_type:\n",
    "        cmd = package_path + '/' + column[i].name\n",
    "        annex_key = !git annex info $cmd | grep key\n",
    "        if 'URL' in annex_key[0].split('-')[0]:\n",
    "            # S3などインターネット上に実体がある場合\n",
    "            pass\n",
    "        else:\n",
    "            # 実体がGIN-forkにある場合\n",
    "            url = input_repo.replace('.git', '') + '/raw/master/experiments/' + package + '/' + column[i].name\n",
    "            dest_path = 'experiments/' + EXPERIMENT_TITLE + '/' + column[i].value\n",
    "            dest[url] = dest_path\n",
    "with open('/home/jovyan/.tmp/datalad-addurls.csv', 'w+') as f:\n",
    "    writer = csv.writer(f)\n",
    "    writer.writerow(['who','link'])\n",
    "    for key, value in dest.items():\n",
    "        writer.writerow([value, key])"
   ]
  },
  {
   "cell_type": "code",
   "execution_count": null,
   "metadata": {},
   "outputs": [],
   "source": [
    "# addurlsを実行してgit annexリンクを作成する\n",
    "# annex状態でいったんコミットしておく\n",
    "import os\n",
    "os.chdir(os.environ['HOME'])\n",
    "result = ''\n",
    "try:\n",
    "    result = !datalad addurls --nosave --fast .tmp/datalad-addurls.csv '{link}' '{who}'\n",
    "    for line in result:\n",
    "        if 'addurl(error)' in line  or 'addurl(impossible)' in line:\n",
    "            raise Exception\n",
    "except Exception:\n",
    "    print('リンク情報の作成に失敗しました。')\n",
    "else:\n",
    "    print('リンク情報の作成に成功しました。次の処理にお進みください。')\n",
    "finally:\n",
    "    print(result)"
   ]
  },
  {
   "cell_type": "code",
   "execution_count": null,
   "metadata": {},
   "outputs": [],
   "source": [
    "from datalad import api\n",
    "\n",
    "datalad_get_path = []\n",
    "for value in dest.values():\n",
    "    datalad_get_path.append(value)\n",
    "\n",
    "# 来歴を残すためannex管理でコミットする\n",
    "api.save(path=datalad_get_path, message='prepare_from_repository : addurls')\n",
    "\n",
    "# 実データを取得する\n",
    "api.get(path=datalad_get_path)\n",
    "\n",
    "# sourceがあれば、git管理に戻す\n",
    "source_path = []\n",
    "for path in datalad_get_path:\n",
    "    if path.startswith('experiments/' + EXPERIMENT_TITLE + '/source'):\n",
    "        source_path.append(path)\n",
    "if len(source_path) > 0:\n",
    "    for path in source_path:\n",
    "        !git annex unannex $path\n",
    "        \n",
    "# 一時的なクローンを削除する\n",
    "os.chdir(os.environ['HOME'])\n",
    "!rm -rf .tmp/$input_repo_title"
   ]
  },
  {
   "cell_type": "markdown",
   "metadata": {},
   "source": [
    "## 6. 本タスクの実行結果をGIN-forkに同期する\n",
    "\n",
    "ここまでの内容を保存し、GIN-forkに同期します。  \n",
    "以下のセルを実行してください。"
   ]
  },
  {
   "cell_type": "code",
   "execution_count": null,
   "metadata": {},
   "outputs": [],
   "source": [
    "from IPython.display import display, Javascript\n",
    "display(Javascript('IPython.notebook.save_checkpoint();'))\n",
    "\n",
    "save_path = source_path\n",
    "annexed_save_path = list(set(datalad_get_path) - set(save_path))"
   ]
  },
  {
   "cell_type": "markdown",
   "metadata": {},
   "source": [
    "以下を実行して、`リポジトリ側の変更と競合しました。競合を解決してください。`と表示された場合は、[こちらのFAQ](http://dg02.dg.rcos.nii.ac.jp/G-Node/Info/wiki/%E3%83%AF%E3%83%BC%E3%82%AF%E3%83%95%E3%83%AD%E3%83%BC#1-1%E5%90%8C%E6%9C%9F%E5%87%A6%E7%90%86%E3%82%92%E5%AE%9F%E8%A1%8C%E3%81%99%E3%82%8B%E3%81%A8%E3%80%81%E3%83%AA%E3%83%9D%E3%82%B8%E3%83%88%E3%83%AA%E5%81%B4%E3%81%AE%E5%A4%89%E6%9B%B4%E3%81%A8%E7%AB%B6%E5%90%88%E3%81%97%E3%81%BE%E3%81%97%E3%81%9F%E3%80%82%E7%AB%B6%E5%90%88%E3%82%92%E8%A7%A3%E6%B1%BA%E3%81%97%E3%81%A6%E3%81%8F%E3%81%A0%E3%81%95%E3%81%84%E3%80%82%E3%81%A8%E8%A1%A8%E7%A4%BA%E3%81%95%E3%82%8C%E3%82%8B)を参考に競合を解決してください。"
   ]
  },
  {
   "cell_type": "code",
   "execution_count": null,
   "metadata": {},
   "outputs": [],
   "source": [
    "import os\n",
    "import papermill as pm\n",
    "from colorama import Fore\n",
    "from IPython.display import clear_output\n",
    "\n",
    "os.chdir(os.environ['HOME'])\n",
    "save_path.append('WORKFLOWS/EX-WORKFLOWS/prepare_from_repository.ipynb')\n",
    "# Git管理ファイルを保存\n",
    "try:\n",
    "    pm.execute_notebook(\n",
    "        'WORKFLOWS/EX-WORKFLOWS/util/base_datalad_save_push.ipynb',\n",
    "        '/home/jovyan/.local/push_log.ipynb',\n",
    "        parameters = dict(SAVE_MESSAGE =EXPERIMENT_TITLE + '_実験データの準備 (1/2)', TO_GIT = True, PATH = save_path, IS_RECURSIVE = False)\n",
    "    )\n",
    "finally:\n",
    "    clear_output()\n",
    "    %store -r DATALAD_MESSAGE\n",
    "    %store -r DATALAD_ERROR\n",
    "    print('\\n' + DATALAD_MESSAGE + '\\n')\n",
    "    print(Fore.RED + DATALAD_ERROR)"
   ]
  },
  {
   "cell_type": "code",
   "execution_count": null,
   "metadata": {},
   "outputs": [],
   "source": [
    "import os\n",
    "import papermill as pm\n",
    "from colorama import Fore\n",
    "from IPython.display import clear_output\n",
    "\n",
    "os.chdir(os.environ['HOME'])\n",
    "# Git-annex管理ファイルを保存\n",
    "try:\n",
    "    pm.execute_notebook(\n",
    "        'WORKFLOWS/EX-WORKFLOWS/util/base_datalad_save_push.ipynb',\n",
    "        '/home/jovyan/.local/push_log.ipynb',\n",
    "        parameters = dict(SAVE_MESSAGE = EXPERIMENT_TITLE + '_実験データの準備 (2/2)', PATH = annexed_save_path, IS_RECURSIVE = False, UNLOCK = False, REMOVE_PUSH_PATH = True)\n",
    "    )\n",
    "finally:\n",
    "    clear_output()\n",
    "    %store -r DATALAD_MESSAGE\n",
    "    %store -r DATALAD_ERROR\n",
    "    print('\\n' + DATALAD_MESSAGE + '\\n')\n",
    "    print(Fore.RED + DATALAD_ERROR)"
   ]
  },
  {
   "cell_type": "markdown",
   "metadata": {},
   "source": [
    "## 7. 実験ワークフロー機能トップページに遷移する\n",
    "\n",
    "続けてワークフロー機能を実行する場合は、[こちら](../experiment.ipynb)からトップページに遷移できます。  "
   ]
  }
 ],
 "metadata": {
  "kernelspec": {
   "display_name": "Python 3 (ipykernel)",
   "language": "python",
   "name": "python3"
  },
  "language_info": {
   "codemirror_mode": {
    "name": "ipython",
    "version": 3
   },
   "file_extension": ".py",
   "mimetype": "text/x-python",
   "name": "python",
   "nbconvert_exporter": "python",
   "pygments_lexer": "ipython3",
   "version": "3.9.10"
  },
  "vscode": {
   "interpreter": {
    "hash": "6a196852dad78838558c3d25678ed4fa7922e766dc7a8a519a679191ca8fa666"
   }
  }
 },
 "nbformat": 4,
 "nbformat_minor": 2
}
