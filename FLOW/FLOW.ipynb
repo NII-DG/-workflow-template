{
 "cells": [
  {
   "cell_type": "markdown",
   "metadata": {},
   "source": [
    "# FLOW\n",
    "\n",
    "研究の準備、実施、公開までの研究者のワークフロー実施を支援するもの\n",
    "初期フェーズから中期フェーズ、後期フェーズの順に進み、各フェーズで必要なセクションを研究者自身が実行する想定"
   ]
  },
  {
   "cell_type": "markdown",
   "metadata": {},
   "source": [
    "## 1. 初期フェーズ\n",
    "初期フェーズでは実験前の準備をサポートする"
   ]
  },
  {
   "cell_type": "markdown",
   "metadata": {},
   "source": [
    "|||||\n",
    "|:---:|:---:|:---:|:---:|\n",
    "|[GakuNin RDMと連携する](https://jupyter.cs.rcos.nii.ac.jp/user/ivis_rino_mizuguchi@rdm.nii.ac.jp/ivis-mizuguchi-workflow-template-5tjscm4v/notebooks/initial_phase/work_with_GakuNinRDM.ipynb)|[研究ディレクトリを初期化する](https://jupyter.cs.rcos.nii.ac.jp/user/ivis_rino_mizuguchi@rdm.nii.ac.jp/ivis-mizuguchi-workflow-template-5tjscm4v/notebooks/initial_phase/create_research_dirs.ipynb)|[データクリーニングツールを準備する](https://jupyter.cs.rcos.nii.ac.jp/user/ivis_rino_mizuguchi@rdm.nii.ac.jp/ivis-mizuguchi-workflow-template-5tjscm4v/notebooks/initial_phase/setup_data_cleaning/data_cleaning_tools.ipynb)|[データ分析ツールを準備する](https://jupyter.cs.rcos.nii.ac.jp/user/ivis_rino_mizuguchi@rdm.nii.ac.jp/ivis-mizuguchi-workflow-template-5tjscm4v/notebooks/initial_phase/setup_data_analysis/data_analysis_tools.ipynb)|"
   ]
  },
  {
   "cell_type": "markdown",
   "metadata": {},
   "source": [
    "## 2. 中期フェーズ\n",
    "中期フェーズでは実験の試行錯誤や再現性の確保をサポートする"
   ]
  },
  {
   "cell_type": "markdown",
   "metadata": {},
   "source": [
    "||||\n",
    "|:---:|:---:|:---:|\n",
    "|[研究ディレクトリを編集する]()|[研究ディレクトリをモニタリングする]()|[パイプラインを構築する]()|"
   ]
  },
  {
   "cell_type": "markdown",
   "metadata": {},
   "source": [
    "## 3. 後期フェーズ\n",
    "後期フェーズでは研究後のキュレーションやデータや論文の公開をサポートする"
   ]
  },
  {
   "cell_type": "markdown",
   "metadata": {},
   "source": [
    "|||\n",
    "|:---:|:---:|\n",
    "|[キュレーション機能と連携する]()|[WEKO3と連携する]()|"
   ]
  }
 ],
 "metadata": {
  "kernelspec": {
   "display_name": "Python 3",
   "language": "python",
   "name": "python3"
  },
  "language_info": {
   "codemirror_mode": {
    "name": "ipython",
    "version": 3
   },
   "file_extension": ".py",
   "mimetype": "text/x-python",
   "name": "python",
   "nbconvert_exporter": "python",
   "pygments_lexer": "ipython3",
   "version": "3.7.8"
  }
 },
 "nbformat": 4,
 "nbformat_minor": 4
}
