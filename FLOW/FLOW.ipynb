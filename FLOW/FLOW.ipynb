{
 "cells": [
  {
   "cell_type": "markdown",
   "metadata": {},
   "source": [
    "# FLOW\n",
    "\n",
    "研究の準備、実施、公開までの研究者のワークフロー実施を支援するもの\n",
    "初期フェーズから中期フェーズ、後期フェーズの順に進み、各フェーズで必要なセクションを研究者自身が実行する想定"
   ]
  },
  {
   "cell_type": "markdown",
   "metadata": {},
   "source": [
    "## 1. 初期フェーズ\n",
    "初期フェーズでは実験前の準備をサポートする"
   ]
  },
  {
   "cell_type": "markdown",
   "metadata": {},
   "source": [
    "||||||\n",
    "|:---:|:---:|:---:|:---:|:---:|\n",
    "|[GakuNin RDMと連携する](../sections/early_phase/work_with_GakuNinRDM.ipynb)|[研究リポジトリを初期化する](../sections/early_phase/init_research_dirs.ipynb)|[データクリーニングツールを準備する](../sections/early_phase/setup_data_cleaning_tools.ipynb)|[データ分析ツールを準備する](../sections/early_phase/setup_data_analysis_tools.ipynb)|[解析基盤でR言語を使う準備をする](../sections/early_phase/setup_r_kernel.ipynb)|"
   ]
  },
  {
   "cell_type": "markdown",
   "metadata": {},
   "source": [
    "## 2. 中期フェーズ\n",
    "中期フェーズでは実験の試行錯誤や再現性の確保をサポートする"
   ]
  },
  {
   "cell_type": "markdown",
   "metadata": {},
   "source": [
    "|||||\n",
    "|:---:|:---:|:---:|:---:|\n",
    "|[実験を実行する](../sections/middle_phase/launch_an_experiment.ipynb)|[研究リポジトリをモニタリングする](../sections/middle_phase/monitor_repository.ipynb)|[パイプラインを構築する](../sections/middle_phase/support_making_pipeline.ipynb)|[研究データを追加する](../sections/middle_phase/add_research_data.ipynb)|"
   ]
  },
  {
   "cell_type": "markdown",
   "metadata": {},
   "source": [
    "## 3. 後期フェーズ\n",
    "後期フェーズでは研究後のキュレーションやデータや論文の公開をサポートする"
   ]
  },
  {
   "cell_type": "markdown",
   "metadata": {},
   "source": [
    "|||\n",
    "|:---:|:---:|\n",
    "|[キュレーション機能と連携する](../sections/last_phase/work_with_data_curation.ipynb)|[WEKO3と連携する](../sections/last_phase/work_with_weko3.ipynb)|"
   ]
  }
 ],
 "metadata": {
  "kernelspec": {
   "display_name": "Python 3",
   "language": "python",
   "name": "python3"
  },
  "language_info": {
   "codemirror_mode": {
    "name": "ipython",
    "version": 3
   },
   "file_extension": ".py",
   "mimetype": "text/x-python",
   "name": "python",
   "nbconvert_exporter": "python",
   "pygments_lexer": "ipython3",
   "version": "3.7.8"
  }
 },
 "nbformat": 4,
 "nbformat_minor": 4
}
