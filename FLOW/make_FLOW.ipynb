{
 "cells": [
  {
   "cell_type": "markdown",
   "metadata": {},
   "source": [
    "# フローを作成する\n",
    "\n",
    "研究の準備、実施、公開までの研究者のワークフローを支援するためのフローを作成し、フローに遷移します。  \n",
    "以下のセルを上から順番に実行してください。"
   ]
  },
  {
   "cell_type": "markdown",
   "metadata": {
    "heading_collapsed": true
   },
   "source": [
    "## 1.FLOWを作成する"
   ]
  },
  {
   "cell_type": "markdown",
   "metadata": {
    "hidden": true
   },
   "source": [
    "### - 1.1 FROWの関連図を作成する"
   ]
  },
  {
   "cell_type": "code",
   "execution_count": null,
   "metadata": {
    "hidden": true
   },
   "outputs": [],
   "source": [
    "# フォントをインストールする\n",
    "%cd ~/\n",
    "!mkdir ~/.fonts\n",
    "%cd ~/.fonts\n",
    "!wget http://archive.ubuntu.com/ubuntu/pool/universe/f/fonts-ipafont/fonts-ipafont-gothic_00303-18ubuntu1_all.deb\n",
    "!dpkg-deb -x fonts-ipafont-gothic_00303-18ubuntu1_all.deb ~/fonts\n",
    "!cp ~/.fonts/usr/share/fonts/opentype/ipafont-gothic/ipag.ttf ~/.fonts/ipag.ttf\n",
    "\n",
    "# 関連図を作成する\n",
    "%run /home/jovyan/WORKFLOW/scripts/nb_utils.py\n",
    "setup_diag()\n",
    "filename=generate_svg_diag(diag='/home/jovyan/WORKFLOW/images/notebooks.diag')"
   ]
  },
  {
   "cell_type": "markdown",
   "metadata": {
    "hidden": true
   },
   "source": [
    "### - 1.2 FLOW.mdを作成する"
   ]
  },
  {
   "cell_type": "code",
   "execution_count": null,
   "metadata": {
    "hidden": true
   },
   "outputs": [],
   "source": [
    "from IPython.display import Markdown\n",
    "%cd /home/jovyan/WORKFLOW\n",
    "%run scripts/nb_utils.py\n",
    "%cd FLOW\n",
    "md_list = [\n",
    "    '## フロー支援機能の使い方',\n",
    "    '「ワークフロー実行準備」を最初に実行したあと、研究準備フェーズから実験期フェーズ、実験終了後フェーズの順に進んでください。<br>各フェーズでは、リンクを押下して、表示される画面の手順に沿って実行することでワークフローを実施できます。  ',\n",
    "    '以下で流れを確認してから、ワークフロー実施に移ってください。'\n",
    "    '[![関連図](../images/notebooks.svg)](../images/notebooks.svg)',\n",
    "    '## 0. ワークフローを実行するための準備をする',\n",
    "    '次のフェーズに進む前に必ず実行する必要があります。<br>ワークフロー機能を使うのが初めての場合は、「FLOWの立ち上げ毎に実行」、「初回立ち上げ時のみ実行」の順にで実行してください。<br>2回目以降は、ワークフロー機能を実行する前に「FLOWの立ち上げ毎に実行」を実行してください。',\n",
    "    str(notebooks_toc('util')),\n",
    "    '## 1. 研究準備フェーズ',\n",
    "    '研究準備フェーズでは実験前の準備をサポートします。',\n",
    "    str(notebooks_toc('01_preparation_phase')),\n",
    "    '## 2. 実験期フェーズ',\n",
    "    '実験期フェーズでは実験の開始から、複数の実験の再現性の確認などをサポートします。<br>まずは、「実験を開始する」から実験を作成してください。実験の終了後、複数の実験の再現性を確認したいタイミングで「実験パイプラインをチェックする」「実験パイプラインを実行する」を実行してください。',\n",
    "    str(notebooks_toc('02_experimental_phase')),\n",
    "    '## 3 実験終了後フェーズ',\n",
    "    '実験終了後フェーズでは研究成果の公開をサポートします。',\n",
    "    str(notebooks_toc('03_after_research_phase'))\n",
    "]\n",
    "%cd ~/\n",
    "with open('WORKFLOW/FLOW/FLOW.md', 'w') as f:\n",
    "    f.write('\\n'.join(md_list))"
   ]
  },
  {
   "cell_type": "markdown",
   "metadata": {},
   "source": [
    "## 2.作成したFLOWに遷移する\n",
    "\n",
    "以下のセルを実行すると表示されるリンクをクリックしてFLOWに遷移してください。"
   ]
  },
  {
   "cell_type": "code",
   "execution_count": null,
   "metadata": {},
   "outputs": [],
   "source": [
    "import os\n",
    "print(\"https://jupyter.cs.rcos.nii.ac.jp\" + os.environ[\"JUPYTERHUB_SERVICE_PREFIX\"] + \"notebooks/WORKFLOW/FLOW/FLOW.md\")"
   ]
  }
 ],
 "metadata": {
  "kernelspec": {
   "display_name": "Python 3 (ipykernel)",
   "language": "python",
   "name": "python3"
  },
  "language_info": {
   "codemirror_mode": {
    "name": "ipython",
    "version": 3
   },
   "file_extension": ".py",
   "mimetype": "text/x-python",
   "name": "python",
   "nbconvert_exporter": "python",
   "pygments_lexer": "ipython3",
   "version": "3.7.10"
  }
 },
 "nbformat": 4,
 "nbformat_minor": 4
}
