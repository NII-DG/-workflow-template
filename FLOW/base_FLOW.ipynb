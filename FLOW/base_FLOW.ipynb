{
 "cells": [
  {
   "cell_type": "markdown",
   "id": "b6e6fa62",
   "metadata": {},
   "source": [
    "# ワークフロー機能トップページ\n",
    "\n",
    "研究プロセスで生じる研究者のタスクを半機械的に実行支援します。  \n",
    "ワークフロー機能では、研究プロセスを研究準備、実験期、実験終了後というフェーズに大別し、それぞれのフェーズの特徴に沿ったタスクの実行支援を用意しています。  \n",
    "また、個々のタスクの実行支援は、Jupyter Notebook形式で機械的に実行可能な手順書として記述されているため、柔軟に手順を修正いただけます。 \n"
   ]
  },
  {
   "cell_type": "markdown",
   "id": "ab1b456b",
   "metadata": {},
   "source": [
    "## ワークフロー機能の使い方\n",
    "\n",
    "「0.ワークフロー機能を実行するための準備をする」を最初に実行したあと、研究準備フェーズから実験期フェーズ、実験終了後フェーズの順に必要なワークフローを実行してください。  \n",
    "0フェーズを実行した後は、お好きなタイミングでワークフロー機能を中断可能です。再度ワークフロー機能を利用する際は、研究リポジトリのREADME.mdにあるリンクをクリックしてください。  \n",
    "また、全てのワークフローを実行する必要はありません。  \n",
    "「フェーズの概要」を確認後、セルを実行してワークフロー図を作成してください。  "
   ]
  },
  {
   "cell_type": "markdown",
   "id": "4b5bd2b2",
   "metadata": {},
   "source": [
    "## フェーズの概要"
   ]
  },
  {
   "cell_type": "markdown",
   "id": "d27970ec",
   "metadata": {},
   "source": [
    "### 0. ワークフロー機能を実行するための準備をする\n",
    "\n",
    "次のフェーズに進む前に必ず実行する必要があります。  \n",
    "ワークフロー機能を使うのが初めての場合は、「初期セットアップを行う」、「起動毎に必要な準備を行う」の順に実行してください。  \n",
    "2回目以降でワークフロー機能にREADMEのリンクからではなく、以下のmaDMP実行環境への遷移ボタンから遷移した場合は、ワークフロー機能を実行する前に「起動毎に必要な準備を行う」を実行してください。  \n",
    "![maDMP実行ボタン](https://raw.githubusercontent.com/NII-DG/workflow-template/develop/sections/images/maDMP実行ボタン.png)"
   ]
  },
  {
   "cell_type": "markdown",
   "id": "65dbb0c0",
   "metadata": {},
   "source": [
    "### 1. 研究準備フェーズ\n",
    "\n",
    "研究準備フェーズでは実験前の準備をサポートします。"
   ]
  },
  {
   "cell_type": "markdown",
   "id": "7883887f",
   "metadata": {},
   "source": [
    "### 2. 実験フェーズ\n",
    "\n",
    "実験フェーズでは実験の開始から、複数の実験の再現性の確認などをサポートします。<br>まずは、「実験を開始する」から実験を作成してください。複数の実験の終了後、再現性を確認したいタイミングで「モニタリングを実施する」を実行してください。"
   ]
  },
  {
   "cell_type": "markdown",
   "id": "4e056777",
   "metadata": {},
   "source": [
    "### 3 実験終了後フェーズ\n",
    "\n",
    "実験終了後フェーズでは研究成果の公開をサポートします。"
   ]
  }
 ],
 "metadata": {
  "kernelspec": {
   "display_name": "Python 3 (ipykernel)",
   "language": "python",
   "name": "python3"
  },
  "language_info": {
   "codemirror_mode": {
    "name": "ipython",
    "version": 3
   },
   "file_extension": ".py",
   "mimetype": "text/x-python",
   "name": "python",
   "nbconvert_exporter": "python",
   "pygments_lexer": "ipython3",
   "version": "3.7.10"
  }
 },
 "nbformat": 4,
 "nbformat_minor": 5
}
