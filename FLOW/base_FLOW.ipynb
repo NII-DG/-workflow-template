{
 "cells": [
  {
   "cell_type": "markdown",
   "metadata": {},
   "source": [
    "# FLOW\n",
    "\n",
    "研究の準備、実施、公開までの研究者のワークフローを支援します。  \n",
    "以下のセルを実行してフローの目次を生成してください。"
   ]
  },
  {
   "cell_type": "code",
   "execution_count": null,
   "metadata": {
    "scrolled": false
   },
   "outputs": [],
   "source": [
    "from IPython.display import Markdown\n",
    "%cd ~/\n",
    "%run scripts/nb_utils.py\n",
    "%cd ~/FLOW\n",
    "display(Markdown('## フロー支援機能の使い方'))\n",
    "display(Markdown('「0.データガバナンス機能と連携する」を最初に実行したあと、研究準備フェーズから実験期フェーズ、実験終了後フェーズの順に進んでください。<br>各フェーズでは、リンクを押下して、表示される画面の手順に沿って実行することでワークフローを実施できます。'))\n",
    "display(Markdown('## 0. ワークフローを実行するための準備をする'))\n",
    "display(Markdown('次のフェーズに進む前に必ず実行する必要があります。<br>ワークフロー機能を使うのが初めての場合は、「FLOWの立ち上げ毎に実行」、「初回立ち上げ時のみ実行」の順にで実行してください。<br>2回目以降は、ワークフロー機能を実行する前に「FLOWの立ち上げ毎に実行」を実行してください。'))\n",
    "display(Markdown(notebooks_toc('util')))\n",
    "display(Markdown('## 1. 研究準備フェーズ'))\n",
    "display(Markdown('研究準備フェーズでは実験前の準備をサポートします。'))\n",
    "display(Markdown(notebooks_toc('01_preparation_phase')))\n",
    "display(Markdown('## 2. 実験期フェーズ'))\n",
    "display(Markdown('実験期フェーズでは実験の開始から、複数の実験の再現性の確認などをサポートします。<br>まずは、「実験を開始する」から実験を作成してください。実験の終了後、複数の実験の再現性を確認したいタイミングで「実験パイプラインをチェックする」「実験パイプラインを実行する」を実行してください。'))\n",
    "display(Markdown(notebooks_toc('02_experimental_phase')))\n",
    "display(Markdown('## 3 実験終了後フェーズ'))\n",
    "display(Markdown('実験終了後フェーズでは研究成果の公開をサポートします。'))\n",
    "display(Markdown(notebooks_toc('03_after_research_phase')))"
   ]
  }
 ],
 "metadata": {
  "kernelspec": {
   "display_name": "Python 3",
   "language": "python",
   "name": "python3"
  },
  "language_info": {
   "codemirror_mode": {
    "name": "ipython",
    "version": 3
   },
   "file_extension": ".py",
   "mimetype": "text/x-python",
   "name": "python",
   "nbconvert_exporter": "python",
   "pygments_lexer": "ipython3",
   "version": "3.7.8"
  }
 },
 "nbformat": 4,
 "nbformat_minor": 4
}
