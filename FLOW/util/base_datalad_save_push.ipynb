{
 "cells": [
  {
   "cell_type": "markdown",
   "metadata": {},
   "source": [
    "# ワークフロー実行結果を書き戻す\n",
    "\n",
    "このノートブックでは、変更内容をGINリポジトリに書き戻します。  \n",
    "※各タスクのセルでpapermillによって自動実行されるノートブックなので手作業での実施は非推奨です。"
   ]
  },
  {
   "cell_type": "code",
   "execution_count": null,
   "metadata": {
    "tags": [
     "parameters"
    ]
   },
   "outputs": [],
   "source": [
    "SIBLING_NAME = 'gin'\n",
    "SAVE_MESSAGE = '[GIN] modify on binder'\n",
    "PATH = '/home/jovyan'\n",
    "IS_RECURSIVE = True\n",
    "TO_GIT = False\n",
    "RESULT_RENDERER = 'default'\n",
    "UNLOCK = True\n",
    "REMOVE_PUSH_PATH = False"
   ]
  },
  {
   "cell_type": "markdown",
   "metadata": {},
   "source": [
    "## 1.変更内容を書き戻す"
   ]
  },
  {
   "cell_type": "code",
   "execution_count": null,
   "metadata": {},
   "outputs": [],
   "source": [
    "from datalad import api\n",
    "import traceback\n",
    "import requests\n",
    "import json\n",
    "import os\n",
    "\n",
    "DATALAD_MESSAGE = ''\n",
    "DATALAD_ERROR = ''\n",
    "CONNECT_REPO_ERROR = 'リポジトリに接続できません。リポジトリが存在しているか確認してください。'\n",
    "CONFLICT_ERROR = 'リポジトリ側の変更と競合しました。競合を解決してください。'\n",
    "PUSH_ERROR = 'リポジトリへの同期に失敗しました。'\n",
    "SUCCESS = 'データ同期が完了しました。次の処理にお進みください。'\n",
    "\n",
    "def push(DATALAD_MESSAGE, DATALAD_ERROR):\n",
    "    # git annex unlock & push\n",
    "    try:\n",
    "        if UNLOCK:\n",
    "            api.unlock(PATH)\n",
    "        else:\n",
    "            pass\n",
    "        if REMOVE_PUSH_PATH:\n",
    "            api.push(to=SIBLING_NAME, result_renderer=RESULT_RENDERER, recursive=IS_RECURSIVE)\n",
    "        else:\n",
    "            api.push(to=SIBLING_NAME, result_renderer=RESULT_RENDERER, path=PATH, recursive=IS_RECURSIVE)\n",
    "    except:\n",
    "        DATALAD_ERROR = traceback.format_exc()\n",
    "        DATALAD_MESSAGE = PUSH_ERROR\n",
    "    else:\n",
    "        DATALAD_MESSAGE = SUCCESS\n",
    "    finally:\n",
    "        return DATALAD_MESSAGE, DATALAD_ERROR\n"
   ]
  },
  {
   "cell_type": "code",
   "execution_count": null,
   "metadata": {},
   "outputs": [],
   "source": [
    "from datalad import api\n",
    "import traceback\n",
    "import os\n",
    "\n",
    "# add & commit & pull\n",
    "try:\n",
    "    api.save(message=SAVE_MESSAGE, path=PATH, recursive=IS_RECURSIVE, to_git=TO_GIT)\n",
    "    api.update(path=PATH, sibling=SIBLING_NAME, how='merge')\n",
    "except:\n",
    "    DATALAD_ERROR = traceback.format_exc()\n",
    "    # リモートへの接続エラー\n",
    "    if 'Repository does not exist:' in DATALAD_ERROR:\n",
    "        try:\n",
    "            # リモートリポジトリのURLを最新化する\n",
    "            os.chdir('/home/jovyan/WORKFLOWS/FLOW/')\n",
    "            from util.scripts import utils\n",
    "            utils.update_repo_url()\n",
    "            os.chdir(os.environ['HOME'])\n",
    "        except:\n",
    "            # リポジトリ自体が無いときなど\n",
    "            DATALAD_MESSAGE = CONNECT_REPO_ERROR\n",
    "        else:\n",
    "            # エラーを解消し、再度、同期処理を行う\n",
    "            DATALAD_ERROR = ''\n",
    "            try:\n",
    "                api.update(path=PATH, sibling=SIBLING_NAME, how='merge')\n",
    "            except:\n",
    "                DATALAD_ERROR = traceback.format_exc()\n",
    "                DATALAD_MESSAGE = CONFLICT_ERROR\n",
    "            else:\n",
    "                DATALAD_MESSAGE, DATALAD_ERROR = push(DATALAD_MESSAGE, DATALAD_ERROR)\n",
    "    else:\n",
    "        DATALAD_MESSAGE = CONFLICT_ERROR\n",
    "else:\n",
    "    DATALAD_MESSAGE, DATALAD_ERROR = push(DATALAD_MESSAGE, DATALAD_ERROR)\n",
    "finally:\n",
    "    # 実行結果を格納する\n",
    "    %store DATALAD_MESSAGE\n",
    "    %store DATALAD_ERROR"
   ]
  }
 ],
 "metadata": {
  "celltoolbar": "Tags",
  "kernelspec": {
   "display_name": "Python 3.9.5 64-bit",
   "language": "python",
   "name": "python3"
  },
  "language_info": {
   "codemirror_mode": {
    "name": "ipython",
    "version": 3
   },
   "file_extension": ".py",
   "mimetype": "text/x-python",
   "name": "python",
   "nbconvert_exporter": "python",
   "pygments_lexer": "ipython3",
   "version": "3.9.5"
  },
  "vscode": {
   "interpreter": {
    "hash": "6a196852dad78838558c3d25678ed4fa7922e766dc7a8a519a679191ca8fa666"
   }
  }
 },
 "nbformat": 4,
 "nbformat_minor": 4
}
