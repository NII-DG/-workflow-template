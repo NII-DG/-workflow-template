{
 "cells": [
  {
   "cell_type": "markdown",
   "metadata": {},
   "source": [
    "# ワークフロー実行結果を書き戻す\n",
    "\n",
    "このノートブックでは、変更内容をGINリポジトリに書き戻します。  \n",
    "※各セクションのセルでpapermillによって自動実行されるノートブックなので手作業での実施は非推奨です。"
   ]
  },
  {
   "cell_type": "code",
   "execution_count": null,
   "metadata": {
    "tags": [
     "parameters"
    ]
   },
   "outputs": [],
   "source": [
    "SIBLING_NAME = 'gin'\n",
    "SAVE_MESSAGE = '[GIN] modify on binder'\n",
    "PATH = '/home/jovyan'\n",
    "IS_RECURSIVE = True\n",
    "TO_GIT = False\n",
    "RESULT_RENDERER = 'default'\n",
    "UNLOCK = True\n",
    "REMOVE_PUSH_PATH = False"
   ]
  },
  {
   "cell_type": "markdown",
   "metadata": {},
   "source": [
    "## 1.変更内容を書き戻す"
   ]
  },
  {
   "cell_type": "code",
   "execution_count": null,
   "metadata": {},
   "outputs": [],
   "source": [
    "from datalad import api\n",
    "import traceback\n",
    "\n",
    "DATALAD_MESSAGE = ''\n",
    "DATALAD_ERROR = ''\n",
    "\n",
    "try:\n",
    "    # Jupyter環境の変更をコミットしてから、リポジトリの更新内容をマージする\n",
    "    api.save(message=SAVE_MESSAGE, path=PATH, recursive=IS_RECURSIVE, to_git=TO_GIT)\n",
    "    api.update(path=PATH, sibling=SIBLING_NAME, how='merge')\n",
    "except:\n",
    "    DATALAD_ERROR = traceback.format_exc()\n",
    "    DATALAD_MESSAGE = 'リポジトリ側の変更と競合しました。競合を解決してください。'\n",
    "else:\n",
    "    try:\n",
    "        # リポジトリにJupyter環境の更新をプッシュする\n",
    "        if UNLOCK:\n",
    "            api.unlock(PATH)\n",
    "        else:\n",
    "            pass\n",
    "        if REMOVE_PUSH_PATH:\n",
    "            api.push(to=SIBLING_NAME, result_renderer=RESULT_RENDERER, recursive=IS_RECURSIVE)\n",
    "        else:\n",
    "            api.push(to=SIBLING_NAME, result_renderer=RESULT_RENDERER, path=PATH, recursive=IS_RECURSIVE)\n",
    "    except:\n",
    "        DATALAD_ERROR = traceback.format_exc()\n",
    "        DATALAD_MESSAGE = 'リポジトリへの同期に失敗しました。'\n",
    "    else:\n",
    "        DATALAD_MESSAGE = 'データ同期が完了しました。次の処理にお進みください。'\n",
    "finally:\n",
    "    # 実行結果を格納する\n",
    "    %store DATALAD_MESSAGE\n",
    "    %store DATALAD_ERROR"
   ]
  }
 ],
 "metadata": {
  "celltoolbar": "Tags",
  "kernelspec": {
   "display_name": "Python 3 (ipykernel)",
   "language": "python",
   "name": "python3"
  },
  "language_info": {
   "codemirror_mode": {
    "name": "ipython",
    "version": 3
   },
   "file_extension": ".py",
   "mimetype": "text/x-python",
   "name": "python",
   "nbconvert_exporter": "python",
   "pygments_lexer": "ipython3",
   "version": "3.7.10"
  }
 },
 "nbformat": 4,
 "nbformat_minor": 4
}
