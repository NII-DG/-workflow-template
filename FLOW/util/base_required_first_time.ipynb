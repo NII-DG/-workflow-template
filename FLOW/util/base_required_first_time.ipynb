{
 "cells": [
  {
   "cell_type": "markdown",
   "metadata": {},
   "source": [
    "# 初期セットアップを行う\n",
    "\n",
    "ワークフロー実行のための準備を行います。本手順は、研究プロジェクト毎に一度だけ実行してください。  \n",
    "以下の手順に則り、作業を進めてください。"
   ]
  },
  {
   "cell_type": "markdown",
   "metadata": {
    "heading_collapsed": true
   },
   "source": [
    "## 1. 必要な処理を一括実行する\n",
    "\n",
    "下に表示されている矢印ボタンをクリックし、ワークフロー実行のために必要な処理を一括実行してください。"
   ]
  },
  {
   "cell_type": "markdown",
   "metadata": {
    "hidden": true
   },
   "source": [
    "### - 1.1 Git管理対象外ファイルを.gitignoreで設定する"
   ]
  },
  {
   "cell_type": "code",
   "execution_count": null,
   "metadata": {
    "hidden": true
   },
   "outputs": [],
   "source": [
    "%%sh\n",
    "#!/bin/bash\n",
    "\n",
    "if [ ! -f ~/.gitignore ]; then  # .gitignoreファイルがなければ作成\n",
    "\n",
    "echo \"\n",
    "/.cache/\n",
    "/.conda/\n",
    "/.config/\n",
    "/.ipython/\n",
    "/.local/\n",
    "/.tmp/\n",
    "/.bashrc\n",
    "/.bash_logout\n",
    "/.profile\n",
    "/.netrc\n",
    ".ipynb_checkpoints/\n",
    ".fonts/\n",
    ".jupyter/\n",
    ".npm/\n",
    ".ssh/\n",
    ".jupyter-server-log.txt\n",
    ".gitconfig\n",
    "\" >> ~/.gitignore\n",
    "\n",
    "fi"
   ]
  },
  {
   "cell_type": "markdown",
   "metadata": {
    "hidden": true
   },
   "source": [
    "### - 1.2 実験記録管理の準備を行う"
   ]
  },
  {
   "cell_type": "code",
   "execution_count": null,
   "metadata": {
    "hidden": true
   },
   "outputs": [],
   "source": [
    "%%sh\n",
    "#!/bin/bash\n",
    "if [ ! -d ~/experiments/ ]; then\n",
    "    # 実験配置用ディレクトリがなければ作成\n",
    "    mkdir ~/experiments\n",
    "fi\n",
    "\n",
    "if [ ! -f ~/experiments/pipeline.json ]; then\n",
    "    # pipeline.jsonがなければ初期化\n",
    "    echo \"[]\" > ~/experiments/pipeline.json\n",
    "fi"
   ]
  },
  {
   "cell_type": "markdown",
   "metadata": {
    "hidden": true
   },
   "source": [
    "### - 1.3 実験パッケージに必要なファイルを追加する"
   ]
  },
  {
   "cell_type": "code",
   "execution_count": null,
   "metadata": {
    "hidden": true
   },
   "outputs": [],
   "source": [
    "%cd ~/\n",
    "\n",
    "path_base_package = 'WORKFLOW/PACKAGE/base'\n",
    "\n",
    "if not os.path.exists(path_base_package + '/.gitignore'):\n",
    "    !cp .gitignore $path_base_package/.gitignore\n",
    "\n",
    "if not os.path.exists(path_base_package + '/EX-WORKFLOW/param_files'):\n",
    "    !mkdir -p $path_base_package/EX-WORKFLOW/param_files\n",
    "    !cp WORKFLOW/FLOW/param_files/params.json $path_base_package/EX-WORKFLOW/param_files/params.json\n",
    "\n",
    "if not os.path.exists(path_base_package + '/EX-WORKFLOW/util/base_datalad_save_push.ipynb'):\n",
    "    !cp WORKFLOW/FLOW/util/base_datalad_save_push.ipynb $path_base_package/EX-WORKFLOW/util/base_datalad_save_push.ipynb\n",
    "\n",
    "if not os.path.exists(path_base_package + '/Dockerfile'):\n",
    "    !cp Dockerfile $path_base_package/Dockerfile"
   ]
  },
  {
   "cell_type": "markdown",
   "metadata": {
    "hidden": true
   },
   "source": [
    "### - 1.4 画面遷移前にNotebookを保存する"
   ]
  },
  {
   "cell_type": "code",
   "execution_count": null,
   "metadata": {
    "hidden": true
   },
   "outputs": [],
   "source": [
    "from IPython.display import display, Javascript\n",
    "from scripts import utils\n",
    "\n",
    "display(Javascript('IPython.notebook.save_checkpoint();'))"
   ]
  },
  {
   "cell_type": "markdown",
   "metadata": {},
   "source": [
    "## 2. 次の処理に進む\n",
    "\n",
    "データガバナンス機能のユーザ認証・データ同期の設定のために、[こちら](./base_required_every_time.ipynb)をクリックして画面遷移してください。  \n",
    "※遷移して処理を完了するまで、変更内容はデータガバナンス機能へ同期されません。ご注意ください。"
   ]
  }
 ],
 "metadata": {
  "kernelspec": {
   "display_name": "Python 3 (ipykernel)",
   "language": "python",
   "name": "python3"
  },
  "language_info": {
   "codemirror_mode": {
    "name": "ipython",
    "version": 3
   },
   "file_extension": ".py",
   "mimetype": "text/x-python",
   "name": "python",
   "nbconvert_exporter": "python",
   "pygments_lexer": "ipython3",
   "version": "3.9.7"
  }
 },
 "nbformat": 4,
 "nbformat_minor": 4
}
