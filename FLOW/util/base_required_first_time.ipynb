{
 "cells": [
  {
   "cell_type": "markdown",
   "metadata": {},
   "source": [
    "# 初回のみ必要な準備を行う\n",
    "\n",
    "ワークフロー実行のための準備を行います。FLOWの立ち上げの初回のみ、「起動毎に必要な準備を行う」の後に実行してください。  \n",
    "上から順番に実行してください。"
   ]
  },
  {
   "cell_type": "markdown",
   "metadata": {
    "heading_collapsed": true
   },
   "source": [
    "## 1.ワークフロー実行準備を行う"
   ]
  },
  {
   "cell_type": "markdown",
   "metadata": {
    "hidden": true
   },
   "source": [
    "### - 1.1  Dataladを使用するためにこのリポジトリをデータセットとする"
   ]
  },
  {
   "cell_type": "code",
   "execution_count": null,
   "metadata": {
    "hidden": true
   },
   "outputs": [],
   "source": [
    "%%sh\n",
    "cd ~/\n",
    "datalad create --force"
   ]
  },
  {
   "cell_type": "markdown",
   "metadata": {
    "hidden": true
   },
   "source": [
    "### - 1.2 Git管理対象外ファイルを.gitignoreで設定する"
   ]
  },
  {
   "cell_type": "code",
   "execution_count": null,
   "metadata": {
    "hidden": true
   },
   "outputs": [],
   "source": [
    "%%sh\n",
    "cd ~/\n",
    "echo \"\n",
    "/.cache/\n",
    "/.conda/\n",
    "/.config/\n",
    "/.ipython/\n",
    "/.local/\n",
    "/.tmp/\n",
    "/.bashrc\n",
    "/.bash_logout\n",
    "/.profile\n",
    "/.netrc\n",
    ".ipynb_checkpoints/\n",
    "\" > ~/.gitignore"
   ]
  },
  {
   "cell_type": "markdown",
   "metadata": {
    "hidden": true
   },
   "source": [
    "### - 1.3 実験用フォルダを作成し、その中にpipeline.jsonを用意する"
   ]
  },
  {
   "cell_type": "code",
   "execution_count": null,
   "metadata": {
    "hidden": true
   },
   "outputs": [],
   "source": [
    "%%sh\n",
    "cd ~/\n",
    "mkdir ~/experiments\n",
    "echo \"[]\" > ~/experiments/pipeline.json"
   ]
  },
  {
   "cell_type": "markdown",
   "metadata": {
    "hidden": true
   },
   "source": [
    "### - 1.4 必要なファイルをPACKAGEテンプレートに追加する"
   ]
  },
  {
   "cell_type": "code",
   "execution_count": null,
   "metadata": {
    "hidden": true
   },
   "outputs": [],
   "source": [
    "%cd ~/\n",
    "!cp .gitconfig WORKFLOW/PACKAGE/.gitconfig\n",
    "!cp .gitignore WORKFLOW/PACKAGE/.gitignore\n",
    "!echo -e \"channels:\\n  - conda-forge\\n  - defaults\\ndependencies:\\n  -datalad\" >> /home/jovyan/WORKFLOW/PACKAGE/environment.yml"
   ]
  },
  {
   "cell_type": "markdown",
   "metadata": {
    "hidden": true
   },
   "source": [
    "### - 1.5 研究リポジトリのREADMEにこの環境のリンクを追加する"
   ]
  },
  {
   "cell_type": "code",
   "execution_count": null,
   "metadata": {
    "hidden": true
   },
   "outputs": [],
   "source": [
    "import os\n",
    "%cd ~/\n",
    "with open('README.md', 'a', newline='\\n') as f:\n",
    "    f.write(\"\\n## ワークフロー実行が2回目以降の場合\\nワークフロー実行環境へ遷移する場合は以下のリンクをクリックしてください<br>https://jupyter.cs.rcos.nii.ac.jp\" + os.environ[\"JUPYTERHUB_SERVICE_PREFIX\"] + \"notebooks/WORKFLOW/FLOW/generate_FLOW.ipynb\")"
   ]
  },
  {
   "cell_type": "markdown",
   "metadata": {
    "hidden": true
   },
   "source": [
    "### - 1.6 このノートブックを保存する"
   ]
  },
  {
   "cell_type": "code",
   "execution_count": null,
   "metadata": {
    "hidden": true
   },
   "outputs": [],
   "source": [
    "from IPython.display import display, Javascript\n",
    "display(Javascript('IPython.notebook.save_checkpoint();'))"
   ]
  },
  {
   "cell_type": "markdown",
   "metadata": {
    "hidden": true
   },
   "source": [
    "### - 1.7 実行結果をデータガバナンス機能に反映する"
   ]
  },
  {
   "cell_type": "code",
   "execution_count": null,
   "metadata": {
    "hidden": true
   },
   "outputs": [],
   "source": [
    "%cd ~/\n",
    "!datalad save --to-git -m \"save\"\n",
    "!datalad push"
   ]
  }
 ],
 "metadata": {
  "kernelspec": {
   "display_name": "Python 3 (ipykernel)",
   "language": "python",
   "name": "python3"
  },
  "language_info": {
   "codemirror_mode": {
    "name": "ipython",
    "version": 3
   },
   "file_extension": ".py",
   "mimetype": "text/x-python",
   "name": "python",
   "nbconvert_exporter": "python",
   "pygments_lexer": "ipython3",
   "version": "3.7.10"
  }
 },
 "nbformat": 4,
 "nbformat_minor": 4
}
