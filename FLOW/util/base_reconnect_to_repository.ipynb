{
 "cells": [
  {
   "cell_type": "markdown",
   "metadata": {},
   "source": [
    "# GIN-forkリポジトリと再接続する\n",
    "\n",
    "このタスクでは、リポジトリ名の更新によって切れてしまった研究リポジトリとの接続を回復します。  \n",
    "初期セットアップタスクで`リポジトリに接続できません。リポジトリ名が更新されたため接続が切れている可能性があります。\n",
    "こちらのFAQを参考に再接続をしてから、再度このセルを実行して下さい。`と表示された場合に実行してください。  \n",
    "上から順番に全てのセルを実行してください。"
   ]
  },
  {
   "cell_type": "markdown",
   "metadata": {},
   "source": [
    "## 1. GIN-forkから該当リポジトリの最新のHTTP URLをコピーし、以下のセルを実行した後に表示されるテキストボックスに入力する\n",
    "\n",
    "※入力に誤りがある場合は、再度以下のセルを実行して下さい。"
   ]
  },
  {
   "cell_type": "markdown",
   "metadata": {},
   "source": [
    "最新のHTTP URLは、リポジトリトップ画面の以下からコピーできます。\n",
    "<img src=\"../../../../files/WORKFLOWS/images/GetHttpUrl.png\" width=\"800px\">"
   ]
  },
  {
   "cell_type": "code",
   "execution_count": null,
   "metadata": {},
   "outputs": [],
   "source": [
    "from ipywidgets import Text, Button, Layout\n",
    "from IPython.display import clear_output\n",
    "\n",
    "style = {'description_width': 'initial'}\n",
    "\n",
    "def on_click_callback(clicked_button: Button) -> None:\n",
    "    global latest_repo_url\n",
    "    latest_repo_url = text.value\n",
    "    clear_output()\n",
    "    print('入力を受け付けました。URL：' + latest_repo_url)\n",
    "\n",
    "text = Text(\n",
    "    description='該当リポジトリの最新のHTTP URL：',\n",
    "    placeholder='http://dg02.dg.rcos.nii.ac.jp/owner_name/repository_title.git',\n",
    "    layout=Layout(width='650px'),\n",
    "    style=style\n",
    ")\n",
    "button = Button(description='入力完了')\n",
    "button.on_click(on_click_callback)\n",
    "text.on_submit(on_click_callback)\n",
    "display(text, button)"
   ]
  },
  {
   "cell_type": "markdown",
   "metadata": {},
   "source": [
    "## 2. 入力されたURLでリポジトリとの接続設定を更新する"
   ]
  },
  {
   "cell_type": "code",
   "execution_count": null,
   "metadata": {},
   "outputs": [],
   "source": [
    "from datalad import api\n",
    "from IPython.display import clear_output\n",
    "\n",
    "api.siblings(action='configure', name='origin', url=latest_repo_url)\n",
    "clear_output()\n",
    "print('接続設定の更新が完了しました。処理はこれで終わりですので元の処理にお戻りください。')"
   ]
  }
 ],
 "metadata": {
  "kernelspec": {
   "display_name": "Python 64-bit ('.')",
   "language": "python",
   "name": "python3"
  },
  "language_info": {
   "name": "python",
   "version": ""
  },
  "orig_nbformat": 4,
  "vscode": {
   "interpreter": {
    "hash": "8a5edab282632443219e051e4ade2d1d5bbc671c781051bf1437897cbdfea0f1"
   }
  }
 },
 "nbformat": 4,
 "nbformat_minor": 2
}
