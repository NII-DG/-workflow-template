{
 "cells": [
  {
   "cell_type": "markdown",
   "metadata": {},
   "source": [
    "# 初回FLOW立ち上げ時に必要な準備を行う\n",
    "\n",
    "ワークフロー実行のための準備を行います。FLOWの立ち上げの初回のみ、「FLOWの立ち上げ毎に実行」の後に実行してください。  \n",
    "上から順番に実行してください。"
   ]
  },
  {
   "cell_type": "markdown",
   "metadata": {
    "heading_collapsed": true
   },
   "source": [
    "## 1.ワークフロー実行準備を行う"
   ]
  },
  {
   "cell_type": "markdown",
   "metadata": {
    "hidden": true
   },
   "source": [
    "### - 1.1  Dataladを使用するためにこのリポジトリをデータセットとする"
   ]
  },
  {
   "cell_type": "code",
   "execution_count": null,
   "metadata": {},
   "outputs": [],
   "source": [
    "%%sh\n",
    "conda activate notebook\n",
    "conda install datalad==0.15.4\n",
    "conda install papermill==2.3.3\n",
    "conda install black==21.12b0"
   ]
  },
  {
   "cell_type": "code",
   "execution_count": null,
   "metadata": {
    "hidden": true
   },
   "outputs": [],
   "source": [
    "%%sh\n",
    "cd ~/\n",
    "datalad create --force"
   ]
  },
  {
   "cell_type": "markdown",
   "metadata": {
    "hidden": true
   },
   "source": [
    "### - 1.2 Git管理対象外ファイルを.gitignoreで設定する"
   ]
  },
  {
   "cell_type": "code",
   "execution_count": null,
   "metadata": {
    "hidden": true
   },
   "outputs": [],
   "source": [
    "%%sh\n",
    "\n",
    "echo \"\n",
    "/.cache/\n",
    "/.conda/\n",
    "/.config/\n",
    "/.ipython/\n",
    "/.local/\n",
    "/.tmp/\n",
    "/.bashrc\n",
    "/.bash_logout\n",
    "/.profile\n",
    "/.netrc\n",
    ".ipynb_checkpoints/\n",
    ".fonts/\n",
    ".jupyter/\n",
    ".npm/\n",
    ".ssh/\n",
    ".jupyter-server-log.txt\n",
    "\" > ~/.gitignore"
   ]
  },
  {
   "cell_type": "markdown",
   "metadata": {
    "hidden": true
   },
   "source": [
    "### - 1.3 実験用フォルダを作成し、その中にpipeline.jsonを用意する"
   ]
  },
  {
   "cell_type": "code",
   "execution_count": null,
   "metadata": {
    "hidden": true
   },
   "outputs": [],
   "source": [
    "%%sh\n",
    "mkdir ~/experiments\n",
    "echo \"[]\" > ~/experiments/pipeline.json"
   ]
  },
  {
   "cell_type": "markdown",
   "metadata": {
    "hidden": true
   },
   "source": [
    "### - 1.4 必要なファイルをPACKAGEテンプレートに追加する"
   ]
  },
  {
   "cell_type": "code",
   "execution_count": null,
   "metadata": {
    "hidden": true
   },
   "outputs": [],
   "source": [
    "# !cd ~/\n",
    "# !cp ~/.gitconfig ~/WORKFLOW/PACKAGE/.gitconfig\n",
    "!cp ~/.gitignore ~/WORKFLOW/PACKAGE/.gitignore\n",
    "!echo -e \"channels:\\n  - conda-forge\\n  - defaults\\ndependencies:\\n  -datalad\" >> /home/jovyan/WORKFLOW/PACKAGE/environment.yml"
   ]
  },
  {
   "cell_type": "markdown",
   "metadata": {
    "hidden": true
   },
   "source": [
    "### - 1.5 このノートブックを保存する"
   ]
  },
  {
   "cell_type": "code",
   "execution_count": null,
   "metadata": {
    "hidden": true
   },
   "outputs": [],
   "source": [
    "import os\n",
    "import json\n",
    "from IPython.display import display, Javascript\n",
    "\n",
    "from scripts import utils\n",
    "\n",
    "display(Javascript('IPython.notebook.save_checkpoint();'))\n",
    "\n",
    "params = {}\n",
    "with open(utils.fetch_param_file_path(), mode='r') as f:\n",
    "    params = json.load(f)\n",
    "\n",
    "print('◆これで初期設定は完了です。続いて以下のURLをクリックし、◆\\n◆ユーザ認証・データ同期へお進みください。　　　　　　　 ◆')\n",
    "print('※以下の手続きを完了するまでは、ここでの変更はデータガバナンス機能へ同期されません。\\nご注意ください。')\n",
    "print(params[\"rcosBinderUrl\"] + os.environ['JUPYTERHUB_SERVICE_PREFIX'] + 'notebooks/WORKFLOW/FLOW/util/base_prepare_for_workflow_every_time.ipynb')"
   ]
  }
 ],
 "metadata": {
  "kernelspec": {
   "display_name": "Python 3 (ipykernel)",
   "language": "python",
   "name": "python3"
  },
  "language_info": {
   "codemirror_mode": {
    "name": "ipython",
    "version": 3
   },
   "file_extension": ".py",
   "mimetype": "text/x-python",
   "name": "python",
   "nbconvert_exporter": "python",
   "pygments_lexer": "ipython3",
   "version": "3.7.10"
  }
 },
 "nbformat": 4,
 "nbformat_minor": 4
}
