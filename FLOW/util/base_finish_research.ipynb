{
 "cells": [
  {
   "cell_type": "markdown",
   "metadata": {},
   "source": [
    "# 研究を終了する\n",
    "\n",
    "研究結果の公開などを終え、この研究を終了させる場合に実行してください。  \n",
    "ワークフロー機能やモニタリング機能の実行環境である当環境を停止・削除します。  \n",
    "\n",
    "研究ワークフロー機能トップページに戻る場合は[こちら](../../base_FLOW.ipynb)。新規タブで開きます。  "
   ]
  },
  {
   "cell_type": "markdown",
   "metadata": {},
   "source": [
    "## 0. 研究リポジトリ名を確認する  \n",
    "以下のセルを実行すると、この研究実行環境で操作する研究リポジトリ名を確認できます。  \n",
    "研究リポジトリ名が表示されない場合は研究ワークフロー機能トップページのセクション「研究リポジトリ名を確認する」のセルを実行してください。  "
   ]
  },
  {
   "cell_type": "code",
   "execution_count": null,
   "metadata": {},
   "outputs": [],
   "source": [
    "from IPython.display import display, HTML\n",
    "\n",
    "# 研究リポジトリ名を表示する\n",
    "%store -r\n",
    "if 'RESEARCH_TITLE' not in locals().keys() : RESEARCH_TITLE = '-'\n",
    "res_text = \"<h1 style='color: green'>研究リポジトリ名：%s</h1>\" % (RESEARCH_TITLE)\n",
    "display(HTML(res_text))"
   ]
  },
  {
   "cell_type": "markdown",
   "metadata": {},
   "source": [
    "## 1. この研究実行環境を停止・削除する"
   ]
  },
  {
   "cell_type": "markdown",
   "metadata": {},
   "source": [
    "### 1-1. この実行環境を確認する\n",
    "\n",
    "以下のセルを実行して実行環境のサーバー名を確認して下さい。"
   ]
  },
  {
   "cell_type": "code",
   "execution_count": null,
   "metadata": {},
   "outputs": [],
   "source": [
    "import os\n",
    "from IPython.display import display, HTML \n",
    "server_name_text = \"<h2>\" + os.environ[\"JUPYTERHUB_SERVICE_PREFIX\"].split('/')[3] + \"</h2>\" \n",
    "display(HTML(server_name_text))"
   ]
  },
  {
   "cell_type": "markdown",
   "metadata": {},
   "source": [
    "### 1-2. コントロールパネルへ遷移し、実行環境を停止・削除する\n",
    "\n",
    "[コントロールパネル](https://jupyter.cs.rcos.nii.ac.jp/hub/home)へ遷移して、`1-1`で確認したサーバーを`stop`、`delete`ボタンをクリックして停止・削除してください。  \n",
    "※`delete`ボタンは、以下の図のように`stop`ボタンをクリックした後に表示されます。  \n",
    "![コンテナ削除キャプチャ](../../../../files/WORKFLOWS/EX-WORKFLOWS/images/コンテナ削除キャプチャ.png)"
   ]
  }
 ],
 "metadata": {
  "kernelspec": {
   "display_name": "Python 3.9.5 64-bit",
   "language": "python",
   "name": "python3"
  },
  "language_info": {
   "name": "python",
   "version": "3.9.5"
  },
  "orig_nbformat": 4,
  "vscode": {
   "interpreter": {
    "hash": "6a196852dad78838558c3d25678ed4fa7922e766dc7a8a519a679191ca8fa666"
   }
  }
 },
 "nbformat": 4,
 "nbformat_minor": 2
}
