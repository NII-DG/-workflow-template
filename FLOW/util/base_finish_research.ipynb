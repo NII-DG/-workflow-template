{
 "cells": [
  {
   "attachments": {},
   "cell_type": "markdown",
   "metadata": {},
   "source": [
    "# 研究を終了する\n",
    "\n",
    "研究結果の公開などを終え、この研究を終了させる場合に実行してください。  \n",
    "リサーチフロー機能やモニタリング機能の実行環境である当環境を停止・削除します。  \n",
    "\n",
    "「研究フロートップページ」に戻る場合は[こちら](../../base_FLOW.ipynb)。新規タブで開きます。  \n",
    "\n",
    "Jupyter Notebookの操作方法については、[こちら](https://support.rdm.nii.ac.jp/usermanual/60/#jp_operation)をご覧ください。新規タブで開きます。"
   ]
  },
  {
   "attachments": {},
   "cell_type": "markdown",
   "metadata": {},
   "source": [
    "## 0. 研究リポジトリ名を確認する  \n",
    "以下のセルを実行すると、この研究実行環境で操作する研究リポジトリ名を確認できます。  "
   ]
  },
  {
   "cell_type": "code",
   "execution_count": null,
   "metadata": {},
   "outputs": [],
   "source": [
    "import os\n",
    "os.chdir('/home/jovyan/WORKFLOWS/FLOW/')\n",
    "from util.scripts import utils\n",
    "utils.show_name('green')"
   ]
  },
  {
   "attachments": {},
   "cell_type": "markdown",
   "metadata": {},
   "source": [
    "## 1. 研究実行環境を停止・削除する"
   ]
  },
  {
   "attachments": {},
   "cell_type": "markdown",
   "metadata": {},
   "source": [
    "### 1-1. READMEから実行環境へのリンクを削除する"
   ]
  },
  {
   "cell_type": "code",
   "execution_count": null,
   "metadata": {},
   "outputs": [],
   "source": [
    "import os\n",
    "import urllib\n",
    "import subprocess\n",
    "from IPython.display import clear_output\n",
    "os.chdir(os.environ['HOME'] + '/WORKFLOWS')\n",
    "from utils import display_util\n",
    "\n",
    "os.chdir(os.environ['HOME'])\n",
    "\n",
    "# READMEに遷移リンクがあれば削除してから、新しく実行環境のリンクを追記する\n",
    "path = 'README.md'\n",
    "s = ''\n",
    "http_url = subprocess.getoutput('git config --get remote.origin.url')\n",
    "with open(path, 'r') as f:\n",
    "    s = f.read()\n",
    "    s = s[:s.find('## 研究実行環境にアクセスしたい場合')]\n",
    "\n",
    "with open(path, 'w') as f:\n",
    "    f.write(s)\n",
    "\n",
    "with open(path, 'a', newline='\\n') as f:\n",
    "    f.write(\"\\n## 研究実行環境にアクセスしたい場合\")\n",
    "    f.write(\"\\n実行環境は削除されています。再度研究を実施する場合は以下のリンクをクリックして研究実行環境を再構築してください。別の環境へ移るため、新しいタブまたはウィンドウで開くことを推奨します。<br>\")\n",
    "    f.write(\"\\n再構築後は初期セットアップを再度行ってください。<br>\")\n",
    "    f.write(\"\\nhttps://binder.cs.rcos.nii.ac.jp/v2/git/\" + urllib.parse.quote(http_url, safe='') + \"/HEAD?filepath=WORKFLOWS/base_FLOW.ipynb\")\n",
    "\n",
    "clear_output()\n",
    "display_util.display_info('READMEから実行環境へのリンクを削除しました。')"
   ]
  },
  {
   "attachments": {},
   "cell_type": "markdown",
   "metadata": {},
   "source": [
    "### 1-2. READMEの変更をGIN-forkに同期する"
   ]
  },
  {
   "cell_type": "code",
   "execution_count": null,
   "metadata": {},
   "outputs": [],
   "source": [
    "from IPython.display import display, Javascript\n",
    "display(Javascript('IPython.notebook.save_checkpoint();'))"
   ]
  },
  {
   "attachments": {},
   "cell_type": "markdown",
   "metadata": {},
   "source": [
    "以下を実行して、`リポジトリ側の変更と競合しました。競合を解決してください。`と表示された場合は、[GIN-forkへの同期の失敗を解消する](../../conflict_helper.ipynb)を参照して、競合を解消してください。"
   ]
  },
  {
   "cell_type": "code",
   "execution_count": null,
   "metadata": {},
   "outputs": [],
   "source": [
    "import os\n",
    "path_flow_root = '/home/jovyan/WORKFLOWS/FLOW/'\n",
    "os.chdir(path_flow_root)\n",
    "from util.scripts import utils\n",
    "os.chdir(os.environ['HOME'])\n",
    "\n",
    "git_path = ['/home/jovyan/README.md', '/home/jovyan/WORKFLOWS/FROW/util/base_finish_research.ipynb']\n",
    "\n",
    "is_ok = utils.syncs_with_repo(git_path=git_path, gitannex_path=[], gitannex_files=[], message='[GIN] 研究実行環境を削除', get_paths=[])"
   ]
  },
  {
   "attachments": {},
   "cell_type": "markdown",
   "metadata": {},
   "source": [
    "## 2. この研究実行環境を停止・削除する"
   ]
  },
  {
   "attachments": {},
   "cell_type": "markdown",
   "metadata": {},
   "source": [
    "### 2-1. 当実行環境を確認する\n",
    "\n",
    "以下のセルを実行して実行環境のサーバー名を確認して下さい。"
   ]
  },
  {
   "cell_type": "code",
   "execution_count": null,
   "metadata": {},
   "outputs": [],
   "source": [
    "import os\n",
    "os.chdir(os.environ['HOME'] + '/WORKFLOWS')\n",
    "from utils import display_util\n",
    "display_util.display_html_msg(msg=os.environ[\"JUPYTERHUB_SERVICE_PREFIX\"].split('/')[3], tag='h2')\n",
    "\n",
    "import json, requests\n",
    "with open(utils.fetch_param_file_path(), mode='r') as f:\n",
    "    params = json.load(f)\n",
    "\n",
    "file_path = os.environ['HOME'] + '/.repository_id'\n",
    "\n",
    "with open('/home/jovyan/.token.json', 'r') as f:\n",
    "        dic = json.load(f)\n",
    "        token = dic[\"ginfork_token\"]\n",
    "\n",
    "server_name = os.environ[\"JUPYTERHUB_SERVICE_PREFIX\"].split('/')[3]\n",
    "response = requests.delete(\n",
    "    params['siblings']['ginHttp'] + f'/api/v1/container?token={token}&server_name={server_name}'\n",
    ")"
   ]
  },
  {
   "attachments": {},
   "cell_type": "markdown",
   "metadata": {},
   "source": [
    "### 2-2. コントロールパネルへ遷移し、実行環境を停止・削除する\n",
    "\n",
    "[コントロールパネル](https://jupyter.cs.rcos.nii.ac.jp/hub/home)へ遷移して、`2-1`で確認したサーバーを`stop`、`delete`ボタンをクリックして停止・削除してください。<br>\n",
    "実行環境の停止・削除後は、当実行環境にあるノートブックを操作することが出来なくなりますのでご注意ください。<br>\n",
    "※ `delete`ボタンは、以下の図のように`stop`ボタンをクリックした後に表示されます。<br>\n",
    "![コンテナ削除キャプチャ](../../EX-WORKFLOWS/images/コンテナ削除キャプチャ.png)"
   ]
  }
 ],
 "metadata": {
  "kernelspec": {
   "display_name": "Python 3.9.5 64-bit",
   "language": "python",
   "name": "python3"
  },
  "language_info": {
   "name": "python",
   "version": "3.9.5"
  },
  "orig_nbformat": 4,
  "vscode": {
   "interpreter": {
    "hash": "6a196852dad78838558c3d25678ed4fa7922e766dc7a8a519a679191ca8fa666"
   }
  }
 },
 "nbformat": 4,
 "nbformat_minor": 2
}
