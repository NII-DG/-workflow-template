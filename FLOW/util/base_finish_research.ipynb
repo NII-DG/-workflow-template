{
 "cells": [
  {
   "attachments": {},
   "cell_type": "markdown",
   "metadata": {},
   "source": [
    "# 研究を終了する\n",
    "\n",
    "研究結果の公開などを終え、この研究を終了させる場合に実行してください。  \n",
    "リサーチフロー機能やモニタリング機能の実行環境である当環境を停止・削除します。  \n",
    "\n",
    "「研究フロートップページ」に戻る場合は[こちら](../../base_FLOW.ipynb)。新規タブで開きます。  \n",
    "\n",
    "Jupyter Notebookの操作方法については、[こちら](https://support.rdm.nii.ac.jp/usermanual/60/#jp_operation)をご覧ください。新規タブで開きます。"
   ]
  },
  {
   "attachments": {},
   "cell_type": "markdown",
   "metadata": {},
   "source": [
    "## 0. 研究リポジトリ名を確認する  \n",
    "以下のセルを実行すると、この研究実行環境で操作する研究リポジトリ名を確認できます。  "
   ]
  },
  {
   "cell_type": "code",
   "execution_count": null,
   "metadata": {},
   "outputs": [],
   "source": [
    "import os\n",
    "os.chdir('/home/jovyan/WORKFLOWS/FLOW/')\n",
    "from util.scripts import utils\n",
    "utils.show_name('green')"
   ]
  },
  {
   "attachments": {},
   "cell_type": "markdown",
   "metadata": {},
   "source": [
    "## 1. 研究実行環境を停止・削除する"
   ]
  },
  {
   "attachments": {},
   "cell_type": "markdown",
   "metadata": {},
   "source": [
    "### 1-1. 当実行環境を確認する\n",
    "\n",
    "以下のセルを実行して実行環境のサーバー名を確認して下さい。"
   ]
  },
  {
   "cell_type": "code",
   "execution_count": null,
   "metadata": {},
   "outputs": [],
   "source": [
    "import os\n",
    "os.chdir(os.environ['HOME'] + '/WORKFLOWS')\n",
    "from utils import display_util\n",
    "display_util.display_html_msg(msg=os.environ[\"JUPYTERHUB_SERVICE_PREFIX\"].split('/')[3], tag='h2')"
   ]
  },
  {
   "attachments": {},
   "cell_type": "markdown",
   "metadata": {},
   "source": [
    "### 1-2. コントロールパネルへ遷移し、実行環境を停止・削除する\n",
    "\n",
    "[コントロールパネル](https://jupyter.cs.rcos.nii.ac.jp/hub/home)へ遷移して、`1-1`で確認したサーバーを`stop`、`delete`ボタンをクリックして停止・削除してください。<br>\n",
    "実行環境の停止・削除後は、当実行環境にあるノートブックを操作することが出来なくなりますのでご注意ください。<br>\n",
    "※ `delete`ボタンは、以下の図のように`stop`ボタンをクリックした後に表示されます。<br>\n",
    "![コンテナ削除キャプチャ](../../EX-WORKFLOWS/images/コンテナ削除キャプチャ.png)"
   ]
  },
  {
   "attachments": {},
   "cell_type": "markdown",
   "metadata": {},
   "source": [
    "### 1-3. GIN-forkに実行環境の停止・削除を反映する\n",
    "以下を実行して、GIN-forkに実行環境の停止・削除を反映してください。"
   ]
  },
  {
   "cell_type": "code",
   "execution_count": null,
   "metadata": {},
   "outputs": [],
   "source": [
    "import json, requests\n",
    "with open(utils.fetch_param_file_path(), mode='r') as f:\n",
    "    params = json.load(f)\n",
    "\n",
    "file_path = os.environ['HOME'] + '/.repository_id'\n",
    "\n",
    "with open('/home/jovyan/.token.json', 'r') as f:\n",
    "        dic = json.load(f)\n",
    "        token = dic[\"ginfork_token\"]\n",
    "\n",
    "server_name = os.environ[\"JUPYTERHUB_SERVICE_PREFIX\"].split('/')[3]\n",
    "response = requests.delete(\n",
    "    params['siblings']['ginHttp'] + f'/api/v1/container?token={token}&server_name={server_name}'\n",
    ")\n",
    "\n",
    "if response.status_code == requests.codes.ok:\n",
    "    display_util.display_info('実行環境の削除を反映しました。')\n",
    "else:\n",
    "    display_util.display_err('反映に失敗しました。')"
   ]
  }
 ],
 "metadata": {
  "kernelspec": {
   "display_name": "Python 3.9.5 64-bit",
   "language": "python",
   "name": "python3"
  },
  "language_info": {
   "name": "python",
   "version": "3.9.5"
  },
  "orig_nbformat": 4,
  "vscode": {
   "interpreter": {
    "hash": "6a196852dad78838558c3d25678ed4fa7922e766dc7a8a519a679191ca8fa666"
   }
  }
 },
 "nbformat": 4,
 "nbformat_minor": 2
}
