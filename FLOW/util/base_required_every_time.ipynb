{
 "cells": [
  {
   "attachments": {},
   "cell_type": "markdown",
   "id": "4b6b7c2a",
   "metadata": {},
   "source": [
    "# 初期セットアップを行う\n",
    "\n",
    "このタスクでは、リサーチフロー機能利用のための準備を行います。  \n",
    "上から順番に全てのセルを実行してください。\n",
    "\n",
    "「研究フロートップページ」に戻る場合は[こちら](../../base_FLOW.ipynb)。新規タブで開きます。  \n",
    "\n",
    "Jupyter Notebookの操作方法については、[こちら](https://support.rdm.nii.ac.jp/usermanual/60/#jp_operation)をご覧ください。新規タブで開きます。"
   ]
  },
  {
   "attachments": {},
   "cell_type": "markdown",
   "id": "94a7313e",
   "metadata": {},
   "source": [
    "## 0. 研究リポジトリ名を確認する  \n",
    "以下のセルを実行すると、この研究実行環境で操作する研究リポジトリ名を確認できます。  "
   ]
  },
  {
   "cell_type": "code",
   "execution_count": null,
   "id": "92b8cf1b",
   "metadata": {},
   "outputs": [],
   "source": [
    "import os\n",
    "os.chdir('/home/jovyan/WORKFLOWS/FLOW/')\n",
    "from util.scripts import utils\n",
    "utils.show_name('green')"
   ]
  },
  {
   "attachments": {},
   "cell_type": "markdown",
   "id": "396fd7ef",
   "metadata": {},
   "source": [
    "## 1. ユーザーの認証を行う\n",
    "\n",
    "この手順では、GIN-forkと同期するための準備として、あなたのユーザー情報をシステムに認証させる手続きを行います。<br>\n",
    "以下のセルを実行し、画面の表示に沿ってGIN-forkに登録したユーザー名、パスワード、メールアドレスを入力してください。<br>\n",
    "各項目入力後、『入力を完了する』ボタンを押下してください。<br>\n",
    "\n",
    "入力値が正しくユーザ認証が通った場合、ボタンが緑に変化します。<br>\n",
    "\n",
    "『入力を完了する』ボタンを押下後、入力値が正しくない場合ボタンが黄色に変化します。<br>\n",
    "ボタンに表示される指示に従い、再入力後、ボタンを押下してください。<br>"
   ]
  },
  {
   "cell_type": "code",
   "execution_count": null,
   "id": "9d23b5ab",
   "metadata": {},
   "outputs": [],
   "source": [
    "import os\n",
    "path_flow_root = '/home/jovyan/WORKFLOWS/FLOW/'\n",
    "os.chdir(path_flow_root)\n",
    "from util.scripts import utils\n",
    "utils.initial_gin_user_auth()"
   ]
  },
  {
   "attachments": {},
   "cell_type": "markdown",
   "id": "47ab2ef7",
   "metadata": {},
   "source": [
    "## 2. データ同期のための設定をする\n",
    "\n",
    "この手順では、今の実行環境とGIN-forkのリポジトリでデータの同期をとるための準備をします。  \n",
    "以下を実行することで、システムがデータ同期の準備の手続きを行います。"
   ]
  },
  {
   "cell_type": "code",
   "execution_count": null,
   "id": "25b9bb6c",
   "metadata": {},
   "outputs": [],
   "source": [
    "## 構築用トークンを削除する。\n",
    "import os\n",
    "import requests\n",
    "os.chdir(os.environ['HOME'] + '/WORKFLOWS')\n",
    "from utils.token import token\n",
    "from utils import display_util\n",
    "origin_urls = !git config remote.origin.url\n",
    "url = origin_urls[0]\n",
    "try:\n",
    "    token.del_build_token_by_remote_origin_url(url)\n",
    "except requests.exceptions.RequestException:\n",
    "    display_util.display_err(\"現在、通信不良が発生しています。\")"
   ]
  },
  {
   "cell_type": "code",
   "execution_count": null,
   "id": "312e1feb",
   "metadata": {},
   "outputs": [],
   "source": [
    "%%bash\n",
    "#!/bin/bash\n",
    "if [ ! -e ~/.ssh/id_ed25519 ]; then\n",
    "    # 鍵ペアが無ければ作成\n",
    "    ssh-keygen -t ed25519 -N \"\" -f ~/.ssh/id_ed25519\n",
    "fi\n",
    "if [ ! -d ~/.datalad/ ]; then\n",
    "    # Dataladのデータセットでなければデータセット化する\n",
    "    datalad create --force /home/jovyan\n",
    "fi"
   ]
  },
  {
   "cell_type": "code",
   "execution_count": null,
   "id": "55a949e7",
   "metadata": {},
   "outputs": [],
   "source": [
    "# 公開鍵アップロード\n",
    "# refs: https://github.com/gogs/docs-api/blob/master/Users/Public%20Keys.md#create-a-public-key\n",
    "import os\n",
    "import requests\n",
    "import time\n",
    "from http import HTTPStatus\n",
    "import json\n",
    "os.chdir(os.environ['HOME'] + '/WORKFLOWS')\n",
    "from utils import display_util\n",
    "\n",
    "pubkey = !cat ~/.ssh/id_ed25519.pub\n",
    "path_flow_root = '/home/jovyan/WORKFLOWS/FLOW/'\n",
    "os.chdir(path_flow_root)\n",
    "from util.scripts import utils\n",
    "path_workflow_root = '/home/jovyan/WORKFLOWS/'\n",
    "os.chdir(path_workflow_root)\n",
    "from utils.token import token\n",
    "\n",
    "\n",
    "\n",
    "# 以下の認証の手順で用いるGINのドメイン名等をパラメタファイルから取得する\n",
    "params = {}\n",
    "with open(utils.fetch_param_file_path(), mode='r') as f:\n",
    "    params = json.load(f)\n",
    "\n",
    "\n",
    "# 認証時に取得したトークンを使ってPOSTリクエスト\n",
    "response = requests.post(\n",
    "                params['siblings']['ginHttp']+'/api/v1/user/keys?token=' + token.get_ginfork_token(),\n",
    "                data={\n",
    "                    \"title\": \"system-generated-\"+str(time.time()),\n",
    "                    \"key\": pubkey[0]\n",
    "                })\n",
    "msg = response.json()\n",
    "\n",
    "if response.status_code == HTTPStatus.CREATED:\n",
    "    display_util.display_info('公開鍵の用意が出来ました。')\n",
    "elif msg['message'] == 'Key content has been used as non-deploy key':\n",
    "    display_util.display_warm('すでに公開鍵の用意が完了しています。')"
   ]
  },
  {
   "cell_type": "code",
   "execution_count": null,
   "id": "e9d09497",
   "metadata": {},
   "outputs": [],
   "source": [
    "import os\n",
    "import subprocess\n",
    "from datalad import api\n",
    "from IPython.display import clear_output\n",
    "os.chdir(os.environ['HOME'] + '/WORKFLOWS')\n",
    "from utils import display_util\n",
    "from utils.common import common\n",
    "\n",
    "# sibling url をsshに変更する\n",
    "os.chdir(os.environ['HOME'])\n",
    "http_url = subprocess.getoutput('git config --get remote.origin.url')\n",
    "http_url, build_token = common.convert_url_remove_user_token(http_url)\n",
    "ssh_url = http_url.replace(params['siblings']['ginHttp'], params['siblings']['ginSsh'])\n",
    "\n",
    "# siblingsにGINを登録する\n",
    "sibling = !datalad siblings -s gin\n",
    "for item in sibling:\n",
    "    if 'unknown sibling name' in item:\n",
    "        api.siblings(action='add', name='gin', url=ssh_url)\n",
    "    else:\n",
    "        pass\n",
    "\n",
    "clear_output()\n",
    "display_util.display_info('SSH接続の準備が完了しました。')"
   ]
  },
  {
   "attachments": {},
   "cell_type": "markdown",
   "id": "88c7b474",
   "metadata": {},
   "source": [
    "## 3. リポジトリ内のファイルを更新する\n",
    "\n",
    "研究リポジトリの以下のファイルを更新します。  \n",
    "- .gitignoreの新規作成：当実行環境からGIN-forkに同期しないフォルダやファイルを定義します。"
   ]
  },
  {
   "cell_type": "code",
   "execution_count": null,
   "id": "baa5f1a7-4097-4b38-9dfa-0126f784fea5",
   "metadata": {},
   "outputs": [],
   "source": [
    "%%sh\n",
    "#!/bin/bash\n",
    "\n",
    "if [ ! -f ~/.gitignore ]; then  # .gitignoreファイルがなければ作成\n",
    "\n",
    "echo \"\n",
    "/.cache/\n",
    "/.conda/\n",
    "/.config/\n",
    "/.ipython/\n",
    "/.local/\n",
    "/.tmp/\n",
    "/.bashrc\n",
    "/.bash_logout\n",
    "/.profile\n",
    "/.netrc\n",
    ".ipynb_checkpoints/\n",
    ".fonts/\n",
    ".jupyter/\n",
    ".npm/\n",
    ".ssh/\n",
    ".jupyter-server-log.txt\n",
    ".gitconfig\n",
    ".repository_id\n",
    ".token.json\n",
    ".user_info.json\n",
    ".github\n",
    "__pycache__/\n",
    "\" >> ~/.gitignore\n",
    "\n",
    "fi"
   ]
  },
  {
   "attachments": {},
   "cell_type": "markdown",
   "id": "586ac2d2",
   "metadata": {},
   "source": [
    "## 4. 実行環境一覧を更新する\n",
    "GIN-forkの実行環境一覧に当実行環境を追加します。"
   ]
  },
  {
   "cell_type": "code",
   "execution_count": null,
   "id": "ef0d6a2f",
   "metadata": {},
   "outputs": [],
   "source": [
    "import os\n",
    "os.chdir('/home/jovyan/WORKFLOWS/FLOW/')\n",
    "from util.scripts import utils\n",
    "\n",
    "# 実行環境を追加\n",
    "utils.add_container()"
   ]
  },
  {
   "attachments": {},
   "cell_type": "markdown",
   "id": "771fbbaf",
   "metadata": {
    "tags": []
   },
   "source": [
    "## 5. 実行結果をGIN-forkに同期する\n",
    "\n",
    "実行結果を保存し、GIN-forkに同期します。  \n",
    "以下のセルを実行してください。"
   ]
  },
  {
   "cell_type": "code",
   "execution_count": null,
   "id": "94d13667",
   "metadata": {},
   "outputs": [],
   "source": [
    "# ノートブックを保存する\n",
    "from IPython.display import display, Javascript\n",
    "display(Javascript('IPython.notebook.save_checkpoint();'))"
   ]
  },
  {
   "cell_type": "code",
   "execution_count": null,
   "id": "6eb806df",
   "metadata": {},
   "outputs": [],
   "source": [
    "import os\n",
    "path_flow_root = '/home/jovyan/WORKFLOWS/FLOW/'\n",
    "os.chdir(path_flow_root)\n",
    "from util.scripts import utils\n",
    "\n",
    "# SSHホスト（＝GIN）を信頼する設定\n",
    "utils.config_GIN(ginHttp = params['siblings']['ginHttp'])\n",
    "\n",
    "# S3にあるデータをGIN-forkに同期しないための設定\n",
    "!git annex untrust here\n",
    "!git annex --force trust web"
   ]
  },
  {
   "attachments": {},
   "cell_type": "markdown",
   "id": "57c40704",
   "metadata": {},
   "source": [
    "以下を実行して、`リポジトリ側の変更と競合しました。競合を解決してください。`と表示された場合は、[GIN-forkへの同期の失敗を解消する](../../conflict_helper.ipynb)を参照して、競合を解消してください。"
   ]
  },
  {
   "cell_type": "code",
   "execution_count": null,
   "id": "532a59d0",
   "metadata": {},
   "outputs": [],
   "source": [
    "import os\n",
    "path_flow_root = '/home/jovyan/WORKFLOWS/FLOW/'\n",
    "os.chdir(path_flow_root)\n",
    "from util.scripts import utils\n",
    "os.chdir(os.environ['HOME'])\n",
    "\n",
    "git_path = ['/home/jovyan/.gitignore', '/home/jovyan/WORKFLOWS', '/home/jovyan/README.md', '/home/jovyan/maDMP.ipynb']\n",
    "\n",
    "is_ok = utils.syncs_with_repo(git_path=git_path, gitannex_path=[], gitannex_files=[], message='[GIN] 研究リポジトリ初期セットアップを完了', get_paths=[])"
   ]
  },
  {
   "attachments": {},
   "cell_type": "markdown",
   "id": "ab25d6d7",
   "metadata": {},
   "source": [
    "## 6. フロー図を更新する\n",
    "\n",
    "フロー図に初期セットアップが実行済みであることを反映します。"
   ]
  },
  {
   "cell_type": "code",
   "execution_count": null,
   "id": "dc2d2061",
   "metadata": {},
   "outputs": [],
   "source": [
    "import os\n",
    "os.chdir(os.environ['HOME'])\n",
    "\n",
    "ex_path = 'WORKFLOWS/EX-WORKFLOWS/images/notebooks.diag'\n",
    "re_path = 'WORKFLOWS/images/notebooks.diag'\n",
    "\n",
    "with open('.gitignore', 'r') as f:\n",
    "    has_re_diag = False\n",
    "    has_ex_diag = False\n",
    "    for line in f:\n",
    "        if ex_path in line:\n",
    "            has_ex_diag = True\n",
    "        if re_path in line:\n",
    "            has_re_diag = True\n",
    "    \n",
    "    if not has_re_diag:\n",
    "        !echo $re_path >> ./.gitignore\n",
    "    if not has_ex_diag:\n",
    "        !echo $ex_path >> ./.gitignore\n",
    "\n",
    "\n",
    "# フロー図を更新する\n",
    "find = '\"base_required_every_time\"[fontsize = 10];'\n",
    "replace = '\"base_required_every_time\"[numbered = 済, fontsize = 10];'\n",
    "\n",
    "with open(re_path, 'r') as f:\n",
    "    s = f.read()\n",
    "\n",
    "with open(re_path, 'w') as f:\n",
    "    s = s.replace(find, replace)\n",
    "    f.write(s)"
   ]
  },
  {
   "attachments": {},
   "cell_type": "markdown",
   "id": "845ce791",
   "metadata": {},
   "source": [
    "## 7. 研究フロートップページに遷移する\n",
    "\n",
    "以下のセルを実行し、表示されるリンクをクリックして「研究フロートップページ」に戻ってください。  "
   ]
  },
  {
   "cell_type": "code",
   "execution_count": null,
   "id": "f64413ba",
   "metadata": {},
   "outputs": [],
   "source": [
    "from IPython.display import display, HTML, Javascript\n",
    "display(HTML(\"<a href='../../base_FLOW.ipynb'>「研究フロートップページ」に遷移する</a>\"))\n",
    "display(Javascript('IPython.notebook.save_checkpoint();'))"
   ]
  }
 ],
 "metadata": {
  "kernelspec": {
   "display_name": "Python 3.9.5 64-bit",
   "language": "python",
   "name": "python3"
  },
  "language_info": {
   "codemirror_mode": {
    "name": "ipython",
    "version": 3
   },
   "file_extension": ".py",
   "mimetype": "text/x-python",
   "name": "python",
   "nbconvert_exporter": "python",
   "pygments_lexer": "ipython3",
   "version": "3.9.5"
  },
  "vscode": {
   "interpreter": {
    "hash": "6a196852dad78838558c3d25678ed4fa7922e766dc7a8a519a679191ca8fa666"
   }
  }
 },
 "nbformat": 4,
 "nbformat_minor": 5
}
