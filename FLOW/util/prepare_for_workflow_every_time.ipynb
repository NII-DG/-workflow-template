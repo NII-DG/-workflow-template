{
 "cells": [
  {
   "cell_type": "markdown",
   "id": "0a0f3e94",
   "metadata": {},
   "source": [
    "# ワークフロー実行準備（binder環境起動毎）\n",
    "\n",
    "- このノートブックでは、binder環境が起動するたびに必要なワークフロー実行のための処理を行います。"
   ]
  },
  {
   "cell_type": "markdown",
   "id": "cf9dcf69",
   "metadata": {},
   "source": [
    "## データ書き戻しのための.netrcファイルの設定\n",
    "\n",
    "- 以下のセルを実行し、表示されたURLに遷移して、【ユーザ名】と【パスワード】を書き換えてください。"
   ]
  },
  {
   "cell_type": "code",
   "execution_count": null,
   "id": "083c2d1e",
   "metadata": {},
   "outputs": [],
   "source": [
    "%%sh\n",
    "echo \"\n",
    "machine dg02.dg.rcos.nii.ac.jp\n",
    "login 【ユーザ名】\n",
    "password 【パスワード】\n",
    "\" > ~/.netrc"
   ]
  },
  {
   "cell_type": "code",
   "execution_count": null,
   "id": "c123aadd",
   "metadata": {},
   "outputs": [],
   "source": [
    "import os\n",
    "print(\"https://jupyter.cs.rcos.nii.ac.jp\" + os.environ[\"JUPYTERHUB_SERVICE_PREFIX\"] + \"edit/.netrc\")"
   ]
  }
 ],
 "metadata": {
  "kernelspec": {
   "display_name": "Python 3",
   "language": "python",
   "name": "python3"
  },
  "language_info": {
   "codemirror_mode": {
    "name": "ipython",
    "version": 3
   },
   "file_extension": ".py",
   "mimetype": "text/x-python",
   "name": "python",
   "nbconvert_exporter": "python",
   "pygments_lexer": "ipython3",
   "version": "3.8.12"
  }
 },
 "nbformat": 4,
 "nbformat_minor": 5
}
