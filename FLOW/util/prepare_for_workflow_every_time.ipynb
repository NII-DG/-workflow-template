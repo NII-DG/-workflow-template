{
 "cells": [
  {
   "cell_type": "markdown",
   "id": "4b6b7c2a",
   "metadata": {},
   "source": [
    "# FLOW起動毎に必要な準備を行う\n",
    "\n",
    "FLOWの立ち上げ毎に、ワークフロー実行のために必要なGINのユーザー情報を保持します。  \n",
    "上から順番に実行してください。"
   ]
  },
  {
   "cell_type": "markdown",
   "id": "5db3e526",
   "metadata": {},
   "source": [
    "## ◆◆◆開発メモ◆◆◆\n",
    "ゆくゆくはSSOに対応し、コンテナ立ち上げ毎のユーザー名、パスワード、メールアドレスの入力を避けたい"
   ]
  },
  {
   "cell_type": "markdown",
   "id": "396fd7ef",
   "metadata": {},
   "source": [
    "## 1.ユーザー情報を情報を入力する\n",
    "\n",
    "以下のセルを実行してデータガバナンス機能のユーザー名、パスワード、メールアドレスを入力してください。"
   ]
  },
  {
   "cell_type": "code",
   "execution_count": null,
   "id": "b8192cc3",
   "metadata": {},
   "outputs": [],
   "source": [
    "from IPython.display import clear_output\n",
    "import getpass\n",
    "name = input(\"ユーザー名：\")\n",
    "password = getpass.getpass(\"パスワード：\")\n",
    "email = input(\"メールアドレス：\")\n",
    "clear_output()"
   ]
  },
  {
   "cell_type": "markdown",
   "id": "fee70e65",
   "metadata": {
    "heading_collapsed": true
   },
   "source": [
    "## 2.ユーザー情報を登録する"
   ]
  },
  {
   "cell_type": "markdown",
   "id": "b722abea",
   "metadata": {
    "hidden": true
   },
   "source": [
    "### - 2.1 .netrcにユーザー情報を追加する"
   ]
  },
  {
   "cell_type": "code",
   "execution_count": null,
   "id": "8c77d50b",
   "metadata": {
    "hidden": true
   },
   "outputs": [],
   "source": [
    "%cd ~/\n",
    "!echo -e \"machine dg02.dg.rcos.nii.ac.jp\\nlogin $name\\npassword $password\" > ~/.netrc"
   ]
  },
  {
   "cell_type": "markdown",
   "id": "60c49da3",
   "metadata": {
    "hidden": true
   },
   "source": [
    "### - 2.2 .gitconfigにユーザー情報を追加する"
   ]
  },
  {
   "cell_type": "code",
   "execution_count": null,
   "id": "c8a66562",
   "metadata": {
    "hidden": true
   },
   "outputs": [],
   "source": [
    "%cd ~/\n",
    "!git config --global user.name $name\n",
    "!git config --global user.email $email"
   ]
  }
 ],
 "metadata": {
  "kernelspec": {
   "display_name": "Python 3 (ipykernel)",
   "language": "python",
   "name": "python3"
  },
  "language_info": {
   "codemirror_mode": {
    "name": "ipython",
    "version": 3
   },
   "file_extension": ".py",
   "mimetype": "text/x-python",
   "name": "python",
   "nbconvert_exporter": "python",
   "pygments_lexer": "ipython3",
   "version": "3.7.10"
  }
 },
 "nbformat": 4,
 "nbformat_minor": 5
}
