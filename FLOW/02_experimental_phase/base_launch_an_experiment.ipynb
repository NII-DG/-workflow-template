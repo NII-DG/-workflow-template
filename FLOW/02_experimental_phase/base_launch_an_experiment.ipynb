{
 "cells": [
  {
   "cell_type": "markdown",
   "metadata": {
    "tags": []
   },
   "source": [
    "# 実験実行環境を作成する\n",
    "\n",
    "このタスクでは、「新規実験」や、「実験パッケージの再現」のための実行環境を作成します。  \n",
    "2回目以降の実行の場合は、このセルが選択された状態で画面上部に表示される以下のボタンをクリックしてセルの解凍を行ってから、セルを実行して下さい。  \n",
    "![UnfreezeBotton](../../../../files/WORKFLOWS/images/unfreeze_button.png)\n",
    "\n",
    "研究ワークフロー機能トップページに戻る場合は[こちら](../../base_FLOW.ipynb)（新規タブで開きます）。  "
   ]
  },
  {
   "cell_type": "markdown",
   "metadata": {},
   "source": [
    "## 0. 研究リポジトリ名の確認  \n",
    "以下のセルを実行すると、この研究実行環境で操作する研究リポジトリ名を確認できます。  \n",
    "研究リポジトリ名が表示されない場合は研究ワークフロー機能トップページのセクション「研究リポジトリ名の確認」のセルを実行してください。  "
   ]
  },
  {
   "cell_type": "code",
   "execution_count": null,
   "metadata": {},
   "outputs": [],
   "source": [
    "from IPython.display import display, HTML\n",
    "\n",
    "# 研究リポジトリ名を表示する\n",
    "%store -r\n",
    "if 'RESEARCH_TITLE' not in locals().keys() : RESEARCH_TITLE = '-'\n",
    "res_text = \"<h1 style='color: green'>研究リポジトリ名：%s</h1>\" % (RESEARCH_TITLE)\n",
    "display(HTML(res_text))"
   ]
  },
  {
   "cell_type": "markdown",
   "metadata": {},
   "source": [
    "## 1. 実行環境作成の目的を選択する\n",
    "\n",
    "実行環境を作成することで、「実験を新規作成する」または「同じリポジトリにある実験パッケージをモニタリングする」ことができます。  \n",
    "どちらの用途で実行環境を作成するかを選択した後に、`入力完了`ボタンをクリックしてください。"
   ]
  },
  {
   "cell_type": "code",
   "execution_count": null,
   "metadata": {},
   "outputs": [],
   "source": [
    "import json\n",
    "from ipywidgets import Dropdown, Button, Layout\n",
    "from IPython.display import clear_output\n",
    "\n",
    "style = {'description_width': 'initial'}\n",
    "workflow1 = '実験を新規作成する'\n",
    "workflow2 = '同じリポジトリにある実験パッケージをモニタリングする'\n",
    "\n",
    "# 実験を新規作成するか、実験パッケージをモニタリングするかを選択する\n",
    "def on_click_callback(clicked_button: Button) -> None:\n",
    "    global selected_workflow\n",
    "    if dropdown.value==workflow1:\n",
    "        selected_workflow = 1\n",
    "    elif dropdown.value==workflow2:\n",
    "        selected_workflow = 2\n",
    "    clear_output()\n",
    "    print(\"入力を受けつけました：\", dropdown.value)\n",
    "\n",
    "dropdown = Dropdown(\n",
    "    options=[workflow1, workflow2],\n",
    "    description='実行環境作成の目的を選択：',\n",
    "    disabled=False,\n",
    "    layout=Layout(width='600px'),\n",
    "    style=style\n",
    ")\n",
    "\n",
    "button = Button(description='入力完了')\n",
    "button.on_click(on_click_callback)\n",
    "display(dropdown, button)"
   ]
  },
  {
   "cell_type": "markdown",
   "metadata": {},
   "source": [
    "## 2. 実験実行環境を作成するための準備をする"
   ]
  },
  {
   "cell_type": "code",
   "execution_count": null,
   "metadata": {},
   "outputs": [],
   "source": [
    "import os\n",
    "from IPython.display import clear_output\n",
    "\n",
    "# リモートリポジトリのURLを最新化する\n",
    "os.chdir('/home/jovyan/WORKFLOWS/FLOW/')\n",
    "from util.scripts import utils\n",
    "utils.update_repo_url()\n",
    "\n",
    "# リモートリポジトリのURLを取得する\n",
    "os.chdir(os.environ['HOME'])\n",
    "remote_http_url = !git config --get remote.origin.url\n",
    "for item in remote_http_url:\n",
    "    remote_http_url = item\n",
    "clear_output()\n",
    "\n",
    "print('準備が完了しました。次の処理にお進みください。')"
   ]
  },
  {
   "cell_type": "markdown",
   "metadata": {},
   "source": [
    "## 3. 実験実行環境にアクセスする\n",
    "\n",
    "以下のうち、いずれかの手順を実施してください。\n",
    "\n",
    "- 標準的な実験活動の場合：「3-A. 標準環境での実験」\n",
    "- 高性能実験環境を利用する場合：「3-B. 高性能実験環境での実験」"
   ]
  },
  {
   "cell_type": "markdown",
   "metadata": {},
   "source": [
    "### 3-A. 標準環境での実験\n",
    "\n",
    "以下のセルを実行した後に出力されるリンクをクリックして実験に移ってください。  "
   ]
  },
  {
   "cell_type": "code",
   "execution_count": null,
   "metadata": {},
   "outputs": [],
   "source": [
    "import urllib\n",
    "from colorama import Fore\n",
    "\n",
    "if selected_workflow==1:\n",
    "    print(\"「 \"+ workflow1 +\" 」を目的として実行環境を作成します。\\n以下のリンクをクリックしてください。新規タブで開きます。\\n\")\n",
    "    print(\n",
    "        \"https://binder.cs.rcos.nii.ac.jp/v2/git/\" + urllib.parse.quote(remote_http_url, safe='') + \"/HEAD?filepath=WORKFLOWS/experiment.ipynb\"\n",
    "    )\n",
    "elif selected_workflow==2:\n",
    "    print(\"「 \"+ workflow2 +\" 」を目的として実行環境を作成します。\\n以下のリンクをクリックしてください。新規タブで開きます。\\n\")\n",
    "    print(\n",
    "        \"https://binder.cs.rcos.nii.ac.jp/v2/git/\" + urllib.parse.quote(remote_http_url, safe='') + \"/HEAD?filepath=WORKFLOWS/monitor_package.ipynb\"\n",
    "    )\n",
    "else:\n",
    "    print(Fore.RED + \"目的が選択されていない可能性があります。\\n【1, 実験環境作成の目的を選択する】の入力が完了されているかご確認ください。\")"
   ]
  },
  {
   "cell_type": "markdown",
   "metadata": {},
   "source": [
    "### 3-B. 高性能実験環境での実験\n",
    "\n",
    "以下のセルを実行した後に出力されるリンクをクリックして実験に移ってください。  "
   ]
  },
  {
   "cell_type": "code",
   "execution_count": null,
   "metadata": {},
   "outputs": [],
   "source": [
    "import urllib\n",
    "from colorama import Fore\n",
    "\n",
    "if selected_workflow==1:\n",
    "    print(\"「 \"+ workflow1 +\" 」を目的として実行環境を作成します。\\n以下のリンクをクリックしてください。新規タブで開きます。\\n\")\n",
    "    print(\n",
    "        \"http://163.220.176.50:10980/v2/git/\" + urllib.parse.quote(remote_http_url, safe='') + \"/HEAD?filepath=WORKFLOWS/experiment.ipynb\"\n",
    "    )\n",
    "elif selected_workflow==2:\n",
    "    print(\"「 \"+ workflow2 +\" 」を目的として実行環境を作成します。\\n以下のリンクをクリックしてください。新規タブで開きます。\\n\")\n",
    "    print(\n",
    "        \"http://163.220.176.50:10980/v2/git/\" + urllib.parse.quote(remote_http_url, safe='') + \"/HEAD?filepath=WORKFLOWS/monitor_package.ipynb\"\n",
    "    )\n",
    "else:\n",
    "    print(Fore.RED + \"目的が選択されていない可能性があります。\\n【1, 実験環境作成の目的を選択する】の入力が完了されているかご確認ください。\")"
   ]
  },
  {
   "cell_type": "markdown",
   "metadata": {},
   "source": [
    "## 4. 研究ワークフロー機能トップページに遷移する\n",
    "\n",
    "以下のセルを実行し、表示されるリンクをクリックして研究ワークフロー機能トップページに戻ってください。"
   ]
  },
  {
   "cell_type": "code",
   "execution_count": null,
   "metadata": {},
   "outputs": [],
   "source": [
    "from IPython.display import display, HTML, Javascript\n",
    "display(HTML(\"<a href='../../base_FLOW.ipynb'>研究ワークフロー機能トップページに遷移する</a>\"))\n",
    "display(Javascript('IPython.notebook.save_checkpoint();'))"
   ]
  }
 ],
 "metadata": {
  "kernelspec": {
   "display_name": "Python 3.9.5 64-bit",
   "language": "python",
   "name": "python3"
  },
  "language_info": {
   "codemirror_mode": {
    "name": "ipython",
    "version": 3
   },
   "file_extension": ".py",
   "mimetype": "text/x-python",
   "name": "python",
   "nbconvert_exporter": "python",
   "pygments_lexer": "ipython3",
   "version": "3.9.5"
  },
  "vscode": {
   "interpreter": {
    "hash": "6a196852dad78838558c3d25678ed4fa7922e766dc7a8a519a679191ca8fa666"
   }
  }
 },
 "nbformat": 4,
 "nbformat_minor": 4
}
