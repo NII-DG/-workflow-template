{
 "cells": [
  {
   "cell_type": "markdown",
   "metadata": {
    "tags": []
   },
   "source": [
    "# 実験環境を作成する\n",
    "\n",
    "実験環境リポジトリの新規作成と実験記録に必要な実験パッケージの用意によって実験環境の用意をサポートします。  \n",
    "実験環境リポジトリは、研究プロジェクトのリポジトリとは別のリポジトリですが、研究リポジトリのexperimental-environmentsフォルダ配下に子関係として追加されます。  \n",
    "上から順番に実行してください。  \n",
    "2回目以降の実行の場合、このセルが選択された状態で画面上部に表示される以下のボタンをクリックしてから実行して下さい。  \n",
    "![UnfreezeBotton](https://raw.githubusercontent.com/NII-DG/workflow-template/develop/sections/images/unfreeze_button.png)"
   ]
  },
  {
   "cell_type": "markdown",
   "metadata": {},
   "source": [
    "## 1. 作成したい実験環境リポジトリ名を入力する\n",
    "\n",
    "以下のセルを実行し、表示されるテキストボックスに作成したい実験環境リポジトリ名を半角英数字で入力してください。  \n",
    "データガバナンス機能にすでに存在するリポジトリ名のリポジトリは作成いただけません。分かりやすい名前をご記入ください。  \n",
    "入力した実験環境リポジトリ名の履歴をこのノートブックに保存したい場合は、実行後にセルの左側に表示されるピンマークをクリックしてください。  \n",
    "※入力値に誤りがある場合、もう一度実行することで訂正ができます。"
   ]
  },
  {
   "cell_type": "code",
   "execution_count": null,
   "metadata": {},
   "outputs": [],
   "source": [
    "import re\n",
    "from IPython.display import clear_output\n",
    "\n",
    "# GINサーバのものに合わせたバリデーションルールを設定\n",
    "validation = re.compile(r'[a-z|A-Z|0-9|\\-|_|.]+')\n",
    "\n",
    "print('作成したい実験リポジトリ名を半角英数字で入力してください。')\n",
    "while True:\n",
    "    repository_title = input(\"リポジトリ名：\")\n",
    "    if validation.fullmatch(repository_title):\n",
    "        break\n",
    "    else:\n",
    "        clear_output()\n",
    "        print('リポジトリ名は英数字、および\"-\", \"_\", \".\"のみで入力してください。')\n",
    "\n",
    "clear_output()\n",
    "print(\"作成したリポジトリ名：\", repository_title)\n",
    "print('この実験名で処理を進めます。変更したい場合は、このセルをもう一度実行することで訂正ができます。')\n"
   ]
  },
  {
   "cell_type": "markdown",
   "metadata": {},
   "source": [
    "## 2. 実験環境リポジトリを作成する\n",
    "\n",
    "先ほど入力いただいた名前の実験環境リポジトリをデータガバナンス機能に作成します。  \n",
    "そのために、以下のセルを実行し、表示されるテキストボックスにデータガバナンス機能のユーザ名とパスワードを入力してください。  \n",
    "この情報は認証のために利用します。"
   ]
  },
  {
   "cell_type": "code",
   "execution_count": null,
   "metadata": {},
   "outputs": [],
   "source": [
    "import json\n",
    "import os\n",
    "\n",
    "path_flow_root = '/home/jovyan/WORKFLOW/FLOW/'\n",
    "os.chdir(path_flow_root)\n",
    "from util.scripts import utils\n",
    "\n",
    "# 以下の認証の手順で用いる、\n",
    "# GINのドメイン名等をパラメタファイルから取得する\n",
    "params = {}\n",
    "with open(utils.fetch_param_file_path(), mode='r') as f:\n",
    "    params = json.load(f)"
   ]
  },
  {
   "cell_type": "code",
   "execution_count": null,
   "metadata": {},
   "outputs": [],
   "source": [
    "# リポジトリ作成のためのユーザ認証\n",
    "import os\n",
    "import time\n",
    "import getpass\n",
    "import requests\n",
    "\n",
    "from IPython.display import clear_output\n",
    "from requests.auth import HTTPBasicAuth\n",
    "from http import HTTPStatus\n",
    "\n",
    "# 正常に認証が終わるまで繰り返し\n",
    "while True:\n",
    "    name = input(\"ユーザー名：\")\n",
    "    password = getpass.getpass(\"パスワード：\")\n",
    "    clear_output()\n",
    "    \n",
    "    # GIN API Basic Authentication\n",
    "    # refs: https://docs.python-requests.org/en/master/user/authentication/\n",
    "    \n",
    "    # 既存のトークンがあるか確認する\n",
    "    response = requests.get(params['siblings']['ginHttp']+'api/v1/users/' + name + '/tokens', auth=(name, password))\n",
    "    tokens = response.json()\n",
    "\n",
    "    # 既存のトークンがなければ作成する\n",
    "    if len(tokens) < 1:\n",
    "        response = requests.post(params['siblings']['ginHttp']+'api/v1/users/' + name + '/tokens', data={\"name\": \"system-generated\"} ,auth=(name, password))\n",
    "\n",
    "    if response.status_code == HTTPStatus.OK or HTTPStatus.CREATED:\n",
    "        tokens = response.json()\n",
    "        clear_output()\n",
    "        print(\"認証が正常に完了しました。次の手順へお進みください。\")\n",
    "        break\n",
    "    else:\n",
    "        clear_output()\n",
    "        print(\"ユーザ名、またはパスワードが間違っています。\\n恐れ入りますがもう一度ご入力ください。\")"
   ]
  },
  {
   "cell_type": "code",
   "execution_count": null,
   "metadata": {},
   "outputs": [],
   "source": [
    "# GIN APIでリポジトリを作成する\n",
    "import requests\n",
    "\n",
    "create_repo = requests.post(\n",
    "                params['siblings']['ginHttp']+'api/v1/user/repos?token=' + tokens[0]['sha1'],\n",
    "                data={\n",
    "                    \"name\": repository_title,\n",
    "                    \"auto_init\": False\n",
    "                }\n",
    "                )\n",
    "print(create_repo)"
   ]
  },
  {
   "cell_type": "markdown",
   "metadata": {},
   "source": [
    "## 3. 実験記録管理のための準備を行う"
   ]
  },
  {
   "cell_type": "markdown",
   "metadata": {},
   "source": [
    "### - 3.1 実験環境リポジトリに実験パッケージを用意する"
   ]
  },
  {
   "cell_type": "code",
   "execution_count": null,
   "metadata": {},
   "outputs": [],
   "source": [
    "tmp_path = '/home/jovyan/.tmp/' + repository_title + '/'"
   ]
  },
  {
   "cell_type": "code",
   "execution_count": null,
   "metadata": {},
   "outputs": [],
   "source": [
    "%%bash\n",
    "#!/bin/bash\n",
    "if [ ! -d ~/.tmp/ ]; then\n",
    "    # .tmpフォルダが無ければ作成する\n",
    "    mkdir ~/.tmp\n",
    "fi\n",
    "\n",
    "if [ ! -d $tmp_path ]; then\n",
    "    # 実験タイトル名のフォルダが無ければ作成する\n",
    "    mkdir $tmp_path\n",
    "fi"
   ]
  },
  {
   "cell_type": "code",
   "execution_count": null,
   "metadata": {},
   "outputs": [],
   "source": [
    "import os\n",
    "\n",
    "os.chdir(path_flow_root)\n",
    "from util.scripts import utils\n",
    "\n",
    "# DS構成のスキーム名をパラメタファイルから取得する\n",
    "monitoring_params = {}\n",
    "with open(utils.fetch_monitoring_param_file_path(), mode='r') as f:\n",
    "    monitoring_params = json.load(f)\n",
    "    \n",
    "scheme_name = monitoring_params['datasetStructure']\n",
    "\n",
    "# urlを生成する\n",
    "remote_url = params['siblings']['ginSsh']+name+'/'+repository_title+'.git'\n",
    "remote_http_url = params['siblings']['ginHttp']+name+'/'+repository_title+'.git'\n",
    "\n",
    "# 実験パッケージを用意する\n",
    "!cp -r ~/WORKFLOW/PACKAGE/base/. $tmp_path\n",
    "!cp -r ~/WORKFLOW/PACKAGE/scheme/$scheme_name/. $tmp_path\n",
    "\n",
    "# dataset化してsiblingを設定する\n",
    "%cd $tmp_path\n",
    "!datalad create --force .\n",
    "!datalad siblings add -s \"gin\" --url $remote_url"
   ]
  },
  {
   "cell_type": "markdown",
   "metadata": {},
   "source": [
    "### - 3.2 必要に応じてDockerfileを編集する\n",
    "\n",
    "実験環境の構築のためにDockerfileの編集が必要な場合は、以下のセルを実行すると表示されるリンクからDockerfileを編集いただけます。"
   ]
  },
  {
   "cell_type": "code",
   "execution_count": null,
   "metadata": {},
   "outputs": [],
   "source": [
    "import os\n",
    "url = params['rcosBinderUrl'] + os.environ[\"JUPYTERHUB_SERVICE_PREFIX\"] + 'edit/.tmp/' + repository_title + '/Dockerfile'\n",
    "print(url)"
   ]
  },
  {
   "cell_type": "markdown",
   "metadata": {},
   "source": [
    "### - 3.3 実験パッケージをデータガバナンス機能に同期する"
   ]
  },
  {
   "cell_type": "code",
   "execution_count": null,
   "metadata": {},
   "outputs": [],
   "source": [
    "# データガバナンス機能に同期する\n",
    "import papermill as pm\n",
    "pm.execute_notebook(\n",
    "    '/home/jovyan/WORKFLOW/FLOW/util/base_datalad_save_push.ipynb',\n",
    "    '/home/jovyan/.local/push_log.ipynb',\n",
    "    parameters = dict(SAVE_MESSAGE = '実験パッケージの用意', PATH=tmp_path, TO_GIT = True)\n",
    ")"
   ]
  },
  {
   "cell_type": "code",
   "execution_count": null,
   "metadata": {},
   "outputs": [],
   "source": [
    "# 実験リポジトリをexperiments配下にクローンする\n",
    "%cd ~/\n",
    "!datalad clone -d . $remote_http_url ./experiments/$repository_title\n",
    "!rm -rf $tmp_path"
   ]
  },
  {
   "cell_type": "markdown",
   "metadata": {},
   "source": [
    "### - 3.2 pipeline.jsonに実験名を追記する"
   ]
  },
  {
   "cell_type": "code",
   "execution_count": null,
   "metadata": {},
   "outputs": [],
   "source": [
    "import json\n",
    "\n",
    "with open('/home/jovyan/experiments/pipeline.json', 'r') as f:\n",
    "    pipeline = json.load(f)\n",
    "\n",
    "pipeline.append(repository_title)\n",
    "\n",
    "with open('/home/jovyan/experiments/pipeline.json', 'w') as f:\n",
    "    json.dump(pipeline, f, indent = 4)"
   ]
  },
  {
   "cell_type": "markdown",
   "metadata": {},
   "source": [
    "## 4. 実行結果をデータガバナンス機能に同期する\n",
    "\n",
    "ここまでの内容を保存し、データガバナンス機能に同期します。  \n",
    "以下のセルを実行してください。"
   ]
  },
  {
   "cell_type": "code",
   "execution_count": null,
   "metadata": {},
   "outputs": [],
   "source": [
    "from IPython.display import display, Javascript\n",
    "display(Javascript('IPython.notebook.save_checkpoint();'))"
   ]
  },
  {
   "cell_type": "code",
   "execution_count": null,
   "metadata": {
    "tags": []
   },
   "outputs": [],
   "source": [
    "import papermill as pm\n",
    "\n",
    "%cd ~/\n",
    "\n",
    "pm.execute_notebook(\n",
    "    'WORKFLOW/FLOW/util/base_datalad_save_push.ipynb',\n",
    "    '/home/jovyan/.local/push_log.ipynb',\n",
    "    parameters = dict(SAVE_MESSAGE = '実験用リポジトリの作成', IS_RECURSIVE = False, TO_GIT = True)\n",
    ")"
   ]
  },
  {
   "cell_type": "markdown",
   "metadata": {
    "tags": []
   },
   "source": [
    "## 5. 実験環境にアクセスする\n",
    "\n",
    "以下のうち、いずれかの手順を実施してください。\n",
    "\n",
    "- 標準的な実験活動の場合：「5-A. 標準環境での実験」\n",
    "- 高性能実験環境を利用する場合：「5-B. 高性能実験環境での実験」"
   ]
  },
  {
   "cell_type": "markdown",
   "metadata": {},
   "source": [
    "### - 5-A. 標準環境での実験\n",
    "\n",
    "以下のセルを実行した後に出力されるリンクをクリックして実験に移ってください。"
   ]
  },
  {
   "cell_type": "code",
   "execution_count": null,
   "metadata": {},
   "outputs": [],
   "source": [
    "import urllib\n",
    "\n",
    "print(\n",
    "    \"https://binder.cs.rcos.nii.ac.jp/v2/git/\" + urllib.parse.quote(remote_http_url, safe='') + \"/HEAD?filepath=experiment.ipynb\"\n",
    ")"
   ]
  },
  {
   "cell_type": "markdown",
   "metadata": {},
   "source": [
    "### - 5-B. 高性能実験環境での実験"
   ]
  },
  {
   "cell_type": "markdown",
   "metadata": {},
   "source": [
    "以下のセルを実行し、「高性能実験環境と正常に接続されています」と表示されることを確認してください。  \n",
    "表示されない場合、[高性能実験環境を準備する](../01_preparation_phase/base_setup_data_analysis_tools.ipynb) の手順を実施してください。"
   ]
  },
  {
   "cell_type": "code",
   "execution_count": null,
   "metadata": {},
   "outputs": [],
   "source": [
    "!ssh mdx \"echo 高性能実験環境と正常に接続されています\""
   ]
  },
  {
   "cell_type": "markdown",
   "metadata": {},
   "source": [
    "高性能実験環境の接続先情報を取得します。以下のセルを実行してください。"
   ]
  },
  {
   "cell_type": "code",
   "execution_count": null,
   "metadata": {},
   "outputs": [],
   "source": [
    "mdx_host = ''\n",
    "with open('/home/jovyan/.ssh/config', 'r') as f:\n",
    "    tmp = f.read()\n",
    "    tmp = tmp[tmp.find('mdx'):]\n",
    "    tmp = tmp[tmp.find('Hostname ') + len('Hostname '):]\n",
    "    mdx_host = tmp[:tmp.find('\\n')]"
   ]
  },
  {
   "cell_type": "markdown",
   "metadata": {},
   "source": [
    "高性能実験環境に実験パッケージ情報を転送します。以下のセルを実行してください。"
   ]
  },
  {
   "cell_type": "code",
   "execution_count": null,
   "metadata": {},
   "outputs": [],
   "source": [
    "%cd ~/\n",
    "research_project = !git config --get remote.origin.url\n",
    "research_project = research_project[0].split('/')[-1].replace('.git','')"
   ]
  },
  {
   "cell_type": "code",
   "execution_count": null,
   "metadata": {},
   "outputs": [],
   "source": [
    "%cd ~/\n",
    "!ssh mdx mkdir -p $research_project\n",
    "!ssh mdx mkdir -p $research_project/$repository_title\n",
    "cmd = \"'cd \" + research_project + \"/\" + repository_title +\"; git clone \" + remote_http_url + \" package'\"\n",
    "!ssh mdx $cmd"
   ]
  },
  {
   "cell_type": "markdown",
   "metadata": {},
   "source": [
    "高性能実験環境においてJupyterLabを起動します。以下のセルを実行してください。  \n",
    "実行後、表示されるリンクをクリックすると、パスワードの入力が求められますので「gpu-jupyter」と入力してLoginしてください。"
   ]
  },
  {
   "cell_type": "code",
   "execution_count": null,
   "metadata": {},
   "outputs": [],
   "source": [
    "from IPython.display import clear_output\n",
    "\n",
    "# mdx環境のグループ情報とホームディレクトリを取得する\n",
    "groupname = !ssh mdx id -g -n\n",
    "gid = !ssh mdx id -g\n",
    "mdx_home = !ssh mdx 'echo $HOME'\n",
    "mdx_home = mdx_home[0]\n",
    "\n",
    "# Dockerfileのみ配置したビルドコンテキストを用意\n",
    "%cd ~/\n",
    "cmd = \"mkdir -p build-context/\" + repository_title\n",
    "!ssh mdx $cmd\n",
    "cmd = \"cp \" + research_project + \"/\" + repository_title + \"/package/Dockerfile build-context/\" + repository_title + \"/Dockerfile\"\n",
    "!ssh mdx $cmd\n",
    "\n",
    "# 権限を持たせるためmdx環境のグループ名とGIDを渡してJupyterLabコンテナイメージを作成する\n",
    "cmd = \"docker build -t dg/jupyterlab:1.1 \\\n",
    "--build-arg GROUPNAME=\" + groupname[0] + \" --build-arg GID=\" + gid[0] + \" ./build-context/\" + repository_title\n",
    "!ssh mdx $cmd\n",
    "\n",
    "# JupyterLabコンテナの起動\n",
    "# mdx上の研究プロジェクトデータと当該実験の実験パッケージ内容をマウント\n",
    "mdx_path = mdx_home + \"/\" + research_project + \"/\" + repository_title + \"/package/\"\n",
    "jupyter_path = \"/home/jovyan/\"\n",
    "cmd = \"docker run \\\n",
    "-v \" + mdx_path + \".datalad:\" + jupyter_path + \".datalad \\\n",
    "-v \" + mdx_path + \"experiment.ipynb:\" + jupyter_path + \"experiment.ipynb \\\n",
    "-v \" + mdx_path + \"EX-WORKFLOW:\" + jupyter_path + \"EX-WORKFLOW \\\n",
    "-v \" + mdx_path + \".git:\" + jupyter_path + \".git \\\n",
    "-v \" + mdx_path + \".gitattributes:\" + jupyter_path + \".gitattributes \\\n",
    "-v \" + mdx_path + \".gitignore:\" + jupyter_path + \".gitignore \\\n",
    "-v \" + mdx_path + \"input_data:\" + jupyter_path + \"input_data \\\n",
    "-v \" + mdx_path + \"meta_data.json:\" + jupyter_path + \"meta_data.json \\\n",
    "-v \" + mdx_path + \"output_data:\" + jupyter_path + \"output_data \\\n",
    "-v \" + mdx_path + \"source:\" + jupyter_path + \"source \\\n",
    "-v \" + mdx_home + \"/\" + research_project +\":\" + jupyter_path + \"research_project_data \\\n",
    "--gpus all -d -P dg/jupyterlab:1.1\"\n",
    "container_id = !ssh mdx $cmd\n",
    "container_id = container_id[0][:12]\n",
    "\n",
    "# ホストマシン上で動的に割り当てられたポートを取得\n",
    "cmd = \"docker ps -l\"\n",
    "port = !ssh mdx $cmd\n",
    "port = port[1]\n",
    "port = port[port.find(\"0.0.0.0:\") + 8: port.find(\"->8888/tcp\")]\n",
    "\n",
    "# JupyterLab利用のためのURLを表示\n",
    "url = \"http://\" + params['mdxDomain'] + \":\" + str(port) + \"/notebooks/experiment.ipynb\"\n",
    "print(url)"
   ]
  },
  {
   "cell_type": "markdown",
   "metadata": {},
   "source": [
    "## 6. ワークフロー機能トップページに遷移する\n",
    "\n",
    "続けてワークフロー機能を実行する場合は、[こちら](../base_FLOW.ipynb)からトップページに遷移できます。  "
   ]
  }
 ],
 "metadata": {
  "kernelspec": {
   "display_name": "Python 3 (ipykernel)",
   "language": "python",
   "name": "python3"
  },
  "language_info": {
   "codemirror_mode": {
    "name": "ipython",
    "version": 3
   },
   "file_extension": ".py",
   "mimetype": "text/x-python",
   "name": "python",
   "nbconvert_exporter": "python",
   "pygments_lexer": "ipython3",
   "version": "3.9.10"
  }
 },
 "nbformat": 4,
 "nbformat_minor": 4
}
