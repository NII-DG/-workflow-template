{
 "cells": [
  {
   "attachments": {
    "image.png": {
     "image/png": "[encoded data removed]"
    }
   },
   "cell_type": "markdown",
   "metadata": {},
   "source": [
    "# 実験を開始する\n",
    "\n",
    "実験パッケージを用意して実験の開始をサポートします。  \n",
    "上から順番に実行してください。  \n",
    "2回目以降の実行では、画面上部に表示される以下のボタンをクリックしてから実行して下さい。\n",
    "![image.png](attachment:image.png)"
   ]
  },
  {
   "cell_type": "markdown",
   "metadata": {},
   "source": [
    "## 1. 実験用リポジトリの作成、リポジトリ名の入力、実験の入力データの設定を行う"
   ]
  },
  {
   "cell_type": "markdown",
   "metadata": {},
   "source": [
    "### - 1.1  実験用の空リポジトリを作成する\n",
    "\n",
    "以下のリンクに遷移し、データガバナンス機能で実験用の空リポジトリを作成してください。  \n",
    "※空のリポジトリを作成するために、「選択されたファイルおよびテンプレートでリポジトリを初期化」のチェックを外してください。  \n",
    " [データガバナンス機能に遷移する](http://dg02.dg.rcos.nii.ac.jp/repo/create)"
   ]
  },
  {
   "cell_type": "markdown",
   "metadata": {},
   "source": [
    "### - 1.2 作成したリポジトリ名を入力する\n",
    "\n",
    "以下のセルを実行してリポジトリ名を入力してください。  \n",
    "※もし入力値に誤りがあった場合、もう一度実行することで訂正ができます。"
   ]
  },
  {
   "cell_type": "code",
   "execution_count": null,
   "metadata": {},
   "outputs": [],
   "source": [
    "from IPython.display import clear_output\n",
    "repository_title = input(\"リポジトリ名\")\n",
    "clear_output()\n",
    "print(\"作成したリポジトリ名；\",repository_title)"
   ]
  },
  {
   "cell_type": "markdown",
   "metadata": {},
   "source": [
    "### - 1.3 この実験の入力データを既存の実験の出力データからコピーしたい場合は以下を実行する\n",
    "\n",
    "以下のセルを実行して、この実験の入力データとしたい出力データを持つ既存実験のリポジトリをセレクトボックスから選択してください。  \n",
    "※入力データのコピーが不要であれば、1.3をスキップして2.に進んでください。"
   ]
  },
  {
   "cell_type": "code",
   "execution_count": null,
   "metadata": {},
   "outputs": [],
   "source": [
    "from ipywidgets import Select, Button\n",
    "from IPython.display import clear_output\n",
    "\n",
    "# 実験リポジトリ名を取得する\n",
    "import os\n",
    "path = '/home/jovyan/experiments'\n",
    "files = os.listdir(path)\n",
    "files_dir = [f for f in files if os.path.isdir(os.path.join(path, f)) and f != '.ipynb_checkpoints']\n",
    "\n",
    "# セレクトボックスで選択された実験リポジトリ名をex_repoに格納する\n",
    "def on_click_callback(clicked_button: Button) -> None:\n",
    "    global ex_repo\n",
    "    ex_repo = select.value\n",
    "\n",
    "button = Button(description='選択完了')\n",
    "select = Select(options=files_dir)\n",
    "button.on_click(on_click_callback)\n",
    "display(select, button)"
   ]
  },
  {
   "cell_type": "markdown",
   "metadata": {
    "heading_collapsed": true
   },
   "source": [
    "## 2. 実験環境を整える"
   ]
  },
  {
   "cell_type": "code",
   "execution_count": null,
   "metadata": {},
   "outputs": [],
   "source": [
    "################################################################################\n",
    "####################　桑田追加分（検証中）　####################################\n",
    "################################################################################\n",
    "\n",
    "# GIN APIでリポジトリを作成する\n",
    "import requests\n",
    "\n",
    "create_repo = requests.post(\n",
    "                # FIXME: ドメイン名のハードコーディング\n",
    "                'http://dg02.dg.rcos.nii.ac.jp/api/v1/user/repos?token=' + os.environ['CURRENT_USER'],\n",
    "                data={\n",
    "                    \"name\": repository_title,\n",
    "                    \"auto_init\": True,\n",
    "                    \"readme\": \"Default\"\n",
    "                }\n",
    "                )\n",
    "print(create_repo)"
   ]
  },
  {
   "cell_type": "markdown",
   "metadata": {
    "hidden": true
   },
   "source": [
    "### - 2.1 実験リポジトリのリモートURLを生成する\n",
    "\n",
    "◆◆◆開発メモ◆◆◆  \n",
    "リポジトリ作成をGIN APIを利用する方式にしたことで修正が必要かもしれない"
   ]
  },
  {
   "cell_type": "code",
   "execution_count": null,
   "metadata": {
    "hidden": true
   },
   "outputs": [],
   "source": [
    "%cd ~/\n",
    "tmp = !git remote -v\n",
    "tmp = tmp[0]\n",
    "tmp = tmp[tmp.find(\"http\"):]\n",
    "tmp = tmp.split(\"/\")\n",
    "tmp = tmp[0] + \"//\" + tmp[2] + \"/\" + tmp[3]\n",
    "\n",
    "remote_url = tmp + \"/\" + repository_title + \".git\""
   ]
  },
  {
   "cell_type": "markdown",
   "metadata": {
    "hidden": true
   },
   "source": [
    "### - 2.2 空リポジトリ名のフォルダを作成し、実験パッケージをコピーする"
   ]
  },
  {
   "cell_type": "code",
   "execution_count": null,
   "metadata": {
    "hidden": true
   },
   "outputs": [],
   "source": [
    "!mkdir ~/.tmp/\n",
    "!git init ~/.tmp/$repository_title\n",
    "# !datalad create ~/.tmp/$repository_title\n",
    "!cp -r ~/WORKFLOW/PACKAGE/. ~/.tmp/$repository_title/\n",
    "# ex_repoが存在するなら、既存の実験の出力データをinput_dataにコピーする\n",
    "try:\n",
    "    ex_repo\n",
    "    %cd /home/jovyan/experiments/$ex_repo\n",
    "    !git pull\n",
    "    %cd ~/\n",
    "    !cp -r ~/experiments/$ex_repo/output_data/. ~/.tmp/$repository_title/input_data/\n",
    "except:\n",
    "    pass\n",
    "%cd ~/.tmp/$repository_title\n",
    "!git add ~/.tmp/$repository_title\n",
    "!git commit -m '1st commit'\n",
    "!git remote add $repository_title $remote_url\n",
    "!git push $repository_title master\n",
    "# !datalad save --to-git -m \"1st commit\"\n",
    "# !datalad push"
   ]
  },
  {
   "cell_type": "markdown",
   "metadata": {
    "hidden": true
   },
   "source": [
    "### - 2.3 上記リポジトリをサブデータセットとして設定する"
   ]
  },
  {
   "cell_type": "code",
   "execution_count": null,
   "metadata": {
    "hidden": true
   },
   "outputs": [],
   "source": [
    "%cd ~/\n",
    "!git submodule add $remote_url ./experiments/$repository_title"
   ]
  },
  {
   "cell_type": "markdown",
   "metadata": {
    "hidden": true
   },
   "source": [
    "### - 2.4. pipeline.jsonに実験名を追記する"
   ]
  },
  {
   "cell_type": "code",
   "execution_count": null,
   "metadata": {
    "hidden": true
   },
   "outputs": [],
   "source": [
    "import json\n",
    "\n",
    "with open('/home/jovyan/experiments/pipeline.json', 'r') as f:\n",
    "    pipeline = json.load(f)\n",
    "\n",
    "pipeline.append(repository_title)\n",
    "\n",
    "with open('/home/jovyan/experiments/pipeline.json', 'w') as f:\n",
    "    json.dump(pipeline, f, indent = 4)"
   ]
  },
  {
   "cell_type": "markdown",
   "metadata": {
    "hidden": true
   },
   "source": [
    "### - 2.5 このノートブックを保存する"
   ]
  },
  {
   "cell_type": "code",
   "execution_count": null,
   "metadata": {
    "hidden": true
   },
   "outputs": [],
   "source": [
    "from IPython.display import display, Javascript\n",
    "display(Javascript('IPython.notebook.save_checkpoint();'))"
   ]
  },
  {
   "cell_type": "markdown",
   "metadata": {
    "hidden": true
   },
   "source": [
    "### - 2.6 実行結果をデータガバナンス機能に反映する"
   ]
  },
  {
   "cell_type": "code",
   "execution_count": null,
   "metadata": {
    "hidden": true
   },
   "outputs": [],
   "source": [
    "# %cd ~/\n",
    "# !git add ~/\n",
    "# !git commit -m '実験の作成'\n",
    "# !git push origin master\n",
    "# # !datalad save --to-git -m \"実験の作成\"\n",
    "# # !datalad push"
   ]
  },
  {
   "cell_type": "code",
   "execution_count": null,
   "metadata": {},
   "outputs": [],
   "source": [
    "import papermill as pm\n",
    "\n",
    "pm.execute_notebook(\n",
    "    '../util/datalad_save_push.ipynb',\n",
    "    '-',\n",
    "    parameters = dict(SAVE_MESSAGE = '実験用リポジトリの作成', PATH = [未定])\n",
    ")"
   ]
  },
  {
   "cell_type": "markdown",
   "metadata": {},
   "source": [
    "## 3. 実験リポジトリにアクセスして実験を開始する\n",
    "\n",
    "以下のセルを実行した後に出力されるリンクをクリックして実験に移ってください。  \n",
    "このリンクはデータガバナンス機能に作成した実験リポジトリのトップ画面にも表示されます。  "
   ]
  },
  {
   "cell_type": "code",
   "execution_count": null,
   "metadata": {},
   "outputs": [],
   "source": [
    "import urllib\n",
    "\n",
    "print(\n",
    "    \"https://binder.cs.rcos.nii.ac.jp/v2/git/\" + urllib.parse.quote(remote_url, safe='') + \"/HEAD?filepath=experiment.ipynb\"\n",
    ")"
   ]
  },
  {
   "cell_type": "markdown",
   "metadata": {},
   "source": [
    "## 4.[FLOW](../FLOW.md)に戻る"
   ]
  }
 ],
 "metadata": {
  "kernelspec": {
   "display_name": "Python 3 (ipykernel)",
   "language": "python",
   "name": "python3"
  },
  "language_info": {
   "codemirror_mode": {
    "name": "ipython",
    "version": 3
   },
   "file_extension": ".py",
   "mimetype": "text/x-python",
   "name": "python",
   "nbconvert_exporter": "python",
   "pygments_lexer": "ipython3",
   "version": "3.8.12"
  }
 },
 "nbformat": 4,
 "nbformat_minor": 4
}
