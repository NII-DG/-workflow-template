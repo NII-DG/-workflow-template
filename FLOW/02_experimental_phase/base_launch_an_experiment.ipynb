{
 "cells": [
  {
   "attachments": {},
   "cell_type": "markdown",
   "metadata": {
    "tags": []
   },
   "source": [
    "# 実験実行環境を構築する\n",
    "\n",
    "このタスクでは、「新規実験」のための実行環境を構築します。  \n",
    "\n",
    "「研究フロートップページ」に戻る場合は[こちら](../../base_FLOW.ipynb)。新規タブで開きます。  \n",
    "\n",
    "Jupyter Notebookの操作方法については、[こちら](https://support.rdm.nii.ac.jp/usermanual/60/#jp_operation)をご覧ください。新規タブで開きます。"
   ]
  },
  {
   "attachments": {},
   "cell_type": "markdown",
   "metadata": {},
   "source": [
    "## 0. 研究リポジトリ名を確認する  \n",
    "以下のセルを実行すると、この研究実行環境で操作する研究リポジトリ名を確認できます。  "
   ]
  },
  {
   "cell_type": "code",
   "execution_count": null,
   "metadata": {},
   "outputs": [],
   "source": [
    "import os\n",
    "os.chdir('/home/jovyan/WORKFLOWS/FLOW/')\n",
    "from util.scripts import utils\n",
    "utils.show_name('green')"
   ]
  },
  {
   "attachments": {},
   "cell_type": "markdown",
   "metadata": {},
   "source": [
    "## 1. 実験実行環境にアクセスする\n",
    "\n",
    "以下のセルを実行した後に出力されるボタンをクリックして実験実行環境を構築してください。  \n",
    "構築に成功すると自動的に「実験フロートップページ」が表示されます。  \n",
    "「実験フロートップページ」の説明を参考に、「フロー図を作成する」のセルを実行し、実験フロー図を表示してください。  \n",
    "実験フロー図が表示されたら、実験フローの「0. 実験フロー実行準備」フェーズの「初期セットアップを行う」をクリックし、遷移先の画面の指示にしたがって上から順に必要なセルを実行し、実験実行環境のセットアップを行ってください。  \n",
    "初期セットアップまで完了する途中で、実験実行環境のページを閉じてしまった場合は、このタスクを再実行して新しい実験実行環境を構築してください。\n",
    "\n",
    "実験実行環境について以下の点にご留意ください。  \n",
    "- 実行環境が維持されるのは最後に利用した日から**30日間**です。実行環境が消えてしまった場合は、実験パッケージ配下のREADME.mdをご覧の上、新しく構築し直してください。\n",
    "- 作成できる実行環境は10個までです。<br>"
   ]
  },
  {
   "cell_type": "code",
   "execution_count": null,
   "metadata": {},
   "outputs": [],
   "source": [
    "from IPython.display import HTML\n",
    "os.chdir(os.environ['HOME'] + '/WORKFLOWS')\n",
    "from utils import display_util\n",
    "os.chdir(os.environ['HOME'] + '/WORKFLOWS/FLOW')\n",
    "from util.scripts import utils\n",
    "\n",
    "# リモートリポジトリのURLを最新化する\n",
    "is_new_private = utils.update_repo_url()\n",
    "\n",
    "# リモートリポジトリのURLを取得する\n",
    "remote_http_url = !git config --get remote.origin.url\n",
    "for item in remote_http_url:\n",
    "    remote_http_url = item\n",
    "# 非公開リポジトリの場合ユーザー認証を行う\n",
    "if is_new_private[\"is_private\"]:\n",
    "    name, password = utils.verify_GIN_user(with_email=False)\n",
    "    pos = remote_http_url.find(\"://\")\n",
    "    remote_http_url = f\"{remote_http_url[:pos+3]}{name}:{password}@{remote_http_url[pos+3:]}\"\n",
    "\n",
    "display_util.display_info(\"新規実験用の実行環境を構築します。<br>以下のボタンをクリックしてください。新規タブで開きます。<br>\")\n",
    "url = \"https://binder.cs.rcos.nii.ac.jp/v2/git/\" + urllib.parse.quote(remote_http_url, safe='') + \"/HEAD?filepath=WORKFLOWS/experiment.ipynb\"\n",
    "HTML(f'<button onclick=\"window.open(\\'{url}\\')\">実行環境を構築する</button>')"
   ]
  },
  {
   "attachments": {},
   "cell_type": "markdown",
   "metadata": {},
   "source": [
    "ボタンをクリックした後は、以下のような画面が表示され、実行環境の構築が開始されます。この処理には時間がかかります。<br>\n",
    "構築時にエラーになってしまった場合は、[ユーザーマニュアル](https://support.rdm.nii.ac.jp/usermanual/)からデータガバナンス機能Q&A集をご覧ください。<br>\n",
    "\n",
    "![binder_launching](../../images/binder_launching.png)"
   ]
  },
  {
   "attachments": {},
   "cell_type": "markdown",
   "metadata": {},
   "source": [
    "## 2. 研究フロートップページに遷移する\n",
    "\n",
    "以下のセルを実行し、表示されるリンクをクリックして「研究フロートップページ」に戻ってください。"
   ]
  },
  {
   "cell_type": "code",
   "execution_count": null,
   "metadata": {},
   "outputs": [],
   "source": [
    "from IPython.display import display, HTML, Javascript\n",
    "display(HTML(\"<a href='../../base_FLOW.ipynb'>「研究フロートップページ」に遷移する</a>\"))\n",
    "display(Javascript('IPython.notebook.save_checkpoint();'))"
   ]
  }
 ],
 "metadata": {
  "kernelspec": {
   "display_name": "Python 3.9.5 64-bit",
   "language": "python",
   "name": "python3"
  },
  "language_info": {
   "codemirror_mode": {
    "name": "ipython",
    "version": 3
   },
   "file_extension": ".py",
   "mimetype": "text/x-python",
   "name": "python",
   "nbconvert_exporter": "python",
   "pygments_lexer": "ipython3",
   "version": "3.9.5"
  },
  "vscode": {
   "interpreter": {
    "hash": "6a196852dad78838558c3d25678ed4fa7922e766dc7a8a519a679191ca8fa666"
   }
  }
 },
 "nbformat": 4,
 "nbformat_minor": 4
}
