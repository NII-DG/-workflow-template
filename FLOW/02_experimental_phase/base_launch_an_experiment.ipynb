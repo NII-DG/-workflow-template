{
 "cells": [
  {
   "cell_type": "markdown",
   "metadata": {
    "tags": []
   },
   "source": [
    "# 実験実行環境を作成する\n",
    "\n",
    "このタスクでは、「新規実験」や、「実験パッケージの再現」のための実行環境を作成します。  \n",
    "2回目以降の実行の場合は、このセルが選択された状態で画面上部に表示される以下のボタンをクリックしてセルの解凍を行ってから、セルを実行して下さい。  \n",
    "![UnfreezeBotton](../../images/unfreeze_button.png)"
   ]
  },
  {
   "cell_type": "markdown",
   "metadata": {},
   "source": [
    "## 1. 実行環境作成の目的を選択する\n",
    "\n",
    "実行環境を作成することで、「実験を新規作成する」または「同じリポジトリにある実験パッケージをモニタリングする」ことができます。  \n",
    "どちらの用途で実行環境を作成するかを選択した後に、`入力完了`ボタンをクリックしてください。"
   ]
  },
  {
   "cell_type": "code",
   "execution_count": null,
   "metadata": {},
   "outputs": [],
   "source": [
    "import json\n",
    "from ipywidgets import Dropdown, Button, Layout\n",
    "from IPython.display import clear_output\n",
    "\n",
    "style = {'description_width': 'initial'}\n",
    "workflow1 = '実験を新規作成する'\n",
    "workflow2 = '同じリポジトリにある実験パッケージをモニタリングする'\n",
    "\n",
    "# 実験を新規作成するか、実験パッケージをモニタリングするかを選択する\n",
    "def on_click_callback(clicked_button: Button) -> None:\n",
    "    global selected_workflow\n",
    "    if dropdown.value==workflow1:\n",
    "        selected_workflow = 1\n",
    "    elif dropdown.value==workflow2:\n",
    "        selected_workflow = 2\n",
    "    clear_output()\n",
    "    print(\"入力を受けつけました：\", dropdown.value)\n",
    "\n",
    "dropdown = Dropdown(\n",
    "    options=[workflow1, workflow2],\n",
    "    description='実行環境作成の目的を選択：',\n",
    "    disabled=False,\n",
    "    layout=Layout(width='600px'),\n",
    "    style=style\n",
    ")\n",
    "\n",
    "button = Button(description='入力完了')\n",
    "button.on_click(on_click_callback)\n",
    "display(dropdown, button)"
   ]
  },
  {
   "cell_type": "markdown",
   "metadata": {},
   "source": [
    "## 2. 実験実行環境を作成するための準備をする"
   ]
  },
  {
   "cell_type": "code",
   "execution_count": null,
   "metadata": {},
   "outputs": [],
   "source": [
    "import os\n",
    "\n",
    "# リモートURLを最新化する\n",
    "# APIリクエストに必要な情報を取得する\n",
    "os.chdir('/home/jovyan/WORKFLOWS/FLOW/')\n",
    "from util.scripts import utils\n",
    "params = {}\n",
    "with open(utils.fetch_param_file_path(), mode='r') as f:\n",
    "    params = json.load(f)\n",
    "os.chdir(os.environ['HOME'])\n",
    "f =  open('.repo_id', 'r')\n",
    "repo_id =f.read()\n",
    "f.close()\n",
    "# APIからリポジトリの最新のリモートURLを取得し、設定を更新する\n",
    "request_url = params['siblings']['ginHttp'] + 'api/v1/repos/search?id=' + repo_id\n",
    "res = requests.get(request_url)\n",
    "res_data = res.json()\n",
    "ssh_url = res_data[\"data\"][0][\"ssh_url\"]\n",
    "http_url = res_data[\"data\"][0][\"html_url\"] + '.git'\n",
    "!datalad siblings configure -s gin --url $ssh_url\n",
    "!datalad siblings configure -s origin --url $http_url"
   ]
  },
  {
   "cell_type": "code",
   "execution_count": null,
   "metadata": {},
   "outputs": [],
   "source": [
    "import os\n",
    "\n",
    "# urlを生成する\n",
    "os.chdir(os.environ['HOME'])\n",
    "remote_http_url = !git config --get remote.origin.url\n",
    "for item in remote_http_url:\n",
    "    remote_http_url = item"
   ]
  },
  {
   "cell_type": "markdown",
   "metadata": {},
   "source": [
    "## 3. 実験実行環境にアクセスする\n",
    "\n",
    "以下のうち、いずれかの手順を実施してください。\n",
    "\n",
    "- 標準的な実験活動の場合：「3-A. 標準環境での実験」\n",
    "- 高性能実験環境を利用する場合：「3-B. 高性能実験環境での実験」"
   ]
  },
  {
   "cell_type": "markdown",
   "metadata": {},
   "source": [
    "### 3-A. 標準環境での実験\n",
    "\n",
    "以下のセルを実行した後に出力されるリンクをクリックして実験に移ってください。  "
   ]
  },
  {
   "cell_type": "code",
   "execution_count": null,
   "metadata": {},
   "outputs": [],
   "source": [
    "import urllib\n",
    "from colorama import Fore\n",
    "\n",
    "if selected_workflow==1:\n",
    "    print(\"「 \"+ workflow1 +\" 」を目的として実行環境を作成します。\\n以下のリンクをクリックしてください。\\n\")\n",
    "    print(\n",
    "        \"https://binder.cs.rcos.nii.ac.jp/v2/git/\" + urllib.parse.quote(remote_http_url, safe='') + \"/HEAD?filepath=WORKFLOWS/experiment.ipynb\"\n",
    "    )\n",
    "elif selected_workflow==2:\n",
    "    print(\"「 \"+ workflow2 +\" 」を目的として実行環境を作成します。\\n以下のリンクをクリックしてください。\\n\")\n",
    "    print(\n",
    "        \"https://binder.cs.rcos.nii.ac.jp/v2/git/\" + urllib.parse.quote(remote_http_url, safe='') + \"/HEAD?filepath=WORKFLOWS/monitor_package.ipynb\"\n",
    "    )\n",
    "else:\n",
    "    print(Fore.RED + \"目的が選択されていない可能性があります。\\n【1, 実験環境作成の目的を選択する】の入力が完了されているかご確認ください。\")"
   ]
  },
  {
   "cell_type": "markdown",
   "metadata": {},
   "source": [
    "### 3-B. 高性能実験環境での実験\n",
    "\n",
    "以下のセルを実行した後に出力されるリンクをクリックして実験に移ってください。  "
   ]
  },
  {
   "cell_type": "code",
   "execution_count": null,
   "metadata": {},
   "outputs": [],
   "source": [
    "import urllib\n",
    "from colorama import Fore\n",
    "\n",
    "if selected_workflow==1:\n",
    "    print(\"「 \"+ workflow1 +\" 」を目的として実行環境を作成します。\\n以下のリンクをクリックしてください。\\n\")\n",
    "    print(\n",
    "        \"http://163.220.176.50:10980/v2/git/\" + urllib.parse.quote(remote_http_url, safe='') + \"/HEAD?filepath=WORKFLOWS/experiment.ipynb\"\n",
    "    )\n",
    "elif selected_workflow==2:\n",
    "    print(\"「 \"+ workflow2 +\" 」を目的として実行環境を作成します。\\n以下のリンクをクリックしてください。\\n\")\n",
    "    print(\n",
    "        \"http://163.220.176.50:10980/v2/git/\" + urllib.parse.quote(remote_http_url, safe='') + \"/HEAD?filepath=WORKFLOWS/monitor_package.ipynb\"\n",
    "    )\n",
    "else:\n",
    "    print(Fore.RED + \"目的が選択されていない可能性があります。\\n【1, 実験環境作成の目的を選択する】の入力が完了されているかご確認ください。\")"
   ]
  },
  {
   "cell_type": "markdown",
   "metadata": {},
   "source": [
    "## 4. 研究ワークフロー機能トップページに遷移する\n",
    "\n",
    "続けてワークフロー機能を実行する場合は、[こちら](../../base_FLOW.ipynb)からトップページに遷移できます。  "
   ]
  }
 ],
 "metadata": {
  "kernelspec": {
   "display_name": "Python 64-bit ('.')",
   "language": "python",
   "name": "python3"
  },
  "language_info": {
   "codemirror_mode": {
    "name": "ipython",
    "version": 3
   },
   "file_extension": ".py",
   "mimetype": "text/x-python",
   "name": "python",
   "nbconvert_exporter": "python",
   "pygments_lexer": "ipython3",
   "version": ""
  },
  "vscode": {
   "interpreter": {
    "hash": "8a5edab282632443219e051e4ade2d1d5bbc671c781051bf1437897cbdfea0f1"
   }
  }
 },
 "nbformat": 4,
 "nbformat_minor": 4
}
