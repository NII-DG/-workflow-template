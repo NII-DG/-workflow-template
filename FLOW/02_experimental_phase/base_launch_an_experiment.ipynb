{
 "cells": [
  {
   "cell_type": "markdown",
   "metadata": {
    "tags": []
   },
   "source": [
    "# 実験を開始する\n",
    "\n",
    "実験記録に必要な実験パッケージの用意によって実験の作成と開始をサポートします。  \n",
    "実験パッケージは、研究リポジトリのexperimentsフォルダ配下に追加されます。  \n",
    "上から順番に実行してください。  \n",
    "2回目以降の実行の場合、このセルが選択された状態で画面上部に表示される以下のボタンをクリックしてから実行して下さい。  \n",
    "![UnfreezeBotton](https://raw.githubusercontent.com/NII-DG/workflow-template/develop/sections/images/unfreeze_button.png)"
   ]
  },
  {
   "cell_type": "markdown",
   "metadata": {},
   "source": [
    "## 1. 実験環境を作成するための準備をする"
   ]
  },
  {
   "cell_type": "code",
   "execution_count": null,
   "metadata": {
    "vscode": {
     "languageId": "plaintext"
    }
   },
   "outputs": [],
   "source": [
    "import json\n",
    "import os\n",
    "\n",
    "path_flow_root = '/home/jovyan/WORKFLOWS/FLOW/'\n",
    "os.chdir(path_flow_root)\n",
    "from util.scripts import utils\n",
    "\n",
    "params = {}\n",
    "with open(utils.fetch_param_file_path(), mode='r') as f:\n",
    "    params = json.load(f)"
   ]
  },
  {
   "cell_type": "code",
   "execution_count": null,
   "metadata": {
    "vscode": {
     "languageId": "plaintext"
    }
   },
   "outputs": [],
   "source": [
    "# urlを生成する\n",
    "%cd ~/\n",
    "remote_http_url = !git config --get remote.origin.url\n",
    "for item in remote_http_url:\n",
    "    remote_http_url = item\n",
    "\n",
    "repository_title = remote_http_url.split('/')[-1].replace('.git', '')"
   ]
  },
  {
   "cell_type": "markdown",
   "metadata": {},
   "source": [
    "## 2. 実験環境にアクセスする\n",
    "\n",
    "以下のうち、いずれかの手順を実施してください。\n",
    "\n",
    "- 標準的な実験活動の場合：「2-A. 標準環境での実験」\n",
    "- 高性能実験環境を利用する場合：「2-B. 高性能実験環境での実験」"
   ]
  },
  {
   "cell_type": "markdown",
   "metadata": {},
   "source": [
    "### - 2-A. 標準環境での実験\n",
    "\n",
    "以下のセルを実行した後に出力されるリンクをクリックして実験に移ってください。"
   ]
  },
  {
   "cell_type": "code",
   "execution_count": null,
   "metadata": {
    "vscode": {
     "languageId": "plaintext"
    }
   },
   "outputs": [],
   "source": [
    "import urllib\n",
    "\n",
    "print(\n",
    "    \"https://binder.cs.rcos.nii.ac.jp/v2/git/\" + urllib.parse.quote(remote_http_url, safe='') + \"/HEAD?filepath=WORKFLOWS/experiment.ipynb\"\n",
    ")"
   ]
  },
  {
   "cell_type": "markdown",
   "metadata": {},
   "source": [
    "### - 2-B. 高性能実験環境での実験\n",
    "\n",
    "以下のセルを実行し、「高性能実験環境と正常に接続されています」と表示されることを確認してください。  \n",
    "表示されない場合、[高性能実験環境を準備する](../01_preparation_phase/base_setup_data_analysis_tools.ipynb) の手順を実施してください。"
   ]
  },
  {
   "cell_type": "code",
   "execution_count": null,
   "metadata": {
    "vscode": {
     "languageId": "plaintext"
    }
   },
   "outputs": [],
   "source": [
    "!ssh mdx \"echo 高性能実験環境と正常に接続されています\""
   ]
  },
  {
   "cell_type": "markdown",
   "metadata": {},
   "source": [
    "高性能実験環境の接続先情報を取得します。以下のセルを実行してください。"
   ]
  },
  {
   "cell_type": "code",
   "execution_count": null,
   "metadata": {
    "vscode": {
     "languageId": "plaintext"
    }
   },
   "outputs": [],
   "source": [
    "mdx_host = ''\n",
    "with open('/home/jovyan/.ssh/config', 'r') as f:\n",
    "    tmp = f.read()\n",
    "    tmp = tmp[tmp.find('mdx'):]\n",
    "    tmp = tmp[tmp.find('Hostname ') + len('Hostname '):]\n",
    "    mdx_host = tmp[:tmp.find('\\n')]"
   ]
  },
  {
   "cell_type": "markdown",
   "metadata": {},
   "source": [
    "高性能実験環境に実験パッケージ情報を転送します。以下のセルを実行してください。"
   ]
  },
  {
   "cell_type": "code",
   "execution_count": null,
   "metadata": {
    "vscode": {
     "languageId": "plaintext"
    }
   },
   "outputs": [],
   "source": [
    "# コンテナを起動する毎に最新のリポジトリをクローンする\n",
    "list = !ssh mdx ls\n",
    "for path in list:\n",
    "    if path == repository_title:\n",
    "        !ssh mdx rm -rf $repository_title\n",
    "\n",
    "cmd = \"git clone \" + remote_http_url\n",
    "!ssh mdx $cmd"
   ]
  },
  {
   "cell_type": "markdown",
   "metadata": {},
   "source": [
    "高性能実験環境においてJupyterLabを起動します。以下のセルを実行してください。  \n",
    "実行後、表示されるリンクをクリックすると、パスワードの入力が求められますので「gpu-jupyter」と入力してLoginしてください。"
   ]
  },
  {
   "cell_type": "code",
   "execution_count": null,
   "metadata": {
    "vscode": {
     "languageId": "plaintext"
    }
   },
   "outputs": [],
   "source": [
    "from IPython.display import clear_output\n",
    "\n",
    "# JupyterLabコンテナイメージの作成\n",
    "cmd = \"docker build -t dg/jupyterlab:1.1 ./\" + repository_title + \"/\"\n",
    "!ssh mdx $cmd\n",
    "clear_output()\n",
    "\n",
    "# JupyterLabコンテナの起動\n",
    "if mdx_host == '163.220.176.51':\n",
    "    cmd = \"docker run --gpus all -d -P dg/jupyterlab:1.1\"\n",
    "else:\n",
    "    cmd = \"docker run -d -P dg/jupyterlab:1.1\"\n",
    "container_id = !ssh mdx $cmd\n",
    "container_id = container_id[0][:12]\n",
    "\n",
    "# ホストマシン上で動的に割り当てられたポートを取得\n",
    "cmd = \"docker ps -l\"\n",
    "port = !ssh mdx $cmd\n",
    "port = port[1]\n",
    "port = port[port.find(\"0.0.0.0:\") + 8: port.find(\"->8888/tcp\")]\n",
    "\n",
    "# JupyterLab利用のためのURLを表示\n",
    "url = \"http://\" + mdx_host + \":\" + str(port) + \"/notebooks/WORKFLOWS/experiment.ipynb\"\n",
    "print(url)"
   ]
  },
  {
   "cell_type": "markdown",
   "metadata": {},
   "source": [
    "## 3. ワークフロー機能トップページに遷移する\n",
    "\n",
    "続けてワークフロー機能を実行する場合は、[こちら](../../base_FLOW.ipynb)からトップページに遷移できます。  "
   ]
  }
 ],
 "metadata": {
  "kernelspec": {
   "display_name": "Python 3 (ipykernel)",
   "language": "python",
   "name": "python3"
  },
  "language_info": {
   "codemirror_mode": {
    "name": "ipython",
    "version": 3
   },
   "file_extension": ".py",
   "mimetype": "text/x-python",
   "name": "python",
   "nbconvert_exporter": "python",
   "pygments_lexer": "ipython3",
   "version": "3.9.10"
  }
 },
 "nbformat": 4,
 "nbformat_minor": 4
}
