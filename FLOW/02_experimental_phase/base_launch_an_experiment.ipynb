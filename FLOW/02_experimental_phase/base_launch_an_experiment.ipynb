{
	"cells": [
		{
			"attachments": {
				"image.png": {
					"image/png": "[encoded data removed]"
				}
			},
			"cell_type": "markdown",
			"metadata": {},
			"source": [
				"# 実験を開始する\n",
				"\n",
				"実験リポジトリの新規作成と実験記録に必要な実験パッケージの用意によって実験の作成と開始をサポートします。  \n",
				"実験リポジトリは、研究プロジェクトのリポジトリとは別のリポジトリですが、研究リポジトリのexperimentsフォルダ配下に子関係として追加されます。  \n",
				"上から順番に実行してください。  \n",
				"2回目以降の実行の場合、このセルが選択された状態で画面上部に表示される以下のボタンをクリックしてから実行して下さい。\n",
				"![image.png](attachment:image.png)"
			]
		},
		{
			"cell_type": "markdown",
			"metadata": {},
			"source": [
				"## 1. 開始する実験の実験リポジトリ名を入力する\n",
				"\n",
				"以下のセルを実行し、表示されるテキストボックスに作成したい実験リポジトリ名を半角英数字で入力してください。  \n",
				"データガバナンス機能にすでに存在するリポジトリ名のリポジトリは作成いただけません。実験名など分かりやすい名前をご記入ください。  \n",
				"入力した実験リポジトリ名の履歴をこのノートブックに保存したい場合は、実行後にセルの左側に表示されるピンマークをクリックしてください。  \n",
				"※入力値に誤りがある場合、もう一度実行することで訂正ができます。"
			]
		},
		{
			"cell_type": "code",
			"execution_count": null,
			"metadata": {
				"trusted": true
			},
			"outputs": [],
			"source": [
				"from IPython.display import clear_output\n",
				"repository_title = input(\"リポジトリ名：\")\n",
				"clear_output()\n",
				"print(\"作成したリポジトリ名：\",repository_title)"
			]
		},
		{
			"cell_type": "markdown",
			"metadata": {
				"heading_collapsed": true
			},
			"source": [
				"## 2. 実験リポジトリを作成する\n",
				"\n",
				"先ほど入力いただいた名前の実験用リポジトリをデータガバナンス機能に作成します。  \n",
				"そのために、以下のセルを実行し、表示されるテキストボックスにデータガバナンス機能のユーザ名とパスワードを入力してください。  \n",
				"この情報は認証のために利用します。"
			]
		},
		{
			"cell_type": "code",
			"execution_count": null,
			"metadata": {
				"trusted": true
			},
			"outputs": [],
			"source": [
				"import json\n",
				"import os\n",
				"os.chdir('..')\n",
				"\n",
				"from util.scripts import utils\n",
				"\n",
				"# 以下の認証の手順で用いる、\n",
				"# GINのドメイン名等をパラメタファイルから取得する\n",
				"params = {}\n",
				"with open(utils.fetch_param_file_path(), mode='r') as f:\n",
				"    params = json.load(f)"
			]
		},
		{
			"cell_type": "code",
			"execution_count": null,
			"metadata": {
				"trusted": true
			},
			"outputs": [],
			"source": [
				"# リポジトリ作成のためのユーザ認証\n",
				"import os\n",
				"import time\n",
				"import getpass\n",
				"import requests\n",
				"\n",
				"from IPython.display import clear_output\n",
				"from requests.auth import HTTPBasicAuth\n",
				"from http import HTTPStatus\n",
				"\n",
				"# 正常に認証が終わるまで繰り返し\n",
				"while True:\n",
				"    name = input(\"ユーザー名：\")\n",
				"    password = getpass.getpass(\"パスワード：\")\n",
				"    clear_output()\n",
				"    \n",
				"    # GIN API Basic Authentication\n",
				"    # refs: https://docs.python-requests.org/en/master/user/authentication/\n",
				"    \n",
				"    # 既存のトークンがあるか確認する\n",
				"    response = requests.get(params['siblings']['ginHttp']+'api/v1/users/' + name + '/tokens', auth=(name, password))\n",
				"    tokens = response.json()\n",
				"\n",
				"    # 既存のトークンがなければ作成する\n",
				"    if len(tokens) < 1:\n",
				"        response = requests.post(params['siblings']['ginHttp']+'api/v1/users/' + name + '/tokens', data={\"name\": \"system-generated\"} ,auth=(name, password))\n",
				"\n",
				"    if response.status_code == HTTPStatus.OK or HTTPStatus.CREATED:\n",
				"        tokens = response.json()\n",
				"        clear_output()\n",
				"        print(\"認証が正常に完了しました。次の手順へお進みください。\")\n",
				"        break\n",
				"    else:\n",
				"        clear_output()\n",
				"        print(\"ユーザ名、またはパスワードが間違っています。\\n恐れ入りますがもう一度ご入力ください。\")"
			]
		},
		{
			"cell_type": "code",
			"execution_count": null,
			"metadata": {
				"trusted": true
			},
			"outputs": [],
			"source": [
				"# GIN APIでリポジトリを作成する\n",
				"import requests\n",
				"\n",
				"create_repo = requests.post(\n",
				"                # FIXME: ドメイン名のハードコーディング\n",
				"                params['siblings']['ginHttp']+'api/v1/user/repos?token=' + tokens[0]['sha1'],\n",
				"                data={\n",
				"                    \"name\": repository_title,\n",
				"                    \"auto_init\": False\n",
				"                }\n",
				"                )\n",
				"print(create_repo)"
			]
		},
		{
			"cell_type": "markdown",
			"metadata": {
				"hidden": true
			},
			"source": [
				"## 3. 実験記録管理のための準備を行う"
			]
		},
		{
			"cell_type": "markdown",
			"metadata": {},
			"source": [
				"### - 3.1 実験リポジトリに実験パッケージを用意する"
			]
		},
		{
			"cell_type": "code",
			"execution_count": null,
			"metadata": {},
			"outputs": [],
			"source": [
				"%%bash\n",
				"#!/bin/bash\n",
				"if [ ! -d ~/.tmp/ ]; then\n",
				"    # .tmpフォルダを作成\n",
				"    mkdir ~/.tmp\n",
				"fi\n",
				"\n",
				"if [ ! -d ~/.tmp/repository_title ]; then\n",
				"    # 実験タイトル名のフォルダを作成\n",
				"    mkdir ~/.tmp/repository_title\n",
				"fi"
			]
		},
		{
			"cell_type": "code",
			"execution_count": null,
			"metadata": {},
			"outputs": [],
			"source": [
				"# urlを生成する\n",
				"remote_url = params['siblings']['ginSsh']+name+'/'+repository_title+'.git'\n",
				"remote_http_url = params['siblings']['ginHttp']+name+'/'+repository_title+'.git'\n",
				"\n",
				"# 実験パッケージを用意する\n",
				"!cp -r ~/WORKFLOW/PACKAGE/. ~/.tmp/$repository_title/\n",
				"\n",
				"# dataset化してsiblingを設定する\n",
				"%cd ~/.tmp/$repository_title\n",
				"!datalad create --force .\n",
				"!datalad siblings add -s \"gin\" --url $remote_url"
			]
		},
		{
			"cell_type": "code",
			"execution_count": null,
			"metadata": {},
			"outputs": [],
			"source": [
				"# データガバナンス機能に同期する\n",
				"import papermill as pm\n",
				"pm.execute_notebook(\n",
				"    '/home/jovyan/WORKFLOW/FLOW/util/base_datalad_save_push.ipynb',\n",
				"    '/home/jovyan/.local/push_log.ipynb',\n",
				"    parameters = dict(SAVE_MESSAGE = '実験パッケージの用意', PATH='/home/jovyan/.tmp/'+repository_title, TO_GIT = True)\n",
				")"
			]
		},
		{
			"cell_type": "code",
			"execution_count": null,
			"metadata": {},
			"outputs": [],
			"source": [
				"# 実験リポジトリをexperiments配下にクローンする\n",
				"%cd ~/\n",
				"!datalad clone -d . $remote_http_url \\./experiments/$repository_title"
			]
		},
		{
			"cell_type": "markdown",
			"metadata": {
				"hidden": true
			},
			"source": [
				"### - 3.2 pipeline.jsonに実験名を追記する"
			]
		},
		{
			"cell_type": "code",
			"execution_count": null,
			"metadata": {
				"hidden": true,
				"trusted": true
			},
			"outputs": [],
			"source": [
				"import json\n",
				"\n",
				"with open('/home/jovyan/experiments/pipeline.json', 'r') as f:\n",
				"    pipeline = json.load(f)\n",
				"\n",
				"pipeline.append(repository_title)\n",
				"\n",
				"with open('/home/jovyan/experiments/pipeline.json', 'w') as f:\n",
				"    json.dump(pipeline, f, indent = 4)"
			]
		},
		{
			"cell_type": "markdown",
			"metadata": {
				"hidden": true
			},
			"source": [
				"## 4. 実行結果をデータガバナンス機能に同期する\n",
				"\n",
				"ここまでの内容を保存し、データガバナンス機能に同期します。  \n",
				"以下のセルを実行してください。"
			]
		},
		{
			"cell_type": "code",
			"execution_count": null,
			"metadata": {},
			"outputs": [],
			"source": [
				"from IPython.display import display, Javascript\n",
				"display(Javascript('IPython.notebook.save_checkpoint();'))"
			]
		},
		{
			"cell_type": "code",
			"execution_count": null,
			"metadata": {
				"trusted": true
			},
			"outputs": [],
			"source": [
				"import papermill as pm\n",
				"\n",
				"%cd ~/\n",
				"\n",
				"pm.execute_notebook(\n",
				"    'WORKFLOW/FLOW/util/base_datalad_save_push.ipynb',\n",
				"    '/home/jovyan/.local/push_log.ipynb',\n",
				"    parameters = dict(SAVE_MESSAGE = '実験用リポジトリの作成', IS_RECURSIVE = False, TO_GIT = True)#, PATH = '/home/jovyan/experiments/'+repository_title)\n",
				")"
			]
		},
		{
			"cell_type": "markdown",
			"metadata": {},
			"source": [
				"## 5. 実験リポジトリにアクセスして実験を開始する\n",
				"\n",
				"以下のセルを実行した後に出力されるリンクをクリックして実験に移ってください。 "
			]
		},
		{
			"cell_type": "code",
			"execution_count": null,
			"metadata": {
				"trusted": true
			},
			"outputs": [],
			"source": [
				"import urllib\n",
				"\n",
				"print(\n",
				"    \"https://binder.cs.rcos.nii.ac.jp/v2/git/\" + urllib.parse.quote(remote_http_url, safe='') + \"/HEAD?filepath=experiment.ipynb\"\n",
				")"
			]
		},
		{
			"cell_type": "markdown",
			"metadata": {},
			"source": [
				"## 6. ワークフロー機能トップページに遷移する\n",
				"\n",
				"続けてワークフロー機能を実行する場合は、[こちら](../base_FLOW.ipynb)からトップページに遷移できます。  "
			]
		}
	],
	"metadata": {
		"kernelspec": {
			"display_name": "Python 3 (ipykernel)",
			"language": "python",
			"name": "python3"
		},
		"language_info": {
			"codemirror_mode": {
				"name": "ipython",
				"version": 3
			},
			"file_extension": ".py",
			"mimetype": "text/x-python",
			"name": "python",
			"nbconvert_exporter": "python",
			"pygments_lexer": "ipython3",
			"version": "3.7.10"
		}
	},
	"nbformat": 4,
	"nbformat_minor": 4
}
