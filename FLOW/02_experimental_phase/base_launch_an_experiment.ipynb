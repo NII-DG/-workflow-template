{
 "cells": [
  {
   "cell_type": "markdown",
   "metadata": {
    "tags": []
   },
   "source": [
    "# 実験環境を作成する\n",
    "\n",
    "新規実験や、実験パッケージの再現のための実験環境を作成します。  \n",
    "2回目以降の実行の場合、このセルが選択された状態で画面上部に表示される以下のボタンをクリックしてから実行して下さい。  \n",
    "![UnfreezeBotton](https://raw.githubusercontent.com/NII-DG/workflow-template/develop/sections/images/unfreeze_button.png)"
   ]
  },
  {
   "cell_type": "markdown",
   "metadata": {},
   "source": [
    "## 1. 実験環境作成の目的を選択する\n",
    "\n",
    "実験環境を作成することで、「実験を新規作成する」または「同じリポジトリにある実験パッケージをモニタリングする」ことができます。  \n",
    "どちらの用途で実験環境を作成するかを選択してください。"
   ]
  },
  {
   "cell_type": "code",
   "execution_count": null,
   "metadata": {
    "vscode": {
     "languageId": "plaintext"
    }
   },
   "outputs": [],
   "source": [
    "import json\n",
    "from ipywidgets import Dropdown, Button, Layout\n",
    "from IPython.display import clear_output\n",
    "\n",
    "style = {'description_width': 'initial'}\n",
    "workflow1 = '実験を新規作成する'\n",
    "workflow2 = '同じリポジトリにある実験パッケージをモニタリングする'\n",
    "\n",
    "# 実験を新規作成するか、実験パッケージをモニタリングするかを選択する\n",
    "def on_click_callback(clicked_button: Button) -> None:\n",
    "    global selected_workflow\n",
    "    if dropdown.value==workflow1:\n",
    "        selected_workflow = 1\n",
    "    elif dropdown.value==workflow2:\n",
    "        selected_workflow = 2\n",
    "    clear_output()\n",
    "    print(\"入力を受けつけました：\", dropdown.value)\n",
    "\n",
    "dropdown = Dropdown(\n",
    "    options=[workflow1, workflow2],\n",
    "    description='行いたいワークフローを選択する：',\n",
    "    disabled=False,\n",
    "    layout=Layout(width='600px'),\n",
    "    style=style\n",
    ")\n",
    "\n",
    "button = Button(description='入力完了')\n",
    "button.on_click(on_click_callback)\n",
    "display(dropdown, button)"
   ]
  },
  {
   "cell_type": "markdown",
   "metadata": {},
   "source": [
    "## 2. 実験環境を作成するための準備をする"
   ]
  },
  {
   "cell_type": "code",
   "execution_count": null,
   "metadata": {
    "vscode": {
     "languageId": "plaintext"
    }
   },
   "outputs": [],
   "source": [
    "import json\n",
    "import os\n",
    "\n",
    "path_flow_root = '/home/jovyan/WORKFLOWS/FLOW/'\n",
    "os.chdir(path_flow_root)\n",
    "from util.scripts import utils\n",
    "\n",
    "params = {}\n",
    "with open(utils.fetch_param_file_path(), mode='r') as f:\n",
    "    params = json.load(f)"
   ]
  },
  {
   "cell_type": "code",
   "execution_count": null,
   "metadata": {
    "vscode": {
     "languageId": "plaintext"
    }
   },
   "outputs": [],
   "source": [
    "# urlを生成する\n",
    "%cd ~/\n",
    "remote_http_url = !git config --get remote.origin.url\n",
    "for item in remote_http_url:\n",
    "    remote_http_url = item\n",
    "\n",
    "repository_title = remote_http_url.split('/')[-1].replace('.git', '')"
   ]
  },
  {
   "cell_type": "markdown",
   "metadata": {},
   "source": [
    "## 3. 実験環境にアクセスする\n",
    "\n",
    "以下のうち、いずれかの手順を実施してください。\n",
    "\n",
    "- 標準的な実験活動の場合：「3-A. 標準環境での実験」\n",
    "- 高性能実験環境を利用する場合：「3-B. 高性能実験環境での実験」"
   ]
  },
  {
   "cell_type": "markdown",
   "metadata": {},
   "source": [
    "### - 3-A. 標準環境での実験\n",
    "\n",
    "以下のセルを実行した後に出力されるリンクをクリックして実験に移ってください。"
   ]
  },
  {
   "cell_type": "code",
   "execution_count": null,
   "metadata": {
    "vscode": {
     "languageId": "plaintext"
    }
   },
   "outputs": [],
   "source": [
    "import urllib\n",
    "\n",
    "if selected_workflow==1:\n",
    "    print(\n",
    "        \"https://binder.cs.rcos.nii.ac.jp/v2/git/\" + urllib.parse.quote(remote_http_url, safe='') + \"/HEAD?filepath=WORKFLOWS/experiment.ipynb\"\n",
    "    )\n",
    "elif selected_workflow==2:\n",
    "    print(\n",
    "        \"https://binder.cs.rcos.nii.ac.jp/v2/git/\" + urllib.parse.quote(remote_http_url, safe='') + \"/HEAD?filepath=WORKFLOWS/monitor_package.ipynb\"\n",
    "    )"
   ]
  },
  {
   "cell_type": "markdown",
   "metadata": {},
   "source": [
    "### - 3-B. 高性能実験環境(GPUあり)環境での実験\n",
    "\n",
    "以下のセルを実行した後に出力されるリンクをクリックして実験に移ってください。"
   ]
  },
  {
   "cell_type": "code",
   "execution_count": null,
   "metadata": {},
   "outputs": [],
   "source": [
    "import urllib\n",
    "\n",
    "if selected_workflow==1:\n",
    "    print(\n",
    "        \"http://163.220.176.51:10980/v2/git/\" + urllib.parse.quote(remote_http_url, safe='') + \"/HEAD?filepath=WORKFLOWS/experiment.ipynb\"\n",
    "    )\n",
    "elif selected_workflow==2:\n",
    "    print(\n",
    "        \"http://163.220.176.51:10980/v2/git/\" + urllib.parse.quote(remote_http_url, safe='') + \"/HEAD?filepath=WORKFLOWS/monitor_package.ipynb\"\n",
    "    )"
   ]
  },
  {
   "cell_type": "markdown",
   "metadata": {},
   "source": [
    "### - 3-C. 高性能実験環境(GPUなし)環境での実験\n",
    "\n",
    "以下のセルを実行した後に出力されるリンクをクリックして実験に移ってください。"
   ]
  },
  {
   "cell_type": "code",
   "execution_count": null,
   "metadata": {},
   "outputs": [],
   "source": [
    "import urllib\n",
    "\n",
    "if selected_workflow==1:\n",
    "    print(\n",
    "        \"http://163.220.176.50:10980/v2/git/\" + urllib.parse.quote(remote_http_url, safe='') + \"/HEAD?filepath=WORKFLOWS/experiment.ipynb\"\n",
    "    )\n",
    "elif selected_workflow==2:\n",
    "    print(\n",
    "        \"http://163.220.176.50:10980/v2/git/\" + urllib.parse.quote(remote_http_url, safe='') + \"/HEAD?filepath=WORKFLOWS/monitor_package.ipynb\"\n",
    "    )"
   ]
  },
  {
   "cell_type": "markdown",
   "metadata": {},
   "source": [
    "## 4. ワークフロー機能トップページに遷移する\n",
    "\n",
    "続けてワークフロー機能を実行する場合は、[こちら](../../base_FLOW.ipynb)からトップページに遷移できます。  "
   ]
  }
 ],
 "metadata": {
  "kernelspec": {
   "display_name": "Python 3 (ipykernel)",
   "language": "python",
   "name": "python3"
  },
  "language_info": {
   "codemirror_mode": {
    "name": "ipython",
    "version": 3
   },
   "file_extension": ".py",
   "mimetype": "text/x-python",
   "name": "python",
   "nbconvert_exporter": "python",
   "pygments_lexer": "ipython3",
   "version": "3.9.10"
  }
 },
 "nbformat": 4,
 "nbformat_minor": 4
}
