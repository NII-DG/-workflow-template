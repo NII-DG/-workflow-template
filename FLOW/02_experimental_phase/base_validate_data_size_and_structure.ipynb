{
 "cells": [
  {
   "attachments": {},
   "cell_type": "markdown",
   "metadata": {},
   "source": [
    "# データサイズとデータセット構成の検証用ノートブック"
   ]
  }
 ],
 "metadata": {
  "language_info": {
   "name": "python"
  },
  "orig_nbformat": 4
 },
 "nbformat": 4,
 "nbformat_minor": 2
}
