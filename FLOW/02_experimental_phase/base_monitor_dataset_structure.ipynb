{
 "cells": [
  {
   "cell_type": "markdown",
   "metadata": {},
   "source": [
    "# データセット構成状態モニタリング\n",
    "\n",
    "ここでは、作成いただいたデータセット（実験パッケージ）の構成状態をモニタリングします。以下のセルを実行することで、それぞれのデータセットがその管理品質上、適合的であるかどうかを確認できます。モニタリングの結果は各実験パッケージのREADME.mdへ自動的に反映されます。\n",
    "\n",
    "![result_on_README](https://raw.githubusercontent.com/NII-DG/workflow-template/main/images/result_on_README.png)\n"
   ]
  },
  {
   "cell_type": "markdown",
   "metadata": {},
   "source": [
    "## 1. 各実験パッケージのデータセット構成をモニタリングする"
   ]
  },
  {
   "cell_type": "code",
   "execution_count": null,
   "metadata": {},
   "outputs": [],
   "source": [
    "%cd ~/\n",
    "# リポジトリと同期して内容を最新化する\n",
    "!datalad update -s gin --merge"
   ]
  },
  {
   "cell_type": "code",
   "execution_count": null,
   "metadata": {},
   "outputs": [],
   "source": [
    "import os\n",
    "import json\n",
    "from typing import List\n",
    "\n",
    "path_flow_root = '/home/jovyan/WORKFLOWS/FLOW/'\n",
    "os.chdir(path_flow_root)\n",
    "from util.scripts import utils\n",
    "\n",
    "def get_ideal_paths(scheme_name: str, path_to_dataset: str) -> List[str]:\n",
    "    # 存在することが望ましいディレクトリ・ファイルのリスト\n",
    "    ideal_paths_RCOS_with_code = [\n",
    "        path_to_dataset + '/source',\n",
    "        path_to_dataset + '/input_data',\n",
    "        path_to_dataset + '/output_data',\n",
    "        path_to_dataset + '/meta_data.json'\n",
    "    ]\n",
    "\n",
    "    ideal_paths_RCOS_only_data = [\n",
    "        path_to_dataset + '/input_data',\n",
    "        path_to_dataset + '/output_data',\n",
    "        path_to_dataset + '/meta_data.json'\n",
    "    ]\n",
    "\n",
    "    # パラメータ実験毎に存在していほしいディレクトリを構成をチェックする方法を検討中。\n",
    "    # まずは必ず存在するディレクトリをチェックする。\n",
    "    ideal_paths_RCOS_for_parameters = [\n",
    "        path_to_dataset + '/source',\n",
    "        path_to_dataset + '/input_data',\n",
    "        path_to_dataset + '/meta_data.json'\n",
    "    ]\n",
    "\n",
    "    return eval('ideal_paths_' + scheme_name)\n",
    "\n",
    "###########################################################################################################\n",
    "\n",
    "\n",
    "def monitor_dataset_structure(scheme_name: str, paths_to_dataset: List[str]) -> bool:\n",
    "    ideal_paths: List[str] = []\n",
    "    dataset_name: str = ''\n",
    "\n",
    "    for dataset in paths_to_dataset:\n",
    "        isOK: bool = True\n",
    "        ideal_paths = get_ideal_paths(scheme_name, dataset)\n",
    "        dataset_name = os.path.basename(dataset)\n",
    "\n",
    "        print('================================ Monitoring Dataset Structure ================================')\n",
    "        print('Dataset name: ' + dataset_name)\n",
    "        print(' STATUS    PATH')\n",
    "\n",
    "        for path in ideal_paths:\n",
    "            if os.path.exists(path):\n",
    "                print('  OK    ' + path)\n",
    "            else:\n",
    "                print('  NG    ' + path)\n",
    "                print('        [WARN] Your dataset structure is deprecated.')\n",
    "                if isOK:\n",
    "                    isOK = False\n",
    "\n",
    "        print('\\nMonitered by \"' + scheme_name + '\" scheme.\\n')\n",
    "        utils.reflect_monitoring_results('datasetStructure', isOK, dataset)\n",
    "\n",
    "    return isOK\n",
    "\n",
    "###########################################################################################################\n",
    "\n",
    "# スクリプトファイルの拡張子リストを定義（あるいは読み出し）\n",
    "# something cool...\n",
    "\n",
    "\n",
    "def main() -> None:\n",
    "    path_monitoring_params = utils.fetch_monitoring_param_file_path()\n",
    "\n",
    "    # データセットのパスのリストを作成\n",
    "    base_path = '/home/jovyan/experiments/'\n",
    "    files = os.listdir(base_path)\n",
    "    global paths_to_dataset\n",
    "    paths_to_dataset = [base_path + f for f in files if os.path.isdir(os.path.join(base_path, f))]\n",
    "\n",
    "    # データセット構成のスキームを取得\n",
    "    scheme_name = ''\n",
    "    with open(path_monitoring_params, \"r\") as f:\n",
    "        dmp = json.load(f)\n",
    "        scheme_name = dmp[\"datasetStructure\"]\n",
    "\n",
    "    isOK: bool = monitor_dataset_structure(scheme_name, paths_to_dataset)\n",
    "\n",
    "if __name__ == '__main__':\n",
    "    main()\n"
   ]
  },
  {
   "cell_type": "markdown",
   "metadata": {},
   "source": [
    "## 2. 実行結果をデータガバナンス機能に同期する\n",
    "\n",
    "ここまでの内容を保存し、データガバナンス機能に同期します。  \n",
    "以下のセルを実行してください。"
   ]
  },
  {
   "cell_type": "code",
   "execution_count": null,
   "metadata": {},
   "outputs": [],
   "source": [
    "from IPython.display import display, Javascript\n",
    "display(Javascript('IPython.notebook.save_checkpoint();'))"
   ]
  },
  {
   "cell_type": "markdown",
   "metadata": {},
   "source": [
    "以下を実行して、`リポジトリ側の変更と競合しました。競合を解決してください。`と表示された場合は、[こちらのFAQ](http://dg02.dg.rcos.nii.ac.jp/G-Node/Info/wiki/%E3%83%AF%E3%83%BC%E3%82%AF%E3%83%95%E3%83%AD%E3%83%BC#1-1%E5%90%8C%E6%9C%9F%E5%87%A6%E7%90%86%E3%82%92%E5%AE%9F%E8%A1%8C%E3%81%99%E3%82%8B%E3%81%A8%E3%80%81%E3%83%AA%E3%83%9D%E3%82%B8%E3%83%88%E3%83%AA%E5%81%B4%E3%81%AE%E5%A4%89%E6%9B%B4%E3%81%A8%E7%AB%B6%E5%90%88%E3%81%97%E3%81%BE%E3%81%97%E3%81%9F%E3%80%82%E7%AB%B6%E5%90%88%E3%82%92%E8%A7%A3%E6%B1%BA%E3%81%97%E3%81%A6%E3%81%8F%E3%81%A0%E3%81%95%E3%81%84%E3%80%82%E3%81%A8%E8%A1%A8%E7%A4%BA%E3%81%95%E3%82%8C%E3%82%8B)を参考に競合を解決してください。"
   ]
  },
  {
   "cell_type": "code",
   "execution_count": null,
   "metadata": {},
   "outputs": [],
   "source": [
    "import papermill as pm\n",
    "from colorama import Fore\n",
    "from IPython.display import clear_output\n",
    "\n",
    "%cd ~/\n",
    "# 同期対象を書く実験パッケージのREADME.mdとこのセクションにする\n",
    "save_path=[]\n",
    "for path in paths_to_dataset:\n",
    "    save_path.append(path+'/README.md')\n",
    "save_path.append('WORKFLOWS/FLOW/02_experimental_phase/base_monitor_dataset_structure.ipynb')\n",
    "\n",
    "try:\n",
    "    pm.execute_notebook(\n",
    "        'WORKFLOWS/FLOW/util/base_datalad_save_push.ipynb',\n",
    "        '/home/jovyan/.local/push_log.ipynb',\n",
    "        parameters=dict(SAVE_MESSAGE='モニタリング（データセット構成）', IS_RECURSIVE=False, TO_GIT=True, PATH = save_path)\n",
    "    )\n",
    "finally:\n",
    "    clear_output()\n",
    "    %store -r DATALAD_MESSAGE\n",
    "    %store -r DATALAD_ERROR\n",
    "    print('\\n' + DATALAD_MESSAGE + '\\n')\n",
    "    print(Fore.RED + DATALAD_ERROR)"
   ]
  }
 ],
 "metadata": {
  "kernelspec": {
   "display_name": "Python 64-bit ('.')",
   "language": "python",
   "name": "python3"
  },
  "language_info": {
   "name": "python",
   "version": ""
  },
  "orig_nbformat": 4,
  "vscode": {
   "interpreter": {
    "hash": "8a5edab282632443219e051e4ade2d1d5bbc671c781051bf1437897cbdfea0f1"
   }
  }
 },
 "nbformat": 4,
 "nbformat_minor": 2
}
