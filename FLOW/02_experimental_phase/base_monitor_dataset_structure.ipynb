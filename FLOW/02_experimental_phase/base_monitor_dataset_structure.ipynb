{
 "cells": [
  {
   "cell_type": "markdown",
   "metadata": {},
   "source": [
    "# 実験パッケージの構成状態をモニタリングする\n",
    "\n",
    "ここでは、作成いただいた実験パッケージの構成状態をモニタリングします。以下のセルを実行することで、それぞれの実験パッケージがその管理品質上、適合的であるかどうかを確認できます。モニタリングの結果は各実験パッケージのREADME.mdへ自動的に反映されます。\n",
    "\n",
    "![result_on_README](../../../../files/WORKFLOWS/images/result_on_README.png)\n",
    "\n",
    "研究ワークフロー機能トップページに戻る場合は[こちら](../../base_FLOW.ipynb)。新規タブで開きます。  "
   ]
  },
  {
   "cell_type": "markdown",
   "metadata": {},
   "source": [
    "## 0. 研究リポジトリ名を確認する  \n",
    "以下のセルを実行すると、この研究実行環境で操作する研究リポジトリ名を確認できます。  \n",
    "このタスクでは、表示された名前の研究リポジトリ配下の実験パッケージについて構成状態のモニタリングを行います。  \n",
    "研究リポジトリ名が表示されない場合は研究ワークフロー機能トップページのセクション「研究リポジトリ名を確認する」のセルを実行してください。  "
   ]
  },
  {
   "cell_type": "code",
   "execution_count": null,
   "metadata": {},
   "outputs": [],
   "source": [
    "from IPython.display import display, HTML\n",
    "\n",
    "# 研究リポジトリ名を表示する\n",
    "%store -r\n",
    "if 'RESEARCH_TITLE' not in locals().keys() : RESEARCH_TITLE = '-'\n",
    "res_text = \"<h1 style='color: green'>研究リポジトリ名：%s</h1>\" % (RESEARCH_TITLE)\n",
    "display(HTML(res_text))"
   ]
  },
  {
   "cell_type": "markdown",
   "metadata": {},
   "source": [
    "## 1. 各実験パッケージのデータセット構成をモニタリングする"
   ]
  },
  {
   "cell_type": "code",
   "execution_count": null,
   "metadata": {},
   "outputs": [],
   "source": [
    "import os\n",
    "os.chdir(os.environ['HOME'])\n",
    "\n",
    "# リポジトリと同期して内容を最新化する\n",
    "!datalad update -s gin --merge"
   ]
  },
  {
   "cell_type": "code",
   "execution_count": null,
   "metadata": {},
   "outputs": [],
   "source": [
    "import os\n",
    "import json\n",
    "from typing import List\n",
    "\n",
    "path_flow_root = '/home/jovyan/WORKFLOWS/FLOW/'\n",
    "os.chdir(path_flow_root)\n",
    "from util.scripts import utils\n",
    "\n",
    "def get_ideal_paths(scheme_name: str, path_to_dataset: str) -> List[str]:\n",
    "    # 存在することが望ましいディレクトリ・ファイルのリスト\n",
    "    ideal_paths_with_code = [\n",
    "        path_to_dataset + '/source',\n",
    "        path_to_dataset + '/input_data',\n",
    "        path_to_dataset + '/output_data',\n",
    "        path_to_dataset + '/meta_data.json'\n",
    "    ]\n",
    "\n",
    "    # パラメータ実験毎に存在していほしいディレクトリを構成をチェックする方法を検討中。\n",
    "    # まずは必ず存在するディレクトリをチェックする。\n",
    "    ideal_paths_for_parameters = [\n",
    "        path_to_dataset + '/source',\n",
    "        path_to_dataset + '/input_data',\n",
    "        path_to_dataset + '/meta_data.json'\n",
    "    ]\n",
    "\n",
    "    return eval('ideal_paths_' + scheme_name)\n",
    "\n",
    "###########################################################################################################\n",
    "\n",
    "\n",
    "def monitor_dataset_structure(scheme_name: str, paths_to_dataset: List[str]) -> bool:\n",
    "    ideal_paths: List[str] = []\n",
    "    dataset_name: str = ''\n",
    "\n",
    "    for dataset in paths_to_dataset:\n",
    "        isOK: bool = True\n",
    "        ideal_paths = get_ideal_paths(scheme_name, dataset)\n",
    "        dataset_name = os.path.basename(dataset)\n",
    "\n",
    "        print('================================ Monitoring Dataset Structure ================================')\n",
    "        print('Dataset name: ' + dataset_name)\n",
    "        print(' STATUS    PATH')\n",
    "\n",
    "        for path in ideal_paths:\n",
    "            if os.path.exists(path):\n",
    "                print('  OK    ' + path)\n",
    "            else:\n",
    "                print('  NG    ' + path)\n",
    "                print('        [WARN] Your dataset structure is deprecated.')\n",
    "                if isOK:\n",
    "                    isOK = False\n",
    "\n",
    "        print('\\nMonitered by \"' + scheme_name + '\" scheme.\\n')\n",
    "        utils.reflect_monitoring_results('datasetStructure', isOK, dataset)\n",
    "\n",
    "    return isOK\n",
    "\n",
    "###########################################################################################################\n",
    "\n",
    "# スクリプトファイルの拡張子リストを定義（あるいは読み出し）\n",
    "# something cool...\n",
    "\n",
    "\n",
    "def main() -> None:\n",
    "    path_monitoring_params = utils.fetch_monitoring_param_file_path()\n",
    "\n",
    "    # データセットのパスのリストを作成\n",
    "    base_path = '/home/jovyan/experiments/'\n",
    "    files = os.listdir(base_path)\n",
    "    global paths_to_dataset\n",
    "    paths_to_dataset = [base_path + f for f in files if os.path.isdir(os.path.join(base_path, f))]\n",
    "\n",
    "    # データセット構成のスキームを取得\n",
    "    scheme_name = ''\n",
    "    with open(path_monitoring_params, \"r\") as f:\n",
    "        dmp = json.load(f)\n",
    "        scheme_name = dmp[\"datasetStructure\"]\n",
    "\n",
    "    isOK: bool = monitor_dataset_structure(scheme_name, paths_to_dataset)\n",
    "\n",
    "if __name__ == '__main__':\n",
    "    main()\n"
   ]
  },
  {
   "cell_type": "markdown",
   "metadata": {},
   "source": [
    "## 2. 本タスクの実行結果をGIN-forkに同期する\n",
    "\n",
    "ここまでの内容を保存し、GIN-forkに同期します。  \n",
    "以下のセルを実行してください。"
   ]
  },
  {
   "cell_type": "code",
   "execution_count": null,
   "metadata": {},
   "outputs": [],
   "source": [
    "from IPython.display import display, Javascript\n",
    "display(Javascript('IPython.notebook.save_checkpoint();'))"
   ]
  },
  {
   "cell_type": "markdown",
   "metadata": {},
   "source": [
    "以下を実行して、`リポジトリ側の変更と競合しました。競合を解決してください。`と表示された場合は、[こちらのFAQ](http://dg02.dg.rcos.nii.ac.jp/G-Node/Info/wiki/%E3%83%AF%E3%83%BC%E3%82%AF%E3%83%95%E3%83%AD%E3%83%BC%E6%A9%9F%E8%83%BD#1-1%E5%90%8C%E6%9C%9F%E5%87%A6%E7%90%86%E3%82%92%E5%AE%9F%E8%A1%8C%E3%81%99%E3%82%8B%E3%81%A8%E3%80%81%E3%83%AA%E3%83%9D%E3%82%B8%E3%83%88%E3%83%AA%E5%81%B4%E3%81%AE%E5%A4%89%E6%9B%B4%E3%81%A8%E7%AB%B6%E5%90%88%E3%81%97%E3%81%BE%E3%81%97%E3%81%9F%E3%80%82%E7%AB%B6%E5%90%88%E3%82%92%E8%A7%A3%E6%B1%BA%E3%81%97%E3%81%A6%E3%81%8F%E3%81%A0%E3%81%95%E3%81%84%E3%80%82%E3%81%A8%E8%A1%A8%E7%A4%BA%E3%81%95%E3%82%8C%E3%82%8B)を参考に競合を解決してください。"
   ]
  },
  {
   "cell_type": "code",
   "execution_count": null,
   "metadata": {},
   "outputs": [],
   "source": [
    "import os\n",
    "os.chdir('/home/jovyan/WORKFLOWS/FLOW/')\n",
    "from util.scripts import utils\n",
    "os.chdir(os.environ['HOME'])\n",
    "\n",
    "git_path=[]\n",
    "for path in paths_to_dataset:\n",
    "    git_path.append(path+'/README.md')\n",
    "git_path.append('WORKFLOWS/FLOW/02_experimental_phase/base_monitor_dataset_structure.ipynb')\n",
    "\n",
    "utils.syncs_with_repo(git_path, gitannex_path=None, message='モニタリング（データセット構成）')"
   ]
  },
  {
   "cell_type": "markdown",
   "metadata": {},
   "source": [
    "## 3. 研究ワークフロー機能トップページに遷移する\n",
    "\n",
    "以下のセルを実行し、表示されるリンクをクリックして研究ワークフロー機能トップページに戻ってください。  "
   ]
  },
  {
   "cell_type": "code",
   "execution_count": null,
   "metadata": {},
   "outputs": [],
   "source": [
    "from IPython.display import display, HTML, Javascript\n",
    "display(HTML(\"<a href='../../base_FLOW.ipynb'>研究ワークフロー機能トップページに遷移する</a>\"))\n",
    "display(Javascript('IPython.notebook.save_checkpoint();'))"
   ]
  }
 ],
 "metadata": {
  "kernelspec": {
   "display_name": "Python 3.9.5 64-bit",
   "language": "python",
   "name": "python3"
  },
  "language_info": {
   "name": "python",
   "version": "3.9.5"
  },
  "orig_nbformat": 4,
  "vscode": {
   "interpreter": {
    "hash": "6a196852dad78838558c3d25678ed4fa7922e766dc7a8a519a679191ca8fa666"
   }
  }
 },
 "nbformat": 4,
 "nbformat_minor": 2
}
