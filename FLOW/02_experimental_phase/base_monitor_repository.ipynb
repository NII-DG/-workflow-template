{
 "cells": [
  {
   "cell_type": "markdown",
   "metadata": {},
   "source": [
    "# モニタリングを実施する\n",
    "\n",
    "複数の実験の再現性をモニタリングします。  \n",
    "モニタリングでは、[pipeline.json](../../../experiments.pipeline.json)に設定された順番に実験が再現されます。  \n",
    "以下のセルを上から実行してください。"
   ]
  },
  {
   "cell_type": "markdown",
   "metadata": {},
   "source": [
    "## ◆◆◆開発メモ◆◆◆\n",
    "\n",
    "pipeline.jsonの説明をどこかで入れる"
   ]
  },
  {
   "cell_type": "markdown",
   "metadata": {},
   "source": [
    "## 1.パイプライン定義ファイルのチェック結果を確認する\n",
    "\n",
    "パイプライン定義ファイルとパッケージ群の情報に相違がないか確認します。  \n",
    "以下のセルを実行し、エラーが起きないことを確認してください。  \n",
    "エラーが起きた場合は、表示されたリンクに遷移してパイプライン定義ファイルを修正＆エラーが起きなくなるまで再実行を繰り返してください。"
   ]
  },
  {
   "cell_type": "code",
   "execution_count": null,
   "metadata": {},
   "outputs": [],
   "source": [
    "import os\n",
    "import json\n",
    "import glob\n",
    "\n",
    "# 作業ディレクトリに移動\n",
    "%cd ~/experiments/\n",
    "\n",
    "# 実験パイプライン定義ファイルの読み込み\n",
    "pipeline = json.load(open(\"pipeline.json\"))\n",
    "print(\"実験パイプライン：\" + str(pipeline))\n",
    "\n",
    "# 実験パッケージ群の読み込み\n",
    "files = glob.glob(\"./*/\")\n",
    "\n",
    "experiments = []\n",
    "for file in files:\n",
    "    experiments += [os.path.basename(file[:-1])]\n",
    "print(\"実験パッケージ　：\" + str(experiments))\n",
    "\n",
    "# 元のディレクトリに移動\n",
    "%cd -\n",
    "\n",
    "# 過不足の確認\n",
    "if set(pipeline) != set(experiments):\n",
    "    link = \"https://jupyter.cs.rcos.nii.ac.jp\" + os.environ[\"JUPYTERHUB_SERVICE_PREFIX\"] + \"edit/experiments/pipeline.json\"\n",
    "    raise Exception(\"実験パイプラインと実験パッケージ間で相違があります\\n\\n以下のURLに遷移して修正してください\\n\" + link)"
   ]
  },
  {
   "cell_type": "markdown",
   "metadata": {
    "heading_collapsed": true
   },
   "source": [
    "## 2.実験パイプラインを実行する"
   ]
  },
  {
   "cell_type": "markdown",
   "metadata": {
    "hidden": true
   },
   "source": [
    "### - 2.1 実験パイプラインの定義情報を取得する"
   ]
  },
  {
   "cell_type": "code",
   "execution_count": null,
   "metadata": {
    "hidden": true
   },
   "outputs": [],
   "source": [
    "import json\n",
    "\n",
    "# 作業ディレクトリに移動\n",
    "%cd ~/experiments/\n",
    "\n",
    "# 実験パイプライン定義ファイルの読み込み\n",
    "pipeline = json.load(open(\"pipeline.json\"))\n",
    "print(\"実験パイプライン：\" + str(pipeline))"
   ]
  },
  {
   "cell_type": "markdown",
   "metadata": {
    "hidden": true
   },
   "source": [
    "### - 2.2 実験パッケージを最新化する"
   ]
  },
  {
   "cell_type": "code",
   "execution_count": null,
   "metadata": {
    "hidden": true
   },
   "outputs": [],
   "source": [
    "for experiment in pipeline:\n",
    "    %cd $experiment\n",
    "    !git pull\n",
    "    %cd ../"
   ]
  },
  {
   "cell_type": "markdown",
   "metadata": {
    "hidden": true
   },
   "source": [
    "### - 2.3 実験パイプラインを実行する"
   ]
  },
  {
   "cell_type": "code",
   "execution_count": null,
   "metadata": {
    "hidden": true
   },
   "outputs": [],
   "source": [
    "%cd ~/experiments/\n",
    "\n",
    "import papermill\n",
    "\n",
    "outputs = []\n",
    "\n",
    "for experiment in pipeline:\n",
    "    print(\"\\n============================================================ \" + experiment)\n",
    "\n",
    "    print(\"\\n# 出力ディレクトリの初期化\")\n",
    "    cmd = \"rm -rf \" + experiment + \"/output_data/*\"\n",
    "    print(\"$ \" + cmd)\n",
    "    !$cmd\n",
    "    \n",
    "    print(\"\\n前実験の出力データを当実験の入力データとして複製\")\n",
    "    for output in outputs:\n",
    "        cmd = \"cp -rf \" + output + \"/output_data/* \" + experiment + \"/input_data/\" \n",
    "        print(\"$ \" + cmd)\n",
    "        !$cmd\n",
    "\n",
    "    print(\"\\n実験再現のための環境構築\")\n",
    "    cmd = \"pip install -r \" + experiment + \"/requirements.txt\"\n",
    "    print(\"$ \" + cmd)\n",
    "    !$cmd\n",
    "\n",
    "    print(\"\\n実験ソースコードの実行\")\n",
    "    cmd = experiment + \"/source/\"\n",
    "    print(\"$ cd \" + cmd)\n",
    "    %cd $cmd\n",
    "\n",
    "    papermill.execute_notebook(\"main.ipynb\", \"log.ipynb\")\n",
    "    \n",
    "    cmd = \"-\"\n",
    "    print(\"$ cd \" + cmd)\n",
    "    %cd $cmd\n",
    "\n",
    "    print(\"\\n次実験に備えて本実験の出力データを登録\")\n",
    "    outputs += [experiment]"
   ]
  },
  {
   "cell_type": "markdown",
   "metadata": {
    "hidden": true
   },
   "source": [
    "### - 2.4 このノートブックを保存する"
   ]
  },
  {
   "cell_type": "code",
   "execution_count": null,
   "metadata": {
    "hidden": true
   },
   "outputs": [],
   "source": [
    "from IPython.display import display, Javascript\n",
    "display(Javascript('IPython.notebook.save_checkpoint();'))"
   ]
  },
  {
   "cell_type": "markdown",
   "metadata": {
    "hidden": true
   },
   "source": [
    "### - 2.5 実行結果をデータガバナンス機能に反映する"
   ]
  },
  {
   "cell_type": "code",
   "execution_count": null,
   "metadata": {},
   "outputs": [],
   "source": [
    "# %cd ~/\n",
    "# !git add ~/\n",
    "# !git commit -m 'モニタリング実施'"
   ]
  },
  {
   "cell_type": "code",
   "execution_count": null,
   "metadata": {
    "hidden": true
   },
   "outputs": [],
   "source": [
    "import papermill as pm\n",
    "\n",
    "pm.execute_notebook(\n",
    "    '../util/datalad_save_push.ipynb',\n",
    "    '-',\n",
    "    parameters = dict(SAVE_MESSAGE = 'パイプライン構築', PATH = [未定])\n",
    ")"
   ]
  }
 ],
 "metadata": {
  "kernelspec": {
   "display_name": "Python 3 (ipykernel)",
   "language": "python",
   "name": "python3"
  },
  "language_info": {
   "codemirror_mode": {
    "name": "ipython",
    "version": 3
   },
   "file_extension": ".py",
   "mimetype": "text/x-python",
   "name": "python",
   "nbconvert_exporter": "python",
   "pygments_lexer": "ipython3",
   "version": "3.8.12"
  }
 },
 "nbformat": 4,
 "nbformat_minor": 4
}
