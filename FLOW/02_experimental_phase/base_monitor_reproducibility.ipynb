{
 "cells": [
  {
   "cell_type": "markdown",
   "metadata": {},
   "source": [
    "# モニタリング（再現性）\n",
    "\n",
    "研究の再現性についてモニタリングします。モニタリングでは、[pipeline.json](../../../experiments/pipeline.json)に設定された順番に実験が再現されます。  \n",
    "以下のセルを上から実行してください。2回目以降の実行では、画面上部に表示される以下のボタンをクリックしてから実行して下さい。  \n",
    "![UnfreezeBotton](https://raw.githubusercontent.com/NII-DG/workflow-template/develop/sections/images/unfreeze_button.png)"
   ]
  },
  {
   "cell_type": "markdown",
   "metadata": {},
   "source": [
    "## 1. パイプライン定義ファイルをチェックする\n",
    "\n",
    "パイプライン定義ファイルとパッケージ群の情報に相違がないか確認します。  \n",
    "以下のセルを実行し、エラーが起きないことを確認してください。  \n",
    "エラーが起きた場合は、表示されたリンクに遷移してパイプライン定義ファイルを修正＆エラーが起きなくなるまで再実行を繰り返してください。"
   ]
  },
  {
   "cell_type": "code",
   "execution_count": null,
   "metadata": {},
   "outputs": [],
   "source": [
    "import os\n",
    "import json\n",
    "import glob\n",
    "\n",
    "# 作業ディレクトリに移動\n",
    "%cd ~/experiments/\n",
    "\n",
    "# 実験パイプライン定義ファイルの読み込み\n",
    "pipeline = json.load(open(\"pipeline.json\"))\n",
    "print(\"実験パイプライン：\" + str(pipeline))\n",
    "\n",
    "# 実験パッケージ群の読み込み\n",
    "files = glob.glob(\"./*/\")\n",
    "\n",
    "experiments = []\n",
    "for file in files:\n",
    "    experiments += [os.path.basename(file[:-1])]\n",
    "print(\"実験パッケージ　：\" + str(experiments))\n",
    "\n",
    "# 元のディレクトリに移動\n",
    "%cd -\n",
    "\n",
    "# 過不足の確認\n",
    "if set(pipeline) != set(experiments):\n",
    "    link = \"https://jupyter.cs.rcos.nii.ac.jp\" + os.environ[\"JUPYTERHUB_SERVICE_PREFIX\"] + \"edit/experiments/pipeline.json\"\n",
    "    raise Exception(\"実験パイプラインと実験パッケージ間で相違があります\\n\\n以下のURLに遷移して修正してください\\n\" + link)"
   ]
  },
  {
   "cell_type": "markdown",
   "metadata": {},
   "source": [
    "## 2. 実験パイプラインを実行する"
   ]
  },
  {
   "cell_type": "markdown",
   "metadata": {},
   "source": [
    "### - 2.1 実験パイプラインの定義情報を取得する"
   ]
  },
  {
   "cell_type": "code",
   "execution_count": null,
   "metadata": {},
   "outputs": [],
   "source": [
    "import json\n",
    "\n",
    "# 作業ディレクトリに移動\n",
    "%cd ~/experiments/\n",
    "\n",
    "# 実験パイプライン定義ファイルの読み込み\n",
    "pipeline = json.load(open(\"pipeline.json\"))\n",
    "print(\"実験パイプライン：\" + str(pipeline))"
   ]
  },
  {
   "cell_type": "markdown",
   "metadata": {},
   "source": [
    "### - 2.2 実験パッケージを最新化する"
   ]
  },
  {
   "cell_type": "code",
   "execution_count": null,
   "metadata": {},
   "outputs": [],
   "source": [
    "for experiment in pipeline:\n",
    "    %cd $experiment\n",
    "    !git pull\n",
    "    !datalad get -r .\n",
    "    %cd ../"
   ]
  },
  {
   "cell_type": "markdown",
   "metadata": {},
   "source": [
    "### - 2.3 実験パイプラインを実行する"
   ]
  },
  {
   "cell_type": "code",
   "execution_count": null,
   "metadata": {
    "scrolled": true
   },
   "outputs": [],
   "source": [
    "%cd ~/experiments/\n",
    "\n",
    "import papermill\n",
    "\n",
    "isSucceeded = True\n",
    "for experiment in pipeline:\n",
    "    print(\"\\n============================================================ \" + experiment)\n",
    "\n",
    "    print(\"\\n# 複数回実行に備えて正解データ保管用ディレクトリを削除\")\n",
    "    cmd = \"rm -rf \" + experiment + \"/output_data_correct/\" \n",
    "    print(\"$ \" + cmd)\n",
    "    !$cmd\n",
    "\n",
    "    print(\"\\n# 既存の出力ディレクトリのデータを正解データとして移動\")\n",
    "    cmd = \"mv \" + experiment + \"/output_data/ \" + experiment + \"/output_data_correct/\" \n",
    "    print(\"$ \" + cmd)\n",
    "    !$cmd\n",
    "\n",
    "    print(\"\\n# 出力ディレクトリの初期化\")\n",
    "    cmd = \"mkdir \" + experiment + \"/output_data/\"\n",
    "    print(\"$ \" + cmd)\n",
    "    !$cmd\n",
    "    cmd = \"cp \" + experiment + \"/output_data_correct/.gitkeep \" + experiment + \"/output_data/\"\n",
    "    print(\"$ \" + cmd)\n",
    "    !$cmd\n",
    "    cmd = \"cp \" + experiment + \"/output_data_correct/.ipynb_checkpoints \" + experiment + \"/output_data/\"\n",
    "    print(\"$ \" + cmd)\n",
    "    !$cmd\n",
    "\n",
    "    print(\"\\n実験再現のための環境構築\")\n",
    "    cmd = \"pip install -r \" + experiment + \"/requirements.txt\"\n",
    "    print(\"$ \" + cmd)\n",
    "    !$cmd\n",
    "\n",
    "    print(\"\\n実験ソースコードの実行\")\n",
    "    cmd = experiment + \"/source/\"\n",
    "    print(\"$ cd \" + cmd)\n",
    "    %cd $cmd\n",
    "\n",
    "    papermill.execute_notebook(\"main.ipynb\", \"log.ipynb\")\n",
    "    \n",
    "    cmd = \"-\"\n",
    "    print(\"$ cd \" + cmd)\n",
    "    %cd $cmd\n",
    "\n",
    "    print(\"\\n差分の摘出\")\n",
    "    cmd = \"diff -r \" + experiment + \"/output_data_correct/ \" + experiment + \"/output_data/\"\n",
    "    print(\"$ \" + cmd)\n",
    "    result = !$cmd\n",
    "    print(result)\n",
    "    \n",
    "    if len(result) > 0:\n",
    "        isSucceeded = False\n",
    "        raise Exception(\"出力データが一致しません\")"
   ]
  },
  {
   "cell_type": "markdown",
   "metadata": {},
   "source": [
    "## 3. モニタリング結果をREADMEに反映する"
   ]
  },
  {
   "cell_type": "code",
   "execution_count": null,
   "metadata": {},
   "outputs": [],
   "source": [
    "%cd ~/WORKFLOW/FLOW/\n",
    "from util.scripts import utils \n",
    "\n",
    "utils.reflect_monitoring_results('reproducibility', isSucceeded)"
   ]
  },
  {
   "cell_type": "markdown",
   "metadata": {},
   "source": [
    "## 4. 実行結果をデータガバナンス機能に同期する\n",
    "\n",
    "ここまでの内容を保存し、データガバナンス機能に同期します。  \n",
    "以下のセルを実行してください。"
   ]
  },
  {
   "cell_type": "code",
   "execution_count": null,
   "metadata": {},
   "outputs": [],
   "source": [
    "from IPython.display import display, Javascript\n",
    "display(Javascript('IPython.notebook.save_checkpoint();'))"
   ]
  },
  {
   "cell_type": "code",
   "execution_count": null,
   "metadata": {},
   "outputs": [],
   "source": [
    "import papermill as pm\n",
    "\n",
    "%cd ~/\n",
    "\n",
    "pm.execute_notebook(\n",
    "    'WORKFLOW/FLOW/util/base_datalad_save_push.ipynb',\n",
    "    '/home/jovyan/.local/push_log.ipynb',\n",
    "    parameters = dict(SAVE_MESSAGE = 'モニタリング（再現性）', IS_RECURSIVE = False, TO_GIT = True)\n",
    ")"
   ]
  },
  {
   "cell_type": "markdown",
   "metadata": {},
   "source": [
    "## 5. ワークフロー機能トップページに遷移する\n",
    "\n",
    "続けてワークフロー機能を実行する場合は、[こちら](../base_FLOW.ipynb)からトップページに遷移できます。  "
   ]
  }
 ],
 "metadata": {
  "kernelspec": {
   "display_name": "Python 3 (ipykernel)",
   "language": "python",
   "name": "python3"
  },
  "language_info": {
   "codemirror_mode": {
    "name": "ipython",
    "version": 3
   },
   "file_extension": ".py",
   "mimetype": "text/x-python",
   "name": "python",
   "nbconvert_exporter": "python",
   "pygments_lexer": "ipython3",
   "version": "3.9.7"
  }
 },
 "nbformat": 4,
 "nbformat_minor": 4
}
