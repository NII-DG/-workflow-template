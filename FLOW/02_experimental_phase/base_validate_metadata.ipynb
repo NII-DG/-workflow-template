{
 "cells": [
  {
   "cell_type": "markdown",
   "metadata": {},
   "source": [
    "# メタデータを検証する\n",
    "\n",
    "研究データに付与されているメタデータを検証し、その結果をレポートします。  \n",
    "検証を行うことで、適切なメタデータが研究データに付与されているかを確認することができます。  \n",
    "\n",
    "検証結果は必ず同期する必要はありません。この環境で検証結果を確認いただいたあとに、GIN-forkへ同期するか破棄するか選択いただけます。  \n",
    "検証結果を同期する場合は、研究リポジトリの直下の**validation_results**フォルダに格納されます。タスク実行後に検証結果を確認する際はvalidation_resultsフォルダ配下の**results.json**をご確認ください。  \n",
    "同期しない場合は、検証結果は破棄されます。"
   ]
  },
  {
   "cell_type": "markdown",
   "metadata": {},
   "source": [
    "## 0. 研究リポジトリ名を確認する\n",
    "\n",
    "以下のセルを実行すると、この実験実行環境で操作する研究リポジトリ名を確認できます。 "
   ]
  },
  {
   "cell_type": "code",
   "execution_count": null,
   "metadata": {},
   "outputs": [],
   "source": [
    "import os\n",
    "os.chdir('/home/jovyan/WORKFLOWS/FLOW/')\n",
    "from util.scripts import utils\n",
    "utils.show_name('green')"
   ]
  },
  {
   "cell_type": "markdown",
   "metadata": {},
   "source": [
    "## 1. 研究リポジトリのメタデータを用意する\n",
    "\n",
    "メタデータを検証するための準備として、研究リポジトリのメタデータの取得と整形を行います。"
   ]
  },
  {
   "cell_type": "code",
   "execution_count": null,
   "metadata": {},
   "outputs": [],
   "source": [
    "import os\n",
    "os.chdir(os.environ['HOME'])\n",
    "\n",
    "# 現在のブランチ名を取得する\n",
    "result = !git branch --contains\n",
    "current_branch = result[0].replace('* ', '')\n",
    "\n",
    "# repository_idを取得する\n",
    "from WORKFLOWS.utils.repository_id import repository_id\n",
    "repo_id = repository_id.get_repo_id()\n",
    "\n",
    "# ginforkのtokenを取得する\n",
    "from WORKFLOWS.utils.token import token\n",
    "ginfork_token = token.get_ginfork_token()\n",
    "\n",
    "#####################################\n",
    "# GIN-forkメタデータ取得API実装する #\n",
    "#####################################\n",
    "\n",
    "#######################################\n",
    "# PKGを使ってRO-Crate化処理を実装する #\n",
    "#######################################"
   ]
  },
  {
   "cell_type": "markdown",
   "metadata": {},
   "source": [
    "## 2. メタデータを検証する\n",
    "\n",
    "メタデータの検証と検証結果の生成を行う検証サービスに、メタデータの検証を依頼します。"
   ]
  },
  {
   "cell_type": "code",
   "execution_count": null,
   "metadata": {},
   "outputs": [],
   "source": [
    "import requests\n",
    "import os\n",
    "import traceback\n",
    "\n",
    "try:\n",
    "    ###############################################\n",
    "    # DG-Coreサーバーの仕様が固まり次第、更新する #\n",
    "    ###############################################\n",
    "    #req_response = requests.post(\"https://example.com/**/validate?entityIds=a&entityIds=b\", json=crate_json)\n",
    "    req_response = requests.get('https://api.github.com/events')\n",
    "    #result = req_response.json\n",
    "    req_response.status_code = 200\n",
    "    result = {\n",
    "        \"request_id\": \"fffff\",\n",
    "        \"request\": {\n",
    "            \"roCrate\": {\n",
    "                \"entity1\" : \"a\"\n",
    "            },\n",
    "            \"entityIds\": [\"a\", \"b\"]\n",
    "        },\n",
    "        \"results\": {\n",
    "            \"result\": \"fffff\"\n",
    "        }\n",
    "    }\n",
    "except:\n",
    "    print('検証サービスに接続できません。')\n",
    "    print(traceback.format_exc())\n",
    "else:\n",
    "    if req_response.status_code == 200:\n",
    "        os.chdir(os.environ['HOME'])\n",
    "        from WORKFLOWS.utils.tmp_validation import tmp_validation\n",
    "        request_id = result['request_id']\n",
    "        tmp_validation.save_request_id(request_id)\n",
    "        print('正常に検証が依頼されました。次の処理にお進みください。\\nリクエストID：' + request_id)\n",
    "    elif req_response.status_code == 400:\n",
    "        print('BadRequest')\n",
    "        print(result['message'])\n",
    "    elif req_response.status_code == 500:\n",
    "        print('InternalServerError')\n",
    "        print(result['message'])"
   ]
  },
  {
   "cell_type": "markdown",
   "metadata": {},
   "source": [
    "## 3. 検証結果を確認する\n",
    "\n",
    "検証サービスから検証結果を取得し、結果を出力します。"
   ]
  },
  {
   "cell_type": "code",
   "execution_count": null,
   "metadata": {},
   "outputs": [],
   "source": [
    "import os\n",
    "import json\n",
    "import requests\n",
    "import time\n",
    "from IPython.display import display, HTML, clear_output\n",
    "from WORKFLOWS.utils.tmp_validation import tmp_validation\n",
    "\n",
    "request_id = tmp_validation.get_request_id()\n",
    "counter = 5\n",
    "\n",
    "while counter >0:\n",
    "    try:\n",
    "        ###############################################\n",
    "        # DG-Coreサーバーの仕様が固まり次第、更新する #\n",
    "        ###############################################\n",
    "        #result_response = requests.get(\"https://example.com/*/\" + request_id)\n",
    "        result_response = requests.get('https://api.github.com/events')\n",
    "        #result = result_response.json\n",
    "        result = {\n",
    "        \"status\": \"COMPLETE\",\n",
    "        \"request\": {\n",
    "            \"roCrate\": {\n",
    "                \"entity1\" : \"a\"\n",
    "            },\n",
    "            \"entityIds\": [\"a\", \"b\"]\n",
    "        },\n",
    "        \"results\": {\n",
    "            \"result\": \"13:40\"\n",
    "        }\n",
    "    }\n",
    "        counter -= 1\n",
    "    except:\n",
    "        print('検証サービスに接続できません。')\n",
    "        break\n",
    "    else:\n",
    "        if result_response.status_code == 200:\n",
    "            status = result['status']\n",
    "            if status == 'UNKNOWN':\n",
    "                print('リクエストID：' + request_id + 'は正常にリクエストできていません。')\n",
    "                break\n",
    "            elif any([status == 'QUEUED', status == 'RUNNING']):\n",
    "                clear_output()\n",
    "                print('リクエストID：' + request_id + 'は検証完了していません。時間をおいて再度確認します。')\n",
    "                time.sleep(5)\n",
    "                continue\n",
    "            elif status == 'COMPLETE':\n",
    "                tmp_validation.save_verification_results(result)\n",
    "                result_file_path = tmp_validation.fetch_validation_results_file_path()\n",
    "                print('正常に検証結果を取得しました。以下のリンクから検証結果を確認し、次にお進みください。')\n",
    "                display(HTML('<a href=../../../../edit/' + result_file_path + '>検証結果を確認する</a>'))\n",
    "                break\n",
    "            elif any([status == 'FAILED', status == 'EXECUTOR_ERROR']):\n",
    "                print('正常に検証できませんでした。')\n",
    "                break\n",
    "            elif status == 'CANCELING':\n",
    "                print('リクエストID：' + request_id + 'は現在キャンセル中です。')\n",
    "                break\n",
    "            elif status == 'CANCELED':\n",
    "                print('リクエストID：' + request_id + 'はキャンセルされました。')\n",
    "                break\n",
    "\n",
    "        elif result_response.status_code == 400:\n",
    "            print('BadRequest')\n",
    "            print(result['message'])\n",
    "            break\n",
    "        elif result_response.status_code == 500:\n",
    "            print('InternalServerError')\n",
    "            print(result['message'])\n",
    "            break\n",
    "                      \n",
    "else:\n",
    "    clear_output()\n",
    "    print('検証に時間がかかっています。時間をおいて再度このセルを実行してください。')\n",
    "    raise Exception"
   ]
  },
  {
   "cell_type": "markdown",
   "metadata": {},
   "source": [
    "## 4. 研究リポジトリに同期する\n",
    "\n",
    "このタスクの実行結果を研究リポジトリに同期します。  \n",
    "検証結果を同期するか破棄するかは、「4.1. 検証結果を研究リポジトリに同期するか選択する」で選択できます。"
   ]
  },
  {
   "cell_type": "markdown",
   "metadata": {},
   "source": [
    "### 4.1. 検証結果を研究リポジトリに同期するか破棄するかを選択する"
   ]
  },
  {
   "cell_type": "code",
   "execution_count": null,
   "metadata": {},
   "outputs": [],
   "source": [
    "import panel as pn\n",
    "\n",
    "pn.extension()\n",
    "column = pn.Column()\n",
    "\n",
    "def save_selection_result(event):\n",
    "    global need_sync\n",
    "    done_button.button_type = \"success\"\n",
    "    done_button.name = \"選択完了しました。次の処理にお進みください。\"\n",
    "    need_sync = True if select.value == 1 else False\n",
    "\n",
    "select = pn.widgets.Select(name='検証結果を同期するか破棄するかを選択した後、完了ボタンをクリックしてください。', options={'同期する': 1, '同期せずに破棄する':2})\n",
    "done_button = pn.widgets.Button(name= \"選択を完了する\", button_type= \"primary\")\n",
    "done_button.on_click(save_selection_result)\n",
    "column.append(select)\n",
    "column.append(done_button)\n",
    "column"
   ]
  },
  {
   "cell_type": "markdown",
   "metadata": {},
   "source": [
    "### 4.2. 研究リポジトリに同期する\n",
    "\n",
    "研究リポジトリにこのタスクの実行結果を同期します。  \n",
    "「4.1. 検証結果を研究リポジトリに同期するか破棄するかを選択する」で同期せずに破棄するを選択した場合は、検証結果は同期されずこのファイルの実行結果のみが同期されます。"
   ]
  },
  {
   "cell_type": "code",
   "execution_count": null,
   "metadata": {},
   "outputs": [],
   "source": [
    "import os\n",
    "from IPython.display import display, Javascript\n",
    "os.chdir('/home/jovyan/WORKFLOWS/FLOW/')\n",
    "from util.scripts import utils\n",
    "os.chdir(os.environ['HOME'])\n",
    "from WORKFLOWS.utils.tmp_validation import tmp_validation\n",
    "\n",
    "tmp_validation.operate_validation_results(need_sync)\n",
    "git_path = ['/home/jovyan/WORKFLOWS/FLOW/02_experimental_phase/base_validate_metadata.ipynb']\n",
    "if need_sync == True:\n",
    "    validation_result_path = tmp_validation.fetch_validation_result_path()\n",
    "    git_path.append(validation_result_path)\n",
    "\n",
    "display(Javascript('IPython.notebook.save_checkpoint();'))\n",
    "utils.syncs_with_repo(git_path=git_path, gitannex_path=None, gitannex_files=None, message='メタデータ検証')"
   ]
  },
  {
   "cell_type": "markdown",
   "metadata": {},
   "source": [
    "## 5. 研究ワークフロー機能トップページに遷移する\n",
    "\n",
    "以下のセルを実行し、表示されるリンクをクリックして研究ワークフロー機能トップページに戻ってください。"
   ]
  },
  {
   "cell_type": "code",
   "execution_count": null,
   "metadata": {},
   "outputs": [],
   "source": [
    "from IPython.display import display, HTML, Javascript\n",
    "display(HTML(\"<a href='../../base_FLOW.ipynb'>研究ワークフロー機能トップページに遷移する</a>\"))\n",
    "display(Javascript('IPython.notebook.save_checkpoint();'))"
   ]
  }
 ],
 "metadata": {
  "kernelspec": {
   "display_name": "Python 3 (ipykernel)",
   "language": "python",
   "name": "python3"
  },
  "language_info": {
   "codemirror_mode": {
    "name": "ipython",
    "version": 3
   },
   "file_extension": ".py",
   "mimetype": "text/x-python",
   "name": "python",
   "nbconvert_exporter": "python",
   "pygments_lexer": "ipython3",
   "version": "3.9.10"
  }
 },
 "nbformat": 4,
 "nbformat_minor": 2
}
