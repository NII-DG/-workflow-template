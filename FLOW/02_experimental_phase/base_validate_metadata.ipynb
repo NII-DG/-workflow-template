{
 "cells": [
  {
   "cell_type": "markdown",
   "metadata": {},
   "source": [
    "# メタデータからデータ管理品質を検証する\n",
    "\n",
    "研究データに付与されているメタデータを検証し、研究データ管理の品質をレポートします。  \n",
    "検証結果のレポートは、この環境で確認したあとにGIN-forkへ同期するか破棄するか選択いただけます。  \n",
    "GIN-forkへ同期する場合は、研究リポジトリの直下にありますvalidation_resultsフォルダでバージョン管理されます。"
   ]
  },
  {
   "cell_type": "markdown",
   "metadata": {},
   "source": [
    "## 0. 研究リポジトリ名を確認する\n",
    "\n",
    "以下のセルを実行すると、この実験実行環境で操作する研究リポジトリ名を確認できます。 "
   ]
  },
  {
   "cell_type": "code",
   "execution_count": null,
   "metadata": {},
   "outputs": [],
   "source": [
    "import os\n",
    "os.chdir('/home/jovyan/WORKFLOWS/FLOW/')\n",
    "from util.scripts import utils\n",
    "utils.show_name('green')"
   ]
  },
  {
   "cell_type": "markdown",
   "metadata": {},
   "source": [
    "## 1. 研究プロジェクトのメタデータを取得する"
   ]
  },
  {
   "cell_type": "code",
   "execution_count": null,
   "metadata": {},
   "outputs": [],
   "source": [
    "# http://dg01.dg.rcos.nii.ac.jp/api/v1/repos/:repo_id/:branch/metadata?token=6e7816fb21fe01c303d870bf6a4192ecf00548e2\n",
    "# ユーザ認証時のtokenを保存しておいて良い？セキュリティ的には毎回認証してトークンを更新すべき？\n",
    "\n"
   ]
  },
  {
   "cell_type": "code",
   "execution_count": null,
   "metadata": {},
   "outputs": [],
   "source": [
    "# 現在のブランチ名を取得する\n",
    "\n",
    "result = !git branch --contains\n",
    "current_branch = result[0].replace('* ', '')\n",
    "current_branch"
   ]
  },
  {
   "cell_type": "code",
   "execution_count": null,
   "metadata": {},
   "outputs": [],
   "source": [
    "# repository_id取得\n",
    "import os\n",
    "os.chdir(os.environ['HOME'])\n",
    "\n",
    "from WORKFLOWS.utils.repository_id import repository_id\n",
    "repo_id = repository_id.get_repo_id()\n",
    "repo_id"
   ]
  },
  {
   "cell_type": "markdown",
   "metadata": {},
   "source": [
    "## 2. メタデータをパッケージングする\n",
    "\n",
    "RoGeneratorクラスのgenerate関数にrawメタデータを入力してro-crate-metadata.jsonを取得する。\n",
    "余力あれば、エンティティを選択して検証するユースケースに対応する。  \n",
    "**検証したいエンティティのIDリストをPKGに生成してもらう**  \n",
    "v1.5ではGinMonitoringのID  \n",
    "PKGに渡すパラメータが必要"
   ]
  },
  {
   "cell_type": "markdown",
   "metadata": {},
   "source": [
    "## 3. 検証サービスに検証を依頼する"
   ]
  },
  {
   "cell_type": "code",
   "execution_count": null,
   "metadata": {},
   "outputs": [],
   "source": [
    "import requests\n",
    "\n",
    "try:\n",
    "    req_response = requests.post(\"https://example.com/**/validate?entityIds=a&entityIds=b\", json=crate_json)\n",
    "    result = req_response.json\n",
    "except:\n",
    "    print('検証サービスに接続できません。')\n",
    "else:\n",
    "    if req_response.status_code == 200:\n",
    "        request_id = result['request_id']\n",
    "        print('正常に検証が依頼されました。次の処理にお進みください。\\nリクエストID：' + request_id)\n",
    "    elif req_response.status_code == 400:\n",
    "        print('BadRequest')\n",
    "        print(result['message'])\n",
    "    elif req_response.status_code == 500:\n",
    "        print('InternalServerError')\n",
    "        print(result['message'])"
   ]
  },
  {
   "cell_type": "markdown",
   "metadata": {},
   "source": [
    "## 4. 検証サービスから検証結果を取得する"
   ]
  },
  {
   "cell_type": "code",
   "execution_count": null,
   "metadata": {},
   "outputs": [],
   "source": [
    "import requests\n",
    "import time\n",
    "\n",
    "while True:\n",
    "\n",
    "    try:\n",
    "        result_response = requests.get(\"https://example.com/*/\" + request_id)\n",
    "        result = result_response.json\n",
    "    except:\n",
    "        print('検証サービスに接続できません。')\n",
    "    else:\n",
    "        if result_response.status_code == 200:\n",
    "            status = result['status']\n",
    "            if status == 'UNKNOWN':\n",
    "                print('リクエストID：' + request_id + 'は正常にリクエストできていません。')\n",
    "                break\n",
    "            elif any([status == 'QUEUED', status == 'RUNNING']):\n",
    "                print('リクエストID：' + request_id + 'はまだ検証完了していません。時間をおいて再度確認します。)\n",
    "                # アスケイドさんの単体テストで5sec待っていたのを参考に5秒に設定している\n",
    "                time.sleep(5)\n",
    "                continue\n",
    "            elif status == 'COMPLETE':\n",
    "                ro_crate = result['request']['roCrate']\n",
    "                entity_ids = result['request']['entityIds']\n",
    "                results = result['results']\n",
    "                print('正常に検証結果を取得しました。次の処理にお進みください。')\n",
    "                break\n",
    "            elif any([status == 'FAILED', status == 'EXECUTOR_ERROR']):\n",
    "                print('正常に検証できませんでした。')\n",
    "                break\n",
    "            elif status == 'CANCELING':\n",
    "                print('リクエストID：' + request_id + 'は現在キャンセル中です。')\n",
    "                break\n",
    "            elif status == 'CANCELED':\n",
    "                print('リクエストID：' + request_id + 'はキャンセルされました。')\n",
    "                break\n",
    "\n",
    "        elif result_response.status_code == 400:\n",
    "            print('BadRequest')\n",
    "            print(result['message'])\n",
    "            break\n",
    "        elif result_response.status_code == 500:\n",
    "            print('InternalServerError')\n",
    "            print(result['message'])\n",
    "            break"
   ]
  },
  {
   "cell_type": "markdown",
   "metadata": {},
   "source": [
    "## 5. 検証結果からユーザ向けUIを生成する　初めは出力するだけ\n",
    "\n",
    "\n",
    "TBD"
   ]
  },
  {
   "cell_type": "markdown",
   "metadata": {},
   "source": [
    "## 6. ユーザ向けUIへのリンクを出力する\n"
   ]
  },
  {
   "cell_type": "code",
   "execution_count": null,
   "metadata": {},
   "outputs": [],
   "source": [
    "import json\n",
    "import os\n",
    "from IPython.display import display, HTML\n",
    "\n",
    "!mkdir -p .tmp\n",
    "os.chdir(os.environ['HOME'])\n",
    "validation_result_file = '.tmp/' + request_id + '.json'\n",
    "with open(validation_result_file, 'w') as file:\n",
    "    json.dump(results, file, indent=4)\n",
    "display(HTML('<a href=../../../../edit/' + validation_result_file + '>検証結果を確認する</a>'))"
   ]
  },
  {
   "cell_type": "markdown",
   "metadata": {},
   "source": [
    "## 7. 検証結果をリポジトリに同期するかユーザに選択してもらう"
   ]
  },
  {
   "cell_type": "markdown",
   "metadata": {},
   "source": [
    "## 8. 同期する場合は、結果を.tmpからvalidation_resultsに移動する"
   ]
  },
  {
   "cell_type": "markdown",
   "metadata": {},
   "source": [
    "## 9. 同期処理を行う"
   ]
  }
 ],
 "metadata": {
  "kernelspec": {
   "display_name": "Python 3 (ipykernel)",
   "language": "python",
   "name": "python3"
  },
  "language_info": {
   "codemirror_mode": {
    "name": "ipython",
    "version": 3
   },
   "file_extension": ".py",
   "mimetype": "text/x-python",
   "name": "python",
   "nbconvert_exporter": "python",
   "pygments_lexer": "ipython3",
   "version": "3.9.10"
  }
 },
 "nbformat": 4,
 "nbformat_minor": 2
}
