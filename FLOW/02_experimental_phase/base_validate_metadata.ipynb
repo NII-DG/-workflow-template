{
 "cells": [
  {
   "cell_type": "markdown",
   "metadata": {},
   "source": [
    "# メタデータから研究データ品質を検証する\n",
    "\n",
    "- タイトル案\n",
    "    - 【DMP＋α】に基づいた適切なデータ管理が行われているかを検証する\n",
    "    - メタデータから研究データ品質を検証する\n",
    "\n",
    "研究データに付与されているメタデータを検証し、研究データの品質をレポートします。  \n",
    "検証結果のレポートは、この環境で確認したあとにGIN-forkへ同期するか破棄するか選択いただけます。  \n",
    "GIN-forkへ同期する場合は、研究リポジトリの直下にありますvalidation_resultsフォルダでバージョン管理されます。"
   ]
  },
  {
   "cell_type": "markdown",
   "metadata": {},
   "source": [
    "## 0. 研究リポジトリ名を確認する\n",
    "\n",
    "以下のセルを実行すると、この実験実行環境で操作する研究リポジトリ名を確認できます。 "
   ]
  },
  {
   "cell_type": "code",
   "execution_count": null,
   "metadata": {},
   "outputs": [],
   "source": [
    "import os\n",
    "os.chdir('/home/jovyan/WORKFLOWS/FLOW/')\n",
    "from util.scripts import utils\n",
    "utils.show_name('green')"
   ]
  },
  {
   "cell_type": "markdown",
   "metadata": {},
   "source": [
    "## 1. 研究リポジトリのメタデータを用意する\n",
    "\n",
    "メタデータを検証するための準備として、研究リポジトリのメタデータの取得と整形を行います。"
   ]
  },
  {
   "cell_type": "code",
   "execution_count": null,
   "metadata": {},
   "outputs": [],
   "source": [
    "import os\n",
    "os.chdir(os.environ['HOME'])\n",
    "\n",
    "# 現在のブランチ名を取得する\n",
    "result = !git branch --contains\n",
    "current_branch = result[0].replace('* ', '')\n",
    "\n",
    "# repository_idを取得する\n",
    "from WORKFLOWS.utils.repository_id import repository_id\n",
    "repo_id = repository_id.get_repo_id()\n",
    "\n",
    "# ginforkのtokenを取得する\n",
    "from WORKFLOWS.utils.token import token\n",
    "ginfork_token = token.get_ginfork_token()\n",
    "\n",
    "# GIN-forkのメタデータ取得APIを実行する\n",
    "## TBD ##\n",
    "\n",
    "# PKGでメタデータをRO-Crate化する"
   ]
  },
  {
   "cell_type": "markdown",
   "metadata": {},
   "source": [
    "## 2. メタデータ検証を検証する\n",
    "\n",
    "メタデータの検証と検証結果の生成を行う検証サービスに、メタデータの検証を依頼します。"
   ]
  },
  {
   "cell_type": "code",
   "execution_count": null,
   "metadata": {},
   "outputs": [],
   "source": [
    "import requests\n",
    "\n",
    "try:\n",
    "    req_response = requests.post(\"https://example.com/**/validate?entityIds=a&entityIds=b\", json=crate_json)\n",
    "    result = req_response.json\n",
    "except:\n",
    "    print('検証サービスに接続できません。')\n",
    "else:\n",
    "    if req_response.status_code == 200:\n",
    "        request_id = result['request_id']\n",
    "        print('正常に検証が依頼されました。次の処理にお進みください。\\nリクエストID：' + request_id)\n",
    "    elif req_response.status_code == 400:\n",
    "        print('BadRequest')\n",
    "        print(result['message'])\n",
    "    elif req_response.status_code == 500:\n",
    "        print('InternalServerError')\n",
    "        print(result['message'])"
   ]
  },
  {
   "cell_type": "markdown",
   "metadata": {},
   "source": [
    "## 3. 検証結果を確認する\n",
    "\n",
    "検証サービスから検証結果を取得し、結果を出力します。"
   ]
  },
  {
   "cell_type": "code",
   "execution_count": null,
   "metadata": {},
   "outputs": [],
   "source": [
    "import os\n",
    "import json\n",
    "import requests\n",
    "import time\n",
    "from IPython.display import display, HTML\n",
    "\n",
    "counter = 5\n",
    "while counter >0:\n",
    "    try:\n",
    "        result_response = requests.get(\"https://example.com/*/\" + request_id)\n",
    "        result = result_response.json\n",
    "        counter -= 1\n",
    "    except:\n",
    "        print('検証サービスに接続できません。')\n",
    "        break\n",
    "    else:\n",
    "        if result_response.status_code == 200:\n",
    "            status = result['status']\n",
    "            if status == 'UNKNOWN':\n",
    "                print('リクエストID：' + request_id + 'は正常にリクエストできていません。')\n",
    "                break\n",
    "            elif any([status == 'QUEUED', status == 'RUNNING'])''\n",
    "                print('リクエストID：' + request_id + 'はまだ検証完了していません。時間をおいて再度確認します。')\n",
    "                # アスケイドさんの単体テストで5sec待っていたのを参考に5秒に設定している\n",
    "                time.sleep(5)\n",
    "                continue\n",
    "            elif status == 'COMPLETE':\n",
    "                os.chdir(os.environ['HOME'])\n",
    "                # .gitignore対象の.tmpフォルダ配下に検証結果を格納する\n",
    "                tmp_result_folder = '.tmp/' + request_id\n",
    "                !mkdir -p tmp_result_folder\n",
    "                tmp_files = [\n",
    "                    [result['request']['roCrate'], tmp_result_folder +'/ro_crate.json'],\n",
    "                    [result['request']['entityIds'], tmp_result_folder +'/entity_ids.json'],\n",
    "                    [result['results'], tmp_result_folder + '/results.json']\n",
    "                ]\n",
    "                for file in tmp_files:\n",
    "                    with open(file[1], 'w') as f:\n",
    "                        json.dump(file[0], f, indent=4)\n",
    "                print('正常に検証結果を取得しました。以下のリンクから検証結果を確認し、次にお進みください。')\n",
    "                display(HTML('<a href=../../../../edit/' + tmp_result_folder + '/results.json' + '>検証結果を確認する</a>'))\n",
    "                break\n",
    "            elif any([status == 'FAILED', status == 'EXECUTOR_ERROR']):\n",
    "                print('正常に検証できませんでした。')\n",
    "                break\n",
    "            elif status == 'CANCELING':\n",
    "                print('リクエストID：' + request_id + 'は現在キャンセル中です。')\n",
    "                break\n",
    "            elif status == 'CANCELED':\n",
    "                print('リクエストID：' + request_id + 'はキャンセルされました。')\n",
    "                break\n",
    "\n",
    "        elif result_response.status_code == 400:\n",
    "            print('BadRequest')\n",
    "            print(result['message'])\n",
    "            break\n",
    "        elif result_response.status_code == 500:\n",
    "            print('InternalServerError')\n",
    "            print(result['message'])\n",
    "            break\n",
    "                      \n",
    "else:\n",
    "    print('検証に時間がかかっています。時間をおいて再度このセルを実行してください。')"
   ]
  },
  {
   "cell_type": "markdown",
   "metadata": {},
   "source": [
    "## 4. 研究リポジトリに同期する\n",
    "\n",
    "このタスクの実行結果を研究リポジトリに同期します。  \n",
    "検証結果を同期対象に含めるか含めないかは、「4.1. 検証結果を研究リポジトリに同期するか選択する」で選択できます。"
   ]
  },
  {
   "cell_type": "markdown",
   "metadata": {},
   "source": [
    "### 4.1. 検証結果を研究リポジトリに同期するか選択する"
   ]
  },
  {
   "cell_type": "code",
   "execution_count": null,
   "metadata": {},
   "outputs": [],
   "source": [
    "import panel as pn\n",
    "\n",
    "pn.extension()\n",
    "column = pn.Column()\n",
    "\n",
    "def save_selection_result(event):\n",
    "    global need_sync\n",
    "    done_button.button_type = \"success\"\n",
    "    done_button.name = \"選択完了しました。次の処理にお進みください。\"\n",
    "    need_sync = True if select.value == 1 else False\n",
    "\n",
    "select = pn.widgets.Select(name='検証結果を同期するかどうか選択した後、完了ボタンをクリックしてください。', options={'同期する': 1, '同期しない':2})\n",
    "done_button = pn.widgets.Button(name= \"選択を完了する\", button_type= \"primary\")\n",
    "done_button.on_click(save_selection_result)\n",
    "column.append(select)\n",
    "column.append(done_button)\n",
    "column"
   ]
  },
  {
   "cell_type": "markdown",
   "metadata": {},
   "source": [
    "### 4.2. 研究リポジトリに同期する"
   ]
  },
  {
   "cell_type": "code",
   "execution_count": null,
   "metadata": {},
   "outputs": [],
   "source": [
    "import os\n",
    "from IPython.display import display, Javascript\n",
    "\n",
    "os.chdir('/home/jovyan/WORKFLOWS/FLOW/')\n",
    "from util.scripts import utils\n",
    "\n",
    "os.chdir(os.environ['HOME'])\n",
    "need_sync_path = ['/home/jovyan/WORKFLOWS/FLOW/02_experimental_phase/base_validate_metadata.ipynb']\n",
    "if need_sync == True:\n",
    "    !mv -f $tmp_result_folder validation_results\n",
    "    need_sync_path.append('validation_results')\n",
    "\n",
    "display(Javascript('IPython.notebook.save_checkpoint();'))\n",
    "utils.syncs_with_repo(git_path=need_sync_path, gitannex_path=None, gitannex_files=None, message='メタデータ検証')"
   ]
  },
  {
   "cell_type": "markdown",
   "metadata": {},
   "source": [
    "## 5. 研究ワークフロー機能トップページに遷移する\n",
    "\n",
    "以下のセルを実行し、表示されるリンクをクリックして研究ワークフロー機能トップページに戻ってください。"
   ]
  },
  {
   "cell_type": "code",
   "execution_count": null,
   "metadata": {},
   "outputs": [],
   "source": [
    "from IPython.display import display, HTML, Javascript\n",
    "display(HTML(\"<a href='../../base_FLOW.ipynb'>研究ワークフロー機能トップページに遷移する</a>\"))\n",
    "display(Javascript('IPython.notebook.save_checkpoint();'))"
   ]
  }
 ],
 "metadata": {
  "kernelspec": {
   "display_name": "Python 3 (ipykernel)",
   "language": "python",
   "name": "python3"
  },
  "language_info": {
   "codemirror_mode": {
    "name": "ipython",
    "version": 3
   },
   "file_extension": ".py",
   "mimetype": "text/x-python",
   "name": "python",
   "nbconvert_exporter": "python",
   "pygments_lexer": "ipython3",
   "version": "3.9.10"
  }
 },
 "nbformat": 4,
 "nbformat_minor": 2
}
