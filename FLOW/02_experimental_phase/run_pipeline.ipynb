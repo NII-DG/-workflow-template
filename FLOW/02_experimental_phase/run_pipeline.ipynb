{
 "cells": [
  {
   "cell_type": "markdown",
   "id": "8db76987",
   "metadata": {},
   "source": [
    "# 実験パイプラインの実行\n",
    "\n",
    "これは実験パイプラインを実行するためのノートブックです。"
   ]
  },
  {
   "cell_type": "markdown",
   "id": "71da3526",
   "metadata": {},
   "source": [
    "## 1. 実験パイプライン情報の取得\n",
    "\n",
    "- このステップでは、実行する実験パイプラインの定義情報を取得します。\n",
    "- 以下のセルを実行してください。"
   ]
  },
  {
   "cell_type": "code",
   "execution_count": null,
   "id": "b1d8a854",
   "metadata": {},
   "outputs": [],
   "source": [
    "import json\n",
    "\n",
    "# 作業ディレクトリに移動\n",
    "%cd ~/experiments/\n",
    "\n",
    "# 実験パイプライン定義ファイルの読み込み\n",
    "pipeline = json.load(open(\"pipeline.json\"))\n",
    "print(\"実験パイプライン：\" + str(pipeline))"
   ]
  },
  {
   "cell_type": "markdown",
   "id": "77ea8bce",
   "metadata": {},
   "source": [
    "## 2. 実験パッケージの最新化"
   ]
  },
  {
   "cell_type": "code",
   "execution_count": null,
   "id": "b4ac08ea",
   "metadata": {},
   "outputs": [],
   "source": [
    "for experiment in pipeline:\n",
    "    %cd $experiment\n",
    "    !git pull\n",
    "    %cd ../"
   ]
  },
  {
   "cell_type": "markdown",
   "id": "96b52333",
   "metadata": {},
   "source": [
    "## 3. 実験パイプラインの実行\n",
    "\n",
    "- このステップでは、定義情報に基づいて実験パイプラインを実行します。\n",
    "- 以下のセルを実行してください。"
   ]
  },
  {
   "cell_type": "code",
   "execution_count": null,
   "id": "8dd4ffaf",
   "metadata": {},
   "outputs": [],
   "source": [
    "%cd ~/experiments/\n",
    "\n",
    "import papermill\n",
    "\n",
    "outputs = []\n",
    "\n",
    "for experiment in pipeline:\n",
    "    print(\"\\n============================================================ \" + experiment)\n",
    "\n",
    "    print(\"\\n# 出力ディレクトリの初期化\")\n",
    "    cmd = \"rm -rf \" + experiment + \"/output_data/*\"\n",
    "    print(\"$ \" + cmd)\n",
    "    !$cmd\n",
    "    \n",
    "    print(\"\\n前実験の出力データを当実験の入力データとして複製\")\n",
    "    for output in outputs:\n",
    "        cmd = \"cp -rf \" + output + \"/output_data/* \" + experiment + \"/input_data/\" \n",
    "        print(\"$ \" + cmd)\n",
    "        !$cmd\n",
    "\n",
    "    print(\"\\n実験再現のための環境構築\")\n",
    "    cmd = \"pip install -r \" + experiment + \"/requirements.txt\"\n",
    "    print(\"$ \" + cmd)\n",
    "    !$cmd\n",
    "\n",
    "    print(\"\\n実験ソースコードの実行\")\n",
    "    cmd = experiment + \"/source/\"\n",
    "    print(\"$ cd \" + cmd)\n",
    "    %cd $cmd\n",
    "\n",
    "    papermill.execute_notebook(\"main.ipynb\", \"log.ipynb\")\n",
    "    \n",
    "    cmd = \"-\"\n",
    "    print(\"$ cd \" + cmd)\n",
    "    %cd $cmd\n",
    "\n",
    "    print(\"\\n次実験に備えて本実験の出力データを登録\")\n",
    "    outputs += [experiment]"
   ]
  }
 ],
 "metadata": {
  "kernelspec": {
   "display_name": "Python 3",
   "language": "python",
   "name": "python3"
  },
  "language_info": {
   "codemirror_mode": {
    "name": "ipython",
    "version": 3
   },
   "file_extension": ".py",
   "mimetype": "text/x-python",
   "name": "python",
   "nbconvert_exporter": "python",
   "pygments_lexer": "ipython3",
   "version": "3.8.12"
  }
 },
 "nbformat": 4,
 "nbformat_minor": 5
}
