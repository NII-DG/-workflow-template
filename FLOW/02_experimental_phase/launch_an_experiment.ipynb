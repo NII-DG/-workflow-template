{
 "cells": [
  {
   "cell_type": "markdown",
   "metadata": {},
   "source": [
    "# 実験を開始する\n",
    "\n",
    "実験パッケージを用意して実験の開始をサポートします。  \n",
    "上から順番に実行してください。"
   ]
  },
  {
   "cell_type": "markdown",
   "metadata": {},
   "source": [
    "## ◆◆◆開発メモ◆◆◆\n",
    "\n",
    "リンクをクリックせずに実験リポジトリを立ち上げられないか"
   ]
  },
  {
   "cell_type": "markdown",
   "metadata": {},
   "source": [
    "## 1. 実験用リポジトリを作成し、リポジトリ名を入力する"
   ]
  },
  {
   "cell_type": "markdown",
   "metadata": {},
   "source": [
    "### - 1.1  実験用の空リポジトリを作成する\n",
    "\n",
    "- 以下のリンクに遷移し、データガバナンス機能で実験用の空リポジトリを作成してください。  \n",
    "- 空のリポジトリを作成するために、「選択されたファイルおよびテンプレートでリポジトリを初期化」のチェックを外してください。  \n",
    " [データガバナンス機能に遷移する](http://dg02.dg.rcos.nii.ac.jp/repo/create)"
   ]
  },
  {
   "cell_type": "markdown",
   "metadata": {},
   "source": [
    "### - 1.2 作成したリポジトリ名を入力する\n",
    "\n",
    "- 以下のセルを実行してリポジトリ名を入力してください。"
   ]
  },
  {
   "cell_type": "code",
   "execution_count": null,
   "metadata": {},
   "outputs": [],
   "source": [
    "repository_title = input(\"リポジトリ名\")"
   ]
  },
  {
   "cell_type": "markdown",
   "metadata": {
    "heading_collapsed": true
   },
   "source": [
    "## 2. 実験環境を整える"
   ]
  },
  {
   "cell_type": "markdown",
   "metadata": {
    "hidden": true
   },
   "source": [
    "### - 2.1 実験リポジトリのリモートURLを生成する"
   ]
  },
  {
   "cell_type": "code",
   "execution_count": null,
   "metadata": {
    "hidden": true
   },
   "outputs": [],
   "source": [
    "%cd ~/\n",
    "tmp = !git remote -v\n",
    "tmp = tmp[0]\n",
    "tmp = tmp[tmp.find(\"http\"):]\n",
    "tmp = tmp.split(\"/\")\n",
    "tmp = tmp[0] + \"//\" + tmp[2] + \"/\" + tmp[3]\n",
    "\n",
    "remote_url = tmp + \"/\" + repository_title + \".git\""
   ]
  },
  {
   "cell_type": "markdown",
   "metadata": {
    "hidden": true
   },
   "source": [
    "### - 2.2 空リポジトリ名のフォルダを作成し、実験パッケージをコピーする"
   ]
  },
  {
   "cell_type": "code",
   "execution_count": null,
   "metadata": {
    "hidden": true
   },
   "outputs": [],
   "source": [
    "!mkdir ~/.tmp/\n",
    "!git init ~/.tmp/$repository_title\n",
    "# !datalad create ~/.tmp/$repository_title\n",
    "!cp -r ~/WORKFLOW/PACKAGE/. ~/.tmp/$repository_title/\n",
    "\n",
    "%cd ~/.tmp/$repository_title\n",
    "!git add ~/.tmp/$repository_title\n",
    "!git commit -m '1st commit'\n",
    "!git remote add $repository_title $remote_url\n",
    "!git push $repository_title master\n",
    "# !datalad save --to-git -m \"1st commit\"\n",
    "# !datalad push"
   ]
  },
  {
   "cell_type": "markdown",
   "metadata": {
    "hidden": true
   },
   "source": [
    "### - 2.3 上記リポジトリをサブデータセットとして設定する"
   ]
  },
  {
   "cell_type": "code",
   "execution_count": null,
   "metadata": {
    "hidden": true
   },
   "outputs": [],
   "source": [
    "%cd ~/\n",
    "!git submodule add $remote_url ./experiments/$repository_title"
   ]
  },
  {
   "cell_type": "markdown",
   "metadata": {
    "hidden": true
   },
   "source": [
    "### - 2.4. pipeline.jsonに実験名を追記する"
   ]
  },
  {
   "cell_type": "code",
   "execution_count": null,
   "metadata": {
    "hidden": true
   },
   "outputs": [],
   "source": [
    "import json\n",
    "\n",
    "with open('/home/jovyan/experiments/pipeline.json', 'r') as f:\n",
    "    pipeline = json.load(f)\n",
    "\n",
    "pipeline.append(repository_title)\n",
    "\n",
    "with open('/home/jovyan/experiments/pipeline.json', 'w') as f:\n",
    "    json.dump(pipeline, f, indent = 4)"
   ]
  },
  {
   "cell_type": "markdown",
   "metadata": {
    "hidden": true
   },
   "source": [
    "### - 2.5 このノートブックを保存する"
   ]
  },
  {
   "cell_type": "code",
   "execution_count": null,
   "metadata": {
    "hidden": true
   },
   "outputs": [],
   "source": [
    "from IPython.display import display, Javascript\n",
    "display(Javascript('IPython.notebook.save_checkpoint();'))"
   ]
  },
  {
   "cell_type": "markdown",
   "metadata": {
    "hidden": true
   },
   "source": [
    "### - 2.6 実行結果をデータガバナンス機能に反映する"
   ]
  },
  {
   "cell_type": "code",
   "execution_count": null,
   "metadata": {
    "hidden": true
   },
   "outputs": [],
   "source": [
    "%cd ~/\n",
    "!git add ~/\n",
    "!git commit -m '実験の作成'\n",
    "!git push origin master\n",
    "# !datalad save --to-git -m \"実験の作成\"\n",
    "# !datalad push"
   ]
  },
  {
   "cell_type": "markdown",
   "metadata": {},
   "source": [
    "## 3. 実験リポジトリにアクセスして実験を開始する\n",
    "\n",
    "以下のセルを実行した後に出力されるリンクをクリックして実験に移ってください。"
   ]
  },
  {
   "cell_type": "code",
   "execution_count": null,
   "metadata": {},
   "outputs": [],
   "source": [
    "import urllib\n",
    "\n",
    "print(\n",
    "    \"https://binder.cs.rcos.nii.ac.jp/v2/git/\" + urllib.parse.quote(remote_url, safe='') + \"/HEAD?filepath=experiment.ipynb\"\n",
    ")"
   ]
  }
 ],
 "metadata": {
  "kernelspec": {
   "display_name": "Python 3 (ipykernel)",
   "language": "python",
   "name": "python3"
  },
  "language_info": {
   "codemirror_mode": {
    "name": "ipython",
    "version": 3
   },
   "file_extension": ".py",
   "mimetype": "text/x-python",
   "name": "python",
   "nbconvert_exporter": "python",
   "pygments_lexer": "ipython3",
   "version": "3.7.10"
  }
 },
 "nbformat": 4,
 "nbformat_minor": 4
}
