{
 "cells": [
  {
   "cell_type": "markdown",
   "metadata": {},
   "source": [
    "# FLOW\n",
    "\n",
    "研究の準備、実施、公開までの研究者のワークフローを支援します。  \n",
    "「0.データガバナンス機能と連携する」を最初に実行したあと、研究準備フェーズから実験期フェーズ、実験終了後フェーズの順に進んでください。  \n",
    "各フェーズでは、リンクを押下して、表示される画面の手順に沿って実行することでワークフローを実施できます。"
   ]
  },
  {
   "cell_type": "markdown",
   "metadata": {},
   "source": [
    "## 0. ワークフローを実行するための準備をする\n",
    "  \n",
    "次のフェーズに進む前に必ず実行する必要があります。  \n",
    "ワークフロー機能を使うのが初めての場合は、「FLOWの立ち上げ毎に実行」、「初回立ち上げ時のみ実行」の順にで実行してください。  \n",
    "2回目以降は、ワークフロー機能を実行する前に「FLOWの立ち上げ毎に実行」を実行してください。"
   ]
  },
  {
   "cell_type": "markdown",
   "metadata": {},
   "source": [
    "|||\n",
    "|:---:|:---:|\n",
    "|[binder環境立ち上げ毎に実行](./util/prepare_for_workflow_every_time.ipynb)|[初回立ち上げ時に実行](./util/prepare_for_workflow.ipynb)|"
   ]
  },
  {
   "cell_type": "markdown",
   "metadata": {},
   "source": [
    "## 1. 研究準備フェーズ\n",
    "\n",
    "研究準備フェーズでは実験前の準備をサポートします。"
   ]
  },
  {
   "cell_type": "markdown",
   "metadata": {},
   "source": [
    "||||||\n",
    "|:---:|:---:|:---:|:---:|:---:|\n",
    "|[GakuNin RDMと連携する](./01_preparation_phase/work_with_GakuNinRDM.ipynb)|[データクリーニングツールを準備する](./01_preparation_phase/setup_data_cleaning_tools.ipynb)|[データ分析ツールを準備する](./01_preparation_phase/setup_data_analysis_tools.ipynb)|"
   ]
  },
  {
   "cell_type": "markdown",
   "metadata": {},
   "source": [
    "## 2. 実験期フェーズ\n",
    "\n",
    "実験期フェーズでは実験の開始から、複数の実験の再現性の確認などをサポートします。  \n",
    "まずは、「実験を開始する」から実験を作成してください。実験の終了後、複数の実験の再現性を確認したいタイミングで「実験パイプラインをチェックする」「実験パイプラインを実行する」を実行してください。"
   ]
  },
  {
   "cell_type": "markdown",
   "metadata": {},
   "source": [
    "||||||\n",
    "|:---:|:---:|:---:|:---:|:---:|\n",
    "|[実験を開始する](./02_experimental_phase/launch_an_experiment.ipynb)|[実験パイプラインをチェックする](./02_experimental_phase/check_pipeline.ipynb)|[実験パイプラインを実行する](./02_experimental_phase/run_pipeline.ipynb)|[研究リポジトリをモニタリングする](./02_experimental_phase/monitor_repository.ipynb)|"
   ]
  },
  {
   "cell_type": "markdown",
   "metadata": {},
   "source": [
    "## 3. 実験終了後フェーズ\n",
    "\n",
    "実験終了後フェーズでは研究成果の公開をサポートします。"
   ]
  },
  {
   "cell_type": "markdown",
   "metadata": {},
   "source": [
    "|||\n",
    "|:---:|:---:|\n",
    "|[研究成果を公開する](./03_after_research_phase/publish.ipynb)|"
   ]
  }
 ],
 "metadata": {
  "kernelspec": {
   "display_name": "Python 3",
   "language": "python",
   "name": "python3"
  },
  "language_info": {
   "codemirror_mode": {
    "name": "ipython",
    "version": 3
   },
   "file_extension": ".py",
   "mimetype": "text/x-python",
   "name": "python",
   "nbconvert_exporter": "python",
   "pygments_lexer": "ipython3",
   "version": "3.7.8"
  }
 },
 "nbformat": 4,
 "nbformat_minor": 4
}
