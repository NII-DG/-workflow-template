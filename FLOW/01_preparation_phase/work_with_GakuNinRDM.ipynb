{
 "cells": [
  {
   "cell_type": "markdown",
   "metadata": {},
   "source": [
    "# GakuNin RDMと連携する\n",
    "\n",
    "GakuNin RDMと連携するためのノートブックです。"
   ]
  },
  {
   "cell_type": "markdown",
   "metadata": {},
   "source": [
    "## ◆◆◆開発メモ◆◆◆\n",
    "GakuNin RDMとの連携方法が明確でないためマークダウンのみ。"
   ]
  },
  {
   "cell_type": "markdown",
   "metadata": {},
   "source": [
    "## 1. GakuNin RDMに遷移する\n",
    "\n",
    "https://rdm.nii.ac.jp/ に遷移してください。"
   ]
  },
  {
   "cell_type": "markdown",
   "metadata": {},
   "source": [
    "## 2. GakuNin RDMにサインインして新規プロジェクトを作成する  \n",
    "\n",
    "※既存プロジェクトと連携する場合はこのステップを飛ばしてください。"
   ]
  },
  {
   "cell_type": "markdown",
   "metadata": {},
   "source": [
    "## 3. データガバナンス機能連携アドオンを設定する"
   ]
  }
 ],
 "metadata": {
  "kernelspec": {
   "display_name": "Python 3",
   "language": "python",
   "name": "python3"
  },
  "language_info": {
   "codemirror_mode": {
    "name": "ipython",
    "version": 3
   },
   "file_extension": ".py",
   "mimetype": "text/x-python",
   "name": "python",
   "nbconvert_exporter": "python",
   "pygments_lexer": "ipython3",
   "version": "3.7.8"
  }
 },
 "nbformat": 4,
 "nbformat_minor": 4
}
