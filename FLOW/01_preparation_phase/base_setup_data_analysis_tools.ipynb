{
 "cells": [
  {
   "cell_type": "markdown",
   "metadata": {
    "tags": []
   },
   "source": [
    "# 高性能実験環境を準備する(TBD)\n",
    "\n",
    "高性能実験環境として、[mdx](https://www.u-tokyo.ac.jp/focus/ja/press/z0310_00027.html)環境を利用するための設定をします。  \n",
    "以下のセルを上から順番に実行してください。  \n",
    "2回目以降の実行の場合、このセルが選択された状態で画面上部に表示される以下のボタンをクリックしてから実行して下さい。  \n",
    "![UnfreezeBotton](../../../../files/WORKFLOWS/images/unfreeze_button.png)\n",
    "\n",
    "◆◆◆開発メモ◆◆◆  \n",
    "将来的には、[学認クラウドオンデマンド構築サービス](https://cloud.gakunin.jp/ocs/)による動的な環境構築を実現する。\n"
   ]
  },
  {
   "cell_type": "markdown",
   "metadata": {},
   "source": [
    "<span style=\"font-size: 200%; color: red;\">本セクションは現在、作業はありません。</span><br>\n",
    "<span style=\"font-size: 200%; color: red;\">[こちら](../../base_FLOW.ipynb)からトップページに遷移できます。  </span>"
   ]
  }
 ],
 "metadata": {
  "kernelspec": {
   "display_name": "Python 3.9.5 64-bit",
   "language": "python",
   "name": "python3"
  },
  "language_info": {
   "codemirror_mode": {
    "name": "ipython",
    "version": 3
   },
   "file_extension": ".py",
   "mimetype": "text/x-python",
   "name": "python",
   "nbconvert_exporter": "python",
   "pygments_lexer": "ipython3",
   "version": "3.9.5"
  },
  "vscode": {
   "interpreter": {
    "hash": "6a196852dad78838558c3d25678ed4fa7922e766dc7a8a519a679191ca8fa666"
   }
  }
 },
 "nbformat": 4,
 "nbformat_minor": 4
}
