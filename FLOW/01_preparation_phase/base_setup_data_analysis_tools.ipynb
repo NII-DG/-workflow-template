{
 "cells": [
  {
   "attachments": {
    "image.png": {
     "image/png": "[encoded data removed]"
    }
   },
   "cell_type": "markdown",
   "metadata": {
    "tags": []
   },
   "source": [
    "# 高性能実験環境を準備する\n",
    "\n",
    "高性能実験環境として、[mdx](https://www.u-tokyo.ac.jp/focus/ja/press/z0310_00027.html)環境を利用するための設定をします。  \n",
    "以下のセルを上から順番に実行してください。  \n",
    "2回目以降の実行の場合、このセルが選択された状態で画面上部に表示される以下のボタンをクリックしてから実行して下さい。  \n",
    "![image.png](attachment:image.png)\n",
    "\n",
    "◆◆◆開発メモ◆◆◆  \n",
    "将来的には、[学認クラウドオンデマンド構築サービス](https://cloud.gakunin.jp/ocs/)による動的な環境構築を実現する。"
   ]
  },
  {
   "cell_type": "markdown",
   "metadata": {
    "tags": []
   },
   "source": [
    "## 1. 高性能実験環境のアカウント情報の入力\n",
    "\n",
    "以下のセルを実行し、表示されるフォームに高性能実験環境におけるアカウント情報を入力してください。"
   ]
  },
  {
   "cell_type": "code",
   "execution_count": null,
   "metadata": {},
   "outputs": [],
   "source": [
    "from IPython.display import clear_output\n",
    "import getpass\n",
    "name_mdx = input(\"高性能実験環境におけるSSHユーザ名：\")\n",
    "clear_output()"
   ]
  },
  {
   "cell_type": "markdown",
   "metadata": {
    "tags": []
   },
   "source": [
    "## 2. アカウント認証のための設定\n",
    "\n",
    "[こちら](../../../../tree) を押下し、ファイル一覧画面に遷移してください。  \n",
    "遷移後、id_rsaファイルをドラッグアンドドロップによりアップロードしてください。  \n",
    "アップロード後、以下のセルを実行してください。"
   ]
  },
  {
   "cell_type": "code",
   "execution_count": null,
   "metadata": {},
   "outputs": [],
   "source": [
    "!mkdir -p /home/jovyan/.ssh/\n",
    "!mv ~/id_rsa* ~/.ssh/id_rsa\n",
    "!chmod 600 ~/.ssh/id_rsa"
   ]
  },
  {
   "cell_type": "markdown",
   "metadata": {
    "tags": []
   },
   "source": [
    "## 3. 高性能実験環境への接続設定の実施\n",
    "\n",
    "以下のセルを実行し、高性能実験環境に接続するための設定を実施してください。"
   ]
  },
  {
   "cell_type": "code",
   "execution_count": null,
   "metadata": {},
   "outputs": [],
   "source": [
    "path_flow_root = '/home/jovyan/WORKFLOW/FLOW/'\n",
    "os.chdir(path_flow_root)\n",
    "from util.scripts import utils\n",
    "import json\n",
    "\n",
    "# 以下の認証の手順で用いる、\n",
    "# GINのドメイン名等をパラメタファイルから取得する\n",
    "params = {}\n",
    "with open(utils.fetch_param_file_path(), mode='r') as f:\n",
    "    params = json.load(f)"
   ]
  },
  {
   "cell_type": "code",
   "execution_count": null,
   "metadata": {
    "tags": []
   },
   "outputs": [],
   "source": [
    "%cd ~/WORKFLOW/PACKAGE/base/EX-WORKFLOW/util/scripts\n",
    "import utils\n",
    "from IPython.display import clear_output\n",
    "\n",
    "import json\n",
    "import os\n",
    "\n",
    "# mdx接続情報を設定ファイルに記述する\n",
    "utils.config_mdx(name_mdx=name_mdx, mdxDomain=params['mdxDomain'])\n",
    "clear_output()"
   ]
  },
  {
   "cell_type": "markdown",
   "metadata": {},
   "source": [
    "## 4. 接続テスト\n",
    "\n",
    "以下のセルを実行し、「高性能実験環境と正常に接続されています」と表示されることを確認してください。"
   ]
  },
  {
   "cell_type": "code",
   "execution_count": null,
   "metadata": {},
   "outputs": [],
   "source": [
    "!ssh mdx \"echo 高性能実験環境と正常に接続されています\""
   ]
  },
  {
   "cell_type": "markdown",
   "metadata": {},
   "source": [
    "## 5. ワークフロー機能トップページに遷移する\n",
    "\n",
    "続けてワークフロー機能を実行する場合は、[こちら](../base_FLOW.ipynb)からトップページに遷移できます。  "
   ]
  }
 ],
 "metadata": {
  "kernelspec": {
   "display_name": "Python 3 (ipykernel)",
   "language": "python",
   "name": "python3"
  },
  "language_info": {
   "codemirror_mode": {
    "name": "ipython",
    "version": 3
   },
   "file_extension": ".py",
   "mimetype": "text/x-python",
   "name": "python",
   "nbconvert_exporter": "python",
   "pygments_lexer": "ipython3",
   "version": "3.9.7"
  }
 },
 "nbformat": 4,
 "nbformat_minor": 4
}
