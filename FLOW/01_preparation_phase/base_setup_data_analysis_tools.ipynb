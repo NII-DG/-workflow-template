{
 "cells": [
  {
   "cell_type": "markdown",
   "metadata": {},
   "source": [
    "# 高性能実験環境を準備する\n",
    "\n",
    "高性能実験環境として、[mdx](https://www.u-tokyo.ac.jp/focus/ja/press/z0310_00027.html)環境を準備します。  \n",
    "以下のセルを上から順番に実行してください。  \n",
    "  \n",
    "なお、mdx環境の利用方式として[SSH Kernel](https://ipsj.ixsq.nii.ac.jp/ej/?action=repository_action_common_download&item_id=194824&item_no=1&attribute_id=1&file_no=1)を採用しています。  \n",
    "実験時に改めて説明しますが、この方式では、独自記法でNotebookを記述する必要があるため注意してください。"
   ]
  },
  {
   "cell_type": "markdown",
   "metadata": {},
   "source": [
    "## 実験環境への接続情報の設定\n",
    "\n",
    "実験環境への接続情報の設定を行います。  \n",
    "以下のセルを実行すると、接続情報の入力フォームが表示されます。  "
   ]
  },
  {
   "cell_type": "code",
   "execution_count": null,
   "metadata": {},
   "outputs": [],
   "source": [
    "!mkdir -p /home/jovyan/WORKFLOW/PACKAGE/.ssh/\n",
    "\n",
    "HOST = input()\n",
    "USER = input()\n",
    "\n",
    "with open(\"/home/jovyan/WORKFLOW/PACKAGE/.ssh/config\", \"a\") as f:\n",
    "     f.write(\"Host mdx\\n\")\n",
    "     f.write(\"  Hostname \" + HOST + \"\\n\")\n",
    "     f.write(\"  User \" + USER + \"\\n\")\n",
    "     f.write(\"  Port 22\\n\")\n",
    "     f.write(\"  IdentityFile ~/id_rsa\\n\")"
   ]
  }
 ],
 "metadata": {
  "kernelspec": {
   "display_name": "Python 3 (ipykernel)",
   "language": "python",
   "name": "python3"
  },
  "language_info": {
   "codemirror_mode": {
    "name": "ipython",
    "version": 3
   },
   "file_extension": ".py",
   "mimetype": "text/x-python",
   "name": "python",
   "nbconvert_exporter": "python",
   "pygments_lexer": "ipython3",
   "version": "3.7.10"
  }
 },
 "nbformat": 4,
 "nbformat_minor": 4
}
