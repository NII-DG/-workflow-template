{
 "cells": [
  {
   "cell_type": "markdown",
   "metadata": {},
   "source": [
    "# GakuNin RDM 新規作成プロジェクトとの連携\n",
    "\n",
    "これはDMP情報に基づき、GakuNin RDMと連携するためのノートブックです。  \n",
    "システムによってパラメタライズされるため、手動での実行は非推奨です。"
   ]
  },
  {
   "cell_type": "markdown",
   "metadata": {},
   "source": [
    "## dmp.jsonから作成するプロジェクト情報を取得する"
   ]
  },
  {
   "cell_type": "markdown",
   "metadata": {},
   "source": [
    "## GakuNin RDMのAPIでプロジェクトを作成する\n",
    "\n",
    "dmp.jsonから取得したプロジェクト情報に沿ったプロジェクトをGakuNin RDMに作成する。"
   ]
  },
  {
   "cell_type": "markdown",
   "metadata": {},
   "source": [
    "## プロジェクトの情報を更新する"
   ]
  },
  {
   "cell_type": "markdown",
   "metadata": {},
   "source": [
    "## GakuNin RDMからデータガバナンス機能へ連携する\n",
    "案1:GakuNin RDMとデータガバナンス機能をアドオンでgin接続する  \n",
    "案2:GakuNin RDMとデータガバナンス機能をコード付帯機能経由で接続する"
   ]
  },
  {
   "cell_type": "markdown",
   "metadata": {},
   "source": [
    "## データガバナンス機能からGakuNin RDMへ連携する\n",
    "リポジトリのREADME.mdにGakuNin RDMへのリンクを貼付する"
   ]
  }
 ],
 "metadata": {
  "kernelspec": {
   "display_name": "Python 3",
   "language": "python",
   "name": "python3"
  },
  "language_info": {
   "codemirror_mode": {
    "name": "ipython",
    "version": 3
   },
   "file_extension": ".py",
   "mimetype": "text/x-python",
   "name": "python",
   "nbconvert_exporter": "python",
   "pygments_lexer": "ipython3",
   "version": "3.7.8"
  }
 },
 "nbformat": 4,
 "nbformat_minor": 4
}
