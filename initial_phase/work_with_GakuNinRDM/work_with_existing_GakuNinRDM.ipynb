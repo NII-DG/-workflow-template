{
 "cells": [
  {
   "cell_type": "markdown",
   "metadata": {},
   "source": [
    "# GakuNin RDM 既存プロジェクトとの連携\n",
    "\n",
    "これはDMP情報に基づき、GakuNin RDMと連携するためのノートブックです。  \n",
    "システムによってパラメタライズされるため、手動での実行は非推奨です。"
   ]
  },
  {
   "cell_type": "markdown",
   "metadata": {},
   "source": [
    "## dmp.jsonから連携する既存プロジェクト情報を取得する\n",
    "既存プロジェクトと連携する場合、dmp.jsonにはプロジェクトIDが入力される"
   ]
  },
  {
   "cell_type": "markdown",
   "metadata": {},
   "source": [
    "## GakuNin RDMからデータガバナンス機能へ連携する\n",
    "dmp.jsonから取得したプロジェクトIDからAPIで連携するプロジェクト情報を取得する\n",
    "案1:GakuNin RDMとデータガバナンス機能をアドオンでgin接続する  \n",
    "案2:GakuNin RDMとデータガバナンス機能をコード付帯機能経由で接続する"
   ]
  },
  {
   "cell_type": "markdown",
   "metadata": {},
   "source": [
    "## データガバナンス機能からGakuNin RDMへ連携する\n",
    "リポジトリのREADME.mdにGakuNin RDMへのリンクを貼付する"
   ]
  }
 ],
 "metadata": {
  "kernelspec": {
   "display_name": "Python 3",
   "language": "python",
   "name": "python3"
  },
  "language_info": {
   "codemirror_mode": {
    "name": "ipython",
    "version": 3
   },
   "file_extension": ".py",
   "mimetype": "text/x-python",
   "name": "python",
   "nbconvert_exporter": "python",
   "pygments_lexer": "ipython3",
   "version": "3.7.8"
  }
 },
 "nbformat": 4,
 "nbformat_minor": 4
}
