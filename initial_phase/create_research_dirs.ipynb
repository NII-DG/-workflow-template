{
 "cells": [
  {
   "cell_type": "markdown",
   "metadata": {},
   "source": [
    "# 研究ディレクトリ作成用テンプレート\n",
    "\n",
    "これはDMP情報に基づき、研究ディレクトリを作成するためのノートブックです。  \n",
    "システムによってパラメタライズされるため、手動での実行は非推奨です。"
   ]
  },
  {
   "cell_type": "markdown",
   "metadata": {},
   "source": [
    "## ディレクトリ作成情報の変数を用意する\n",
    "papermillでワークフロー生成機能がdmp.jsonから取得した情報にオーバーライドされる"
   ]
  },
  {
   "cell_type": "code",
   "execution_count": null,
   "metadata": {
    "tags": [
     "parameters"
    ]
   },
   "outputs": [],
   "source": [
    "DMP_PATH      = \"\" # DMP_PATH is override by papermill\n",
    "RESEARCH_PATH = \"\" # RESEARCH_PATH is override by papermill\n",
    "\n",
    "# These parameters are also override by papermill\n",
    "CWD = \"\"\n",
    "SIBLING_NAME = \"\"\n",
    "DEFAULT_BRANCH = \"\"\n",
    "HTTP_HOST = \"\"\n",
    "SSH_HOST = \"\"\n",
    "\n",
    "save_path = \"\"\n",
    "save_message = \"\""
   ]
  },
  {
   "cell_type": "code",
   "execution_count": null,
   "metadata": {},
   "outputs": [],
   "source": [
    "import os\n",
    "import csv\n",
    "import json\n",
    "from collections import OrderedDict\n",
    "import pprint\n",
    "\n",
    "with open(DMP_PATH, 'r') as f:\n",
    "#     line = [row for row in csv.reader(f)]\n",
    "    jsn = json.load(f)\n",
    "\n",
    "for research in jsn['researches']:\n",
    "    os.makedirs(RESEARCH_PATH+research['title'])\n",
    "    with open(RESEARCH_PATH+research['title']+\"/README.md\", mode='w') as f:\n",
    "        f.write(\"# \"+research['title'])\n",
    "        \n",
    "#     print(jsn['researches'][0]['title'])\n",
    "#     pprint.pprint(jsn, width=40)"
   ]
  },
  {
   "cell_type": "code",
   "execution_count": null,
   "metadata": {},
   "outputs": [],
   "source": [
    "import os\n",
    "\n",
    "os.chdir(CWD)"
   ]
  },
  {
   "cell_type": "code",
   "execution_count": null,
   "metadata": {},
   "outputs": [],
   "source": [
    "from datalad import api\n",
    "\n",
    "api.save(path=save_path, message=save_message)"
   ]
  },
  {
   "cell_type": "code",
   "execution_count": null,
   "metadata": {},
   "outputs": [],
   "source": [
    "%%sh\n",
    "chmod 600 /home/jovyan/.ssh/id_rsa"
   ]
  },
  {
   "cell_type": "code",
   "execution_count": null,
   "metadata": {},
   "outputs": [],
   "source": [
    "%%sh\n",
    "mkdir ./tmp\n",
    "git remote show origin > ./tmp/remote.txt"
   ]
  },
  {
   "cell_type": "code",
   "execution_count": null,
   "metadata": {},
   "outputs": [],
   "source": [
    "from datalad import api\n",
    "\n",
    "# SSHでの接続URLを生成\n",
    "with open('./tmp/remote.txt', 'r') as f:\n",
    "    lines = [s.strip() for s in f.readlines()]\n",
    "    ssh_remote = lines[2].replace('Push  URL: '+HTTP_HOST, SSH_HOST)\n",
    "\n",
    "try:\n",
    "    api.siblings(action='add', name=SIBLING_NAME, url=ssh_remote)\n",
    "except:\n",
    "    pass\n",
    "\n",
    "api.push(to=SIBLING_NAME, result_renderer='default')"
   ]
  },
  {
   "cell_type": "code",
   "execution_count": null,
   "metadata": {},
   "outputs": [],
   "source": [
    "%%sh\n",
    "rm -r ./tmp"
   ]
  }
 ],
 "metadata": {
  "celltoolbar": "Tags",
  "kernelspec": {
   "display_name": "Python 3",
   "language": "python",
   "name": "python3"
  },
  "language_info": {
   "codemirror_mode": {
    "name": "ipython",
    "version": 3
   },
   "file_extension": ".py",
   "mimetype": "text/x-python",
   "name": "python",
   "nbconvert_exporter": "python",
   "pygments_lexer": "ipython3",
   "version": "3.7.8"
  }
 },
 "nbformat": 4,
 "nbformat_minor": 5
}
