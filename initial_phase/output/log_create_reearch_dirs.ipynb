{
 "cells": [
  {
   "cell_type": "markdown",
   "id": "26d499f6",
   "metadata": {
    "papermill": {
     "duration": 0.004523,
     "end_time": "2021-12-02T00:01:27.513139",
     "exception": false,
     "start_time": "2021-12-02T00:01:27.508616",
     "status": "completed"
    },
    "tags": []
   },
   "source": [
    "# 研究ディレクトリ作成用ノートブック\n",
    "\n",
    "これはDMP情報に基づき、研究ディレクトリを作成するためのノートブックです。  \n",
    "システムによってパラメタライズされるため、手動での実行は非推奨です。"
   ]
  },
  {
   "cell_type": "code",
   "execution_count": 1,
   "id": "e727feb1",
   "metadata": {
    "execution": {
     "iopub.execute_input": "2021-12-02T00:01:27.524439Z",
     "iopub.status.busy": "2021-12-02T00:01:27.524042Z",
     "iopub.status.idle": "2021-12-02T00:01:27.525176Z",
     "shell.execute_reply": "2021-12-02T00:01:27.525438Z"
    },
    "papermill": {
     "duration": 0.008512,
     "end_time": "2021-12-02T00:01:27.525549",
     "exception": false,
     "start_time": "2021-12-02T00:01:27.517037",
     "status": "completed"
    },
    "tags": [
     "parameters"
    ]
   },
   "outputs": [],
   "source": [
    "DMP_PATH      = \"\" # DMP_PATH is override by papermill\n",
    "RESEARCH_PATH = \"\" # RESEARCH_PATH is override by papermill\n",
    "\n",
    "# These parameters are also override by papermill\n",
    "CWD = \"\"\n",
    "SIBLING_NAME = \"\"\n",
    "DEFAULT_BRANCH = \"\"\n",
    "HTTP_HOST = \"\"\n",
    "SSH_HOST = \"\"\n",
    "\n",
    "save_path = \"\"\n",
    "save_message = \"\""
   ]
  },
  {
   "cell_type": "code",
   "execution_count": 2,
   "id": "0ed833ec",
   "metadata": {
    "execution": {
     "iopub.execute_input": "2021-12-02T00:01:27.535723Z",
     "iopub.status.busy": "2021-12-02T00:01:27.535396Z",
     "iopub.status.idle": "2021-12-02T00:01:27.536698Z",
     "shell.execute_reply": "2021-12-02T00:01:27.536957Z"
    },
    "papermill": {
     "duration": 0.007703,
     "end_time": "2021-12-02T00:01:27.537041",
     "exception": false,
     "start_time": "2021-12-02T00:01:27.529338",
     "status": "completed"
    },
    "tags": [
     "injected-parameters"
    ]
   },
   "outputs": [],
   "source": [
    "# Parameters\n",
    "DMP_PATH = \"/home/jovyan/dmp.json\"\n",
    "RESEARCH_PATH = \"/home/jovyan/researches/\"\n",
    "CWD = \"/home/jovyan\"\n",
    "SIBLING_NAME = \"gin\"\n",
    "DEFAULT_BRANCH = \"origin\"\n",
    "HTTP_HOST = \"http://dg02.dg.rcos.nii.ac.jp/\"\n",
    "SSH_HOST = \"ssh://root@dg02.dg.rcos.nii.ac.jp:3001/\"\n",
    "save_path = \"researches\"\n",
    "save_message = \"update: modify on binder\"\n"
   ]
  },
  {
   "cell_type": "code",
   "execution_count": 3,
   "id": "a6571871",
   "metadata": {
    "execution": {
     "iopub.execute_input": "2021-12-02T00:01:27.547374Z",
     "iopub.status.busy": "2021-12-02T00:01:27.547038Z",
     "iopub.status.idle": "2021-12-02T00:01:27.549729Z",
     "shell.execute_reply": "2021-12-02T00:01:27.549985Z"
    },
    "papermill": {
     "duration": 0.009333,
     "end_time": "2021-12-02T00:01:27.550063",
     "exception": false,
     "start_time": "2021-12-02T00:01:27.540730",
     "status": "completed"
    },
    "tags": []
   },
   "outputs": [],
   "source": [
    "import os\n",
    "import csv\n",
    "import json\n",
    "from collections import OrderedDict\n",
    "import pprint\n",
    "\n",
    "with open(DMP_PATH, 'r') as f:\n",
    "#     line = [row for row in csv.reader(f)]\n",
    "    jsn = json.load(f)\n",
    "\n",
    "for research in jsn['researches']:\n",
    "    os.makedirs(RESEARCH_PATH+research['title'])\n",
    "    with open(RESEARCH_PATH+research['title']+\"/README.md\", mode='w') as f:\n",
    "        f.write(\"# \"+research['title'])\n",
    "        \n",
    "#     print(jsn['researches'][0]['title'])\n",
    "#     pprint.pprint(jsn, width=40)"
   ]
  },
  {
   "cell_type": "code",
   "execution_count": 4,
   "id": "035eeab0",
   "metadata": {
    "execution": {
     "iopub.execute_input": "2021-12-02T00:01:27.559746Z",
     "iopub.status.busy": "2021-12-02T00:01:27.559423Z",
     "iopub.status.idle": "2021-12-02T00:01:27.560838Z",
     "shell.execute_reply": "2021-12-02T00:01:27.561093Z"
    },
    "papermill": {
     "duration": 0.007428,
     "end_time": "2021-12-02T00:01:27.561180",
     "exception": false,
     "start_time": "2021-12-02T00:01:27.553752",
     "status": "completed"
    },
    "tags": []
   },
   "outputs": [],
   "source": [
    "import os\n",
    "\n",
    "os.chdir(CWD)"
   ]
  },
  {
   "cell_type": "code",
   "execution_count": 5,
   "id": "ef4692be",
   "metadata": {
    "execution": {
     "iopub.execute_input": "2021-12-02T00:01:27.570785Z",
     "iopub.status.busy": "2021-12-02T00:01:27.570465Z",
     "iopub.status.idle": "2021-12-02T00:01:29.873847Z",
     "shell.execute_reply": "2021-12-02T00:01:29.874167Z"
    },
    "papermill": {
     "duration": 2.309323,
     "end_time": "2021-12-02T00:01:29.874307",
     "exception": false,
     "start_time": "2021-12-02T00:01:27.564984",
     "status": "completed"
    },
    "tags": []
   },
   "outputs": [
    {
     "data": {
      "text/plain": [
       "[{'action': 'save',\n",
       "  'type': 'dataset',\n",
       "  'path': '/home/jovyan',\n",
       "  'refds': '/home/jovyan',\n",
       "  'status': 'notneeded'}]"
      ]
     },
     "execution_count": 5,
     "metadata": {},
     "output_type": "execute_result"
    }
   ],
   "source": [
    "from datalad import api\n",
    "\n",
    "api.save(path=save_path, message=save_message)"
   ]
  },
  {
   "cell_type": "code",
   "execution_count": 6,
   "id": "19d40626",
   "metadata": {
    "execution": {
     "iopub.execute_input": "2021-12-02T00:01:29.887015Z",
     "iopub.status.busy": "2021-12-02T00:01:29.886644Z",
     "iopub.status.idle": "2021-12-02T00:01:29.894819Z",
     "shell.execute_reply": "2021-12-02T00:01:29.894437Z"
    },
    "papermill": {
     "duration": 0.01586,
     "end_time": "2021-12-02T00:01:29.894921",
     "exception": false,
     "start_time": "2021-12-02T00:01:29.879061",
     "status": "completed"
    },
    "tags": []
   },
   "outputs": [],
   "source": [
    "%%sh\n",
    "chmod 600 /home/jovyan/.ssh/id_rsa"
   ]
  },
  {
   "cell_type": "code",
   "execution_count": 7,
   "id": "c85329f0",
   "metadata": {
    "execution": {
     "iopub.execute_input": "2021-12-02T00:01:29.906707Z",
     "iopub.status.busy": "2021-12-02T00:01:29.906383Z",
     "iopub.status.idle": "2021-12-02T00:01:29.990619Z",
     "shell.execute_reply": "2021-12-02T00:01:29.990238Z"
    },
    "papermill": {
     "duration": 0.091383,
     "end_time": "2021-12-02T00:01:29.990704",
     "exception": false,
     "start_time": "2021-12-02T00:01:29.899321",
     "status": "completed"
    },
    "tags": []
   },
   "outputs": [],
   "source": [
    "%%sh\n",
    "mkdir ./tmp\n",
    "git remote show origin > ./tmp/remote.txt"
   ]
  },
  {
   "cell_type": "code",
   "execution_count": 8,
   "id": "c23a281b",
   "metadata": {
    "execution": {
     "iopub.execute_input": "2021-12-02T00:01:30.004505Z",
     "iopub.status.busy": "2021-12-02T00:01:30.004033Z",
     "iopub.status.idle": "2021-12-02T00:01:33.766652Z",
     "shell.execute_reply": "2021-12-02T00:01:33.766959Z"
    },
    "papermill": {
     "duration": 3.771575,
     "end_time": "2021-12-02T00:01:33.767086",
     "exception": false,
     "start_time": "2021-12-02T00:01:29.995511",
     "status": "completed"
    },
    "tags": []
   },
   "outputs": [
    {
     "name": "stdout",
     "output_type": "stream",
     "text": [
      ".: gin(+) [ssh://root@dg02.dg.rcos.nii.ac.jp:3001/ivis-kuwata/sample-1.git (git)]"
     ]
    },
    {
     "name": "stdout",
     "output_type": "stream",
     "text": [
      "\n"
     ]
    },
    {
     "name": "stderr",
     "output_type": "stream",
     "text": [
      "[INFO] Determine push target \n"
     ]
    },
    {
     "name": "stderr",
     "output_type": "stream",
     "text": [
      "[INFO] Push refspecs \n"
     ]
    },
    {
     "name": "stderr",
     "output_type": "stream",
     "text": [
      "[INFO] Transfer data \n"
     ]
    },
    {
     "name": "stderr",
     "output_type": "stream",
     "text": [
      "[INFO] Update availability information \n"
     ]
    },
    {
     "name": "stderr",
     "output_type": "stream",
     "text": [
      "[INFO] Start enumerating objects \n"
     ]
    },
    {
     "name": "stderr",
     "output_type": "stream",
     "text": [
      "[INFO] Start counting objects \n"
     ]
    },
    {
     "name": "stderr",
     "output_type": "stream",
     "text": [
      "[INFO] Start compressing objects \n"
     ]
    },
    {
     "name": "stderr",
     "output_type": "stream",
     "text": [
      "[INFO] Start writing objects \n"
     ]
    },
    {
     "name": "stdout",
     "output_type": "stream",
     "text": [
      "publish"
     ]
    },
    {
     "name": "stdout",
     "output_type": "stream",
     "text": [
      "("
     ]
    },
    {
     "name": "stdout",
     "output_type": "stream",
     "text": [
      "ok"
     ]
    },
    {
     "name": "stdout",
     "output_type": "stream",
     "text": [
      "): . ("
     ]
    },
    {
     "name": "stdout",
     "output_type": "stream",
     "text": [
      "dataset"
     ]
    },
    {
     "name": "stdout",
     "output_type": "stream",
     "text": [
      ") [refs/heads/git-annex->gin:refs/heads/git-annex ef8b7f1..16e1aca]"
     ]
    },
    {
     "name": "stdout",
     "output_type": "stream",
     "text": [
      "\n"
     ]
    },
    {
     "name": "stderr",
     "output_type": "stream",
     "text": [
      "[INFO] Finished push of Dataset(/home/jovyan) \n"
     ]
    },
    {
     "name": "stdout",
     "output_type": "stream",
     "text": [
      "action summary:\n",
      "  publish (notneeded: 1, ok: 1)"
     ]
    },
    {
     "name": "stdout",
     "output_type": "stream",
     "text": [
      "\n"
     ]
    },
    {
     "data": {
      "text/plain": [
       "[{'action': 'publish',\n",
       "  'refds': '/home/jovyan',\n",
       "  'type': 'dataset',\n",
       "  'path': '/home/jovyan',\n",
       "  'status': 'notneeded',\n",
       "  'target': 'gin',\n",
       "  'refspec': 'refs/heads/master:refs/heads/master',\n",
       "  'operations': ['uptodate'],\n",
       "  'hints': None,\n",
       "  'message': 'refs/heads/master->gin:refs/heads/master [up to date]'},\n",
       " {'action': 'publish',\n",
       "  'refds': '/home/jovyan',\n",
       "  'type': 'dataset',\n",
       "  'path': '/home/jovyan',\n",
       "  'status': 'ok',\n",
       "  'target': 'gin',\n",
       "  'refspec': 'refs/heads/git-annex:refs/heads/git-annex',\n",
       "  'operations': ['fast-forward'],\n",
       "  'hints': None,\n",
       "  'message': 'refs/heads/git-annex->gin:refs/heads/git-annex ef8b7f1..16e1aca'}]"
      ]
     },
     "execution_count": 8,
     "metadata": {},
     "output_type": "execute_result"
    }
   ],
   "source": [
    "from datalad import api\n",
    "\n",
    "# SSHでの接続URLを生成\n",
    "with open('./tmp/remote.txt', 'r') as f:\n",
    "    lines = [s.strip() for s in f.readlines()]\n",
    "    ssh_remote = lines[2].replace('Push  URL: '+HTTP_HOST, SSH_HOST)\n",
    "\n",
    "try:\n",
    "    api.siblings(action='add', name=SIBLING_NAME, url=ssh_remote)\n",
    "except:\n",
    "    pass\n",
    "\n",
    "api.push(to=SIBLING_NAME, result_renderer='default')"
   ]
  },
  {
   "cell_type": "code",
   "execution_count": 9,
   "id": "bc346d1b",
   "metadata": {
    "execution": {
     "iopub.execute_input": "2021-12-02T00:01:33.786203Z",
     "iopub.status.busy": "2021-12-02T00:01:33.785872Z",
     "iopub.status.idle": "2021-12-02T00:01:33.793264Z",
     "shell.execute_reply": "2021-12-02T00:01:33.793622Z"
    },
    "papermill": {
     "duration": 0.018709,
     "end_time": "2021-12-02T00:01:33.793754",
     "exception": false,
     "start_time": "2021-12-02T00:01:33.775045",
     "status": "completed"
    },
    "tags": []
   },
   "outputs": [],
   "source": [
    "%%sh\n",
    "rm -r ./tmp"
   ]
  }
 ],
 "metadata": {
  "celltoolbar": "Tags",
  "kernelspec": {
   "display_name": "Python 3",
   "language": "python",
   "name": "python3"
  },
  "language_info": {
   "codemirror_mode": {
    "name": "ipython",
    "version": 3
   },
   "file_extension": ".py",
   "mimetype": "text/x-python",
   "name": "python",
   "nbconvert_exporter": "python",
   "pygments_lexer": "ipython3",
   "version": "3.8.12"
  },
  "papermill": {
   "default_parameters": {},
   "duration": 8.174343,
   "end_time": "2021-12-02T00:01:35.016880",
   "environment_variables": {},
   "exception": null,
   "input_path": "./initial_workflow/create_research_dirs.ipynb",
   "output_path": "./initial_workflow/output/log_create_reearch_dirs.ipynb",
   "parameters": {
    "CWD": "/home/jovyan",
    "DEFAULT_BRANCH": "origin",
    "DMP_PATH": "/home/jovyan/dmp.json",
    "HTTP_HOST": "http://dg02.dg.rcos.nii.ac.jp/",
    "RESEARCH_PATH": "/home/jovyan/researches/",
    "SIBLING_NAME": "gin",
    "SSH_HOST": "ssh://root@dg02.dg.rcos.nii.ac.jp:3001/",
    "save_message": "update: modify on binder",
    "save_path": "researches"
   },
   "start_time": "2021-12-02T00:01:26.842537",
   "version": "2.3.3"
  }
 },
 "nbformat": 4,
 "nbformat_minor": 5
}