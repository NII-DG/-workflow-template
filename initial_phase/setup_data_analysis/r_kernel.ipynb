{
 "cells": [
  {
   "cell_type": "markdown",
   "metadata": {},
   "source": [
    "# R言語の環境構築テンプレート\n",
    "\n",
    "これはDMP情報に基づき、JupyterNotebook環境にR言語環境を構築するためのノートブックです。  \n",
    "システムによってパラメタライズされるため、手動での実行は非推奨です。"
   ]
  },
  {
   "cell_type": "markdown",
   "metadata": {},
   "source": [
    "## R言語のバージョンやパッケージの変数を用意する\n",
    "papermillでワークフロー生成機能がdmp.jsonから取得した情報にオーバーライドされる"
   ]
  },
  {
   "cell_type": "markdown",
   "metadata": {},
   "source": [
    "## R言語のKernelとパッケージ群インストールを実験記録テンプレートの実験環境構成に追記する\n",
    "メモ：インストール方法参考： https://anaconda.org/conda-forge/r-irkernel  \n",
    "インストール方法； conda install -c conda-forge r-irkernel -y  \n",
    "conda install -c r r=='バージョン' r-irkernel r-essentials -yではうまくいかない"
   ]
  }
 ],
 "metadata": {
  "kernelspec": {
   "display_name": "Python 3",
   "language": "python",
   "name": "python3"
  },
  "language_info": {
   "codemirror_mode": {
    "name": "ipython",
    "version": 3
   },
   "file_extension": ".py",
   "mimetype": "text/x-python",
   "name": "python",
   "nbconvert_exporter": "python",
   "pygments_lexer": "ipython3",
   "version": "3.7.8"
  }
 },
 "nbformat": 4,
 "nbformat_minor": 4
}
