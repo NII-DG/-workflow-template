{
 "cells": [
  {
   "cell_type": "markdown",
   "metadata": {},
   "source": [
    "# R言語Kernel追加テンプレート\n",
    "\n",
    "これはDMP情報に基づき、JupyterNotebook環境にR言語Kernelを追加するためのノートブックです。  \n",
    "システムによってパラメタライズされるため、手動での実行は非推奨です。"
   ]
  },
  {
   "cell_type": "markdown",
   "metadata": {},
   "source": [
    "## dmp.jsonから追加するR言語のバージョンを取得する"
   ]
  },
  {
   "cell_type": "markdown",
   "metadata": {},
   "source": [
    "## condaによるR言語のKernelとパッケージ群インストールを実験記録テンプレートの実験環境構成に追記する\n",
    "インストール方法参考： https://anaconda.org/conda-forge/r-irkernel\n",
    "インストール方法； conda install -c conda-forge r-irkernel -y  \n",
    "conda install -c r r=='バージョン' r-irkernel r-essentials -yではうまくいかない"
   ]
  },
  {
   "cell_type": "code",
   "execution_count": 2,
   "metadata": {},
   "outputs": [
    {
     "name": "stdout",
     "output_type": "stream",
     "text": [
      "Collecting package metadata (current_repodata.json): done\n",
      "Solving environment: / \n",
      "The environment is inconsistent, please check the package plan carefully\n",
      "The following packages are causing the inconsistency:\n",
      "\n",
      "  - defaults/linux-64::r-pbdzmq==0.3_3=r36h5455479_1\n",
      "  - conda-forge/linux-64::r-base==3.6.3=hbcea092_8\n",
      "  - conda-forge/linux-64::r-jsonlite==1.7.2=r36hcfec24a_0\n",
      "  - conda-forge/linux-64::libblas==3.9.0=11_linux64_openblas\n",
      "  - conda-forge/noarch::r-irdisplay==1.0=r36hd8ed1ab_0\n",
      "  - defaults/linux-64::r-htmltools==0.3.6=r36h29659fb_0\n",
      "  - conda-forge/linux-64::libcblas==3.9.0=11_linux64_openblas\n",
      "  - conda-forge/noarch::r-evaluate==0.14=r36h6115d3f_2\n",
      "  - conda-forge/linux-64::libopenblas==0.3.17=pthreads_h8fe5266_1\n",
      "  - defaults/linux-64::r-rcpp==1.0.1=r36h29659fb_0\n",
      "  - conda-forge/noarch::r-irkernel==1.2=r36hc72bb7e_0\n",
      "  - conda-forge/linux-64::gsl==2.6=he838d99_2\n",
      "  - defaults/linux-64::libgfortran-ng==9.3.0=ha5ec8a7_17\n",
      "  - defaults/noarch::r-crayon==1.3.4=r36h6115d3f_0\n",
      "  - conda-forge/linux-64::r-base64enc==0.1_3=r36hcfec24a_1004\n",
      "  - defaults/linux-64::r-digest==0.6.18=r36h96ca727_0\n",
      "  - defaults/linux-64::r-uuid==0.1_2=r36h96ca727_4\n",
      "  - defaults/noarch::r-repr==0.19.2=r36h6115d3f_0\n",
      "  - conda-forge/linux-64::liblapack==3.9.0=11_linux64_openblas\n",
      "done\n",
      "\n",
      "\n",
      "==> WARNING: A newer version of conda exists. <==\n",
      "  current version: 4.8.2\n",
      "  latest version: 4.11.0\n",
      "\n",
      "Please update conda by running\n",
      "\n",
      "    $ conda update -n base conda\n",
      "\n",
      "\n",
      "\n",
      "# All requested packages already installed.\n",
      "\n",
      "\n",
      "Note: you may need to restart the kernel to use updated packages.\n"
     ]
    }
   ],
   "source": [
    "conda install -c conda-forge r-irkernel -y"
   ]
  },
  {
   "cell_type": "code",
   "execution_count": null,
   "metadata": {},
   "outputs": [],
   "source": []
  }
 ],
 "metadata": {
  "kernelspec": {
   "display_name": "Python 3",
   "language": "python",
   "name": "python3"
  },
  "language_info": {
   "codemirror_mode": {
    "name": "ipython",
    "version": 3
   },
   "file_extension": ".py",
   "mimetype": "text/x-python",
   "name": "python",
   "nbconvert_exporter": "python",
   "pygments_lexer": "ipython3",
   "version": "3.7.8"
  }
 },
 "nbformat": 4,
 "nbformat_minor": 4
}
