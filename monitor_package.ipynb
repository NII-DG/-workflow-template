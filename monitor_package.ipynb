{
 "cells": [
  {
   "cell_type": "markdown",
   "metadata": {},
   "source": [
    "# 実験の再現性をモニタリングする\n",
    "\n",
    "Snakefileを実行し、実験中に得た結果と同じ結果が得られるかどうかを確認します。  \n",
    "＊この機能は実験後、**Snakefile記載済**かつ**GIN-forkに同期済**の場合に実行できます。"
   ]
  },
  {
   "cell_type": "markdown",
   "metadata": {},
   "source": [
    "## 1. 再現性モニタリングのための準備を行う"
   ]
  },
  {
   "cell_type": "markdown",
   "metadata": {},
   "source": [
    "### 1.1  ユーザー認証を行う\n",
    "\n",
    "この手順では、あなたのユーザ情報をシステムに認証させる手続きを行います。  \n",
    "以下のセルを実行し、画面の表示に沿ってGIN-forkに登録したユーザー名、パスワード、メールアドレスを入力してください。"
   ]
  },
  {
   "cell_type": "code",
   "execution_count": null,
   "metadata": {},
   "outputs": [],
   "source": [
    "%cd ~/WORKFLOWS/EX-WORKFLOWS/util\n",
    "import json\n",
    "from scripts import utils\n",
    "\n",
    "# 以下の認証の手順で用いる、\n",
    "# GINのドメイン名等をパラメタファイルから取得する\n",
    "params = {}\n",
    "with open(utils.fetch_param_file_path(), mode='r') as f:\n",
    "    params = json.load(f)"
   ]
  },
  {
   "cell_type": "code",
   "execution_count": null,
   "metadata": {},
   "outputs": [],
   "source": [
    "import os\n",
    "import time\n",
    "import getpass\n",
    "import requests\n",
    "\n",
    "from IPython.display import clear_output\n",
    "from requests.auth import HTTPBasicAuth\n",
    "from http import HTTPStatus\n",
    "\n",
    "# 正常に認証が終わるまで繰り返し\n",
    "while True:\n",
    "    name = input(\"ユーザー名：\")\n",
    "    password = getpass.getpass(\"パスワード：\")\n",
    "    email = input(\"メールアドレス：\")\n",
    "    clear_output()\n",
    "    \n",
    "    # GIN API Basic Authentication\n",
    "    # refs: https://docs.python-requests.org/en/master/user/authentication/\n",
    "    \n",
    "    # 既存のトークンがあるか確認する\n",
    "    response = requests.get(params['siblings']['ginHttp']+'api/v1/users/' + name + '/tokens', auth=(name, password))\n",
    "    tokens = response.json()\n",
    "\n",
    "    # 既存のトークンがなければ作成する\n",
    "    if len(tokens) < 1:\n",
    "        response = requests.post(params['siblings']['ginHttp']+'api/v1/users/' + name + '/tokens', data={\"name\": \"system-generated\"} ,auth=(name, password))\n",
    "\n",
    "    if response.status_code == HTTPStatus.OK or HTTPStatus.CREATED:\n",
    "        tokens = response.json()\n",
    "        clear_output()\n",
    "        print(\"認証が正常に完了しました。次の手順へお進みください。\")\n",
    "        break\n",
    "    else:\n",
    "        clear_output()\n",
    "        print(\"ユーザ名、またはパスワードが間違っています。\\n恐れ入りますがもう一度ご入力ください。\")\n",
    "\n",
    "!git config --global user.name $name\n",
    "!git config --global user.email $email"
   ]
  },
  {
   "cell_type": "markdown",
   "metadata": {},
   "source": [
    "### 1.2 データ同期のための設定をする\n",
    "\n",
    "この手順では、今の実行環境とGIN-forkのリポジトリでデータの同期をとるための準備をします。  \n",
    "以下を実行することで、システムがデータ同期の準備の手続きを行います。  "
   ]
  },
  {
   "cell_type": "code",
   "execution_count": null,
   "metadata": {},
   "outputs": [],
   "source": [
    "%%bash\n",
    "#!/bin/bash\n",
    "if [ ! -e ~/.ssh/id_ed25519 ]; then\n",
    "    # 鍵ペアが無ければ作成\n",
    "    ssh-keygen -t ed25519 -N \"\" -f ~/.ssh/id_ed25519\n",
    "fi\n",
    "\n",
    "if [ ! -d ~/.datalad/ ]; then\n",
    "    # Dataladのデータセットでなければデータセット化する\n",
    "    datalad create --force /home/jovyan\n",
    "fi"
   ]
  },
  {
   "cell_type": "code",
   "execution_count": null,
   "metadata": {},
   "outputs": [],
   "source": [
    "# 公開鍵アップロード\n",
    "# refs: https://github.com/gogs/docs-api/blob/master/Users/Public%20Keys.md#create-a-public-key\n",
    "import os\n",
    "import requests\n",
    "import time\n",
    "from http import HTTPStatus\n",
    "\n",
    "import json\n",
    "from scripts import utils\n",
    "\n",
    "pubkey = !cat ~/.ssh/id_ed25519.pub\n",
    "\n",
    "# 認証時に取得したトークンを使ってPOSTリクエスト\n",
    "response = requests.post(\n",
    "                params['siblings']['ginHttp']+'api/v1/user/keys?token=' + tokens[0]['sha1'],\n",
    "                data={\n",
    "                    \"title\": \"system-generated-\"+str(time.time()),\n",
    "                    \"key\": pubkey[0]\n",
    "                })\n",
    "msg = response.json()\n",
    "\n",
    "# コンテナを消す際にコンテナとつなぐための公開鍵も削除のため、\n",
    "# パラメータとしてGINから発行された鍵IDを保存\n",
    "if response.status_code == HTTPStatus.CREATED:\n",
    "    # params.jsonへの追記（鍵ID）\n",
    "    params['ginKeyId'] = str(response.json()['id'])\n",
    "    with open(utils.fetch_param_file_path(), mode='w') as f:\n",
    "        json.dump(params, f, indent=4)\n",
    "    print('Public key is ready.')\n",
    "elif msg['message'] == 'Key content has been used as non-deploy key':\n",
    "    print('Public key is ready before time.')"
   ]
  },
  {
   "cell_type": "code",
   "execution_count": null,
   "metadata": {},
   "outputs": [],
   "source": [
    "from datalad import api\n",
    "from IPython.display import clear_output\n",
    "\n",
    "# sibling url をsshに変更する\n",
    "%cd ~/\n",
    "http_url = !git config --get remote.origin.url\n",
    "for item in http_url:\n",
    "    http_url = item\n",
    "    ssh_url = item.replace(params['siblings']['ginHttp'], params['siblings']['ginSsh'])\n",
    "    \n",
    "# siblingsにGINを登録する\n",
    "sibling = !datalad siblings -s gin\n",
    "for item in sibling:\n",
    "    if 'unknown sibling name' in item:\n",
    "        api.siblings(action='add', name='gin', url=ssh_url)\n",
    "    else:\n",
    "        pass\n",
    "\n",
    "clear_output()\n",
    "print('SSH connection is ready.')"
   ]
  },
  {
   "cell_type": "code",
   "execution_count": null,
   "metadata": {},
   "outputs": [],
   "source": [
    "# SSHホスト（＝GIN）を信頼する設定\n",
    "# ドメイン名がハードコーディングにつき要修正\n",
    "with open('/home/jovyan/.ssh/config', mode='w') as f:\n",
    "    f.write('host dg02.dg.rcos.nii.ac.jp\\n\\tStrictHostKeyChecking no\\n\\tUserKnownHostsFile=/dev/null\\n')"
   ]
  },
  {
   "cell_type": "markdown",
   "metadata": {},
   "source": [
    "## 2. 再現性を確認したい実験パッケージを選択する\n",
    "\n",
    "以下のセルを実行して、どの実験パッケージの再現性を確認するか選択してください。  \n",
    "選択を間違えた場合は、再度このセルから実行して、選択しなおしてください。"
   ]
  },
  {
   "cell_type": "code",
   "execution_count": null,
   "metadata": {},
   "outputs": [],
   "source": [
    "import json\n",
    "from ipywidgets import Dropdown, Button\n",
    "from IPython.display import clear_output\n",
    "\n",
    "# 実験パッケージ名を取得\n",
    "with open('/home/jovyan/pipeline.json', 'r') as f:\n",
    "    pipeline = json.load(f)\n",
    "\n",
    "# 再現する実験パッケージを選択\n",
    "def on_click_callback(clicked_button: Button) -> None:\n",
    "    global package\n",
    "    package=dropdown.value\n",
    "    clear_output()\n",
    "    print(\"入力を受けつけました：\", package)\n",
    "\n",
    "dropdown = Dropdown(\n",
    "    options=pipeline,\n",
    "    description='実験パッケージ名:',\n",
    "    disabled=False,\n",
    ")\n",
    "\n",
    "button = Button(description='入力完了')\n",
    "button.on_click(on_click_callback)\n",
    "display(dropdown, button)"
   ]
  },
  {
   "cell_type": "markdown",
   "metadata": {},
   "source": [
    "## 3. 実験パッケージを再現するための準備を行う\n",
    "\n",
    "実験パッケージを再実行するための準備として以下を行います。\n",
    "- 環境構成ファイルを使用して実行環境を用意する。\n",
    "- 再実行時の出力データで実験結果が上書きされないように実験時の出力フォルダを移動する。"
   ]
  },
  {
   "cell_type": "code",
   "execution_count": null,
   "metadata": {},
   "outputs": [],
   "source": [
    "import glob\n",
    "import os\n",
    "\n",
    "# activate状態のconda環境を特定する\n",
    "env_list = !conda env list\n",
    "for env in env_list:\n",
    "    if '*' in env:\n",
    "        env = env.split(' ')\n",
    "        activate_env = env[0]\n",
    "\n",
    "# 選択された実験パッケージの環境構成ファイルでactivate_envを更新する\n",
    "os.chdir('/home/jovyan')\n",
    "package_path = glob.glob('**/'+package, recursive=True)[0]\n",
    "\n",
    "if os.path.exists('/home/jovyan/' + package_path + '/environment.yml'):\n",
    "    !conda env update --name $activate_env --file $package_path/environment.yml\n",
    "if os.path.exists('/home/jovyan/' + package_path + '/requirements.txt'):\n",
    "    !pip install -r $package_path/requirements.txt\n",
    "    \n",
    "# 出力データが上書きされないように、output_data配下をformer_output_data配下に移動する\n",
    "%cd ~/\n",
    "!datalad get $package_path\n",
    "%cd ~/\n",
    "!mkdir -p $package_path/former_output_data\n",
    "!mv $package_path/output_data/* $package_path/former_output_data/"
   ]
  },
  {
   "cell_type": "markdown",
   "metadata": {},
   "source": [
    "## 4. 実験パッケージを再実行する\n",
    "\n",
    "実験パッケージの実験を再実行します。  \n",
    "以下でエラーが起きた場合は、Snakefileと実験ソースコードが正しく記述されているかを確認してください。  \n",
    "一度、終了した実験を編集・実行する方法については[こちら](https://github.com/NII-DG/dg-manual#%E5%AE%9F%E9%A8%93%E3%81%AE%E6%B5%81%E3%82%8C)をご覧ください。"
   ]
  },
  {
   "cell_type": "code",
   "execution_count": null,
   "metadata": {},
   "outputs": [],
   "source": [
    "%cd ~/\n",
    "!snakemake --snakefile $package_path/Snakefile --cores all"
   ]
  },
  {
   "cell_type": "markdown",
   "metadata": {},
   "source": [
    "## 5. 実験パッケージのoutput_dataと再現時の実験結果が一致するかを比較する\n",
    "\n",
    "実験パッケージのoutput_dataと再現時の実験結果が一致しているかどうかを表示します。  \n",
    "表示された結果に関わらず、最後までこのワークフローを実行してGIN-forkに再現結果を反映してください。  \n",
    "「実験結果が一致しません。」と表示された場合は、このワークフローの実行完了後、[こちら](https://github.com/NII-DG/dg-manual#%E5%AE%9F%E9%A8%93%E3%81%AE%E6%B5%81%E3%82%8C)の手順に従って実験パッケージの編集や再実行を行ってください。"
   ]
  },
  {
   "cell_type": "code",
   "execution_count": null,
   "metadata": {},
   "outputs": [],
   "source": [
    "# 年月日を除いたファイル名が同じである比較対象のファイルをリストのまとめる\n",
    "import glob\n",
    "\n",
    "former_output_list = glob.glob(package_path + '/former_output_data/**', recursive=True)\n",
    "for path in former_output_list:\n",
    "    if os.path.isdir(path):\n",
    "        former_output_list.remove(path)\n",
    "\n",
    "output_list = glob.glob(package_path + '/output_data/**', recursive=True)\n",
    "for path in output_list:\n",
    "    if os.path.isdir(path):\n",
    "        output_list.remove(path)\n",
    "\n",
    "comparison_list = []\n",
    "for former_path in former_output_list:\n",
    "    for output_path in output_list:\n",
    "        if former_path[:8] == output_path[:8]:\n",
    "            list = [former_path, output_path]\n",
    "            comparison_list.append(list)"
   ]
  },
  {
   "cell_type": "code",
   "execution_count": null,
   "metadata": {},
   "outputs": [],
   "source": [
    "# ファイルを比較する\n",
    "import os\n",
    "\n",
    "os.chdir('/home/jovyan')\n",
    "isSucceeded = True\n",
    "for list in comparison_list:\n",
    "    cmd = 'diff ' + list[0] + ' ' + list[1]\n",
    "    result = !$cmd\n",
    "    if len(result) > 0:\n",
    "        isSucceeded = False\n",
    "        print(\"実験結果が一致しません。：\", list)\n",
    "    else:\n",
    "        print(\"出力データが一致しました。：\", list)"
   ]
  },
  {
   "cell_type": "code",
   "execution_count": null,
   "metadata": {},
   "outputs": [],
   "source": [
    "import os\n",
    "\n",
    "# モニタリング結果を実験パッケージのREADMEに反映する\n",
    "os.chdir('/home/jovyan/WORKFLOWS/FLOW/')\n",
    "from util.scripts import utils \n",
    "utils.reflect_monitoring_results('reproducibility', isSucceeded, '/home/jovyan/' + package_path)\n",
    "\n",
    "# 再度、実行される場合に備えて実験時の出力データを元に戻す\n",
    "!rm -rf ~/$package_path/output_data\n",
    "!mv ~/$package_path/former_output_data ~/$package_path/output_data"
   ]
  },
  {
   "cell_type": "markdown",
   "metadata": {},
   "source": [
    "## 6. 実験パッケージの再現結果をGIN-forkに反映する\n",
    "\n",
    "実験パッケージの再現性の確認結果をGIN-forkに反映します。  \n",
    "GIN-forkの各実験パッケージのREADME.mdから再現性モニタリングの結果をご確認いただけます。  "
   ]
  },
  {
   "cell_type": "code",
   "execution_count": null,
   "metadata": {},
   "outputs": [],
   "source": [
    "from IPython.display import display, Javascript\n",
    "display(Javascript('IPython.notebook.save_checkpoint();'))"
   ]
  },
  {
   "cell_type": "markdown",
   "metadata": {},
   "source": [
    "以下を実行して、`リポジトリ側の変更と競合しました。競合を解決してください。`と表示された場合は、[こちらのFAQ](http://dg02.dg.rcos.nii.ac.jp/G-Node/Info/wiki/%E3%83%AF%E3%83%BC%E3%82%AF%E3%83%95%E3%83%AD%E3%83%BC#1-1%E5%90%8C%E6%9C%9F%E5%87%A6%E7%90%86%E3%82%92%E5%AE%9F%E8%A1%8C%E3%81%99%E3%82%8B%E3%81%A8%E3%80%81%E3%83%AA%E3%83%9D%E3%82%B8%E3%83%88%E3%83%AA%E5%81%B4%E3%81%AE%E5%A4%89%E6%9B%B4%E3%81%A8%E7%AB%B6%E5%90%88%E3%81%97%E3%81%BE%E3%81%97%E3%81%9F%E3%80%82%E7%AB%B6%E5%90%88%E3%82%92%E8%A7%A3%E6%B1%BA%E3%81%97%E3%81%A6%E3%81%8F%E3%81%A0%E3%81%95%E3%81%84%E3%80%82%E3%81%A8%E8%A1%A8%E7%A4%BA%E3%81%95%E3%82%8C%E3%82%8B)を参考に競合を解決してください。"
   ]
  },
  {
   "cell_type": "code",
   "execution_count": null,
   "metadata": {},
   "outputs": [],
   "source": [
    "import os\n",
    "import papermill as pm\n",
    "from colorama import Fore\n",
    "from IPython.display import clear_output\n",
    "\n",
    "# 実験記録を上書きしない為に、このノートブックと実験パッケージのREADMEのみを書き戻す\n",
    "os.chdir('/home/jovyan')\n",
    "README_path = '/home/jovyan/' + package_path + '/README.md'\n",
    "save_path = [README_path, '/home/jovyan/WORKFLOWS/monitor_package.ipynb']\n",
    "\n",
    "try:\n",
    "    pm.execute_notebook(\n",
    "        'WORKFLOWS/FLOW/util/base_datalad_save_push.ipynb',\n",
    "        '/home/jovyan/.local/push_log.ipynb',\n",
    "        parameters = dict(SAVE_MESSAGE = 'モニタリング（再現性）', IS_RECURSIVE = False, TO_GIT = True, PATH = save_path)\n",
    "    )\n",
    "finally:\n",
    "    clear_output()\n",
    "    %store -r DATALAD_MESSAGE\n",
    "    %store -r DATALAD_ERROR\n",
    "    print('\\n' + DATALAD_MESSAGE + '\\n')\n",
    "    print(Fore.RED + DATALAD_ERROR)"
   ]
  },
  {
   "cell_type": "markdown",
   "metadata": {},
   "source": [
    "## 7. この実行環境を削除する\n",
    "\n",
    "この実行環境を停止・削除します。  \n",
    "\n",
    "### 7.1 この実行環境を確認する  \n",
    "以下のセルを実行して実行環境のサーバー名を確認して下さい。"
   ]
  },
  {
   "cell_type": "code",
   "execution_count": null,
   "metadata": {},
   "outputs": [],
   "source": [
    "import os\n",
    "print(os.environ[\"JUPYTERHUB_SERVICE_PREFIX\"].split('/')[3])"
   ]
  },
  {
   "cell_type": "markdown",
   "metadata": {},
   "source": [
    "### 7.2 コントロールパネルへ遷移し、実行環境を停止・削除する\n",
    "\n",
    "[コントロールパネル](https://jupyter.cs.rcos.nii.ac.jp/hub/home)へ遷移して、`7.1`で確認したサーバーを`stop`、`delete`ボタンをクリックして停止・削除してください。  \n",
    "※`delete`ボタンは、以下の図のように`stop`ボタンをクリックした後に表示されます。  \n",
    "![コンテナ削除キャプチャ](./EX-WORKFLOWS/images/コンテナ削除キャプチャ.png)"
   ]
  }
 ],
 "metadata": {
  "kernelspec": {
   "display_name": "Python 3.9.5 64-bit",
   "language": "python",
   "name": "python3"
  },
  "language_info": {
   "name": "python",
   "version": "3.9.5"
  },
  "orig_nbformat": 4,
  "vscode": {
   "interpreter": {
    "hash": "6a196852dad78838558c3d25678ed4fa7922e766dc7a8a519a679191ca8fa666"
   }
  }
 },
 "nbformat": 4,
 "nbformat_minor": 2
}
