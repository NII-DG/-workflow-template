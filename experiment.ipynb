{
 "cells": [
  {
   "cell_type": "markdown",
   "metadata": {},
   "source": [
    "# 実験ワークフロー機能トップページ\n",
    "\n",
    "実験中に生じる研究者のタスクを実行支援します。  \n",
    "「実験の流れとワークフロー機能の概要」を確認後、セルを実行してワークフロー図を作成してください。  \n",
    "また、個々のタスクの実行支援は、Jupyter Notebook形式で機械的に実行可能な手順書として記述されているため、柔軟に手順を修正いただけます。 "
   ]
  },
  {
   "cell_type": "markdown",
   "metadata": {},
   "source": [
    "## 実験の流れとワークフロー機能の概要\n",
    "\n",
    "以下のような実験の流れに沿って、ワークフロー機能をご利用いただけます。  \n",
    "**「0.実験ワークフロー実行準備」を最初に行った後**、必要なタスクの支援機能を実行してください。"
   ]
  },
  {
   "cell_type": "markdown",
   "metadata": {},
   "source": [
    "### 0. 実験ワークフロー実行準備\n",
    "\n",
    "この実験で実験ワークフロー機能を使うのが初めての場合は、**次のフェーズに進む前に必ず行う必要**があります。  \n",
    "「初期設定を行う」のノードのリンクをクリックして、初期設定を実行してください。\n",
    "\n",
    "初期設定完了後、このトップページに研究リポジトリのREADME.mdのリンクから遷移した場合は実行する必要がありません。  \n",
    "ただし、リンクから遷移したのではなく、実験実行環境を再構築した場合は、再度初期設定を実行してください。"
   ]
  },
  {
   "cell_type": "markdown",
   "metadata": {},
   "source": [
    "### 1. 実験準備\n",
    "\n",
    "「実験メタデータを入力する」で、実験日時や実験者などの情報を実験メタデータとして登録できます。  \n",
    "※一度の実行で十分ですが、実験メタデータの内容を更新したい場合は再度実行してください。"
   ]
  },
  {
   "cell_type": "markdown",
   "metadata": {},
   "source": [
    "### 2. 実験\n",
    "\n",
    "作成された実験パッケージにはDMPのデータセット構造(datasetStructure)に従い、実験に必要なフォルダが用意されます。<br>\n",
    "各フォルダの使用について各データセット構造で共通する条件と特有の条件があります。<br>\n",
    "下記の条件を満たすように、実験入力データの準備と実験実行コードの作成をしてください。<br>\n",
    "\n",
    "また、実験を行う際は、再現性のため「絶対パスで記述する」または「カレントディレクトリを指定する」等、**カレントディレクトリがどの位置であっても意図した通りの動作となるようにコードを記述**してください。<br>\n",
    "\n",
    "- 共通条件\n",
    "  - 実験の入力データは`input_data`フォルダに配置してください。\n",
    "  - この実験実行環境で実験を行う場合、ソースコードはPythonで記述してください。\n",
    "  - 実験結果は`output_data`フォルダに出力されるようにソースコードを記述してください。\n",
    "<p> </p>\n",
    "\n",
    "- 特有条件\n",
    "  - RCOS_with_codeを選択した場合\n",
    "    - ソースコードは`source`フォルダに配置してください。\n",
    "  <p> </p>\n",
    "\n",
    "  - RCOS_only_dataを選択した場合\n",
    "    - 特になし。共通条件に従ってください。\n",
    "  <p> </p>\n",
    "\n",
    "  - RCOS_for_parametersを選択した場合\n",
    "    - ソースコードは`source`フォルダに配置してください。 \n",
    "    - 各パラメータ実験の固有のパラメータファイルは、それぞれのparamフォルダに配置してください。\n",
    "    - パラメータファイルはユーザ任意のファイルの種類が使用できます(.txt, .yaml など)。\n",
    "    - 各実験結果はそれぞれの各パラメータ実験毎のoutput_dataフォルダに配置してください。\n",
    "  <p> </p>\n",
    "\n",
    "実験結果が得られるまで、入力データや実験実行コードの修正を繰り返してください。  \n",
    "ワークフロー機能では以下の処理を支援可能です。\n",
    "- 「実験の入力データを用意する」<br>\n",
    "  GIN-forkで公開しているリポジトリやS3のデータを入力データとして利用したい場合に活用できます。  \n",
    "  また、必要なファイルのみ実データをダウンロードすることもできます。  \n",
    "\n",
    "  ＊自分のローカルから用意したい場合は、ファイルを置きたい場所に移動した後、画面右上の白い `Upload` ボタンをクリックしてください。\n",
    "\n",
    "- 「実験を途中保存する」  \n",
    "  実験を途中保存してログを残すことができます。"
   ]
  },
  {
   "cell_type": "markdown",
   "metadata": {},
   "source": [
    "### 3. 実験データなどの整理\n",
    "他の研究者が閲覧することを考慮した上で、実験の入出力データやソースコードの記述の見直しやファイルの整理を行ってください。"
   ]
  },
  {
   "cell_type": "markdown",
   "metadata": {},
   "source": [
    "### 4. 実験を再現するためのSnakefileを記述\n",
    "\n",
    "実験パッケージの再現性を確保するために、実験内の処理の依存関係などの実験の実行方法をSnakefileに記述する必要があります。  \n",
    "[こちらのマニュアル](https://github.com/NII-DG/dg-manual/blob/main/HowToSnakemake.md)を参照しながらSnakefileを記述してください。"
   ]
  },
  {
   "cell_type": "markdown",
   "metadata": {},
   "source": [
    "### 5. 実験終了\n",
    "\n",
    "この実行環境でデータが維持されるのは最後に利用した日から30日間です。  \n",
    "実験データの整理後は必ず「実験を終了する」を実行してGIN-forkに実験データを同期させてください。  \n",
    "作成できる実行環境は10個までです。不要な実行環境は削除することを推奨します。"
   ]
  },
  {
   "cell_type": "markdown",
   "metadata": {},
   "source": [
    "## ワークフロー図を作成する\n",
    "\n",
    "以下のセルを実行してワークフロー図を作成できます。  \n",
    "すでに実行したタスクを確認したい場合は再度実行してください。"
   ]
  },
  {
   "cell_type": "code",
   "execution_count": null,
   "metadata": {},
   "outputs": [],
   "source": [
    "from IPython.display import SVG\n",
    "import os\n",
    "\n",
    "nb_utils_path   = os.path.join(os.environ['HOME'], 'WORKFLOWS/EX-WORKFLOWS/util/scripts/nb_utils.py')\n",
    "basic_path      = os.path.join(os.environ['HOME'], 'WORKFLOWS/EX-WORKFLOWS/images')\n",
    "basic_path_svg  = os.path.join(basic_path, 'notebooks.svg')\n",
    "basic_path_diag = os.path.join(basic_path, 'notebooks.diag')\n",
    "os.chdir(os.environ['HOME'])\n",
    "!python3 $nb_utils_path $basic_path_diag\n",
    "\n",
    "SVG(filename=basic_path_svg)"
   ]
  },
  {
   "cell_type": "markdown",
   "metadata": {},
   "source": [
    "ワークフロー図の左のノードはワークフローのフェーズとその流れを表しており、フェーズの右側にあるノードは個々の支援するタスクを表しています。  \n",
    "各タスクを実行するには、実行したいタスクのノードのリンクをクリックしてください。"
   ]
  },
  {
   "cell_type": "markdown",
   "metadata": {},
   "source": [
    "## GIN-forkへ戻る\n",
    "\n",
    "以下のセルを実行し、表示されるURLをクリックするとGIN-forkへアクセスできます。"
   ]
  },
  {
   "cell_type": "code",
   "execution_count": null,
   "metadata": {},
   "outputs": [],
   "source": [
    "import os\n",
    "import requests\n",
    "from IPython.display import clear_output\n",
    "\n",
    "# リモートURLを最新化する\n",
    "# APIリクエストに必要な情報を取得する\n",
    "os.chdir('/home/jovyan/WORKFLOWS/FLOW/')\n",
    "from util.scripts import utils\n",
    "params = {}\n",
    "with open(utils.fetch_param_file_path(), mode='r') as f:\n",
    "    params = json.load(f)\n",
    "os.chdir(os.environ['HOME'])\n",
    "f =  open('.repo_id', 'r')\n",
    "repo_id =f.read()\n",
    "f.close()\n",
    "# APIからリポジトリの最新のリモートURLを取得し、設定を更新する\n",
    "request_url = params['siblings']['ginHttp'] + 'api/v1/repos/search?id=' + repo_id\n",
    "res = requests.get(request_url)\n",
    "res_data = res.json()\n",
    "ssh_url = res_data[\"data\"][0][\"ssh_url\"]\n",
    "http_url = res_data[\"data\"][0][\"html_url\"] + '.git'\n",
    "!datalad siblings configure -s gin --url $ssh_url\n",
    "!datalad siblings configure -s origin --url $http_url\n",
    "clear_output()\n",
    "\n",
    "!git config --get remote.origin.url"
   ]
  }
 ],
 "metadata": {
  "kernelspec": {
   "display_name": "Python 3.9.5 64-bit",
   "language": "python",
   "name": "python3"
  },
  "language_info": {
   "codemirror_mode": {
    "name": "ipython",
    "version": 3
   },
   "file_extension": ".py",
   "mimetype": "text/x-python",
   "name": "python",
   "nbconvert_exporter": "python",
   "pygments_lexer": "ipython3",
   "version": "3.9.5"
  },
  "vscode": {
   "interpreter": {
    "hash": "6a196852dad78838558c3d25678ed4fa7922e766dc7a8a519a679191ca8fa666"
   }
  }
 },
 "nbformat": 4,
 "nbformat_minor": 4
}
