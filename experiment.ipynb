{
 "cells": [
  {
   "attachments": {},
   "cell_type": "markdown",
   "metadata": {},
   "source": [
    "# 実験フロートップページ\n",
    "\n",
    "実験中に生じる研究者のタスクを実行支援します。  \n",
    "「実験の流れとリサーチフロー機能の概要」を確認後、「フロー図を作成する」のセルを実行してフロー図を作成してください。  \n",
    "また、個々のタスクの実行支援は、Jupyter Notebook形式で機械的に実行可能な手順書として記述されているため、柔軟に手順を修正いただけます。 "
   ]
  },
  {
   "attachments": {},
   "cell_type": "markdown",
   "metadata": {},
   "source": [
    "## 実験の流れとリサーチフロー機能の概要\n",
    "\n",
    "以下のような実験の流れに沿って、リサーチフロー機能をご利用いただけます。  \n",
    "**「0.実験フロー実行準備」を最初に行った後**、必要なタスクの支援機能を実行してください。"
   ]
  },
  {
   "attachments": {},
   "cell_type": "markdown",
   "metadata": {},
   "source": [
    "### 0. 実験フロー実行準備\n",
    "\n",
    "この実験で実験フローを使うのが初めての場合は、**次のフェーズに進む前に必ず行う必要**があります。  \n",
    "「初期設定を行う」のノードのリンクをクリックして、初期設定を実行してください。\n",
    "\n",
    "初期設定完了後、このトップページに研究リポジトリのREADME.mdのリンクから遷移した場合は実行する必要がありません。  "
   ]
  },
  {
   "attachments": {},
   "cell_type": "markdown",
   "metadata": {},
   "source": [
    "### 1. 実験準備\n",
    "\n",
    "実験を行う前の準備を支援します。"
   ]
  },
  {
   "attachments": {},
   "cell_type": "markdown",
   "metadata": {},
   "source": [
    "### 2. 実験\n",
    "\n",
    "当環境で実験を実施します。\n",
    "\n",
    "リサーチフロー機能では以下の処理を支援可能です。\n",
    "- 「実験の入力データを用意する」<br>\n",
    "  GIN-forkで公開しているリポジトリやS3のデータを入力データとして利用したい場合に活用できます。  \n",
    "  ※ 自分のローカルから用意したい場合は、ファイルを置きたい場所に移動した後、画面右上の白い `Upload` ボタンをクリックしてください。\n",
    "\n",
    "- 「実験を途中保存する」  \n",
    "  実験を途中保存してログを残すことができます。"
   ]
  },
  {
   "attachments": {},
   "cell_type": "markdown",
   "metadata": {},
   "source": [
    "### 3. 実験データなどの整理\n",
    "他の研究者が閲覧することを考慮した上で、以下を行ってください。\n",
    "- 実験の説明や\n",
    "- 実験の入出力データやソースコードの記述の見直し\n",
    "- ファイルの整理"
   ]
  },
  {
   "attachments": {},
   "cell_type": "markdown",
   "metadata": {},
   "source": [
    "### 4. 実験を再現するためのSnakefileを記述\n",
    "\n",
    "実験パッケージの再現性を確保するために、実験内の処理の依存関係などの実験の実行方法をSnakefileに記述してください。"
   ]
  },
  {
   "attachments": {},
   "cell_type": "markdown",
   "metadata": {},
   "source": [
    "### 5. 実験終了\n",
    "\n",
    "この実行環境でデータが維持されるのは最後に利用した日から30日間です。  \n",
    "実験データの整理後は必ず「実験を終了する」を実行してGIN-forkに実験データを同期させてください。  \n",
    "作成できる実行環境は10個までです。不要な実行環境は削除することを推奨します。"
   ]
  },
  {
   "attachments": {},
   "cell_type": "markdown",
   "metadata": {},
   "source": [
    "## 研究リポジトリ名・実験パッケージ名を確認する  \n",
    "以下のセルを実行すると、この実験実行環境で操作する実験パッケージの名前と、実験パッケージの存在する研究リポジトリ名を確認できます。  \n",
    "**この実験実行環境では、表示された名前の実験パッケージ内の変更のみがGIN-forkへ同期されます。**  \n",
    "実験パッケージ名は初期設定後にセルを実行すると表示されます。  \n",
    "研究リポジトリ名を変更した際はセルを解凍し再実行してください。  "
   ]
  },
  {
   "cell_type": "code",
   "execution_count": null,
   "metadata": {},
   "outputs": [],
   "source": [
    "import os\n",
    "from IPython.display import display, Javascript\n",
    "os.chdir('/home/jovyan/WORKFLOWS/FLOW/')\n",
    "from util.scripts import utils\n",
    "\n",
    "%store -r\n",
    "if 'EXPERIMENT_TITLE' not in locals().keys() : EXPERIMENT_TITLE = '-'\n",
    "utils.show_name('blue', EXPERIMENT_TITLE)\n",
    "display(Javascript('IPython.notebook.save_checkpoint();'))"
   ]
  },
  {
   "attachments": {},
   "cell_type": "markdown",
   "metadata": {},
   "source": [
    "## フロー図を作成する\n",
    "\n",
    "以下のセルを実行してフロー図を作成できます。  \n",
    "すでに実行したタスクを確認したい場合は再度実行してください。"
   ]
  },
  {
   "cell_type": "code",
   "execution_count": null,
   "metadata": {},
   "outputs": [],
   "source": [
    "from IPython.display import display, SVG, Javascript\n",
    "import os\n",
    "\n",
    "nb_utils_path   = os.path.join(os.environ['HOME'], 'WORKFLOWS/EX-WORKFLOWS/util/scripts/nb_utils.py')\n",
    "basic_path      = os.path.join(os.environ['HOME'], 'WORKFLOWS/EX-WORKFLOWS/images')\n",
    "basic_path_svg  = os.path.join(basic_path, 'notebooks.svg')\n",
    "basic_path_diag = os.path.join(basic_path, 'notebooks.diag')\n",
    "os.chdir(os.environ['HOME'])\n",
    "!python3 $nb_utils_path $basic_path_diag\n",
    "\n",
    "display(SVG(filename=basic_path_svg))\n",
    "display(Javascript('IPython.notebook.save_checkpoint();'))"
   ]
  },
  {
   "attachments": {},
   "cell_type": "markdown",
   "metadata": {},
   "source": [
    "フロー図の左側にあるノードはリサーチフローのフェーズとその流れを表しており、右側にあるノードは個々の支援するタスクを表しています。  \n",
    "各タスクを実行するには、実行したいタスクのノードのリンクをクリックしてください。"
   ]
  },
  {
   "attachments": {},
   "cell_type": "markdown",
   "metadata": {},
   "source": [
    "## GIN-forkへ戻る\n",
    "\n",
    "以下のセルを実行し、表示されるURLをクリックするとGIN-forkへアクセスできます。  \n",
    "リンクをクリックして404エラーが表示された場合は、リポジトリ名が更新されている可能性があるため以下のセルを再度実行して下さい。"
   ]
  },
  {
   "cell_type": "code",
   "execution_count": null,
   "metadata": {},
   "outputs": [],
   "source": [
    "import os\n",
    "import subprocess\n",
    "from IPython.display import display, Javascript, clear_output\n",
    "\n",
    "# リモートリポジトリのURLを最新化する\n",
    "os.chdir('/home/jovyan/WORKFLOWS/FLOW/')\n",
    "from util.scripts import utils\n",
    "utils.update_repo_url()\n",
    "os.chdir(os.environ['HOME'])\n",
    "\n",
    "# GIN-forkへのアクセスリンクを表示する\n",
    "clear_output()\n",
    "print(\"以下のリンクをクリックしてGIN-forkへ遷移してください。新規タブで開きます。\\n\")\n",
    "print(subprocess.getoutput('git config --get remote.origin.url'))\n",
    "display(Javascript('IPython.notebook.save_checkpoint();'))"
   ]
  }
 ],
 "metadata": {
  "kernelspec": {
   "display_name": "Python 3.9.5 64-bit",
   "language": "python",
   "name": "python3"
  },
  "language_info": {
   "codemirror_mode": {
    "name": "ipython",
    "version": 3
   },
   "file_extension": ".py",
   "mimetype": "text/x-python",
   "name": "python",
   "nbconvert_exporter": "python",
   "pygments_lexer": "ipython3",
   "version": "3.9.5"
  },
  "vscode": {
   "interpreter": {
    "hash": "6a196852dad78838558c3d25678ed4fa7922e766dc7a8a519a679191ca8fa666"
   }
  }
 },
 "nbformat": 4,
 "nbformat_minor": 4
}
