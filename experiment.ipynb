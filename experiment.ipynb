{
 "cells": [
  {
   "cell_type": "markdown",
   "metadata": {},
   "source": [
    "# 実験ワークフロー機能トップページ\n",
    "\n",
    "実験中に生じる研究者のタスクを実行支援します。  \n",
    "「実験の流れとワークフロー機能の概要」を確認後、セルを実行してワークフロー図を作成してください。  \n",
    "また、個々のタスクの実行支援は、Jupyter Notebook形式で機械的に実行可能な手順書として記述されているため、柔軟に手順を修正いただけます。 "
   ]
  },
  {
   "cell_type": "markdown",
   "metadata": {},
   "source": [
    "## 実験の流れとワークフロー機能の概要\n",
    "\n",
    "以下のような実験の流れに沿って、ワークフロー機能をご利用いただけます。"
   ]
  },
  {
   "cell_type": "markdown",
   "metadata": {},
   "source": [
    "### 0. 実験ワークフロー実行準備\n",
    "\n",
    "この実験で実験ワークフロー機能を使うのが初めての場合は、必ず実行する必要があります。  \n",
    "2回目以降は、このトップページに研究リポジトリのREADME.mdのリンクから遷移した場合は実行する必要がありませんが、実験実行環境を再構築した場合は実行してください。"
   ]
  },
  {
   "cell_type": "markdown",
   "metadata": {},
   "source": [
    "### 1. 実験準備\n",
    "\n",
    "「実験メタデータを入力する」で、実験日時や実験者などの情報を実験メタデータとして登録できます。  \n",
    "※一度の実行で十分ですが、実験メタデータの内容を更新したい場合は再度実行してください。"
   ]
  },
  {
   "cell_type": "markdown",
   "metadata": {},
   "source": [
    "### 2. 実験\n",
    "\n",
    "作成された実験パッケージにはDMPのデータセット構造(dataseetStructure)に従い、以下のような実験に必要なフォルダが用意されます。<br>\n",
    "各フォルダの使用について各データセット構造で共通する条件と特有の条件があります。<br>\n",
    "以下の条件を満たすように、実験入力データの準備と実験実行コードの作成をしてください。<br>\n",
    "\n",
    "- 共通条件\n",
    "  - 実験の入力データは`input_data`フォルダに配置してください。\n",
    "  - ソースコードはPythonで記述してください。\n",
    "  - 実験結果は output_dataフォルダに出力されるようにソースコードを記述してください。\n",
    "<p> </p><br>\n",
    "<p> </p>\n",
    "\n",
    "- RCOS_with_codeを選択した場合\n",
    "  ```\n",
    "  experiments\n",
    "  └─────<実験パッケージ名>\n",
    "              │─────input_data\n",
    "              │─────source\n",
    "              └─────output_data\n",
    "  ```\n",
    "- RCOS_with_codeの特有条件\n",
    "  - ソースコードは`source`フォルダに配置してください。\n",
    "<p> </p><br>\n",
    "<p> </p>\n",
    "\n",
    "- RCOS_only_dataを選択した場合\n",
    "  ```\n",
    "  experiments\n",
    "  └─────<実験パッケージ名>\n",
    "              │─────input_data\n",
    "              └─────output_data\n",
    "  ```\n",
    "- RCOS_only_dataの特有条件\n",
    "  - 特になし。共通条件に従ってください。\n",
    "<p> </p><br>\n",
    "<p> </p>\n",
    "\n",
    "- RCOS_for_parametersを選択した場合\n",
    "  ```\n",
    "  experiments\n",
    "  └─────<実験パッケージ名>\n",
    "              │─────input_data\n",
    "              │─────source\n",
    "              │─────<パラメータ実験名-1>\n",
    "              │        │─────param\n",
    "              │        └─────output_data\n",
    "              │\n",
    "              └─────<パラメータ実験名-2>\n",
    "                       │─────param\n",
    "                       └─────output_data\n",
    "  ```\n",
    "- RCOS_only_dataの特有条件\n",
    "  - 各パラメータ実験の固有のパラメータファイルは、それぞれのparamフォルダに配置してください。\n",
    "  - パラメータファイルはユーザ任意のファイルの種類が使用できます(.txt, .yaml など)。\n",
    "  - 各実験結果はそれぞれの各パラメータ実験毎のoutput_dataフォルダに配置してください。\n",
    "<p> </p><br>\n",
    "<p> </p>\n",
    "\n",
    "求める実験結果が得られるまで、入力データや実験実行コードの修正を繰り返してください。  \n",
    "ワークフロー機能では以下の処理を支援可能です。\n",
    "- 「他リポジトリから実験の入力データを用意する」<br>\n",
    "データガバナンス機能の他リポジトリのデータを入力データとして利用したい場合に活用できます。  \n",
    "また、必要なファイルのみ実体を`input_data`フォルダへダウンロードすることもできます。\n",
    "- 「実験を途中保存する」  \n",
    "実験を途中保存してログを残すこともできます。"
   ]
  },
  {
   "cell_type": "markdown",
   "metadata": {},
   "source": [
    "### 3. 実験データなどの整理\n",
    "他人が閲覧することを考慮した上で、実験の入出力データやソースコードの記述の見直しやファイルの整理を行ってください。"
   ]
  },
  {
   "cell_type": "markdown",
   "metadata": {},
   "source": [
    "### 4. 実験を再現するためのSnakefileを記述\n",
    "\n",
    "実験パッケージの再現性を確保するために、実験内の処理の依存関係などの実験の実行方法をSnakefileに記述する必要があります。  \n",
    "[こちらのマニュアル](https://github.com/NII-DG/dg-manual/blob/main/HowToSnakemake.md)を参照しながらSnakefileを記述してください。"
   ]
  },
  {
   "cell_type": "markdown",
   "metadata": {},
   "source": [
    "### 5. 実験終了\n",
    "\n",
    "この実験環境でデータが維持されるのは最後に利用した日から30日間です。実験データの整理後は必ず「実験を終了する」を実行してGIN-forkに実験データを反映させてください。"
   ]
  },
  {
   "cell_type": "markdown",
   "metadata": {},
   "source": [
    "## ワークフロー図を作成する\n",
    "\n",
    "以下のセルを実行してワークフロー図を作成できます。  \n",
    "すでに実行したワークフローを確認したい場合は再度実行してください。"
   ]
  },
  {
   "cell_type": "code",
   "execution_count": null,
   "metadata": {},
   "outputs": [],
   "source": [
    "from IPython.display import SVG\n",
    "import os\n",
    "\n",
    "nb_utils_path   = os.path.join(os.environ['HOME'], 'WORKFLOWS/EX-WORKFLOWS/util/scripts/nb_utils.py')\n",
    "basic_path      = os.path.join(os.environ['HOME'], 'WORKFLOWS/EX-WORKFLOWS/images')\n",
    "basic_path_svg  = os.path.join(basic_path, 'notebooks.svg')\n",
    "basic_path_diag = os.path.join(basic_path, 'notebooks.diag')\n",
    "os.chdir(os.environ['HOME'])\n",
    "!python3 $nb_utils_path $basic_path_diag\n",
    "\n",
    "SVG(filename=basic_path_svg)"
   ]
  },
  {
   "cell_type": "markdown",
   "metadata": {},
   "source": [
    "ワークフロー図の左のノードはワークフローのフェーズとその流れを表しており、フェーズの右側にあるノードは個々の支援するタスクを表しています。  \n",
    "各タスクを実行するには、実行したいタスクのノードのリンクをクリックしてください。"
   ]
  },
  {
   "cell_type": "markdown",
   "metadata": {},
   "source": [
    "## GIN-forkへ戻る\n",
    "\n",
    "以下のセルを実行し、表示されるURLをクリックするとGIN-forkへアクセスできます。"
   ]
  },
  {
   "cell_type": "code",
   "execution_count": null,
   "metadata": {},
   "outputs": [],
   "source": [
    "!git config --get remote.origin.url"
   ]
  }
 ],
 "metadata": {
  "kernelspec": {
   "display_name": "Python 3.9.5 64-bit",
   "language": "python",
   "name": "python3"
  },
  "language_info": {
   "codemirror_mode": {
    "name": "ipython",
    "version": 3
   },
   "file_extension": ".py",
   "mimetype": "text/x-python",
   "name": "python",
   "nbconvert_exporter": "python",
   "pygments_lexer": "ipython3",
   "version": "3.9.5"
  },
  "vscode": {
   "interpreter": {
    "hash": "6a196852dad78838558c3d25678ed4fa7922e766dc7a8a519a679191ca8fa666"
   }
  }
 },
 "nbformat": 4,
 "nbformat_minor": 4
}
