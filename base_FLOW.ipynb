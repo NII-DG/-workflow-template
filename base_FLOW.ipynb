{
 "cells": [
  {
   "attachments": {},
   "cell_type": "markdown",
   "id": "b6e6fa62",
   "metadata": {},
   "source": [
    "# 研究フロートップページ\n",
    "\n",
    "研究プロセスで生じる研究者のタスクを半機械的に実行支援します。  \n",
    "リサーチフロー機能では、研究プロセスを研究準備、実験、実験終了後というフェーズに大別し、それぞれのフェーズの特徴に沿ったタスクの実行支援を用意しています。  \n",
    "また、個々のタスクの実行支援は、Jupyter Notebook形式で機械的に実行可能な手順書として記述されているため、柔軟に手順を修正いただけます。  \n",
    "\n",
    "Jupyter Notebookの操作方法については、[こちら](https://support.rdm.nii.ac.jp/usermanual/60/#jp_operation)をご覧ください。新規タブで開きます。"
   ]
  },
  {
   "attachments": {},
   "cell_type": "markdown",
   "id": "ab1b456b",
   "metadata": {},
   "source": [
    "## リサーチフロー機能の使い方\n",
    "\n",
    "**「0.リサーチフロー機能の実行準備」を最初に行った後**、研究準備フェーズ、実験フェーズ、実験終了後フェーズ、研究終了フェーズの順に必要なタスクの支援機能を実行してください。<br>\n",
    "初期セットアップを完了した後は、お好きなタイミングでリサーチフロー機能を中断可能です。<br>\n",
    "初期セットアップまで完了した状態で研究を再開する場合は、GIN-forkの研究リポジトリの実行環境タブに遷移し、研究実行環境エリアにある「移動」ボタンを押下することで「研究フロートップページ」へ遷移することができます。<br>\n",
    "「フェーズの概要」を確認後、「フロー図を表示する」のセルを実行してフロー図を表示してください。<br>"
   ]
  },
  {
   "attachments": {},
   "cell_type": "markdown",
   "id": "4b5bd2b2",
   "metadata": {},
   "source": [
    "## フェーズの概要"
   ]
  },
  {
   "attachments": {},
   "cell_type": "markdown",
   "id": "d27970ec",
   "metadata": {},
   "source": [
    "### 0. リサーチフロー機能の実行準備\n",
    "\n",
    "この研究でリサーチフロー機能を初めて利用する場合は、「初期セットアップを行う」のタスクを必ず実行してください。また、初期セットアップの完了後であっても、実行環境を再構築した場合は「初期セットアップを行う」を再度実行してください。  \n",
    "「初期セットアップを行う」のタスクへは、フロー図の表示後、「初期セットアップを行う」のノードのリンクをクリックすると移動できます。  \n",
    "\n",
    "![ノードのリンク](./images/ノードのリンク.png)\n"
   ]
  },
  {
   "attachments": {},
   "cell_type": "markdown",
   "id": "65dbb0c0",
   "metadata": {},
   "source": [
    "### 1. 研究準備\n",
    "\n",
    "研究準備フェーズでは実験前の準備を支援します。<br>\n",
    "※ 現バージョンではタスクが用意されていません。"
   ]
  },
  {
   "attachments": {},
   "cell_type": "markdown",
   "id": "7883887f",
   "metadata": {},
   "source": [
    "### 2. 実験\n",
    "\n",
    "実験フェーズでは実験の開始やメタデータの検証を支援します。  \n",
    "まずは、「実験実行環境を作成する」から実験実行環境を作成してください。  \n",
    "\n",
    "実験を新規作成する場合は、実験毎に研究リポジトリのexperimentsフォルダ配下に子関係として新しい実験パッケージが作成されます。  \n",
    "\n",
    "![研究リポジトリ](./images/研究リポジトリ.png)"
   ]
  },
  {
   "attachments": {},
   "cell_type": "markdown",
   "id": "4e056777",
   "metadata": {},
   "source": [
    "### 3. 実験終了後\n",
    "\n",
    "実験終了後フェーズでは研究成果の公開を支援します。<br>\n",
    "※ 現バージョンではタスクが用意されていません。"
   ]
  },
  {
   "attachments": {},
   "cell_type": "markdown",
   "id": "f7e2ce43",
   "metadata": {},
   "source": [
    "### 4. 研究終了\n",
    "研究結果の公開などを終えた後、この研究を終了させるフェーズです。  \n",
    "作成できる実行環境は10個までです。不要な実行環境は削除することを推奨します。"
   ]
  },
  {
   "attachments": {},
   "cell_type": "markdown",
   "id": "1d02bdd6",
   "metadata": {},
   "source": [
    "## 研究リポジトリ名を確認する  \n",
    "以下のセルを実行すると、この研究実行環境で操作する研究リポジトリ名を確認できます。  \n",
    "研究リポジトリ名を変更した際はセルを解凍し再実行してください。\n",
    "\n",
    "※非公開リポジトリでは、初期セットアップ実施前にリポジトリ名を変更した場合に最新のリポジトリ名が表示されません。  \n",
    "その場合は、初期セットアップ実施後に再実行してください。"
   ]
  },
  {
   "cell_type": "code",
   "execution_count": null,
   "id": "c25da97a",
   "metadata": {},
   "outputs": [],
   "source": [
    "import os\n",
    "from IPython.display import display, Javascript\n",
    "os.chdir('/home/jovyan/WORKFLOWS/FLOW/')\n",
    "from util.scripts import utils\n",
    "utils.show_name('green')\n",
    "display(Javascript('IPython.notebook.save_checkpoint();'))"
   ]
  }
 ],
 "metadata": {
  "kernelspec": {
   "display_name": "Python 3.9.5 64-bit",
   "language": "python",
   "name": "python3"
  },
  "language_info": {
   "codemirror_mode": {
    "name": "ipython",
    "version": 3
   },
   "file_extension": ".py",
   "mimetype": "text/x-python",
   "name": "python",
   "nbconvert_exporter": "python",
   "pygments_lexer": "ipython3",
   "version": "3.9.5"
  },
  "vscode": {
   "interpreter": {
    "hash": "6a196852dad78838558c3d25678ed4fa7922e766dc7a8a519a679191ca8fa666"
   }
  }
 },
 "nbformat": 4,
 "nbformat_minor": 5
}
