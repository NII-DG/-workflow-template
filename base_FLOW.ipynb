{
 "cells": [
  {
   "cell_type": "markdown",
   "id": "b6e6fa62",
   "metadata": {},
   "source": [
    "# 研究ワークフロー機能トップページ\n",
    "\n",
    "研究プロセスで生じる研究者のタスクを半機械的に実行支援します。  \n",
    "ワークフロー機能では、研究プロセスを研究準備、実験期、実験終了後というフェーズに大別し、それぞれのフェーズの特徴に沿ったタスクの実行支援を用意しています。  \n",
    "また、個々のタスクの実行支援は、Jupyter Notebook形式で機械的に実行可能な手順書として記述されているため、柔軟に手順を修正いただけます。 \n"
   ]
  },
  {
   "cell_type": "markdown",
   "id": "ab1b456b",
   "metadata": {},
   "source": [
    "## ワークフロー機能の使い方\n",
    "\n",
    "**「0.ワークフロー機能の実行準備」を最初に行った後**、研究準備フェーズから実験フェーズ、実験終了後フェーズの順に必要な支援機能を実行してください。  \n",
    "初期セットアップを完了した後は、お好きなタイミングでワークフロー機能を中断可能です。再度ワークフロー機能を利用する際は、GIN-fork上で研究リポジトリのREADME.mdにあるリンクをクリックしてください。  \n",
    "また、全てのワークフローを実行する必要はありません。  \n",
    "「フェーズの概要」を確認後、セルを実行してワークフロー図を作成してください。  "
   ]
  },
  {
   "cell_type": "markdown",
   "id": "4b5bd2b2",
   "metadata": {},
   "source": [
    "## フェーズの概要"
   ]
  },
  {
   "cell_type": "markdown",
   "id": "d27970ec",
   "metadata": {},
   "source": [
    "### 0. ワークフロー機能の実行準備\n",
    "\n",
    "この研究でワークフロー機能を初めて利用する場合は、**次のフェーズに進む前に必ず行う必要**があります。  \n",
    "「初期セットアップを行う」のノードのリンクをクリックして、初期セットアップを実行してください。  \n",
    "\n",
    "初期セットアップ完了後、このトップページに、研究リポジトリ配下のREADME.mdのリンクから遷移した場合は実行する必要がありません。  \n",
    "ただし、以下のmaDMP実行環境への遷移ボタンから遷移し実行環境を再構築した場合は、再度「初期セットアップを行う」を実行してください。  \n",
    "![maDMP実行ボタン](https://raw.githubusercontent.com/NII-DG/workflow-template/main/images/maDMP%E5%AE%9F%E8%A1%8C%E3%83%9C%E3%82%BF%E3%83%B3.png)"
   ]
  },
  {
   "cell_type": "markdown",
   "id": "65dbb0c0",
   "metadata": {},
   "source": [
    "### 1. 研究準備フェーズ\n",
    "\n",
    "研究準備フェーズでは実験前の準備をサポートします。"
   ]
  },
  {
   "cell_type": "markdown",
   "id": "7883887f",
   "metadata": {},
   "source": [
    "### 2. 実験フェーズ\n",
    "\n",
    "実験フェーズでは実験の開始やモニタリングなどをサポートします。  \n",
    "まずは、「実験環境を作成する」から実験実行環境を作成してください。  \n",
    "モニタリングについてはマニュアルを参考に、行いたいタスクのノードのリンクをクリックしてください。"
   ]
  },
  {
   "cell_type": "markdown",
   "id": "4e056777",
   "metadata": {},
   "source": [
    "### 3. 実験終了後フェーズ\n",
    "\n",
    "実験終了後フェーズでは研究成果の公開をサポートします。"
   ]
  },
  {
   "cell_type": "markdown",
   "id": "f7e2ce43",
   "metadata": {},
   "source": [
    "### 4.研究終了フェーズ\n",
    "研究結果の公開などを終えた後、この研究を終了させるフェーズです。  \n",
    "作成できる実行環境は10個までです。不要な実行環境は削除することを推奨します。"
   ]
  }
 ],
 "metadata": {
  "kernelspec": {
   "display_name": "Python 3.9.5 64-bit",
   "language": "python",
   "name": "python3"
  },
  "language_info": {
   "codemirror_mode": {
    "name": "ipython",
    "version": 3
   },
   "file_extension": ".py",
   "mimetype": "text/x-python",
   "name": "python",
   "nbconvert_exporter": "python",
   "pygments_lexer": "ipython3",
   "version": "3.9.5"
  },
  "vscode": {
   "interpreter": {
    "hash": "6a196852dad78838558c3d25678ed4fa7922e766dc7a8a519a679191ca8fa666"
   }
  }
 },
 "nbformat": 4,
 "nbformat_minor": 5
}
