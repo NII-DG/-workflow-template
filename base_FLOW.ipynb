{
 "cells": [
  {
   "cell_type": "markdown",
   "id": "b6e6fa62",
   "metadata": {},
   "source": [
    "# 研究ワークフロー機能トップページ\n",
    "\n",
    "研究プロセスで生じる研究者のタスクを半機械的に実行支援します。  \n",
    "ワークフロー機能では、研究プロセスを研究準備、実験期、実験終了後というフェーズに大別し、それぞれのフェーズの特徴に沿ったタスクの実行支援を用意しています。  \n",
    "また、個々のタスクの実行支援は、Jupyter Notebook形式で機械的に実行可能な手順書として記述されているため、柔軟に手順を修正いただけます。 \n"
   ]
  },
  {
   "cell_type": "markdown",
   "id": "ab1b456b",
   "metadata": {},
   "source": [
    "## ワークフロー機能の使い方\n",
    "\n",
    "**「0.ワークフロー機能の実行準備」を最初に行った後**、研究準備フェーズから実験フェーズ、実験終了後フェーズの順に必要なタスクの支援機能を実行してください。  \n",
    "初期セットアップを完了した後は、お好きなタイミングでワークフロー機能を中断可能です。再度研究ワークフローを利用する際は、GIN-fork上で研究リポジトリのREADME.mdにあるリンクをクリックしてください。  \n",
    "また、全てのタスクを実行する必要はありません。  \n",
    "「フェーズの概要」を確認後、「ワークフロー図を作成する」のセルを実行してワークフロー図を作成してください。  "
   ]
  },
  {
   "cell_type": "markdown",
   "id": "4b5bd2b2",
   "metadata": {},
   "source": [
    "## フェーズの概要"
   ]
  },
  {
   "cell_type": "markdown",
   "id": "d27970ec",
   "metadata": {},
   "source": [
    "### 0. ワークフロー機能の実行準備\n",
    "\n",
    "この研究でワークフロー機能を初めて利用する場合は、**次のフェーズに進む前に必ず行う必要**があります。  \n",
    "ワークフロー図の作成後、「初期セットアップを行う」のノードのリンクをクリックして、初期セットアップを実行してください。  \n",
    "\n",
    "<img src=\"./images/ノードのリンク.png\" width=60%>\n",
    "\n",
    "初期セットアップ完了後、このトップページに、研究リポジトリ配下のREADME.mdのリンクから遷移した場合は実行する必要がありません。  \n",
    "ただし、以下のmaDMP実行環境への遷移ボタンから遷移し実行環境を再構築した場合は、再度「初期セットアップを行う」を実行してください。  \n",
    "<img src=\"./images/maDMP実行ボタン.png\" width=200>"
   ]
  },
  {
   "cell_type": "markdown",
   "id": "65dbb0c0",
   "metadata": {},
   "source": [
    "### 1. 研究準備フェーズ\n",
    "\n",
    "研究準備フェーズでは実験前の準備をサポートします。"
   ]
  },
  {
   "cell_type": "markdown",
   "id": "7883887f",
   "metadata": {},
   "source": [
    "### 2. 実験フェーズ\n",
    "\n",
    "実験フェーズでは実験の開始やモニタリングなどをサポートします。  \n",
    "まずは、「実験環境を作成する」から実験実行環境を作成してください。  \n",
    "モニタリングについてはマニュアルを参考に、行いたいタスクのノードのリンクをクリックしてください。  \n",
    "\n",
    "実験を新規作成する場合は、実験毎に研究リポジトリのexperimentsフォルダ配下に子関係として新しい実験パッケージが作成されます。  \n",
    "<img src=\"./images/研究リポジトリ.png\">"
   ]
  },
  {
   "cell_type": "markdown",
   "id": "4e056777",
   "metadata": {},
   "source": [
    "### 3. 実験終了後フェーズ\n",
    "\n",
    "実験終了後フェーズでは研究成果の公開をサポートします。"
   ]
  },
  {
   "cell_type": "markdown",
   "id": "f7e2ce43",
   "metadata": {},
   "source": [
    "### 4. 研究終了フェーズ\n",
    "研究結果の公開などを終えた後、この研究を終了させるフェーズです。  \n",
    "作成できる実行環境は10個までです。不要な実行環境は削除することを推奨します。"
   ]
  },
  {
   "cell_type": "markdown",
   "id": "1d02bdd6",
   "metadata": {},
   "source": [
    "## 研究リポジトリ名を確認する  \n",
    "以下のセルを実行すると、この研究実行環境で操作する研究リポジトリ名を確認できます。  \n",
    "研究リポジトリ名を変更した際はセルを解凍し再実行してください。  "
   ]
  },
  {
   "cell_type": "code",
   "execution_count": null,
   "id": "c25da97a",
   "metadata": {},
   "outputs": [],
   "source": [
    "import os\n",
    "from IPython.display import display, Javascript\n",
    "os.chdir('/home/jovyan/WORKFLOWS/FLOW/')\n",
    "from util.scripts import utils\n",
    "utils.show_name('green')\n",
    "display(Javascript('IPython.notebook.save_checkpoint();'))"
   ]
  }
 ],
 "metadata": {
  "kernelspec": {
   "display_name": "Python 3.9.5 64-bit",
   "language": "python",
   "name": "python3"
  },
  "language_info": {
   "codemirror_mode": {
    "name": "ipython",
    "version": 3
   },
   "file_extension": ".py",
   "mimetype": "text/x-python",
   "name": "python",
   "nbconvert_exporter": "python",
   "pygments_lexer": "ipython3",
   "version": "3.9.5"
  },
  "vscode": {
   "interpreter": {
    "hash": "6a196852dad78838558c3d25678ed4fa7922e766dc7a8a519a679191ca8fa666"
   }
  }
 },
 "nbformat": 4,
 "nbformat_minor": 5
}
